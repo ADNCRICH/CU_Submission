{
 "cells": [
  {
   "cell_type": "markdown",
   "metadata": {},
   "source": [
    "# Exercise 1"
   ]
  },
  {
   "cell_type": "code",
   "execution_count": 3,
   "metadata": {},
   "outputs": [],
   "source": [
    "import hashlib\n",
    "import time\n",
    "import random\n",
    "import string"
   ]
  },
  {
   "cell_type": "code",
   "execution_count": 2,
   "metadata": {},
   "outputs": [],
   "source": [
    "# !wget https://raw.githubusercontent.com/danielmiessler/SecLists/master/Passwords/Common-Credentials/10k-most-common.txt"
   ]
  },
  {
   "cell_type": "code",
   "execution_count": 1,
   "metadata": {},
   "outputs": [
    {
     "name": "stdout",
     "output_type": "stream",
     "text": [
      "['password', '123456', '12345678', '1234', 'qwerty', '12345', 'dragon', 'pussy', 'baseball', 'football', 'letmein', 'monkey', '696969', 'abc123', 'mustang', 'michael', 'shadow', 'master', 'jennifer', '111111']\n"
     ]
    }
   ],
   "source": [
    "with open('10k-most-common.txt') as f:\n",
    "    passwords = f.read().split()\n",
    "\n",
    "print(passwords[:20])"
   ]
  },
  {
   "cell_type": "code",
   "execution_count": 4,
   "metadata": {},
   "outputs": [
    {
     "name": "stdout",
     "output_type": "stream",
     "text": [
      "5f4dcc3b5aa765d61d8327deb882cf99\n",
      "46fa3b56c660faff420190c18c98a56b\n",
      "5f4dcc3b5aa765d61d8327deb882cf99\n"
     ]
    }
   ],
   "source": [
    "\n",
    "m=hashlib.md5(b\"password\").hexdigest()\n",
    "print(m)\n",
    "m=hashlib.md5(b\"Chulalongkorn\").hexdigest()\n",
    "print(m)\n",
    "685396\n",
    "m=hashlib.md5(passwords[0].encode()).hexdigest()\n",
    "print(m)\n",
    "\n",
    "finding = \"d54cc1fe76f5186380a0939d2fc1723c44e8a5f7\"\n",
    "ch = False"
   ]
  },
  {
   "cell_type": "code",
   "execution_count": 5,
   "metadata": {},
   "outputs": [],
   "source": [
    "def play(idx, st, now):\n",
    "\n",
    "    if len(passwords[idx]) == st:\n",
    "        # print(now)\n",
    "        k = now.encode()\n",
    "        m = hashlib.md5(k).hexdigest()\n",
    "        if m == finding:\n",
    "            print(\"found :\", now)\n",
    "            return True\n",
    "        m = hashlib.sha1(k).hexdigest()\n",
    "        if m == finding:\n",
    "            print(\"found :\", now)\n",
    "            return True\n",
    "        return False\n",
    "    sub = [['o', '0'], ['l', 'i', '1']]\n",
    "    key = passwords[idx][st].lower()\n",
    "    # play(idx, st + 1, now + key)\n",
    "    chh = True\n",
    "    ch = False\n",
    "    for i in sub:\n",
    "        if key in i:\n",
    "            chh = False\n",
    "            for x in i:\n",
    "                ch = ch | play(idx, st + 1, now + x)\n",
    "                if x.isalpha():\n",
    "                    ch = ch | play(idx, st + 1, now + x.upper())\n",
    "    if chh:\n",
    "        ch = ch | play(idx, st + 1, now + key)\n",
    "        if key.isalpha():\n",
    "            ch = ch | play(idx, st + 1, now + key.upper())\n",
    "    \n",
    "    return ch\n",
    "\n",
    "    "
   ]
  },
  {
   "cell_type": "code",
   "execution_count": 6,
   "metadata": {},
   "outputs": [
    {
     "name": "stdout",
     "output_type": "stream",
     "text": [
      "found : ThaiLanD\n"
     ]
    }
   ],
   "source": [
    "for i in range(len(passwords)):\n",
    "    if play(i, 0, \"\"):\n",
    "        break"
   ]
  },
  {
   "cell_type": "markdown",
   "metadata": {},
   "source": [
    "`Answer: ThaiLanD`"
   ]
  },
  {
   "cell_type": "markdown",
   "metadata": {},
   "source": [
    "# Exercise 2"
   ]
  },
  {
   "cell_type": "code",
   "execution_count": 5,
   "metadata": {},
   "outputs": [
    {
     "name": "stdout",
     "output_type": "stream",
     "text": [
      "95 !\"#$%&'()*+,-./:;<=>?@[\\]^_`{|}~abcdefghijklmnopqrstuvwxyzABCDEFGHIJKLMNOPQRSTUVWXYZ0123456789 \n"
     ]
    }
   ],
   "source": [
    "gen = string.punctuation + string.ascii_letters + string.digits + \" \"\n",
    "passwords = []\n",
    "for i in range(1, 1024+1):\n",
    "    for k in range(100):\n",
    "        passwords.append(''.join(random.choices(gen, k=i)))\n",
    "# print(passwords)\n",
    "print(len(gen), gen)\n",
    "# print(len(passwords))"
   ]
  },
  {
   "cell_type": "code",
   "execution_count": 6,
   "metadata": {},
   "outputs": [
    {
     "name": "stdout",
     "output_type": "stream",
     "text": [
      "1024\n"
     ]
    }
   ],
   "source": [
    "ma = 0\n",
    "for i in passwords:\n",
    "    ma = max(ma, len(i))\n",
    "print(ma)\n",
    "aa = [0.0 for i in range(1, ma + 2)]\n",
    "cc = [0 for i in range(1, ma + 2)]\n",
    "tt = [-1 for i in range(1, ma + 2)]"
   ]
  },
  {
   "cell_type": "code",
   "execution_count": 9,
   "metadata": {},
   "outputs": [],
   "source": [
    "a = []\n",
    "t = 0.0\n",
    "def play2(idx, st, now):\n",
    "    global t, aa, cc\n",
    "    if len(passwords[idx]) == st:\n",
    "        # print(now)\n",
    "        k = now.encode()\n",
    "        stt = time.time()\n",
    "        m = hashlib.sha1(k).hexdigest()\n",
    "        # n = hashlib.md5(k).hexdigest()\n",
    "        edt = time.time()\n",
    "        t += edt - stt\n",
    "        # print(m, now)\n",
    "        a.append((m, now))\n",
    "        aa[st] += edt - stt\n",
    "        cc[st] += 1\n",
    "        # a.append((n, now))\n",
    "        return\n",
    "\n",
    "    sub = [['o', '0'], ['l', 'i', '1']]\n",
    "    key = passwords[idx][st].lower()\n",
    "    chh = True\n",
    "\n",
    "    for i in sub:\n",
    "        if key in i:\n",
    "            chh = False\n",
    "            for x in i:\n",
    "                play2(idx, st + 1, now + x)\n",
    "                if x.isalpha():\n",
    "                    play2(idx, st + 1, now + x.upper())\n",
    "    if chh:\n",
    "        play2(idx, st + 1, now + key)\n",
    "        if key.isalpha():\n",
    "            play2(idx, st + 1, now + key.upper())\n",
    "\n",
    "    # play2(idx, st + 1, now + key)\n",
    "\n",
    "    return\n",
    "\n",
    "st = time.time()\n",
    "for i in range(len(passwords)):\n",
    "    play2(i, 0, \"\")\n",
    "ed = time.time()"
   ]
  },
  {
   "cell_type": "code",
   "execution_count": 56,
   "metadata": {},
   "outputs": [
    {
     "name": "stdout",
     "output_type": "stream",
     "text": [
      "total : 13685396 items\n",
      "total create time : 9.084963321685791 sec\n"
     ]
    }
   ],
   "source": [
    "print(\"total :\", len(a), \"items\")\n",
    "print(\"total create time :\", ed - st, \"sec\")"
   ]
  },
  {
   "cell_type": "markdown",
   "metadata": {},
   "source": [
    "`time for create is 9.08 sec and table size is 13685396 items`"
   ]
  },
  {
   "cell_type": "markdown",
   "metadata": {},
   "source": [
    "# Exercise 3"
   ]
  },
  {
   "cell_type": "code",
   "execution_count": 85,
   "metadata": {},
   "outputs": [
    {
     "name": "stdout",
     "output_type": "stream",
     "text": [
      "total hash time : 4.120308876037598 sec\n",
      "Avg time per hash : 301.0734125660374 ns\n"
     ]
    }
   ],
   "source": [
    "print(\"total hash time :\", t, \"sec\")\n",
    "print(\"Avg time per hash :\", t*1e9/len(a), \"ns\")"
   ]
  },
  {
   "cell_type": "code",
   "execution_count": 11,
   "metadata": {},
   "outputs": [
    {
     "name": "stdout",
     "output_type": "stream",
     "text": [
      "1 bits hashing time : 372.5290298461914\n",
      "2 bits hashing time : 295.3001690394987\n",
      "3 bits hashing time : 289.87061288943767\n",
      "4 bits hashing time : 307.4284098386072\n",
      "5 bits hashing time : 331.56659942756085\n",
      "6 bits hashing time : 305.86765579963486\n",
      "7 bits hashing time : 312.49142980390104\n",
      "8 bits hashing time : 306.7078358803413\n",
      "9 bits hashing time : 308.4545423509632\n",
      "10 bits hashing time : 310.85887757858427\n",
      "11 bits hashing time : 298.9226400782249\n",
      "12 bits hashing time : 309.92735852039556\n",
      "13 bits hashing time : 316.94496781073957\n",
      "14 bits hashing time : 307.5193174685965\n",
      "15 bits hashing time : 308.34816550971254\n",
      "16 bits hashing time : 306.10030844476637\n",
      "17 bits hashing time : 305.9885338469166\n",
      "18 bits hashing time : 308.1738415599718\n",
      "19 bits hashing time : 294.2466165049216\n",
      "20 bits hashing time : 306.9092073988106\n",
      "21 bits hashing time : 321.8650817871094\n",
      "22 bits hashing time : 302.7915954589844\n",
      "23 bits hashing time : 295.6390380859375\n",
      "24 bits hashing time : 326.6334533691406\n",
      "25 bits hashing time : 302.7915954589844\n",
      "26 bits hashing time : 314.7125244140625\n",
      "27 bits hashing time : 333.7860107421875\n",
      "28 bits hashing time : 345.7069396972656\n",
      "29 bits hashing time : 369.5487976074219\n",
      "30 bits hashing time : 340.9385681152344\n",
      "31 bits hashing time : 348.09112548828125\n",
      "32 bits hashing time : 345.7069396972656\n"
     ]
    }
   ],
   "source": [
    "# for i in range(len(aa)):\n",
    "for i in range(1, 33):\n",
    "    if cc[i] != 0:\n",
    "        tt[i] = aa[i] * 1e9 / cc[i]\n",
    "    print(i, \"bits hashing time :\",  tt[i])\n",
    "# print(tt)"
   ]
  },
  {
   "cell_type": "markdown",
   "metadata": {},
   "source": [
    "`For not above 32 bytes hashing, it's take nearly time for sha1 hashing from the experiment. For 13685396 items take 4.12 secs for hashing which is around 301 ns per hash. (I use 4.12 which is only hashing time because python has too many overheads and let's assume C++ has nearly 0 overheads)`"
   ]
  },
  {
   "cell_type": "markdown",
   "metadata": {},
   "source": [
    "# Exercise 4"
   ]
  },
  {
   "cell_type": "markdown",
   "metadata": {},
   "source": [
    "\\begin{align*}\n",
    "\\text{Time For Crack} = K^N \\cdot T \\\\\n",
    "&\\text{Where,} \\\\\n",
    "&\\text{K = Number of possible characters} \\\\\n",
    "&\\text{N = Length of password} \\\\\n",
    "&\\text{T = Time for each hashing}\n",
    "\\end{align*}"
   ]
  },
  {
   "cell_type": "markdown",
   "metadata": {},
   "source": [
    "# Exercise 5"
   ]
  },
  {
   "cell_type": "markdown",
   "metadata": {},
   "source": [
    "`Let's`\n",
    "- `K = 95 (26: a-z), (26: A-Z), (10: 0-9), (32: special characters), (1: space)`\n",
    "- `T = 301 ns`\n",
    "\n",
    "For `4 characters password` take 95^4 * 301 ns = `around 24.5 seconds`\n",
    "\n",
    "For `5 characters password` take 95^5 * 301 ns = `around 39 minutes`\n",
    "\n",
    "For `6 characters password` take 95^6 * 301 ns = `around 2 and a half days`\n",
    "\n",
    "For `7 characters password` take 95^7 * 301 ns = `around 8 months`\n",
    "\n",
    "For `8 characters password` take 95^8 * 301 ns = `around 63 years`\n",
    "\n",
    "For `9 characters password` take 95^9 * 301 ns = `around 6011 years`\n",
    "\n",
    "Let's say I might not change the password to the end of my life, so I can use 8 characters password or 9 characters is plus for more security."
   ]
  },
  {
   "cell_type": "markdown",
   "metadata": {},
   "source": [
    "# Exercise 6"
   ]
  },
  {
   "cell_type": "markdown",
   "metadata": {},
   "source": [
    "For each password will have corresponding salt and use it along with the password to hash. So, the hash will be different for the same password.  \n",
    "ex. `password = \"1234\"` and `salt = \"@#_@!\"` will hash to `hash(\"@#_@!1234\")`\n",
    "\n",
    "1. Password that pass to hash is now longer which harder or even impossible to crack.\n",
    "\n",
    "2. Even if the password is as same as another user, the salt will be different make rainbow table useless due to different hash for the same password."
   ]
  }
 ],
 "metadata": {
  "kernelspec": {
   "display_name": "gaussian_splatting",
   "language": "python",
   "name": "python3"
  },
  "language_info": {
   "codemirror_mode": {
    "name": "ipython",
    "version": 3
   },
   "file_extension": ".py",
   "mimetype": "text/x-python",
   "name": "python",
   "nbconvert_exporter": "python",
   "pygments_lexer": "ipython3",
   "version": "3.12.2"
  }
 },
 "nbformat": 4,
 "nbformat_minor": 2
}
