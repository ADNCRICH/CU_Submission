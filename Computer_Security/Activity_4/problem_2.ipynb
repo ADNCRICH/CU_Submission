{
 "cells": [
  {
   "cell_type": "code",
   "execution_count": 15,
   "metadata": {},
   "outputs": [
    {
     "name": "stdout",
     "output_type": "stream",
     "text": [
      "JEENO PQREF\n",
      "HELLO WORLD\n"
     ]
    }
   ],
   "source": [
    "def Vigenere(text, key, mode):\n",
    "    idx = 0\n",
    "    sign = 1 if mode == \"enc\" else -1 if mode == \"dec\" else 0\n",
    "    assert sign != 0\n",
    "    ans = \"\"\n",
    "    for i in text:\n",
    "        if i.isalpha():\n",
    "            ans += chr((ord(i.upper()) - ord('A') + sign * (ord(key[idx].upper()) - ord(\"A\"))) % 26 + ord(\"A\"))\n",
    "            idx = (idx + 1) % len(key)\n",
    "        else:\n",
    "            ans += i\n",
    "    return ans\n",
    "\n",
    "tt = \"HELLO WORLD\"\n",
    "a = Vigenere(tt, \"CAT\", \"enc\")\n",
    "b = Vigenere(a, \"CAT\", \"dec\")\n",
    "\n",
    "print(a)\n",
    "print(b)\n"
   ]
  }
 ],
 "metadata": {
  "kernelspec": {
   "display_name": "ML",
   "language": "python",
   "name": "python3"
  },
  "language_info": {
   "codemirror_mode": {
    "name": "ipython",
    "version": 3
   },
   "file_extension": ".py",
   "mimetype": "text/x-python",
   "name": "python",
   "nbconvert_exporter": "python",
   "pygments_lexer": "ipython3",
   "version": "3.12.2"
  }
 },
 "nbformat": 4,
 "nbformat_minor": 2
}
