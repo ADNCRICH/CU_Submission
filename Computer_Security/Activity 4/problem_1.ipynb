{
 "cells": [
  {
   "cell_type": "code",
   "execution_count": 2,
   "metadata": {},
   "outputs": [],
   "source": [
    "import numpy as np\n",
    "import enchant"
   ]
  },
  {
   "cell_type": "code",
   "execution_count": 3,
   "metadata": {},
   "outputs": [
    {
     "name": "stdout",
     "output_type": "stream",
     "text": [
      "P : 7\n",
      "F : 6\n",
      "O : 6\n"
     ]
    }
   ],
   "source": [
    "tx = \"PRCSOFQX FP QDR AFOPQ CZSPR LA JFPALOQSKR. QDFP FP ZK LIU BROJZK MOLTROE.\"\n",
    "tt = tx.replace(\" \", \"\").replace(\".\", \"\")\n",
    "a = [[0, i] for i in range(26)]\n",
    "for i in range(26):\n",
    "    for j in range(len(tt)):\n",
    "        if ord(tt[j]) - ord(\"A\") == i:\n",
    "            a[i][0] += 1\n",
    "a = sorted(a, key=lambda x: -x[0])\n",
    "for i in a[:3]:\n",
    "    print(chr((ord(\"A\")+i[1])), \":\", i[0])"
   ]
  },
  {
   "cell_type": "code",
   "execution_count": 4,
   "metadata": {},
   "outputs": [
    {
     "name": "stdout",
     "output_type": "stream",
     "text": [
      "SECURITY IS THE FIRST CAUSE OF MISFORTUNE. THIS IS AN OLD GERMAN PROVERB.\n"
     ]
    }
   ],
   "source": [
    "key = [\"QDR\", \"ZK\", \"FP\", \"PRCSOFQX\", \"A\", \"L\", \"J\", \"IU\", \"B\", \"MOLTROE\"]\n",
    "val = [\"THE\", \"AN\", \"IS\", \"SECURITY\", \"F\", \"O\", \"M\", \"LD\", \"G\", \"PROVERB\"]\n",
    "\n",
    "def decode(tx, key, val):\n",
    "    ans = \"\"\n",
    "    for i in tx:\n",
    "        ch = True\n",
    "        for j in range(len(key)):\n",
    "            if i in key[j]:\n",
    "                ch = False\n",
    "                # print(val[j][key[j].index(i)], end=\"\")\n",
    "                ans += val[j][key[j].index(i)]\n",
    "                break\n",
    "        if ch:\n",
    "            # print(i.lower(), end=\"\")  \n",
    "            ans += i.lower()\n",
    "    return ans\n",
    "        \n",
    "print(decode(tx, key, val))"
   ]
  },
  {
   "cell_type": "code",
   "execution_count": 5,
   "metadata": {},
   "outputs": [
    {
     "name": "stdout",
     "output_type": "stream",
     "text": [
      "1: QSDTPGRY GQ RES BGPQR DATQS MB KGQBMPRTLS. REGQ GQ AL MJV CSPKAL NPMUSPF.\n",
      "2: RTEUQHSZ HR SFT CHQRS EBURT NC LHRCNQSUMT. SFHR HR BM NKW DTQLBM OQNVTQG.\n",
      "3: SUFVRITA IS TGU DIRST FCVSU OD MISDORTVNU. TGIS IS CN OLX EURMCN PROWURH.\n",
      "4: TVGWSJUB JT UHV EJSTU GDWTV PE NJTEPSUWOV. UHJT JT DO PMY FVSNDO QSPXVSI.\n",
      "5: UWHXTKVC KU VIW FKTUV HEXUW QF OKUFQTVXPW. VIKU KU EP QNZ GWTOEP RTQYWTJ.\n",
      "6: VXIYULWD LV WJX GLUVW IFYVX RG PLVGRUWYQX. WJLV LV FQ ROA HXUPFQ SURZXUK.\n",
      "7: WYJZVMXE MW XKY HMVWX JGZWY SH QMWHSVXZRY. XKMW MW GR SPB IYVQGR TVSAYVL.\n",
      "8: XZKAWNYF NX YLZ INWXY KHAXZ TI RNXITWYASZ. YLNX NX HS TQC JZWRHS UWTBZWM.\n",
      "9: YALBXOZG OY ZMA JOXYZ LIBYA UJ SOYJUXZBTA. ZMOY OY IT URD KAXSIT VXUCAXN.\n",
      "10: ZBMCYPAH PZ ANB KPYZA MJCZB VK TPZKVYACUB. ANPZ PZ JU VSE LBYTJU WYVDBYO.\n",
      "11: ACNDZQBI QA BOC LQZAB NKDAC WL UQALWZBDVC. BOQA QA KV WTF MCZUKV XZWECZP.\n",
      "12: BDOEARCJ RB CPD MRABC OLEBD XM VRBMXACEWD. CPRB RB LW XUG NDAVLW YAXFDAQ.\n",
      "13: CEPFBSDK SC DQE NSBCD PMFCE YN WSCNYBDFXE. DQSC SC MX YVH OEBWMX ZBYGEBR.\n",
      "14: DFQGCTEL TD ERF OTCDE QNGDF ZO XTDOZCEGYF. ERTD TD NY ZWI PFCXNY ACZHFCS.\n",
      "15: EGRHDUFM UE FSG PUDEF ROHEG AP YUEPADFHZG. FSUE UE OZ AXJ QGDYOZ BDAIGDT.\n",
      "16: FHSIEVGN VF GTH QVEFG SPIFH BQ ZVFQBEGIAH. GTVF VF PA BYK RHEZPA CEBJHEU.\n",
      "17: GITJFWHO WG HUI RWFGH TQJGI CR AWGRCFHJBI. HUWG WG QB CZL SIFAQB DFCKIFV.\n",
      "18: HJUKGXIP XH IVJ SXGHI URKHJ DS BXHSDGIKCJ. IVXH XH RC DAM TJGBRC EGDLJGW.\n",
      "19: IKVLHYJQ YI JWK TYHIJ VSLIK ET CYITEHJLDK. JWYI YI SD EBN UKHCSD FHEMKHX.\n",
      "20: JLWMIZKR ZJ KXL UZIJK WTMJL FU DZJUFIKMEL. KXZJ ZJ TE FCO VLIDTE GIFNLIY.\n",
      "21: KMXNJALS AK LYM VAJKL XUNKM GV EAKVGJLNFM. LYAK AK UF GDP WMJEUF HJGOMJZ.\n",
      "22: LNYOKBMT BL MZN WBKLM YVOLN HW FBLWHKMOGN. MZBL BL VG HEQ XNKFVG IKHPNKA.\n",
      "23: MOZPLCNU CM NAO XCLMN ZWPMO IX GCMXILNPHO. NACM CM WH IFR YOLGWH JLIQOLB.\n",
      "24: NPAQMDOV DN OBP YDMNO AXQNP JY HDNYJMOQIP. OBDN DN XI JGS ZPMHXI KMJRPMC.\n",
      "25: OQBRNEPW EO PCQ ZENOP BYROQ KZ IEOZKNPRJQ. PCEO EO YJ KHT AQNIYJ LNKSQND.\n"
     ]
    }
   ],
   "source": [
    "# txx = \"ABCDEFGHIJKLMNOPQRSTUVWXYZ\"\n",
    "for i in range(1, 26):\n",
    "    print(i, end=\": \")\n",
    "    for j in tx:\n",
    "        if j == \" \" or j == \".\":\n",
    "            print(j, end=\"\")\n",
    "        else:\n",
    "            print(chr((ord(j)-ord(\"A\")+i) % 26 + ord(\"A\")), end=\"\")\n",
    "    print()"
   ]
  },
  {
   "cell_type": "code",
   "execution_count": 6,
   "metadata": {},
   "outputs": [
    {
     "name": "stdout",
     "output_type": "stream",
     "text": [
      "SECURITY IS THE FIRST CAUSE OF MISFORTUNE. THIS IS AN OLD GERMAN PROVERB.\n"
     ]
    }
   ],
   "source": [
    "print(decode(tx, \"ZECURABDFGHIJKLMNOPQSTVWXY\", \"ABCDEFGHIJKLMNOPQRSTUVWXYZ\"))"
   ]
  },
  {
   "cell_type": "code",
   "execution_count": 39,
   "metadata": {},
   "outputs": [
    {
     "name": "stdout",
     "output_type": "stream",
     "text": [
      "0\n",
      "1\n",
      "2\n",
      "3\n",
      "4\n",
      "5\n",
      "ZECURABDFGHIJKLMNOPQSTVWXY\n",
      "SECURITY IS THE FIRST CAUSE OF MISFORTUNE. THIS IS AN OLD GERMAN PROVERB.\n"
     ]
    }
   ],
   "source": [
    "import itertools\n",
    "d = enchant.Dict(\"en_US\")\n",
    "idx = [i for i in range(26)]\n",
    "base = [\"ABCDEFGHIJKLMNOPQRSTUVWXYZ\"]\n",
    "for i in range(26):\n",
    "    found = False\n",
    "    print(i)\n",
    "    for j in itertools.permutations(idx, i):\n",
    "        ch = np.full(26, True)\n",
    "        gen = \"\"\n",
    "        for k in j:\n",
    "            ch[k] = False\n",
    "            gen += chr(65 + k)\n",
    "        for j in range(26):\n",
    "            if ch[j]:\n",
    "                gen += chr(65 + j)\n",
    "        # print(f\"{i} : {gen}\")\n",
    "        ans = decode(tx, [gen], base)\n",
    "        tt = ans.replace(\".\", \"\")\n",
    "        chh = True\n",
    "        for j in tt.split():\n",
    "            if not d.check(j):\n",
    "                chh = False\n",
    "                break\n",
    "        if chh:\n",
    "            print(gen)\n",
    "            print(ans)\n",
    "            found = True\n",
    "            break\n",
    "    if found:\n",
    "        break"
   ]
  }
 ],
 "metadata": {
  "kernelspec": {
   "display_name": "multinerf",
   "language": "python",
   "name": "python3"
  },
  "language_info": {
   "codemirror_mode": {
    "name": "ipython",
    "version": 3
   },
   "file_extension": ".py",
   "mimetype": "text/x-python",
   "name": "python",
   "nbconvert_exporter": "python",
   "pygments_lexer": "ipython3",
   "version": "3.12.2"
  }
 },
 "nbformat": 4,
 "nbformat_minor": 2
}
