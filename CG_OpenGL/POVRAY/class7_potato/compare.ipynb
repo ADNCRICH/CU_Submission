{
 "cells": [
  {
   "cell_type": "code",
   "execution_count": 1,
   "metadata": {},
   "outputs": [],
   "source": [
    "import cv2\n",
    "import numpy as np"
   ]
  },
  {
   "cell_type": "code",
   "execution_count": 12,
   "metadata": {},
   "outputs": [
    {
     "name": "stdout",
     "output_type": "stream",
     "text": [
      "(1108, 1477, 3) (1108, 1477, 3)\n"
     ]
    }
   ],
   "source": [
    "gt = cv2.imread(\"./homework_gt.jpg\")\n",
    "ren = cv2.imread(\"./homework.png\")\n",
    "ren = cv2.resize(ren, (gt.shape[1], gt.shape[0]))\n",
    "\n",
    "bar = np.zeros((gt.shape[0], 30, 3), dtype=np.uint8)\n",
    "bar[...] = 255\n",
    "\n",
    "print(gt.shape, ren.shape)"
   ]
  },
  {
   "cell_type": "code",
   "execution_count": 13,
   "metadata": {},
   "outputs": [
    {
     "name": "stdout",
     "output_type": "stream",
     "text": [
      "(1108, 2984, 3)\n"
     ]
    },
    {
     "data": {
      "text/plain": [
       "True"
      ]
     },
     "execution_count": 13,
     "metadata": {},
     "output_type": "execute_result"
    }
   ],
   "source": [
    "out = np.concatenate([gt, bar, ren], axis=1)\n",
    "print(out.shape)\n",
    "\n",
    "cv2.imwrite(\"out.jpg\", out)"
   ]
  }
 ],
 "metadata": {
  "kernelspec": {
   "display_name": "CV2",
   "language": "python",
   "name": "python3"
  },
  "language_info": {
   "codemirror_mode": {
    "name": "ipython",
    "version": 3
   },
   "file_extension": ".py",
   "mimetype": "text/x-python",
   "name": "python",
   "nbconvert_exporter": "python",
   "pygments_lexer": "ipython3",
   "version": "3.11.9"
  }
 },
 "nbformat": 4,
 "nbformat_minor": 2
}
