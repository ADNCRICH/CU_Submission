{
  "cells": [
    {
      "cell_type": "markdown",
      "metadata": {
        "id": "kjRBQ9voFMYx"
      },
      "source": [
        "# Precipitation Nowcasting using Neural Networks\n",
        "\n",
        "In this exercise, you are going to build a set of deep learning models on a real world task using PyTorch. PyTorch is an open source machine learning framework based on the Torch library, used for applications such as computer vision and natural language processing, primarily developed by Facebook's AI Research lab (FAIR).\n",
        "\n",
        "## Setting up to use the gpu  \n",
        "\n",
        "Before we start, we need to change the environment of Colab to use GPU. Do so by:\n",
        "\n",
        "Runtime -> Change runtime type -> Hardware accelerator -> GPU"
      ]
    },
    {
      "cell_type": "markdown",
      "metadata": {
        "id": "aelm29BaFKuc"
      },
      "source": [
        "## Deep Neural Networks with PyTorch ##\n",
        "\n",
        "To complete this exercise, you will need to build deep learning models for precipitation nowcasting. You will build a subset of the models shown below:\n",
        "- Fully Connected (Feedforward) Neural Network\n",
        "- Two-Dimentional Convolution Neural Network (2D-CNN)\n",
        "- Recurrent Neural Network with Gated Recurrent Unit (GRU)\n",
        "\n",
        "and one more model of your choice to achieve the highest score possible.\n",
        "\n",
        "We provide the code for data cleaning and some starter code for PyTorch in this notebook but feel free to modify those parts to suit your needs. Feel free to use additional libraries (e.g. scikit-learn) as long as you have a model for each type mentioned above.\n",
        "\n",
        "This notebook assumes you have already installed PyTorch with python3 and had GPU enabled. If you run this exercise on Colab you are all set."
      ]
    },
    {
      "cell_type": "markdown",
      "metadata": {
        "id": "zt5qwVJXFKue"
      },
      "source": [
        "## Precipitation Nowcasting ##\n",
        "\n",
        "Precipitation nowcasting is the the task of predicting the amount of rainfall in a certain region given some kind of sensor data.  The term nowcasting refers to tasks that try to predict the current or near future conditions (within 6 hours).\n",
        "\n",
        "You will be given satellite images in 3 different bands covering a 5 by 5 region from different parts of Thailand. In other words, your input will be a 5x5x3 image. Your task is to predict the amount of rainfall in the center pixel. You will first do the prediction using just a simple fully-connected neural network that view each pixel as different input features.\n",
        "\n",
        "Since the your input is basically an image, we will then view the input as an image and apply CNN to do the prediction. Finally, we can also add a time component since weather prediction can benefit greatly using previous time frames. Each data point actually contain 5 time steps, so each input data point has a size of 5x5x5x3 (time x height x width x channel), and the output data has a size of 5 (time). You will use this time information when you work with RNNs.\n",
        "\n",
        "Finally, we would like to thank the Thai Meteorological Department for providing the data for this assignment."
      ]
    },
    {
      "cell_type": "code",
      "execution_count": 120,
      "metadata": {
        "id": "XdU0yrBQOQpj"
      },
      "outputs": [
        {
          "name": "stdout",
          "output_type": "stream",
          "text": [
            "Mon Mar 18 03:33:14 2024       \n",
            "+---------------------------------------------------------------------------------------+\n",
            "| NVIDIA-SMI 545.23.08              Driver Version: 545.23.08    CUDA Version: 12.3     |\n",
            "|-----------------------------------------+----------------------+----------------------+\n",
            "| GPU  Name                 Persistence-M | Bus-Id        Disp.A | Volatile Uncorr. ECC |\n",
            "| Fan  Temp   Perf          Pwr:Usage/Cap |         Memory-Usage | GPU-Util  Compute M. |\n",
            "|                                         |                      |               MIG M. |\n",
            "|=========================================+======================+======================|\n",
            "|   0  NVIDIA GeForce RTX 4080        On  | 00000000:01:00.0  On |                  N/A |\n",
            "|  0%   43C    P8              15W / 340W |   1236MiB / 16376MiB |      6%      Default |\n",
            "|                                         |                      |                  N/A |\n",
            "+-----------------------------------------+----------------------+----------------------+\n",
            "                                                                                         \n",
            "+---------------------------------------------------------------------------------------+\n",
            "| Processes:                                                                            |\n",
            "|  GPU   GI   CI        PID   Type   Process name                            GPU Memory |\n",
            "|        ID   ID                                                             Usage      |\n",
            "|=======================================================================================|\n",
            "|    0   N/A  N/A      1241      G   /usr/lib/xorg/Xorg                          146MiB |\n",
            "|    0   N/A  N/A      1481      G   /usr/bin/gnome-shell                         28MiB |\n",
            "|    0   N/A  N/A      5127      G   ...sion,SpareRendererForSitePerProcess      189MiB |\n",
            "|    0   N/A  N/A      5647      C   .../andre/anaconda3/envs/ML/bin/python      728MiB |\n",
            "|    0   N/A  N/A      5690      G   ...seed-version=20240315-130113.878000       86MiB |\n",
            "|    0   N/A  N/A      9687      G   ...,WinRetrieveSuggestionsOnlyOnDemand       35MiB |\n",
            "+---------------------------------------------------------------------------------------+\n"
          ]
        }
      ],
      "source": [
        "!nvidia-smi"
      ]
    },
    {
      "cell_type": "code",
      "execution_count": 121,
      "metadata": {
        "id": "MpV236cQtYvt"
      },
      "outputs": [],
      "source": [
        "# For summarizing and visualizing models\n",
        "# !pip install torchinfo\n",
        "# !pip install torchviz"
      ]
    },
    {
      "cell_type": "markdown",
      "metadata": {
        "id": "j5F3GHHeyc8k"
      },
      "source": [
        "## Weights and Biases\n",
        "\n",
        "[Weights and Biases](https://docs.wandb.ai/company) (wandb) is an experiment tracking tool for machine learning. It can log and visualize experiments in real time. It supports many popular ML frameworks, and obviously PyTorch is one of them. In this notebook you will learn how to log general metrics like losses, parameter distributions, and gradient distribution with wandb.\n",
        "\n",
        "To install wandb, run the cell below"
      ]
    },
    {
      "cell_type": "code",
      "execution_count": 122,
      "metadata": {
        "id": "wcyfK7eoz0Xk"
      },
      "outputs": [],
      "source": [
        "# !pip install wandb"
      ]
    },
    {
      "cell_type": "markdown",
      "metadata": {
        "id": "sl8f3SBNzzDE"
      },
      "source": [
        "## Setup\n",
        "\n",
        "1. Register [Wandb account](https://wandb.ai/login?signup=true) (and confirm your email)\n",
        "\n",
        "2. `wandb login` and copy paste the API key when prompt"
      ]
    },
    {
      "cell_type": "code",
      "execution_count": 2,
      "metadata": {
        "id": "UMIBnplmyjdH"
      },
      "outputs": [
        {
          "name": "stdout",
          "output_type": "stream",
          "text": [
            "\u001b[34m\u001b[1mwandb\u001b[0m: Appending key for api.wandb.ai to your netrc file: /home/andre/.netrc\n"
          ]
        }
      ],
      "source": [
        "!wandb login 8869490a7df76a47752a89c82e82c4fb5e20ca5d"
      ]
    },
    {
      "cell_type": "code",
      "execution_count": 1,
      "metadata": {
        "id": "BYYloecSFKuf"
      },
      "outputs": [
        {
          "data": {
            "text/plain": [
              "'2.2.1'"
            ]
          },
          "execution_count": 1,
          "metadata": {},
          "output_type": "execute_result"
        }
      ],
      "source": [
        "import os\n",
        "import numpy as np\n",
        "import pickle\n",
        "import pandas as pd\n",
        "import matplotlib.pyplot as plt\n",
        "import urllib\n",
        "import wandb\n",
        "import torch\n",
        "import torch.nn as nn\n",
        "import torch.nn.functional as F\n",
        "import torchvision.transforms as transforms\n",
        "\n",
        "from sklearn import preprocessing\n",
        "from torch.utils.data import Dataset\n",
        "from torch.utils.data import DataLoader\n",
        "from torchinfo import summary\n",
        "from tqdm.notebook import tqdm\n",
        "\n",
        "torch.__version__ # 1.10.0+cu111"
      ]
    },
    {
      "cell_type": "markdown",
      "metadata": {
        "id": "nDQFOLhM5F2k"
      },
      "source": [
        "## Loading the data\n",
        "Get the data set by going [here](https://drive.google.com/file/d/1NWR22fVVE0tO2Q5EbaPPrRKPhUem-jbw/view?usp=sharing) and click add to drive."
      ]
    },
    {
      "cell_type": "code",
      "execution_count": 125,
      "metadata": {
        "id": "WYCGn6wkF4Y5"
      },
      "outputs": [],
      "source": [
        "# from google.colab import drive\n",
        "# drive.mount('/content/gdrive/')"
      ]
    },
    {
      "cell_type": "code",
      "execution_count": 126,
      "metadata": {
        "id": "ZwSDsVaNGbKa"
      },
      "outputs": [],
      "source": [
        "# !tar -xvf './data/nowcastingHWdataset.tar.gz'\n",
        "# print(os.path.join(\"ff\",\"wd\"))"
      ]
    },
    {
      "cell_type": "markdown",
      "metadata": {
        "id": "syY5DXvFFKuj"
      },
      "source": [
        "# Data Explanation #\n",
        "\n",
        "The data is an hourly measurement of water vapor in the atmosphere, and two infrared measurements of cloud imagery on a latitude-longitude coordinate. Each measurement is illustrated below as an image. These three features are included as different channels in your input data.\n",
        "\n",
        "<img src=\"https://raw.githubusercontent.com/burin-n/pattern-recognition/master/HW4/images/wvapor.png\" width=\"200\"> <img src=\"https://raw.githubusercontent.com/burin-n/pattern-recognition/master/HW4/images/cloud1.png\" width=\"200\"> <img src=\"https://raw.githubusercontent.com/burin-n/pattern-recognition/master/HW4/images/cloud2.png\" width=\"200\">\n",
        "\n",
        "We also provide the hourly precipitation (rainfall) records in the month of June, July, August, September, and October from weather stations spreaded around the country. A 5x5 grid around each weather station at a particular time will be paired with the precipitation recorded at the corresponding station as input and output data. Finally, five adjacent timesteps are stacked into one sequence.\n",
        "\n",
        "The month of June-August are provided as training data, while the months of September and October are used as validation and test sets, respectively.\n"
      ]
    },
    {
      "cell_type": "markdown",
      "metadata": {
        "id": "Z6ieaQpHFKuk"
      },
      "source": [
        "# Reading data"
      ]
    },
    {
      "cell_type": "code",
      "execution_count": 3,
      "metadata": {
        "id": "pg0gCg-DFKul"
      },
      "outputs": [],
      "source": [
        "def read_data(months, data_dir='dataset'):\n",
        "    features = np.array([], dtype=np.float32).reshape(0,5,5,5,3)\n",
        "    labels = np.array([], dtype=np.float32).reshape(0,5)\n",
        "    for m in months:\n",
        "        filename = 'features-m{}.pk'.format(m)\n",
        "        with open(os.path.join(data_dir,filename), 'rb') as file:\n",
        "            features_temp = pickle.load(file)\n",
        "        features = np.concatenate((features, features_temp), axis=0)\n",
        "\n",
        "        filename = 'labels-m{}.pk'.format(m)\n",
        "        with open(os.path.join(data_dir,filename), 'rb') as file:\n",
        "            labels_temp = pickle.load(file)\n",
        "        labels = np.concatenate((labels, labels_temp), axis=0)\n",
        "\n",
        "    return features, labels"
      ]
    },
    {
      "cell_type": "code",
      "execution_count": 4,
      "metadata": {
        "id": "O3zFs-CXFKuo"
      },
      "outputs": [
        {
          "name": "stdout",
          "output_type": "stream",
          "text": [
            "x_train shape: (229548, 5, 5, 5, 3)\n",
            "y_train shape: (229548, 5) \n",
            "\n",
            "x_val shape: (92839, 5, 5, 5, 3)\n",
            "y_val shape: (92839, 5) \n",
            "\n",
            "x_test shape: (111715, 5, 5, 5, 3)\n",
            "y_test shape: (111715, 5)\n"
          ]
        }
      ],
      "source": [
        "# use data from month 6,7,8 as training set\n",
        "x_train, y_train = read_data(months=[6,7,8])\n",
        "\n",
        "# use data from month 9 as validation set\n",
        "x_val, y_val = read_data(months=[9])\n",
        "\n",
        "# use data from month 10 as test set\n",
        "x_test, y_test = read_data(months=[10])\n",
        "\n",
        "print('x_train shape:',x_train.shape)\n",
        "print('y_train shape:', y_train.shape, '\\n')\n",
        "print('x_val shape:',x_val.shape)\n",
        "print('y_val shape:', y_val.shape, '\\n')\n",
        "print('x_test shape:',x_test.shape)\n",
        "print('y_test shape:', y_test.shape)"
      ]
    },
    {
      "cell_type": "markdown",
      "metadata": {
        "id": "pW6GD-8-FKur"
      },
      "source": [
        "**features**\n",
        "- dim 0: number of entries\n",
        "- dim 1: number of time-steps in ascending order\n",
        "- dim 2,3: a 5x5 grid around rain-measued station\n",
        "- dim 4: water vapor and two cloud imagenaries\n",
        "\n",
        "**labels**\n",
        "- dim 0: number of entries\n",
        "- dim 1: number of precipitation for each time-step"
      ]
    },
    {
      "cell_type": "markdown",
      "metadata": {
        "id": "FnNVxatKFKuy"
      },
      "source": [
        "# Three-Layer Feedforward Neural Networks"
      ]
    },
    {
      "cell_type": "code",
      "execution_count": 5,
      "metadata": {
        "id": "OGB0Jhk3FKuz"
      },
      "outputs": [
        {
          "name": "stdout",
          "output_type": "stream",
          "text": [
            "(1147740, 75) (1147740, 1)\n",
            "(464195, 75) (464195, 1)\n",
            "(558575, 75) (558575, 1)\n"
          ]
        }
      ],
      "source": [
        "# Dataset need to be reshaped to make it suitable for feedforword model\n",
        "def preprocess_for_ff(x_train, y_train, x_val, y_val):\n",
        "    x_train_ff = x_train.reshape((-1, 5*5*3))\n",
        "    y_train_ff = y_train.reshape((-1, 1))\n",
        "    x_val_ff = x_val.reshape((-1, 5*5*3))\n",
        "    y_val_ff = y_val.reshape((-1, 1))\n",
        "    x_test_ff = x_test.reshape((-1, 5*5*3))\n",
        "    y_test_ff = y_test.reshape((-1, 1))\n",
        "\n",
        "    return x_train_ff, y_train_ff, x_val_ff, y_val_ff, x_test_ff, y_test_ff\n",
        "\n",
        "x_train_ff, y_train_ff, x_val_ff, y_val_ff, x_test_ff, y_test_ff = preprocess_for_ff(x_train, y_train, x_val, y_val)\n",
        "print(x_train_ff.shape, y_train_ff.shape)\n",
        "print(x_val_ff.shape, y_val_ff.shape)\n",
        "print(x_test_ff.shape, y_test_ff.shape)\n",
        "\n"
      ]
    },
    {
      "cell_type": "markdown",
      "metadata": {
        "id": "p77LrAbilkK7"
      },
      "source": [
        "### TODO#1\n",
        "\n",
        "Explain each line of code in the function preprocess_for_ff()\n",
        "\n",
        "**Ans:** \n",
        "1. Reduce dimension of input to be (all entries-time, all location-source). So, iteration arond fisrt dimension will give all entries recorded from all time and iteration around second dimension will give all location from all source of data.\n",
        "2. Reduce dimension of ground truth to be (all entries-time, precipitation). So, iteration arond fisrt dimension will give all entries recorded from all time and second dimension is just the precipitation (1 number).\n",
        "3. As same concept as 1. but for validation set.\n",
        "4. As same concept as 2. but for validation set.\n",
        "5. As same concept as 1. but for test set.\n",
        "6. As same concept as 2. but for test set."
      ]
    },
    {
      "cell_type": "markdown",
      "metadata": {
        "id": "1dK4x_Td1WE0"
      },
      "source": [
        "## Dataset\n",
        "\n",
        "To prepare a DataLoader in order to feed data into the model, we need to create a `torch.utils.data.Dataset` object first. (Learn more about it [here](https://pytorch.org/docs/stable/data.html#map-style-datasets))\n",
        "\n",
        "Dataset is a simple class that the DataLoader will get data from, most of its functionality comes from `__getitem__(self, index)` method, which will return a single data point (both input and label). In real world scenarios the method can do some other stuffs such as\n",
        "\n",
        "1. Load images\n",
        "\n",
        "If your input (x) are images. Oftentimes you won't be able to fit all the training images into your RAM. Thus, you should pass an array (or list) of image path into the dataloader, and the `__getitem__` will be the one who dynamically loads the actual image from the harddisk for you.\n",
        "\n",
        "2. Data Normalization\n",
        "\n",
        "Data normalization helps improve stability of training. Unnormalized data can cause gradients to explode. There are many variants of normalization, but in this notebook we will use either minmax or z-score (std) normalization. Read [this](https://developers.google.com/machine-learning/data-prep/transform/normalization) (or google) if you wish to learn more about data normalization.\n",
        "\n",
        "3. Data Augmentation\n",
        "\n",
        "In computer vision, you might want to apply small changes to the images you use in training (adjust brightness, contrast, rotation) so that the model will generalize better on unseen data. There are two kinds of augmentation: static and dynamic. Static augmentation will augment images and save to disk as a new dataset. On the other hand, rather than applying the change initially and use the same change on each image every epoch, dynamic augmentation will augment each data differently for each epoch. Note that augmentation is usually done on the CPU and you might be bounded by the CPU instead. PyTorch has a dedicated [documentation about data augmentation](https://pytorch.org/vision/master/transforms.html) if you want to know more."
      ]
    },
    {
      "cell_type": "code",
      "execution_count": 6,
      "metadata": {
        "id": "TLgje5aC1Klu"
      },
      "outputs": [],
      "source": [
        "class RainfallDatasetFF(Dataset):\n",
        "    def __init__(self, x, y, normalizer):\n",
        "        self.x = x.astype(np.float32)\n",
        "        self.y = y.astype(np.float32)\n",
        "        self.normalizer = normalizer\n",
        "        print(self.x.shape)\n",
        "        print(self.y.shape)\n",
        "\n",
        "    def __getitem__(self, index):\n",
        "        x = self.x[index] # Retrieve data\n",
        "        x = self.normalizer.transform(x.reshape(1, -1)) # Normalize\n",
        "        y = self.y[index]\n",
        "        return x, y\n",
        "\n",
        "    def __len__(self):\n",
        "        return self.x.shape[0]"
      ]
    },
    {
      "cell_type": "code",
      "execution_count": 7,
      "metadata": {
        "id": "DCKaJISBFKus"
      },
      "outputs": [],
      "source": [
        "def normalizer_std(X):\n",
        "    scaler = preprocessing.StandardScaler().fit(X)\n",
        "    return scaler\n",
        "\n",
        "def normalizer_minmax(X):\n",
        "    scaler = preprocessing.MinMaxScaler().fit(X)\n",
        "    return scaler"
      ]
    },
    {
      "cell_type": "code",
      "execution_count": 8,
      "metadata": {
        "id": "4abkl13k3TVH"
      },
      "outputs": [
        {
          "name": "stdout",
          "output_type": "stream",
          "text": [
            "(1147740, 75)\n",
            "(1147740, 1)\n",
            "(464195, 75)\n",
            "(464195, 1)\n",
            "(558575, 75)\n",
            "(558575, 1)\n"
          ]
        }
      ],
      "source": [
        "normalizer = normalizer_std(x_train_ff) # We will normalize everything based on x_train\n",
        "\n",
        "train_dataset = RainfallDatasetFF(x_train_ff, y_train_ff, normalizer)\n",
        "val_dataset = RainfallDatasetFF(x_val_ff, y_val_ff, normalizer)\n",
        "test_dataset = RainfallDatasetFF(x_test_ff, y_test_ff, normalizer)"
      ]
    },
    {
      "cell_type": "markdown",
      "metadata": {
        "id": "eewgRWXf-mJ5"
      },
      "source": [
        "## DataLoader\n",
        "\n",
        "DataLoader feeds data from our dataset into the model. We can freely customize batch size, data shuffle for each data split, and much more with DataLoader class. If you're curious about what can you do with PyTorch's DataLoader, you can check [this documentation](https://pytorch.org/docs/stable/data.html)"
      ]
    },
    {
      "cell_type": "code",
      "execution_count": 9,
      "metadata": {
        "id": "S-eNOnvf-ne3"
      },
      "outputs": [],
      "source": [
        "train_loader = DataLoader(train_dataset, batch_size=1024, shuffle=True, pin_memory=True)\n",
        "val_loader = DataLoader(val_dataset, batch_size=1024, shuffle=False, pin_memory=True)\n",
        "test_loader = DataLoader(test_dataset, batch_size=1024, shuffle=False, pin_memory=True)"
      ]
    },
    {
      "cell_type": "markdown",
      "metadata": {
        "id": "2ETMKmwesM1G"
      },
      "source": [
        "## Loss Function\n",
        "\n",
        "PyTorch has many loss functions readily available for use. We can also write our own custom loss function as well. But for now, we will use [PyTorch's built-in mean squared error loss ](https://pytorch.org/docs/stable/generated/torch.nn.MSELoss.html)"
      ]
    },
    {
      "cell_type": "code",
      "execution_count": 10,
      "metadata": {
        "id": "dE0wOzDpsOeM"
      },
      "outputs": [],
      "source": [
        "loss_fn = nn.MSELoss()"
      ]
    },
    {
      "cell_type": "markdown",
      "metadata": {
        "id": "R2XXPjgWoruT"
      },
      "source": [
        "### TODO#2\n",
        "\n",
        "Why is the loss MSE?\n",
        "\n",
        "**Ans:**\n",
        "Mean of squared error ex. x = [1, 2, 3], y = [2, 2, 3] then MSE = ((1-2)^2 + (2-2)^2 + (3-3)^2) / 3 = 0.6667"
      ]
    },
    {
      "cell_type": "markdown",
      "metadata": {
        "id": "FAJdDTn_Kj2V"
      },
      "source": [
        "## Device\n",
        "\n",
        "Unlike Tensorflow/Keras, PyTorch allows user to freely put any Tensor or objects (loss functions, models, optimizers, etc.) in CPU or GPU. By default, all objects created will be in CPU. In order to use GPU we will have to supply `device = torch.device(\"cuda\")` into the objects to move it to GPU. You will usually see the syntax like `object.to(device)` for moving CPU object to GPU, or `o = Object(..., device=device)` to create the object in the GPU."
      ]
    },
    {
      "cell_type": "code",
      "execution_count": 11,
      "metadata": {
        "id": "9nHbeRbYKk3e"
      },
      "outputs": [
        {
          "name": "stdout",
          "output_type": "stream",
          "text": [
            "cuda\n"
          ]
        }
      ],
      "source": [
        "import torch\n",
        "device = torch.device(\"cuda\" if torch.cuda.is_available() else \"cpu\")\n",
        "# device = torch.device(\"cuda\")\n",
        "print(device)"
      ]
    },
    {
      "cell_type": "markdown",
      "metadata": {
        "id": "_qNgeii7-jIS"
      },
      "source": [
        "## Model\n",
        "\n",
        "Below, the code for creating a 3-layers fully connected neural network in PyTorch is provided. Run the code and make sure you understand what you are doing. Then, report the results."
      ]
    },
    {
      "cell_type": "code",
      "execution_count": 12,
      "metadata": {
        "id": "ddS--sUaFKu3"
      },
      "outputs": [],
      "source": [
        "class FeedForwardNN(nn.Module):\n",
        "    def __init__(self, hidden_size=200):\n",
        "        super(FeedForwardNN, self).__init__()\n",
        "        self.ff1 = nn.Linear(75, hidden_size)\n",
        "        self.ff2 = nn.Linear(hidden_size, hidden_size)\n",
        "        self.ff3 = nn.Linear(hidden_size, hidden_size)\n",
        "        self.out = nn.Linear(hidden_size, 1)\n",
        "\n",
        "    def forward(self, x):\n",
        "        hd1 = F.relu(self.ff1(x))\n",
        "        hd2 = F.relu(self.ff2(hd1))\n",
        "        y = F.relu(self.ff3(hd2))\n",
        "        y = self.out(y)\n",
        "        return y.reshape(-1, 1)"
      ]
    },
    {
      "cell_type": "markdown",
      "metadata": {
        "id": "oz8m8ijkmUdU"
      },
      "source": [
        "### TODO#3\n",
        "\n",
        "What is the activation function in the final dense layer? and why? Do you think there is a better activation function for the final layer?\n",
        "\n",
        "**Ans:** Linear comcination + Bias because this is regression problem. The other choise might be ReLU because it help clipping negative value to 0 since precipitation can't be negative."
      ]
    },
    {
      "cell_type": "code",
      "execution_count": 13,
      "metadata": {
        "id": "z1RKOxNBhyb0"
      },
      "outputs": [],
      "source": [
        "# Hyperparameters and other configs\n",
        "config = {\n",
        "    'architecture': 'feedforward',\n",
        "    'lr': 0.01,\n",
        "    'hidden_size': 200,\n",
        "    'scheduler_factor': 0.2,\n",
        "    'scheduler_patience': 2,\n",
        "    'scheduler_min_lr': 1e-4,\n",
        "    'epochs': 10\n",
        "}\n",
        "\n",
        "# Model\n",
        "model_ff = FeedForwardNN(hidden_size=config['hidden_size'])\n",
        "model_ff = model_ff.to(device)\n",
        "optimizer = torch.optim.Adam(model_ff.parameters(), lr=config['lr'])\n",
        "scheduler = torch.optim.lr_scheduler.ReduceLROnPlateau(\n",
        "    optimizer,\n",
        "    'min',\n",
        "    factor=config['scheduler_factor'],\n",
        "    patience=config['scheduler_patience'],\n",
        "    min_lr=config['scheduler_min_lr']\n",
        ")"
      ]
    },
    {
      "cell_type": "code",
      "execution_count": 14,
      "metadata": {
        "id": "tCa_T56Js_gD"
      },
      "outputs": [
        {
          "data": {
            "image/svg+xml": [
              "<?xml version=\"1.0\" encoding=\"UTF-8\" standalone=\"no\"?>\n",
              "<!DOCTYPE svg PUBLIC \"-//W3C//DTD SVG 1.1//EN\"\n",
              " \"http://www.w3.org/Graphics/SVG/1.1/DTD/svg11.dtd\">\n",
              "<!-- Generated by graphviz version 2.43.0 (0)\n",
              " -->\n",
              "<!-- Title: %3 Pages: 1 -->\n",
              "<svg width=\"257pt\" height=\"886pt\"\n",
              " viewBox=\"0.00 0.00 257.27 886.00\" xmlns=\"http://www.w3.org/2000/svg\" xmlns:xlink=\"http://www.w3.org/1999/xlink\">\n",
              "<g id=\"graph0\" class=\"graph\" transform=\"scale(1.35 1.35) rotate(0) translate(4 1191)\">\n",
              "<title>%3</title>\n",
              "<polygon fill=\"white\" stroke=\"transparent\" points=\"-4,4 -4,-1191 343,-1191 343,4 -4,4\"/>\n",
              "<!-- 133962777922448 -->\n",
              "<g id=\"node1\" class=\"node\">\n",
              "<title>133962777922448</title>\n",
              "<polygon fill=\"#caff70\" stroke=\"black\" points=\"214,-31 137,-31 137,0 214,0 214,-31\"/>\n",
              "<text text-anchor=\"middle\" x=\"175.5\" y=\"-7\" font-family=\"monospace\" font-size=\"10.00\"> (1024, 1)</text>\n",
              "</g>\n",
              "<!-- 133965859751056 -->\n",
              "<g id=\"node2\" class=\"node\">\n",
              "<title>133965859751056</title>\n",
              "<polygon fill=\"lightgrey\" stroke=\"black\" points=\"171,-92 76,-92 76,-73 171,-73 171,-92\"/>\n",
              "<text text-anchor=\"middle\" x=\"123.5\" y=\"-80\" font-family=\"monospace\" font-size=\"10.00\">ViewBackward0</text>\n",
              "</g>\n",
              "<!-- 133965859751056&#45;&gt;133962777922448 -->\n",
              "<g id=\"edge39\" class=\"edge\">\n",
              "<title>133965859751056&#45;&gt;133962777922448</title>\n",
              "<path fill=\"none\" stroke=\"black\" d=\"M130.51,-72.73C137.38,-64.15 148.14,-50.69 157.42,-39.1\"/>\n",
              "<polygon fill=\"black\" stroke=\"black\" points=\"160.32,-41.08 163.83,-31.08 154.85,-36.71 160.32,-41.08\"/>\n",
              "</g>\n",
              "<!-- 133965831971664 -->\n",
              "<g id=\"node3\" class=\"node\">\n",
              "<title>133965831971664</title>\n",
              "<polygon fill=\"lightgrey\" stroke=\"black\" points=\"185,-153 90,-153 90,-134 185,-134 185,-153\"/>\n",
              "<text text-anchor=\"middle\" x=\"137.5\" y=\"-141\" font-family=\"monospace\" font-size=\"10.00\">ViewBackward0</text>\n",
              "</g>\n",
              "<!-- 133965831971664&#45;&gt;133965859751056 -->\n",
              "<g id=\"edge1\" class=\"edge\">\n",
              "<title>133965831971664&#45;&gt;133965859751056</title>\n",
              "<path fill=\"none\" stroke=\"black\" d=\"M135.43,-133.79C133.47,-125.52 130.45,-112.79 127.94,-102.21\"/>\n",
              "<polygon fill=\"black\" stroke=\"black\" points=\"131.29,-101.16 125.57,-92.24 124.48,-102.78 131.29,-101.16\"/>\n",
              "</g>\n",
              "<!-- 133965831969696 -->\n",
              "<g id=\"node4\" class=\"node\">\n",
              "<title>133965831969696</title>\n",
              "<polygon fill=\"lightgrey\" stroke=\"black\" points=\"226,-208 125,-208 125,-189 226,-189 226,-208\"/>\n",
              "<text text-anchor=\"middle\" x=\"175.5\" y=\"-196\" font-family=\"monospace\" font-size=\"10.00\">AddmmBackward0</text>\n",
              "</g>\n",
              "<!-- 133965831969696&#45;&gt;133965831971664 -->\n",
              "<g id=\"edge2\" class=\"edge\">\n",
              "<title>133965831969696&#45;&gt;133965831971664</title>\n",
              "<path fill=\"none\" stroke=\"black\" d=\"M169.23,-188.75C163.91,-181.34 156.14,-170.5 149.62,-161.41\"/>\n",
              "<polygon fill=\"black\" stroke=\"black\" points=\"152.33,-159.18 143.66,-153.09 146.64,-163.26 152.33,-159.18\"/>\n",
              "</g>\n",
              "<!-- 133962777929648 -->\n",
              "<g id=\"node41\" class=\"node\">\n",
              "<title>133962777929648</title>\n",
              "<polygon fill=\"#a2cd5a\" stroke=\"black\" points=\"266,-98 189,-98 189,-67 266,-67 266,-98\"/>\n",
              "<text text-anchor=\"middle\" x=\"227.5\" y=\"-74\" font-family=\"monospace\" font-size=\"10.00\"> (1024, 1)</text>\n",
              "</g>\n",
              "<!-- 133965831969696&#45;&gt;133962777929648 -->\n",
              "<g id=\"edge40\" class=\"edge\">\n",
              "<title>133965831969696&#45;&gt;133962777929648</title>\n",
              "<path fill=\"none\" stroke=\"black\" d=\"M179.41,-188.93C187.21,-171.83 204.95,-132.94 216.56,-107.48\"/>\n",
              "<polygon fill=\"black\" stroke=\"black\" points=\"219.86,-108.68 220.83,-98.13 213.49,-105.77 219.86,-108.68\"/>\n",
              "</g>\n",
              "<!-- 133965845137872 -->\n",
              "<g id=\"node5\" class=\"node\">\n",
              "<title>133965845137872</title>\n",
              "<polygon fill=\"lightgrey\" stroke=\"black\" points=\"110,-263 9,-263 9,-244 110,-244 110,-263\"/>\n",
              "<text text-anchor=\"middle\" x=\"59.5\" y=\"-251\" font-family=\"monospace\" font-size=\"10.00\">AccumulateGrad</text>\n",
              "</g>\n",
              "<!-- 133965845137872&#45;&gt;133965831969696 -->\n",
              "<g id=\"edge3\" class=\"edge\">\n",
              "<title>133965845137872&#45;&gt;133965831969696</title>\n",
              "<path fill=\"none\" stroke=\"black\" d=\"M78.14,-243.98C96.8,-235.46 125.75,-222.23 147.24,-212.41\"/>\n",
              "<polygon fill=\"black\" stroke=\"black\" points=\"148.88,-215.51 156.52,-208.17 145.97,-209.14 148.88,-215.51\"/>\n",
              "</g>\n",
              "<!-- 133965830048016 -->\n",
              "<g id=\"node6\" class=\"node\">\n",
              "<title>133965830048016</title>\n",
              "<polygon fill=\"lightblue\" stroke=\"black\" points=\"92,-329 27,-329 27,-299 92,-299 92,-329\"/>\n",
              "<text text-anchor=\"middle\" x=\"59.5\" y=\"-317\" font-family=\"monospace\" font-size=\"10.00\">out.bias</text>\n",
              "<text text-anchor=\"middle\" x=\"59.5\" y=\"-306\" font-family=\"monospace\" font-size=\"10.00\"> (1)</text>\n",
              "</g>\n",
              "<!-- 133965830048016&#45;&gt;133965845137872 -->\n",
              "<g id=\"edge4\" class=\"edge\">\n",
              "<title>133965830048016&#45;&gt;133965845137872</title>\n",
              "<path fill=\"none\" stroke=\"black\" d=\"M59.5,-298.84C59.5,-291.21 59.5,-281.7 59.5,-273.45\"/>\n",
              "<polygon fill=\"black\" stroke=\"black\" points=\"63,-273.27 59.5,-263.27 56,-273.27 63,-273.27\"/>\n",
              "</g>\n",
              "<!-- 133965845136336 -->\n",
              "<g id=\"node7\" class=\"node\">\n",
              "<title>133965845136336</title>\n",
              "<polygon fill=\"lightgrey\" stroke=\"black\" points=\"223,-263 128,-263 128,-244 223,-244 223,-263\"/>\n",
              "<text text-anchor=\"middle\" x=\"175.5\" y=\"-251\" font-family=\"monospace\" font-size=\"10.00\">ViewBackward0</text>\n",
              "</g>\n",
              "<!-- 133965845136336&#45;&gt;133965831969696 -->\n",
              "<g id=\"edge5\" class=\"edge\">\n",
              "<title>133965845136336&#45;&gt;133965831969696</title>\n",
              "<path fill=\"none\" stroke=\"black\" d=\"M175.5,-243.75C175.5,-236.8 175.5,-226.85 175.5,-218.13\"/>\n",
              "<polygon fill=\"black\" stroke=\"black\" points=\"179,-218.09 175.5,-208.09 172,-218.09 179,-218.09\"/>\n",
              "</g>\n",
              "<!-- 133965845136528 -->\n",
              "<g id=\"node8\" class=\"node\">\n",
              "<title>133965845136528</title>\n",
              "<polygon fill=\"lightgrey\" stroke=\"black\" points=\"220,-323.5 125,-323.5 125,-304.5 220,-304.5 220,-323.5\"/>\n",
              "<text text-anchor=\"middle\" x=\"172.5\" y=\"-311.5\" font-family=\"monospace\" font-size=\"10.00\">ReluBackward0</text>\n",
              "</g>\n",
              "<!-- 133965845136528&#45;&gt;133965845136336 -->\n",
              "<g id=\"edge6\" class=\"edge\">\n",
              "<title>133965845136528&#45;&gt;133965845136336</title>\n",
              "<path fill=\"none\" stroke=\"black\" d=\"M172.94,-304.37C173.36,-296.25 174,-283.81 174.53,-273.39\"/>\n",
              "<polygon fill=\"black\" stroke=\"black\" points=\"178.04,-273.33 175.06,-263.17 171.05,-272.97 178.04,-273.33\"/>\n",
              "</g>\n",
              "<!-- 133965851682816 -->\n",
              "<g id=\"node9\" class=\"node\">\n",
              "<title>133965851682816</title>\n",
              "<polygon fill=\"lightgrey\" stroke=\"black\" points=\"220,-389.5 125,-389.5 125,-370.5 220,-370.5 220,-389.5\"/>\n",
              "<text text-anchor=\"middle\" x=\"172.5\" y=\"-377.5\" font-family=\"monospace\" font-size=\"10.00\">ViewBackward0</text>\n",
              "</g>\n",
              "<!-- 133965851682816&#45;&gt;133965845136528 -->\n",
              "<g id=\"edge7\" class=\"edge\">\n",
              "<title>133965851682816&#45;&gt;133965845136528</title>\n",
              "<path fill=\"none\" stroke=\"black\" d=\"M172.5,-370.37C172.5,-361.16 172.5,-346.29 172.5,-334.27\"/>\n",
              "<polygon fill=\"black\" stroke=\"black\" points=\"176,-333.91 172.5,-323.91 169,-333.91 176,-333.91\"/>\n",
              "</g>\n",
              "<!-- 133965853549344 -->\n",
              "<g id=\"node10\" class=\"node\">\n",
              "<title>133965853549344</title>\n",
              "<polygon fill=\"lightgrey\" stroke=\"black\" points=\"223,-450 122,-450 122,-431 223,-431 223,-450\"/>\n",
              "<text text-anchor=\"middle\" x=\"172.5\" y=\"-438\" font-family=\"monospace\" font-size=\"10.00\">AddmmBackward0</text>\n",
              "</g>\n",
              "<!-- 133965853549344&#45;&gt;133965851682816 -->\n",
              "<g id=\"edge8\" class=\"edge\">\n",
              "<title>133965853549344&#45;&gt;133965851682816</title>\n",
              "<path fill=\"none\" stroke=\"black\" d=\"M172.5,-430.87C172.5,-422.75 172.5,-410.31 172.5,-399.89\"/>\n",
              "<polygon fill=\"black\" stroke=\"black\" points=\"176,-399.67 172.5,-389.67 169,-399.67 176,-399.67\"/>\n",
              "</g>\n",
              "<!-- 133965830112544 -->\n",
              "<g id=\"node11\" class=\"node\">\n",
              "<title>133965830112544</title>\n",
              "<polygon fill=\"lightgrey\" stroke=\"black\" points=\"107,-505 6,-505 6,-486 107,-486 107,-505\"/>\n",
              "<text text-anchor=\"middle\" x=\"56.5\" y=\"-493\" font-family=\"monospace\" font-size=\"10.00\">AccumulateGrad</text>\n",
              "</g>\n",
              "<!-- 133965830112544&#45;&gt;133965853549344 -->\n",
              "<g id=\"edge9\" class=\"edge\">\n",
              "<title>133965830112544&#45;&gt;133965853549344</title>\n",
              "<path fill=\"none\" stroke=\"black\" d=\"M75.14,-485.98C93.8,-477.46 122.75,-464.23 144.24,-454.41\"/>\n",
              "<polygon fill=\"black\" stroke=\"black\" points=\"145.88,-457.51 153.52,-450.17 142.97,-451.14 145.88,-457.51\"/>\n",
              "</g>\n",
              "<!-- 133965830047856 -->\n",
              "<g id=\"node12\" class=\"node\">\n",
              "<title>133965830047856</title>\n",
              "<polygon fill=\"lightblue\" stroke=\"black\" points=\"89,-571 24,-571 24,-541 89,-541 89,-571\"/>\n",
              "<text text-anchor=\"middle\" x=\"56.5\" y=\"-559\" font-family=\"monospace\" font-size=\"10.00\">ff3.bias</text>\n",
              "<text text-anchor=\"middle\" x=\"56.5\" y=\"-548\" font-family=\"monospace\" font-size=\"10.00\"> (200)</text>\n",
              "</g>\n",
              "<!-- 133965830047856&#45;&gt;133965830112544 -->\n",
              "<g id=\"edge10\" class=\"edge\">\n",
              "<title>133965830047856&#45;&gt;133965830112544</title>\n",
              "<path fill=\"none\" stroke=\"black\" d=\"M56.5,-540.84C56.5,-533.21 56.5,-523.7 56.5,-515.45\"/>\n",
              "<polygon fill=\"black\" stroke=\"black\" points=\"60,-515.27 56.5,-505.27 53,-515.27 60,-515.27\"/>\n",
              "</g>\n",
              "<!-- 133965830117008 -->\n",
              "<g id=\"node13\" class=\"node\">\n",
              "<title>133965830117008</title>\n",
              "<polygon fill=\"lightgrey\" stroke=\"black\" points=\"220,-505 125,-505 125,-486 220,-486 220,-505\"/>\n",
              "<text text-anchor=\"middle\" x=\"172.5\" y=\"-493\" font-family=\"monospace\" font-size=\"10.00\">ViewBackward0</text>\n",
              "</g>\n",
              "<!-- 133965830117008&#45;&gt;133965853549344 -->\n",
              "<g id=\"edge11\" class=\"edge\">\n",
              "<title>133965830117008&#45;&gt;133965853549344</title>\n",
              "<path fill=\"none\" stroke=\"black\" d=\"M172.5,-485.75C172.5,-478.8 172.5,-468.85 172.5,-460.13\"/>\n",
              "<polygon fill=\"black\" stroke=\"black\" points=\"176,-460.09 172.5,-450.09 169,-460.09 176,-460.09\"/>\n",
              "</g>\n",
              "<!-- 133965830125120 -->\n",
              "<g id=\"node14\" class=\"node\">\n",
              "<title>133965830125120</title>\n",
              "<polygon fill=\"lightgrey\" stroke=\"black\" points=\"217,-565.5 122,-565.5 122,-546.5 217,-546.5 217,-565.5\"/>\n",
              "<text text-anchor=\"middle\" x=\"169.5\" y=\"-553.5\" font-family=\"monospace\" font-size=\"10.00\">ReluBackward0</text>\n",
              "</g>\n",
              "<!-- 133965830125120&#45;&gt;133965830117008 -->\n",
              "<g id=\"edge12\" class=\"edge\">\n",
              "<title>133965830125120&#45;&gt;133965830117008</title>\n",
              "<path fill=\"none\" stroke=\"black\" d=\"M169.94,-546.37C170.36,-538.25 171,-525.81 171.53,-515.39\"/>\n",
              "<polygon fill=\"black\" stroke=\"black\" points=\"175.04,-515.33 172.06,-505.17 168.05,-514.97 175.04,-515.33\"/>\n",
              "</g>\n",
              "<!-- 133965830118352 -->\n",
              "<g id=\"node15\" class=\"node\">\n",
              "<title>133965830118352</title>\n",
              "<polygon fill=\"lightgrey\" stroke=\"black\" points=\"217,-631.5 122,-631.5 122,-612.5 217,-612.5 217,-631.5\"/>\n",
              "<text text-anchor=\"middle\" x=\"169.5\" y=\"-619.5\" font-family=\"monospace\" font-size=\"10.00\">ViewBackward0</text>\n",
              "</g>\n",
              "<!-- 133965830118352&#45;&gt;133965830125120 -->\n",
              "<g id=\"edge13\" class=\"edge\">\n",
              "<title>133965830118352&#45;&gt;133965830125120</title>\n",
              "<path fill=\"none\" stroke=\"black\" d=\"M169.5,-612.37C169.5,-603.16 169.5,-588.29 169.5,-576.27\"/>\n",
              "<polygon fill=\"black\" stroke=\"black\" points=\"173,-575.91 169.5,-565.91 166,-575.91 173,-575.91\"/>\n",
              "</g>\n",
              "<!-- 133965830126656 -->\n",
              "<g id=\"node16\" class=\"node\">\n",
              "<title>133965830126656</title>\n",
              "<polygon fill=\"lightgrey\" stroke=\"black\" points=\"220,-692 119,-692 119,-673 220,-673 220,-692\"/>\n",
              "<text text-anchor=\"middle\" x=\"169.5\" y=\"-680\" font-family=\"monospace\" font-size=\"10.00\">AddmmBackward0</text>\n",
              "</g>\n",
              "<!-- 133965830126656&#45;&gt;133965830118352 -->\n",
              "<g id=\"edge14\" class=\"edge\">\n",
              "<title>133965830126656&#45;&gt;133965830118352</title>\n",
              "<path fill=\"none\" stroke=\"black\" d=\"M169.5,-672.87C169.5,-664.75 169.5,-652.31 169.5,-641.89\"/>\n",
              "<polygon fill=\"black\" stroke=\"black\" points=\"173,-641.67 169.5,-631.67 166,-641.67 173,-641.67\"/>\n",
              "</g>\n",
              "<!-- 133965832538192 -->\n",
              "<g id=\"node17\" class=\"node\">\n",
              "<title>133965832538192</title>\n",
              "<polygon fill=\"lightgrey\" stroke=\"black\" points=\"104,-747 3,-747 3,-728 104,-728 104,-747\"/>\n",
              "<text text-anchor=\"middle\" x=\"53.5\" y=\"-735\" font-family=\"monospace\" font-size=\"10.00\">AccumulateGrad</text>\n",
              "</g>\n",
              "<!-- 133965832538192&#45;&gt;133965830126656 -->\n",
              "<g id=\"edge15\" class=\"edge\">\n",
              "<title>133965832538192&#45;&gt;133965830126656</title>\n",
              "<path fill=\"none\" stroke=\"black\" d=\"M72.14,-727.98C90.8,-719.46 119.75,-706.23 141.24,-696.41\"/>\n",
              "<polygon fill=\"black\" stroke=\"black\" points=\"142.88,-699.51 150.52,-692.17 139.97,-693.14 142.88,-699.51\"/>\n",
              "</g>\n",
              "<!-- 133965830047696 -->\n",
              "<g id=\"node18\" class=\"node\">\n",
              "<title>133965830047696</title>\n",
              "<polygon fill=\"lightblue\" stroke=\"black\" points=\"86,-813 21,-813 21,-783 86,-783 86,-813\"/>\n",
              "<text text-anchor=\"middle\" x=\"53.5\" y=\"-801\" font-family=\"monospace\" font-size=\"10.00\">ff2.bias</text>\n",
              "<text text-anchor=\"middle\" x=\"53.5\" y=\"-790\" font-family=\"monospace\" font-size=\"10.00\"> (200)</text>\n",
              "</g>\n",
              "<!-- 133965830047696&#45;&gt;133965832538192 -->\n",
              "<g id=\"edge16\" class=\"edge\">\n",
              "<title>133965830047696&#45;&gt;133965832538192</title>\n",
              "<path fill=\"none\" stroke=\"black\" d=\"M53.5,-782.84C53.5,-775.21 53.5,-765.7 53.5,-757.45\"/>\n",
              "<polygon fill=\"black\" stroke=\"black\" points=\"57,-757.27 53.5,-747.27 50,-757.27 57,-757.27\"/>\n",
              "</g>\n",
              "<!-- 133965832552112 -->\n",
              "<g id=\"node19\" class=\"node\">\n",
              "<title>133965832552112</title>\n",
              "<polygon fill=\"lightgrey\" stroke=\"black\" points=\"217,-747 122,-747 122,-728 217,-728 217,-747\"/>\n",
              "<text text-anchor=\"middle\" x=\"169.5\" y=\"-735\" font-family=\"monospace\" font-size=\"10.00\">ViewBackward0</text>\n",
              "</g>\n",
              "<!-- 133965832552112&#45;&gt;133965830126656 -->\n",
              "<g id=\"edge17\" class=\"edge\">\n",
              "<title>133965832552112&#45;&gt;133965830126656</title>\n",
              "<path fill=\"none\" stroke=\"black\" d=\"M169.5,-727.75C169.5,-720.8 169.5,-710.85 169.5,-702.13\"/>\n",
              "<polygon fill=\"black\" stroke=\"black\" points=\"173,-702.09 169.5,-692.09 166,-702.09 173,-702.09\"/>\n",
              "</g>\n",
              "<!-- 133965832538576 -->\n",
              "<g id=\"node20\" class=\"node\">\n",
              "<title>133965832538576</title>\n",
              "<polygon fill=\"lightgrey\" stroke=\"black\" points=\"214,-807.5 119,-807.5 119,-788.5 214,-788.5 214,-807.5\"/>\n",
              "<text text-anchor=\"middle\" x=\"166.5\" y=\"-795.5\" font-family=\"monospace\" font-size=\"10.00\">ReluBackward0</text>\n",
              "</g>\n",
              "<!-- 133965832538576&#45;&gt;133965832552112 -->\n",
              "<g id=\"edge18\" class=\"edge\">\n",
              "<title>133965832538576&#45;&gt;133965832552112</title>\n",
              "<path fill=\"none\" stroke=\"black\" d=\"M166.94,-788.37C167.36,-780.25 168,-767.81 168.53,-757.39\"/>\n",
              "<polygon fill=\"black\" stroke=\"black\" points=\"172.04,-757.33 169.06,-747.17 165.05,-756.97 172.04,-757.33\"/>\n",
              "</g>\n",
              "<!-- 133965832959840 -->\n",
              "<g id=\"node21\" class=\"node\">\n",
              "<title>133965832959840</title>\n",
              "<polygon fill=\"lightgrey\" stroke=\"black\" points=\"214,-873.5 119,-873.5 119,-854.5 214,-854.5 214,-873.5\"/>\n",
              "<text text-anchor=\"middle\" x=\"166.5\" y=\"-861.5\" font-family=\"monospace\" font-size=\"10.00\">ViewBackward0</text>\n",
              "</g>\n",
              "<!-- 133965832959840&#45;&gt;133965832538576 -->\n",
              "<g id=\"edge19\" class=\"edge\">\n",
              "<title>133965832959840&#45;&gt;133965832538576</title>\n",
              "<path fill=\"none\" stroke=\"black\" d=\"M166.5,-854.37C166.5,-845.16 166.5,-830.29 166.5,-818.27\"/>\n",
              "<polygon fill=\"black\" stroke=\"black\" points=\"170,-817.91 166.5,-807.91 163,-817.91 170,-817.91\"/>\n",
              "</g>\n",
              "<!-- 133965832956816 -->\n",
              "<g id=\"node22\" class=\"node\">\n",
              "<title>133965832956816</title>\n",
              "<polygon fill=\"lightgrey\" stroke=\"black\" points=\"217,-934 116,-934 116,-915 217,-915 217,-934\"/>\n",
              "<text text-anchor=\"middle\" x=\"166.5\" y=\"-922\" font-family=\"monospace\" font-size=\"10.00\">AddmmBackward0</text>\n",
              "</g>\n",
              "<!-- 133965832956816&#45;&gt;133965832959840 -->\n",
              "<g id=\"edge20\" class=\"edge\">\n",
              "<title>133965832956816&#45;&gt;133965832959840</title>\n",
              "<path fill=\"none\" stroke=\"black\" d=\"M166.5,-914.87C166.5,-906.75 166.5,-894.31 166.5,-883.89\"/>\n",
              "<polygon fill=\"black\" stroke=\"black\" points=\"170,-883.67 166.5,-873.67 163,-883.67 170,-883.67\"/>\n",
              "</g>\n",
              "<!-- 133965951898800 -->\n",
              "<g id=\"node23\" class=\"node\">\n",
              "<title>133965951898800</title>\n",
              "<polygon fill=\"lightgrey\" stroke=\"black\" points=\"101,-989 0,-989 0,-970 101,-970 101,-989\"/>\n",
              "<text text-anchor=\"middle\" x=\"50.5\" y=\"-977\" font-family=\"monospace\" font-size=\"10.00\">AccumulateGrad</text>\n",
              "</g>\n",
              "<!-- 133965951898800&#45;&gt;133965832956816 -->\n",
              "<g id=\"edge21\" class=\"edge\">\n",
              "<title>133965951898800&#45;&gt;133965832956816</title>\n",
              "<path fill=\"none\" stroke=\"black\" d=\"M69.14,-969.98C87.8,-961.46 116.75,-948.23 138.24,-938.41\"/>\n",
              "<polygon fill=\"black\" stroke=\"black\" points=\"139.88,-941.51 147.52,-934.17 136.97,-935.14 139.88,-941.51\"/>\n",
              "</g>\n",
              "<!-- 133965830045856 -->\n",
              "<g id=\"node24\" class=\"node\">\n",
              "<title>133965830045856</title>\n",
              "<polygon fill=\"lightblue\" stroke=\"black\" points=\"83,-1055 18,-1055 18,-1025 83,-1025 83,-1055\"/>\n",
              "<text text-anchor=\"middle\" x=\"50.5\" y=\"-1043\" font-family=\"monospace\" font-size=\"10.00\">ff1.bias</text>\n",
              "<text text-anchor=\"middle\" x=\"50.5\" y=\"-1032\" font-family=\"monospace\" font-size=\"10.00\"> (200)</text>\n",
              "</g>\n",
              "<!-- 133965830045856&#45;&gt;133965951898800 -->\n",
              "<g id=\"edge22\" class=\"edge\">\n",
              "<title>133965830045856&#45;&gt;133965951898800</title>\n",
              "<path fill=\"none\" stroke=\"black\" d=\"M50.5,-1024.84C50.5,-1017.21 50.5,-1007.7 50.5,-999.45\"/>\n",
              "<polygon fill=\"black\" stroke=\"black\" points=\"54,-999.27 50.5,-989.27 47,-999.27 54,-999.27\"/>\n",
              "</g>\n",
              "<!-- 133965829552448 -->\n",
              "<g id=\"node25\" class=\"node\">\n",
              "<title>133965829552448</title>\n",
              "<polygon fill=\"lightgrey\" stroke=\"black\" points=\"214,-989 119,-989 119,-970 214,-970 214,-989\"/>\n",
              "<text text-anchor=\"middle\" x=\"166.5\" y=\"-977\" font-family=\"monospace\" font-size=\"10.00\">ViewBackward0</text>\n",
              "</g>\n",
              "<!-- 133965829552448&#45;&gt;133965832956816 -->\n",
              "<g id=\"edge23\" class=\"edge\">\n",
              "<title>133965829552448&#45;&gt;133965832956816</title>\n",
              "<path fill=\"none\" stroke=\"black\" d=\"M166.5,-969.75C166.5,-962.8 166.5,-952.85 166.5,-944.13\"/>\n",
              "<polygon fill=\"black\" stroke=\"black\" points=\"170,-944.09 166.5,-934.09 163,-944.09 170,-944.09\"/>\n",
              "</g>\n",
              "<!-- 133965835243952 -->\n",
              "<g id=\"node26\" class=\"node\">\n",
              "<title>133965835243952</title>\n",
              "<polygon fill=\"lightgrey\" stroke=\"black\" points=\"214,-1049.5 107,-1049.5 107,-1030.5 214,-1030.5 214,-1049.5\"/>\n",
              "<text text-anchor=\"middle\" x=\"160.5\" y=\"-1037.5\" font-family=\"monospace\" font-size=\"10.00\">ToCopyBackward0</text>\n",
              "</g>\n",
              "<!-- 133965835243952&#45;&gt;133965829552448 -->\n",
              "<g id=\"edge24\" class=\"edge\">\n",
              "<title>133965835243952&#45;&gt;133965829552448</title>\n",
              "<path fill=\"none\" stroke=\"black\" d=\"M161.39,-1030.37C162.22,-1022.25 163.49,-1009.81 164.56,-999.39\"/>\n",
              "<polygon fill=\"black\" stroke=\"black\" points=\"168.07,-999.47 165.61,-989.17 161.11,-998.76 168.07,-999.47\"/>\n",
              "</g>\n",
              "<!-- 133965835116240 -->\n",
              "<g id=\"node27\" class=\"node\">\n",
              "<title>133965835116240</title>\n",
              "<polygon fill=\"lightgrey\" stroke=\"black\" points=\"211,-1115.5 110,-1115.5 110,-1096.5 211,-1096.5 211,-1115.5\"/>\n",
              "<text text-anchor=\"middle\" x=\"160.5\" y=\"-1103.5\" font-family=\"monospace\" font-size=\"10.00\">AccumulateGrad</text>\n",
              "</g>\n",
              "<!-- 133965835116240&#45;&gt;133965835243952 -->\n",
              "<g id=\"edge25\" class=\"edge\">\n",
              "<title>133965835116240&#45;&gt;133965835243952</title>\n",
              "<path fill=\"none\" stroke=\"black\" d=\"M160.5,-1096.37C160.5,-1087.16 160.5,-1072.29 160.5,-1060.27\"/>\n",
              "<polygon fill=\"black\" stroke=\"black\" points=\"164,-1059.91 160.5,-1049.91 157,-1059.91 164,-1059.91\"/>\n",
              "</g>\n",
              "<!-- 133962777869712 -->\n",
              "<g id=\"node28\" class=\"node\">\n",
              "<title>133962777869712</title>\n",
              "<polygon fill=\"lightblue\" stroke=\"black\" points=\"211,-1187 110,-1187 110,-1157 211,-1157 211,-1187\"/>\n",
              "<text text-anchor=\"middle\" x=\"160.5\" y=\"-1175\" font-family=\"monospace\" font-size=\"10.00\">sample_inputs</text>\n",
              "<text text-anchor=\"middle\" x=\"160.5\" y=\"-1164\" font-family=\"monospace\" font-size=\"10.00\"> (1024, 1, 75)</text>\n",
              "</g>\n",
              "<!-- 133962777869712&#45;&gt;133965835116240 -->\n",
              "<g id=\"edge26\" class=\"edge\">\n",
              "<title>133962777869712&#45;&gt;133965835116240</title>\n",
              "<path fill=\"none\" stroke=\"black\" d=\"M160.5,-1156.8C160.5,-1147.7 160.5,-1135.79 160.5,-1125.9\"/>\n",
              "<polygon fill=\"black\" stroke=\"black\" points=\"164,-1125.84 160.5,-1115.84 157,-1125.84 164,-1125.84\"/>\n",
              "</g>\n",
              "<!-- 133965829553648 -->\n",
              "<g id=\"node29\" class=\"node\">\n",
              "<title>133965829553648</title>\n",
              "<polygon fill=\"lightgrey\" stroke=\"black\" points=\"315,-989 238,-989 238,-970 315,-970 315,-989\"/>\n",
              "<text text-anchor=\"middle\" x=\"276.5\" y=\"-977\" font-family=\"monospace\" font-size=\"10.00\">TBackward0</text>\n",
              "</g>\n",
              "<!-- 133965829553648&#45;&gt;133965832956816 -->\n",
              "<g id=\"edge27\" class=\"edge\">\n",
              "<title>133965829553648&#45;&gt;133965832956816</title>\n",
              "<path fill=\"none\" stroke=\"black\" d=\"M258.83,-969.98C241.21,-961.5 213.92,-948.35 193.57,-938.54\"/>\n",
              "<polygon fill=\"black\" stroke=\"black\" points=\"195.02,-935.36 184.49,-934.17 191.98,-941.66 195.02,-935.36\"/>\n",
              "</g>\n",
              "<!-- 133965835241072 -->\n",
              "<g id=\"node30\" class=\"node\">\n",
              "<title>133965835241072</title>\n",
              "<polygon fill=\"lightgrey\" stroke=\"black\" points=\"333,-1049.5 232,-1049.5 232,-1030.5 333,-1030.5 333,-1049.5\"/>\n",
              "<text text-anchor=\"middle\" x=\"282.5\" y=\"-1037.5\" font-family=\"monospace\" font-size=\"10.00\">AccumulateGrad</text>\n",
              "</g>\n",
              "<!-- 133965835241072&#45;&gt;133965829553648 -->\n",
              "<g id=\"edge28\" class=\"edge\">\n",
              "<title>133965835241072&#45;&gt;133965829553648</title>\n",
              "<path fill=\"none\" stroke=\"black\" d=\"M281.61,-1030.37C280.78,-1022.25 279.51,-1009.81 278.44,-999.39\"/>\n",
              "<polygon fill=\"black\" stroke=\"black\" points=\"281.89,-998.76 277.39,-989.17 274.93,-999.47 281.89,-998.76\"/>\n",
              "</g>\n",
              "<!-- 133965829993040 -->\n",
              "<g id=\"node31\" class=\"node\">\n",
              "<title>133965829993040</title>\n",
              "<polygon fill=\"lightblue\" stroke=\"black\" points=\"321,-1121 244,-1121 244,-1091 321,-1091 321,-1121\"/>\n",
              "<text text-anchor=\"middle\" x=\"282.5\" y=\"-1109\" font-family=\"monospace\" font-size=\"10.00\">ff1.weight</text>\n",
              "<text text-anchor=\"middle\" x=\"282.5\" y=\"-1098\" font-family=\"monospace\" font-size=\"10.00\"> (200, 75)</text>\n",
              "</g>\n",
              "<!-- 133965829993040&#45;&gt;133965835241072 -->\n",
              "<g id=\"edge29\" class=\"edge\">\n",
              "<title>133965829993040&#45;&gt;133965835241072</title>\n",
              "<path fill=\"none\" stroke=\"black\" d=\"M282.5,-1090.8C282.5,-1081.7 282.5,-1069.79 282.5,-1059.9\"/>\n",
              "<polygon fill=\"black\" stroke=\"black\" points=\"286,-1059.84 282.5,-1049.84 279,-1059.84 286,-1059.84\"/>\n",
              "</g>\n",
              "<!-- 133965832549568 -->\n",
              "<g id=\"node32\" class=\"node\">\n",
              "<title>133965832549568</title>\n",
              "<polygon fill=\"lightgrey\" stroke=\"black\" points=\"318,-747 241,-747 241,-728 318,-728 318,-747\"/>\n",
              "<text text-anchor=\"middle\" x=\"279.5\" y=\"-735\" font-family=\"monospace\" font-size=\"10.00\">TBackward0</text>\n",
              "</g>\n",
              "<!-- 133965832549568&#45;&gt;133965830126656 -->\n",
              "<g id=\"edge30\" class=\"edge\">\n",
              "<title>133965832549568&#45;&gt;133965830126656</title>\n",
              "<path fill=\"none\" stroke=\"black\" d=\"M261.83,-727.98C244.21,-719.5 216.92,-706.35 196.57,-696.54\"/>\n",
              "<polygon fill=\"black\" stroke=\"black\" points=\"198.02,-693.36 187.49,-692.17 194.98,-699.66 198.02,-693.36\"/>\n",
              "</g>\n",
              "<!-- 133965829545824 -->\n",
              "<g id=\"node33\" class=\"node\">\n",
              "<title>133965829545824</title>\n",
              "<polygon fill=\"lightgrey\" stroke=\"black\" points=\"333,-807.5 232,-807.5 232,-788.5 333,-788.5 333,-807.5\"/>\n",
              "<text text-anchor=\"middle\" x=\"282.5\" y=\"-795.5\" font-family=\"monospace\" font-size=\"10.00\">AccumulateGrad</text>\n",
              "</g>\n",
              "<!-- 133965829545824&#45;&gt;133965832549568 -->\n",
              "<g id=\"edge31\" class=\"edge\">\n",
              "<title>133965829545824&#45;&gt;133965832549568</title>\n",
              "<path fill=\"none\" stroke=\"black\" d=\"M282.06,-788.37C281.64,-780.25 281,-767.81 280.47,-757.39\"/>\n",
              "<polygon fill=\"black\" stroke=\"black\" points=\"283.95,-756.97 279.94,-747.17 276.96,-757.33 283.95,-756.97\"/>\n",
              "</g>\n",
              "<!-- 133965830047616 -->\n",
              "<g id=\"node34\" class=\"node\">\n",
              "<title>133965830047616</title>\n",
              "<polygon fill=\"lightblue\" stroke=\"black\" points=\"324,-879 241,-879 241,-849 324,-849 324,-879\"/>\n",
              "<text text-anchor=\"middle\" x=\"282.5\" y=\"-867\" font-family=\"monospace\" font-size=\"10.00\">ff2.weight</text>\n",
              "<text text-anchor=\"middle\" x=\"282.5\" y=\"-856\" font-family=\"monospace\" font-size=\"10.00\"> (200, 200)</text>\n",
              "</g>\n",
              "<!-- 133965830047616&#45;&gt;133965829545824 -->\n",
              "<g id=\"edge32\" class=\"edge\">\n",
              "<title>133965830047616&#45;&gt;133965829545824</title>\n",
              "<path fill=\"none\" stroke=\"black\" d=\"M282.5,-848.8C282.5,-839.7 282.5,-827.79 282.5,-817.9\"/>\n",
              "<polygon fill=\"black\" stroke=\"black\" points=\"286,-817.84 282.5,-807.84 279,-817.84 286,-817.84\"/>\n",
              "</g>\n",
              "<!-- 133965830112448 -->\n",
              "<g id=\"node35\" class=\"node\">\n",
              "<title>133965830112448</title>\n",
              "<polygon fill=\"lightgrey\" stroke=\"black\" points=\"321,-505 244,-505 244,-486 321,-486 321,-505\"/>\n",
              "<text text-anchor=\"middle\" x=\"282.5\" y=\"-493\" font-family=\"monospace\" font-size=\"10.00\">TBackward0</text>\n",
              "</g>\n",
              "<!-- 133965830112448&#45;&gt;133965853549344 -->\n",
              "<g id=\"edge33\" class=\"edge\">\n",
              "<title>133965830112448&#45;&gt;133965853549344</title>\n",
              "<path fill=\"none\" stroke=\"black\" d=\"M264.83,-485.98C247.21,-477.5 219.92,-464.35 199.57,-454.54\"/>\n",
              "<polygon fill=\"black\" stroke=\"black\" points=\"201.02,-451.36 190.49,-450.17 197.98,-457.66 201.02,-451.36\"/>\n",
              "</g>\n",
              "<!-- 133965832955280 -->\n",
              "<g id=\"node36\" class=\"node\">\n",
              "<title>133965832955280</title>\n",
              "<polygon fill=\"lightgrey\" stroke=\"black\" points=\"336,-565.5 235,-565.5 235,-546.5 336,-546.5 336,-565.5\"/>\n",
              "<text text-anchor=\"middle\" x=\"285.5\" y=\"-553.5\" font-family=\"monospace\" font-size=\"10.00\">AccumulateGrad</text>\n",
              "</g>\n",
              "<!-- 133965832955280&#45;&gt;133965830112448 -->\n",
              "<g id=\"edge34\" class=\"edge\">\n",
              "<title>133965832955280&#45;&gt;133965830112448</title>\n",
              "<path fill=\"none\" stroke=\"black\" d=\"M285.06,-546.37C284.64,-538.25 284,-525.81 283.47,-515.39\"/>\n",
              "<polygon fill=\"black\" stroke=\"black\" points=\"286.95,-514.97 282.94,-505.17 279.96,-515.33 286.95,-514.97\"/>\n",
              "</g>\n",
              "<!-- 133965830047776 -->\n",
              "<g id=\"node37\" class=\"node\">\n",
              "<title>133965830047776</title>\n",
              "<polygon fill=\"lightblue\" stroke=\"black\" points=\"327,-637 244,-637 244,-607 327,-607 327,-637\"/>\n",
              "<text text-anchor=\"middle\" x=\"285.5\" y=\"-625\" font-family=\"monospace\" font-size=\"10.00\">ff3.weight</text>\n",
              "<text text-anchor=\"middle\" x=\"285.5\" y=\"-614\" font-family=\"monospace\" font-size=\"10.00\"> (200, 200)</text>\n",
              "</g>\n",
              "<!-- 133965830047776&#45;&gt;133965832955280 -->\n",
              "<g id=\"edge35\" class=\"edge\">\n",
              "<title>133965830047776&#45;&gt;133965832955280</title>\n",
              "<path fill=\"none\" stroke=\"black\" d=\"M285.5,-606.8C285.5,-597.7 285.5,-585.79 285.5,-575.9\"/>\n",
              "<polygon fill=\"black\" stroke=\"black\" points=\"289,-575.84 285.5,-565.84 282,-575.84 289,-575.84\"/>\n",
              "</g>\n",
              "<!-- 133965845144208 -->\n",
              "<g id=\"node38\" class=\"node\">\n",
              "<title>133965845144208</title>\n",
              "<polygon fill=\"lightgrey\" stroke=\"black\" points=\"324,-263 247,-263 247,-244 324,-244 324,-263\"/>\n",
              "<text text-anchor=\"middle\" x=\"285.5\" y=\"-251\" font-family=\"monospace\" font-size=\"10.00\">TBackward0</text>\n",
              "</g>\n",
              "<!-- 133965845144208&#45;&gt;133965831969696 -->\n",
              "<g id=\"edge36\" class=\"edge\">\n",
              "<title>133965845144208&#45;&gt;133965831969696</title>\n",
              "<path fill=\"none\" stroke=\"black\" d=\"M267.83,-243.98C250.21,-235.5 222.92,-222.35 202.57,-212.54\"/>\n",
              "<polygon fill=\"black\" stroke=\"black\" points=\"204.02,-209.36 193.49,-208.17 200.98,-215.66 204.02,-209.36\"/>\n",
              "</g>\n",
              "<!-- 133965880489872 -->\n",
              "<g id=\"node39\" class=\"node\">\n",
              "<title>133965880489872</title>\n",
              "<polygon fill=\"lightgrey\" stroke=\"black\" points=\"339,-323.5 238,-323.5 238,-304.5 339,-304.5 339,-323.5\"/>\n",
              "<text text-anchor=\"middle\" x=\"288.5\" y=\"-311.5\" font-family=\"monospace\" font-size=\"10.00\">AccumulateGrad</text>\n",
              "</g>\n",
              "<!-- 133965880489872&#45;&gt;133965845144208 -->\n",
              "<g id=\"edge37\" class=\"edge\">\n",
              "<title>133965880489872&#45;&gt;133965845144208</title>\n",
              "<path fill=\"none\" stroke=\"black\" d=\"M288.06,-304.37C287.64,-296.25 287,-283.81 286.47,-273.39\"/>\n",
              "<polygon fill=\"black\" stroke=\"black\" points=\"289.95,-272.97 285.94,-263.17 282.96,-273.33 289.95,-272.97\"/>\n",
              "</g>\n",
              "<!-- 133965830047936 -->\n",
              "<g id=\"node40\" class=\"node\">\n",
              "<title>133965830047936</title>\n",
              "<polygon fill=\"lightblue\" stroke=\"black\" points=\"327,-395 250,-395 250,-365 327,-365 327,-395\"/>\n",
              "<text text-anchor=\"middle\" x=\"288.5\" y=\"-383\" font-family=\"monospace\" font-size=\"10.00\">out.weight</text>\n",
              "<text text-anchor=\"middle\" x=\"288.5\" y=\"-372\" font-family=\"monospace\" font-size=\"10.00\"> (1, 200)</text>\n",
              "</g>\n",
              "<!-- 133965830047936&#45;&gt;133965880489872 -->\n",
              "<g id=\"edge38\" class=\"edge\">\n",
              "<title>133965830047936&#45;&gt;133965880489872</title>\n",
              "<path fill=\"none\" stroke=\"black\" d=\"M288.5,-364.8C288.5,-355.7 288.5,-343.79 288.5,-333.9\"/>\n",
              "<polygon fill=\"black\" stroke=\"black\" points=\"292,-333.84 288.5,-323.84 285,-333.84 292,-333.84\"/>\n",
              "</g>\n",
              "<!-- 133962777929648&#45;&gt;133962777922448 -->\n",
              "<g id=\"edge41\" class=\"edge\">\n",
              "<title>133962777929648&#45;&gt;133962777922448</title>\n",
              "<path fill=\"none\" stroke=\"black\" stroke-dasharray=\"1,5\" d=\"M215.7,-66.75C209.18,-58.61 200.95,-48.32 193.64,-39.17\"/>\n",
              "<polygon fill=\"black\" stroke=\"black\" points=\"196.23,-36.81 187.25,-31.19 190.77,-41.19 196.23,-36.81\"/>\n",
              "</g>\n",
              "</g>\n",
              "</svg>\n"
            ],
            "text/plain": [
              "<graphviz.graphs.Digraph at 0x79d75c495e50>"
            ]
          },
          "execution_count": 14,
          "metadata": {},
          "output_type": "execute_result"
        }
      ],
      "source": [
        "from torchviz import make_dot\n",
        "# Visualize model with torchviz\n",
        "sample_inputs = next(iter(train_loader))[0].requires_grad_(True)\n",
        "sample_y = model_ff(sample_inputs.to(device))\n",
        "make_dot(sample_y, params=dict(list(model_ff.named_parameters())+[('sample_inputs', sample_inputs)]))"
      ]
    },
    {
      "cell_type": "code",
      "execution_count": 15,
      "metadata": {
        "id": "4S1EzAAioGtc"
      },
      "outputs": [
        {
          "data": {
            "text/plain": [
              "==========================================================================================\n",
              "Layer (type:depth-idx)                   Output Shape              Param #\n",
              "==========================================================================================\n",
              "FeedForwardNN                            [1024, 1]                 --\n",
              "├─Linear: 1-1                            [1024, 200]               15,200\n",
              "├─Linear: 1-2                            [1024, 200]               40,200\n",
              "├─Linear: 1-3                            [1024, 200]               40,200\n",
              "├─Linear: 1-4                            [1024, 1]                 201\n",
              "==========================================================================================\n",
              "Total params: 95,801\n",
              "Trainable params: 95,801\n",
              "Non-trainable params: 0\n",
              "Total mult-adds (Units.MEGABYTES): 98.10\n",
              "==========================================================================================\n",
              "Input size (MB): 0.31\n",
              "Forward/backward pass size (MB): 4.92\n",
              "Params size (MB): 0.38\n",
              "Estimated Total Size (MB): 5.61\n",
              "=========================================================================================="
            ]
          },
          "execution_count": 15,
          "metadata": {},
          "output_type": "execute_result"
        }
      ],
      "source": [
        "summary(model_ff, input_size=(1024, 75))"
      ]
    },
    {
      "cell_type": "markdown",
      "metadata": {
        "id": "EfnyZsPlmJW7"
      },
      "source": [
        "### TODO#4\n",
        "\n",
        "Explain why the first linear layer has number of parameters = 15200\n",
        "\n",
        "**Ans:**\n",
        "AW + B -> W size is 75 * 200 + B size is 200 ; 15000 + 200 = 15200"
      ]
    },
    {
      "cell_type": "markdown",
      "metadata": {
        "id": "WLyflo2MxrRW"
      },
      "source": [
        "# Training"
      ]
    },
    {
      "cell_type": "code",
      "execution_count": 140,
      "metadata": {
        "id": "-JqOdbMlxsKl"
      },
      "outputs": [
        {
          "data": {
            "application/vnd.jupyter.widget-view+json": {
              "model_id": "bbacf92634144316bb6904bed4ba34e7",
              "version_major": 2,
              "version_minor": 0
            },
            "text/plain": [
              "VBox(children=(Label(value='Waiting for wandb.init()...\\r'), FloatProgress(value=0.011111913933321678, max=1.0…"
            ]
          },
          "metadata": {},
          "output_type": "display_data"
        },
        {
          "data": {
            "text/html": [
              "Tracking run with wandb version 0.16.4"
            ],
            "text/plain": [
              "<IPython.core.display.HTML object>"
            ]
          },
          "metadata": {},
          "output_type": "display_data"
        },
        {
          "data": {
            "text/html": [
              "Run data is saved locally in <code>/home/andre/Desktop/CU_submission/Pattern_Recognition/HW5/wandb/run-20240318_033316-o637zki5</code>"
            ],
            "text/plain": [
              "<IPython.core.display.HTML object>"
            ]
          },
          "metadata": {},
          "output_type": "display_data"
        },
        {
          "data": {
            "text/html": [
              "Syncing run <strong><a href='https://wandb.ai/p50629-2013x/precipitation-nowcasting/runs/o637zki5' target=\"_blank\">gentle-sponge-25</a></strong> to <a href='https://wandb.ai/p50629-2013x/precipitation-nowcasting' target=\"_blank\">Weights & Biases</a> (<a href='https://wandb.me/run' target=\"_blank\">docs</a>)<br/>"
            ],
            "text/plain": [
              "<IPython.core.display.HTML object>"
            ]
          },
          "metadata": {},
          "output_type": "display_data"
        },
        {
          "data": {
            "text/html": [
              " View project at <a href='https://wandb.ai/p50629-2013x/precipitation-nowcasting' target=\"_blank\">https://wandb.ai/p50629-2013x/precipitation-nowcasting</a>"
            ],
            "text/plain": [
              "<IPython.core.display.HTML object>"
            ]
          },
          "metadata": {},
          "output_type": "display_data"
        },
        {
          "data": {
            "text/html": [
              " View run at <a href='https://wandb.ai/p50629-2013x/precipitation-nowcasting/runs/o637zki5' target=\"_blank\">https://wandb.ai/p50629-2013x/precipitation-nowcasting/runs/o637zki5</a>"
            ],
            "text/plain": [
              "<IPython.core.display.HTML object>"
            ]
          },
          "metadata": {},
          "output_type": "display_data"
        },
        {
          "name": "stdout",
          "output_type": "stream",
          "text": [
            "Training epoch 1...\n",
            "Current LR: 0.01\n"
          ]
        },
        {
          "data": {
            "application/vnd.jupyter.widget-view+json": {
              "model_id": "69e21c0624db402693c406b3d0b17527",
              "version_major": 2,
              "version_minor": 0
            },
            "text/plain": [
              "  0%|          | 0/1121 [00:00<?, ?it/s]"
            ]
          },
          "metadata": {},
          "output_type": "display_data"
        },
        {
          "name": "stdout",
          "output_type": "stream",
          "text": [
            "Epoch 1 train loss: 1.9336\n",
            "Validating epoch 1\n"
          ]
        },
        {
          "data": {
            "application/vnd.jupyter.widget-view+json": {
              "model_id": "0c7ccfd044a442068234d8be0d7af0f3",
              "version_major": 2,
              "version_minor": 0
            },
            "text/plain": [
              "  0%|          | 0/454 [00:00<?, ?it/s]"
            ]
          },
          "metadata": {},
          "output_type": "display_data"
        },
        {
          "name": "stdout",
          "output_type": "stream",
          "text": [
            "Epoch 1 val loss: 1.6657\n",
            "Saving new best model..\n",
            "Training epoch 2...\n",
            "Current LR: 0.01\n"
          ]
        },
        {
          "data": {
            "application/vnd.jupyter.widget-view+json": {
              "model_id": "18ad9ce6044b4ceaa37b620804bc2437",
              "version_major": 2,
              "version_minor": 0
            },
            "text/plain": [
              "  0%|          | 0/1121 [00:00<?, ?it/s]"
            ]
          },
          "metadata": {},
          "output_type": "display_data"
        },
        {
          "name": "stdout",
          "output_type": "stream",
          "text": [
            "Epoch 2 train loss: 1.9236\n",
            "Validating epoch 2\n"
          ]
        },
        {
          "data": {
            "application/vnd.jupyter.widget-view+json": {
              "model_id": "7002514b509849478264f26ac9e4c165",
              "version_major": 2,
              "version_minor": 0
            },
            "text/plain": [
              "  0%|          | 0/454 [00:00<?, ?it/s]"
            ]
          },
          "metadata": {},
          "output_type": "display_data"
        },
        {
          "name": "stdout",
          "output_type": "stream",
          "text": [
            "Epoch 2 val loss: 1.6605\n",
            "Saving new best model..\n",
            "Training epoch 3...\n",
            "Current LR: 0.01\n"
          ]
        },
        {
          "data": {
            "application/vnd.jupyter.widget-view+json": {
              "model_id": "e19590d46b734e2693d64407c495b4ca",
              "version_major": 2,
              "version_minor": 0
            },
            "text/plain": [
              "  0%|          | 0/1121 [00:00<?, ?it/s]"
            ]
          },
          "metadata": {},
          "output_type": "display_data"
        },
        {
          "name": "stdout",
          "output_type": "stream",
          "text": [
            "Epoch 3 train loss: 1.9234\n",
            "Validating epoch 3\n"
          ]
        },
        {
          "data": {
            "application/vnd.jupyter.widget-view+json": {
              "model_id": "d83da49af8de4f9eb8c2b3950ee4d7a7",
              "version_major": 2,
              "version_minor": 0
            },
            "text/plain": [
              "  0%|          | 0/454 [00:00<?, ?it/s]"
            ]
          },
          "metadata": {},
          "output_type": "display_data"
        },
        {
          "name": "stdout",
          "output_type": "stream",
          "text": [
            "Epoch 3 val loss: 1.6627\n",
            "Training epoch 4...\n",
            "Current LR: 0.01\n"
          ]
        },
        {
          "data": {
            "application/vnd.jupyter.widget-view+json": {
              "model_id": "78a8e557553a43c89eb6f80416618d1e",
              "version_major": 2,
              "version_minor": 0
            },
            "text/plain": [
              "  0%|          | 0/1121 [00:00<?, ?it/s]"
            ]
          },
          "metadata": {},
          "output_type": "display_data"
        },
        {
          "name": "stdout",
          "output_type": "stream",
          "text": [
            "Epoch 4 train loss: 1.9237\n",
            "Validating epoch 4\n"
          ]
        },
        {
          "data": {
            "application/vnd.jupyter.widget-view+json": {
              "model_id": "94c31fe9fe754165be7cd1255c30a173",
              "version_major": 2,
              "version_minor": 0
            },
            "text/plain": [
              "  0%|          | 0/454 [00:00<?, ?it/s]"
            ]
          },
          "metadata": {},
          "output_type": "display_data"
        },
        {
          "name": "stdout",
          "output_type": "stream",
          "text": [
            "Epoch 4 val loss: 1.6633\n",
            "Training epoch 5...\n",
            "Current LR: 0.01\n"
          ]
        },
        {
          "data": {
            "application/vnd.jupyter.widget-view+json": {
              "model_id": "74da05d51601405892fcbe59625b5e6a",
              "version_major": 2,
              "version_minor": 0
            },
            "text/plain": [
              "  0%|          | 0/1121 [00:00<?, ?it/s]"
            ]
          },
          "metadata": {},
          "output_type": "display_data"
        },
        {
          "name": "stdout",
          "output_type": "stream",
          "text": [
            "Epoch 5 train loss: 1.9237\n",
            "Validating epoch 5\n"
          ]
        },
        {
          "data": {
            "application/vnd.jupyter.widget-view+json": {
              "model_id": "7d859980689d466984007bf8915dbe47",
              "version_major": 2,
              "version_minor": 0
            },
            "text/plain": [
              "  0%|          | 0/454 [00:00<?, ?it/s]"
            ]
          },
          "metadata": {},
          "output_type": "display_data"
        },
        {
          "name": "stdout",
          "output_type": "stream",
          "text": [
            "Epoch 5 val loss: 1.6605\n",
            "Training epoch 6...\n",
            "Current LR: 0.002\n"
          ]
        },
        {
          "data": {
            "application/vnd.jupyter.widget-view+json": {
              "model_id": "a458d717a38444a3b10777bbf72e8ee6",
              "version_major": 2,
              "version_minor": 0
            },
            "text/plain": [
              "  0%|          | 0/1121 [00:00<?, ?it/s]"
            ]
          },
          "metadata": {},
          "output_type": "display_data"
        },
        {
          "name": "stdout",
          "output_type": "stream",
          "text": [
            "Epoch 6 train loss: 1.9232\n",
            "Validating epoch 6\n"
          ]
        },
        {
          "data": {
            "application/vnd.jupyter.widget-view+json": {
              "model_id": "2cebc9f7601f4a02a03d1f9510f3d504",
              "version_major": 2,
              "version_minor": 0
            },
            "text/plain": [
              "  0%|          | 0/454 [00:00<?, ?it/s]"
            ]
          },
          "metadata": {},
          "output_type": "display_data"
        },
        {
          "name": "stdout",
          "output_type": "stream",
          "text": [
            "Epoch 6 val loss: 1.6613\n",
            "Training epoch 7...\n",
            "Current LR: 0.002\n"
          ]
        },
        {
          "data": {
            "application/vnd.jupyter.widget-view+json": {
              "model_id": "8ae480089d3947838e2d8c98b142e09e",
              "version_major": 2,
              "version_minor": 0
            },
            "text/plain": [
              "  0%|          | 0/1121 [00:00<?, ?it/s]"
            ]
          },
          "metadata": {},
          "output_type": "display_data"
        },
        {
          "name": "stdout",
          "output_type": "stream",
          "text": [
            "Epoch 7 train loss: 1.9236\n",
            "Validating epoch 7\n"
          ]
        },
        {
          "data": {
            "application/vnd.jupyter.widget-view+json": {
              "model_id": "e7f7c80d287f4c3393b3f58e18e4d7e7",
              "version_major": 2,
              "version_minor": 0
            },
            "text/plain": [
              "  0%|          | 0/454 [00:00<?, ?it/s]"
            ]
          },
          "metadata": {},
          "output_type": "display_data"
        },
        {
          "name": "stdout",
          "output_type": "stream",
          "text": [
            "Epoch 7 val loss: 1.6606\n",
            "Training epoch 8...\n",
            "Current LR: 0.002\n"
          ]
        },
        {
          "data": {
            "application/vnd.jupyter.widget-view+json": {
              "model_id": "3a5ae24cbb944dfcab1f3196f96506af",
              "version_major": 2,
              "version_minor": 0
            },
            "text/plain": [
              "  0%|          | 0/1121 [00:00<?, ?it/s]"
            ]
          },
          "metadata": {},
          "output_type": "display_data"
        },
        {
          "name": "stdout",
          "output_type": "stream",
          "text": [
            "Epoch 8 train loss: 1.9240\n",
            "Validating epoch 8\n"
          ]
        },
        {
          "data": {
            "application/vnd.jupyter.widget-view+json": {
              "model_id": "c164d95efef3462ebbcaa821d9be9e51",
              "version_major": 2,
              "version_minor": 0
            },
            "text/plain": [
              "  0%|          | 0/454 [00:00<?, ?it/s]"
            ]
          },
          "metadata": {},
          "output_type": "display_data"
        },
        {
          "name": "stdout",
          "output_type": "stream",
          "text": [
            "Epoch 8 val loss: 1.6608\n",
            "Training epoch 9...\n",
            "Current LR: 0.0004\n"
          ]
        },
        {
          "data": {
            "application/vnd.jupyter.widget-view+json": {
              "model_id": "9d61fe6f1c254adb8a668dedf2b1c752",
              "version_major": 2,
              "version_minor": 0
            },
            "text/plain": [
              "  0%|          | 0/1121 [00:00<?, ?it/s]"
            ]
          },
          "metadata": {},
          "output_type": "display_data"
        },
        {
          "name": "stdout",
          "output_type": "stream",
          "text": [
            "Epoch 9 train loss: 1.9233\n",
            "Validating epoch 9\n"
          ]
        },
        {
          "data": {
            "application/vnd.jupyter.widget-view+json": {
              "model_id": "32490612b6594aee8790c1cdc0a3e78e",
              "version_major": 2,
              "version_minor": 0
            },
            "text/plain": [
              "  0%|          | 0/454 [00:00<?, ?it/s]"
            ]
          },
          "metadata": {},
          "output_type": "display_data"
        },
        {
          "name": "stdout",
          "output_type": "stream",
          "text": [
            "Epoch 9 val loss: 1.6613\n",
            "Training epoch 10...\n",
            "Current LR: 0.0004\n"
          ]
        },
        {
          "data": {
            "application/vnd.jupyter.widget-view+json": {
              "model_id": "0889295f22744a98b12fad54b9dc7f92",
              "version_major": 2,
              "version_minor": 0
            },
            "text/plain": [
              "  0%|          | 0/1121 [00:00<?, ?it/s]"
            ]
          },
          "metadata": {},
          "output_type": "display_data"
        },
        {
          "name": "stdout",
          "output_type": "stream",
          "text": [
            "Epoch 10 train loss: 1.9234\n",
            "Validating epoch 10\n"
          ]
        },
        {
          "data": {
            "application/vnd.jupyter.widget-view+json": {
              "model_id": "718f8e5c333340aa94f009afbdb2f178",
              "version_major": 2,
              "version_minor": 0
            },
            "text/plain": [
              "  0%|          | 0/454 [00:00<?, ?it/s]"
            ]
          },
          "metadata": {},
          "output_type": "display_data"
        },
        {
          "name": "stdout",
          "output_type": "stream",
          "text": [
            "Epoch 10 val loss: 1.6611\n"
          ]
        },
        {
          "name": "stderr",
          "output_type": "stream",
          "text": [
            "wandb: WARNING Source type is set to 'repo' but some required information is missing from the environment. A job will not be created from this run. See https://docs.wandb.ai/guides/launch/create-job\n"
          ]
        },
        {
          "data": {
            "application/vnd.jupyter.widget-view+json": {
              "model_id": "b71bea14beaf4015972535e57ecae7c6",
              "version_major": 2,
              "version_minor": 0
            },
            "text/plain": [
              "VBox(children=(Label(value='0.004 MB of 0.004 MB uploaded\\r'), FloatProgress(value=1.0, max=1.0)))"
            ]
          },
          "metadata": {},
          "output_type": "display_data"
        },
        {
          "data": {
            "text/html": [
              "<style>\n",
              "    table.wandb td:nth-child(1) { padding: 0 10px; text-align: left ; width: auto;} td:nth-child(2) {text-align: left ; width: 100%}\n",
              "    .wandb-row { display: flex; flex-direction: row; flex-wrap: wrap; justify-content: flex-start; width: 100% }\n",
              "    .wandb-col { display: flex; flex-direction: column; flex-basis: 100%; flex: 1; padding: 10px; }\n",
              "    </style>\n",
              "<div class=\"wandb-row\"><div class=\"wandb-col\"><h3>Run history:</h3><br/><table class=\"wandb\"><tr><td>lr</td><td>█████▂▂▂▁▁</td></tr><tr><td>train_loss</td><td>█▁▁▁▁▁▁▂▁▁</td></tr><tr><td>val_loss</td><td>█▁▄▅▁▂▁▁▂▂</td></tr></table><br/></div><div class=\"wandb-col\"><h3>Run summary:</h3><br/><table class=\"wandb\"><tr><td>lr</td><td>0.0004</td></tr><tr><td>train_loss</td><td>1.92337</td></tr><tr><td>val_loss</td><td>1.6611</td></tr></table><br/></div></div>"
            ],
            "text/plain": [
              "<IPython.core.display.HTML object>"
            ]
          },
          "metadata": {},
          "output_type": "display_data"
        },
        {
          "data": {
            "text/html": [
              " View run <strong style=\"color:#cdcd00\">gentle-sponge-25</strong> at: <a href='https://wandb.ai/p50629-2013x/precipitation-nowcasting/runs/o637zki5' target=\"_blank\">https://wandb.ai/p50629-2013x/precipitation-nowcasting/runs/o637zki5</a><br/>Synced 6 W&B file(s), 0 media file(s), 0 artifact file(s) and 0 other file(s)"
            ],
            "text/plain": [
              "<IPython.core.display.HTML object>"
            ]
          },
          "metadata": {},
          "output_type": "display_data"
        },
        {
          "data": {
            "text/html": [
              "Find logs at: <code>./wandb/run-20240318_033316-o637zki5/logs</code>"
            ],
            "text/plain": [
              "<IPython.core.display.HTML object>"
            ]
          },
          "metadata": {},
          "output_type": "display_data"
        },
        {
          "name": "stdout",
          "output_type": "stream",
          "text": [
            "Finished Training\n"
          ]
        }
      ],
      "source": [
        "train_losses = []\n",
        "val_losses = []\n",
        "learning_rates = []\n",
        "\n",
        "# Start wandb run\n",
        "wandb.init(\n",
        "    project='precipitation-nowcasting',\n",
        "    config=config,\n",
        ")\n",
        "\n",
        "# Log parameters and gradients\n",
        "wandb.watch(model_ff, log='all')\n",
        "\n",
        "for epoch in range(config['epochs']):  # loop over the dataset multiple times\n",
        "\n",
        "    # Training\n",
        "    train_loss = []\n",
        "    current_lr = optimizer.param_groups[0]['lr']\n",
        "    learning_rates.append(current_lr)\n",
        "\n",
        "    # Flag model as training. Some layers behave differently in training and\n",
        "    # inference modes, such as dropout, BN, etc.\n",
        "    model_ff.train()\n",
        "\n",
        "    print(f\"Training epoch {epoch+1}...\")\n",
        "    print(f\"Current LR: {current_lr}\")\n",
        "\n",
        "    for i, (inputs, y_true) in enumerate(tqdm(train_loader)):\n",
        "        # Transfer data from cpu to gpu\n",
        "        inputs = inputs.to(device)\n",
        "        y_true = y_true.to(device)\n",
        "\n",
        "        # Reset the gradient\n",
        "        optimizer.zero_grad()\n",
        "\n",
        "        # Predict\n",
        "        y_pred = model_ff(inputs)\n",
        "\n",
        "        # Calculate loss\n",
        "        loss = loss_fn(y_pred, y_true)\n",
        "\n",
        "        # Compute gradient\n",
        "        loss.backward()\n",
        "\n",
        "        # Update parameters\n",
        "        optimizer.step()\n",
        "\n",
        "        # Log stuff\n",
        "        train_loss.append(loss)\n",
        "\n",
        "    avg_train_loss = torch.stack(train_loss).mean().item()\n",
        "    train_losses.append(avg_train_loss)\n",
        "\n",
        "    print(f\"Epoch {epoch+1} train loss: {avg_train_loss:.4f}\")\n",
        "\n",
        "    # Validation\n",
        "    model_ff.eval()\n",
        "    with torch.no_grad(): # No gradient is required during validation\n",
        "        print(f\"Validating epoch {epoch+1}\")\n",
        "        val_loss = []\n",
        "        for i, (inputs, y_true) in enumerate(tqdm(val_loader)):\n",
        "            # Transfer data from cpu to gpu\n",
        "            inputs = inputs.to(device)\n",
        "            y_true = y_true.to(device)\n",
        "\n",
        "            # Predict\n",
        "            y_pred = model_ff(inputs)\n",
        "\n",
        "            # Calculate loss\n",
        "            loss = loss_fn(y_pred, y_true)\n",
        "\n",
        "            # Log stuff\n",
        "            val_loss.append(loss)\n",
        "\n",
        "        avg_val_loss = torch.stack(val_loss).mean().item()\n",
        "        val_losses.append(avg_val_loss)\n",
        "        print(f\"Epoch {epoch+1} val loss: {avg_val_loss:.4f}\")\n",
        "\n",
        "        # LR adjustment with scheduler\n",
        "        scheduler.step(avg_val_loss)\n",
        "\n",
        "        # Save checkpoint if val_loss is the best we got\n",
        "        best_val_loss = np.inf if epoch == 0 else min(val_losses[:-1])\n",
        "        if avg_val_loss < best_val_loss:\n",
        "            # Save whatever you want\n",
        "            state = {\n",
        "                'epoch': epoch,\n",
        "                'model': model_ff.state_dict(),\n",
        "                'optimizer': optimizer.state_dict(),\n",
        "                'scheduler': scheduler.state_dict(),\n",
        "                'train_loss': avg_train_loss,\n",
        "                'val_loss': avg_val_loss,\n",
        "                'best_val_loss': best_val_loss,\n",
        "            }\n",
        "\n",
        "            print(f\"Saving new best model..\")\n",
        "            torch.save(state, 'model_ff.pth.tar')\n",
        "\n",
        "    wandb.log({\n",
        "        'train_loss': avg_train_loss,\n",
        "        'val_loss': avg_val_loss,\n",
        "        'lr': current_lr,\n",
        "    })\n",
        "\n",
        "wandb.finish()\n",
        "print('Finished Training')"
      ]
    },
    {
      "cell_type": "markdown",
      "metadata": {
        "id": "PeXGk-wHm9Nj"
      },
      "source": [
        "### TODO#5\n",
        "\n",
        "Plot loss and val_loss as a function of epochs."
      ]
    },
    {
      "cell_type": "code",
      "execution_count": null,
      "metadata": {
        "id": "0iDWp6jqRRIT"
      },
      "outputs": [],
      "source": [
        "plt.plot(train_losses, label='train loss')\n",
        "plt.xlabel('Epoch')\n",
        "plt.ylabel('Loss')\n",
        "plt.legend()\n",
        "plt.show()\n",
        "plt.plot(val_losses, label='val loss')\n",
        "plt.xlabel('Epoch')\n",
        "plt.ylabel('Loss')\n",
        "plt.legend()\n",
        "plt.show()\n"
      ]
    },
    {
      "cell_type": "markdown",
      "metadata": {
        "id": "jXmuk1a2nRSA"
      },
      "source": [
        "### TODO#6\n",
        "\n",
        "When does the model start to overfit?\n",
        "\n",
        "**Ans:**\n",
        "epoch 1-2"
      ]
    },
    {
      "cell_type": "markdown",
      "metadata": {
        "id": "UXQgJYrTne0o"
      },
      "source": [
        "### TODO#7\n",
        "\n",
        "Plot the learning rate as a function of the epochs."
      ]
    },
    {
      "cell_type": "code",
      "execution_count": 142,
      "metadata": {
        "id": "i5ZdGDjJnka7"
      },
      "outputs": [
        {
          "data": {
            "image/png": "[encoded data removed]",
            "text/plain": [
              "<Figure size 640x480 with 1 Axes>"
            ]
          },
          "metadata": {},
          "output_type": "display_data"
        }
      ],
      "source": [
        "plt.plot(learning_rates, label='learning rate')\n",
        "plt.xlabel('Epoch')\n",
        "plt.ylabel('Learning rate')\n",
        "plt.legend()\n",
        "plt.show()"
      ]
    },
    {
      "cell_type": "markdown",
      "metadata": {
        "id": "mKjTiHm4o4ba"
      },
      "source": [
        "### TODO#8\n",
        "\n",
        "What makes the learning rate change?\n",
        "(hint: try to understand the scheduler [ReduceLROnPlateau](https://pytorch.org/docs/stable/generated/torch.optim.lr_scheduler.ReduceLROnPlateau.html))\n",
        "\n",
        "\n",
        "**Ans:**"
      ]
    },
    {
      "cell_type": "markdown",
      "metadata": {
        "id": "Mdf-mv_v7Nl8"
      },
      "source": [
        "# Load Model\n",
        "\n",
        "Use the code snippet below to load the model you just trained"
      ]
    },
    {
      "cell_type": "code",
      "execution_count": 143,
      "metadata": {
        "id": "CipUyLZ07PKd"
      },
      "outputs": [
        {
          "name": "stdout",
          "output_type": "stream",
          "text": [
            "Loaded epoch 1 model\n"
          ]
        }
      ],
      "source": [
        "checkpoint = torch.load('model_ff.pth.tar')\n",
        "loaded_model = FeedForwardNN(hidden_size=config['hidden_size']) # Create model object\n",
        "loaded_model.load_state_dict(checkpoint['model']) # Load weights\n",
        "print(f\"Loaded epoch {checkpoint['epoch']} model\")"
      ]
    },
    {
      "cell_type": "markdown",
      "metadata": {
        "id": "JhLdhEr2ZLWL"
      },
      "source": [
        "# A more complex scheduling\n",
        "\n",
        "The scheduler can be very complicated and you can write your own heuristic for it.\n",
        "\n",
        "### TODO#9\n",
        "\n",
        "Implement a custom learning rate scheduler that behaves like the following graph.\n",
        "\n",
        "You might want to learn how to use [PyTorch's built-in learning rate schedulers](https://pytorch.org/docs/stable/optim.html#how-to-adjust-learning-rate) in order to build your own.\n",
        "\n",
        "Learning rate should be function of epoch.\n",
        "\n",
        "![](https://raw.githubusercontent.com/pjumruspun/ComProg2021-Workshop/main/graph.png)"
      ]
    },
    {
      "cell_type": "code",
      "execution_count": 144,
      "metadata": {
        "id": "YkUFFRjsaMK_"
      },
      "outputs": [],
      "source": [
        "# Implement scheduler here\n",
        "class MyScheduler():\n",
        "    def __init__(self, optimizer: torch.optim.Optimizer):\n",
        "        self.optimizer = optimizer\n",
        "\n",
        "    def step(self, epoch):\n",
        "        # Changes the learning rate here\n",
        "        if epoch < 3:\n",
        "            self.optimizer.param_groups[0]['lr'] = self.optimizer.param_groups[0]['lr'] + 0.0003\n",
        "        elif epoch < 6:\n",
        "            self.optimizer.param_groups[0]['lr'] = self.optimizer.param_groups[0]['lr'] - 0.0005/3\n",
        "        elif epoch < 7:\n",
        "            self.optimizer.param_groups[0]['lr'] = self.optimizer.param_groups[0]['lr'] + 0.0005\n",
        "        else:\n",
        "            self.optimizer.param_groups[0]['lr'] = self.optimizer.param_groups[0]['lr'] - 0.00045"
      ]
    },
    {
      "cell_type": "code",
      "execution_count": 145,
      "metadata": {
        "id": "3XbxPkzyaSQ3"
      },
      "outputs": [
        {
          "data": {
            "text/plain": [
              "[<matplotlib.lines.Line2D at 0x7f6834332a80>]"
            ]
          },
          "execution_count": 145,
          "metadata": {},
          "output_type": "execute_result"
        },
        {
          "data": {
            "image/png": "[encoded data removed]",
            "text/plain": [
              "<Figure size 640x480 with 1 Axes>"
            ]
          },
          "metadata": {},
          "output_type": "display_data"
        }
      ],
      "source": [
        "# Now train with your scheduler\n",
        "# my_scheduler = MyScheduler(...)\n",
        "config = {\n",
        "    'architecture': 'feedforward',\n",
        "    'lr': 0.0001,\n",
        "    'hidden_size': 200,\n",
        "    'epochs': 10\n",
        "}\n",
        "optimizer = torch.optim.Adam(model_ff.parameters(), lr=config['lr'])\n",
        "my_scheduler = MyScheduler(optimizer)\n",
        "test_lr = []\n",
        "for epoch in range(config['epochs']):\n",
        "    test_lr.append(optimizer.param_groups[0]['lr'])\n",
        "    my_scheduler.step(epoch)\n",
        "plt.plot(test_lr, label='learning rate')"
      ]
    },
    {
      "cell_type": "code",
      "execution_count": 146,
      "metadata": {},
      "outputs": [
        {
          "data": {
            "application/vnd.jupyter.widget-view+json": {
              "model_id": "8736647bef72464e98f1d5c793348193",
              "version_major": 2,
              "version_minor": 0
            },
            "text/plain": [
              "VBox(children=(Label(value='Waiting for wandb.init()...\\r'), FloatProgress(value=0.011111900233340242, max=1.0…"
            ]
          },
          "metadata": {},
          "output_type": "display_data"
        },
        {
          "data": {
            "text/html": [
              "Tracking run with wandb version 0.16.4"
            ],
            "text/plain": [
              "<IPython.core.display.HTML object>"
            ]
          },
          "metadata": {},
          "output_type": "display_data"
        },
        {
          "data": {
            "text/html": [
              "Run data is saved locally in <code>/home/andre/Desktop/CU_submission/Pattern_Recognition/HW5/wandb/run-20240318_033932-xhpfbyoe</code>"
            ],
            "text/plain": [
              "<IPython.core.display.HTML object>"
            ]
          },
          "metadata": {},
          "output_type": "display_data"
        },
        {
          "data": {
            "text/html": [
              "Syncing run <strong><a href='https://wandb.ai/p50629-2013x/precipitation-nowcasting/runs/xhpfbyoe' target=\"_blank\">absurd-serenity-26</a></strong> to <a href='https://wandb.ai/p50629-2013x/precipitation-nowcasting' target=\"_blank\">Weights & Biases</a> (<a href='https://wandb.me/run' target=\"_blank\">docs</a>)<br/>"
            ],
            "text/plain": [
              "<IPython.core.display.HTML object>"
            ]
          },
          "metadata": {},
          "output_type": "display_data"
        },
        {
          "data": {
            "text/html": [
              " View project at <a href='https://wandb.ai/p50629-2013x/precipitation-nowcasting' target=\"_blank\">https://wandb.ai/p50629-2013x/precipitation-nowcasting</a>"
            ],
            "text/plain": [
              "<IPython.core.display.HTML object>"
            ]
          },
          "metadata": {},
          "output_type": "display_data"
        },
        {
          "data": {
            "text/html": [
              " View run at <a href='https://wandb.ai/p50629-2013x/precipitation-nowcasting/runs/xhpfbyoe' target=\"_blank\">https://wandb.ai/p50629-2013x/precipitation-nowcasting/runs/xhpfbyoe</a>"
            ],
            "text/plain": [
              "<IPython.core.display.HTML object>"
            ]
          },
          "metadata": {},
          "output_type": "display_data"
        },
        {
          "name": "stdout",
          "output_type": "stream",
          "text": [
            "Training epoch 1...\n",
            "Current LR: 0.0001\n"
          ]
        },
        {
          "data": {
            "application/vnd.jupyter.widget-view+json": {
              "model_id": "5f08f472f657444caed88d64ef8d8759",
              "version_major": 2,
              "version_minor": 0
            },
            "text/plain": [
              "  0%|          | 0/1121 [00:00<?, ?it/s]"
            ]
          },
          "metadata": {},
          "output_type": "display_data"
        },
        {
          "name": "stdout",
          "output_type": "stream",
          "text": [
            "Epoch 1 train loss: 1.9233\n",
            "Validating epoch 1\n"
          ]
        },
        {
          "data": {
            "application/vnd.jupyter.widget-view+json": {
              "model_id": "592f42bfac334515b37c95ab9afc6401",
              "version_major": 2,
              "version_minor": 0
            },
            "text/plain": [
              "  0%|          | 0/454 [00:00<?, ?it/s]"
            ]
          },
          "metadata": {},
          "output_type": "display_data"
        },
        {
          "name": "stdout",
          "output_type": "stream",
          "text": [
            "Epoch 1 val loss: 1.6613\n",
            "Saving new best model..\n",
            "Training epoch 2...\n",
            "Current LR: 0.00039999999999999996\n"
          ]
        },
        {
          "data": {
            "application/vnd.jupyter.widget-view+json": {
              "model_id": "b9261e0e844147938a27cc1d51b39cbf",
              "version_major": 2,
              "version_minor": 0
            },
            "text/plain": [
              "  0%|          | 0/1121 [00:00<?, ?it/s]"
            ]
          },
          "metadata": {},
          "output_type": "display_data"
        },
        {
          "name": "stdout",
          "output_type": "stream",
          "text": [
            "Epoch 2 train loss: 1.9232\n",
            "Validating epoch 2\n"
          ]
        },
        {
          "data": {
            "application/vnd.jupyter.widget-view+json": {
              "model_id": "0762aee576e144bb89119409ef0052af",
              "version_major": 2,
              "version_minor": 0
            },
            "text/plain": [
              "  0%|          | 0/454 [00:00<?, ?it/s]"
            ]
          },
          "metadata": {},
          "output_type": "display_data"
        },
        {
          "name": "stdout",
          "output_type": "stream",
          "text": [
            "Epoch 2 val loss: 1.6611\n",
            "Saving new best model..\n",
            "Training epoch 3...\n",
            "Current LR: 0.0006999999999999999\n"
          ]
        },
        {
          "data": {
            "application/vnd.jupyter.widget-view+json": {
              "model_id": "34a2108052234ea28e66142e95511af6",
              "version_major": 2,
              "version_minor": 0
            },
            "text/plain": [
              "  0%|          | 0/1121 [00:00<?, ?it/s]"
            ]
          },
          "metadata": {},
          "output_type": "display_data"
        },
        {
          "name": "stdout",
          "output_type": "stream",
          "text": [
            "Epoch 3 train loss: 1.9237\n",
            "Validating epoch 3\n"
          ]
        },
        {
          "data": {
            "application/vnd.jupyter.widget-view+json": {
              "model_id": "8d14ad7b754e4a51ba364a72a76a31c0",
              "version_major": 2,
              "version_minor": 0
            },
            "text/plain": [
              "  0%|          | 0/454 [00:00<?, ?it/s]"
            ]
          },
          "metadata": {},
          "output_type": "display_data"
        },
        {
          "name": "stdout",
          "output_type": "stream",
          "text": [
            "Epoch 3 val loss: 1.6614\n",
            "Training epoch 4...\n",
            "Current LR: 0.0009999999999999998\n"
          ]
        },
        {
          "data": {
            "application/vnd.jupyter.widget-view+json": {
              "model_id": "d65c778d1ce54068ae3bf7134ed28bdb",
              "version_major": 2,
              "version_minor": 0
            },
            "text/plain": [
              "  0%|          | 0/1121 [00:00<?, ?it/s]"
            ]
          },
          "metadata": {},
          "output_type": "display_data"
        },
        {
          "name": "stdout",
          "output_type": "stream",
          "text": [
            "Epoch 4 train loss: 1.9234\n",
            "Validating epoch 4\n"
          ]
        },
        {
          "data": {
            "application/vnd.jupyter.widget-view+json": {
              "model_id": "7ddc33500be54c37865012107dbdd209",
              "version_major": 2,
              "version_minor": 0
            },
            "text/plain": [
              "  0%|          | 0/454 [00:00<?, ?it/s]"
            ]
          },
          "metadata": {},
          "output_type": "display_data"
        },
        {
          "name": "stdout",
          "output_type": "stream",
          "text": [
            "Epoch 4 val loss: 1.6614\n",
            "Training epoch 5...\n",
            "Current LR: 0.0008333333333333332\n"
          ]
        },
        {
          "data": {
            "application/vnd.jupyter.widget-view+json": {
              "model_id": "2678afd498f6444987e87b297156a9d0",
              "version_major": 2,
              "version_minor": 0
            },
            "text/plain": [
              "  0%|          | 0/1121 [00:00<?, ?it/s]"
            ]
          },
          "metadata": {},
          "output_type": "display_data"
        },
        {
          "name": "stdout",
          "output_type": "stream",
          "text": [
            "Epoch 5 train loss: 1.9233\n",
            "Validating epoch 5\n"
          ]
        },
        {
          "data": {
            "application/vnd.jupyter.widget-view+json": {
              "model_id": "688fb1fd00df429b881384e107c98eab",
              "version_major": 2,
              "version_minor": 0
            },
            "text/plain": [
              "  0%|          | 0/454 [00:00<?, ?it/s]"
            ]
          },
          "metadata": {},
          "output_type": "display_data"
        },
        {
          "name": "stdout",
          "output_type": "stream",
          "text": [
            "Epoch 5 val loss: 1.6610\n",
            "Saving new best model..\n",
            "Training epoch 6...\n",
            "Current LR: 0.0006666666666666665\n"
          ]
        },
        {
          "data": {
            "application/vnd.jupyter.widget-view+json": {
              "model_id": "5860f200a5154f508eb900b1cec2e1b8",
              "version_major": 2,
              "version_minor": 0
            },
            "text/plain": [
              "  0%|          | 0/1121 [00:00<?, ?it/s]"
            ]
          },
          "metadata": {},
          "output_type": "display_data"
        },
        {
          "name": "stdout",
          "output_type": "stream",
          "text": [
            "Epoch 6 train loss: 1.9237\n",
            "Validating epoch 6\n"
          ]
        },
        {
          "data": {
            "application/vnd.jupyter.widget-view+json": {
              "model_id": "06672b5e269747eba03d64892c2b2b8b",
              "version_major": 2,
              "version_minor": 0
            },
            "text/plain": [
              "  0%|          | 0/454 [00:00<?, ?it/s]"
            ]
          },
          "metadata": {},
          "output_type": "display_data"
        },
        {
          "name": "stdout",
          "output_type": "stream",
          "text": [
            "Epoch 6 val loss: 1.6611\n",
            "Training epoch 7...\n",
            "Current LR: 0.0004999999999999999\n"
          ]
        },
        {
          "data": {
            "application/vnd.jupyter.widget-view+json": {
              "model_id": "b47ce54c4aad45cca9a29d315a022b7c",
              "version_major": 2,
              "version_minor": 0
            },
            "text/plain": [
              "  0%|          | 0/1121 [00:00<?, ?it/s]"
            ]
          },
          "metadata": {},
          "output_type": "display_data"
        },
        {
          "name": "stdout",
          "output_type": "stream",
          "text": [
            "Epoch 7 train loss: 1.9233\n",
            "Validating epoch 7\n"
          ]
        },
        {
          "data": {
            "application/vnd.jupyter.widget-view+json": {
              "model_id": "06a84bbc177f41d6a5678a74cae1b56f",
              "version_major": 2,
              "version_minor": 0
            },
            "text/plain": [
              "  0%|          | 0/454 [00:00<?, ?it/s]"
            ]
          },
          "metadata": {},
          "output_type": "display_data"
        },
        {
          "name": "stdout",
          "output_type": "stream",
          "text": [
            "Epoch 7 val loss: 1.6613\n",
            "Training epoch 8...\n",
            "Current LR: 0.001\n"
          ]
        },
        {
          "data": {
            "application/vnd.jupyter.widget-view+json": {
              "model_id": "1f79a45489874229a11243c89b22e64e",
              "version_major": 2,
              "version_minor": 0
            },
            "text/plain": [
              "  0%|          | 0/1121 [00:00<?, ?it/s]"
            ]
          },
          "metadata": {},
          "output_type": "display_data"
        },
        {
          "name": "stdout",
          "output_type": "stream",
          "text": [
            "Epoch 8 train loss: 1.9232\n",
            "Validating epoch 8\n"
          ]
        },
        {
          "data": {
            "application/vnd.jupyter.widget-view+json": {
              "model_id": "7476a54a6f7a462eb5e4b3f692004de7",
              "version_major": 2,
              "version_minor": 0
            },
            "text/plain": [
              "  0%|          | 0/454 [00:00<?, ?it/s]"
            ]
          },
          "metadata": {},
          "output_type": "display_data"
        },
        {
          "name": "stdout",
          "output_type": "stream",
          "text": [
            "Epoch 8 val loss: 1.6605\n",
            "Saving new best model..\n",
            "Training epoch 9...\n",
            "Current LR: 0.00055\n"
          ]
        },
        {
          "data": {
            "application/vnd.jupyter.widget-view+json": {
              "model_id": "215ce80e642d453a8b0e7c9868075520",
              "version_major": 2,
              "version_minor": 0
            },
            "text/plain": [
              "  0%|          | 0/1121 [00:00<?, ?it/s]"
            ]
          },
          "metadata": {},
          "output_type": "display_data"
        },
        {
          "name": "stdout",
          "output_type": "stream",
          "text": [
            "Epoch 9 train loss: 1.9232\n",
            "Validating epoch 9\n"
          ]
        },
        {
          "data": {
            "application/vnd.jupyter.widget-view+json": {
              "model_id": "036546f739be4b87969413af3684536e",
              "version_major": 2,
              "version_minor": 0
            },
            "text/plain": [
              "  0%|          | 0/454 [00:00<?, ?it/s]"
            ]
          },
          "metadata": {},
          "output_type": "display_data"
        },
        {
          "name": "stdout",
          "output_type": "stream",
          "text": [
            "Epoch 9 val loss: 1.6614\n",
            "Training epoch 10...\n",
            "Current LR: 0.00010000000000000005\n"
          ]
        },
        {
          "data": {
            "application/vnd.jupyter.widget-view+json": {
              "model_id": "f63f3b6aeb1542b9aac477ac5946b123",
              "version_major": 2,
              "version_minor": 0
            },
            "text/plain": [
              "  0%|          | 0/1121 [00:00<?, ?it/s]"
            ]
          },
          "metadata": {},
          "output_type": "display_data"
        },
        {
          "name": "stdout",
          "output_type": "stream",
          "text": [
            "Epoch 10 train loss: 1.9234\n",
            "Validating epoch 10\n"
          ]
        },
        {
          "data": {
            "application/vnd.jupyter.widget-view+json": {
              "model_id": "7fa36b1e7b7b4106b730d0a1e84c5557",
              "version_major": 2,
              "version_minor": 0
            },
            "text/plain": [
              "  0%|          | 0/454 [00:00<?, ?it/s]"
            ]
          },
          "metadata": {},
          "output_type": "display_data"
        },
        {
          "name": "stdout",
          "output_type": "stream",
          "text": [
            "Epoch 10 val loss: 1.6613\n"
          ]
        },
        {
          "name": "stderr",
          "output_type": "stream",
          "text": [
            "wandb: WARNING Source type is set to 'repo' but some required information is missing from the environment. A job will not be created from this run. See https://docs.wandb.ai/guides/launch/create-job\n"
          ]
        },
        {
          "data": {
            "application/vnd.jupyter.widget-view+json": {
              "model_id": "9b9d44edaf27487eabff574113d7ff0e",
              "version_major": 2,
              "version_minor": 0
            },
            "text/plain": [
              "VBox(children=(Label(value='0.004 MB of 0.004 MB uploaded\\r'), FloatProgress(value=1.0, max=1.0)))"
            ]
          },
          "metadata": {},
          "output_type": "display_data"
        },
        {
          "data": {
            "text/html": [
              "<style>\n",
              "    table.wandb td:nth-child(1) { padding: 0 10px; text-align: left ; width: auto;} td:nth-child(2) {text-align: left ; width: 100%}\n",
              "    .wandb-row { display: flex; flex-direction: row; flex-wrap: wrap; justify-content: flex-start; width: 100% }\n",
              "    .wandb-col { display: flex; flex-direction: column; flex-basis: 100%; flex: 1; padding: 10px; }\n",
              "    </style>\n",
              "<div class=\"wandb-row\"><div class=\"wandb-col\"><h3>Run history:</h3><br/><table class=\"wandb\"><tr><td>lr</td><td>▁▃▆█▇▅▄█▄▁</td></tr><tr><td>train_loss</td><td>▂▁▇▄▂█▂▁▁▄</td></tr><tr><td>val_loss</td><td>▇▆██▅▆▇▁█▇</td></tr></table><br/></div><div class=\"wandb-col\"><h3>Run summary:</h3><br/><table class=\"wandb\"><tr><td>lr</td><td>0.0001</td></tr><tr><td>train_loss</td><td>1.92343</td></tr><tr><td>val_loss</td><td>1.66132</td></tr></table><br/></div></div>"
            ],
            "text/plain": [
              "<IPython.core.display.HTML object>"
            ]
          },
          "metadata": {},
          "output_type": "display_data"
        },
        {
          "data": {
            "text/html": [
              " View run <strong style=\"color:#cdcd00\">absurd-serenity-26</strong> at: <a href='https://wandb.ai/p50629-2013x/precipitation-nowcasting/runs/xhpfbyoe' target=\"_blank\">https://wandb.ai/p50629-2013x/precipitation-nowcasting/runs/xhpfbyoe</a><br/>Synced 6 W&B file(s), 0 media file(s), 0 artifact file(s) and 0 other file(s)"
            ],
            "text/plain": [
              "<IPython.core.display.HTML object>"
            ]
          },
          "metadata": {},
          "output_type": "display_data"
        },
        {
          "data": {
            "text/html": [
              "Find logs at: <code>./wandb/run-20240318_033932-xhpfbyoe/logs</code>"
            ],
            "text/plain": [
              "<IPython.core.display.HTML object>"
            ]
          },
          "metadata": {},
          "output_type": "display_data"
        },
        {
          "name": "stdout",
          "output_type": "stream",
          "text": [
            "Finished Training\n"
          ]
        }
      ],
      "source": [
        "optimizer = torch.optim.Adam(model_ff.parameters(), lr=config['lr'])\n",
        "my_scheduler = MyScheduler(optimizer)\n",
        "\n",
        "train_losses = []\n",
        "val_losses = []\n",
        "learning_rates = []\n",
        "\n",
        "# Start wandb run\n",
        "wandb.init(\n",
        "    project='precipitation-nowcasting',\n",
        "    config=config,\n",
        ")\n",
        "\n",
        "# Log parameters and gradients\n",
        "wandb.watch(model_ff, log='all')\n",
        "\n",
        "for epoch in range(config['epochs']):  # loop over the dataset multiple times\n",
        "\n",
        "    # Training\n",
        "    train_loss = []\n",
        "    current_lr = optimizer.param_groups[0]['lr']\n",
        "    learning_rates.append(current_lr)\n",
        "\n",
        "    # Flag model as training. Some layers behave differently in training and\n",
        "    # inference modes, such as dropout, BN, etc.\n",
        "    model_ff.train()\n",
        "\n",
        "    print(f\"Training epoch {epoch+1}...\")\n",
        "    print(f\"Current LR: {current_lr}\")\n",
        "\n",
        "    for i, (inputs, y_true) in enumerate(tqdm(train_loader)):\n",
        "        # Transfer data from cpu to gpu\n",
        "        inputs = inputs.to(device)\n",
        "        y_true = y_true.to(device)\n",
        "\n",
        "        # Reset the gradient\n",
        "        optimizer.zero_grad()\n",
        "\n",
        "        # Predict\n",
        "        y_pred = model_ff(inputs)\n",
        "\n",
        "        # Calculate loss\n",
        "        loss = loss_fn(y_pred, y_true)\n",
        "\n",
        "        # Compute gradient\n",
        "        loss.backward()\n",
        "\n",
        "        # Update parameters\n",
        "        optimizer.step()\n",
        "\n",
        "        # Log stuff\n",
        "        train_loss.append(loss)\n",
        "\n",
        "    avg_train_loss = torch.stack(train_loss).mean().item()\n",
        "    train_losses.append(avg_train_loss)\n",
        "\n",
        "    print(f\"Epoch {epoch+1} train loss: {avg_train_loss:.4f}\")\n",
        "\n",
        "    # Validation\n",
        "    model_ff.eval()\n",
        "    with torch.no_grad(): # No gradient is required during validation\n",
        "        print(f\"Validating epoch {epoch+1}\")\n",
        "        val_loss = []\n",
        "        for i, (inputs, y_true) in enumerate(tqdm(val_loader)):\n",
        "            # Transfer data from cpu to gpu\n",
        "            inputs = inputs.to(device)\n",
        "            y_true = y_true.to(device)\n",
        "\n",
        "            # Predict\n",
        "            y_pred = model_ff(inputs)\n",
        "\n",
        "            # Calculate loss\n",
        "            loss = loss_fn(y_pred, y_true)\n",
        "\n",
        "            # Log stuff\n",
        "            val_loss.append(loss)\n",
        "\n",
        "        avg_val_loss = torch.stack(val_loss).mean().item()\n",
        "        val_losses.append(avg_val_loss)\n",
        "        print(f\"Epoch {epoch+1} val loss: {avg_val_loss:.4f}\")\n",
        "\n",
        "        # LR adjustment with scheduler\n",
        "        my_scheduler.step(epoch)\n",
        "\n",
        "        # Save checkpoint if val_loss is the best we got\n",
        "        best_val_loss = np.inf if epoch == 0 else min(val_losses[:-1])\n",
        "        if avg_val_loss < best_val_loss:\n",
        "            # Save whatever you want\n",
        "            state = {\n",
        "                'epoch': epoch,\n",
        "                'model': model_ff.state_dict(),\n",
        "                'optimizer': optimizer.state_dict(),\n",
        "                'scheduler': scheduler.state_dict(),\n",
        "                'train_loss': avg_train_loss,\n",
        "                'val_loss': avg_val_loss,\n",
        "                'best_val_loss': best_val_loss,\n",
        "            }\n",
        "\n",
        "            print(f\"Saving new best model..\")\n",
        "            torch.save(state, 'model_ff.pth.tar')\n",
        "\n",
        "    wandb.log({\n",
        "        'train_loss': avg_train_loss,\n",
        "        'val_loss': avg_val_loss,\n",
        "        'lr': current_lr,\n",
        "    })\n",
        "\n",
        "wandb.finish()\n",
        "print('Finished Training')"
      ]
    },
    {
      "cell_type": "markdown",
      "metadata": {
        "id": "2JguJELuFKvL"
      },
      "source": [
        "# [Optional] Wandb #\n",
        "\n",
        "You should now have a project in wandb with the name `precipitation-nowcasting`, which you should see the latest run you just finished inside the project. If you look into the run, you should be able to see plots of learning rate, train loss, val loss in the `Charts` section. Below it should be `Gradients` and `Parameters` section."
      ]
    },
    {
      "cell_type": "markdown",
      "metadata": {
        "id": "3TUMxeJvFKvM"
      },
      "source": [
        "# Wandb Observation #\n",
        "\n",
        "### Optional TODO#1\n",
        "\n",
        "Write your own interpretation of the logs from this example. A simple sentence or two for each section is sufficient.\n",
        "\n",
        "**Your answer:** gradient of first layer (ff1) is too small compare to other layer whick make parameters distribution of ff1 look like not changing while other layer parameters distribution is changing."
      ]
    },
    {
      "cell_type": "markdown",
      "metadata": {
        "id": "4opfOdo5jpXf"
      },
      "source": [
        "# Evaluation"
      ]
    },
    {
      "cell_type": "code",
      "execution_count": 24,
      "metadata": {
        "id": "ymW77BubFKvC"
      },
      "outputs": [],
      "source": [
        "################################################################################\n",
        "# TODO#10:                                                                     #\n",
        "# Write a function to evaluate your model. Your function must predicts         #\n",
        "# using the input model and return mean square error of the model.             #\n",
        "#                                                                              #\n",
        "# Hint: Read how to use PyTorch's MSE Loss                                     #\n",
        "# https://pytorch.org/docs/stable/generated/torch.nn.MSELoss.html              #\n",
        "################################################################################\n",
        "#                            WRITE YOUR CODE BELOW                             #\n",
        "################################################################################\n",
        "def evaluate(data_loader, model):\n",
        "    \"\"\"\n",
        "    Evaluate model on validation data given by data_loader\n",
        "    \"\"\"\n",
        "    # write code here\n",
        "    wandb.init(project='precipitation-nowcasting')\n",
        "    val_losses = []\n",
        "    wandb.watch(model, log='all')\n",
        "    with torch.no_grad():\n",
        "        for inputs, y_true in tqdm(data_loader):\n",
        "            inputs = inputs.to(device)\n",
        "            y_true = y_true.to(device)\n",
        "            y_pred = model(inputs)\n",
        "            loss = loss_fn(y_pred, y_true)\n",
        "            val_losses.append(loss)\n",
        "        mse = torch.stack(val_losses).mean()\n",
        "        wandb.finish()\n",
        "        return mse"
      ]
    },
    {
      "cell_type": "code",
      "execution_count": 17,
      "metadata": {
        "id": "w7t7ks7vFKvF"
      },
      "outputs": [],
      "source": [
        "# We will use majority rule as a baseline.\n",
        "def majority_baseline(label_set):\n",
        "    unique, counts = np.unique(label_set, return_counts=True)\n",
        "    majority = unique[np.argmax(counts)]\n",
        "    baseline = 0\n",
        "    label_set = label_set.reshape(-1,1)\n",
        "    for r in label_set:\n",
        "        baseline += (majority - r) ** 2 / len(label_set)\n",
        "    return baseline"
      ]
    },
    {
      "cell_type": "code",
      "execution_count": 18,
      "metadata": {
        "id": "v_QU7h4lFKvJ"
      },
      "outputs": [
        {
          "name": "stdout",
          "output_type": "stream",
          "text": [
            "baseline\n",
            "train [1.94397725]\n",
            "validate [1.6746546]\n"
          ]
        }
      ],
      "source": [
        "print('baseline')\n",
        "print('train', majority_baseline(y_train))\n",
        "print('validate', majority_baseline(y_val))"
      ]
    },
    {
      "cell_type": "code",
      "execution_count": 150,
      "metadata": {
        "id": "0dUc0Y9_wHrx"
      },
      "outputs": [
        {
          "name": "stdout",
          "output_type": "stream",
          "text": [
            "FF-model\n"
          ]
        },
        {
          "data": {
            "text/html": [
              "Tracking run with wandb version 0.16.4"
            ],
            "text/plain": [
              "<IPython.core.display.HTML object>"
            ]
          },
          "metadata": {},
          "output_type": "display_data"
        },
        {
          "data": {
            "text/html": [
              "Run data is saved locally in <code>/home/andre/Desktop/CU_submission/Pattern_Recognition/HW5/wandb/run-20240318_034553-x3lgtzsh</code>"
            ],
            "text/plain": [
              "<IPython.core.display.HTML object>"
            ]
          },
          "metadata": {},
          "output_type": "display_data"
        },
        {
          "data": {
            "text/html": [
              "Syncing run <strong><a href='https://wandb.ai/p50629-2013x/precipitation-nowcasting/runs/x3lgtzsh' target=\"_blank\">worthy-water-27</a></strong> to <a href='https://wandb.ai/p50629-2013x/precipitation-nowcasting' target=\"_blank\">Weights & Biases</a> (<a href='https://wandb.me/run' target=\"_blank\">docs</a>)<br/>"
            ],
            "text/plain": [
              "<IPython.core.display.HTML object>"
            ]
          },
          "metadata": {},
          "output_type": "display_data"
        },
        {
          "data": {
            "text/html": [
              " View project at <a href='https://wandb.ai/p50629-2013x/precipitation-nowcasting' target=\"_blank\">https://wandb.ai/p50629-2013x/precipitation-nowcasting</a>"
            ],
            "text/plain": [
              "<IPython.core.display.HTML object>"
            ]
          },
          "metadata": {},
          "output_type": "display_data"
        },
        {
          "data": {
            "text/html": [
              " View run at <a href='https://wandb.ai/p50629-2013x/precipitation-nowcasting/runs/x3lgtzsh' target=\"_blank\">https://wandb.ai/p50629-2013x/precipitation-nowcasting/runs/x3lgtzsh</a>"
            ],
            "text/plain": [
              "<IPython.core.display.HTML object>"
            ]
          },
          "metadata": {},
          "output_type": "display_data"
        },
        {
          "data": {
            "application/vnd.jupyter.widget-view+json": {
              "model_id": "91ee22433ed548ad9e2ddf7ff7eabaa0",
              "version_major": 2,
              "version_minor": 0
            },
            "text/plain": [
              "  0%|          | 0/1121 [00:00<?, ?it/s]"
            ]
          },
          "metadata": {},
          "output_type": "display_data"
        },
        {
          "name": "stderr",
          "output_type": "stream",
          "text": [
            "wandb: WARNING Source type is set to 'repo' but some required information is missing from the environment. A job will not be created from this run. See https://docs.wandb.ai/guides/launch/create-job\n"
          ]
        },
        {
          "data": {
            "application/vnd.jupyter.widget-view+json": {
              "model_id": "7897f53d5b8345f5aa0a3794e63b8f25",
              "version_major": 2,
              "version_minor": 0
            },
            "text/plain": [
              "VBox(children=(Label(value='0.004 MB of 0.051 MB uploaded\\r'), FloatProgress(value=0.07018956990858684, max=1.…"
            ]
          },
          "metadata": {},
          "output_type": "display_data"
        },
        {
          "data": {
            "text/html": [
              " View run <strong style=\"color:#cdcd00\">worthy-water-27</strong> at: <a href='https://wandb.ai/p50629-2013x/precipitation-nowcasting/runs/x3lgtzsh' target=\"_blank\">https://wandb.ai/p50629-2013x/precipitation-nowcasting/runs/x3lgtzsh</a><br/>Synced 5 W&B file(s), 0 media file(s), 0 artifact file(s) and 0 other file(s)"
            ],
            "text/plain": [
              "<IPython.core.display.HTML object>"
            ]
          },
          "metadata": {},
          "output_type": "display_data"
        },
        {
          "data": {
            "text/html": [
              "Find logs at: <code>./wandb/run-20240318_034553-x3lgtzsh/logs</code>"
            ],
            "text/plain": [
              "<IPython.core.display.HTML object>"
            ]
          },
          "metadata": {},
          "output_type": "display_data"
        },
        {
          "name": "stdout",
          "output_type": "stream",
          "text": [
            "train 1.9232276678085327\n"
          ]
        },
        {
          "data": {
            "application/vnd.jupyter.widget-view+json": {
              "model_id": "b504aebe58ee44678f3692bec28f812f",
              "version_major": 2,
              "version_minor": 0
            },
            "text/plain": [
              "VBox(children=(Label(value='Waiting for wandb.init()...\\r'), FloatProgress(value=0.011111867877763063, max=1.0…"
            ]
          },
          "metadata": {},
          "output_type": "display_data"
        },
        {
          "data": {
            "text/html": [
              "Tracking run with wandb version 0.16.4"
            ],
            "text/plain": [
              "<IPython.core.display.HTML object>"
            ]
          },
          "metadata": {},
          "output_type": "display_data"
        },
        {
          "data": {
            "text/html": [
              "Run data is saved locally in <code>/home/andre/Desktop/CU_submission/Pattern_Recognition/HW5/wandb/run-20240318_034629-nb8wizl3</code>"
            ],
            "text/plain": [
              "<IPython.core.display.HTML object>"
            ]
          },
          "metadata": {},
          "output_type": "display_data"
        },
        {
          "data": {
            "text/html": [
              "Syncing run <strong><a href='https://wandb.ai/p50629-2013x/precipitation-nowcasting/runs/nb8wizl3' target=\"_blank\">autumn-river-28</a></strong> to <a href='https://wandb.ai/p50629-2013x/precipitation-nowcasting' target=\"_blank\">Weights & Biases</a> (<a href='https://wandb.me/run' target=\"_blank\">docs</a>)<br/>"
            ],
            "text/plain": [
              "<IPython.core.display.HTML object>"
            ]
          },
          "metadata": {},
          "output_type": "display_data"
        },
        {
          "data": {
            "text/html": [
              " View project at <a href='https://wandb.ai/p50629-2013x/precipitation-nowcasting' target=\"_blank\">https://wandb.ai/p50629-2013x/precipitation-nowcasting</a>"
            ],
            "text/plain": [
              "<IPython.core.display.HTML object>"
            ]
          },
          "metadata": {},
          "output_type": "display_data"
        },
        {
          "data": {
            "text/html": [
              " View run at <a href='https://wandb.ai/p50629-2013x/precipitation-nowcasting/runs/nb8wizl3' target=\"_blank\">https://wandb.ai/p50629-2013x/precipitation-nowcasting/runs/nb8wizl3</a>"
            ],
            "text/plain": [
              "<IPython.core.display.HTML object>"
            ]
          },
          "metadata": {},
          "output_type": "display_data"
        },
        {
          "data": {
            "application/vnd.jupyter.widget-view+json": {
              "model_id": "9afb227fbb174001884bf755f22ebfb7",
              "version_major": 2,
              "version_minor": 0
            },
            "text/plain": [
              "  0%|          | 0/454 [00:00<?, ?it/s]"
            ]
          },
          "metadata": {},
          "output_type": "display_data"
        },
        {
          "name": "stderr",
          "output_type": "stream",
          "text": [
            "wandb: WARNING Source type is set to 'repo' but some required information is missing from the environment. A job will not be created from this run. See https://docs.wandb.ai/guides/launch/create-job\n"
          ]
        },
        {
          "data": {
            "application/vnd.jupyter.widget-view+json": {
              "model_id": "aafb69509aeb485d9f8a50ac6965e28e",
              "version_major": 2,
              "version_minor": 0
            },
            "text/plain": [
              "VBox(children=(Label(value='0.004 MB of 0.038 MB uploaded\\r'), FloatProgress(value=0.09327030725214579, max=1.…"
            ]
          },
          "metadata": {},
          "output_type": "display_data"
        },
        {
          "data": {
            "text/html": [
              " View run <strong style=\"color:#cdcd00\">autumn-river-28</strong> at: <a href='https://wandb.ai/p50629-2013x/precipitation-nowcasting/runs/nb8wizl3' target=\"_blank\">https://wandb.ai/p50629-2013x/precipitation-nowcasting/runs/nb8wizl3</a><br/>Synced 5 W&B file(s), 0 media file(s), 0 artifact file(s) and 0 other file(s)"
            ],
            "text/plain": [
              "<IPython.core.display.HTML object>"
            ]
          },
          "metadata": {},
          "output_type": "display_data"
        },
        {
          "data": {
            "text/html": [
              "Find logs at: <code>./wandb/run-20240318_034629-nb8wizl3/logs</code>"
            ],
            "text/plain": [
              "<IPython.core.display.HTML object>"
            ]
          },
          "metadata": {},
          "output_type": "display_data"
        },
        {
          "name": "stdout",
          "output_type": "stream",
          "text": [
            "validate 1.6613186597824097\n"
          ]
        }
      ],
      "source": [
        "print('FF-model')\n",
        "print('train', evaluate(train_loader, model_ff).item())\n",
        "print('validate', evaluate(val_loader, model_ff).item())"
      ]
    },
    {
      "cell_type": "markdown",
      "metadata": {
        "id": "w0Ynr3VgFKvN"
      },
      "source": [
        "# Dropout #\n",
        "\n",
        "You might notice that the 3-layered feedforward does not use dropout at all. Now, try adding dropout (dropout rate of 20%) to the model, run, and report the result again.\n",
        "\n",
        "To access PyTorch's dropout, use `nn.Dropout`. Read more about PyTorch's built-in Dropout layer [here](https://pytorch.org/docs/stable/generated/torch.nn.Dropout.html)"
      ]
    },
    {
      "cell_type": "code",
      "execution_count": 19,
      "metadata": {
        "id": "rbnMbqT7FKvO"
      },
      "outputs": [],
      "source": [
        "################################################################################\n",
        "# TODO#11:                                                                     #\n",
        "# Write a feedforward model with dropout                                       #\n",
        "################################################################################\n",
        "#                            WRITE YOUR CODE BELOW                             #\n",
        "################################################################################\n",
        "class FeedForwardNNWithDropout(nn.Module):\n",
        "    def __init__(self, hidden_size=200, dropout=0.2):\n",
        "        super(FeedForwardNNWithDropout, self).__init__()\n",
        "        self.ff1 = nn.Linear(75, hidden_size)\n",
        "        self.drop1 = nn.Dropout(p=dropout)\n",
        "        self.ff2 = nn.Linear(hidden_size, hidden_size)\n",
        "        self.drop2 = nn.Dropout(p=dropout)\n",
        "        self.ff3 = nn.Linear(hidden_size, hidden_size)\n",
        "        self.drop3 = nn.Dropout(p=dropout)\n",
        "        self.out = nn.Linear(hidden_size, 1)\n",
        "    def forward(self, x):\n",
        "        hd1 = F.relu(self.ff1(x))\n",
        "        hd1_D = self.drop1(hd1)\n",
        "        hd2 = F.relu(self.ff2(hd1_D))\n",
        "        hd2_D = self.drop2(hd2)\n",
        "        hd3 = F.relu(self.ff3(hd2_D))\n",
        "        hd3_D = self.drop3(hd3)\n",
        "        y = self.out(hd3_D)\n",
        "        return y.reshape(-1, 1)"
      ]
    },
    {
      "cell_type": "code",
      "execution_count": 23,
      "metadata": {
        "id": "TJHG3fvMFKvU"
      },
      "outputs": [
        {
          "name": "stdout",
          "output_type": "stream",
          "text": [
            "start training ff dropout\n"
          ]
        },
        {
          "data": {
            "text/html": [
              "Tracking run with wandb version 0.16.4"
            ],
            "text/plain": [
              "<IPython.core.display.HTML object>"
            ]
          },
          "metadata": {},
          "output_type": "display_data"
        },
        {
          "data": {
            "text/html": [
              "Run data is saved locally in <code>/home/andre/Desktop/CU_submission/Pattern_Recognition/HW5/wandb/run-20240318_163021-fjmwbf4n</code>"
            ],
            "text/plain": [
              "<IPython.core.display.HTML object>"
            ]
          },
          "metadata": {},
          "output_type": "display_data"
        },
        {
          "data": {
            "text/html": [
              "Syncing run <strong><a href='https://wandb.ai/p50629-2013x/precipitation-nowcasting/runs/fjmwbf4n' target=\"_blank\">polished-sponge-35</a></strong> to <a href='https://wandb.ai/p50629-2013x/precipitation-nowcasting' target=\"_blank\">Weights & Biases</a> (<a href='https://wandb.me/run' target=\"_blank\">docs</a>)<br/>"
            ],
            "text/plain": [
              "<IPython.core.display.HTML object>"
            ]
          },
          "metadata": {},
          "output_type": "display_data"
        },
        {
          "data": {
            "text/html": [
              " View project at <a href='https://wandb.ai/p50629-2013x/precipitation-nowcasting' target=\"_blank\">https://wandb.ai/p50629-2013x/precipitation-nowcasting</a>"
            ],
            "text/plain": [
              "<IPython.core.display.HTML object>"
            ]
          },
          "metadata": {},
          "output_type": "display_data"
        },
        {
          "data": {
            "text/html": [
              " View run at <a href='https://wandb.ai/p50629-2013x/precipitation-nowcasting/runs/fjmwbf4n' target=\"_blank\">https://wandb.ai/p50629-2013x/precipitation-nowcasting/runs/fjmwbf4n</a>"
            ],
            "text/plain": [
              "<IPython.core.display.HTML object>"
            ]
          },
          "metadata": {},
          "output_type": "display_data"
        },
        {
          "name": "stdout",
          "output_type": "stream",
          "text": [
            "Training epoch 1...\n",
            "Current LR: 0.01\n"
          ]
        },
        {
          "data": {
            "application/vnd.jupyter.widget-view+json": {
              "model_id": "49f235f42c0e43f0bf478901ce0ebbfe",
              "version_major": 2,
              "version_minor": 0
            },
            "text/plain": [
              "  0%|          | 0/1121 [00:00<?, ?it/s]"
            ]
          },
          "metadata": {},
          "output_type": "display_data"
        },
        {
          "ename": "KeyboardInterrupt",
          "evalue": "",
          "output_type": "error",
          "traceback": [
            "\u001b[0;31m---------------------------------------------------------------------------\u001b[0m",
            "\u001b[0;31mKeyboardInterrupt\u001b[0m                         Traceback (most recent call last)",
            "Cell \u001b[0;32mIn[23], line 48\u001b[0m\n\u001b[1;32m     45\u001b[0m \u001b[38;5;28mprint\u001b[39m(\u001b[38;5;124mf\u001b[39m\u001b[38;5;124m\"\u001b[39m\u001b[38;5;124mTraining epoch \u001b[39m\u001b[38;5;132;01m{\u001b[39;00mepoch\u001b[38;5;241m+\u001b[39m\u001b[38;5;241m1\u001b[39m\u001b[38;5;132;01m}\u001b[39;00m\u001b[38;5;124m...\u001b[39m\u001b[38;5;124m\"\u001b[39m)\n\u001b[1;32m     46\u001b[0m \u001b[38;5;28mprint\u001b[39m(\u001b[38;5;124mf\u001b[39m\u001b[38;5;124m\"\u001b[39m\u001b[38;5;124mCurrent LR: \u001b[39m\u001b[38;5;132;01m{\u001b[39;00mcurrent_lr\u001b[38;5;132;01m}\u001b[39;00m\u001b[38;5;124m\"\u001b[39m)\n\u001b[0;32m---> 48\u001b[0m \u001b[43m\u001b[49m\u001b[38;5;28;43;01mfor\u001b[39;49;00m\u001b[43m \u001b[49m\u001b[43mi\u001b[49m\u001b[43m,\u001b[49m\u001b[43m \u001b[49m\u001b[43m(\u001b[49m\u001b[43minputs\u001b[49m\u001b[43m,\u001b[49m\u001b[43m \u001b[49m\u001b[43my_true\u001b[49m\u001b[43m)\u001b[49m\u001b[43m \u001b[49m\u001b[38;5;129;43;01min\u001b[39;49;00m\u001b[43m \u001b[49m\u001b[38;5;28;43menumerate\u001b[39;49m\u001b[43m(\u001b[49m\u001b[43mtqdm\u001b[49m\u001b[43m(\u001b[49m\u001b[43mtrain_loader\u001b[49m\u001b[43m)\u001b[49m\u001b[43m)\u001b[49m\u001b[43m:\u001b[49m\n\u001b[1;32m     49\u001b[0m \u001b[43m    \u001b[49m\u001b[43minputs\u001b[49m\u001b[43m \u001b[49m\u001b[38;5;241;43m=\u001b[39;49m\u001b[43m \u001b[49m\u001b[43minputs\u001b[49m\u001b[38;5;241;43m.\u001b[39;49m\u001b[43mto\u001b[49m\u001b[43m(\u001b[49m\u001b[43mdevice\u001b[49m\u001b[43m)\u001b[49m\n\u001b[1;32m     50\u001b[0m \u001b[43m    \u001b[49m\u001b[43my_true\u001b[49m\u001b[43m \u001b[49m\u001b[38;5;241;43m=\u001b[39;49m\u001b[43m \u001b[49m\u001b[43my_true\u001b[49m\u001b[38;5;241;43m.\u001b[39;49m\u001b[43mto\u001b[49m\u001b[43m(\u001b[49m\u001b[43mdevice\u001b[49m\u001b[43m)\u001b[49m\n",
            "File \u001b[0;32m~/anaconda3/envs/ML/lib/python3.12/site-packages/tqdm/notebook.py:250\u001b[0m, in \u001b[0;36mtqdm_notebook.__iter__\u001b[0;34m(self)\u001b[0m\n\u001b[1;32m    248\u001b[0m \u001b[38;5;28;01mtry\u001b[39;00m:\n\u001b[1;32m    249\u001b[0m     it \u001b[38;5;241m=\u001b[39m \u001b[38;5;28msuper\u001b[39m(tqdm_notebook, \u001b[38;5;28mself\u001b[39m)\u001b[38;5;241m.\u001b[39m\u001b[38;5;21m__iter__\u001b[39m()\n\u001b[0;32m--> 250\u001b[0m \u001b[43m    \u001b[49m\u001b[38;5;28;43;01mfor\u001b[39;49;00m\u001b[43m \u001b[49m\u001b[43mobj\u001b[49m\u001b[43m \u001b[49m\u001b[38;5;129;43;01min\u001b[39;49;00m\u001b[43m \u001b[49m\u001b[43mit\u001b[49m\u001b[43m:\u001b[49m\n\u001b[1;32m    251\u001b[0m \u001b[43m        \u001b[49m\u001b[38;5;66;43;03m# return super(tqdm...) will not catch exception\u001b[39;49;00m\n\u001b[1;32m    252\u001b[0m \u001b[43m        \u001b[49m\u001b[38;5;28;43;01myield\u001b[39;49;00m\u001b[43m \u001b[49m\u001b[43mobj\u001b[49m\n\u001b[1;32m    253\u001b[0m \u001b[38;5;66;03m# NB: except ... [ as ...] breaks IPython async KeyboardInterrupt\u001b[39;00m\n",
            "File \u001b[0;32m~/anaconda3/envs/ML/lib/python3.12/site-packages/tqdm/std.py:1181\u001b[0m, in \u001b[0;36mtqdm.__iter__\u001b[0;34m(self)\u001b[0m\n\u001b[1;32m   1178\u001b[0m time \u001b[38;5;241m=\u001b[39m \u001b[38;5;28mself\u001b[39m\u001b[38;5;241m.\u001b[39m_time\n\u001b[1;32m   1180\u001b[0m \u001b[38;5;28;01mtry\u001b[39;00m:\n\u001b[0;32m-> 1181\u001b[0m \u001b[43m    \u001b[49m\u001b[38;5;28;43;01mfor\u001b[39;49;00m\u001b[43m \u001b[49m\u001b[43mobj\u001b[49m\u001b[43m \u001b[49m\u001b[38;5;129;43;01min\u001b[39;49;00m\u001b[43m \u001b[49m\u001b[43miterable\u001b[49m\u001b[43m:\u001b[49m\n\u001b[1;32m   1182\u001b[0m \u001b[43m        \u001b[49m\u001b[38;5;28;43;01myield\u001b[39;49;00m\u001b[43m \u001b[49m\u001b[43mobj\u001b[49m\n\u001b[1;32m   1183\u001b[0m \u001b[43m        \u001b[49m\u001b[38;5;66;43;03m# Update and possibly print the progressbar.\u001b[39;49;00m\n\u001b[1;32m   1184\u001b[0m \u001b[43m        \u001b[49m\u001b[38;5;66;43;03m# Note: does not call self.update(1) for speed optimisation.\u001b[39;49;00m\n",
            "File \u001b[0;32m~/anaconda3/envs/ML/lib/python3.12/site-packages/torch/utils/data/dataloader.py:631\u001b[0m, in \u001b[0;36m_BaseDataLoaderIter.__next__\u001b[0;34m(self)\u001b[0m\n\u001b[1;32m    628\u001b[0m \u001b[38;5;28;01mif\u001b[39;00m \u001b[38;5;28mself\u001b[39m\u001b[38;5;241m.\u001b[39m_sampler_iter \u001b[38;5;129;01mis\u001b[39;00m \u001b[38;5;28;01mNone\u001b[39;00m:\n\u001b[1;32m    629\u001b[0m     \u001b[38;5;66;03m# TODO(https://github.com/pytorch/pytorch/issues/76750)\u001b[39;00m\n\u001b[1;32m    630\u001b[0m     \u001b[38;5;28mself\u001b[39m\u001b[38;5;241m.\u001b[39m_reset()  \u001b[38;5;66;03m# type: ignore[call-arg]\u001b[39;00m\n\u001b[0;32m--> 631\u001b[0m data \u001b[38;5;241m=\u001b[39m \u001b[38;5;28;43mself\u001b[39;49m\u001b[38;5;241;43m.\u001b[39;49m\u001b[43m_next_data\u001b[49m\u001b[43m(\u001b[49m\u001b[43m)\u001b[49m\n\u001b[1;32m    632\u001b[0m \u001b[38;5;28mself\u001b[39m\u001b[38;5;241m.\u001b[39m_num_yielded \u001b[38;5;241m+\u001b[39m\u001b[38;5;241m=\u001b[39m \u001b[38;5;241m1\u001b[39m\n\u001b[1;32m    633\u001b[0m \u001b[38;5;28;01mif\u001b[39;00m \u001b[38;5;28mself\u001b[39m\u001b[38;5;241m.\u001b[39m_dataset_kind \u001b[38;5;241m==\u001b[39m _DatasetKind\u001b[38;5;241m.\u001b[39mIterable \u001b[38;5;129;01mand\u001b[39;00m \\\n\u001b[1;32m    634\u001b[0m         \u001b[38;5;28mself\u001b[39m\u001b[38;5;241m.\u001b[39m_IterableDataset_len_called \u001b[38;5;129;01mis\u001b[39;00m \u001b[38;5;129;01mnot\u001b[39;00m \u001b[38;5;28;01mNone\u001b[39;00m \u001b[38;5;129;01mand\u001b[39;00m \\\n\u001b[1;32m    635\u001b[0m         \u001b[38;5;28mself\u001b[39m\u001b[38;5;241m.\u001b[39m_num_yielded \u001b[38;5;241m>\u001b[39m \u001b[38;5;28mself\u001b[39m\u001b[38;5;241m.\u001b[39m_IterableDataset_len_called:\n",
            "File \u001b[0;32m~/anaconda3/envs/ML/lib/python3.12/site-packages/torch/utils/data/dataloader.py:675\u001b[0m, in \u001b[0;36m_SingleProcessDataLoaderIter._next_data\u001b[0;34m(self)\u001b[0m\n\u001b[1;32m    673\u001b[0m \u001b[38;5;28;01mdef\u001b[39;00m \u001b[38;5;21m_next_data\u001b[39m(\u001b[38;5;28mself\u001b[39m):\n\u001b[1;32m    674\u001b[0m     index \u001b[38;5;241m=\u001b[39m \u001b[38;5;28mself\u001b[39m\u001b[38;5;241m.\u001b[39m_next_index()  \u001b[38;5;66;03m# may raise StopIteration\u001b[39;00m\n\u001b[0;32m--> 675\u001b[0m     data \u001b[38;5;241m=\u001b[39m \u001b[38;5;28;43mself\u001b[39;49m\u001b[38;5;241;43m.\u001b[39;49m\u001b[43m_dataset_fetcher\u001b[49m\u001b[38;5;241;43m.\u001b[39;49m\u001b[43mfetch\u001b[49m\u001b[43m(\u001b[49m\u001b[43mindex\u001b[49m\u001b[43m)\u001b[49m  \u001b[38;5;66;03m# may raise StopIteration\u001b[39;00m\n\u001b[1;32m    676\u001b[0m     \u001b[38;5;28;01mif\u001b[39;00m \u001b[38;5;28mself\u001b[39m\u001b[38;5;241m.\u001b[39m_pin_memory:\n\u001b[1;32m    677\u001b[0m         data \u001b[38;5;241m=\u001b[39m _utils\u001b[38;5;241m.\u001b[39mpin_memory\u001b[38;5;241m.\u001b[39mpin_memory(data, \u001b[38;5;28mself\u001b[39m\u001b[38;5;241m.\u001b[39m_pin_memory_device)\n",
            "File \u001b[0;32m~/anaconda3/envs/ML/lib/python3.12/site-packages/torch/utils/data/_utils/fetch.py:51\u001b[0m, in \u001b[0;36m_MapDatasetFetcher.fetch\u001b[0;34m(self, possibly_batched_index)\u001b[0m\n\u001b[1;32m     49\u001b[0m         data \u001b[38;5;241m=\u001b[39m \u001b[38;5;28mself\u001b[39m\u001b[38;5;241m.\u001b[39mdataset\u001b[38;5;241m.\u001b[39m__getitems__(possibly_batched_index)\n\u001b[1;32m     50\u001b[0m     \u001b[38;5;28;01melse\u001b[39;00m:\n\u001b[0;32m---> 51\u001b[0m         data \u001b[38;5;241m=\u001b[39m [\u001b[38;5;28;43mself\u001b[39;49m\u001b[38;5;241;43m.\u001b[39;49m\u001b[43mdataset\u001b[49m\u001b[43m[\u001b[49m\u001b[43midx\u001b[49m\u001b[43m]\u001b[49m \u001b[38;5;28;01mfor\u001b[39;00m idx \u001b[38;5;129;01min\u001b[39;00m possibly_batched_index]\n\u001b[1;32m     52\u001b[0m \u001b[38;5;28;01melse\u001b[39;00m:\n\u001b[1;32m     53\u001b[0m     data \u001b[38;5;241m=\u001b[39m \u001b[38;5;28mself\u001b[39m\u001b[38;5;241m.\u001b[39mdataset[possibly_batched_index]\n",
            "Cell \u001b[0;32mIn[6], line 11\u001b[0m, in \u001b[0;36mRainfallDatasetFF.__getitem__\u001b[0;34m(self, index)\u001b[0m\n\u001b[1;32m      9\u001b[0m \u001b[38;5;28;01mdef\u001b[39;00m \u001b[38;5;21m__getitem__\u001b[39m(\u001b[38;5;28mself\u001b[39m, index):\n\u001b[1;32m     10\u001b[0m     x \u001b[38;5;241m=\u001b[39m \u001b[38;5;28mself\u001b[39m\u001b[38;5;241m.\u001b[39mx[index] \u001b[38;5;66;03m# Retrieve data\u001b[39;00m\n\u001b[0;32m---> 11\u001b[0m     x \u001b[38;5;241m=\u001b[39m \u001b[38;5;28;43mself\u001b[39;49m\u001b[38;5;241;43m.\u001b[39;49m\u001b[43mnormalizer\u001b[49m\u001b[38;5;241;43m.\u001b[39;49m\u001b[43mtransform\u001b[49m\u001b[43m(\u001b[49m\u001b[43mx\u001b[49m\u001b[38;5;241;43m.\u001b[39;49m\u001b[43mreshape\u001b[49m\u001b[43m(\u001b[49m\u001b[38;5;241;43m1\u001b[39;49m\u001b[43m,\u001b[49m\u001b[43m \u001b[49m\u001b[38;5;241;43m-\u001b[39;49m\u001b[38;5;241;43m1\u001b[39;49m\u001b[43m)\u001b[49m\u001b[43m)\u001b[49m \u001b[38;5;66;03m# Normalize\u001b[39;00m\n\u001b[1;32m     12\u001b[0m     y \u001b[38;5;241m=\u001b[39m \u001b[38;5;28mself\u001b[39m\u001b[38;5;241m.\u001b[39my[index]\n\u001b[1;32m     13\u001b[0m     \u001b[38;5;28;01mreturn\u001b[39;00m x, y\n",
            "File \u001b[0;32m~/anaconda3/envs/ML/lib/python3.12/site-packages/sklearn/utils/_set_output.py:140\u001b[0m, in \u001b[0;36m_wrap_method_output.<locals>.wrapped\u001b[0;34m(self, X, *args, **kwargs)\u001b[0m\n\u001b[1;32m    138\u001b[0m \u001b[38;5;129m@wraps\u001b[39m(f)\n\u001b[1;32m    139\u001b[0m \u001b[38;5;28;01mdef\u001b[39;00m \u001b[38;5;21mwrapped\u001b[39m(\u001b[38;5;28mself\u001b[39m, X, \u001b[38;5;241m*\u001b[39margs, \u001b[38;5;241m*\u001b[39m\u001b[38;5;241m*\u001b[39mkwargs):\n\u001b[0;32m--> 140\u001b[0m     data_to_wrap \u001b[38;5;241m=\u001b[39m \u001b[43mf\u001b[49m\u001b[43m(\u001b[49m\u001b[38;5;28;43mself\u001b[39;49m\u001b[43m,\u001b[49m\u001b[43m \u001b[49m\u001b[43mX\u001b[49m\u001b[43m,\u001b[49m\u001b[43m \u001b[49m\u001b[38;5;241;43m*\u001b[39;49m\u001b[43margs\u001b[49m\u001b[43m,\u001b[49m\u001b[43m \u001b[49m\u001b[38;5;241;43m*\u001b[39;49m\u001b[38;5;241;43m*\u001b[39;49m\u001b[43mkwargs\u001b[49m\u001b[43m)\u001b[49m\n\u001b[1;32m    141\u001b[0m     \u001b[38;5;28;01mif\u001b[39;00m \u001b[38;5;28misinstance\u001b[39m(data_to_wrap, \u001b[38;5;28mtuple\u001b[39m):\n\u001b[1;32m    142\u001b[0m         \u001b[38;5;66;03m# only wrap the first output for cross decomposition\u001b[39;00m\n\u001b[1;32m    143\u001b[0m         return_tuple \u001b[38;5;241m=\u001b[39m (\n\u001b[1;32m    144\u001b[0m             _wrap_data_with_container(method, data_to_wrap[\u001b[38;5;241m0\u001b[39m], X, \u001b[38;5;28mself\u001b[39m),\n\u001b[1;32m    145\u001b[0m             \u001b[38;5;241m*\u001b[39mdata_to_wrap[\u001b[38;5;241m1\u001b[39m:],\n\u001b[1;32m    146\u001b[0m         )\n",
            "File \u001b[0;32m~/anaconda3/envs/ML/lib/python3.12/site-packages/sklearn/preprocessing/_data.py:1001\u001b[0m, in \u001b[0;36mStandardScaler.transform\u001b[0;34m(self, X, copy)\u001b[0m\n\u001b[1;32m    986\u001b[0m \u001b[38;5;28;01mdef\u001b[39;00m \u001b[38;5;21mtransform\u001b[39m(\u001b[38;5;28mself\u001b[39m, X, copy\u001b[38;5;241m=\u001b[39m\u001b[38;5;28;01mNone\u001b[39;00m):\n\u001b[1;32m    987\u001b[0m \u001b[38;5;250m    \u001b[39m\u001b[38;5;124;03m\"\"\"Perform standardization by centering and scaling.\u001b[39;00m\n\u001b[1;32m    988\u001b[0m \n\u001b[1;32m    989\u001b[0m \u001b[38;5;124;03m    Parameters\u001b[39;00m\n\u001b[0;32m   (...)\u001b[0m\n\u001b[1;32m    999\u001b[0m \u001b[38;5;124;03m        Transformed array.\u001b[39;00m\n\u001b[1;32m   1000\u001b[0m \u001b[38;5;124;03m    \"\"\"\u001b[39;00m\n\u001b[0;32m-> 1001\u001b[0m     \u001b[43mcheck_is_fitted\u001b[49m\u001b[43m(\u001b[49m\u001b[38;5;28;43mself\u001b[39;49m\u001b[43m)\u001b[49m\n\u001b[1;32m   1003\u001b[0m     copy \u001b[38;5;241m=\u001b[39m copy \u001b[38;5;28;01mif\u001b[39;00m copy \u001b[38;5;129;01mis\u001b[39;00m \u001b[38;5;129;01mnot\u001b[39;00m \u001b[38;5;28;01mNone\u001b[39;00m \u001b[38;5;28;01melse\u001b[39;00m \u001b[38;5;28mself\u001b[39m\u001b[38;5;241m.\u001b[39mcopy\n\u001b[1;32m   1004\u001b[0m     X \u001b[38;5;241m=\u001b[39m \u001b[38;5;28mself\u001b[39m\u001b[38;5;241m.\u001b[39m_validate_data(\n\u001b[1;32m   1005\u001b[0m         X,\n\u001b[1;32m   1006\u001b[0m         reset\u001b[38;5;241m=\u001b[39m\u001b[38;5;28;01mFalse\u001b[39;00m,\n\u001b[0;32m   (...)\u001b[0m\n\u001b[1;32m   1010\u001b[0m         force_all_finite\u001b[38;5;241m=\u001b[39m\u001b[38;5;124m\"\u001b[39m\u001b[38;5;124mallow-nan\u001b[39m\u001b[38;5;124m\"\u001b[39m,\n\u001b[1;32m   1011\u001b[0m     )\n",
            "File \u001b[0;32m~/anaconda3/envs/ML/lib/python3.12/site-packages/sklearn/utils/validation.py:1461\u001b[0m, in \u001b[0;36mcheck_is_fitted\u001b[0;34m(estimator, attributes, msg, all_or_any)\u001b[0m\n\u001b[1;32m   1458\u001b[0m \u001b[38;5;28;01mif\u001b[39;00m \u001b[38;5;129;01mnot\u001b[39;00m \u001b[38;5;28mhasattr\u001b[39m(estimator, \u001b[38;5;124m\"\u001b[39m\u001b[38;5;124mfit\u001b[39m\u001b[38;5;124m\"\u001b[39m):\n\u001b[1;32m   1459\u001b[0m     \u001b[38;5;28;01mraise\u001b[39;00m \u001b[38;5;167;01mTypeError\u001b[39;00m(\u001b[38;5;124m\"\u001b[39m\u001b[38;5;132;01m%s\u001b[39;00m\u001b[38;5;124m is not an estimator instance.\u001b[39m\u001b[38;5;124m\"\u001b[39m \u001b[38;5;241m%\u001b[39m (estimator))\n\u001b[0;32m-> 1461\u001b[0m \u001b[38;5;28;01mif\u001b[39;00m \u001b[38;5;129;01mnot\u001b[39;00m \u001b[43m_is_fitted\u001b[49m\u001b[43m(\u001b[49m\u001b[43mestimator\u001b[49m\u001b[43m,\u001b[49m\u001b[43m \u001b[49m\u001b[43mattributes\u001b[49m\u001b[43m,\u001b[49m\u001b[43m \u001b[49m\u001b[43mall_or_any\u001b[49m\u001b[43m)\u001b[49m:\n\u001b[1;32m   1462\u001b[0m     \u001b[38;5;28;01mraise\u001b[39;00m NotFittedError(msg \u001b[38;5;241m%\u001b[39m {\u001b[38;5;124m\"\u001b[39m\u001b[38;5;124mname\u001b[39m\u001b[38;5;124m\"\u001b[39m: \u001b[38;5;28mtype\u001b[39m(estimator)\u001b[38;5;241m.\u001b[39m\u001b[38;5;18m__name__\u001b[39m})\n",
            "File \u001b[0;32m~/anaconda3/envs/ML/lib/python3.12/site-packages/sklearn/utils/validation.py:1396\u001b[0m, in \u001b[0;36m_is_fitted\u001b[0;34m(estimator, attributes, all_or_any)\u001b[0m\n\u001b[1;32m   1393\u001b[0m         attributes \u001b[38;5;241m=\u001b[39m [attributes]\n\u001b[1;32m   1394\u001b[0m     \u001b[38;5;28;01mreturn\u001b[39;00m all_or_any([\u001b[38;5;28mhasattr\u001b[39m(estimator, attr) \u001b[38;5;28;01mfor\u001b[39;00m attr \u001b[38;5;129;01min\u001b[39;00m attributes])\n\u001b[0;32m-> 1396\u001b[0m \u001b[38;5;28;01mif\u001b[39;00m \u001b[38;5;28;43mhasattr\u001b[39;49m\u001b[43m(\u001b[49m\u001b[43mestimator\u001b[49m\u001b[43m,\u001b[49m\u001b[43m \u001b[49m\u001b[38;5;124;43m\"\u001b[39;49m\u001b[38;5;124;43m__sklearn_is_fitted__\u001b[39;49m\u001b[38;5;124;43m\"\u001b[39;49m\u001b[43m)\u001b[49m:\n\u001b[1;32m   1397\u001b[0m     \u001b[38;5;28;01mreturn\u001b[39;00m estimator\u001b[38;5;241m.\u001b[39m__sklearn_is_fitted__()\n\u001b[1;32m   1399\u001b[0m fitted_attrs \u001b[38;5;241m=\u001b[39m [\n\u001b[1;32m   1400\u001b[0m     v \u001b[38;5;28;01mfor\u001b[39;00m v \u001b[38;5;129;01min\u001b[39;00m \u001b[38;5;28mvars\u001b[39m(estimator) \u001b[38;5;28;01mif\u001b[39;00m v\u001b[38;5;241m.\u001b[39mendswith(\u001b[38;5;124m\"\u001b[39m\u001b[38;5;124m_\u001b[39m\u001b[38;5;124m\"\u001b[39m) \u001b[38;5;129;01mand\u001b[39;00m \u001b[38;5;129;01mnot\u001b[39;00m v\u001b[38;5;241m.\u001b[39mstartswith(\u001b[38;5;124m\"\u001b[39m\u001b[38;5;124m__\u001b[39m\u001b[38;5;124m\"\u001b[39m)\n\u001b[1;32m   1401\u001b[0m ]\n",
            "\u001b[0;31mKeyboardInterrupt\u001b[0m: "
          ]
        }
      ],
      "source": [
        "################################################################################\n",
        "# TODO#12:                                                                     #\n",
        "# Complete the code to train your dropout model                                #\n",
        "################################################################################\n",
        "print('start training ff dropout')\n",
        "################################################################################\n",
        "#                            WRITE YOUR CODE BELOW                             #\n",
        "################################################################################\n",
        "config = {\n",
        "    'architecture': 'feedforward',\n",
        "    'lr': 0.01,\n",
        "    'hidden_size': 200,\n",
        "    'scheduler_factor': 0.2,\n",
        "    'scheduler_patience': 2,\n",
        "    'scheduler_min_lr': 1e-4,\n",
        "    'epochs': 10\n",
        "}\n",
        "model_ff_drop = FeedForwardNNWithDropout(hidden_size=config['hidden_size'])\n",
        "model_ff_drop = model_ff_drop.to(device)\n",
        "optimizer_drop = torch.optim.Adam(model_ff_drop.parameters(), lr=config['lr'])\n",
        "scheduler_drop = torch.optim.lr_scheduler.ReduceLROnPlateau(\n",
        "    optimizer_drop,\n",
        "    'min',\n",
        "    factor=config['scheduler_factor'],\n",
        "    patience=config['scheduler_patience'],\n",
        "    min_lr=config['scheduler_min_lr']\n",
        ")\n",
        "\n",
        "wandb.init(\n",
        "    project='precipitation-nowcasting',\n",
        "    config=config,\n",
        ")\n",
        "wandb.watch(model_ff_drop, log='all')\n",
        "\n",
        "train_losses = []\n",
        "val_losses = []\n",
        "learning_rates = []\n",
        "\n",
        "for epoch in range(config['epochs']):\n",
        "    train_loss = []\n",
        "    current_lr = optimizer_drop.param_groups[0]['lr']\n",
        "    learning_rates.append(current_lr)\n",
        "\n",
        "    model_ff_drop.train()\n",
        "    print(f\"Training epoch {epoch+1}...\")\n",
        "    print(f\"Current LR: {current_lr}\")\n",
        "\n",
        "    for i, (inputs, y_true) in enumerate(tqdm(train_loader)):\n",
        "        inputs = inputs.to(device)\n",
        "        y_true = y_true.to(device)\n",
        "        optimizer_drop.zero_grad()\n",
        "\n",
        "        y_pred = model_ff_drop(inputs)\n",
        "        loss = loss_fn(y_pred, y_true)\n",
        "        loss.backward()\n",
        "\n",
        "        optimizer_drop.step()\n",
        "        train_loss.append(loss)\n",
        "\n",
        "    avg_train_loss = torch.stack(train_loss).mean().item()\n",
        "    train_losses.append(avg_train_loss)\n",
        "    print(f\"Epoch {epoch+1} train loss: {avg_train_loss:.4f}\")\n",
        "\n",
        "    model_ff_drop.eval()\n",
        "    with torch.no_grad():\n",
        "        print(f\"Validating epoch {epoch+1}\")\n",
        "        val_loss = []\n",
        "        for i, (inputs, y_true) in enumerate(tqdm(val_loader)):\n",
        "            inputs = inputs.to(device)\n",
        "            y_true = y_true.to(device)\n",
        "            y_pred = model_ff_drop(inputs)\n",
        "            loss = loss_fn(y_pred, y_true)\n",
        "            val_loss.append(loss)\n",
        "        avg_val_loss = torch.stack(val_loss).mean().item()\n",
        "        val_losses.append(avg_val_loss)\n",
        "        scheduler_drop.step(avg_val_loss)\n",
        "        print(f\"Epoch {epoch+1} val loss: {avg_val_loss:.4f}\")\n",
        "\n",
        "        best_val_loss = np.inf if epoch == 0 else min(val_losses[:-1])\n",
        "        if avg_val_loss < best_val_loss:\n",
        "            state = {\n",
        "                'epoch': epoch,\n",
        "                'model': model_ff_drop.state_dict(),\n",
        "                'optimizer': optimizer_drop.state_dict(),\n",
        "                'scheduler': scheduler_drop.state_dict(),\n",
        "                'train_loss': avg_train_loss,\n",
        "                'val_loss': avg_val_loss,\n",
        "                'best_val_loss': best_val_loss,\n",
        "            }\n",
        "            print(f\"Saving new best model..\")\n",
        "            torch.save(state, 'model_ff_drop.pth.tar')\n",
        "\n",
        "    wandb.log({\n",
        "        'train_loss': avg_train_loss,\n",
        "        'val_loss': avg_val_loss,\n",
        "        'lr': current_lr,\n",
        "    })\n",
        "\n",
        "wandb.finish()"
      ]
    },
    {
      "cell_type": "markdown",
      "metadata": {
        "id": "flM71KL-q9wI"
      },
      "source": [
        "### TODO#13\n",
        "\n",
        "Plot the losses and MSE of the training and validation as before. Evaluate the dropout model's performance"
      ]
    },
    {
      "cell_type": "code",
      "execution_count": 21,
      "metadata": {
        "id": "sAIRXOxTEcox"
      },
      "outputs": [
        {
          "data": {
            "image/png": "[encoded data removed]",
            "text/plain": [
              "<Figure size 640x480 with 1 Axes>"
            ]
          },
          "metadata": {},
          "output_type": "display_data"
        },
        {
          "data": {
            "image/png": "[encoded data removed]",
            "text/plain": [
              "<Figure size 640x480 with 1 Axes>"
            ]
          },
          "metadata": {},
          "output_type": "display_data"
        }
      ],
      "source": [
        "# Plot here\n",
        "plt.plot(train_losses, label='train loss')\n",
        "plt.xlabel('Epoch')\n",
        "plt.ylabel('Loss')\n",
        "plt.legend()\n",
        "plt.show()\n",
        "plt.plot(val_losses, label='val loss')\n",
        "plt.xlabel('Epoch')\n",
        "plt.ylabel('Loss')\n",
        "plt.legend()\n",
        "plt.show()"
      ]
    },
    {
      "cell_type": "code",
      "execution_count": 25,
      "metadata": {
        "id": "JYJcKIDEon2c"
      },
      "outputs": [
        {
          "name": "stdout",
          "output_type": "stream",
          "text": [
            "FF-dropout-model\n"
          ]
        },
        {
          "data": {
            "text/html": [
              "Finishing last run (ID:fjmwbf4n) before initializing another..."
            ],
            "text/plain": [
              "<IPython.core.display.HTML object>"
            ]
          },
          "metadata": {},
          "output_type": "display_data"
        },
        {
          "name": "stderr",
          "output_type": "stream",
          "text": [
            "wandb: WARNING Source type is set to 'repo' but some required information is missing from the environment. A job will not be created from this run. See https://docs.wandb.ai/guides/launch/create-job\n"
          ]
        },
        {
          "data": {
            "application/vnd.jupyter.widget-view+json": {
              "model_id": "1c7b9da57a4c4649a8a8bf29c4c1f0c5",
              "version_major": 2,
              "version_minor": 0
            },
            "text/plain": [
              "VBox(children=(Label(value='0.004 MB of 0.004 MB uploaded\\r'), FloatProgress(value=1.0, max=1.0)))"
            ]
          },
          "metadata": {},
          "output_type": "display_data"
        },
        {
          "data": {
            "text/html": [
              " View run <strong style=\"color:#cdcd00\">polished-sponge-35</strong> at: <a href='https://wandb.ai/p50629-2013x/precipitation-nowcasting/runs/fjmwbf4n' target=\"_blank\">https://wandb.ai/p50629-2013x/precipitation-nowcasting/runs/fjmwbf4n</a><br/>Synced 6 W&B file(s), 0 media file(s), 0 artifact file(s) and 0 other file(s)"
            ],
            "text/plain": [
              "<IPython.core.display.HTML object>"
            ]
          },
          "metadata": {},
          "output_type": "display_data"
        },
        {
          "data": {
            "text/html": [
              "Find logs at: <code>./wandb/run-20240318_163021-fjmwbf4n/logs</code>"
            ],
            "text/plain": [
              "<IPython.core.display.HTML object>"
            ]
          },
          "metadata": {},
          "output_type": "display_data"
        },
        {
          "data": {
            "text/html": [
              "Successfully finished last run (ID:fjmwbf4n). Initializing new run:<br/>"
            ],
            "text/plain": [
              "<IPython.core.display.HTML object>"
            ]
          },
          "metadata": {},
          "output_type": "display_data"
        },
        {
          "data": {
            "application/vnd.jupyter.widget-view+json": {
              "model_id": "f1cc39b5ee4f4f849862fd5ee9a355cd",
              "version_major": 2,
              "version_minor": 0
            },
            "text/plain": [
              "VBox(children=(Label(value='Waiting for wandb.init()...\\r'), FloatProgress(value=0.011111915944436786, max=1.0…"
            ]
          },
          "metadata": {},
          "output_type": "display_data"
        },
        {
          "data": {
            "text/html": [
              "Tracking run with wandb version 0.16.4"
            ],
            "text/plain": [
              "<IPython.core.display.HTML object>"
            ]
          },
          "metadata": {},
          "output_type": "display_data"
        },
        {
          "data": {
            "text/html": [
              "Run data is saved locally in <code>/home/andre/Desktop/CU_submission/Pattern_Recognition/HW5/wandb/run-20240318_163039-hc7k944v</code>"
            ],
            "text/plain": [
              "<IPython.core.display.HTML object>"
            ]
          },
          "metadata": {},
          "output_type": "display_data"
        },
        {
          "data": {
            "text/html": [
              "Syncing run <strong><a href='https://wandb.ai/p50629-2013x/precipitation-nowcasting/runs/hc7k944v' target=\"_blank\">daily-serenity-36</a></strong> to <a href='https://wandb.ai/p50629-2013x/precipitation-nowcasting' target=\"_blank\">Weights & Biases</a> (<a href='https://wandb.me/run' target=\"_blank\">docs</a>)<br/>"
            ],
            "text/plain": [
              "<IPython.core.display.HTML object>"
            ]
          },
          "metadata": {},
          "output_type": "display_data"
        },
        {
          "data": {
            "text/html": [
              " View project at <a href='https://wandb.ai/p50629-2013x/precipitation-nowcasting' target=\"_blank\">https://wandb.ai/p50629-2013x/precipitation-nowcasting</a>"
            ],
            "text/plain": [
              "<IPython.core.display.HTML object>"
            ]
          },
          "metadata": {},
          "output_type": "display_data"
        },
        {
          "data": {
            "text/html": [
              " View run at <a href='https://wandb.ai/p50629-2013x/precipitation-nowcasting/runs/hc7k944v' target=\"_blank\">https://wandb.ai/p50629-2013x/precipitation-nowcasting/runs/hc7k944v</a>"
            ],
            "text/plain": [
              "<IPython.core.display.HTML object>"
            ]
          },
          "metadata": {},
          "output_type": "display_data"
        },
        {
          "data": {
            "application/vnd.jupyter.widget-view+json": {
              "model_id": "70c0083921764838a09d712a56b552c8",
              "version_major": 2,
              "version_minor": 0
            },
            "text/plain": [
              "  0%|          | 0/1121 [00:00<?, ?it/s]"
            ]
          },
          "metadata": {},
          "output_type": "display_data"
        },
        {
          "name": "stderr",
          "output_type": "stream",
          "text": [
            "wandb: WARNING Source type is set to 'repo' but some required information is missing from the environment. A job will not be created from this run. See https://docs.wandb.ai/guides/launch/create-job\n"
          ]
        },
        {
          "data": {
            "application/vnd.jupyter.widget-view+json": {
              "model_id": "8b615684bcfb4157813dfbed5b9f6d7c",
              "version_major": 2,
              "version_minor": 0
            },
            "text/plain": [
              "VBox(children=(Label(value='0.013 MB of 0.038 MB uploaded\\r'), FloatProgress(value=0.3320135321388297, max=1.0…"
            ]
          },
          "metadata": {},
          "output_type": "display_data"
        },
        {
          "data": {
            "text/html": [
              " View run <strong style=\"color:#cdcd00\">daily-serenity-36</strong> at: <a href='https://wandb.ai/p50629-2013x/precipitation-nowcasting/runs/hc7k944v' target=\"_blank\">https://wandb.ai/p50629-2013x/precipitation-nowcasting/runs/hc7k944v</a><br/>Synced 5 W&B file(s), 0 media file(s), 0 artifact file(s) and 0 other file(s)"
            ],
            "text/plain": [
              "<IPython.core.display.HTML object>"
            ]
          },
          "metadata": {},
          "output_type": "display_data"
        },
        {
          "data": {
            "text/html": [
              "Find logs at: <code>./wandb/run-20240318_163039-hc7k944v/logs</code>"
            ],
            "text/plain": [
              "<IPython.core.display.HTML object>"
            ]
          },
          "metadata": {},
          "output_type": "display_data"
        },
        {
          "name": "stdout",
          "output_type": "stream",
          "text": [
            "train 1.923770546913147\n"
          ]
        },
        {
          "data": {
            "application/vnd.jupyter.widget-view+json": {
              "model_id": "82c907e965ce4133a9e243047168b68e",
              "version_major": 2,
              "version_minor": 0
            },
            "text/plain": [
              "VBox(children=(Label(value='Waiting for wandb.init()...\\r'), FloatProgress(value=0.01111190829999234, max=1.0)…"
            ]
          },
          "metadata": {},
          "output_type": "display_data"
        },
        {
          "data": {
            "text/html": [
              "Tracking run with wandb version 0.16.4"
            ],
            "text/plain": [
              "<IPython.core.display.HTML object>"
            ]
          },
          "metadata": {},
          "output_type": "display_data"
        },
        {
          "data": {
            "text/html": [
              "Run data is saved locally in <code>/home/andre/Desktop/CU_submission/Pattern_Recognition/HW5/wandb/run-20240318_163122-8dx4lyzx</code>"
            ],
            "text/plain": [
              "<IPython.core.display.HTML object>"
            ]
          },
          "metadata": {},
          "output_type": "display_data"
        },
        {
          "data": {
            "text/html": [
              "Syncing run <strong><a href='https://wandb.ai/p50629-2013x/precipitation-nowcasting/runs/8dx4lyzx' target=\"_blank\">laced-sponge-37</a></strong> to <a href='https://wandb.ai/p50629-2013x/precipitation-nowcasting' target=\"_blank\">Weights & Biases</a> (<a href='https://wandb.me/run' target=\"_blank\">docs</a>)<br/>"
            ],
            "text/plain": [
              "<IPython.core.display.HTML object>"
            ]
          },
          "metadata": {},
          "output_type": "display_data"
        },
        {
          "data": {
            "text/html": [
              " View project at <a href='https://wandb.ai/p50629-2013x/precipitation-nowcasting' target=\"_blank\">https://wandb.ai/p50629-2013x/precipitation-nowcasting</a>"
            ],
            "text/plain": [
              "<IPython.core.display.HTML object>"
            ]
          },
          "metadata": {},
          "output_type": "display_data"
        },
        {
          "data": {
            "text/html": [
              " View run at <a href='https://wandb.ai/p50629-2013x/precipitation-nowcasting/runs/8dx4lyzx' target=\"_blank\">https://wandb.ai/p50629-2013x/precipitation-nowcasting/runs/8dx4lyzx</a>"
            ],
            "text/plain": [
              "<IPython.core.display.HTML object>"
            ]
          },
          "metadata": {},
          "output_type": "display_data"
        },
        {
          "data": {
            "application/vnd.jupyter.widget-view+json": {
              "model_id": "1f887907fea244e79afcd0be78828eec",
              "version_major": 2,
              "version_minor": 0
            },
            "text/plain": [
              "  0%|          | 0/454 [00:00<?, ?it/s]"
            ]
          },
          "metadata": {},
          "output_type": "display_data"
        },
        {
          "name": "stderr",
          "output_type": "stream",
          "text": [
            "wandb: WARNING Source type is set to 'repo' but some required information is missing from the environment. A job will not be created from this run. See https://docs.wandb.ai/guides/launch/create-job\n"
          ]
        },
        {
          "data": {
            "application/vnd.jupyter.widget-view+json": {
              "model_id": "dd01eeb0c4d24d4ea382b5cb37012b7f",
              "version_major": 2,
              "version_minor": 0
            },
            "text/plain": [
              "VBox(children=(Label(value='0.006 MB of 0.013 MB uploaded\\r'), FloatProgress(value=0.43050600655260285, max=1.…"
            ]
          },
          "metadata": {},
          "output_type": "display_data"
        },
        {
          "data": {
            "text/html": [
              " View run <strong style=\"color:#cdcd00\">laced-sponge-37</strong> at: <a href='https://wandb.ai/p50629-2013x/precipitation-nowcasting/runs/8dx4lyzx' target=\"_blank\">https://wandb.ai/p50629-2013x/precipitation-nowcasting/runs/8dx4lyzx</a><br/>Synced 5 W&B file(s), 0 media file(s), 0 artifact file(s) and 0 other file(s)"
            ],
            "text/plain": [
              "<IPython.core.display.HTML object>"
            ]
          },
          "metadata": {},
          "output_type": "display_data"
        },
        {
          "data": {
            "text/html": [
              "Find logs at: <code>./wandb/run-20240318_163122-8dx4lyzx/logs</code>"
            ],
            "text/plain": [
              "<IPython.core.display.HTML object>"
            ]
          },
          "metadata": {},
          "output_type": "display_data"
        },
        {
          "name": "stdout",
          "output_type": "stream",
          "text": [
            "validate 1.6603745222091675\n"
          ]
        }
      ],
      "source": [
        "# Evaluate\n",
        "print('FF-dropout-model')\n",
        "print('train', evaluate(train_loader, model_ff_drop).item())\n",
        "print('validate', evaluate(val_loader, model_ff_drop).item())"
      ]
    },
    {
      "cell_type": "markdown",
      "metadata": {
        "id": "nJFdUpD8FKvc"
      },
      "source": [
        "# Convolution Neural Networks\n",
        "Now let's try to incorporate the grid sturcture to your model. Instead of passing in vectors, we are going to pass in the 5x5 grid into the model (5lat x 5long x 3channel). You are going to implement you own 2d-convolution neural networks with the following structure.\n",
        "```\n",
        "==========================================================================================\n",
        "Layer (type:depth-idx)                   Output Shape              Param #\n",
        "==========================================================================================\n",
        "Conv2DNN                                 --                        --\n",
        "├─Conv2d: 1-1                            [1024, 200, 3, 3]         5,600\n",
        "├─Linear: 1-2                            [1024, 200]               360,200\n",
        "├─Linear: 1-3                            [1024, 200]               40,200\n",
        "├─Linear: 1-4                            [1024, 1]                 201\n",
        "==========================================================================================\n",
        "Total params: 406,201\n",
        "Trainable params: 406,201\n",
        "Non-trainable params: 0\n",
        "```\n",
        "These parameters are simple guidelines to save your time.    \n",
        "You can play with them in the final section which you can choose any normalization methods, activation function, as well as any hyperparameter the way you want.         \n",
        "\n",
        "Hint: You should read PyTorch documentation to see the list of available layers and options you can use.                         "
      ]
    },
    {
      "cell_type": "code",
      "execution_count": 26,
      "metadata": {
        "id": "U6vLD-bdFKvc"
      },
      "outputs": [
        {
          "name": "stdout",
          "output_type": "stream",
          "text": [
            "torch.Size([1147740, 75])\n",
            "torch.Size([1147740, 3, 5, 5])\n"
          ]
        }
      ],
      "source": [
        "################################################################################\n",
        "# TODO#14:                                                                     #\n",
        "# Complete the code for preparing data for training CNN                        #\n",
        "# Input for CNN should not have time step.                                     #\n",
        "################################################################################\n",
        "#                            WRITE YOUR CODE BELOW                             #\n",
        "################################################################################\n",
        "# def preprocess_for_cnn(x_train, y_train, x_val, y_val):\n",
        "#     x_train_cnn = x_train.reshape((-1, 5, 5, 3)).transpose(0, 3, 1, 2)\n",
        "#     y_train_cnn = y_train.reshape((-1, 1))\n",
        "#     x_val_cnn = x_val.reshape((-1, 5, 5, 3)).transpose(0, 3, 1, 2)\n",
        "#     y_val_cnn = y_val.reshape((-1, 1))\n",
        "#     x_test_cnn = x_test.reshape((-1, 5, 5, 3)).transpose(0, 3, 1, 2)\n",
        "#     y_test_cnn = y_test.reshape((-1, 1))\n",
        "#     return x_train_cnn, y_train_cnn, x_val_cnn, y_val_cnn, x_test_cnn, y_test_cnn\n",
        "\n",
        "# x_train_cnn, y_train_cnn, x_val_cnn, y_val_cnn, x_test_cnn, y_test_cnn = preprocess_for_cnn(x_train, y_train, x_val, y_val)\n",
        "# print(x_train_cnn.shape, y_train_cnn.shape)\n",
        "# print(x_val_cnn.shape, y_val_cnn.shape)\n",
        "# print(x_test_cnn.shape, y_test_cnn.shape)\n",
        "\n",
        "def FFtoCNN(x):\n",
        "    return x.reshape((-1, 5, 5, 3)).transpose(1, 3)\n",
        "\n",
        "x0 = torch.tensor(preprocess_for_ff(x_train, y_train, x_val, y_val)[0])\n",
        "print(x0.shape)\n",
        "print(FFtoCNN(x0).shape)"
      ]
    },
    {
      "cell_type": "code",
      "execution_count": 27,
      "metadata": {
        "id": "v1kmlOtfFKvg"
      },
      "outputs": [],
      "source": [
        "################################################################################\n",
        "# TODO#15:                                                                     #\n",
        "# Write a PyTorch convolutional neural network model.                          #\n",
        "# You might want to use the layer torch.flatten somewhere                      #\n",
        "################################################################################\n",
        "#                            WRITE YOUR CODE BELOW                             #\n",
        "################################################################################\n",
        "class CNNfeedForwardNN(nn.Module):\n",
        "    def __init__(self, hidden_size=200):\n",
        "        super(CNNfeedForwardNN, self).__init__()\n",
        "        self.conv1 = nn.Conv2d(3, hidden_size, 3)\n",
        "        self.ff1 = nn.Linear(hidden_size*9, hidden_size)\n",
        "        self.ff2 = nn.Linear(hidden_size, hidden_size)\n",
        "        self.out = nn.Linear(hidden_size, 1)\n",
        "    \n",
        "    def forward(self, x):\n",
        "        hd1 = F.relu(self.conv1(x))\n",
        "        hd1 = torch.flatten(hd1, 1)\n",
        "        hd2 = F.relu(self.ff1(hd1))\n",
        "        hd3 = F.relu(self.ff2(hd2))\n",
        "        y = self.out(hd3)\n",
        "        return y\n"
      ]
    },
    {
      "cell_type": "code",
      "execution_count": 114,
      "metadata": {},
      "outputs": [
        {
          "data": {
            "text/plain": [
              "==========================================================================================\n",
              "Layer (type:depth-idx)                   Output Shape              Param #\n",
              "==========================================================================================\n",
              "CNNfeedForwardNN                         [1024, 1]                 --\n",
              "├─Conv2d: 1-1                            [1024, 200, 3, 3]         5,600\n",
              "├─Linear: 1-2                            [1024, 200]               360,200\n",
              "├─Linear: 1-3                            [1024, 200]               40,200\n",
              "├─Linear: 1-4                            [1024, 1]                 201\n",
              "==========================================================================================\n",
              "Total params: 406,201\n",
              "Trainable params: 406,201\n",
              "Non-trainable params: 0\n",
              "Total mult-adds (Units.MEGABYTES): 461.83\n",
              "==========================================================================================\n",
              "Input size (MB): 0.31\n",
              "Forward/backward pass size (MB): 18.03\n",
              "Params size (MB): 1.62\n",
              "Estimated Total Size (MB): 19.96\n",
              "=========================================================================================="
            ]
          },
          "execution_count": 114,
          "metadata": {},
          "output_type": "execute_result"
        }
      ],
      "source": [
        "config = {\n",
        "    'architecture': 'cnn',\n",
        "    'lr': 0.01,\n",
        "    'hidden_size': 200,\n",
        "    'scheduler_factor': 0.2,\n",
        "    'scheduler_patience': 2,\n",
        "    'scheduler_min_lr': 1e-4,\n",
        "    'epochs': 10\n",
        "}\n",
        "model_cnn = CNNfeedForwardNN(hidden_size=config['hidden_size'])\n",
        "model_cnn = model_cnn.to(device)\n",
        "optimizer = torch.optim.Adam(model_cnn.parameters(), lr = config['lr'])\n",
        "scheduler = torch.optim.lr_scheduler.ReduceLROnPlateau(\n",
        "    optimizer,\n",
        "    'min',\n",
        "    factor=config['scheduler_factor'],\n",
        "    patience=config['scheduler_patience'],\n",
        "    min_lr=config['scheduler_min_lr']\n",
        ")\n",
        "summary(model_cnn, input_size=(1024, 3, 5, 5))"
      ]
    },
    {
      "cell_type": "code",
      "execution_count": null,
      "metadata": {
        "id": "2-bDQL3FFKvj"
      },
      "outputs": [],
      "source": [
        "################################################################################\n",
        "# TODO#16:                                                                     #\n",
        "# Complete the code to train your cnn model                                    #\n",
        "################################################################################\n",
        "print('start training conv2d')\n",
        "################################################################################\n",
        "#                            WRITE YOUR CODE BELOW                             #\n",
        "################################################################################\n",
        "wandb.init(\n",
        "    project='precipitation-nowcasting',\n",
        "    config=config,\n",
        ")\n",
        "wandb.watch(model_cnn, log='all')\n",
        "\n",
        "train_losses = []\n",
        "val_losses = []\n",
        "learning_rates = []\n",
        "\n",
        "for epoch in range(config['epochs']):\n",
        "    train_loss = []\n",
        "    current_lr = optimizer.param_groups[0]['lr']\n",
        "    learning_rates.append(current_lr)\n",
        "\n",
        "    model_cnn.train()\n",
        "    print(f\"Training epoch {epoch+1}...\")\n",
        "    print(f\"Current LR: {current_lr}\")\n",
        "\n",
        "    for i, (inputs, y_true) in enumerate(tqdm(train_loader)):\n",
        "        inputs = FFtoCNN(inputs).to(device)\n",
        "        y_true = y_true.to(device)\n",
        "        optimizer.zero_grad()\n",
        "\n",
        "        y_pred = model_cnn(inputs)\n",
        "        loss = loss_fn(y_pred, y_true)\n",
        "        loss.backward()\n",
        "\n",
        "        optimizer.step()\n",
        "        train_loss.append(loss)\n",
        "\n",
        "    avg_train_loss = torch.stack(train_loss).mean().item()\n",
        "    train_losses.append(avg_train_loss)\n",
        "    print(f\"Epoch {epoch+1} train loss: {avg_train_loss:.4f}\")\n",
        "\n",
        "    model_cnn.eval()\n",
        "    with torch.no_grad():\n",
        "        print(f\"Validating epoch {epoch+1}\")\n",
        "        val_loss = []\n",
        "        for i, (inputs, y_true) in enumerate(tqdm(val_loader)):\n",
        "            inputs = FFtoCNN(inputs).to(device)\n",
        "            y_true = y_true.to(device)\n",
        "            y_pred = model_cnn(inputs)\n",
        "            loss = loss_fn(y_pred, y_true)\n",
        "            val_loss.append(loss)\n",
        "        avg_val_loss = torch.stack(val_loss).mean().item()\n",
        "        val_losses.append(avg_val_loss)\n",
        "        scheduler.step(avg_val_loss)\n",
        "        print(f\"Epoch {epoch+1} val loss: {avg_val_loss:.4f}\")\n",
        "\n",
        "        best_val_loss = np.inf if epoch == 0 else min(val_losses[:-1])\n",
        "        if avg_val_loss < best_val_loss:\n",
        "            state = {\n",
        "                'epoch': epoch,\n",
        "                'model': model_cnn.state_dict(),\n",
        "                'optimizer': optimizer.state_dict(),\n",
        "                'scheduler': scheduler.state_dict(),\n",
        "                'train_loss': avg_train_loss,\n",
        "                'val_loss': avg_val_loss,\n",
        "                'best_val_loss': best_val_loss,\n",
        "            }\n",
        "            print(f\"Saving new best model..\")\n",
        "            torch.save(state, 'model_cnn.pth.tar')\n",
        "\n",
        "    wandb.log({\n",
        "        'train_loss': avg_train_loss,\n",
        "        'val_loss': avg_val_loss,\n",
        "        'lr': current_lr,\n",
        "    })\n",
        "\n",
        "wandb.finish()"
      ]
    },
    {
      "cell_type": "code",
      "execution_count": 30,
      "metadata": {
        "id": "6FcmyjxLPrxG"
      },
      "outputs": [
        {
          "data": {
            "image/png": "[encoded data removed]",
            "text/plain": [
              "<Figure size 640x480 with 1 Axes>"
            ]
          },
          "metadata": {},
          "output_type": "display_data"
        },
        {
          "data": {
            "image/png": "[encoded data removed]",
            "text/plain": [
              "<Figure size 640x480 with 1 Axes>"
            ]
          },
          "metadata": {},
          "output_type": "display_data"
        }
      ],
      "source": [
        "# Plot losses\n",
        "plt.plot(train_losses, label='train loss')\n",
        "plt.xlabel('Epoch')\n",
        "plt.ylabel('Loss')\n",
        "plt.legend()\n",
        "plt.show()\n",
        "plt.plot(val_losses, label='val loss')\n",
        "plt.xlabel('Epoch')\n",
        "plt.ylabel('Loss')\n",
        "plt.legend()\n",
        "plt.show()"
      ]
    },
    {
      "cell_type": "code",
      "execution_count": 32,
      "metadata": {
        "id": "jOGI2ll7xMU5"
      },
      "outputs": [
        {
          "name": "stdout",
          "output_type": "stream",
          "text": [
            "CNN-model\n"
          ]
        },
        {
          "data": {
            "text/html": [
              "Finishing last run (ID:p58ty7nx) before initializing another..."
            ],
            "text/plain": [
              "<IPython.core.display.HTML object>"
            ]
          },
          "metadata": {},
          "output_type": "display_data"
        },
        {
          "name": "stderr",
          "output_type": "stream",
          "text": [
            "wandb: WARNING Source type is set to 'repo' but some required information is missing from the environment. A job will not be created from this run. See https://docs.wandb.ai/guides/launch/create-job\n"
          ]
        },
        {
          "data": {
            "application/vnd.jupyter.widget-view+json": {
              "model_id": "85c16ac0465348cda604e678da2b0219",
              "version_major": 2,
              "version_minor": 0
            },
            "text/plain": [
              "VBox(children=(Label(value='0.004 MB of 0.004 MB uploaded\\r'), FloatProgress(value=1.0, max=1.0)))"
            ]
          },
          "metadata": {},
          "output_type": "display_data"
        },
        {
          "data": {
            "text/html": [
              " View run <strong style=\"color:#cdcd00\">swift-glade-39</strong> at: <a href='https://wandb.ai/p50629-2013x/precipitation-nowcasting/runs/p58ty7nx' target=\"_blank\">https://wandb.ai/p50629-2013x/precipitation-nowcasting/runs/p58ty7nx</a><br/>Synced 6 W&B file(s), 0 media file(s), 0 artifact file(s) and 0 other file(s)"
            ],
            "text/plain": [
              "<IPython.core.display.HTML object>"
            ]
          },
          "metadata": {},
          "output_type": "display_data"
        },
        {
          "data": {
            "text/html": [
              "Find logs at: <code>./wandb/run-20240318_163817-p58ty7nx/logs</code>"
            ],
            "text/plain": [
              "<IPython.core.display.HTML object>"
            ]
          },
          "metadata": {},
          "output_type": "display_data"
        },
        {
          "data": {
            "text/html": [
              "Successfully finished last run (ID:p58ty7nx). Initializing new run:<br/>"
            ],
            "text/plain": [
              "<IPython.core.display.HTML object>"
            ]
          },
          "metadata": {},
          "output_type": "display_data"
        },
        {
          "data": {
            "application/vnd.jupyter.widget-view+json": {
              "model_id": "f1efc0e3734a4db2b9b3fde0e4b007fb",
              "version_major": 2,
              "version_minor": 0
            },
            "text/plain": [
              "VBox(children=(Label(value='Waiting for wandb.init()...\\r'), FloatProgress(value=0.011111708922221119, max=1.0…"
            ]
          },
          "metadata": {},
          "output_type": "display_data"
        },
        {
          "data": {
            "text/html": [
              "Tracking run with wandb version 0.16.4"
            ],
            "text/plain": [
              "<IPython.core.display.HTML object>"
            ]
          },
          "metadata": {},
          "output_type": "display_data"
        },
        {
          "data": {
            "text/html": [
              "Run data is saved locally in <code>/home/andre/Desktop/CU_submission/Pattern_Recognition/HW5/wandb/run-20240318_165508-gkf9qdd5</code>"
            ],
            "text/plain": [
              "<IPython.core.display.HTML object>"
            ]
          },
          "metadata": {},
          "output_type": "display_data"
        },
        {
          "data": {
            "text/html": [
              "Syncing run <strong><a href='https://wandb.ai/p50629-2013x/precipitation-nowcasting/runs/gkf9qdd5' target=\"_blank\">super-dew-40</a></strong> to <a href='https://wandb.ai/p50629-2013x/precipitation-nowcasting' target=\"_blank\">Weights & Biases</a> (<a href='https://wandb.me/run' target=\"_blank\">docs</a>)<br/>"
            ],
            "text/plain": [
              "<IPython.core.display.HTML object>"
            ]
          },
          "metadata": {},
          "output_type": "display_data"
        },
        {
          "data": {
            "text/html": [
              " View project at <a href='https://wandb.ai/p50629-2013x/precipitation-nowcasting' target=\"_blank\">https://wandb.ai/p50629-2013x/precipitation-nowcasting</a>"
            ],
            "text/plain": [
              "<IPython.core.display.HTML object>"
            ]
          },
          "metadata": {},
          "output_type": "display_data"
        },
        {
          "data": {
            "text/html": [
              " View run at <a href='https://wandb.ai/p50629-2013x/precipitation-nowcasting/runs/gkf9qdd5' target=\"_blank\">https://wandb.ai/p50629-2013x/precipitation-nowcasting/runs/gkf9qdd5</a>"
            ],
            "text/plain": [
              "<IPython.core.display.HTML object>"
            ]
          },
          "metadata": {},
          "output_type": "display_data"
        },
        {
          "data": {
            "application/vnd.jupyter.widget-view+json": {
              "model_id": "334ef28a7689481db6d2f5fb51f6061a",
              "version_major": 2,
              "version_minor": 0
            },
            "text/plain": [
              "  0%|          | 0/1121 [00:00<?, ?it/s]"
            ]
          },
          "metadata": {},
          "output_type": "display_data"
        },
        {
          "name": "stderr",
          "output_type": "stream",
          "text": [
            "wandb: WARNING Source type is set to 'repo' but some required information is missing from the environment. A job will not be created from this run. See https://docs.wandb.ai/guides/launch/create-job\n"
          ]
        },
        {
          "data": {
            "application/vnd.jupyter.widget-view+json": {
              "model_id": "c4a99d5bf1ab447793aab69ebf4e262d",
              "version_major": 2,
              "version_minor": 0
            },
            "text/plain": [
              "VBox(children=(Label(value='0.043 MB of 0.051 MB uploaded\\r'), FloatProgress(value=0.8536095252403846, max=1.0…"
            ]
          },
          "metadata": {},
          "output_type": "display_data"
        },
        {
          "data": {
            "text/html": [
              " View run <strong style=\"color:#cdcd00\">super-dew-40</strong> at: <a href='https://wandb.ai/p50629-2013x/precipitation-nowcasting/runs/gkf9qdd5' target=\"_blank\">https://wandb.ai/p50629-2013x/precipitation-nowcasting/runs/gkf9qdd5</a><br/>Synced 5 W&B file(s), 0 media file(s), 0 artifact file(s) and 0 other file(s)"
            ],
            "text/plain": [
              "<IPython.core.display.HTML object>"
            ]
          },
          "metadata": {},
          "output_type": "display_data"
        },
        {
          "data": {
            "text/html": [
              "Find logs at: <code>./wandb/run-20240318_165508-gkf9qdd5/logs</code>"
            ],
            "text/plain": [
              "<IPython.core.display.HTML object>"
            ]
          },
          "metadata": {},
          "output_type": "display_data"
        },
        {
          "name": "stdout",
          "output_type": "stream",
          "text": [
            "train 1.9234133958816528\n"
          ]
        },
        {
          "data": {
            "application/vnd.jupyter.widget-view+json": {
              "model_id": "7a2cb7f629524369bb12e2fa899a52bd",
              "version_major": 2,
              "version_minor": 0
            },
            "text/plain": [
              "VBox(children=(Label(value='Waiting for wandb.init()...\\r'), FloatProgress(value=0.011111906433345413, max=1.0…"
            ]
          },
          "metadata": {},
          "output_type": "display_data"
        },
        {
          "data": {
            "text/html": [
              "Tracking run with wandb version 0.16.4"
            ],
            "text/plain": [
              "<IPython.core.display.HTML object>"
            ]
          },
          "metadata": {},
          "output_type": "display_data"
        },
        {
          "data": {
            "text/html": [
              "Run data is saved locally in <code>/home/andre/Desktop/CU_submission/Pattern_Recognition/HW5/wandb/run-20240318_165552-bp7w8tdu</code>"
            ],
            "text/plain": [
              "<IPython.core.display.HTML object>"
            ]
          },
          "metadata": {},
          "output_type": "display_data"
        },
        {
          "data": {
            "text/html": [
              "Syncing run <strong><a href='https://wandb.ai/p50629-2013x/precipitation-nowcasting/runs/bp7w8tdu' target=\"_blank\">different-spaceship-41</a></strong> to <a href='https://wandb.ai/p50629-2013x/precipitation-nowcasting' target=\"_blank\">Weights & Biases</a> (<a href='https://wandb.me/run' target=\"_blank\">docs</a>)<br/>"
            ],
            "text/plain": [
              "<IPython.core.display.HTML object>"
            ]
          },
          "metadata": {},
          "output_type": "display_data"
        },
        {
          "data": {
            "text/html": [
              " View project at <a href='https://wandb.ai/p50629-2013x/precipitation-nowcasting' target=\"_blank\">https://wandb.ai/p50629-2013x/precipitation-nowcasting</a>"
            ],
            "text/plain": [
              "<IPython.core.display.HTML object>"
            ]
          },
          "metadata": {},
          "output_type": "display_data"
        },
        {
          "data": {
            "text/html": [
              " View run at <a href='https://wandb.ai/p50629-2013x/precipitation-nowcasting/runs/bp7w8tdu' target=\"_blank\">https://wandb.ai/p50629-2013x/precipitation-nowcasting/runs/bp7w8tdu</a>"
            ],
            "text/plain": [
              "<IPython.core.display.HTML object>"
            ]
          },
          "metadata": {},
          "output_type": "display_data"
        },
        {
          "data": {
            "application/vnd.jupyter.widget-view+json": {
              "model_id": "de8bb1521af144fba90ff26ddfeaf7a1",
              "version_major": 2,
              "version_minor": 0
            },
            "text/plain": [
              "  0%|          | 0/454 [00:00<?, ?it/s]"
            ]
          },
          "metadata": {},
          "output_type": "display_data"
        },
        {
          "name": "stderr",
          "output_type": "stream",
          "text": [
            "wandb: WARNING Source type is set to 'repo' but some required information is missing from the environment. A job will not be created from this run. See https://docs.wandb.ai/guides/launch/create-job\n"
          ]
        },
        {
          "data": {
            "application/vnd.jupyter.widget-view+json": {
              "model_id": "f4c6221ea8884bf8a4086c8b9f3a5405",
              "version_major": 2,
              "version_minor": 0
            },
            "text/plain": [
              "VBox(children=(Label(value='0.006 MB of 0.026 MB uploaded\\r'), FloatProgress(value=0.21946515336968214, max=1.…"
            ]
          },
          "metadata": {},
          "output_type": "display_data"
        },
        {
          "data": {
            "text/html": [
              " View run <strong style=\"color:#cdcd00\">different-spaceship-41</strong> at: <a href='https://wandb.ai/p50629-2013x/precipitation-nowcasting/runs/bp7w8tdu' target=\"_blank\">https://wandb.ai/p50629-2013x/precipitation-nowcasting/runs/bp7w8tdu</a><br/>Synced 5 W&B file(s), 0 media file(s), 0 artifact file(s) and 0 other file(s)"
            ],
            "text/plain": [
              "<IPython.core.display.HTML object>"
            ]
          },
          "metadata": {},
          "output_type": "display_data"
        },
        {
          "data": {
            "text/html": [
              "Find logs at: <code>./wandb/run-20240318_165552-bp7w8tdu/logs</code>"
            ],
            "text/plain": [
              "<IPython.core.display.HTML object>"
            ]
          },
          "metadata": {},
          "output_type": "display_data"
        },
        {
          "name": "stdout",
          "output_type": "stream",
          "text": [
            "validate 1.6609705686569214\n"
          ]
        }
      ],
      "source": [
        "# Evaluate\n",
        "def evaluate_cnn(data_loader, model):\n",
        "    wandb.init(project='precipitation-nowcasting')\n",
        "    val_losses = []\n",
        "    wandb.watch(model, log='all')\n",
        "    with torch.no_grad():\n",
        "        for inputs, y_true in tqdm(data_loader):\n",
        "            inputs = FFtoCNN(inputs).to(device)\n",
        "            y_true = y_true.to(device)\n",
        "            y_pred = model(inputs),\n",
        "print('train', evaluate_cnn(train_loader, model_cnn).item())\n",
        "print('validate', evaluate_cnn(val_loader, model_cnn).item())"
      ]
    },
    {
      "cell_type": "markdown",
      "metadata": {
        "id": "WEARLiH0FKvo"
      },
      "source": [
        "# Gated Recurrent Units\n",
        "\n",
        "Now, you want to add time steps into your model. Recall the original data has 5 time steps per item. You are going to pass in a data of the form 5 timesteps x 75data. This can be done using a GRU layer. Implement you own GRU network with the following structure.\n",
        "```\n",
        "==========================================================================================\n",
        "Layer (type:depth-idx)                   Output Shape              Param #\n",
        "==========================================================================================\n",
        "GRUModel                                 --                        --\n",
        "├─GRU: 1-1                               [1024, 5, 200]            166,200\n",
        "├─Linear: 1-2                            [1024, 5, 200]            40,200\n",
        "├─Linear: 1-3                            [1024, 5, 1]              201\n",
        "==========================================================================================\n",
        "Total params: 206,601\n",
        "Trainable params: 206,601\n",
        "Non-trainable params: 0\n",
        "```\n",
        "\n",
        "\n",
        "These parameters are simple guidelines to save your time.    \n",
        "You can play with them in the final section which you can choose any normalization methods, activation function, as well as any hyperparameter the way you want.         \n",
        "The result should be better than the feedforward model and at least on par with your CNN model.    \n",
        "\n",
        "Do consult PyTorch documentation on how to use [GRUs](https://pytorch.org/docs/stable/generated/torch.nn.GRU.html).\n"
      ]
    },
    {
      "cell_type": "code",
      "execution_count": 66,
      "metadata": {
        "id": "q53iJttkFKvo"
      },
      "outputs": [
        {
          "name": "stdout",
          "output_type": "stream",
          "text": [
            "(229548, 5, 75) (229548, 5, 1)\n"
          ]
        }
      ],
      "source": [
        "################################################################################\n",
        "# TODO#17:                                                                     #\n",
        "# Complete the code for preparing data for training GRU                        #\n",
        "# GRU's input should has 3 dimensions.                                         #\n",
        "# The dimensions should compose of entries, time-step, and features.           #\n",
        "################################################################################\n",
        "#                            WRITE YOUR CODE BELOW                             #\n",
        "################################################################################\n",
        "def preprocess_for_gru(x_train, y_train, x_val, y_val):\n",
        "    x_train_gru = x_train.reshape((-1, 5, 5*5*3))\n",
        "    y_train_gru = y_train.reshape((-1, 5, 1))\n",
        "    x_val_gru = x_val.reshape((-1, 5, 5*5*3))\n",
        "    y_val_gru = y_val.reshape((-1, 5, 1))\n",
        "    x_test_gru = x_test.reshape((-1, 5, 5*5*3))\n",
        "    y_test_gru = y_test.reshape((-1, 5, 1))\n",
        "    return x_train_gru, y_train_gru, x_val_gru, y_val_gru, x_test_gru, y_test_gru\n",
        "x_train_gru, y_train_gru, x_val_gru, y_val_gru, x_test_gru, y_test_gru = preprocess_for_gru(x_train, y_train, x_val, y_val)\n",
        "print(x_train_gru.shape, y_train_gru.shape)"
      ]
    },
    {
      "cell_type": "code",
      "execution_count": 67,
      "metadata": {},
      "outputs": [
        {
          "name": "stdout",
          "output_type": "stream",
          "text": [
            "(229548, 5, 75)\n",
            "(229548, 5, 1)\n",
            "(92839, 5, 75)\n",
            "(92839, 5, 1)\n",
            "(111715, 5, 75)\n",
            "(111715, 5, 1)\n"
          ]
        }
      ],
      "source": [
        "class RainfallDatasetGRU(Dataset):\n",
        "    def __init__(self, x, y, normalizer):\n",
        "        self.x = x.astype(np.float32)\n",
        "        self.y = y.astype(np.float32)\n",
        "        self.normalizer = normalizer\n",
        "        print(self.x.shape)\n",
        "        print(self.y.shape)\n",
        "\n",
        "    def __getitem__(self, index):\n",
        "        x = self.x[index]\n",
        "        x = self.normalizer.transform(x.reshape(-1, 75))\n",
        "        y = self.y[index]\n",
        "        return x, y\n",
        "\n",
        "    def __len__(self):\n",
        "        return self.x.shape[0]\n",
        "\n",
        "normalizer = normalizer_std(x_train_gru.reshape(-1, 75))\n",
        "train_dataset_gru = RainfallDatasetGRU(x_train_gru, y_train_gru, normalizer)\n",
        "val_dataset_gru = RainfallDatasetGRU(x_val_gru, y_val_gru, normalizer)\n",
        "test_dataset_gru = RainfallDatasetGRU(x_test_gru, y_test_gru, normalizer)\n",
        "\n",
        "train_loader_gru = DataLoader(train_dataset_gru, batch_size=1024, shuffle=True, pin_memory=True)\n",
        "val_loader_gru = DataLoader(val_dataset_gru, batch_size=1024, shuffle=False, pin_memory=True)\n",
        "test_loader_gru = DataLoader(test_dataset_gru, batch_size=1024, shuffle=False, pin_memory=True)\n",
        "\n",
        "# print(next(iter(train_loader_gru))[0].shape)"
      ]
    },
    {
      "cell_type": "code",
      "execution_count": 68,
      "metadata": {
        "id": "Dk6hF98mFKvq"
      },
      "outputs": [],
      "source": [
        "################################################################################\n",
        "# TODO#18                                                                      #\n",
        "# Write a PyTorch GRU model.                                                   #\n",
        "# Your goal is to predict a precipitation of every time step.                  #\n",
        "#                                                                              #\n",
        "# Hint: You should read PyTorch documentation to see the list of available     #\n",
        "# layers and options you can use.                                              #\n",
        "################################################################################\n",
        "#                            WRITE YOUR CODE BELOW                             #\n",
        "################################################################################\n",
        "class GRU(nn.Module):\n",
        "    def __init__(self, hidden_size=200):\n",
        "        super(GRU, self).__init__()\n",
        "        self.gru = nn.GRU(75, hidden_size, 5)\n",
        "        self.ff1 = nn.Linear(hidden_size, hidden_size)\n",
        "        self.out = nn.Linear(hidden_size, 1)\n",
        "    \n",
        "    def forward(self, x):\n",
        "        hd1, _ = self.gru(x)\n",
        "        hd2 = F.relu(self.ff1(hd1))\n",
        "        y = self.out(hd2)\n",
        "        return y"
      ]
    },
    {
      "cell_type": "code",
      "execution_count": 69,
      "metadata": {
        "id": "f02waLbMFKvx"
      },
      "outputs": [
        {
          "name": "stdout",
          "output_type": "stream",
          "text": [
            "start training gru\n"
          ]
        },
        {
          "data": {
            "text/plain": [
              "==========================================================================================\n",
              "Layer (type:depth-idx)                   Output Shape              Param #\n",
              "==========================================================================================\n",
              "GRU                                      [1024, 5, 1]              --\n",
              "├─GRU: 1-1                               [1024, 5, 200]            1,131,000\n",
              "├─Linear: 1-2                            [1024, 5, 200]            40,200\n",
              "├─Linear: 1-3                            [1024, 5, 1]              201\n",
              "==========================================================================================\n",
              "Total params: 1,171,401\n",
              "Trainable params: 1,171,401\n",
              "Non-trainable params: 0\n",
              "Total mult-adds (Units.GIGABYTES): 5.83\n",
              "==========================================================================================\n",
              "Input size (MB): 1.54\n",
              "Forward/backward pass size (MB): 16.42\n",
              "Params size (MB): 4.69\n",
              "Estimated Total Size (MB): 22.65\n",
              "=========================================================================================="
            ]
          },
          "execution_count": 69,
          "metadata": {},
          "output_type": "execute_result"
        }
      ],
      "source": [
        "################################################################################\n",
        "# TODO#19                                                                      #\n",
        "# Complete the code to train your gru model                                    #\n",
        "################################################################################\n",
        "print('start training gru')\n",
        "################################################################################\n",
        "#                            WRITE YOUR CODE BELOW                             #\n",
        "################################################################################\n",
        "config = {\n",
        "    'architecture': 'gru',\n",
        "    'lr': 0.01,\n",
        "    'hidden_size': 200,\n",
        "    'scheduler_factor': 0.2,\n",
        "    'scheduler_patience': 2,\n",
        "    'scheduler_min_lr': 1e-4,\n",
        "    'epochs': 10\n",
        "}\n",
        "model_gru = GRU(hidden_size=config['hidden_size'])\n",
        "model_gru = model_gru.to(device)\n",
        "optimizer = torch.optim.Adam(model_gru.parameters(), lr = config['lr'])\n",
        "scheduler = torch.optim.lr_scheduler.ReduceLROnPlateau(\n",
        "    optimizer,\n",
        "    'min',\n",
        "    factor=config['scheduler_factor'],\n",
        "    patience=config['scheduler_patience'],\n",
        "    min_lr=config['scheduler_min_lr']\n",
        ")\n",
        "summary(model_gru, input_size=(1024, 5, 75))\n"
      ]
    },
    {
      "cell_type": "code",
      "execution_count": 71,
      "metadata": {},
      "outputs": [
        {
          "data": {
            "text/html": [
              "Finishing last run (ID:4bnisn1q) before initializing another..."
            ],
            "text/plain": [
              "<IPython.core.display.HTML object>"
            ]
          },
          "metadata": {},
          "output_type": "display_data"
        },
        {
          "name": "stderr",
          "output_type": "stream",
          "text": [
            "wandb: WARNING Source type is set to 'repo' but some required information is missing from the environment. A job will not be created from this run. See https://docs.wandb.ai/guides/launch/create-job\n"
          ]
        },
        {
          "data": {
            "application/vnd.jupyter.widget-view+json": {
              "model_id": "dc299afe1e55479ca36c1e3cf0347d88",
              "version_major": 2,
              "version_minor": 0
            },
            "text/plain": [
              "VBox(children=(Label(value='0.004 MB of 0.016 MB uploaded\\r'), FloatProgress(value=0.22915138175593056, max=1.…"
            ]
          },
          "metadata": {},
          "output_type": "display_data"
        },
        {
          "data": {
            "text/html": [
              " View run <strong style=\"color:#cdcd00\">floral-oath-46</strong> at: <a href='https://wandb.ai/p50629-2013x/precipitation-nowcasting/runs/4bnisn1q' target=\"_blank\">https://wandb.ai/p50629-2013x/precipitation-nowcasting/runs/4bnisn1q</a><br/>Synced 6 W&B file(s), 0 media file(s), 0 artifact file(s) and 0 other file(s)"
            ],
            "text/plain": [
              "<IPython.core.display.HTML object>"
            ]
          },
          "metadata": {},
          "output_type": "display_data"
        },
        {
          "data": {
            "text/html": [
              "Find logs at: <code>./wandb/run-20240318_173405-4bnisn1q/logs</code>"
            ],
            "text/plain": [
              "<IPython.core.display.HTML object>"
            ]
          },
          "metadata": {},
          "output_type": "display_data"
        },
        {
          "data": {
            "text/html": [
              "Successfully finished last run (ID:4bnisn1q). Initializing new run:<br/>"
            ],
            "text/plain": [
              "<IPython.core.display.HTML object>"
            ]
          },
          "metadata": {},
          "output_type": "display_data"
        },
        {
          "data": {
            "application/vnd.jupyter.widget-view+json": {
              "model_id": "acaf9f8bdaaf45e399d59738496ff68a",
              "version_major": 2,
              "version_minor": 0
            },
            "text/plain": [
              "VBox(children=(Label(value='Waiting for wandb.init()...\\r'), FloatProgress(value=0.011111896388885927, max=1.0…"
            ]
          },
          "metadata": {},
          "output_type": "display_data"
        },
        {
          "data": {
            "text/html": [
              "Tracking run with wandb version 0.16.4"
            ],
            "text/plain": [
              "<IPython.core.display.HTML object>"
            ]
          },
          "metadata": {},
          "output_type": "display_data"
        },
        {
          "data": {
            "text/html": [
              "Run data is saved locally in <code>/home/andre/Desktop/CU_submission/Pattern_Recognition/HW5/wandb/run-20240318_173426-ixvwidco</code>"
            ],
            "text/plain": [
              "<IPython.core.display.HTML object>"
            ]
          },
          "metadata": {},
          "output_type": "display_data"
        },
        {
          "data": {
            "text/html": [
              "Syncing run <strong><a href='https://wandb.ai/p50629-2013x/precipitation-nowcasting/runs/ixvwidco' target=\"_blank\">cerulean-sea-47</a></strong> to <a href='https://wandb.ai/p50629-2013x/precipitation-nowcasting' target=\"_blank\">Weights & Biases</a> (<a href='https://wandb.me/run' target=\"_blank\">docs</a>)<br/>"
            ],
            "text/plain": [
              "<IPython.core.display.HTML object>"
            ]
          },
          "metadata": {},
          "output_type": "display_data"
        },
        {
          "data": {
            "text/html": [
              " View project at <a href='https://wandb.ai/p50629-2013x/precipitation-nowcasting' target=\"_blank\">https://wandb.ai/p50629-2013x/precipitation-nowcasting</a>"
            ],
            "text/plain": [
              "<IPython.core.display.HTML object>"
            ]
          },
          "metadata": {},
          "output_type": "display_data"
        },
        {
          "data": {
            "text/html": [
              " View run at <a href='https://wandb.ai/p50629-2013x/precipitation-nowcasting/runs/ixvwidco' target=\"_blank\">https://wandb.ai/p50629-2013x/precipitation-nowcasting/runs/ixvwidco</a>"
            ],
            "text/plain": [
              "<IPython.core.display.HTML object>"
            ]
          },
          "metadata": {},
          "output_type": "display_data"
        },
        {
          "name": "stdout",
          "output_type": "stream",
          "text": [
            "Training epoch 1...\n",
            "Current LR: 0.01\n"
          ]
        },
        {
          "data": {
            "application/vnd.jupyter.widget-view+json": {
              "model_id": "8e83484f5e89461bbb6a20e69972231b",
              "version_major": 2,
              "version_minor": 0
            },
            "text/plain": [
              "  0%|          | 0/225 [00:00<?, ?it/s]"
            ]
          },
          "metadata": {},
          "output_type": "display_data"
        },
        {
          "name": "stdout",
          "output_type": "stream",
          "text": [
            "Epoch 1 train loss: 1.9260\n",
            "Validating epoch 1\n"
          ]
        },
        {
          "data": {
            "application/vnd.jupyter.widget-view+json": {
              "model_id": "3cca5db2426a4571ba58bced326b636a",
              "version_major": 2,
              "version_minor": 0
            },
            "text/plain": [
              "  0%|          | 0/91 [00:00<?, ?it/s]"
            ]
          },
          "metadata": {},
          "output_type": "display_data"
        },
        {
          "name": "stdout",
          "output_type": "stream",
          "text": [
            "Epoch 1 val loss: 1.6761\n",
            "Saving new best model..\n",
            "Training epoch 2...\n",
            "Current LR: 0.01\n"
          ]
        },
        {
          "data": {
            "application/vnd.jupyter.widget-view+json": {
              "model_id": "85a28e95e8fa4ad9a08b8d301ba63083",
              "version_major": 2,
              "version_minor": 0
            },
            "text/plain": [
              "  0%|          | 0/225 [00:00<?, ?it/s]"
            ]
          },
          "metadata": {},
          "output_type": "display_data"
        },
        {
          "name": "stdout",
          "output_type": "stream",
          "text": [
            "Epoch 2 train loss: 1.9378\n",
            "Validating epoch 2\n"
          ]
        },
        {
          "data": {
            "application/vnd.jupyter.widget-view+json": {
              "model_id": "1b1e993aeedc4797b7b588aefe2c1a57",
              "version_major": 2,
              "version_minor": 0
            },
            "text/plain": [
              "  0%|          | 0/91 [00:00<?, ?it/s]"
            ]
          },
          "metadata": {},
          "output_type": "display_data"
        },
        {
          "name": "stdout",
          "output_type": "stream",
          "text": [
            "Epoch 2 val loss: 1.6836\n",
            "Training epoch 3...\n",
            "Current LR: 0.01\n"
          ]
        },
        {
          "data": {
            "application/vnd.jupyter.widget-view+json": {
              "model_id": "305b5ff72b4f4dbfbe9fed2ca3a67994",
              "version_major": 2,
              "version_minor": 0
            },
            "text/plain": [
              "  0%|          | 0/225 [00:00<?, ?it/s]"
            ]
          },
          "metadata": {},
          "output_type": "display_data"
        },
        {
          "name": "stdout",
          "output_type": "stream",
          "text": [
            "Epoch 3 train loss: 1.9223\n",
            "Validating epoch 3\n"
          ]
        },
        {
          "data": {
            "application/vnd.jupyter.widget-view+json": {
              "model_id": "424850973e644f19b08fdebd1fecb4ef",
              "version_major": 2,
              "version_minor": 0
            },
            "text/plain": [
              "  0%|          | 0/91 [00:00<?, ?it/s]"
            ]
          },
          "metadata": {},
          "output_type": "display_data"
        },
        {
          "name": "stdout",
          "output_type": "stream",
          "text": [
            "Epoch 3 val loss: 1.6739\n",
            "Saving new best model..\n",
            "Training epoch 4...\n",
            "Current LR: 0.01\n"
          ]
        },
        {
          "data": {
            "application/vnd.jupyter.widget-view+json": {
              "model_id": "51d56399f8084e939ff8b7784f1652c0",
              "version_major": 2,
              "version_minor": 0
            },
            "text/plain": [
              "  0%|          | 0/225 [00:00<?, ?it/s]"
            ]
          },
          "metadata": {},
          "output_type": "display_data"
        },
        {
          "name": "stdout",
          "output_type": "stream",
          "text": [
            "Epoch 4 train loss: 1.9159\n",
            "Validating epoch 4\n"
          ]
        },
        {
          "data": {
            "application/vnd.jupyter.widget-view+json": {
              "model_id": "6a197403b9f94303bf82fd7689b9ae74",
              "version_major": 2,
              "version_minor": 0
            },
            "text/plain": [
              "  0%|          | 0/91 [00:00<?, ?it/s]"
            ]
          },
          "metadata": {},
          "output_type": "display_data"
        },
        {
          "name": "stdout",
          "output_type": "stream",
          "text": [
            "Epoch 4 val loss: 1.6749\n",
            "Training epoch 5...\n",
            "Current LR: 0.01\n"
          ]
        },
        {
          "data": {
            "application/vnd.jupyter.widget-view+json": {
              "model_id": "ca4a2fbadcc64a3aa5153ac4c6c184e0",
              "version_major": 2,
              "version_minor": 0
            },
            "text/plain": [
              "  0%|          | 0/225 [00:00<?, ?it/s]"
            ]
          },
          "metadata": {},
          "output_type": "display_data"
        },
        {
          "name": "stdout",
          "output_type": "stream",
          "text": [
            "Epoch 5 train loss: 1.9167\n",
            "Validating epoch 5\n"
          ]
        },
        {
          "data": {
            "application/vnd.jupyter.widget-view+json": {
              "model_id": "a0767c10e61c4fc283cc2e29f9acc556",
              "version_major": 2,
              "version_minor": 0
            },
            "text/plain": [
              "  0%|          | 0/91 [00:00<?, ?it/s]"
            ]
          },
          "metadata": {},
          "output_type": "display_data"
        },
        {
          "name": "stdout",
          "output_type": "stream",
          "text": [
            "Epoch 5 val loss: 1.6744\n",
            "Training epoch 6...\n",
            "Current LR: 0.01\n"
          ]
        },
        {
          "data": {
            "application/vnd.jupyter.widget-view+json": {
              "model_id": "c3f3070a8f554c528c07a7ac48396ca8",
              "version_major": 2,
              "version_minor": 0
            },
            "text/plain": [
              "  0%|          | 0/225 [00:00<?, ?it/s]"
            ]
          },
          "metadata": {},
          "output_type": "display_data"
        },
        {
          "name": "stdout",
          "output_type": "stream",
          "text": [
            "Epoch 6 train loss: 1.9271\n",
            "Validating epoch 6\n"
          ]
        },
        {
          "data": {
            "application/vnd.jupyter.widget-view+json": {
              "model_id": "c92de5c76498422a9ca2610ae61a035d",
              "version_major": 2,
              "version_minor": 0
            },
            "text/plain": [
              "  0%|          | 0/91 [00:00<?, ?it/s]"
            ]
          },
          "metadata": {},
          "output_type": "display_data"
        },
        {
          "name": "stdout",
          "output_type": "stream",
          "text": [
            "Epoch 6 val loss: 1.6740\n",
            "Training epoch 7...\n",
            "Current LR: 0.002\n"
          ]
        },
        {
          "data": {
            "application/vnd.jupyter.widget-view+json": {
              "model_id": "45ae2856dcfd4a04a277eb99ac311932",
              "version_major": 2,
              "version_minor": 0
            },
            "text/plain": [
              "  0%|          | 0/225 [00:00<?, ?it/s]"
            ]
          },
          "metadata": {},
          "output_type": "display_data"
        },
        {
          "name": "stdout",
          "output_type": "stream",
          "text": [
            "Epoch 7 train loss: 1.9183\n",
            "Validating epoch 7\n"
          ]
        },
        {
          "data": {
            "application/vnd.jupyter.widget-view+json": {
              "model_id": "f3b9607880794dc7b695dcd5888fb359",
              "version_major": 2,
              "version_minor": 0
            },
            "text/plain": [
              "  0%|          | 0/91 [00:00<?, ?it/s]"
            ]
          },
          "metadata": {},
          "output_type": "display_data"
        },
        {
          "name": "stdout",
          "output_type": "stream",
          "text": [
            "Epoch 7 val loss: 1.6737\n",
            "Saving new best model..\n",
            "Training epoch 8...\n",
            "Current LR: 0.002\n"
          ]
        },
        {
          "data": {
            "application/vnd.jupyter.widget-view+json": {
              "model_id": "6842664f903545c297384f2a52f6f515",
              "version_major": 2,
              "version_minor": 0
            },
            "text/plain": [
              "  0%|          | 0/225 [00:00<?, ?it/s]"
            ]
          },
          "metadata": {},
          "output_type": "display_data"
        },
        {
          "name": "stdout",
          "output_type": "stream",
          "text": [
            "Epoch 8 train loss: 1.9284\n",
            "Validating epoch 8\n"
          ]
        },
        {
          "data": {
            "application/vnd.jupyter.widget-view+json": {
              "model_id": "0bc95f478e6844e99d45f089e3651b2d",
              "version_major": 2,
              "version_minor": 0
            },
            "text/plain": [
              "  0%|          | 0/91 [00:00<?, ?it/s]"
            ]
          },
          "metadata": {},
          "output_type": "display_data"
        },
        {
          "name": "stdout",
          "output_type": "stream",
          "text": [
            "Epoch 8 val loss: 1.6726\n",
            "Saving new best model..\n",
            "Training epoch 9...\n",
            "Current LR: 0.002\n"
          ]
        },
        {
          "data": {
            "application/vnd.jupyter.widget-view+json": {
              "model_id": "f02c863348054bf28a5957da4121f6d0",
              "version_major": 2,
              "version_minor": 0
            },
            "text/plain": [
              "  0%|          | 0/225 [00:00<?, ?it/s]"
            ]
          },
          "metadata": {},
          "output_type": "display_data"
        },
        {
          "name": "stdout",
          "output_type": "stream",
          "text": [
            "Epoch 9 train loss: 1.9214\n",
            "Validating epoch 9\n"
          ]
        },
        {
          "data": {
            "application/vnd.jupyter.widget-view+json": {
              "model_id": "a546d352089b434ca38cc9fcf2b1e8b7",
              "version_major": 2,
              "version_minor": 0
            },
            "text/plain": [
              "  0%|          | 0/91 [00:00<?, ?it/s]"
            ]
          },
          "metadata": {},
          "output_type": "display_data"
        },
        {
          "name": "stdout",
          "output_type": "stream",
          "text": [
            "Epoch 9 val loss: 1.6742\n",
            "Training epoch 10...\n",
            "Current LR: 0.002\n"
          ]
        },
        {
          "data": {
            "application/vnd.jupyter.widget-view+json": {
              "model_id": "5cb2aa9932c64c929616cb06e69fafa1",
              "version_major": 2,
              "version_minor": 0
            },
            "text/plain": [
              "  0%|          | 0/225 [00:00<?, ?it/s]"
            ]
          },
          "metadata": {},
          "output_type": "display_data"
        },
        {
          "name": "stdout",
          "output_type": "stream",
          "text": [
            "Epoch 10 train loss: 1.9159\n",
            "Validating epoch 10\n"
          ]
        },
        {
          "data": {
            "application/vnd.jupyter.widget-view+json": {
              "model_id": "0515c35e752e42d9a68561af4bc3278d",
              "version_major": 2,
              "version_minor": 0
            },
            "text/plain": [
              "  0%|          | 0/91 [00:00<?, ?it/s]"
            ]
          },
          "metadata": {},
          "output_type": "display_data"
        },
        {
          "name": "stdout",
          "output_type": "stream",
          "text": [
            "Epoch 10 val loss: 1.6729\n"
          ]
        }
      ],
      "source": [
        "wandb.init(\n",
        "    project='precipitation-nowcasting',\n",
        "    config=config,\n",
        ")\n",
        "wandb.watch(model_gru, log='all')\n",
        "\n",
        "train_losses = []\n",
        "val_losses = []\n",
        "learning_rates = []\n",
        "\n",
        "for epoch in range(config['epochs']):\n",
        "    train_loss = []\n",
        "    current_lr = optimizer.param_groups[0]['lr']\n",
        "    learning_rates.append(current_lr)\n",
        "\n",
        "    model_gru.train()\n",
        "    print(f\"Training epoch {epoch+1}...\")\n",
        "    print(f\"Current LR: {current_lr}\")\n",
        "\n",
        "    for i, (inputs, y_true) in enumerate(tqdm(train_loader_gru)):\n",
        "        inputs = inputs.to(device)\n",
        "        y_true = y_true.to(device)\n",
        "        optimizer.zero_grad()\n",
        "\n",
        "        y_pred = model_gru(inputs)\n",
        "        loss = loss_fn(y_pred, y_true)\n",
        "        loss.backward()\n",
        "\n",
        "        optimizer.step()\n",
        "        train_loss.append(loss)\n",
        "\n",
        "    avg_train_loss = torch.stack(train_loss).mean().item()\n",
        "    train_losses.append(avg_train_loss)\n",
        "    print(f\"Epoch {epoch+1} train loss: {avg_train_loss:.4f}\")\n",
        "\n",
        "    model_gru.eval()\n",
        "    with torch.no_grad():\n",
        "        print(f\"Validating epoch {epoch+1}\")\n",
        "        val_loss = []\n",
        "        for i, (inputs, y_true) in enumerate(tqdm(val_loader_gru)):\n",
        "            inputs = inputs.to(device)\n",
        "            y_true = y_true.to(device)\n",
        "            y_pred = model_gru(inputs)\n",
        "            loss = loss_fn(y_pred, y_true)\n",
        "            val_loss.append(loss)\n",
        "        avg_val_loss = torch.stack(val_loss).mean().item()\n",
        "        val_losses.append(avg_val_loss)\n",
        "        scheduler.step(avg_val_loss)\n",
        "        print(f\"Epoch {epoch+1} val loss: {avg_val_loss:.4f}\")\n",
        "\n",
        "        best_val_loss = np.inf if epoch == 0 else min(val_losses[:-1])\n",
        "        if avg_val_loss < best_val_loss:\n",
        "            state = {\n",
        "                'epoch': epoch,\n",
        "                'model': model_gru.state_dict(),\n",
        "                'optimizer': optimizer.state_dict(),\n",
        "                'scheduler': scheduler.state_dict(),\n",
        "                'train_loss': avg_train_loss,\n",
        "                'val_loss': avg_val_loss,\n",
        "                'best_val_loss': best_val_loss,\n",
        "            }\n",
        "            print(f\"Saving new best model..\")\n",
        "            torch.save(state, 'model_gru.pth.tar')\n",
        "\n",
        "    wandb.log({\n",
        "        'train_loss': avg_train_loss,\n",
        "        'val_loss': avg_val_loss,\n",
        "        'lr': current_lr,\n",
        "    })"
      ]
    },
    {
      "cell_type": "code",
      "execution_count": 73,
      "metadata": {
        "id": "W2HzoOqpP2Tc"
      },
      "outputs": [
        {
          "data": {
            "image/png": "[encoded data removed]",
            "text/plain": [
              "<Figure size 640x480 with 1 Axes>"
            ]
          },
          "metadata": {},
          "output_type": "display_data"
        },
        {
          "data": {
            "image/png": "[encoded data removed]",
            "text/plain": [
              "<Figure size 640x480 with 1 Axes>"
            ]
          },
          "metadata": {},
          "output_type": "display_data"
        }
      ],
      "source": [
        "# Plot\n",
        "plt.plot(train_losses, label='train loss')\n",
        "plt.xlabel('Epoch')\n",
        "plt.ylabel('Loss')\n",
        "plt.legend()\n",
        "plt.show()\n",
        "plt.plot(val_losses, label='val loss')\n",
        "plt.xlabel('Epoch')\n",
        "plt.ylabel('Loss')\n",
        "plt.legend()\n",
        "plt.show()"
      ]
    },
    {
      "cell_type": "code",
      "execution_count": 72,
      "metadata": {
        "id": "M0Zbc4mIFKv0"
      },
      "outputs": [
        {
          "name": "stdout",
          "output_type": "stream",
          "text": [
            "GRU-model\n"
          ]
        },
        {
          "data": {
            "text/html": [
              "Finishing last run (ID:ixvwidco) before initializing another..."
            ],
            "text/plain": [
              "<IPython.core.display.HTML object>"
            ]
          },
          "metadata": {},
          "output_type": "display_data"
        },
        {
          "name": "stderr",
          "output_type": "stream",
          "text": [
            "wandb: WARNING Source type is set to 'repo' but some required information is missing from the environment. A job will not be created from this run. See https://docs.wandb.ai/guides/launch/create-job\n"
          ]
        },
        {
          "data": {
            "application/vnd.jupyter.widget-view+json": {
              "model_id": "44103f7849144e4aa307bd109ae4cadc",
              "version_major": 2,
              "version_minor": 0
            },
            "text/plain": [
              "VBox(children=(Label(value='0.004 MB of 0.181 MB uploaded\\r'), FloatProgress(value=0.0197459432448781, max=1.0…"
            ]
          },
          "metadata": {},
          "output_type": "display_data"
        },
        {
          "data": {
            "text/html": [
              "<style>\n",
              "    table.wandb td:nth-child(1) { padding: 0 10px; text-align: left ; width: auto;} td:nth-child(2) {text-align: left ; width: 100%}\n",
              "    .wandb-row { display: flex; flex-direction: row; flex-wrap: wrap; justify-content: flex-start; width: 100% }\n",
              "    .wandb-col { display: flex; flex-direction: column; flex-basis: 100%; flex: 1; padding: 10px; }\n",
              "    </style>\n",
              "<div class=\"wandb-row\"><div class=\"wandb-col\"><h3>Run history:</h3><br/><table class=\"wandb\"><tr><td>lr</td><td>██████▁▁▁▁</td></tr><tr><td>train_loss</td><td>▄█▃▁▁▅▂▅▃▁</td></tr><tr><td>val_loss</td><td>▃█▂▂▂▂▂▁▂▁</td></tr></table><br/></div><div class=\"wandb-col\"><h3>Run summary:</h3><br/><table class=\"wandb\"><tr><td>lr</td><td>0.002</td></tr><tr><td>train_loss</td><td>1.91587</td></tr><tr><td>val_loss</td><td>1.67288</td></tr></table><br/></div></div>"
            ],
            "text/plain": [
              "<IPython.core.display.HTML object>"
            ]
          },
          "metadata": {},
          "output_type": "display_data"
        },
        {
          "data": {
            "text/html": [
              " View run <strong style=\"color:#cdcd00\">cerulean-sea-47</strong> at: <a href='https://wandb.ai/p50629-2013x/precipitation-nowcasting/runs/ixvwidco' target=\"_blank\">https://wandb.ai/p50629-2013x/precipitation-nowcasting/runs/ixvwidco</a><br/>Synced 6 W&B file(s), 0 media file(s), 0 artifact file(s) and 0 other file(s)"
            ],
            "text/plain": [
              "<IPython.core.display.HTML object>"
            ]
          },
          "metadata": {},
          "output_type": "display_data"
        },
        {
          "data": {
            "text/html": [
              "Find logs at: <code>./wandb/run-20240318_173426-ixvwidco/logs</code>"
            ],
            "text/plain": [
              "<IPython.core.display.HTML object>"
            ]
          },
          "metadata": {},
          "output_type": "display_data"
        },
        {
          "data": {
            "text/html": [
              "Successfully finished last run (ID:ixvwidco). Initializing new run:<br/>"
            ],
            "text/plain": [
              "<IPython.core.display.HTML object>"
            ]
          },
          "metadata": {},
          "output_type": "display_data"
        },
        {
          "data": {
            "application/vnd.jupyter.widget-view+json": {
              "model_id": "f2b4298192784b7796253e8219ac26e8",
              "version_major": 2,
              "version_minor": 0
            },
            "text/plain": [
              "VBox(children=(Label(value='Waiting for wandb.init()...\\r'), FloatProgress(value=0.011111910533347528, max=1.0…"
            ]
          },
          "metadata": {},
          "output_type": "display_data"
        },
        {
          "data": {
            "text/html": [
              "Tracking run with wandb version 0.16.4"
            ],
            "text/plain": [
              "<IPython.core.display.HTML object>"
            ]
          },
          "metadata": {},
          "output_type": "display_data"
        },
        {
          "data": {
            "text/html": [
              "Run data is saved locally in <code>/home/andre/Desktop/CU_submission/Pattern_Recognition/HW5/wandb/run-20240318_173739-zx101yp1</code>"
            ],
            "text/plain": [
              "<IPython.core.display.HTML object>"
            ]
          },
          "metadata": {},
          "output_type": "display_data"
        },
        {
          "data": {
            "text/html": [
              "Syncing run <strong><a href='https://wandb.ai/p50629-2013x/precipitation-nowcasting/runs/zx101yp1' target=\"_blank\">helpful-dew-48</a></strong> to <a href='https://wandb.ai/p50629-2013x/precipitation-nowcasting' target=\"_blank\">Weights & Biases</a> (<a href='https://wandb.me/run' target=\"_blank\">docs</a>)<br/>"
            ],
            "text/plain": [
              "<IPython.core.display.HTML object>"
            ]
          },
          "metadata": {},
          "output_type": "display_data"
        },
        {
          "data": {
            "text/html": [
              " View project at <a href='https://wandb.ai/p50629-2013x/precipitation-nowcasting' target=\"_blank\">https://wandb.ai/p50629-2013x/precipitation-nowcasting</a>"
            ],
            "text/plain": [
              "<IPython.core.display.HTML object>"
            ]
          },
          "metadata": {},
          "output_type": "display_data"
        },
        {
          "data": {
            "text/html": [
              " View run at <a href='https://wandb.ai/p50629-2013x/precipitation-nowcasting/runs/zx101yp1' target=\"_blank\">https://wandb.ai/p50629-2013x/precipitation-nowcasting/runs/zx101yp1</a>"
            ],
            "text/plain": [
              "<IPython.core.display.HTML object>"
            ]
          },
          "metadata": {},
          "output_type": "display_data"
        },
        {
          "data": {
            "application/vnd.jupyter.widget-view+json": {
              "model_id": "7d5aa05435594036a2c986f21d148c82",
              "version_major": 2,
              "version_minor": 0
            },
            "text/plain": [
              "  0%|          | 0/225 [00:00<?, ?it/s]"
            ]
          },
          "metadata": {},
          "output_type": "display_data"
        },
        {
          "name": "stderr",
          "output_type": "stream",
          "text": [
            "wandb: WARNING Source type is set to 'repo' but some required information is missing from the environment. A job will not be created from this run. See https://docs.wandb.ai/guides/launch/create-job\n"
          ]
        },
        {
          "data": {
            "application/vnd.jupyter.widget-view+json": {
              "model_id": "03e57c4f973e4d4b915bffb9c3479d6f",
              "version_major": 2,
              "version_minor": 0
            },
            "text/plain": [
              "VBox(children=(Label(value='0.004 MB of 0.006 MB uploaded\\r'), FloatProgress(value=0.6341793570219966, max=1.0…"
            ]
          },
          "metadata": {},
          "output_type": "display_data"
        },
        {
          "data": {
            "text/html": [
              " View run <strong style=\"color:#cdcd00\">helpful-dew-48</strong> at: <a href='https://wandb.ai/p50629-2013x/precipitation-nowcasting/runs/zx101yp1' target=\"_blank\">https://wandb.ai/p50629-2013x/precipitation-nowcasting/runs/zx101yp1</a><br/>Synced 5 W&B file(s), 0 media file(s), 0 artifact file(s) and 0 other file(s)"
            ],
            "text/plain": [
              "<IPython.core.display.HTML object>"
            ]
          },
          "metadata": {},
          "output_type": "display_data"
        },
        {
          "data": {
            "text/html": [
              "Find logs at: <code>./wandb/run-20240318_173739-zx101yp1/logs</code>"
            ],
            "text/plain": [
              "<IPython.core.display.HTML object>"
            ]
          },
          "metadata": {},
          "output_type": "display_data"
        },
        {
          "name": "stdout",
          "output_type": "stream",
          "text": [
            "train 1.9215900897979736\n"
          ]
        },
        {
          "data": {
            "application/vnd.jupyter.widget-view+json": {
              "model_id": "02ac2c9a808f47bc9356edd687a60c86",
              "version_major": 2,
              "version_minor": 0
            },
            "text/plain": [
              "VBox(children=(Label(value='Waiting for wandb.init()...\\r'), FloatProgress(value=0.011111872077769173, max=1.0…"
            ]
          },
          "metadata": {},
          "output_type": "display_data"
        },
        {
          "data": {
            "text/html": [
              "Tracking run with wandb version 0.16.4"
            ],
            "text/plain": [
              "<IPython.core.display.HTML object>"
            ]
          },
          "metadata": {},
          "output_type": "display_data"
        },
        {
          "data": {
            "text/html": [
              "Run data is saved locally in <code>/home/andre/Desktop/CU_submission/Pattern_Recognition/HW5/wandb/run-20240318_173759-1k73g9qg</code>"
            ],
            "text/plain": [
              "<IPython.core.display.HTML object>"
            ]
          },
          "metadata": {},
          "output_type": "display_data"
        },
        {
          "data": {
            "text/html": [
              "Syncing run <strong><a href='https://wandb.ai/p50629-2013x/precipitation-nowcasting/runs/1k73g9qg' target=\"_blank\">desert-surf-49</a></strong> to <a href='https://wandb.ai/p50629-2013x/precipitation-nowcasting' target=\"_blank\">Weights & Biases</a> (<a href='https://wandb.me/run' target=\"_blank\">docs</a>)<br/>"
            ],
            "text/plain": [
              "<IPython.core.display.HTML object>"
            ]
          },
          "metadata": {},
          "output_type": "display_data"
        },
        {
          "data": {
            "text/html": [
              " View project at <a href='https://wandb.ai/p50629-2013x/precipitation-nowcasting' target=\"_blank\">https://wandb.ai/p50629-2013x/precipitation-nowcasting</a>"
            ],
            "text/plain": [
              "<IPython.core.display.HTML object>"
            ]
          },
          "metadata": {},
          "output_type": "display_data"
        },
        {
          "data": {
            "text/html": [
              " View run at <a href='https://wandb.ai/p50629-2013x/precipitation-nowcasting/runs/1k73g9qg' target=\"_blank\">https://wandb.ai/p50629-2013x/precipitation-nowcasting/runs/1k73g9qg</a>"
            ],
            "text/plain": [
              "<IPython.core.display.HTML object>"
            ]
          },
          "metadata": {},
          "output_type": "display_data"
        },
        {
          "data": {
            "application/vnd.jupyter.widget-view+json": {
              "model_id": "806e82992525442ab9dcb736851c5ef3",
              "version_major": 2,
              "version_minor": 0
            },
            "text/plain": [
              "  0%|          | 0/91 [00:00<?, ?it/s]"
            ]
          },
          "metadata": {},
          "output_type": "display_data"
        },
        {
          "name": "stderr",
          "output_type": "stream",
          "text": [
            "wandb: WARNING Source type is set to 'repo' but some required information is missing from the environment. A job will not be created from this run. See https://docs.wandb.ai/guides/launch/create-job\n"
          ]
        },
        {
          "data": {
            "application/vnd.jupyter.widget-view+json": {
              "model_id": "7b939a5c004d423f8aa1a0942d2fd5fb",
              "version_major": 2,
              "version_minor": 0
            },
            "text/plain": [
              "VBox(children=(Label(value='0.004 MB of 0.013 MB uploaded\\r'), FloatProgress(value=0.28350554340448, max=1.0))…"
            ]
          },
          "metadata": {},
          "output_type": "display_data"
        },
        {
          "data": {
            "text/html": [
              " View run <strong style=\"color:#cdcd00\">desert-surf-49</strong> at: <a href='https://wandb.ai/p50629-2013x/precipitation-nowcasting/runs/1k73g9qg' target=\"_blank\">https://wandb.ai/p50629-2013x/precipitation-nowcasting/runs/1k73g9qg</a><br/>Synced 5 W&B file(s), 0 media file(s), 0 artifact file(s) and 0 other file(s)"
            ],
            "text/plain": [
              "<IPython.core.display.HTML object>"
            ]
          },
          "metadata": {},
          "output_type": "display_data"
        },
        {
          "data": {
            "text/html": [
              "Find logs at: <code>./wandb/run-20240318_173759-1k73g9qg/logs</code>"
            ],
            "text/plain": [
              "<IPython.core.display.HTML object>"
            ]
          },
          "metadata": {},
          "output_type": "display_data"
        },
        {
          "name": "stdout",
          "output_type": "stream",
          "text": [
            "validate 1.6728824377059937\n"
          ]
        }
      ],
      "source": [
        "# Evaluate\n",
        "def evaluate_gru(data_loader, model):\n",
        "    wandb.init(project='precipitation-nowcasting')\n",
        "    val_losses = []\n",
        "    wandb.watch(model, log='all')\n",
        "    with torch.no_grad():\n",
        "        for inputs, y_true in tqdm(data_loader):\n",
        "            inputs = inputs.to(device)\n",
        "            y_true = y_true.to(device)\n",
        "            y_pred = model(inputs)\n",
        "            loss = loss_fn(y_pred, y_true)\n",
        "            val_losses.append(loss)\n",
        "        mse = torch.stack(val_losses).mean()\n",
        "        wandb.finish()\n",
        "        return mse\n",
        "    \n",
        "print('GRU-model')\n",
        "print('train', evaluate_gru(train_loader_gru, model_gru).item())\n",
        "print('validate', evaluate_gru(val_loader_gru, model_gru).item())"
      ]
    },
    {
      "cell_type": "markdown",
      "metadata": {
        "id": "xe6kp4X-Kvpv"
      },
      "source": [
        "# Transformer"
      ]
    },
    {
      "cell_type": "markdown",
      "metadata": {
        "id": "1MnXbsPWLO9S"
      },
      "source": [
        "Welcome to the beginning of the real world! The aboved models are not usually used in practice due to its limited capability. Transformers are generally used by computer vision, natural language processing, and speech processing (almost every big AI fields).\n",
        "\n"
      ]
    },
    {
      "cell_type": "markdown",
      "metadata": {
        "id": "JZzQCqaPPiYF"
      },
      "source": [
        "In our dataloader, we will add the output of this timestep (the number of precipitation) as an auxiliary input to predict the next timestep. Thus, input for the model should be [#batch_size, 5, 76] (5 timesteps and the number 76 comes from (3x5x5)+1) and the output for the model should be [#batch_size, 1] which would be the next timestep we want to predict. Additionally, we will mask the input at the dataloader to the attenttion from observing future values. Suppose that we want to predict timestep 3, we will mask the timestep 3, 4 and 5 in our input by setting it to zeros, and we will predict the timestep 3.\n",
        "\n",
        "In order to get a score on this TODO, students need to implement a dataloader that mask the input correctly."
      ]
    },
    {
      "cell_type": "code",
      "execution_count": 85,
      "metadata": {},
      "outputs": [
        {
          "name": "stdout",
          "output_type": "stream",
          "text": [
            "tensor([1, 1, 1, 1, 1])\n",
            "tensor([1, 1, 5, 5, 5])\n",
            "tensor([1, 1, 5, 5, 5])\n",
            "tensor([1, 1, 5, 8, 5]) tensor([ 5, 10,  5])\n",
            "tensor([1, 1, 5, 8])\n"
          ]
        }
      ],
      "source": [
        "a = torch.tensor([1,1,1,1,1])\n",
        "print(a)\n",
        "b = torch.tensor([5,5,5])\n",
        "a[2:5] = b\n",
        "print(a)\n",
        "b[1] = 10\n",
        "print(a)\n",
        "a[3] = 8\n",
        "print(a, b)\n",
        "print(a[:-1])"
      ]
    },
    {
      "cell_type": "code",
      "execution_count": 105,
      "metadata": {
        "id": "K6r4H6fZK1Lj"
      },
      "outputs": [
        {
          "name": "stdout",
          "output_type": "stream",
          "text": [
            "torch.Size([229548, 5, 76]) torch.Size([229548, 5, 1])\n",
            "torch.Size([111715, 5, 76]) torch.Size([111715, 5, 1])\n",
            "torch.Size([92839, 5, 76]) torch.Size([92839, 5, 1])\n"
          ]
        }
      ],
      "source": [
        "import torch\n",
        "################################################################################\n",
        "# OT#2:                                                                        #\n",
        "# Complete the code for preparing data for training Transformer                #\n",
        "# Transformer's input should has 3 dimensions.                                 #\n",
        "# The dimensions should compose of entries, time-step, and features.           #\n",
        "################################################################################\n",
        "#                            WRITE YOUR CODE BELOW                             #\n",
        "################################################################################\n",
        "def preprocess_for_tran(x_train, y_train, x_test, y_test, x_val, y_val):\n",
        "    x_train = torch.tensor(x_train)\n",
        "    y_train = torch.tensor(y_train)\n",
        "    x_test = torch.tensor(x_test)\n",
        "    y_test = torch.tensor(y_test)\n",
        "    x_val = torch.tensor(x_val)\n",
        "    y_val = torch.tensor(y_val)\n",
        "    x_train_tran = x_train.reshape((-1, 5, 5*5*3))\n",
        "    y_train_tran = y_train.reshape((-1, 5, 1))\n",
        "    x_train_tran = torch.cat((x_train_tran, torch.zeros_like(y_train_tran)), dim=2)\n",
        "    x_train_tran[:, 1:, 75:] = y_train_tran[:, :-1, :]\n",
        "    x_test_tran = x_test.reshape((-1, 5, 5*5*3))\n",
        "    y_test_tran = y_test.reshape((-1, 5, 1))\n",
        "    x_test_tran = torch.cat((x_test_tran, torch.zeros_like(y_test_tran)), dim=2)\n",
        "    x_test_tran[:, 1:, 75:] = y_test_tran[:, :-1, :]\n",
        "    x_val_tran = x_val.reshape((-1, 5, 5*5*3))\n",
        "    y_val_tran = y_val.reshape((-1, 5, 1))\n",
        "    x_val_tran = torch.cat((x_val_tran, torch.zeros_like(y_val_tran)), dim=2)\n",
        "    x_val_tran[:, 1:, 75:] = y_val_tran[:, :-1, :]\n",
        "    return x_train_tran, y_train_tran, x_test_tran, y_test_tran, x_val_tran, y_val_tran\n",
        "\n",
        "x_train_tran, y_train_tran, x_test_tran, y_test_tran, x_val_tran, y_val_tran = preprocess_for_tran(x_train, y_train, x_test, y_test, x_val, y_val)\n",
        "print(x_train_tran.shape, y_train_tran.shape)\n",
        "print(x_test_tran.shape, y_test_tran.shape)\n",
        "print(x_val_tran.shape, y_val_tran.shape)\n",
        "# print(x_train_tran[87342//5, :, 75], y_train_tran[87342//5, :, 0])\n",
        "# print(y_train_tran.argmax(keepdim=True))"
      ]
    },
    {
      "cell_type": "markdown",
      "metadata": {
        "id": "8jkG8ik7PceP"
      },
      "source": [
        "\n",
        "In this task, we will implement one encoder layer of Transformer and add the linear layer to make a regression prediction. For the simplicity of the model, we will change the multi-head attention to QKV self-attention (single-head). As a result, our model should look like the diagram below. Since the layer self-attention is not availble in torch, students have to implement it themselves. In Add & Norm layer, students have to do the addition before normalizing. In Layer Normalization, we will normalize across both timesteps and features."
      ]
    },
    {
      "cell_type": "markdown",
      "metadata": {
        "id": "-Q3kTURbITRc"
      },
      "source": [
        "![image.png](data:image/png;base64,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)"
      ]
    },
    {
      "cell_type": "markdown",
      "metadata": {
        "id": "4VSMfAm56xJJ"
      },
      "source": [
        "```\n",
        "==========================================================================================\n",
        "Layer (type:depth-idx)                   Output Shape              Param #\n",
        "==========================================================================================\n",
        "TransformerModel                         [1024, 1]                 --\n",
        "├─PositionalEncoding: 1-1                [1024, 5, 76]             --\n",
        "│    └─Dropout: 2-1                      [1024, 5, 76]             --\n",
        "├─SelfAttention: 1-2                     [1024, 5, 76]             --\n",
        "│    └─Linear: 2-2                       [1024, 5, 76]             5,852\n",
        "│    └─Linear: 2-3                       [1024, 5, 76]             5,852\n",
        "│    └─Linear: 2-4                       [1024, 5, 76]             5,852\n",
        "│    └─Softmax: 2-5                      [1024, 5, 5]              --\n",
        "├─LayerNorm: 1-3                         [1024, 5, 76]             760\n",
        "├─Linear: 1-4                            [1024, 5, 76]             5,852\n",
        "├─LayerNorm: 1-5                         [1024, 5, 76]             760\n",
        "├─Linear: 1-6                            [1024, 1]                 381\n",
        "==========================================================================================\n",
        "Total params: 25,309\n",
        "Trainable params: 25,309\n",
        "Non-trainable params: 0\n",
        "Total mult-adds (M): 25.92\n",
        "==========================================================================================\n",
        "Input size (MB): 1.56\n",
        "Forward/backward pass size (MB): 18.69\n",
        "Params size (MB): 0.10\n",
        "Estimated Total Size (MB): 20.34\n",
        "==========================================================================================\n",
        "```"
      ]
    },
    {
      "cell_type": "code",
      "execution_count": null,
      "metadata": {
        "id": "lA5W1YIN2BJ4"
      },
      "outputs": [],
      "source": [
        "################################################################################\n",
        "# OT#3                                                                         #\n",
        "# Write a PyTorch PositionalEncoding model.                                    #\n",
        "#                                                                              #\n",
        "# Hint: You should read PyTorch documentation to see the list of available     #\n",
        "# layers and options you can use.                                              #\n",
        "################################################################################\n",
        "#                            WRITE YOUR CODE BELOW                             #\n",
        "################################################################################\n",
        "\n",
        "class PositionalEncoding(nn.Module):\n",
        "  def __init__(self, seq_len, emb_dim, dropout=0.2):\n",
        "    super(PositionalEncoding, self).__init__()\n",
        "    self.dropout = nn.Dropout(dropout)\n",
        "    pe = torch.zeros(seq_len, emb_dim)\n",
        "    position = torch.arange(0, seq_len, dtype=torch.float).unsqueeze(1)\n",
        "    div_term = torch.exp(torch.arange(0, emb_dim, 2).float() * (-math.log(10000.0) / emb_dim))\n",
        "    pe[:, 0::2] = torch.sin(position * div_term)\n",
        "    pe[:, 1::2] = torch.cos(position * div_term)\n",
        "    pe = pe.unsqueeze(0)\n",
        "    self.register_buffer('pe', pe)\n",
        "\n",
        "  def forward(self, x):\n",
        "    pass"
      ]
    },
    {
      "cell_type": "code",
      "execution_count": null,
      "metadata": {
        "id": "cddTLABiK3Il"
      },
      "outputs": [],
      "source": [
        "################################################################################\n",
        "# OT#4                                                                         #\n",
        "# Write a PyTorch Transformer model.                                           #\n",
        "# Your goal is to predict a precipitation of every time step.                  #\n",
        "#                                                                              #\n",
        "# Hint: You should read PyTorch documentation to see the list of available     #\n",
        "# layers and options you can use.                                              #\n",
        "################################################################################\n",
        "#                            WRITE YOUR CODE BELOW                             #\n",
        "################################################################################\n",
        "\n",
        "class SelfAttention(nn.Module):\n",
        "  def __init__(self, input_dim):\n",
        "    pass\n",
        "\n",
        "  def forward(self, x):\n",
        "    pass\n",
        "\n",
        "class TransformerModel(nn.Module):\n",
        "  def __init__(self):\n",
        "    pass\n",
        "\n",
        "  def forward(self, x):\n",
        "    pass\n"
      ]
    },
    {
      "cell_type": "code",
      "execution_count": null,
      "metadata": {
        "id": "ntWbil-9K5Hv"
      },
      "outputs": [],
      "source": [
        "################################################################################\n",
        "# OT#5                                                                         #\n",
        "# Complete the code to train your Transformer model                                    #\n",
        "################################################################################\n",
        "print('start training transformer')\n",
        "################################################################################\n",
        "#                            WRITE YOUR CODE BELOW                             #\n",
        "################################################################################"
      ]
    },
    {
      "cell_type": "code",
      "execution_count": null,
      "metadata": {
        "id": "p6Z8aG7nK6DV"
      },
      "outputs": [],
      "source": [
        "# Plot"
      ]
    },
    {
      "cell_type": "markdown",
      "metadata": {
        "id": "Py_llUMUNjmi"
      },
      "source": [
        "If you implement it correctly, you should evaluate the model in the test dataset and the score should be better than the aboved models."
      ]
    },
    {
      "cell_type": "code",
      "execution_count": null,
      "metadata": {
        "id": "DY9EJQ0zK7G3"
      },
      "outputs": [],
      "source": [
        "# Evaluate"
      ]
    },
    {
      "cell_type": "markdown",
      "metadata": {
        "id": "gkoGHlI8FKv5"
      },
      "source": [
        "# Final Section\n",
        "# PyTorch playground\n",
        "\n",
        "Now, train the best model you can do for this task. You can use any model structure and function available.    \n",
        "Remember that trainig time increases with the complexity of the model. You might find printing computation graphs helpful in debugging complicated models.    \n",
        "Your model should be better than your CNN or GRU model in the previous sections.\n",
        "\n",
        "Some ideas:\n",
        "\n",
        "- Tune the hyperparameters\n",
        "- Adding dropouts\n",
        "- Combining CNN with GRUs\n",
        "\n",
        "You should tune your model on training and validation set.    \n",
        "**The test set should be used only for the last evaluation.**"
      ]
    },
    {
      "cell_type": "code",
      "execution_count": null,
      "metadata": {
        "id": "NH741odv8zOq"
      },
      "outputs": [],
      "source": [
        "# Prep data as you see fit\n"
      ]
    },
    {
      "cell_type": "code",
      "execution_count": null,
      "metadata": {
        "id": "2hibvTeKFKv5"
      },
      "outputs": [],
      "source": [
        "################################################################################\n",
        "# TODO#20                                                                      #\n",
        "# Write a function that returns your best PyTorch model. You can use anything  #\n",
        "# you want. The goal here is to create the best model you can think of.        #\n",
        "#                                                                              #\n",
        "# Hint: You should read PyTorch documentation to see the list of available     #\n",
        "# layers and options you can use.                                              #\n",
        "################################################################################\n",
        "#                            WRITE YOUR CODE BELOW                             #\n",
        "################################################################################\n"
      ]
    },
    {
      "cell_type": "code",
      "execution_count": null,
      "metadata": {
        "id": "yfNpynXlFKv8"
      },
      "outputs": [],
      "source": [
        "################################################################################\n",
        "# TODO#21                                                                      #\n",
        "# Complete the code to train your best model                                   #\n",
        "################################################################################\n",
        "print('start training the best model')\n",
        "################################################################################\n",
        "#                            WRITE YOUR CODE BELOW                             #\n",
        "################################################################################\n"
      ]
    },
    {
      "cell_type": "code",
      "execution_count": null,
      "metadata": {
        "id": "Ag7EC7E9MuZH"
      },
      "outputs": [],
      "source": [
        "# Evaluate best model on validation and test set\n"
      ]
    },
    {
      "cell_type": "code",
      "execution_count": null,
      "metadata": {
        "id": "tOVQ2zHkFKv-"
      },
      "outputs": [],
      "source": [
        "# Also evaluate your fully-connected model and CNN/GRU/Transformer model on the test set.\n"
      ]
    },
    {
      "cell_type": "markdown",
      "metadata": {
        "id": "yHyzJulTFKwA"
      },
      "source": [
        "To get full credit for this part, your best model should be better than the previous models on the **test set**.\n",
        "\n",
        "### TODO#22\n",
        "\n",
        "Explain what helped and what did not help here\n",
        "\n",
        "**Ans:**"
      ]
    },
    {
      "cell_type": "markdown",
      "metadata": {
        "id": "UqJCOYoPaZcc"
      },
      "source": [
        "# [Optional] Augmentation using data loader\n",
        "\n",
        "### Optional TODO#6\n",
        "\n",
        "Implement a new dataloader on your best model that will perform data augmentation. Try adding noise of zero mean and variance of $10e^{-2}$.\n",
        "\n",
        "Then, train your model."
      ]
    },
    {
      "cell_type": "code",
      "execution_count": null,
      "metadata": {
        "id": "IwEB-0wMaqhr"
      },
      "outputs": [],
      "source": [
        "# Write Dataset/DataLoader with noise here\n"
      ]
    },
    {
      "cell_type": "code",
      "execution_count": null,
      "metadata": {
        "id": "3l44W5glBdae"
      },
      "outputs": [],
      "source": [
        "print('start training the best model with noise')\n",
        "################################################################################\n",
        "#                            WRITE YOUR CODE BELOW                             #\n",
        "################################################################################\n"
      ]
    },
    {
      "cell_type": "code",
      "execution_count": null,
      "metadata": {
        "id": "sxBScR6KBoCs"
      },
      "outputs": [],
      "source": [
        "# Evaluate the best model trained with noise on validation and test set\n"
      ]
    }
  ],
  "metadata": {
    "accelerator": "GPU",
    "colab": {
      "provenance": [],
      "toc_visible": true
    },
    "kernelspec": {
      "display_name": "Python 3",
      "name": "python3"
    },
    "language_info": {
      "codemirror_mode": {
        "name": "ipython",
        "version": 3
      },
      "file_extension": ".py",
      "mimetype": "text/x-python",
      "name": "python",
      "nbconvert_exporter": "python",
      "pygments_lexer": "ipython3",
      "version": "3.12.2"
    }
  },
  "nbformat": 4,
  "nbformat_minor": 0
}
