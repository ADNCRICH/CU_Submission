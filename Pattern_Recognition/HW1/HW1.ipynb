{
 "cells": [
  {
   "cell_type": "code",
   "execution_count": 1,
   "metadata": {},
   "outputs": [
    {
     "name": "stderr",
     "output_type": "stream",
     "text": [
      "C:\\Users\\Windows\\AppData\\Local\\Temp\\ipykernel_21060\\1662815981.py:2: DeprecationWarning: \n",
      "Pyarrow will become a required dependency of pandas in the next major release of pandas (pandas 3.0),\n",
      "(to allow more performant data types, such as the Arrow string type, and better interoperability with other libraries)\n",
      "but was not found to be installed on your system.\n",
      "If this would cause problems for you,\n",
      "please provide us feedback at https://github.com/pandas-dev/pandas/issues/54466\n",
      "        \n",
      "  import pandas as pd\n"
     ]
    }
   ],
   "source": [
    "import numpy as np\n",
    "import pandas as pd"
   ]
  },
  {
   "cell_type": "code",
   "execution_count": 2,
   "metadata": {},
   "outputs": [],
   "source": [
    "train_url = \"http://s3.amazonaws.com/assets.datacamp.com/course/Kaggle/train.csv\"\n",
    "train_buf = pd.read_csv(train_url) #training set\n",
    "\n",
    "test_url = \"http://s3.amazonaws.com/assets.datacamp.com/course/Kaggle/test.csv\"\n",
    "test_buf = pd.read_csv(test_url) #test set\n"
   ]
  },
  {
   "cell_type": "code",
   "execution_count": 3,
   "metadata": {},
   "outputs": [],
   "source": [
    "train = train_buf\n",
    "test = test_buf"
   ]
  },
  {
   "cell_type": "code",
   "execution_count": 4,
   "metadata": {},
   "outputs": [
    {
     "name": "stdout",
     "output_type": "stream",
     "text": [
      "28.0\n"
     ]
    }
   ],
   "source": [
    "## task 8\n",
    "print(train[\"Age\"].median())\n",
    "\n",
    "train[\"Age\"] = train[\"Age\"].fillna(train[\"Age\"].median())\n",
    "test[\"Age\"] = test[\"Age\"].fillna(test[\"Age\"].median())"
   ]
  },
  {
   "cell_type": "code",
   "execution_count": 5,
   "metadata": {},
   "outputs": [
    {
     "name": "stdout",
     "output_type": "stream",
     "text": [
      "0    S\n",
      "Name: Embarked, dtype: object\n"
     ]
    }
   ],
   "source": [
    "## task 9\n",
    "print(train[\"Embarked\"].mode())\n",
    "\n",
    "train.loc[train[\"Embarked\"] == \"S\", \"Embarked\"] = 0\n",
    "train.loc[train[\"Embarked\"] == \"C\", \"Embarked\"] = 1\n",
    "train.loc[train[\"Embarked\"] == \"Q\", \"Embarked\"] = 2\n",
    "\n",
    "train.loc[train[\"Sex\"] == \"male\", \"Sex\"] = 0\n",
    "train.loc[train[\"Sex\"] == \"female\", \"Sex\"] = 1\n",
    "\n",
    "test.loc[test[\"Embarked\"] == \"S\", \"Embarked\"] = 0\n",
    "test.loc[test[\"Embarked\"] == \"C\", \"Embarked\"] = 1\n",
    "test.loc[test[\"Embarked\"] == \"Q\", \"Embarked\"] = 2\n",
    "\n",
    "test.loc[test[\"Sex\"] == \"male\", \"Sex\"] = 0\n",
    "test.loc[test[\"Sex\"] == \"female\", \"Sex\"] = 1"
   ]
  },
  {
   "cell_type": "code",
   "execution_count": 6,
   "metadata": {},
   "outputs": [
    {
     "name": "stdout",
     "output_type": "stream",
     "text": [
      "[3 1 2]\n"
     ]
    }
   ],
   "source": [
    "print(train[\"Pclass\"].unique())"
   ]
  },
  {
   "cell_type": "code",
   "execution_count": 7,
   "metadata": {},
   "outputs": [
    {
     "name": "stdout",
     "output_type": "stream",
     "text": [
      "Index(['PassengerId', 'Survived', 'Pclass', 'Name', 'Sex', 'Age', 'SibSp',\n",
      "       'Parch', 'Ticket', 'Fare', 'Cabin', 'Embarked'],\n",
      "      dtype='object')\n"
     ]
    },
    {
     "name": "stderr",
     "output_type": "stream",
     "text": [
      "C:\\Users\\Windows\\AppData\\Local\\Temp\\ipykernel_21060\\3363175144.py:1: FutureWarning: Downcasting object dtype arrays on .fillna, .ffill, .bfill is deprecated and will change in a future version. Call result.infer_objects(copy=False) instead. To opt-in to the future behavior, set `pd.set_option('future.no_silent_downcasting', True)`\n",
      "  train[\"Embarked\"] = train[\"Embarked\"].fillna(train[\"Embarked\"].mode()[0])\n",
      "C:\\Users\\Windows\\AppData\\Local\\Temp\\ipykernel_21060\\3363175144.py:2: FutureWarning: Downcasting object dtype arrays on .fillna, .ffill, .bfill is deprecated and will change in a future version. Call result.infer_objects(copy=False) instead. To opt-in to the future behavior, set `pd.set_option('future.no_silent_downcasting', True)`\n",
      "  train[\"Sex\"] = train[\"Sex\"].fillna(train[\"Sex\"].mode()[0])\n"
     ]
    }
   ],
   "source": [
    "train[\"Embarked\"] = train[\"Embarked\"].fillna(train[\"Embarked\"].mode()[0])\n",
    "train[\"Sex\"] = train[\"Sex\"].fillna(train[\"Sex\"].mode()[0])\n",
    "print(train.columns)"
   ]
  },
  {
   "cell_type": "code",
   "execution_count": 19,
   "metadata": {},
   "outputs": [],
   "source": [
    "# task 12\n",
    "# task 13\n",
    "def prepare(dataframe):\n",
    "    # feature = [\"Sex\",\"Age\"]\n",
    "    feature = [\"Pclass\",\"Sex\",\"Age\",\"Embarked\"]\n",
    "    x = np.array(dataframe[feature].values, dtype=np.double)\n",
    "\n",
    "    # x = np.insert(x, -1, [x[:,0]*x[:,0], x[:,1]*x[:,1], np.abs(x[:,2]-15), np.abs(x[:,2]-20), np.abs(x[:,2]-25), np.abs(x[:,2]-30), np.abs(x[:,2]-35), np.abs(x[:,2]-40)], axis=1)\n",
    "    # x = np.insert(x, -1, [x[:,0]*x[:,0], x[:,1]*x[:,1], x[:,2]*x[:,2], x[:,3]*x[:,3], x[:,0]*x[:,1], x[:,0]*x[:,2], x[:,0]*x[:,3], x[:,1]*x[:,2], x[:,1]*x[:,3], x[:,2]*x[:,3]], axis=1)\n",
    "\n",
    "    x_mi = np.min(x, axis=0)\n",
    "    x_ma = np.max(x, axis=0)\n",
    "    \n",
    "\n",
    "    if \"Survived\" not in dataframe.columns:\n",
    "        return x\n",
    "    y = np.array(dataframe[\"Survived\"].values, dtype=np.double)\n",
    "    return x, y, x_mi, x_ma"
   ]
  },
  {
   "cell_type": "code",
   "execution_count": 9,
   "metadata": {},
   "outputs": [
    {
     "name": "stdout",
     "output_type": "stream",
     "text": [
      "(891, 14) (891,)\n"
     ]
    }
   ],
   "source": [
    "## task 10\n",
    "x,y,x_mi,x_ma = prepare(train)\n",
    "x = (x - x_mi) / (x_ma - x_mi)\n",
    "\n",
    "z = np.array([0.5]*x.shape[1], dtype=float)\n",
    "print(x.shape, y.shape)"
   ]
  },
  {
   "cell_type": "code",
   "execution_count": 10,
   "metadata": {},
   "outputs": [
    {
     "name": "stdout",
     "output_type": "stream",
     "text": [
      "iterations :  1000\n",
      "    zeta :  [-0.35404295  2.55327427 -0.86344954 -0.41347336  2.55327427  0.40114732\n",
      " -1.78730352 -4.22882176 -3.00543467  0.43011768  1.7377223   1.39996635\n",
      " -0.62616612  1.53753834]\n",
      "iterations :  2000\n",
      "    zeta :  [-0.5071823   2.68104653 -0.92852903 -0.08778292  2.68104653  0.94043367\n",
      " -2.29257489 -4.6457088  -3.61097119  0.4908172   1.99327846  1.53293161\n",
      " -0.98044596  2.00126953]\n",
      "iterations :  3000\n",
      "    zeta :  [-0.6469791   2.70067102 -0.99167254  0.10671727  2.70067102  1.18208665\n",
      " -2.44822059 -4.74115425 -3.78743302  0.47079706  2.10461619  1.57303153\n",
      " -1.19282629  2.2153651 ]\n",
      "iterations :  4000\n",
      "    zeta :  [-0.74636765  2.7104655  -1.03592236  0.22480117  2.7104655   1.29572977\n",
      " -2.49933743 -4.7814329  -3.83242787  0.43108042  2.14508315  1.59082708\n",
      " -1.32863212  2.33740433]\n",
      "iterations :  5000\n",
      "    zeta :  [-0.81631988  2.71924946 -1.06755348  0.30061887  2.71924946  1.35421072\n",
      " -2.51576917 -4.80634983 -3.83333835  0.3927026   2.15652329  1.60082575\n",
      " -1.41936064  2.4150275 ]\n",
      "iterations :  6000\n",
      "    zeta :  [-0.86643777  2.72706507 -1.0910611   0.35184821  2.72706507  1.38753544\n",
      " -2.52014346 -4.82412598 -3.82041556  0.36094591  2.1568585   1.60718931\n",
      " -1.48214503  2.46763667]\n",
      "iterations :  7000\n",
      "    zeta :  [-0.90301857  2.7336428  -1.10897799  0.38784276  2.7336428   1.40840286\n",
      " -2.52033982 -4.83740876 -3.80462434  0.33600651  2.1533742   1.61152726\n",
      " -1.52683822  2.50477803]\n",
      "iterations :  8000\n",
      "    zeta :  [-0.93014227  2.73899543 -1.12283104  0.41387241  2.73899543  1.42249413\n",
      " -2.51921055 -4.84751521 -3.78980429  0.31676159  2.14896434  1.61461238\n",
      " -1.55938367  2.53175592]\n",
      "iterations :  9000\n",
      "    zeta :  [-0.95051741  2.74327677 -1.13363317  0.4331027   2.74327677  1.43254371\n",
      " -2.51779552 -4.85528052 -3.77708632  0.30196421  2.14472523  1.61687034\n",
      " -1.58352066  2.55176617]\n",
      "iterations :  10000\n",
      "    zeta :  [-0.96598785  2.74667337 -1.14210226  0.44753997  2.74667337  1.43998172\n",
      " -2.5164585  -4.86128755 -3.76659025  0.29056296  2.14101973  1.6185571\n",
      " -1.60168624  2.56684538]\n",
      "iterations :  11000\n",
      "    zeta :  [-0.97783472  2.74935808 -1.14876558  0.45850969  2.74935808  1.44562151\n",
      " -2.51530804 -4.86595778 -3.75809196  0.28174451  2.13791784  1.6198359\n",
      " -1.61551524  2.57834462]\n",
      "iterations :  12000\n",
      "    zeta :  [-0.98696238  2.75147559 -1.15401697  0.4669151   2.75147559  1.44996189\n",
      " -2.51435836 -4.86960036 -3.75128373  0.27490012  2.13538029  1.62081531\n",
      " -1.62613015  2.58718713]\n",
      "iterations :  13000\n",
      "    zeta :  [-0.99401706  2.75314132 -1.15815273  0.47338588  2.75314132  1.45332799\n",
      " -2.51359167 -4.87244359 -3.74587095  0.26957983  2.1333348   1.62156975\n",
      " -1.63431599  2.59401771]\n",
      "iterations :  14000\n",
      "    zeta :  [-0.99946457  2.754445   -1.16139618  0.47836811  2.754445    1.45594146\n",
      " -2.51298235 -4.87465655 -3.7416029   0.26545253  2.13170663  1.62215133\n",
      " -1.64062948  2.59929387]\n",
      "iterations :  15000\n",
      "    zeta :  [-1.00364236  2.75545517 -1.16391523  0.48218094  2.75545517  1.45795791\n",
      " -2.51250579 -4.87636446 -3.73827788  0.2622752   2.13042985  1.62259707\n",
      " -1.64546899  2.60334345]\n",
      "iterations :  16000\n",
      "    zeta :  [-1.00679475  2.7562234  -1.1658353   0.48505344  2.7562234   1.45948823\n",
      " -2.51214124 -4.87765959 -3.73573923  0.25987027  2.12945052  1.62293338\n",
      " -1.64912042  2.60640213]\n",
      "iterations :  17000\n",
      "    zeta :  [-1.00909708  2.75678776 -1.16724864  0.48714898  2.75678776  1.46061149\n",
      " -2.51187246 -4.87860906 -3.73386894  0.2581095   2.12872669  1.62317906\n",
      " -1.65178763  2.60863824]\n",
      "iterations :  18000\n",
      "    zeta :  [-1.01067216  2.75717547 -1.16822111  0.48858145  2.75717547  1.46138297\n",
      " -2.51168739 -4.87926041 -3.73258151  0.25690268  2.12822736  1.62334719\n",
      " -1.65361275  2.61016932]\n",
      "iterations :  19000\n",
      "    zeta :  [-1.01160131  2.7574048  -1.16879695  0.48942604  2.7574048   1.46183931\n",
      " -2.51157778 -4.87964533 -3.73181902  0.25618989  2.12793122  1.6234464\n",
      " -1.65468962  2.61107308]\n",
      "iterations :  20000\n",
      "    zeta :  [-1.01193142  2.75748639 -1.16900194  0.48972603  2.75748639  1.46200167\n",
      " -2.51153876 -4.87978221 -3.73154757  0.25593648  2.12782572  1.62348166\n",
      " -1.65507226  2.61139428]\n"
     ]
    }
   ],
   "source": [
    "def H(x):\n",
    "    return 1 / (1 + np.exp(-np.dot(x,z)))\n",
    "\n",
    "r_max = 0.003\n",
    "r_min = 0.00001\n",
    "iter = 20000\n",
    "\n",
    "for iii in range(1,iter+1):\n",
    "    r = r_max - (r_max - r_min)*iii/iter\n",
    "    sum = np.zeros(x.shape[1])\n",
    "    for j in range(len(y)):\n",
    "        sum += (y[j] - H(x[j]))*x[j]\n",
    "    z += r*sum\n",
    "    if(iii % 1000==0):\n",
    "        print(\"iterations : \",iii)\n",
    "        print(\"    zeta : \",z)\n"
   ]
  },
  {
   "cell_type": "code",
   "execution_count": 11,
   "metadata": {},
   "outputs": [
    {
     "name": "stdout",
     "output_type": "stream",
     "text": [
      "accuracy of train:  0.813692480359147\n"
     ]
    }
   ],
   "source": [
    "x_test, y_test,pp,pp = prepare(train)\n",
    "x_test = (x_test - x_mi) / (x_ma - x_mi)\n",
    "y_pred = np.zeros(len(y_test))\n",
    "for i in range(len(y_test)):\n",
    "    y_pred[i] = 0 if H(x_test[i]) < 0.5 else 1\n",
    "\n",
    "print(\"accuracy of train: \",np.sum(y_pred == y_test)/len(y_test))"
   ]
  },
  {
   "cell_type": "code",
   "execution_count": 12,
   "metadata": {},
   "outputs": [],
   "source": [
    "x_test = prepare(test)\n",
    "x_test = (x_test - x_mi) / (x_ma - x_mi)\n",
    "y_pred = np.zeros(len(x_test))\n",
    "for i in range(len(x_test)):\n",
    "    y_pred[i] = 0 if H(x_test[i]) < 0.5 else 1\n",
    "\n",
    "pd.DataFrame({\"PassengerId\": test[\"PassengerId\"], \"Survived\": y_pred.astype(int)}).to_csv(\"submission.csv\", index=False)"
   ]
  },
  {
   "cell_type": "code",
   "execution_count": 20,
   "metadata": {},
   "outputs": [
    {
     "name": "stdout",
     "output_type": "stream",
     "text": [
      "zeta :  [-0.09088149  0.60886717  0.44454662  0.13934095]\n",
      "MSE :  0.16946707481047424\n"
     ]
    }
   ],
   "source": [
    "# OT3\n",
    "# OT4\n",
    "\n",
    "# Gradient Descent\n",
    "x,y,x_mi,x_ma = prepare(train)\n",
    "x = (x - x_mi) / (x_ma - x_mi)\n",
    "\n",
    "z = np.array([0.5]*x.shape[1], dtype=np.double)\n",
    "\n",
    "r_max = 0.003\n",
    "r_min = 0.0001\n",
    "iter = 2000\n",
    "\n",
    "for iii in range(1,iter+1):\n",
    "    r = r_max - (r_max - r_min)*iii/iter\n",
    "    sum = np.zeros(x.shape[1])\n",
    "    for j in range(len(y)):\n",
    "        sum += (y[j] - np.dot(z, x[j]))*x[j]\n",
    "    z += r*sum\n",
    "\n",
    "MSE = np.sum((y - x@z)**2)/len(y)\n",
    "print(\"zeta : \",z)\n",
    "print(\"MSE : \",MSE)"
   ]
  },
  {
   "cell_type": "code",
   "execution_count": 21,
   "metadata": {},
   "outputs": [
    {
     "name": "stdout",
     "output_type": "stream",
     "text": [
      "zeta :  [-0.09088149  0.60886717  0.44454662  0.13934095]\n",
      "MSE :  0.16946707481047424\n"
     ]
    }
   ],
   "source": [
    "# Pseudo Inverse\n",
    "x,y,x_mi,x_ma = prepare(train)\n",
    "x = (x - x_mi) / (x_ma - x_mi)\n",
    "\n",
    "z_inv = np.linalg.inv(x.T @ x) @ x.T @ y\n",
    "MSE = np.sum((y - x @ z_inv)**2)/len(y)\n",
    "print(\"zeta : \",z_inv)\n",
    "print(\"MSE : \",MSE)"
   ]
  },
  {
   "cell_type": "code",
   "execution_count": 22,
   "metadata": {},
   "outputs": [
    {
     "name": "stdout",
     "output_type": "stream",
     "text": [
      "[0. 0. 0.]\n",
      "[0. 0. 1.]\n",
      "[0.  0.5 0. ]\n",
      "[0.  0.5 1. ]\n",
      "[0. 1. 0.]\n",
      "[0. 1. 1.]\n",
      "[0.5 0.  0. ]\n",
      "[0.5 0.  1. ]\n",
      "[0.5 0.5 0. ]\n",
      "[0.5 0.5 1. ]\n",
      "[0.5 1.  0. ]\n",
      "[0.5 1.  1. ]\n",
      "[1. 0. 0.]\n",
      "[1. 0. 1.]\n",
      "[1.  0.5 0. ]\n",
      "[1.  0.5 1. ]\n",
      "[1. 1. 0.]\n",
      "[1. 1. 1.]\n"
     ]
    }
   ],
   "source": [
    "for i in np.unique(np.insert(x[:,0:2],-1,x[:,3],axis=1), axis=0):\n",
    "    print(i)"
   ]
  }
 ],
 "metadata": {
  "kernelspec": {
   "display_name": "Python 3",
   "language": "python",
   "name": "python3"
  },
  "language_info": {
   "codemirror_mode": {
    "name": "ipython",
    "version": 3
   },
   "file_extension": ".py",
   "mimetype": "text/x-python",
   "name": "python",
   "nbconvert_exporter": "python",
   "pygments_lexer": "ipython3",
   "version": "3.11.4"
  }
 },
 "nbformat": 4,
 "nbformat_minor": 2
}
