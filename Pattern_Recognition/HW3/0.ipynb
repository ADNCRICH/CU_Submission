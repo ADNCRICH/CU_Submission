{
 "cells": [
  {
   "cell_type": "code",
   "execution_count": 2,
   "metadata": {},
   "outputs": [],
   "source": [
    "import numpy as np\n",
    "# from scipy.stats import multivariate_normal"
   ]
  },
  {
   "cell_type": "code",
   "execution_count": 5,
   "metadata": {},
   "outputs": [
    {
     "name": "stdout",
     "output_type": "stream",
     "text": [
      "[1.30642333e-02 2.69273918e-11 3.28042787e-10]\n"
     ]
    }
   ],
   "source": [
    "mu = np.array([0, 0])\n",
    "sigma = np.array([[1, 0], [0, 1]])\n",
    "\n",
    "x = np.array([[1, 2],[3,6],[6,-2]])\n",
    "print(multivariate_normal.pdf(x, mean=mu, cov=sigma))"
   ]
  },
  {
   "cell_type": "code",
   "execution_count": 38,
   "metadata": {},
   "outputs": [
    {
     "name": "stdout",
     "output_type": "stream",
     "text": [
      "(3,)\n",
      "(3, 4)\n",
      "[1.09596586e-01 1.80043471e-03 2.44994448e-08 2.95430703e-03]\n",
      "[[1.30642333e-02 1.76805171e-03 6.58891552e-09 1.96412803e-05]\n",
      " [9.65323526e-02 3.23829967e-05 1.79105293e-08 2.91502447e-03]\n",
      " [1.98968008e-10 6.24586999e-27 2.48740426e-19 1.96412803e-05]]\n"
     ]
    }
   ],
   "source": [
    "num_mixture = 3\n",
    "mixture_weight = np.array([1] * num_mixture)\n",
    "\n",
    "mixture_mu = np.array([[3,3], [2,2], [-3,-3]], dtype=float)\n",
    "cov_params = np.array([np.eye(2)] * num_mixture)\n",
    "\n",
    "\n",
    "x = np.array([[1, 2],[3,6],[6,-2],[0,0]])\n",
    "print(mixture_weight.shape)\n",
    "g = np.array([multivariate_normal.pdf(x, mean=mixture_mu[i], cov=cov_params[i]) for i in range(num_mixture)])\n",
    "print(g.shape)\n",
    "print(mixture_weight @ g)\n",
    "print(g)\n"
   ]
  },
  {
   "cell_type": "code",
   "execution_count": 43,
   "metadata": {},
   "outputs": [
    {
     "name": "stdout",
     "output_type": "stream",
     "text": [
      "[[0 2 4 6 8]\n",
      " [1 3 5 7 9]]\n",
      "[[ 0  4 12 24 40]\n",
      " [ 1  6 15 28 45]]\n",
      "[[520 600]\n",
      " [600 695]]\n",
      "[[520. 600.]\n",
      " [600. 695.]]\n"
     ]
    }
   ],
   "source": [
    "a = np.arange(10).reshape(5, 2)\n",
    "w = np.array([1, 2, 3, 4, 5])\n",
    "print(a.T)\n",
    "print(w * a.T)\n",
    "print(np.dot(w*a.T, a))\n",
    "\n",
    "s = np.zeros((2, 2))\n",
    "for i in range(5):\n",
    "    s += w[i] * np.outer(a[i], a[i])\n",
    "print(s)"
   ]
  },
  {
   "cell_type": "code",
   "execution_count": null,
   "metadata": {},
   "outputs": [],
   "source": [
    "[[1.30642333e-02 9.65323526e-02 1.98968008e-10]\n",
    " [1.59154943e-01 5.85498315e-02 3.69163524e-17]\n",
    " [5.85498315e-02 1.59154943e-01 2.21033492e-12]\n",
    " [2.21033492e-12 3.69163524e-17 4.48939503e-54]\n",
    " [1.96412803e-05 1.79105293e-08 1.05673745e-36]\n",
    " [1.79105293e-08 2.21033492e-12 5.92068480e-45]\n",
    " [3.69163524e-17 2.21033492e-12 1.59154943e-01]\n",
    " [1.35807671e-17 8.13136774e-13 5.85498315e-02]\n",
    " [5.92068480e-45 1.05673745e-36 1.79105293e-08]]"
   ]
  },
  {
   "cell_type": "code",
   "execution_count": 45,
   "metadata": {},
   "outputs": [
    {
     "name": "stdout",
     "output_type": "stream",
     "text": [
      "[0 4 8]\n",
      "[[0 0 0]\n",
      " [0 4 0]\n",
      " [0 0 8]]\n"
     ]
    }
   ],
   "source": [
    "a = np.arange(9).reshape(3, 3)\n",
    "\n",
    "print(np.diag(a))\n",
    "# 0 all non diagonal elements\n",
    "a = np.diag(np.diag(a))\n",
    "print(a)"
   ]
  },
  {
   "cell_type": "code",
   "execution_count": 47,
   "metadata": {},
   "outputs": [
    {
     "name": "stdout",
     "output_type": "stream",
     "text": [
      "[0 1 2 3 4]\n",
      "[[0]\n",
      " [1]\n",
      " [2]\n",
      " [3]\n",
      " [4]]\n",
      "[[0 1 2 3 4]]\n",
      "[[0]\n",
      " [1]\n",
      " [2]\n",
      " [3]\n",
      " [4]]\n"
     ]
    }
   ],
   "source": [
    "a = np.arange(5)\n",
    "print(a)\n",
    "print(a[:, np.newaxis])\n",
    "print(a[np.newaxis, :])\n",
    "print(a[:, None])"
   ]
  },
  {
   "cell_type": "code",
   "execution_count": 29,
   "metadata": {},
   "outputs": [
    {
     "name": "stdout",
     "output_type": "stream",
     "text": [
      "[[ 0  1  2  3  4  5]\n",
      " [ 6  7  8  9 10 11]\n",
      " [12 13 14 15 16 17]\n",
      " [18 19 20 21 22 23]]\n",
      "[[[[ 0  1]\n",
      "   [ 2  3]\n",
      "   [ 4  5]]\n",
      "\n",
      "  [[ 6  7]\n",
      "   [ 8  9]\n",
      "   [10 11]]]\n",
      "\n",
      "\n",
      " [[[12 13]\n",
      "   [14 15]\n",
      "   [16 17]]\n",
      "\n",
      "  [[18 19]\n",
      "   [20 21]\n",
      "   [22 23]]]]\n",
      "[[ 0  2  4]\n",
      " [12 14 16]]\n"
     ]
    }
   ],
   "source": [
    "a = np.arange(24).reshape(4, -1) \n",
    "print(a)\n",
    "a = a.reshape(2,2,3,2)\n",
    "print(a)\n",
    "a = a.min(axis=(1,3))\n",
    "print(a)"
   ]
  },
  {
   "cell_type": "code",
   "execution_count": 40,
   "metadata": {},
   "outputs": [
    {
     "name": "stdout",
     "output_type": "stream",
     "text": [
      "[[ 0  1  2  3  4  5]\n",
      " [ 6  7  8  9 10 11]\n",
      " [12 13 14 15 16 17]\n",
      " [18 19 20 21 22 23]]\n",
      "(2, 3, 2, 2)\n",
      "[[ 0  2  4]\n",
      " [12 14 16]]\n"
     ]
    }
   ],
   "source": [
    "a = np.arange(24).reshape(4, -1) \n",
    "print(a)\n",
    "# group 2 by 2 example a[0][0] = [[0,1],[6,7]]\n",
    "a = a.reshape(2,2,3,2).transpose(0,2,1,3)\n",
    "print(a.shape)\n",
    "print(a.min(axis=(2,3)))"
   ]
  },
  {
   "cell_type": "code",
   "execution_count": 50,
   "metadata": {},
   "outputs": [
    {
     "name": "stdout",
     "output_type": "stream",
     "text": [
      "[[ 0  1  2  3  4  5]\n",
      " [ 6  7  8  9 10 11]\n",
      " [12 13 14 15 16 17]\n",
      " [18 19 20 21 22 23]]\n",
      "[[[ 0  1  2  3  4  5]\n",
      "  [ 6  7  8  9 10 11]]\n",
      "\n",
      " [[12 13 14 15 16 17]\n",
      "  [18 19 20 21 22 23]]]\n",
      "[[[ 0  6]\n",
      "  [ 1  7]\n",
      "  [ 2  8]\n",
      "  [ 3  9]\n",
      "  [ 4 10]\n",
      "  [ 5 11]]\n",
      "\n",
      " [[12 18]\n",
      "  [13 19]\n",
      "  [14 20]\n",
      "  [15 21]\n",
      "  [16 22]\n",
      "  [17 23]]]\n",
      "[[ 0  1  2  3  4  5]\n",
      " [12 13 14 15 16 17]]\n"
     ]
    }
   ],
   "source": [
    "b = np.arange(24).reshape(4, 6) \n",
    "print(b)\n",
    "\n",
    "b = b.reshape(2,2,6)\n",
    "print(b)\n",
    "\n",
    "b = b.transpose(0,2,1)\n",
    "print(b)\n",
    "print(b.min(axis=2))"
   ]
  },
  {
   "cell_type": "code",
   "execution_count": 66,
   "metadata": {},
   "outputs": [
    {
     "name": "stdout",
     "output_type": "stream",
     "text": [
      "[[1 4]\n",
      " [2 5]\n",
      " [3 6]]\n",
      "[[1 2 3]\n",
      " [4 5 6]]\n"
     ]
    }
   ],
   "source": [
    "a = [1,2,3]\n",
    "b = [4,5,6]\n",
    "\n",
    "ab = np.vstack((a, b))\n",
    "print(ab.transpose())\n",
    "ab = np.array(sorted(ab, key=lambda x: x[0]))\n",
    "print(ab)"
   ]
  },
  {
   "cell_type": "code",
   "execution_count": 74,
   "metadata": {},
   "outputs": [
    {
     "name": "stdout",
     "output_type": "stream",
     "text": [
      "[[0 1 2]\n",
      " [3 4 5]]\n",
      "[1.5 2.5 3.5]\n",
      "[[1.5]\n",
      " [2.5]\n",
      " [3.5]]\n",
      "[[-1.5  1.5]\n",
      " [-1.5  1.5]\n",
      " [-1.5  1.5]]\n"
     ]
    }
   ],
   "source": [
    "a = np.arange(6).reshape(2,3)\n",
    "print(a)\n",
    "print(a.mean(axis=0))\n",
    "print(a.mean(axis=0).reshape(-1, 1))\n",
    "print(a.T- a.mean(axis=0).reshape(-1, 1))"
   ]
  },
  {
   "cell_type": "code",
   "execution_count": 15,
   "metadata": {},
   "outputs": [
    {
     "name": "stdout",
     "output_type": "stream",
     "text": [
      "[[0 1 2]\n",
      " [2 1 0]]\n",
      "[[-1.  0.  1.]\n",
      " [ 1.  0. -1.]]\n",
      "[[ 0.66666667 -0.66666667]\n",
      " [-0.66666667  0.66666667]]\n",
      "[[ 0.66666667 -0.66666667]\n",
      " [-0.66666667  0.66666667]]\n"
     ]
    }
   ],
   "source": [
    "a = np.array([[0,2],[1,1],[2,0]]).T\n",
    "print(a)\n",
    "X = a - a.mean(axis=1).reshape(-1, 1)\n",
    "print(X)\n",
    "cov = X @ X.T / a.shape[1]\n",
    "print(cov)\n",
    "print(np.cov(a,ddof=0))"
   ]
  },
  {
   "cell_type": "code",
   "execution_count": 20,
   "metadata": {},
   "outputs": [
    {
     "name": "stdout",
     "output_type": "stream",
     "text": [
      "[[0 1 2]\n",
      " [2 1 0]]\n",
      "[2.         1.41421356 2.        ]\n",
      "[[0.         0.70710678 1.        ]\n",
      " [1.         0.70710678 0.        ]]\n"
     ]
    }
   ],
   "source": [
    "a = np.array([[0,2],[1,1],[2,0]]).T\n",
    "print(a)\n",
    "print(np.linalg.norm(a, axis=0))\n",
    "\n",
    "print(a / np.linalg.norm(a, axis=0))"
   ]
  }
 ],
 "metadata": {
  "kernelspec": {
   "display_name": "Python 3",
   "language": "python",
   "name": "python3"
  },
  "language_info": {
   "codemirror_mode": {
    "name": "ipython",
    "version": 3
   },
   "file_extension": ".py",
   "mimetype": "text/x-python",
   "name": "python",
   "nbconvert_exporter": "python",
   "pygments_lexer": "ipython3",
   "version": "3.11.4"
  }
 },
 "nbformat": 4,
 "nbformat_minor": 2
}
