{
  "cells": [
    {
      "cell_type": "markdown",
      "metadata": {
        "id": "r7GTSH1NwhxT"
      },
      "source": [
        "# **2110433 - Computer Vision (2023/2)**\n",
        "#**Lab 9 - Modern Object Detection [Homework]** <br>\n",
        "In this lab, we will learn how to use MMDetection to perform object detection in the provided real world dataset using PyTorch. This notebook includes both coding and written questions. Please hand in this notebook file with all outputs and your answer.\n",
        "\n",
        "**Collaboration is encouraged in this course.** You must turn in your own write ups of all problems. If you collaborate with others, you must put the names and ids of the students you worked with in below block.\n",
        "\n",
        "Collaboration List:\n",
        "- ...\n",
        "- ...\n"
      ]
    },
    {
      "cell_type": "markdown",
      "metadata": {
        "id": "ACywHh_DxHJE"
      },
      "source": [
        "# Assignment 1 : Parasite Detection\n",
        "![alt text](https://icip2022challenge.piclab.ai/wp-content/uploads/2022/01/parasite_egg_11_with_size.png)\n",
        "\n",
        "In this assignment you have to replace YOUR_STUDENT_ID_WITH21 variable with your student id (in integer). There will be 2 sets of data: train and test\n",
        "\n",
        "By using the knowledge from the lab and lecture, you have to train object detection model and tested on unknown label dataset!\n",
        "\n",
        "\n",
        "\n",
        "Scoreboard URL : https://www.piclab.ai/classes/cv2023/lab9/scoreboard"
      ]
    },
    {
      "cell_type": "markdown",
      "metadata": {
        "id": "jVfTXKTpyBBe"
      },
      "source": [
        "### Hints\n",
        "- The parasite dataset was created using COCO dataset format\n",
        "- If you use MMDetection, the dataset is ready to use\n",
        "- If you want to use Ultralytics, you have to format to YOLO dataset format (use Fiftyone!)\n"
      ]
    },
    {
      "cell_type": "markdown",
      "metadata": {
        "id": "ByvSDpMOxwjy"
      },
      "source": [
        "## GPU Status Check"
      ]
    },
    {
      "cell_type": "code",
      "execution_count": 1,
      "metadata": {
        "id": "Bxk4HiuDxw3X"
      },
      "outputs": [
        {
          "name": "stdout",
          "output_type": "stream",
          "text": [
            "Sat Mar 30 01:15:13 2024       \n",
            "+---------------------------------------------------------------------------------------+\n",
            "| NVIDIA-SMI 545.23.08              Driver Version: 545.23.08    CUDA Version: 12.3     |\n",
            "|-----------------------------------------+----------------------+----------------------+\n",
            "| GPU  Name                 Persistence-M | Bus-Id        Disp.A | Volatile Uncorr. ECC |\n",
            "| Fan  Temp   Perf          Pwr:Usage/Cap |         Memory-Usage | GPU-Util  Compute M. |\n",
            "|                                         |                      |               MIG M. |\n",
            "|=========================================+======================+======================|\n",
            "|   0  NVIDIA GeForce RTX 4080        On  | 00000000:01:00.0  On |                  N/A |\n",
            "|  0%   46C    P8              26W / 340W |    511MiB / 16376MiB |     26%      Default |\n",
            "|                                         |                      |                  N/A |\n",
            "+-----------------------------------------+----------------------+----------------------+\n",
            "                                                                                         \n",
            "+---------------------------------------------------------------------------------------+\n",
            "| Processes:                                                                            |\n",
            "|  GPU   GI   CI        PID   Type   Process name                            GPU Memory |\n",
            "|        ID   ID                                                             Usage      |\n",
            "|=======================================================================================|\n",
            "|    0   N/A  N/A      1269      G   /usr/lib/xorg/Xorg                          170MiB |\n",
            "|    0   N/A  N/A      1509      G   /usr/bin/gnome-shell                         37MiB |\n",
            "|    0   N/A  N/A     11863      G   ...seed-version=20240328-050102.798000       73MiB |\n",
            "|    0   N/A  N/A     14915      G   ...yOnDemand --variations-seed-version       50MiB |\n",
            "|    0   N/A  N/A     26039      G   ...sion,SpareRendererForSitePerProcess      163MiB |\n",
            "+---------------------------------------------------------------------------------------+\n"
          ]
        }
      ],
      "source": [
        "!nvidia-smi"
      ]
    },
    {
      "cell_type": "markdown",
      "metadata": {
        "id": "yp12w8JUxzmm"
      },
      "source": [
        "## Download and inspect parasite dataset"
      ]
    },
    {
      "cell_type": "code",
      "execution_count": 2,
      "metadata": {
        "colab": {
          "base_uri": "https://localhost:8080/"
        },
        "id": "G2e5Wv2LxyH5",
        "outputId": "40c14eb1-8a85-4527-a943-f518c3123ea7"
      },
      "outputs": [],
      "source": [
        "# !pip install --upgrade gdown\n",
        "# !gdown https://drive.google.com/uc?id=1RVluBzZvJ8mWwA5AuB2PklbaoK60uPMF\n",
        "# !gdown https://drive.google.com/uc?id=1kvBxmC1o0vE2ef2CJqhLaj9V4TD72oW3\n",
        "# !unzip parasite_train.zip\n",
        "# !unzip parasite_test.zip"
      ]
    },
    {
      "cell_type": "markdown",
      "metadata": {
        "id": "S_FOCV1fxqhD"
      },
      "source": [
        "## Your model description goes here: ###\n",
        "WRITE HERE"
      ]
    },
    {
      "cell_type": "markdown",
      "metadata": {
        "id": "QEh232Sr2TwM"
      },
      "source": [
        "### Dataset Exploration\n",
        "We will use pycocotools to explore this dataset."
      ]
    },
    {
      "cell_type": "code",
      "execution_count": 3,
      "metadata": {
        "id": "nTaQtHqO2WHS"
      },
      "outputs": [],
      "source": [
        "from pycocotools.coco import COCO\n",
        "import numpy as np\n",
        "import cv2\n",
        "import matplotlib.pyplot as plt"
      ]
    },
    {
      "cell_type": "code",
      "execution_count": 4,
      "metadata": {
        "colab": {
          "base_uri": "https://localhost:8080/"
        },
        "id": "qZi0oVt12X4L",
        "outputId": "2b6f4bda-2d30-4c61-87e6-736072408d8d"
      },
      "outputs": [
        {
          "name": "stdout",
          "output_type": "stream",
          "text": [
            "loading annotations into memory...\n",
            "Done (t=0.00s)\n",
            "creating index...\n",
            "index created!\n"
          ]
        }
      ],
      "source": [
        "trainLabelFile='./parasite_train/labels.json'\n",
        "# initialize COCO api for instance annotations\n",
        "trainCOCOBinding = COCO(trainLabelFile)"
      ]
    },
    {
      "cell_type": "code",
      "execution_count": 5,
      "metadata": {
        "colab": {
          "base_uri": "https://localhost:8080/",
          "height": 527
        },
        "id": "TvbPIRCA2dTN",
        "outputId": "7f13b180-f11f-434a-a220-7873d0524336"
      },
      "outputs": [
        {
          "name": "stdout",
          "output_type": "stream",
          "text": [
            "COCO categories: \n",
            "Capillaria philippinensis, Enterobius vermicularis, Hymenolepis diminuta, Hymenolepis nana, Paragonimus spp\n",
            "\n",
            "['Capillaria philippinensis', 'Enterobius vermicularis', 'Hymenolepis diminuta', 'Hymenolepis nana', 'Paragonimus spp']\n",
            "[601, 602, 603, 604, 605, 606, 607, 608, 609, 610, 611, 612, 613, 614, 615, 616, 617, 618, 619, 620, 621, 622, 623, 624, 625, 626, 627, 628, 629, 630, 631, 632, 633, 634, 635, 636, 637, 638, 639, 640, 641, 642, 643, 644, 645, 646, 647, 648, 649, 650, 651, 652, 653, 654, 655, 656, 657, 658, 659, 660, 661, 662, 663, 664, 665, 666, 667, 668, 669, 670, 671, 672, 673, 674, 675, 676, 677, 678, 679, 680, 681, 682, 683, 684, 685, 686, 687, 688, 689, 690, 691, 692, 693, 694, 695, 696, 697, 698, 699, 700, 701, 702, 703, 704, 705, 706, 707, 708, 709, 710, 711, 712, 713, 714, 715, 716, 717, 718, 719, 720, 721, 722, 723, 724, 725, 726, 727, 728, 729, 730, 731, 732, 733, 734, 735, 736, 737, 738, 739, 740, 741, 742, 743, 744, 745, 746, 747, 748, 749, 750, 751, 752, 753, 754, 755, 756, 757, 758, 759, 760, 761, 762, 763, 764, 765, 766, 767, 768, 769, 770, 771, 772, 773, 774, 775, 776, 777, 778, 779, 780, 781, 782, 783, 784, 785, 786, 787, 788, 789, 790, 791, 792, 793, 794, 795, 796, 797, 798, 799, 800]\n",
            "Image Data >> {'id': 91, 'file_name': 'Hymenolepis nana_0451.jpg', 'height': 4032, 'width': 3024, 'license': None, 'coco_url': None}\n",
            "Box Data [{'id': 91, 'image_id': 91, 'category_id': 3, 'bbox': [1330.0, 1966.0, 178.0, 220.0], 'area': 39160.0, 'iscrowd': 0}]\n"
          ]
        },
        {
          "data": {
            "image/png": "[encoded data removed]",
            "text/plain": [
              "<Figure size 640x480 with 1 Axes>"
            ]
          },
          "metadata": {},
          "output_type": "display_data"
        }
      ],
      "source": [
        "#display COCO categories and supercategories\n",
        "cats = trainCOCOBinding.loadCats(trainCOCOBinding.getCatIds())\n",
        "nms=[cat['name'] for cat in cats]\n",
        "print('COCO categories: \\n{}\\n'.format(', '.join(nms)))\n",
        "print(nms)\n",
        "\n",
        "# get all images containing given categories, select one at random\n",
        "catIds = trainCOCOBinding.getCatIds(catNms=['Hymenolepis diminuta',]);\n",
        "imgIds = trainCOCOBinding.getImgIds(catIds=catIds );\n",
        "print([id for id in imgIds])\n",
        "\n",
        "randomImgId = np.random.randint(0,len(imgIds))\n",
        "sampleImageData = trainCOCOBinding.loadImgs(randomImgId)[0]\n",
        "\n",
        "print('Image Data >>', sampleImageData)\n",
        "\n",
        "sampleImage = cv2.imread('parasite_train/data/'+sampleImageData['file_name'])\n",
        "\n",
        "annIds = trainCOCOBinding.getAnnIds(imgIds=randomImgId, iscrowd=None)\n",
        "boxes = trainCOCOBinding.loadAnns(annIds)\n",
        "print('Box Data', boxes)\n",
        "\n",
        "for box in boxes:\n",
        "  x,y,w,h = box['bbox']\n",
        "  cv2.rectangle(sampleImage, (int(x), int(y)), (int(x+w), int(y+h)), (0,255,0), 5)\n",
        "\n",
        "sampleImage = cv2.cvtColor(sampleImage, cv2.COLOR_BGR2RGB)\n",
        "\n",
        "plt.imshow(sampleImage)\n",
        "plt.show()"
      ]
    },
    {
      "cell_type": "markdown",
      "metadata": {
        "id": "-u2iS_Ws3ekp"
      },
      "source": [
        "### Training"
      ]
    },
    {
      "cell_type": "code",
      "execution_count": 1,
      "metadata": {
        "id": "HqqYBTEd3bLg"
      },
      "outputs": [
        {
          "name": "stdout",
          "output_type": "stream",
          "text": [
            "Transferred 595/595 items from pretrained weights\n"
          ]
        }
      ],
      "source": [
        "from ultralytics import YOLO\n",
        "import torch\n",
        "\n",
        "torch.cuda.empty_cache()\n",
        "\n",
        "yolo_model = YOLO('yolov8l.yaml').load('yolov8l.pt')\n",
        "yolo_model = yolo_model.cuda()\n",
        "config = {\n",
        "    'data' : 'dataset.yaml',\n",
        "    'epochs' : 50,\n",
        "    'batch' : 16,\n",
        "    'device' : 0,\n",
        "    'workers' : 20,\n",
        "    'verbose' : True,\n",
        "    'max_det' : 1,\n",
        "    'imgsz' : 800\n",
        "}"
      ]
    },
    {
      "cell_type": "code",
      "execution_count": 2,
      "metadata": {},
      "outputs": [
        {
          "name": "stdout",
          "output_type": "stream",
          "text": [
            "Ultralytics YOLOv8.1.37 🚀 Python-3.11.8 torch-2.1.0+cu121 CUDA:0 (NVIDIA GeForce RTX 4080, 16071MiB)\n",
            "\u001b[34m\u001b[1mengine/trainer: \u001b[0mtask=detect, mode=train, model=yolov8l.yaml, data=dataset.yaml, epochs=50, time=None, patience=100, batch=16, imgsz=800, save=True, save_period=-1, cache=False, device=0, workers=20, project=None, name=train8, exist_ok=False, pretrained=True, optimizer=auto, verbose=True, seed=0, deterministic=True, single_cls=False, rect=False, cos_lr=False, close_mosaic=10, resume=False, amp=True, fraction=1.0, profile=False, freeze=None, multi_scale=False, overlap_mask=True, mask_ratio=4, dropout=0.0, val=True, split=val, save_json=False, save_hybrid=False, conf=None, iou=0.7, max_det=1, half=False, dnn=False, plots=True, source=None, vid_stride=1, stream_buffer=False, visualize=False, augment=False, agnostic_nms=False, classes=None, retina_masks=False, embed=None, show=False, save_frames=False, save_txt=False, save_conf=False, save_crop=False, show_labels=True, show_conf=True, show_boxes=True, line_width=None, format=torchscript, keras=False, optimize=False, int8=False, dynamic=False, simplify=False, opset=None, workspace=4, nms=False, lr0=0.01, lrf=0.01, momentum=0.937, weight_decay=0.0005, warmup_epochs=3.0, warmup_momentum=0.8, warmup_bias_lr=0.1, box=7.5, cls=0.5, dfl=1.5, pose=12.0, kobj=1.0, label_smoothing=0.0, nbs=64, hsv_h=0.015, hsv_s=0.7, hsv_v=0.4, degrees=0.0, translate=0.1, scale=0.5, shear=0.0, perspective=0.0, flipud=0.0, fliplr=0.5, bgr=0.0, mosaic=1.0, mixup=0.0, copy_paste=0.0, auto_augment=randaugment, erasing=0.4, crop_fraction=1.0, cfg=None, tracker=botsort.yaml, save_dir=runs/detect/train8\n",
            "Overriding model.yaml nc=80 with nc=5\n",
            "\n",
            "                   from  n    params  module                                       arguments                     \n",
            "  0                  -1  1      1856  ultralytics.nn.modules.conv.Conv             [3, 64, 3, 2]                 \n",
            "  1                  -1  1     73984  ultralytics.nn.modules.conv.Conv             [64, 128, 3, 2]               \n",
            "  2                  -1  3    279808  ultralytics.nn.modules.block.C2f             [128, 128, 3, True]           \n",
            "  3                  -1  1    295424  ultralytics.nn.modules.conv.Conv             [128, 256, 3, 2]              \n",
            "  4                  -1  6   2101248  ultralytics.nn.modules.block.C2f             [256, 256, 6, True]           \n",
            "  5                  -1  1   1180672  ultralytics.nn.modules.conv.Conv             [256, 512, 3, 2]              \n",
            "  6                  -1  6   8396800  ultralytics.nn.modules.block.C2f             [512, 512, 6, True]           \n",
            "  7                  -1  1   2360320  ultralytics.nn.modules.conv.Conv             [512, 512, 3, 2]              \n",
            "  8                  -1  3   4461568  ultralytics.nn.modules.block.C2f             [512, 512, 3, True]           \n",
            "  9                  -1  1    656896  ultralytics.nn.modules.block.SPPF            [512, 512, 5]                 \n",
            " 10                  -1  1         0  torch.nn.modules.upsampling.Upsample         [None, 2, 'nearest']          \n",
            " 11             [-1, 6]  1         0  ultralytics.nn.modules.conv.Concat           [1]                           \n",
            " 12                  -1  3   4723712  ultralytics.nn.modules.block.C2f             [1024, 512, 3]                \n",
            " 13                  -1  1         0  torch.nn.modules.upsampling.Upsample         [None, 2, 'nearest']          \n",
            " 14             [-1, 4]  1         0  ultralytics.nn.modules.conv.Concat           [1]                           \n",
            " 15                  -1  3   1247744  ultralytics.nn.modules.block.C2f             [768, 256, 3]                 \n",
            " 16                  -1  1    590336  ultralytics.nn.modules.conv.Conv             [256, 256, 3, 2]              \n",
            " 17            [-1, 12]  1         0  ultralytics.nn.modules.conv.Concat           [1]                           \n",
            " 18                  -1  3   4592640  ultralytics.nn.modules.block.C2f             [768, 512, 3]                 \n",
            " 19                  -1  1   2360320  ultralytics.nn.modules.conv.Conv             [512, 512, 3, 2]              \n",
            " 20             [-1, 9]  1         0  ultralytics.nn.modules.conv.Concat           [1]                           \n",
            " 21                  -1  3   4723712  ultralytics.nn.modules.block.C2f             [1024, 512, 3]                \n",
            " 22        [15, 18, 21]  1   5586655  ultralytics.nn.modules.head.Detect           [5, [256, 512, 512]]          \n",
            "YOLOv8l summary: 365 layers, 43633695 parameters, 43633679 gradients, 165.4 GFLOPs\n",
            "\n",
            "Transferred 589/595 items from pretrained weights\n",
            "\u001b[34m\u001b[1mTensorBoard: \u001b[0mStart with 'tensorboard --logdir runs/detect/train8', view at http://localhost:6006/\n",
            "Freezing layer 'model.22.dfl.conv.weight'\n",
            "\u001b[34m\u001b[1mAMP: \u001b[0mrunning Automatic Mixed Precision (AMP) checks with YOLOv8n...\n",
            "\u001b[34m\u001b[1mAMP: \u001b[0mchecks passed ✅\n"
          ]
        },
        {
          "name": "stderr",
          "output_type": "stream",
          "text": [
            "\u001b[34m\u001b[1mtrain: \u001b[0mScanning /home/andre/Desktop/CU_submission/chulacv2023/Lab9/student/train/labels/val.cache... 1000 images, 0 backgrounds, 0 corrupt: 100%|██████████| 1000/1000 [00:00<?, ?it/s]\n",
            "\u001b[34m\u001b[1mval: \u001b[0mScanning /home/andre/Desktop/CU_submission/chulacv2023/Lab9/student/train/labels/val.cache... 1000 images, 0 backgrounds, 0 corrupt: 100%|██████████| 1000/1000 [00:00<?, ?it/s]\n"
          ]
        },
        {
          "name": "stdout",
          "output_type": "stream",
          "text": [
            "Plotting labels to runs/detect/train8/labels.jpg... \n",
            "\u001b[34m\u001b[1moptimizer:\u001b[0m 'optimizer=auto' found, ignoring 'lr0=0.01' and 'momentum=0.937' and determining best 'optimizer', 'lr0' and 'momentum' automatically... \n",
            "\u001b[34m\u001b[1moptimizer:\u001b[0m AdamW(lr=0.001111, momentum=0.9) with parameter groups 97 weight(decay=0.0), 104 weight(decay=0.0005), 103 bias(decay=0.0)\n",
            "\u001b[34m\u001b[1mTensorBoard: \u001b[0mmodel graph visualization added ✅\n",
            "Image sizes 800 train, 800 val\n",
            "Using 20 dataloader workers\n",
            "Logging results to \u001b[1mruns/detect/train8\u001b[0m\n",
            "Starting training for 50 epochs...\n",
            "\n",
            "      Epoch    GPU_mem   box_loss   cls_loss   dfl_loss  Instances       Size\n"
          ]
        },
        {
          "name": "stderr",
          "output_type": "stream",
          "text": [
            "       1/50      15.3G     0.5276      2.297      0.893         16        800: 100%|██████████| 63/63 [00:24<00:00,  2.54it/s]\n",
            "                 Class     Images  Instances      Box(P          R      mAP50  mAP50-95): 100%|██████████| 32/32 [00:06<00:00,  4.98it/s]"
          ]
        },
        {
          "name": "stdout",
          "output_type": "stream",
          "text": [
            "                   all       1000       1000      0.664       0.14      0.363      0.312\n"
          ]
        },
        {
          "name": "stderr",
          "output_type": "stream",
          "text": [
            "\n"
          ]
        },
        {
          "name": "stdout",
          "output_type": "stream",
          "text": [
            "\n",
            "      Epoch    GPU_mem   box_loss   cls_loss   dfl_loss  Instances       Size\n"
          ]
        },
        {
          "name": "stderr",
          "output_type": "stream",
          "text": [
            "       2/50      15.9G     0.6045      1.088     0.9587         13        800: 100%|██████████| 63/63 [00:22<00:00,  2.75it/s]\n",
            "                 Class     Images  Instances      Box(P          R      mAP50  mAP50-95): 100%|██████████| 32/32 [00:07<00:00,  4.11it/s]"
          ]
        },
        {
          "name": "stdout",
          "output_type": "stream",
          "text": [
            "                   all       1000       1000     0.0975      0.024      0.048     0.0413\n"
          ]
        },
        {
          "name": "stderr",
          "output_type": "stream",
          "text": [
            "\n"
          ]
        },
        {
          "name": "stdout",
          "output_type": "stream",
          "text": [
            "\n",
            "      Epoch    GPU_mem   box_loss   cls_loss   dfl_loss  Instances       Size\n"
          ]
        },
        {
          "name": "stderr",
          "output_type": "stream",
          "text": [
            "       3/50      15.9G     0.6402      1.013     0.9977         19        800: 100%|██████████| 63/63 [00:20<00:00,  3.00it/s]\n",
            "                 Class     Images  Instances      Box(P          R      mAP50  mAP50-95): 100%|██████████| 32/32 [00:06<00:00,  4.95it/s]"
          ]
        },
        {
          "name": "stdout",
          "output_type": "stream",
          "text": [
            "                   all       1000       1000      0.603      0.343      0.429      0.347\n"
          ]
        },
        {
          "name": "stderr",
          "output_type": "stream",
          "text": [
            "\n"
          ]
        },
        {
          "name": "stdout",
          "output_type": "stream",
          "text": [
            "\n",
            "      Epoch    GPU_mem   box_loss   cls_loss   dfl_loss  Instances       Size\n"
          ]
        },
        {
          "name": "stderr",
          "output_type": "stream",
          "text": [
            "       4/50      15.9G     0.6452     0.8602          1         11        800: 100%|██████████| 63/63 [00:23<00:00,  2.70it/s]\n",
            "                 Class     Images  Instances      Box(P          R      mAP50  mAP50-95): 100%|██████████| 32/32 [00:07<00:00,  4.43it/s]"
          ]
        },
        {
          "name": "stdout",
          "output_type": "stream",
          "text": [
            "                   all       1000       1000      0.882      0.632      0.773      0.673\n"
          ]
        },
        {
          "name": "stderr",
          "output_type": "stream",
          "text": [
            "\n"
          ]
        },
        {
          "name": "stdout",
          "output_type": "stream",
          "text": [
            "\n",
            "      Epoch    GPU_mem   box_loss   cls_loss   dfl_loss  Instances       Size\n"
          ]
        },
        {
          "name": "stderr",
          "output_type": "stream",
          "text": [
            "       5/50      15.8G     0.6298      0.796      1.006         13        800: 100%|██████████| 63/63 [00:22<00:00,  2.76it/s]\n",
            "                 Class     Images  Instances      Box(P          R      mAP50  mAP50-95): 100%|██████████| 32/32 [00:06<00:00,  4.89it/s]"
          ]
        },
        {
          "name": "stdout",
          "output_type": "stream",
          "text": [
            "                   all       1000       1000      0.822      0.713      0.801      0.696\n"
          ]
        },
        {
          "name": "stderr",
          "output_type": "stream",
          "text": [
            "\n"
          ]
        },
        {
          "name": "stdout",
          "output_type": "stream",
          "text": [
            "\n",
            "      Epoch    GPU_mem   box_loss   cls_loss   dfl_loss  Instances       Size\n"
          ]
        },
        {
          "name": "stderr",
          "output_type": "stream",
          "text": [
            "       6/50      15.9G     0.6279     0.7038     0.9998         15        800: 100%|██████████| 63/63 [00:23<00:00,  2.68it/s]\n",
            "                 Class     Images  Instances      Box(P          R      mAP50  mAP50-95): 100%|██████████| 32/32 [00:06<00:00,  4.67it/s]"
          ]
        },
        {
          "name": "stdout",
          "output_type": "stream",
          "text": [
            "                   all       1000       1000      0.834      0.691      0.797       0.72\n"
          ]
        },
        {
          "name": "stderr",
          "output_type": "stream",
          "text": [
            "\n"
          ]
        },
        {
          "name": "stdout",
          "output_type": "stream",
          "text": [
            "\n",
            "      Epoch    GPU_mem   box_loss   cls_loss   dfl_loss  Instances       Size\n"
          ]
        },
        {
          "name": "stderr",
          "output_type": "stream",
          "text": [
            "       7/50      15.8G     0.5406     0.5986     0.9438          8        800: 100%|██████████| 63/63 [00:23<00:00,  2.65it/s]\n",
            "                 Class     Images  Instances      Box(P          R      mAP50  mAP50-95): 100%|██████████| 32/32 [00:06<00:00,  4.68it/s]"
          ]
        },
        {
          "name": "stdout",
          "output_type": "stream",
          "text": [
            "                   all       1000       1000       0.85      0.813      0.881      0.803\n"
          ]
        },
        {
          "name": "stderr",
          "output_type": "stream",
          "text": [
            "\n"
          ]
        },
        {
          "name": "stdout",
          "output_type": "stream",
          "text": [
            "\n",
            "      Epoch    GPU_mem   box_loss   cls_loss   dfl_loss  Instances       Size\n"
          ]
        },
        {
          "name": "stderr",
          "output_type": "stream",
          "text": [
            "       8/50      15.4G     0.5458     0.5636      0.941         12        800: 100%|██████████| 63/63 [00:23<00:00,  2.65it/s]\n",
            "                 Class     Images  Instances      Box(P          R      mAP50  mAP50-95): 100%|██████████| 32/32 [00:07<00:00,  4.56it/s]"
          ]
        },
        {
          "name": "stdout",
          "output_type": "stream",
          "text": [
            "                   all       1000       1000      0.934      0.868       0.93      0.859\n"
          ]
        },
        {
          "name": "stderr",
          "output_type": "stream",
          "text": [
            "\n"
          ]
        },
        {
          "name": "stdout",
          "output_type": "stream",
          "text": [
            "\n",
            "      Epoch    GPU_mem   box_loss   cls_loss   dfl_loss  Instances       Size\n"
          ]
        },
        {
          "name": "stderr",
          "output_type": "stream",
          "text": [
            "       9/50      15.9G     0.5394     0.5646      0.946         13        800: 100%|██████████| 63/63 [00:23<00:00,  2.65it/s]\n",
            "                 Class     Images  Instances      Box(P          R      mAP50  mAP50-95): 100%|██████████| 32/32 [00:06<00:00,  4.61it/s]"
          ]
        },
        {
          "name": "stdout",
          "output_type": "stream",
          "text": [
            "                   all       1000       1000      0.898      0.886      0.915      0.829\n"
          ]
        },
        {
          "name": "stderr",
          "output_type": "stream",
          "text": [
            "\n"
          ]
        },
        {
          "name": "stdout",
          "output_type": "stream",
          "text": [
            "\n",
            "      Epoch    GPU_mem   box_loss   cls_loss   dfl_loss  Instances       Size\n"
          ]
        },
        {
          "name": "stderr",
          "output_type": "stream",
          "text": [
            "      10/50      15.3G     0.5213     0.5085      0.933         15        800: 100%|██████████| 63/63 [00:23<00:00,  2.65it/s]\n",
            "                 Class     Images  Instances      Box(P          R      mAP50  mAP50-95): 100%|██████████| 32/32 [00:07<00:00,  4.50it/s]"
          ]
        },
        {
          "name": "stdout",
          "output_type": "stream",
          "text": [
            "                   all       1000       1000      0.961      0.955      0.972        0.9\n"
          ]
        },
        {
          "name": "stderr",
          "output_type": "stream",
          "text": [
            "\n"
          ]
        },
        {
          "name": "stdout",
          "output_type": "stream",
          "text": [
            "\n",
            "      Epoch    GPU_mem   box_loss   cls_loss   dfl_loss  Instances       Size\n"
          ]
        },
        {
          "name": "stderr",
          "output_type": "stream",
          "text": [
            "      11/50      15.3G     0.5092     0.4839     0.9256         18        800: 100%|██████████| 63/63 [00:23<00:00,  2.69it/s]\n",
            "                 Class     Images  Instances      Box(P          R      mAP50  mAP50-95): 100%|██████████| 32/32 [00:07<00:00,  4.49it/s]"
          ]
        },
        {
          "name": "stdout",
          "output_type": "stream",
          "text": [
            "                   all       1000       1000      0.942      0.927      0.957      0.896\n"
          ]
        },
        {
          "name": "stderr",
          "output_type": "stream",
          "text": [
            "\n"
          ]
        },
        {
          "name": "stdout",
          "output_type": "stream",
          "text": [
            "\n",
            "      Epoch    GPU_mem   box_loss   cls_loss   dfl_loss  Instances       Size\n"
          ]
        },
        {
          "name": "stderr",
          "output_type": "stream",
          "text": [
            "      12/50      15.3G      0.511     0.4795     0.9318         15        800: 100%|██████████| 63/63 [00:23<00:00,  2.68it/s]\n",
            "                 Class     Images  Instances      Box(P          R      mAP50  mAP50-95): 100%|██████████| 32/32 [00:06<00:00,  4.59it/s]"
          ]
        },
        {
          "name": "stdout",
          "output_type": "stream",
          "text": [
            "                   all       1000       1000       0.89      0.851      0.902      0.851\n"
          ]
        },
        {
          "name": "stderr",
          "output_type": "stream",
          "text": [
            "\n"
          ]
        },
        {
          "name": "stdout",
          "output_type": "stream",
          "text": [
            "\n",
            "      Epoch    GPU_mem   box_loss   cls_loss   dfl_loss  Instances       Size\n"
          ]
        },
        {
          "name": "stderr",
          "output_type": "stream",
          "text": [
            "      13/50      15.7G     0.4824     0.4708     0.9164         22        800: 100%|██████████| 63/63 [00:23<00:00,  2.67it/s]\n",
            "                 Class     Images  Instances      Box(P          R      mAP50  mAP50-95): 100%|██████████| 32/32 [00:07<00:00,  4.46it/s]"
          ]
        },
        {
          "name": "stdout",
          "output_type": "stream",
          "text": [
            "                   all       1000       1000      0.981      0.979      0.985      0.929\n"
          ]
        },
        {
          "name": "stderr",
          "output_type": "stream",
          "text": [
            "\n"
          ]
        },
        {
          "name": "stdout",
          "output_type": "stream",
          "text": [
            "\n",
            "      Epoch    GPU_mem   box_loss   cls_loss   dfl_loss  Instances       Size\n"
          ]
        },
        {
          "name": "stderr",
          "output_type": "stream",
          "text": [
            "      14/50      15.9G     0.4901     0.4261     0.9166         15        800: 100%|██████████| 63/63 [00:23<00:00,  2.65it/s]\n",
            "                 Class     Images  Instances      Box(P          R      mAP50  mAP50-95): 100%|██████████| 32/32 [00:07<00:00,  4.52it/s]"
          ]
        },
        {
          "name": "stdout",
          "output_type": "stream",
          "text": [
            "                   all       1000       1000       0.91       0.88      0.929       0.87\n"
          ]
        },
        {
          "name": "stderr",
          "output_type": "stream",
          "text": [
            "\n"
          ]
        },
        {
          "name": "stdout",
          "output_type": "stream",
          "text": [
            "\n",
            "      Epoch    GPU_mem   box_loss   cls_loss   dfl_loss  Instances       Size\n"
          ]
        },
        {
          "name": "stderr",
          "output_type": "stream",
          "text": [
            "      15/50      15.3G     0.4586     0.4169     0.9035         12        800: 100%|██████████| 63/63 [00:24<00:00,  2.62it/s]\n",
            "                 Class     Images  Instances      Box(P          R      mAP50  mAP50-95): 100%|██████████| 32/32 [00:07<00:00,  4.52it/s]"
          ]
        },
        {
          "name": "stdout",
          "output_type": "stream",
          "text": [
            "                   all       1000       1000      0.948       0.94      0.964      0.916\n"
          ]
        },
        {
          "name": "stderr",
          "output_type": "stream",
          "text": [
            "\n"
          ]
        },
        {
          "name": "stdout",
          "output_type": "stream",
          "text": [
            "\n",
            "      Epoch    GPU_mem   box_loss   cls_loss   dfl_loss  Instances       Size\n"
          ]
        },
        {
          "name": "stderr",
          "output_type": "stream",
          "text": [
            "      16/50      15.4G     0.4521     0.4078     0.8898         10        800: 100%|██████████| 63/63 [00:23<00:00,  2.66it/s]\n",
            "                 Class     Images  Instances      Box(P          R      mAP50  mAP50-95): 100%|██████████| 32/32 [00:07<00:00,  4.53it/s]"
          ]
        },
        {
          "name": "stdout",
          "output_type": "stream",
          "text": [
            "                   all       1000       1000      0.921      0.902      0.934      0.881\n"
          ]
        },
        {
          "name": "stderr",
          "output_type": "stream",
          "text": [
            "\n"
          ]
        },
        {
          "name": "stdout",
          "output_type": "stream",
          "text": [
            "\n",
            "      Epoch    GPU_mem   box_loss   cls_loss   dfl_loss  Instances       Size\n"
          ]
        },
        {
          "name": "stderr",
          "output_type": "stream",
          "text": [
            "      17/50      15.9G     0.4497     0.4072     0.8978         14        800: 100%|██████████| 63/63 [00:23<00:00,  2.66it/s]\n",
            "                 Class     Images  Instances      Box(P          R      mAP50  mAP50-95): 100%|██████████| 32/32 [00:06<00:00,  4.61it/s]"
          ]
        },
        {
          "name": "stdout",
          "output_type": "stream",
          "text": [
            "                   all       1000       1000      0.948      0.943      0.964      0.925\n"
          ]
        },
        {
          "name": "stderr",
          "output_type": "stream",
          "text": [
            "\n"
          ]
        },
        {
          "name": "stdout",
          "output_type": "stream",
          "text": [
            "\n",
            "      Epoch    GPU_mem   box_loss   cls_loss   dfl_loss  Instances       Size\n"
          ]
        },
        {
          "name": "stderr",
          "output_type": "stream",
          "text": [
            "      18/50      15.9G     0.4431     0.3988     0.8926         11        800: 100%|██████████| 63/63 [00:23<00:00,  2.70it/s]\n",
            "                 Class     Images  Instances      Box(P          R      mAP50  mAP50-95): 100%|██████████| 32/32 [00:06<00:00,  4.60it/s]"
          ]
        },
        {
          "name": "stdout",
          "output_type": "stream",
          "text": [
            "                   all       1000       1000      0.896      0.869      0.919      0.884\n"
          ]
        },
        {
          "name": "stderr",
          "output_type": "stream",
          "text": [
            "\n"
          ]
        },
        {
          "name": "stdout",
          "output_type": "stream",
          "text": [
            "\n",
            "      Epoch    GPU_mem   box_loss   cls_loss   dfl_loss  Instances       Size\n"
          ]
        },
        {
          "name": "stderr",
          "output_type": "stream",
          "text": [
            "      19/50      15.7G     0.4271     0.3857      0.882         16        800: 100%|██████████| 63/63 [00:23<00:00,  2.68it/s]\n",
            "                 Class     Images  Instances      Box(P          R      mAP50  mAP50-95): 100%|██████████| 32/32 [00:06<00:00,  4.59it/s]"
          ]
        },
        {
          "name": "stdout",
          "output_type": "stream",
          "text": [
            "                   all       1000       1000      0.991       0.99      0.992      0.957\n"
          ]
        },
        {
          "name": "stderr",
          "output_type": "stream",
          "text": [
            "\n"
          ]
        },
        {
          "name": "stdout",
          "output_type": "stream",
          "text": [
            "\n",
            "      Epoch    GPU_mem   box_loss   cls_loss   dfl_loss  Instances       Size\n"
          ]
        },
        {
          "name": "stderr",
          "output_type": "stream",
          "text": [
            "      20/50      15.3G     0.4188     0.3463     0.8861         13        800: 100%|██████████| 63/63 [00:23<00:00,  2.68it/s]\n",
            "                 Class     Images  Instances      Box(P          R      mAP50  mAP50-95): 100%|██████████| 32/32 [00:07<00:00,  4.46it/s]"
          ]
        },
        {
          "name": "stdout",
          "output_type": "stream",
          "text": [
            "                   all       1000       1000      0.981      0.981      0.988      0.951\n"
          ]
        },
        {
          "name": "stderr",
          "output_type": "stream",
          "text": [
            "\n"
          ]
        },
        {
          "name": "stdout",
          "output_type": "stream",
          "text": [
            "\n",
            "      Epoch    GPU_mem   box_loss   cls_loss   dfl_loss  Instances       Size\n"
          ]
        },
        {
          "name": "stderr",
          "output_type": "stream",
          "text": [
            "      21/50      15.9G     0.4232     0.3643     0.8848         10        800: 100%|██████████| 63/63 [00:23<00:00,  2.70it/s]\n",
            "                 Class     Images  Instances      Box(P          R      mAP50  mAP50-95): 100%|██████████| 32/32 [00:06<00:00,  4.68it/s]"
          ]
        },
        {
          "name": "stdout",
          "output_type": "stream",
          "text": [
            "                   all       1000       1000      0.986      0.986      0.989      0.951\n"
          ]
        },
        {
          "name": "stderr",
          "output_type": "stream",
          "text": [
            "\n"
          ]
        },
        {
          "name": "stdout",
          "output_type": "stream",
          "text": [
            "\n",
            "      Epoch    GPU_mem   box_loss   cls_loss   dfl_loss  Instances       Size\n"
          ]
        },
        {
          "name": "stderr",
          "output_type": "stream",
          "text": [
            "      22/50      15.9G     0.4099     0.3536     0.8808         22        800: 100%|██████████| 63/63 [00:23<00:00,  2.69it/s]\n",
            "                 Class     Images  Instances      Box(P          R      mAP50  mAP50-95): 100%|██████████| 32/32 [00:07<00:00,  4.54it/s]"
          ]
        },
        {
          "name": "stdout",
          "output_type": "stream",
          "text": [
            "                   all       1000       1000      0.987      0.986      0.988      0.952\n"
          ]
        },
        {
          "name": "stderr",
          "output_type": "stream",
          "text": [
            "\n"
          ]
        },
        {
          "name": "stdout",
          "output_type": "stream",
          "text": [
            "\n",
            "      Epoch    GPU_mem   box_loss   cls_loss   dfl_loss  Instances       Size\n"
          ]
        },
        {
          "name": "stderr",
          "output_type": "stream",
          "text": [
            "      23/50      15.9G     0.4031     0.3376     0.8782         16        800: 100%|██████████| 63/63 [00:23<00:00,  2.69it/s]\n",
            "                 Class     Images  Instances      Box(P          R      mAP50  mAP50-95): 100%|██████████| 32/32 [00:07<00:00,  4.57it/s]"
          ]
        },
        {
          "name": "stdout",
          "output_type": "stream",
          "text": [
            "                   all       1000       1000      0.988      0.988       0.99      0.951\n"
          ]
        },
        {
          "name": "stderr",
          "output_type": "stream",
          "text": [
            "\n"
          ]
        },
        {
          "name": "stdout",
          "output_type": "stream",
          "text": [
            "\n",
            "      Epoch    GPU_mem   box_loss   cls_loss   dfl_loss  Instances       Size\n"
          ]
        },
        {
          "name": "stderr",
          "output_type": "stream",
          "text": [
            "      24/50      15.9G     0.4025      0.336     0.8695         13        800: 100%|██████████| 63/63 [00:23<00:00,  2.72it/s]\n",
            "                 Class     Images  Instances      Box(P          R      mAP50  mAP50-95): 100%|██████████| 32/32 [00:07<00:00,  4.53it/s]"
          ]
        },
        {
          "name": "stdout",
          "output_type": "stream",
          "text": [
            "                   all       1000       1000      0.985      0.984      0.989      0.954\n"
          ]
        },
        {
          "name": "stderr",
          "output_type": "stream",
          "text": [
            "\n"
          ]
        },
        {
          "name": "stdout",
          "output_type": "stream",
          "text": [
            "\n",
            "      Epoch    GPU_mem   box_loss   cls_loss   dfl_loss  Instances       Size\n"
          ]
        },
        {
          "name": "stderr",
          "output_type": "stream",
          "text": [
            "      25/50      15.7G     0.3931     0.3201     0.8639         10        800: 100%|██████████| 63/63 [00:23<00:00,  2.67it/s]\n",
            "                 Class     Images  Instances      Box(P          R      mAP50  mAP50-95): 100%|██████████| 32/32 [00:07<00:00,  4.54it/s]"
          ]
        },
        {
          "name": "stdout",
          "output_type": "stream",
          "text": [
            "                   all       1000       1000      0.985      0.982      0.989      0.957\n"
          ]
        },
        {
          "name": "stderr",
          "output_type": "stream",
          "text": [
            "\n"
          ]
        },
        {
          "name": "stdout",
          "output_type": "stream",
          "text": [
            "\n",
            "      Epoch    GPU_mem   box_loss   cls_loss   dfl_loss  Instances       Size\n"
          ]
        },
        {
          "name": "stderr",
          "output_type": "stream",
          "text": [
            "      26/50      15.9G     0.3928     0.3164     0.8659         19        800: 100%|██████████| 63/63 [00:23<00:00,  2.71it/s]\n",
            "                 Class     Images  Instances      Box(P          R      mAP50  mAP50-95): 100%|██████████| 32/32 [00:07<00:00,  4.44it/s]"
          ]
        },
        {
          "name": "stdout",
          "output_type": "stream",
          "text": [
            "                   all       1000       1000      0.969      0.966      0.979      0.952\n"
          ]
        },
        {
          "name": "stderr",
          "output_type": "stream",
          "text": [
            "\n"
          ]
        },
        {
          "name": "stdout",
          "output_type": "stream",
          "text": [
            "\n",
            "      Epoch    GPU_mem   box_loss   cls_loss   dfl_loss  Instances       Size\n"
          ]
        },
        {
          "name": "stderr",
          "output_type": "stream",
          "text": [
            "      27/50      15.9G     0.3819     0.3079      0.861         12        800: 100%|██████████| 63/63 [00:23<00:00,  2.68it/s]\n",
            "                 Class     Images  Instances      Box(P          R      mAP50  mAP50-95): 100%|██████████| 32/32 [00:07<00:00,  4.56it/s]"
          ]
        },
        {
          "name": "stdout",
          "output_type": "stream",
          "text": [
            "                   all       1000       1000      0.992      0.992      0.994      0.969\n"
          ]
        },
        {
          "name": "stderr",
          "output_type": "stream",
          "text": [
            "\n"
          ]
        },
        {
          "name": "stdout",
          "output_type": "stream",
          "text": [
            "\n",
            "      Epoch    GPU_mem   box_loss   cls_loss   dfl_loss  Instances       Size\n"
          ]
        },
        {
          "name": "stderr",
          "output_type": "stream",
          "text": [
            "      28/50      15.9G     0.3677     0.2893     0.8579         13        800: 100%|██████████| 63/63 [00:23<00:00,  2.67it/s]\n",
            "                 Class     Images  Instances      Box(P          R      mAP50  mAP50-95): 100%|██████████| 32/32 [00:07<00:00,  4.51it/s]"
          ]
        },
        {
          "name": "stdout",
          "output_type": "stream",
          "text": [
            "                   all       1000       1000      0.991      0.991      0.992      0.964\n"
          ]
        },
        {
          "name": "stderr",
          "output_type": "stream",
          "text": [
            "\n"
          ]
        },
        {
          "name": "stdout",
          "output_type": "stream",
          "text": [
            "\n",
            "      Epoch    GPU_mem   box_loss   cls_loss   dfl_loss  Instances       Size\n"
          ]
        },
        {
          "name": "stderr",
          "output_type": "stream",
          "text": [
            "      29/50      15.8G     0.3717     0.3003     0.8597         18        800: 100%|██████████| 63/63 [00:23<00:00,  2.68it/s]\n",
            "                 Class     Images  Instances      Box(P          R      mAP50  mAP50-95): 100%|██████████| 32/32 [00:07<00:00,  4.44it/s]"
          ]
        },
        {
          "name": "stdout",
          "output_type": "stream",
          "text": [
            "                   all       1000       1000      0.993      0.991      0.992      0.969\n"
          ]
        },
        {
          "name": "stderr",
          "output_type": "stream",
          "text": [
            "\n"
          ]
        },
        {
          "name": "stdout",
          "output_type": "stream",
          "text": [
            "\n",
            "      Epoch    GPU_mem   box_loss   cls_loss   dfl_loss  Instances       Size\n"
          ]
        },
        {
          "name": "stderr",
          "output_type": "stream",
          "text": [
            "      30/50      15.9G     0.3822     0.2879     0.8594         25        800: 100%|██████████| 63/63 [00:23<00:00,  2.68it/s]\n",
            "                 Class     Images  Instances      Box(P          R      mAP50  mAP50-95): 100%|██████████| 32/32 [00:06<00:00,  4.61it/s]"
          ]
        },
        {
          "name": "stdout",
          "output_type": "stream",
          "text": [
            "                   all       1000       1000      0.998      0.998      0.994      0.969\n"
          ]
        },
        {
          "name": "stderr",
          "output_type": "stream",
          "text": [
            "\n"
          ]
        },
        {
          "name": "stdout",
          "output_type": "stream",
          "text": [
            "\n",
            "      Epoch    GPU_mem   box_loss   cls_loss   dfl_loss  Instances       Size\n"
          ]
        },
        {
          "name": "stderr",
          "output_type": "stream",
          "text": [
            "      31/50      15.9G      0.356     0.2767     0.8509         11        800: 100%|██████████| 63/63 [00:23<00:00,  2.71it/s]\n",
            "                 Class     Images  Instances      Box(P          R      mAP50  mAP50-95): 100%|██████████| 32/32 [00:06<00:00,  4.57it/s]"
          ]
        },
        {
          "name": "stdout",
          "output_type": "stream",
          "text": [
            "                   all       1000       1000      0.993      0.992      0.993      0.971\n"
          ]
        },
        {
          "name": "stderr",
          "output_type": "stream",
          "text": [
            "\n"
          ]
        },
        {
          "name": "stdout",
          "output_type": "stream",
          "text": [
            "\n",
            "      Epoch    GPU_mem   box_loss   cls_loss   dfl_loss  Instances       Size\n"
          ]
        },
        {
          "name": "stderr",
          "output_type": "stream",
          "text": [
            "      32/50      15.9G      0.368     0.2824     0.8559         17        800: 100%|██████████| 63/63 [00:23<00:00,  2.67it/s]\n",
            "                 Class     Images  Instances      Box(P          R      mAP50  mAP50-95): 100%|██████████| 32/32 [00:07<00:00,  4.47it/s]"
          ]
        },
        {
          "name": "stdout",
          "output_type": "stream",
          "text": [
            "                   all       1000       1000      0.983      0.982      0.988      0.963\n"
          ]
        },
        {
          "name": "stderr",
          "output_type": "stream",
          "text": [
            "\n"
          ]
        },
        {
          "name": "stdout",
          "output_type": "stream",
          "text": [
            "\n",
            "      Epoch    GPU_mem   box_loss   cls_loss   dfl_loss  Instances       Size\n"
          ]
        },
        {
          "name": "stderr",
          "output_type": "stream",
          "text": [
            "      33/50      15.8G     0.3618     0.2903     0.8552         16        800: 100%|██████████| 63/63 [00:23<00:00,  2.65it/s]\n",
            "                 Class     Images  Instances      Box(P          R      mAP50  mAP50-95): 100%|██████████| 32/32 [00:06<00:00,  4.60it/s]"
          ]
        },
        {
          "name": "stdout",
          "output_type": "stream",
          "text": [
            "                   all       1000       1000       0.97      0.966      0.978      0.957\n"
          ]
        },
        {
          "name": "stderr",
          "output_type": "stream",
          "text": [
            "\n"
          ]
        },
        {
          "name": "stdout",
          "output_type": "stream",
          "text": [
            "\n",
            "      Epoch    GPU_mem   box_loss   cls_loss   dfl_loss  Instances       Size\n"
          ]
        },
        {
          "name": "stderr",
          "output_type": "stream",
          "text": [
            "      34/50      15.9G     0.3399      0.266     0.8489         12        800: 100%|██████████| 63/63 [00:23<00:00,  2.69it/s]\n",
            "                 Class     Images  Instances      Box(P          R      mAP50  mAP50-95): 100%|██████████| 32/32 [00:07<00:00,  4.53it/s]"
          ]
        },
        {
          "name": "stdout",
          "output_type": "stream",
          "text": [
            "                   all       1000       1000      0.998      0.998      0.994      0.975\n"
          ]
        },
        {
          "name": "stderr",
          "output_type": "stream",
          "text": [
            "\n"
          ]
        },
        {
          "name": "stdout",
          "output_type": "stream",
          "text": [
            "\n",
            "      Epoch    GPU_mem   box_loss   cls_loss   dfl_loss  Instances       Size\n"
          ]
        },
        {
          "name": "stderr",
          "output_type": "stream",
          "text": [
            "      35/50      15.9G     0.3417     0.2568     0.8406         11        800: 100%|██████████| 63/63 [00:23<00:00,  2.70it/s]\n",
            "                 Class     Images  Instances      Box(P          R      mAP50  mAP50-95): 100%|██████████| 32/32 [00:07<00:00,  4.53it/s]"
          ]
        },
        {
          "name": "stdout",
          "output_type": "stream",
          "text": [
            "                   all       1000       1000      0.996      0.996      0.995      0.974\n"
          ]
        },
        {
          "name": "stderr",
          "output_type": "stream",
          "text": [
            "\n"
          ]
        },
        {
          "name": "stdout",
          "output_type": "stream",
          "text": [
            "\n",
            "      Epoch    GPU_mem   box_loss   cls_loss   dfl_loss  Instances       Size\n"
          ]
        },
        {
          "name": "stderr",
          "output_type": "stream",
          "text": [
            "      36/50      15.9G     0.3301     0.2552     0.8428         14        800: 100%|██████████| 63/63 [00:23<00:00,  2.70it/s]\n",
            "                 Class     Images  Instances      Box(P          R      mAP50  mAP50-95): 100%|██████████| 32/32 [00:06<00:00,  4.59it/s]"
          ]
        },
        {
          "name": "stdout",
          "output_type": "stream",
          "text": [
            "                   all       1000       1000      0.994      0.994      0.993      0.977\n"
          ]
        },
        {
          "name": "stderr",
          "output_type": "stream",
          "text": [
            "\n"
          ]
        },
        {
          "name": "stdout",
          "output_type": "stream",
          "text": [
            "\n",
            "      Epoch    GPU_mem   box_loss   cls_loss   dfl_loss  Instances       Size\n"
          ]
        },
        {
          "name": "stderr",
          "output_type": "stream",
          "text": [
            "      37/50      15.8G     0.3402     0.2432     0.8478         14        800: 100%|██████████| 63/63 [00:23<00:00,  2.70it/s]\n",
            "                 Class     Images  Instances      Box(P          R      mAP50  mAP50-95): 100%|██████████| 32/32 [00:06<00:00,  4.66it/s]"
          ]
        },
        {
          "name": "stdout",
          "output_type": "stream",
          "text": [
            "                   all       1000       1000      0.999      0.999      0.995      0.978\n"
          ]
        },
        {
          "name": "stderr",
          "output_type": "stream",
          "text": [
            "\n"
          ]
        },
        {
          "name": "stdout",
          "output_type": "stream",
          "text": [
            "\n",
            "      Epoch    GPU_mem   box_loss   cls_loss   dfl_loss  Instances       Size\n"
          ]
        },
        {
          "name": "stderr",
          "output_type": "stream",
          "text": [
            "      38/50      15.9G     0.3326     0.2435     0.8402         15        800: 100%|██████████| 63/63 [00:23<00:00,  2.71it/s]\n",
            "                 Class     Images  Instances      Box(P          R      mAP50  mAP50-95): 100%|██████████| 32/32 [00:06<00:00,  4.60it/s]"
          ]
        },
        {
          "name": "stdout",
          "output_type": "stream",
          "text": [
            "                   all       1000       1000          1          1      0.995      0.979\n"
          ]
        },
        {
          "name": "stderr",
          "output_type": "stream",
          "text": [
            "\n"
          ]
        },
        {
          "name": "stdout",
          "output_type": "stream",
          "text": [
            "\n",
            "      Epoch    GPU_mem   box_loss   cls_loss   dfl_loss  Instances       Size\n"
          ]
        },
        {
          "name": "stderr",
          "output_type": "stream",
          "text": [
            "      39/50      15.9G     0.3295     0.2383     0.8408         15        800: 100%|██████████| 63/63 [00:23<00:00,  2.70it/s]\n",
            "                 Class     Images  Instances      Box(P          R      mAP50  mAP50-95): 100%|██████████| 32/32 [00:06<00:00,  4.62it/s]"
          ]
        },
        {
          "name": "stdout",
          "output_type": "stream",
          "text": [
            "                   all       1000       1000      0.998      0.998      0.995      0.981\n"
          ]
        },
        {
          "name": "stderr",
          "output_type": "stream",
          "text": [
            "\n"
          ]
        },
        {
          "name": "stdout",
          "output_type": "stream",
          "text": [
            "\n",
            "      Epoch    GPU_mem   box_loss   cls_loss   dfl_loss  Instances       Size\n"
          ]
        },
        {
          "name": "stderr",
          "output_type": "stream",
          "text": [
            "      40/50      15.9G     0.3196     0.2318     0.8479         14        800: 100%|██████████| 63/63 [00:23<00:00,  2.71it/s]\n",
            "                 Class     Images  Instances      Box(P          R      mAP50  mAP50-95): 100%|██████████| 32/32 [00:06<00:00,  4.66it/s]"
          ]
        },
        {
          "name": "stdout",
          "output_type": "stream",
          "text": [
            "                   all       1000       1000      0.998      0.997      0.995       0.98\n"
          ]
        },
        {
          "name": "stderr",
          "output_type": "stream",
          "text": [
            "\n"
          ]
        },
        {
          "name": "stdout",
          "output_type": "stream",
          "text": [
            "Closing dataloader mosaic\n",
            "\n",
            "      Epoch    GPU_mem   box_loss   cls_loss   dfl_loss  Instances       Size\n"
          ]
        },
        {
          "name": "stderr",
          "output_type": "stream",
          "text": [
            "      41/50      15.8G     0.2839     0.2151     0.8071          8        800: 100%|██████████| 63/63 [00:24<00:00,  2.58it/s]\n",
            "                 Class     Images  Instances      Box(P          R      mAP50  mAP50-95): 100%|██████████| 32/32 [00:07<00:00,  4.51it/s]"
          ]
        },
        {
          "name": "stdout",
          "output_type": "stream",
          "text": [
            "                   all       1000       1000      0.998      0.998      0.995       0.98\n"
          ]
        },
        {
          "name": "stderr",
          "output_type": "stream",
          "text": [
            "\n"
          ]
        },
        {
          "name": "stdout",
          "output_type": "stream",
          "text": [
            "\n",
            "      Epoch    GPU_mem   box_loss   cls_loss   dfl_loss  Instances       Size\n"
          ]
        },
        {
          "name": "stderr",
          "output_type": "stream",
          "text": [
            "      42/50      15.9G     0.2799     0.2046     0.8049          8        800: 100%|██████████| 63/63 [00:23<00:00,  2.69it/s]\n",
            "                 Class     Images  Instances      Box(P          R      mAP50  mAP50-95): 100%|██████████| 32/32 [00:07<00:00,  4.54it/s]"
          ]
        },
        {
          "name": "stdout",
          "output_type": "stream",
          "text": [
            "                   all       1000       1000      0.996      0.996      0.995      0.981\n"
          ]
        },
        {
          "name": "stderr",
          "output_type": "stream",
          "text": [
            "\n"
          ]
        },
        {
          "name": "stdout",
          "output_type": "stream",
          "text": [
            "\n",
            "      Epoch    GPU_mem   box_loss   cls_loss   dfl_loss  Instances       Size\n"
          ]
        },
        {
          "name": "stderr",
          "output_type": "stream",
          "text": [
            "      43/50      15.9G     0.2641     0.1954     0.8031          8        800: 100%|██████████| 63/63 [00:23<00:00,  2.71it/s]\n",
            "                 Class     Images  Instances      Box(P          R      mAP50  mAP50-95): 100%|██████████| 32/32 [00:06<00:00,  4.58it/s]"
          ]
        },
        {
          "name": "stdout",
          "output_type": "stream",
          "text": [
            "                   all       1000       1000      0.998      0.998      0.995      0.981\n"
          ]
        },
        {
          "name": "stderr",
          "output_type": "stream",
          "text": [
            "\n"
          ]
        },
        {
          "name": "stdout",
          "output_type": "stream",
          "text": [
            "\n",
            "      Epoch    GPU_mem   box_loss   cls_loss   dfl_loss  Instances       Size\n"
          ]
        },
        {
          "name": "stderr",
          "output_type": "stream",
          "text": [
            "      44/50      15.9G     0.2657     0.1938     0.8123          8        800: 100%|██████████| 63/63 [00:23<00:00,  2.72it/s]\n",
            "                 Class     Images  Instances      Box(P          R      mAP50  mAP50-95): 100%|██████████| 32/32 [00:07<00:00,  4.46it/s]"
          ]
        },
        {
          "name": "stdout",
          "output_type": "stream",
          "text": [
            "                   all       1000       1000      0.999      0.999      0.995       0.98\n"
          ]
        },
        {
          "name": "stderr",
          "output_type": "stream",
          "text": [
            "\n"
          ]
        },
        {
          "name": "stdout",
          "output_type": "stream",
          "text": [
            "\n",
            "      Epoch    GPU_mem   box_loss   cls_loss   dfl_loss  Instances       Size\n"
          ]
        },
        {
          "name": "stderr",
          "output_type": "stream",
          "text": [
            "      45/50      15.9G      0.263     0.1859     0.8061          8        800: 100%|██████████| 63/63 [00:23<00:00,  2.66it/s]\n",
            "                 Class     Images  Instances      Box(P          R      mAP50  mAP50-95): 100%|██████████| 32/32 [00:06<00:00,  4.57it/s]"
          ]
        },
        {
          "name": "stdout",
          "output_type": "stream",
          "text": [
            "                   all       1000       1000      0.999      0.999      0.995      0.982\n"
          ]
        },
        {
          "name": "stderr",
          "output_type": "stream",
          "text": [
            "\n"
          ]
        },
        {
          "name": "stdout",
          "output_type": "stream",
          "text": [
            "\n",
            "      Epoch    GPU_mem   box_loss   cls_loss   dfl_loss  Instances       Size\n"
          ]
        },
        {
          "name": "stderr",
          "output_type": "stream",
          "text": [
            "      46/50      15.9G     0.2526     0.1777     0.8009          8        800: 100%|██████████| 63/63 [00:23<00:00,  2.72it/s]\n",
            "                 Class     Images  Instances      Box(P          R      mAP50  mAP50-95): 100%|██████████| 32/32 [00:07<00:00,  4.57it/s]"
          ]
        },
        {
          "name": "stdout",
          "output_type": "stream",
          "text": [
            "                   all       1000       1000      0.998      0.998      0.994      0.981\n"
          ]
        },
        {
          "name": "stderr",
          "output_type": "stream",
          "text": [
            "\n"
          ]
        },
        {
          "name": "stdout",
          "output_type": "stream",
          "text": [
            "\n",
            "      Epoch    GPU_mem   box_loss   cls_loss   dfl_loss  Instances       Size\n"
          ]
        },
        {
          "name": "stderr",
          "output_type": "stream",
          "text": [
            "      47/50      15.9G     0.2547     0.1736     0.7983          8        800: 100%|██████████| 63/63 [00:23<00:00,  2.70it/s]\n",
            "                 Class     Images  Instances      Box(P          R      mAP50  mAP50-95): 100%|██████████| 32/32 [00:07<00:00,  4.56it/s]"
          ]
        },
        {
          "name": "stdout",
          "output_type": "stream",
          "text": [
            "                   all       1000       1000      0.999      0.999      0.995      0.983\n"
          ]
        },
        {
          "name": "stderr",
          "output_type": "stream",
          "text": [
            "\n"
          ]
        },
        {
          "name": "stdout",
          "output_type": "stream",
          "text": [
            "\n",
            "      Epoch    GPU_mem   box_loss   cls_loss   dfl_loss  Instances       Size\n"
          ]
        },
        {
          "name": "stderr",
          "output_type": "stream",
          "text": [
            "      48/50      15.9G     0.2468     0.1741     0.8042          8        800: 100%|██████████| 63/63 [00:23<00:00,  2.71it/s]\n",
            "                 Class     Images  Instances      Box(P          R      mAP50  mAP50-95): 100%|██████████| 32/32 [00:07<00:00,  4.52it/s]"
          ]
        },
        {
          "name": "stdout",
          "output_type": "stream",
          "text": [
            "                   all       1000       1000      0.999      0.999      0.994      0.983\n"
          ]
        },
        {
          "name": "stderr",
          "output_type": "stream",
          "text": [
            "\n"
          ]
        },
        {
          "name": "stdout",
          "output_type": "stream",
          "text": [
            "\n",
            "      Epoch    GPU_mem   box_loss   cls_loss   dfl_loss  Instances       Size\n"
          ]
        },
        {
          "name": "stderr",
          "output_type": "stream",
          "text": [
            "      49/50      15.8G     0.2452     0.1721     0.8022          8        800: 100%|██████████| 63/63 [00:23<00:00,  2.73it/s]\n",
            "                 Class     Images  Instances      Box(P          R      mAP50  mAP50-95): 100%|██████████| 32/32 [00:06<00:00,  4.68it/s]"
          ]
        },
        {
          "name": "stdout",
          "output_type": "stream",
          "text": [
            "                   all       1000       1000      0.999      0.999      0.995      0.986\n"
          ]
        },
        {
          "name": "stderr",
          "output_type": "stream",
          "text": [
            "\n"
          ]
        },
        {
          "name": "stdout",
          "output_type": "stream",
          "text": [
            "\n",
            "      Epoch    GPU_mem   box_loss   cls_loss   dfl_loss  Instances       Size\n"
          ]
        },
        {
          "name": "stderr",
          "output_type": "stream",
          "text": [
            "      50/50      15.9G     0.2373     0.1675     0.7973          8        800: 100%|██████████| 63/63 [00:23<00:00,  2.71it/s]\n",
            "                 Class     Images  Instances      Box(P          R      mAP50  mAP50-95): 100%|██████████| 32/32 [00:06<00:00,  4.59it/s]"
          ]
        },
        {
          "name": "stdout",
          "output_type": "stream",
          "text": [
            "                   all       1000       1000      0.999      0.999      0.994      0.986\n"
          ]
        },
        {
          "name": "stderr",
          "output_type": "stream",
          "text": [
            "\n"
          ]
        },
        {
          "name": "stdout",
          "output_type": "stream",
          "text": [
            "\n",
            "50 epochs completed in 0.438 hours.\n",
            "Optimizer stripped from runs/detect/train8/weights/last.pt, 87.7MB\n",
            "Optimizer stripped from runs/detect/train8/weights/best.pt, 87.7MB\n",
            "\n",
            "Validating runs/detect/train8/weights/best.pt...\n",
            "Ultralytics YOLOv8.1.37 🚀 Python-3.11.8 torch-2.1.0+cu121 CUDA:0 (NVIDIA GeForce RTX 4080, 16071MiB)\n",
            "YOLOv8l summary (fused): 268 layers, 43610463 parameters, 0 gradients, 164.8 GFLOPs\n"
          ]
        },
        {
          "name": "stderr",
          "output_type": "stream",
          "text": [
            "                 Class     Images  Instances      Box(P          R      mAP50  mAP50-95): 100%|██████████| 32/32 [00:06<00:00,  4.65it/s]\n"
          ]
        },
        {
          "name": "stdout",
          "output_type": "stream",
          "text": [
            "                   all       1000       1000      0.999      0.999      0.995      0.986\n",
            "Capillaria philippinensis       1000        200          1          1      0.995      0.967\n",
            "Enterobius vermicularis       1000        200          1          1      0.995      0.988\n",
            "  Hymenolepis diminuta       1000        200          1          1      0.995      0.994\n",
            "      Hymenolepis nana       1000        200          1          1      0.995      0.988\n",
            "       Paragonimus spp       1000        200      0.995      0.995      0.994      0.994\n",
            "Speed: 0.1ms preprocess, 5.4ms inference, 0.0ms loss, 0.3ms postprocess per image\n",
            "Results saved to \u001b[1mruns/detect/train8\u001b[0m\n"
          ]
        },
        {
          "data": {
            "text/plain": [
              "ultralytics.utils.metrics.DetMetrics object with attributes:\n",
              "\n",
              "ap_class_index: array([0, 1, 2, 3, 4])\n",
              "box: ultralytics.utils.metrics.Metric object\n",
              "confusion_matrix: <ultralytics.utils.metrics.ConfusionMatrix object at 0x71b88d07a390>\n",
              "curves: ['Precision-Recall(B)', 'F1-Confidence(B)', 'Precision-Confidence(B)', 'Recall-Confidence(B)']\n",
              "curves_results: [[array([          0,    0.001001,    0.002002,    0.003003,    0.004004,    0.005005,    0.006006,    0.007007,    0.008008,    0.009009,     0.01001,    0.011011,    0.012012,    0.013013,    0.014014,    0.015015,    0.016016,    0.017017,    0.018018,    0.019019,     0.02002,    0.021021,    0.022022,    0.023023,\n",
              "          0.024024,    0.025025,    0.026026,    0.027027,    0.028028,    0.029029,     0.03003,    0.031031,    0.032032,    0.033033,    0.034034,    0.035035,    0.036036,    0.037037,    0.038038,    0.039039,     0.04004,    0.041041,    0.042042,    0.043043,    0.044044,    0.045045,    0.046046,    0.047047,\n",
              "          0.048048,    0.049049,     0.05005,    0.051051,    0.052052,    0.053053,    0.054054,    0.055055,    0.056056,    0.057057,    0.058058,    0.059059,     0.06006,    0.061061,    0.062062,    0.063063,    0.064064,    0.065065,    0.066066,    0.067067,    0.068068,    0.069069,     0.07007,    0.071071,\n",
              "          0.072072,    0.073073,    0.074074,    0.075075,    0.076076,    0.077077,    0.078078,    0.079079,     0.08008,    0.081081,    0.082082,    0.083083,    0.084084,    0.085085,    0.086086,    0.087087,    0.088088,    0.089089,     0.09009,    0.091091,    0.092092,    0.093093,    0.094094,    0.095095,\n",
              "          0.096096,    0.097097,    0.098098,    0.099099,      0.1001,      0.1011,      0.1021,      0.1031,      0.1041,     0.10511,     0.10611,     0.10711,     0.10811,     0.10911,     0.11011,     0.11111,     0.11211,     0.11311,     0.11411,     0.11512,     0.11612,     0.11712,     0.11812,     0.11912,\n",
              "           0.12012,     0.12112,     0.12212,     0.12312,     0.12412,     0.12513,     0.12613,     0.12713,     0.12813,     0.12913,     0.13013,     0.13113,     0.13213,     0.13313,     0.13413,     0.13514,     0.13614,     0.13714,     0.13814,     0.13914,     0.14014,     0.14114,     0.14214,     0.14314,\n",
              "           0.14414,     0.14515,     0.14615,     0.14715,     0.14815,     0.14915,     0.15015,     0.15115,     0.15215,     0.15315,     0.15415,     0.15516,     0.15616,     0.15716,     0.15816,     0.15916,     0.16016,     0.16116,     0.16216,     0.16316,     0.16416,     0.16517,     0.16617,     0.16717,\n",
              "           0.16817,     0.16917,     0.17017,     0.17117,     0.17217,     0.17317,     0.17417,     0.17518,     0.17618,     0.17718,     0.17818,     0.17918,     0.18018,     0.18118,     0.18218,     0.18318,     0.18418,     0.18519,     0.18619,     0.18719,     0.18819,     0.18919,     0.19019,     0.19119,\n",
              "           0.19219,     0.19319,     0.19419,      0.1952,      0.1962,      0.1972,      0.1982,      0.1992,      0.2002,      0.2012,      0.2022,      0.2032,      0.2042,     0.20521,     0.20621,     0.20721,     0.20821,     0.20921,     0.21021,     0.21121,     0.21221,     0.21321,     0.21421,     0.21522,\n",
              "           0.21622,     0.21722,     0.21822,     0.21922,     0.22022,     0.22122,     0.22222,     0.22322,     0.22422,     0.22523,     0.22623,     0.22723,     0.22823,     0.22923,     0.23023,     0.23123,     0.23223,     0.23323,     0.23423,     0.23524,     0.23624,     0.23724,     0.23824,     0.23924,\n",
              "           0.24024,     0.24124,     0.24224,     0.24324,     0.24424,     0.24525,     0.24625,     0.24725,     0.24825,     0.24925,     0.25025,     0.25125,     0.25225,     0.25325,     0.25425,     0.25526,     0.25626,     0.25726,     0.25826,     0.25926,     0.26026,     0.26126,     0.26226,     0.26326,\n",
              "           0.26426,     0.26527,     0.26627,     0.26727,     0.26827,     0.26927,     0.27027,     0.27127,     0.27227,     0.27327,     0.27427,     0.27528,     0.27628,     0.27728,     0.27828,     0.27928,     0.28028,     0.28128,     0.28228,     0.28328,     0.28428,     0.28529,     0.28629,     0.28729,\n",
              "           0.28829,     0.28929,     0.29029,     0.29129,     0.29229,     0.29329,     0.29429,      0.2953,      0.2963,      0.2973,      0.2983,      0.2993,      0.3003,      0.3013,      0.3023,      0.3033,      0.3043,     0.30531,     0.30631,     0.30731,     0.30831,     0.30931,     0.31031,     0.31131,\n",
              "           0.31231,     0.31331,     0.31431,     0.31532,     0.31632,     0.31732,     0.31832,     0.31932,     0.32032,     0.32132,     0.32232,     0.32332,     0.32432,     0.32533,     0.32633,     0.32733,     0.32833,     0.32933,     0.33033,     0.33133,     0.33233,     0.33333,     0.33433,     0.33534,\n",
              "           0.33634,     0.33734,     0.33834,     0.33934,     0.34034,     0.34134,     0.34234,     0.34334,     0.34434,     0.34535,     0.34635,     0.34735,     0.34835,     0.34935,     0.35035,     0.35135,     0.35235,     0.35335,     0.35435,     0.35536,     0.35636,     0.35736,     0.35836,     0.35936,\n",
              "           0.36036,     0.36136,     0.36236,     0.36336,     0.36436,     0.36537,     0.36637,     0.36737,     0.36837,     0.36937,     0.37037,     0.37137,     0.37237,     0.37337,     0.37437,     0.37538,     0.37638,     0.37738,     0.37838,     0.37938,     0.38038,     0.38138,     0.38238,     0.38338,\n",
              "           0.38438,     0.38539,     0.38639,     0.38739,     0.38839,     0.38939,     0.39039,     0.39139,     0.39239,     0.39339,     0.39439,      0.3954,      0.3964,      0.3974,      0.3984,      0.3994,      0.4004,      0.4014,      0.4024,      0.4034,      0.4044,     0.40541,     0.40641,     0.40741,\n",
              "           0.40841,     0.40941,     0.41041,     0.41141,     0.41241,     0.41341,     0.41441,     0.41542,     0.41642,     0.41742,     0.41842,     0.41942,     0.42042,     0.42142,     0.42242,     0.42342,     0.42442,     0.42543,     0.42643,     0.42743,     0.42843,     0.42943,     0.43043,     0.43143,\n",
              "           0.43243,     0.43343,     0.43443,     0.43544,     0.43644,     0.43744,     0.43844,     0.43944,     0.44044,     0.44144,     0.44244,     0.44344,     0.44444,     0.44545,     0.44645,     0.44745,     0.44845,     0.44945,     0.45045,     0.45145,     0.45245,     0.45345,     0.45445,     0.45546,\n",
              "           0.45646,     0.45746,     0.45846,     0.45946,     0.46046,     0.46146,     0.46246,     0.46346,     0.46446,     0.46547,     0.46647,     0.46747,     0.46847,     0.46947,     0.47047,     0.47147,     0.47247,     0.47347,     0.47447,     0.47548,     0.47648,     0.47748,     0.47848,     0.47948,\n",
              "           0.48048,     0.48148,     0.48248,     0.48348,     0.48448,     0.48549,     0.48649,     0.48749,     0.48849,     0.48949,     0.49049,     0.49149,     0.49249,     0.49349,     0.49449,      0.4955,      0.4965,      0.4975,      0.4985,      0.4995,      0.5005,      0.5015,      0.5025,      0.5035,\n",
              "            0.5045,     0.50551,     0.50651,     0.50751,     0.50851,     0.50951,     0.51051,     0.51151,     0.51251,     0.51351,     0.51451,     0.51552,     0.51652,     0.51752,     0.51852,     0.51952,     0.52052,     0.52152,     0.52252,     0.52352,     0.52452,     0.52553,     0.52653,     0.52753,\n",
              "           0.52853,     0.52953,     0.53053,     0.53153,     0.53253,     0.53353,     0.53453,     0.53554,     0.53654,     0.53754,     0.53854,     0.53954,     0.54054,     0.54154,     0.54254,     0.54354,     0.54454,     0.54555,     0.54655,     0.54755,     0.54855,     0.54955,     0.55055,     0.55155,\n",
              "           0.55255,     0.55355,     0.55455,     0.55556,     0.55656,     0.55756,     0.55856,     0.55956,     0.56056,     0.56156,     0.56256,     0.56356,     0.56456,     0.56557,     0.56657,     0.56757,     0.56857,     0.56957,     0.57057,     0.57157,     0.57257,     0.57357,     0.57457,     0.57558,\n",
              "           0.57658,     0.57758,     0.57858,     0.57958,     0.58058,     0.58158,     0.58258,     0.58358,     0.58458,     0.58559,     0.58659,     0.58759,     0.58859,     0.58959,     0.59059,     0.59159,     0.59259,     0.59359,     0.59459,      0.5956,      0.5966,      0.5976,      0.5986,      0.5996,\n",
              "            0.6006,      0.6016,      0.6026,      0.6036,      0.6046,     0.60561,     0.60661,     0.60761,     0.60861,     0.60961,     0.61061,     0.61161,     0.61261,     0.61361,     0.61461,     0.61562,     0.61662,     0.61762,     0.61862,     0.61962,     0.62062,     0.62162,     0.62262,     0.62362,\n",
              "           0.62462,     0.62563,     0.62663,     0.62763,     0.62863,     0.62963,     0.63063,     0.63163,     0.63263,     0.63363,     0.63463,     0.63564,     0.63664,     0.63764,     0.63864,     0.63964,     0.64064,     0.64164,     0.64264,     0.64364,     0.64464,     0.64565,     0.64665,     0.64765,\n",
              "           0.64865,     0.64965,     0.65065,     0.65165,     0.65265,     0.65365,     0.65465,     0.65566,     0.65666,     0.65766,     0.65866,     0.65966,     0.66066,     0.66166,     0.66266,     0.66366,     0.66466,     0.66567,     0.66667,     0.66767,     0.66867,     0.66967,     0.67067,     0.67167,\n",
              "           0.67267,     0.67367,     0.67467,     0.67568,     0.67668,     0.67768,     0.67868,     0.67968,     0.68068,     0.68168,     0.68268,     0.68368,     0.68468,     0.68569,     0.68669,     0.68769,     0.68869,     0.68969,     0.69069,     0.69169,     0.69269,     0.69369,     0.69469,      0.6957,\n",
              "            0.6967,      0.6977,      0.6987,      0.6997,      0.7007,      0.7017,      0.7027,      0.7037,      0.7047,     0.70571,     0.70671,     0.70771,     0.70871,     0.70971,     0.71071,     0.71171,     0.71271,     0.71371,     0.71471,     0.71572,     0.71672,     0.71772,     0.71872,     0.71972,\n",
              "           0.72072,     0.72172,     0.72272,     0.72372,     0.72472,     0.72573,     0.72673,     0.72773,     0.72873,     0.72973,     0.73073,     0.73173,     0.73273,     0.73373,     0.73473,     0.73574,     0.73674,     0.73774,     0.73874,     0.73974,     0.74074,     0.74174,     0.74274,     0.74374,\n",
              "           0.74474,     0.74575,     0.74675,     0.74775,     0.74875,     0.74975,     0.75075,     0.75175,     0.75275,     0.75375,     0.75475,     0.75576,     0.75676,     0.75776,     0.75876,     0.75976,     0.76076,     0.76176,     0.76276,     0.76376,     0.76476,     0.76577,     0.76677,     0.76777,\n",
              "           0.76877,     0.76977,     0.77077,     0.77177,     0.77277,     0.77377,     0.77477,     0.77578,     0.77678,     0.77778,     0.77878,     0.77978,     0.78078,     0.78178,     0.78278,     0.78378,     0.78478,     0.78579,     0.78679,     0.78779,     0.78879,     0.78979,     0.79079,     0.79179,\n",
              "           0.79279,     0.79379,     0.79479,      0.7958,      0.7968,      0.7978,      0.7988,      0.7998,      0.8008,      0.8018,      0.8028,      0.8038,      0.8048,     0.80581,     0.80681,     0.80781,     0.80881,     0.80981,     0.81081,     0.81181,     0.81281,     0.81381,     0.81481,     0.81582,\n",
              "           0.81682,     0.81782,     0.81882,     0.81982,     0.82082,     0.82182,     0.82282,     0.82382,     0.82482,     0.82583,     0.82683,     0.82783,     0.82883,     0.82983,     0.83083,     0.83183,     0.83283,     0.83383,     0.83483,     0.83584,     0.83684,     0.83784,     0.83884,     0.83984,\n",
              "           0.84084,     0.84184,     0.84284,     0.84384,     0.84484,     0.84585,     0.84685,     0.84785,     0.84885,     0.84985,     0.85085,     0.85185,     0.85285,     0.85385,     0.85485,     0.85586,     0.85686,     0.85786,     0.85886,     0.85986,     0.86086,     0.86186,     0.86286,     0.86386,\n",
              "           0.86486,     0.86587,     0.86687,     0.86787,     0.86887,     0.86987,     0.87087,     0.87187,     0.87287,     0.87387,     0.87487,     0.87588,     0.87688,     0.87788,     0.87888,     0.87988,     0.88088,     0.88188,     0.88288,     0.88388,     0.88488,     0.88589,     0.88689,     0.88789,\n",
              "           0.88889,     0.88989,     0.89089,     0.89189,     0.89289,     0.89389,     0.89489,      0.8959,      0.8969,      0.8979,      0.8989,      0.8999,      0.9009,      0.9019,      0.9029,      0.9039,      0.9049,     0.90591,     0.90691,     0.90791,     0.90891,     0.90991,     0.91091,     0.91191,\n",
              "           0.91291,     0.91391,     0.91491,     0.91592,     0.91692,     0.91792,     0.91892,     0.91992,     0.92092,     0.92192,     0.92292,     0.92392,     0.92492,     0.92593,     0.92693,     0.92793,     0.92893,     0.92993,     0.93093,     0.93193,     0.93293,     0.93393,     0.93493,     0.93594,\n",
              "           0.93694,     0.93794,     0.93894,     0.93994,     0.94094,     0.94194,     0.94294,     0.94394,     0.94494,     0.94595,     0.94695,     0.94795,     0.94895,     0.94995,     0.95095,     0.95195,     0.95295,     0.95395,     0.95495,     0.95596,     0.95696,     0.95796,     0.95896,     0.95996,\n",
              "           0.96096,     0.96196,     0.96296,     0.96396,     0.96496,     0.96597,     0.96697,     0.96797,     0.96897,     0.96997,     0.97097,     0.97197,     0.97297,     0.97397,     0.97497,     0.97598,     0.97698,     0.97798,     0.97898,     0.97998,     0.98098,     0.98198,     0.98298,     0.98398,\n",
              "           0.98498,     0.98599,     0.98699,     0.98799,     0.98899,     0.98999,     0.99099,     0.99199,     0.99299,     0.99399,     0.99499,       0.996,       0.997,       0.998,       0.999,           1]), array([[          1,           1,           1, ...,           1,           1,           0],\n",
              "       [          1,           1,           1, ...,           1,           1,           0],\n",
              "       [          1,           1,           1, ...,           1,           1,           0],\n",
              "       [          1,           1,           1, ...,           1,           1,           0],\n",
              "       [          1,           1,           1, ...,      0.3984,      0.1992,           0]]), 'Recall', 'Precision'], [array([          0,    0.001001,    0.002002,    0.003003,    0.004004,    0.005005,    0.006006,    0.007007,    0.008008,    0.009009,     0.01001,    0.011011,    0.012012,    0.013013,    0.014014,    0.015015,    0.016016,    0.017017,    0.018018,    0.019019,     0.02002,    0.021021,    0.022022,    0.023023,\n",
              "          0.024024,    0.025025,    0.026026,    0.027027,    0.028028,    0.029029,     0.03003,    0.031031,    0.032032,    0.033033,    0.034034,    0.035035,    0.036036,    0.037037,    0.038038,    0.039039,     0.04004,    0.041041,    0.042042,    0.043043,    0.044044,    0.045045,    0.046046,    0.047047,\n",
              "          0.048048,    0.049049,     0.05005,    0.051051,    0.052052,    0.053053,    0.054054,    0.055055,    0.056056,    0.057057,    0.058058,    0.059059,     0.06006,    0.061061,    0.062062,    0.063063,    0.064064,    0.065065,    0.066066,    0.067067,    0.068068,    0.069069,     0.07007,    0.071071,\n",
              "          0.072072,    0.073073,    0.074074,    0.075075,    0.076076,    0.077077,    0.078078,    0.079079,     0.08008,    0.081081,    0.082082,    0.083083,    0.084084,    0.085085,    0.086086,    0.087087,    0.088088,    0.089089,     0.09009,    0.091091,    0.092092,    0.093093,    0.094094,    0.095095,\n",
              "          0.096096,    0.097097,    0.098098,    0.099099,      0.1001,      0.1011,      0.1021,      0.1031,      0.1041,     0.10511,     0.10611,     0.10711,     0.10811,     0.10911,     0.11011,     0.11111,     0.11211,     0.11311,     0.11411,     0.11512,     0.11612,     0.11712,     0.11812,     0.11912,\n",
              "           0.12012,     0.12112,     0.12212,     0.12312,     0.12412,     0.12513,     0.12613,     0.12713,     0.12813,     0.12913,     0.13013,     0.13113,     0.13213,     0.13313,     0.13413,     0.13514,     0.13614,     0.13714,     0.13814,     0.13914,     0.14014,     0.14114,     0.14214,     0.14314,\n",
              "           0.14414,     0.14515,     0.14615,     0.14715,     0.14815,     0.14915,     0.15015,     0.15115,     0.15215,     0.15315,     0.15415,     0.15516,     0.15616,     0.15716,     0.15816,     0.15916,     0.16016,     0.16116,     0.16216,     0.16316,     0.16416,     0.16517,     0.16617,     0.16717,\n",
              "           0.16817,     0.16917,     0.17017,     0.17117,     0.17217,     0.17317,     0.17417,     0.17518,     0.17618,     0.17718,     0.17818,     0.17918,     0.18018,     0.18118,     0.18218,     0.18318,     0.18418,     0.18519,     0.18619,     0.18719,     0.18819,     0.18919,     0.19019,     0.19119,\n",
              "           0.19219,     0.19319,     0.19419,      0.1952,      0.1962,      0.1972,      0.1982,      0.1992,      0.2002,      0.2012,      0.2022,      0.2032,      0.2042,     0.20521,     0.20621,     0.20721,     0.20821,     0.20921,     0.21021,     0.21121,     0.21221,     0.21321,     0.21421,     0.21522,\n",
              "           0.21622,     0.21722,     0.21822,     0.21922,     0.22022,     0.22122,     0.22222,     0.22322,     0.22422,     0.22523,     0.22623,     0.22723,     0.22823,     0.22923,     0.23023,     0.23123,     0.23223,     0.23323,     0.23423,     0.23524,     0.23624,     0.23724,     0.23824,     0.23924,\n",
              "           0.24024,     0.24124,     0.24224,     0.24324,     0.24424,     0.24525,     0.24625,     0.24725,     0.24825,     0.24925,     0.25025,     0.25125,     0.25225,     0.25325,     0.25425,     0.25526,     0.25626,     0.25726,     0.25826,     0.25926,     0.26026,     0.26126,     0.26226,     0.26326,\n",
              "           0.26426,     0.26527,     0.26627,     0.26727,     0.26827,     0.26927,     0.27027,     0.27127,     0.27227,     0.27327,     0.27427,     0.27528,     0.27628,     0.27728,     0.27828,     0.27928,     0.28028,     0.28128,     0.28228,     0.28328,     0.28428,     0.28529,     0.28629,     0.28729,\n",
              "           0.28829,     0.28929,     0.29029,     0.29129,     0.29229,     0.29329,     0.29429,      0.2953,      0.2963,      0.2973,      0.2983,      0.2993,      0.3003,      0.3013,      0.3023,      0.3033,      0.3043,     0.30531,     0.30631,     0.30731,     0.30831,     0.30931,     0.31031,     0.31131,\n",
              "           0.31231,     0.31331,     0.31431,     0.31532,     0.31632,     0.31732,     0.31832,     0.31932,     0.32032,     0.32132,     0.32232,     0.32332,     0.32432,     0.32533,     0.32633,     0.32733,     0.32833,     0.32933,     0.33033,     0.33133,     0.33233,     0.33333,     0.33433,     0.33534,\n",
              "           0.33634,     0.33734,     0.33834,     0.33934,     0.34034,     0.34134,     0.34234,     0.34334,     0.34434,     0.34535,     0.34635,     0.34735,     0.34835,     0.34935,     0.35035,     0.35135,     0.35235,     0.35335,     0.35435,     0.35536,     0.35636,     0.35736,     0.35836,     0.35936,\n",
              "           0.36036,     0.36136,     0.36236,     0.36336,     0.36436,     0.36537,     0.36637,     0.36737,     0.36837,     0.36937,     0.37037,     0.37137,     0.37237,     0.37337,     0.37437,     0.37538,     0.37638,     0.37738,     0.37838,     0.37938,     0.38038,     0.38138,     0.38238,     0.38338,\n",
              "           0.38438,     0.38539,     0.38639,     0.38739,     0.38839,     0.38939,     0.39039,     0.39139,     0.39239,     0.39339,     0.39439,      0.3954,      0.3964,      0.3974,      0.3984,      0.3994,      0.4004,      0.4014,      0.4024,      0.4034,      0.4044,     0.40541,     0.40641,     0.40741,\n",
              "           0.40841,     0.40941,     0.41041,     0.41141,     0.41241,     0.41341,     0.41441,     0.41542,     0.41642,     0.41742,     0.41842,     0.41942,     0.42042,     0.42142,     0.42242,     0.42342,     0.42442,     0.42543,     0.42643,     0.42743,     0.42843,     0.42943,     0.43043,     0.43143,\n",
              "           0.43243,     0.43343,     0.43443,     0.43544,     0.43644,     0.43744,     0.43844,     0.43944,     0.44044,     0.44144,     0.44244,     0.44344,     0.44444,     0.44545,     0.44645,     0.44745,     0.44845,     0.44945,     0.45045,     0.45145,     0.45245,     0.45345,     0.45445,     0.45546,\n",
              "           0.45646,     0.45746,     0.45846,     0.45946,     0.46046,     0.46146,     0.46246,     0.46346,     0.46446,     0.46547,     0.46647,     0.46747,     0.46847,     0.46947,     0.47047,     0.47147,     0.47247,     0.47347,     0.47447,     0.47548,     0.47648,     0.47748,     0.47848,     0.47948,\n",
              "           0.48048,     0.48148,     0.48248,     0.48348,     0.48448,     0.48549,     0.48649,     0.48749,     0.48849,     0.48949,     0.49049,     0.49149,     0.49249,     0.49349,     0.49449,      0.4955,      0.4965,      0.4975,      0.4985,      0.4995,      0.5005,      0.5015,      0.5025,      0.5035,\n",
              "            0.5045,     0.50551,     0.50651,     0.50751,     0.50851,     0.50951,     0.51051,     0.51151,     0.51251,     0.51351,     0.51451,     0.51552,     0.51652,     0.51752,     0.51852,     0.51952,     0.52052,     0.52152,     0.52252,     0.52352,     0.52452,     0.52553,     0.52653,     0.52753,\n",
              "           0.52853,     0.52953,     0.53053,     0.53153,     0.53253,     0.53353,     0.53453,     0.53554,     0.53654,     0.53754,     0.53854,     0.53954,     0.54054,     0.54154,     0.54254,     0.54354,     0.54454,     0.54555,     0.54655,     0.54755,     0.54855,     0.54955,     0.55055,     0.55155,\n",
              "           0.55255,     0.55355,     0.55455,     0.55556,     0.55656,     0.55756,     0.55856,     0.55956,     0.56056,     0.56156,     0.56256,     0.56356,     0.56456,     0.56557,     0.56657,     0.56757,     0.56857,     0.56957,     0.57057,     0.57157,     0.57257,     0.57357,     0.57457,     0.57558,\n",
              "           0.57658,     0.57758,     0.57858,     0.57958,     0.58058,     0.58158,     0.58258,     0.58358,     0.58458,     0.58559,     0.58659,     0.58759,     0.58859,     0.58959,     0.59059,     0.59159,     0.59259,     0.59359,     0.59459,      0.5956,      0.5966,      0.5976,      0.5986,      0.5996,\n",
              "            0.6006,      0.6016,      0.6026,      0.6036,      0.6046,     0.60561,     0.60661,     0.60761,     0.60861,     0.60961,     0.61061,     0.61161,     0.61261,     0.61361,     0.61461,     0.61562,     0.61662,     0.61762,     0.61862,     0.61962,     0.62062,     0.62162,     0.62262,     0.62362,\n",
              "           0.62462,     0.62563,     0.62663,     0.62763,     0.62863,     0.62963,     0.63063,     0.63163,     0.63263,     0.63363,     0.63463,     0.63564,     0.63664,     0.63764,     0.63864,     0.63964,     0.64064,     0.64164,     0.64264,     0.64364,     0.64464,     0.64565,     0.64665,     0.64765,\n",
              "           0.64865,     0.64965,     0.65065,     0.65165,     0.65265,     0.65365,     0.65465,     0.65566,     0.65666,     0.65766,     0.65866,     0.65966,     0.66066,     0.66166,     0.66266,     0.66366,     0.66466,     0.66567,     0.66667,     0.66767,     0.66867,     0.66967,     0.67067,     0.67167,\n",
              "           0.67267,     0.67367,     0.67467,     0.67568,     0.67668,     0.67768,     0.67868,     0.67968,     0.68068,     0.68168,     0.68268,     0.68368,     0.68468,     0.68569,     0.68669,     0.68769,     0.68869,     0.68969,     0.69069,     0.69169,     0.69269,     0.69369,     0.69469,      0.6957,\n",
              "            0.6967,      0.6977,      0.6987,      0.6997,      0.7007,      0.7017,      0.7027,      0.7037,      0.7047,     0.70571,     0.70671,     0.70771,     0.70871,     0.70971,     0.71071,     0.71171,     0.71271,     0.71371,     0.71471,     0.71572,     0.71672,     0.71772,     0.71872,     0.71972,\n",
              "           0.72072,     0.72172,     0.72272,     0.72372,     0.72472,     0.72573,     0.72673,     0.72773,     0.72873,     0.72973,     0.73073,     0.73173,     0.73273,     0.73373,     0.73473,     0.73574,     0.73674,     0.73774,     0.73874,     0.73974,     0.74074,     0.74174,     0.74274,     0.74374,\n",
              "           0.74474,     0.74575,     0.74675,     0.74775,     0.74875,     0.74975,     0.75075,     0.75175,     0.75275,     0.75375,     0.75475,     0.75576,     0.75676,     0.75776,     0.75876,     0.75976,     0.76076,     0.76176,     0.76276,     0.76376,     0.76476,     0.76577,     0.76677,     0.76777,\n",
              "           0.76877,     0.76977,     0.77077,     0.77177,     0.77277,     0.77377,     0.77477,     0.77578,     0.77678,     0.77778,     0.77878,     0.77978,     0.78078,     0.78178,     0.78278,     0.78378,     0.78478,     0.78579,     0.78679,     0.78779,     0.78879,     0.78979,     0.79079,     0.79179,\n",
              "           0.79279,     0.79379,     0.79479,      0.7958,      0.7968,      0.7978,      0.7988,      0.7998,      0.8008,      0.8018,      0.8028,      0.8038,      0.8048,     0.80581,     0.80681,     0.80781,     0.80881,     0.80981,     0.81081,     0.81181,     0.81281,     0.81381,     0.81481,     0.81582,\n",
              "           0.81682,     0.81782,     0.81882,     0.81982,     0.82082,     0.82182,     0.82282,     0.82382,     0.82482,     0.82583,     0.82683,     0.82783,     0.82883,     0.82983,     0.83083,     0.83183,     0.83283,     0.83383,     0.83483,     0.83584,     0.83684,     0.83784,     0.83884,     0.83984,\n",
              "           0.84084,     0.84184,     0.84284,     0.84384,     0.84484,     0.84585,     0.84685,     0.84785,     0.84885,     0.84985,     0.85085,     0.85185,     0.85285,     0.85385,     0.85485,     0.85586,     0.85686,     0.85786,     0.85886,     0.85986,     0.86086,     0.86186,     0.86286,     0.86386,\n",
              "           0.86486,     0.86587,     0.86687,     0.86787,     0.86887,     0.86987,     0.87087,     0.87187,     0.87287,     0.87387,     0.87487,     0.87588,     0.87688,     0.87788,     0.87888,     0.87988,     0.88088,     0.88188,     0.88288,     0.88388,     0.88488,     0.88589,     0.88689,     0.88789,\n",
              "           0.88889,     0.88989,     0.89089,     0.89189,     0.89289,     0.89389,     0.89489,      0.8959,      0.8969,      0.8979,      0.8989,      0.8999,      0.9009,      0.9019,      0.9029,      0.9039,      0.9049,     0.90591,     0.90691,     0.90791,     0.90891,     0.90991,     0.91091,     0.91191,\n",
              "           0.91291,     0.91391,     0.91491,     0.91592,     0.91692,     0.91792,     0.91892,     0.91992,     0.92092,     0.92192,     0.92292,     0.92392,     0.92492,     0.92593,     0.92693,     0.92793,     0.92893,     0.92993,     0.93093,     0.93193,     0.93293,     0.93393,     0.93493,     0.93594,\n",
              "           0.93694,     0.93794,     0.93894,     0.93994,     0.94094,     0.94194,     0.94294,     0.94394,     0.94494,     0.94595,     0.94695,     0.94795,     0.94895,     0.94995,     0.95095,     0.95195,     0.95295,     0.95395,     0.95495,     0.95596,     0.95696,     0.95796,     0.95896,     0.95996,\n",
              "           0.96096,     0.96196,     0.96296,     0.96396,     0.96496,     0.96597,     0.96697,     0.96797,     0.96897,     0.96997,     0.97097,     0.97197,     0.97297,     0.97397,     0.97497,     0.97598,     0.97698,     0.97798,     0.97898,     0.97998,     0.98098,     0.98198,     0.98298,     0.98398,\n",
              "           0.98498,     0.98599,     0.98699,     0.98799,     0.98899,     0.98999,     0.99099,     0.99199,     0.99299,     0.99399,     0.99499,       0.996,       0.997,       0.998,       0.999,           1]), array([[          1,           1,           1, ...,           0,           0,           0],\n",
              "       [          1,           1,           1, ...,           0,           0,           0],\n",
              "       [          1,           1,           1, ...,           0,           0,           0],\n",
              "       [          1,           1,           1, ...,           0,           0,           0],\n",
              "       [      0.995,       0.995,       0.995, ...,           0,           0,           0]]), 'Confidence', 'F1'], [array([          0,    0.001001,    0.002002,    0.003003,    0.004004,    0.005005,    0.006006,    0.007007,    0.008008,    0.009009,     0.01001,    0.011011,    0.012012,    0.013013,    0.014014,    0.015015,    0.016016,    0.017017,    0.018018,    0.019019,     0.02002,    0.021021,    0.022022,    0.023023,\n",
              "          0.024024,    0.025025,    0.026026,    0.027027,    0.028028,    0.029029,     0.03003,    0.031031,    0.032032,    0.033033,    0.034034,    0.035035,    0.036036,    0.037037,    0.038038,    0.039039,     0.04004,    0.041041,    0.042042,    0.043043,    0.044044,    0.045045,    0.046046,    0.047047,\n",
              "          0.048048,    0.049049,     0.05005,    0.051051,    0.052052,    0.053053,    0.054054,    0.055055,    0.056056,    0.057057,    0.058058,    0.059059,     0.06006,    0.061061,    0.062062,    0.063063,    0.064064,    0.065065,    0.066066,    0.067067,    0.068068,    0.069069,     0.07007,    0.071071,\n",
              "          0.072072,    0.073073,    0.074074,    0.075075,    0.076076,    0.077077,    0.078078,    0.079079,     0.08008,    0.081081,    0.082082,    0.083083,    0.084084,    0.085085,    0.086086,    0.087087,    0.088088,    0.089089,     0.09009,    0.091091,    0.092092,    0.093093,    0.094094,    0.095095,\n",
              "          0.096096,    0.097097,    0.098098,    0.099099,      0.1001,      0.1011,      0.1021,      0.1031,      0.1041,     0.10511,     0.10611,     0.10711,     0.10811,     0.10911,     0.11011,     0.11111,     0.11211,     0.11311,     0.11411,     0.11512,     0.11612,     0.11712,     0.11812,     0.11912,\n",
              "           0.12012,     0.12112,     0.12212,     0.12312,     0.12412,     0.12513,     0.12613,     0.12713,     0.12813,     0.12913,     0.13013,     0.13113,     0.13213,     0.13313,     0.13413,     0.13514,     0.13614,     0.13714,     0.13814,     0.13914,     0.14014,     0.14114,     0.14214,     0.14314,\n",
              "           0.14414,     0.14515,     0.14615,     0.14715,     0.14815,     0.14915,     0.15015,     0.15115,     0.15215,     0.15315,     0.15415,     0.15516,     0.15616,     0.15716,     0.15816,     0.15916,     0.16016,     0.16116,     0.16216,     0.16316,     0.16416,     0.16517,     0.16617,     0.16717,\n",
              "           0.16817,     0.16917,     0.17017,     0.17117,     0.17217,     0.17317,     0.17417,     0.17518,     0.17618,     0.17718,     0.17818,     0.17918,     0.18018,     0.18118,     0.18218,     0.18318,     0.18418,     0.18519,     0.18619,     0.18719,     0.18819,     0.18919,     0.19019,     0.19119,\n",
              "           0.19219,     0.19319,     0.19419,      0.1952,      0.1962,      0.1972,      0.1982,      0.1992,      0.2002,      0.2012,      0.2022,      0.2032,      0.2042,     0.20521,     0.20621,     0.20721,     0.20821,     0.20921,     0.21021,     0.21121,     0.21221,     0.21321,     0.21421,     0.21522,\n",
              "           0.21622,     0.21722,     0.21822,     0.21922,     0.22022,     0.22122,     0.22222,     0.22322,     0.22422,     0.22523,     0.22623,     0.22723,     0.22823,     0.22923,     0.23023,     0.23123,     0.23223,     0.23323,     0.23423,     0.23524,     0.23624,     0.23724,     0.23824,     0.23924,\n",
              "           0.24024,     0.24124,     0.24224,     0.24324,     0.24424,     0.24525,     0.24625,     0.24725,     0.24825,     0.24925,     0.25025,     0.25125,     0.25225,     0.25325,     0.25425,     0.25526,     0.25626,     0.25726,     0.25826,     0.25926,     0.26026,     0.26126,     0.26226,     0.26326,\n",
              "           0.26426,     0.26527,     0.26627,     0.26727,     0.26827,     0.26927,     0.27027,     0.27127,     0.27227,     0.27327,     0.27427,     0.27528,     0.27628,     0.27728,     0.27828,     0.27928,     0.28028,     0.28128,     0.28228,     0.28328,     0.28428,     0.28529,     0.28629,     0.28729,\n",
              "           0.28829,     0.28929,     0.29029,     0.29129,     0.29229,     0.29329,     0.29429,      0.2953,      0.2963,      0.2973,      0.2983,      0.2993,      0.3003,      0.3013,      0.3023,      0.3033,      0.3043,     0.30531,     0.30631,     0.30731,     0.30831,     0.30931,     0.31031,     0.31131,\n",
              "           0.31231,     0.31331,     0.31431,     0.31532,     0.31632,     0.31732,     0.31832,     0.31932,     0.32032,     0.32132,     0.32232,     0.32332,     0.32432,     0.32533,     0.32633,     0.32733,     0.32833,     0.32933,     0.33033,     0.33133,     0.33233,     0.33333,     0.33433,     0.33534,\n",
              "           0.33634,     0.33734,     0.33834,     0.33934,     0.34034,     0.34134,     0.34234,     0.34334,     0.34434,     0.34535,     0.34635,     0.34735,     0.34835,     0.34935,     0.35035,     0.35135,     0.35235,     0.35335,     0.35435,     0.35536,     0.35636,     0.35736,     0.35836,     0.35936,\n",
              "           0.36036,     0.36136,     0.36236,     0.36336,     0.36436,     0.36537,     0.36637,     0.36737,     0.36837,     0.36937,     0.37037,     0.37137,     0.37237,     0.37337,     0.37437,     0.37538,     0.37638,     0.37738,     0.37838,     0.37938,     0.38038,     0.38138,     0.38238,     0.38338,\n",
              "           0.38438,     0.38539,     0.38639,     0.38739,     0.38839,     0.38939,     0.39039,     0.39139,     0.39239,     0.39339,     0.39439,      0.3954,      0.3964,      0.3974,      0.3984,      0.3994,      0.4004,      0.4014,      0.4024,      0.4034,      0.4044,     0.40541,     0.40641,     0.40741,\n",
              "           0.40841,     0.40941,     0.41041,     0.41141,     0.41241,     0.41341,     0.41441,     0.41542,     0.41642,     0.41742,     0.41842,     0.41942,     0.42042,     0.42142,     0.42242,     0.42342,     0.42442,     0.42543,     0.42643,     0.42743,     0.42843,     0.42943,     0.43043,     0.43143,\n",
              "           0.43243,     0.43343,     0.43443,     0.43544,     0.43644,     0.43744,     0.43844,     0.43944,     0.44044,     0.44144,     0.44244,     0.44344,     0.44444,     0.44545,     0.44645,     0.44745,     0.44845,     0.44945,     0.45045,     0.45145,     0.45245,     0.45345,     0.45445,     0.45546,\n",
              "           0.45646,     0.45746,     0.45846,     0.45946,     0.46046,     0.46146,     0.46246,     0.46346,     0.46446,     0.46547,     0.46647,     0.46747,     0.46847,     0.46947,     0.47047,     0.47147,     0.47247,     0.47347,     0.47447,     0.47548,     0.47648,     0.47748,     0.47848,     0.47948,\n",
              "           0.48048,     0.48148,     0.48248,     0.48348,     0.48448,     0.48549,     0.48649,     0.48749,     0.48849,     0.48949,     0.49049,     0.49149,     0.49249,     0.49349,     0.49449,      0.4955,      0.4965,      0.4975,      0.4985,      0.4995,      0.5005,      0.5015,      0.5025,      0.5035,\n",
              "            0.5045,     0.50551,     0.50651,     0.50751,     0.50851,     0.50951,     0.51051,     0.51151,     0.51251,     0.51351,     0.51451,     0.51552,     0.51652,     0.51752,     0.51852,     0.51952,     0.52052,     0.52152,     0.52252,     0.52352,     0.52452,     0.52553,     0.52653,     0.52753,\n",
              "           0.52853,     0.52953,     0.53053,     0.53153,     0.53253,     0.53353,     0.53453,     0.53554,     0.53654,     0.53754,     0.53854,     0.53954,     0.54054,     0.54154,     0.54254,     0.54354,     0.54454,     0.54555,     0.54655,     0.54755,     0.54855,     0.54955,     0.55055,     0.55155,\n",
              "           0.55255,     0.55355,     0.55455,     0.55556,     0.55656,     0.55756,     0.55856,     0.55956,     0.56056,     0.56156,     0.56256,     0.56356,     0.56456,     0.56557,     0.56657,     0.56757,     0.56857,     0.56957,     0.57057,     0.57157,     0.57257,     0.57357,     0.57457,     0.57558,\n",
              "           0.57658,     0.57758,     0.57858,     0.57958,     0.58058,     0.58158,     0.58258,     0.58358,     0.58458,     0.58559,     0.58659,     0.58759,     0.58859,     0.58959,     0.59059,     0.59159,     0.59259,     0.59359,     0.59459,      0.5956,      0.5966,      0.5976,      0.5986,      0.5996,\n",
              "            0.6006,      0.6016,      0.6026,      0.6036,      0.6046,     0.60561,     0.60661,     0.60761,     0.60861,     0.60961,     0.61061,     0.61161,     0.61261,     0.61361,     0.61461,     0.61562,     0.61662,     0.61762,     0.61862,     0.61962,     0.62062,     0.62162,     0.62262,     0.62362,\n",
              "           0.62462,     0.62563,     0.62663,     0.62763,     0.62863,     0.62963,     0.63063,     0.63163,     0.63263,     0.63363,     0.63463,     0.63564,     0.63664,     0.63764,     0.63864,     0.63964,     0.64064,     0.64164,     0.64264,     0.64364,     0.64464,     0.64565,     0.64665,     0.64765,\n",
              "           0.64865,     0.64965,     0.65065,     0.65165,     0.65265,     0.65365,     0.65465,     0.65566,     0.65666,     0.65766,     0.65866,     0.65966,     0.66066,     0.66166,     0.66266,     0.66366,     0.66466,     0.66567,     0.66667,     0.66767,     0.66867,     0.66967,     0.67067,     0.67167,\n",
              "           0.67267,     0.67367,     0.67467,     0.67568,     0.67668,     0.67768,     0.67868,     0.67968,     0.68068,     0.68168,     0.68268,     0.68368,     0.68468,     0.68569,     0.68669,     0.68769,     0.68869,     0.68969,     0.69069,     0.69169,     0.69269,     0.69369,     0.69469,      0.6957,\n",
              "            0.6967,      0.6977,      0.6987,      0.6997,      0.7007,      0.7017,      0.7027,      0.7037,      0.7047,     0.70571,     0.70671,     0.70771,     0.70871,     0.70971,     0.71071,     0.71171,     0.71271,     0.71371,     0.71471,     0.71572,     0.71672,     0.71772,     0.71872,     0.71972,\n",
              "           0.72072,     0.72172,     0.72272,     0.72372,     0.72472,     0.72573,     0.72673,     0.72773,     0.72873,     0.72973,     0.73073,     0.73173,     0.73273,     0.73373,     0.73473,     0.73574,     0.73674,     0.73774,     0.73874,     0.73974,     0.74074,     0.74174,     0.74274,     0.74374,\n",
              "           0.74474,     0.74575,     0.74675,     0.74775,     0.74875,     0.74975,     0.75075,     0.75175,     0.75275,     0.75375,     0.75475,     0.75576,     0.75676,     0.75776,     0.75876,     0.75976,     0.76076,     0.76176,     0.76276,     0.76376,     0.76476,     0.76577,     0.76677,     0.76777,\n",
              "           0.76877,     0.76977,     0.77077,     0.77177,     0.77277,     0.77377,     0.77477,     0.77578,     0.77678,     0.77778,     0.77878,     0.77978,     0.78078,     0.78178,     0.78278,     0.78378,     0.78478,     0.78579,     0.78679,     0.78779,     0.78879,     0.78979,     0.79079,     0.79179,\n",
              "           0.79279,     0.79379,     0.79479,      0.7958,      0.7968,      0.7978,      0.7988,      0.7998,      0.8008,      0.8018,      0.8028,      0.8038,      0.8048,     0.80581,     0.80681,     0.80781,     0.80881,     0.80981,     0.81081,     0.81181,     0.81281,     0.81381,     0.81481,     0.81582,\n",
              "           0.81682,     0.81782,     0.81882,     0.81982,     0.82082,     0.82182,     0.82282,     0.82382,     0.82482,     0.82583,     0.82683,     0.82783,     0.82883,     0.82983,     0.83083,     0.83183,     0.83283,     0.83383,     0.83483,     0.83584,     0.83684,     0.83784,     0.83884,     0.83984,\n",
              "           0.84084,     0.84184,     0.84284,     0.84384,     0.84484,     0.84585,     0.84685,     0.84785,     0.84885,     0.84985,     0.85085,     0.85185,     0.85285,     0.85385,     0.85485,     0.85586,     0.85686,     0.85786,     0.85886,     0.85986,     0.86086,     0.86186,     0.86286,     0.86386,\n",
              "           0.86486,     0.86587,     0.86687,     0.86787,     0.86887,     0.86987,     0.87087,     0.87187,     0.87287,     0.87387,     0.87487,     0.87588,     0.87688,     0.87788,     0.87888,     0.87988,     0.88088,     0.88188,     0.88288,     0.88388,     0.88488,     0.88589,     0.88689,     0.88789,\n",
              "           0.88889,     0.88989,     0.89089,     0.89189,     0.89289,     0.89389,     0.89489,      0.8959,      0.8969,      0.8979,      0.8989,      0.8999,      0.9009,      0.9019,      0.9029,      0.9039,      0.9049,     0.90591,     0.90691,     0.90791,     0.90891,     0.90991,     0.91091,     0.91191,\n",
              "           0.91291,     0.91391,     0.91491,     0.91592,     0.91692,     0.91792,     0.91892,     0.91992,     0.92092,     0.92192,     0.92292,     0.92392,     0.92492,     0.92593,     0.92693,     0.92793,     0.92893,     0.92993,     0.93093,     0.93193,     0.93293,     0.93393,     0.93493,     0.93594,\n",
              "           0.93694,     0.93794,     0.93894,     0.93994,     0.94094,     0.94194,     0.94294,     0.94394,     0.94494,     0.94595,     0.94695,     0.94795,     0.94895,     0.94995,     0.95095,     0.95195,     0.95295,     0.95395,     0.95495,     0.95596,     0.95696,     0.95796,     0.95896,     0.95996,\n",
              "           0.96096,     0.96196,     0.96296,     0.96396,     0.96496,     0.96597,     0.96697,     0.96797,     0.96897,     0.96997,     0.97097,     0.97197,     0.97297,     0.97397,     0.97497,     0.97598,     0.97698,     0.97798,     0.97898,     0.97998,     0.98098,     0.98198,     0.98298,     0.98398,\n",
              "           0.98498,     0.98599,     0.98699,     0.98799,     0.98899,     0.98999,     0.99099,     0.99199,     0.99299,     0.99399,     0.99499,       0.996,       0.997,       0.998,       0.999,           1]), array([[          1,           1,           1, ...,           1,           1,           1],\n",
              "       [          1,           1,           1, ...,           1,           1,           1],\n",
              "       [          1,           1,           1, ...,           1,           1,           1],\n",
              "       [          1,           1,           1, ...,           1,           1,           1],\n",
              "       [      0.995,       0.995,       0.995, ...,           1,           1,           1]]), 'Confidence', 'Precision'], [array([          0,    0.001001,    0.002002,    0.003003,    0.004004,    0.005005,    0.006006,    0.007007,    0.008008,    0.009009,     0.01001,    0.011011,    0.012012,    0.013013,    0.014014,    0.015015,    0.016016,    0.017017,    0.018018,    0.019019,     0.02002,    0.021021,    0.022022,    0.023023,\n",
              "          0.024024,    0.025025,    0.026026,    0.027027,    0.028028,    0.029029,     0.03003,    0.031031,    0.032032,    0.033033,    0.034034,    0.035035,    0.036036,    0.037037,    0.038038,    0.039039,     0.04004,    0.041041,    0.042042,    0.043043,    0.044044,    0.045045,    0.046046,    0.047047,\n",
              "          0.048048,    0.049049,     0.05005,    0.051051,    0.052052,    0.053053,    0.054054,    0.055055,    0.056056,    0.057057,    0.058058,    0.059059,     0.06006,    0.061061,    0.062062,    0.063063,    0.064064,    0.065065,    0.066066,    0.067067,    0.068068,    0.069069,     0.07007,    0.071071,\n",
              "          0.072072,    0.073073,    0.074074,    0.075075,    0.076076,    0.077077,    0.078078,    0.079079,     0.08008,    0.081081,    0.082082,    0.083083,    0.084084,    0.085085,    0.086086,    0.087087,    0.088088,    0.089089,     0.09009,    0.091091,    0.092092,    0.093093,    0.094094,    0.095095,\n",
              "          0.096096,    0.097097,    0.098098,    0.099099,      0.1001,      0.1011,      0.1021,      0.1031,      0.1041,     0.10511,     0.10611,     0.10711,     0.10811,     0.10911,     0.11011,     0.11111,     0.11211,     0.11311,     0.11411,     0.11512,     0.11612,     0.11712,     0.11812,     0.11912,\n",
              "           0.12012,     0.12112,     0.12212,     0.12312,     0.12412,     0.12513,     0.12613,     0.12713,     0.12813,     0.12913,     0.13013,     0.13113,     0.13213,     0.13313,     0.13413,     0.13514,     0.13614,     0.13714,     0.13814,     0.13914,     0.14014,     0.14114,     0.14214,     0.14314,\n",
              "           0.14414,     0.14515,     0.14615,     0.14715,     0.14815,     0.14915,     0.15015,     0.15115,     0.15215,     0.15315,     0.15415,     0.15516,     0.15616,     0.15716,     0.15816,     0.15916,     0.16016,     0.16116,     0.16216,     0.16316,     0.16416,     0.16517,     0.16617,     0.16717,\n",
              "           0.16817,     0.16917,     0.17017,     0.17117,     0.17217,     0.17317,     0.17417,     0.17518,     0.17618,     0.17718,     0.17818,     0.17918,     0.18018,     0.18118,     0.18218,     0.18318,     0.18418,     0.18519,     0.18619,     0.18719,     0.18819,     0.18919,     0.19019,     0.19119,\n",
              "           0.19219,     0.19319,     0.19419,      0.1952,      0.1962,      0.1972,      0.1982,      0.1992,      0.2002,      0.2012,      0.2022,      0.2032,      0.2042,     0.20521,     0.20621,     0.20721,     0.20821,     0.20921,     0.21021,     0.21121,     0.21221,     0.21321,     0.21421,     0.21522,\n",
              "           0.21622,     0.21722,     0.21822,     0.21922,     0.22022,     0.22122,     0.22222,     0.22322,     0.22422,     0.22523,     0.22623,     0.22723,     0.22823,     0.22923,     0.23023,     0.23123,     0.23223,     0.23323,     0.23423,     0.23524,     0.23624,     0.23724,     0.23824,     0.23924,\n",
              "           0.24024,     0.24124,     0.24224,     0.24324,     0.24424,     0.24525,     0.24625,     0.24725,     0.24825,     0.24925,     0.25025,     0.25125,     0.25225,     0.25325,     0.25425,     0.25526,     0.25626,     0.25726,     0.25826,     0.25926,     0.26026,     0.26126,     0.26226,     0.26326,\n",
              "           0.26426,     0.26527,     0.26627,     0.26727,     0.26827,     0.26927,     0.27027,     0.27127,     0.27227,     0.27327,     0.27427,     0.27528,     0.27628,     0.27728,     0.27828,     0.27928,     0.28028,     0.28128,     0.28228,     0.28328,     0.28428,     0.28529,     0.28629,     0.28729,\n",
              "           0.28829,     0.28929,     0.29029,     0.29129,     0.29229,     0.29329,     0.29429,      0.2953,      0.2963,      0.2973,      0.2983,      0.2993,      0.3003,      0.3013,      0.3023,      0.3033,      0.3043,     0.30531,     0.30631,     0.30731,     0.30831,     0.30931,     0.31031,     0.31131,\n",
              "           0.31231,     0.31331,     0.31431,     0.31532,     0.31632,     0.31732,     0.31832,     0.31932,     0.32032,     0.32132,     0.32232,     0.32332,     0.32432,     0.32533,     0.32633,     0.32733,     0.32833,     0.32933,     0.33033,     0.33133,     0.33233,     0.33333,     0.33433,     0.33534,\n",
              "           0.33634,     0.33734,     0.33834,     0.33934,     0.34034,     0.34134,     0.34234,     0.34334,     0.34434,     0.34535,     0.34635,     0.34735,     0.34835,     0.34935,     0.35035,     0.35135,     0.35235,     0.35335,     0.35435,     0.35536,     0.35636,     0.35736,     0.35836,     0.35936,\n",
              "           0.36036,     0.36136,     0.36236,     0.36336,     0.36436,     0.36537,     0.36637,     0.36737,     0.36837,     0.36937,     0.37037,     0.37137,     0.37237,     0.37337,     0.37437,     0.37538,     0.37638,     0.37738,     0.37838,     0.37938,     0.38038,     0.38138,     0.38238,     0.38338,\n",
              "           0.38438,     0.38539,     0.38639,     0.38739,     0.38839,     0.38939,     0.39039,     0.39139,     0.39239,     0.39339,     0.39439,      0.3954,      0.3964,      0.3974,      0.3984,      0.3994,      0.4004,      0.4014,      0.4024,      0.4034,      0.4044,     0.40541,     0.40641,     0.40741,\n",
              "           0.40841,     0.40941,     0.41041,     0.41141,     0.41241,     0.41341,     0.41441,     0.41542,     0.41642,     0.41742,     0.41842,     0.41942,     0.42042,     0.42142,     0.42242,     0.42342,     0.42442,     0.42543,     0.42643,     0.42743,     0.42843,     0.42943,     0.43043,     0.43143,\n",
              "           0.43243,     0.43343,     0.43443,     0.43544,     0.43644,     0.43744,     0.43844,     0.43944,     0.44044,     0.44144,     0.44244,     0.44344,     0.44444,     0.44545,     0.44645,     0.44745,     0.44845,     0.44945,     0.45045,     0.45145,     0.45245,     0.45345,     0.45445,     0.45546,\n",
              "           0.45646,     0.45746,     0.45846,     0.45946,     0.46046,     0.46146,     0.46246,     0.46346,     0.46446,     0.46547,     0.46647,     0.46747,     0.46847,     0.46947,     0.47047,     0.47147,     0.47247,     0.47347,     0.47447,     0.47548,     0.47648,     0.47748,     0.47848,     0.47948,\n",
              "           0.48048,     0.48148,     0.48248,     0.48348,     0.48448,     0.48549,     0.48649,     0.48749,     0.48849,     0.48949,     0.49049,     0.49149,     0.49249,     0.49349,     0.49449,      0.4955,      0.4965,      0.4975,      0.4985,      0.4995,      0.5005,      0.5015,      0.5025,      0.5035,\n",
              "            0.5045,     0.50551,     0.50651,     0.50751,     0.50851,     0.50951,     0.51051,     0.51151,     0.51251,     0.51351,     0.51451,     0.51552,     0.51652,     0.51752,     0.51852,     0.51952,     0.52052,     0.52152,     0.52252,     0.52352,     0.52452,     0.52553,     0.52653,     0.52753,\n",
              "           0.52853,     0.52953,     0.53053,     0.53153,     0.53253,     0.53353,     0.53453,     0.53554,     0.53654,     0.53754,     0.53854,     0.53954,     0.54054,     0.54154,     0.54254,     0.54354,     0.54454,     0.54555,     0.54655,     0.54755,     0.54855,     0.54955,     0.55055,     0.55155,\n",
              "           0.55255,     0.55355,     0.55455,     0.55556,     0.55656,     0.55756,     0.55856,     0.55956,     0.56056,     0.56156,     0.56256,     0.56356,     0.56456,     0.56557,     0.56657,     0.56757,     0.56857,     0.56957,     0.57057,     0.57157,     0.57257,     0.57357,     0.57457,     0.57558,\n",
              "           0.57658,     0.57758,     0.57858,     0.57958,     0.58058,     0.58158,     0.58258,     0.58358,     0.58458,     0.58559,     0.58659,     0.58759,     0.58859,     0.58959,     0.59059,     0.59159,     0.59259,     0.59359,     0.59459,      0.5956,      0.5966,      0.5976,      0.5986,      0.5996,\n",
              "            0.6006,      0.6016,      0.6026,      0.6036,      0.6046,     0.60561,     0.60661,     0.60761,     0.60861,     0.60961,     0.61061,     0.61161,     0.61261,     0.61361,     0.61461,     0.61562,     0.61662,     0.61762,     0.61862,     0.61962,     0.62062,     0.62162,     0.62262,     0.62362,\n",
              "           0.62462,     0.62563,     0.62663,     0.62763,     0.62863,     0.62963,     0.63063,     0.63163,     0.63263,     0.63363,     0.63463,     0.63564,     0.63664,     0.63764,     0.63864,     0.63964,     0.64064,     0.64164,     0.64264,     0.64364,     0.64464,     0.64565,     0.64665,     0.64765,\n",
              "           0.64865,     0.64965,     0.65065,     0.65165,     0.65265,     0.65365,     0.65465,     0.65566,     0.65666,     0.65766,     0.65866,     0.65966,     0.66066,     0.66166,     0.66266,     0.66366,     0.66466,     0.66567,     0.66667,     0.66767,     0.66867,     0.66967,     0.67067,     0.67167,\n",
              "           0.67267,     0.67367,     0.67467,     0.67568,     0.67668,     0.67768,     0.67868,     0.67968,     0.68068,     0.68168,     0.68268,     0.68368,     0.68468,     0.68569,     0.68669,     0.68769,     0.68869,     0.68969,     0.69069,     0.69169,     0.69269,     0.69369,     0.69469,      0.6957,\n",
              "            0.6967,      0.6977,      0.6987,      0.6997,      0.7007,      0.7017,      0.7027,      0.7037,      0.7047,     0.70571,     0.70671,     0.70771,     0.70871,     0.70971,     0.71071,     0.71171,     0.71271,     0.71371,     0.71471,     0.71572,     0.71672,     0.71772,     0.71872,     0.71972,\n",
              "           0.72072,     0.72172,     0.72272,     0.72372,     0.72472,     0.72573,     0.72673,     0.72773,     0.72873,     0.72973,     0.73073,     0.73173,     0.73273,     0.73373,     0.73473,     0.73574,     0.73674,     0.73774,     0.73874,     0.73974,     0.74074,     0.74174,     0.74274,     0.74374,\n",
              "           0.74474,     0.74575,     0.74675,     0.74775,     0.74875,     0.74975,     0.75075,     0.75175,     0.75275,     0.75375,     0.75475,     0.75576,     0.75676,     0.75776,     0.75876,     0.75976,     0.76076,     0.76176,     0.76276,     0.76376,     0.76476,     0.76577,     0.76677,     0.76777,\n",
              "           0.76877,     0.76977,     0.77077,     0.77177,     0.77277,     0.77377,     0.77477,     0.77578,     0.77678,     0.77778,     0.77878,     0.77978,     0.78078,     0.78178,     0.78278,     0.78378,     0.78478,     0.78579,     0.78679,     0.78779,     0.78879,     0.78979,     0.79079,     0.79179,\n",
              "           0.79279,     0.79379,     0.79479,      0.7958,      0.7968,      0.7978,      0.7988,      0.7998,      0.8008,      0.8018,      0.8028,      0.8038,      0.8048,     0.80581,     0.80681,     0.80781,     0.80881,     0.80981,     0.81081,     0.81181,     0.81281,     0.81381,     0.81481,     0.81582,\n",
              "           0.81682,     0.81782,     0.81882,     0.81982,     0.82082,     0.82182,     0.82282,     0.82382,     0.82482,     0.82583,     0.82683,     0.82783,     0.82883,     0.82983,     0.83083,     0.83183,     0.83283,     0.83383,     0.83483,     0.83584,     0.83684,     0.83784,     0.83884,     0.83984,\n",
              "           0.84084,     0.84184,     0.84284,     0.84384,     0.84484,     0.84585,     0.84685,     0.84785,     0.84885,     0.84985,     0.85085,     0.85185,     0.85285,     0.85385,     0.85485,     0.85586,     0.85686,     0.85786,     0.85886,     0.85986,     0.86086,     0.86186,     0.86286,     0.86386,\n",
              "           0.86486,     0.86587,     0.86687,     0.86787,     0.86887,     0.86987,     0.87087,     0.87187,     0.87287,     0.87387,     0.87487,     0.87588,     0.87688,     0.87788,     0.87888,     0.87988,     0.88088,     0.88188,     0.88288,     0.88388,     0.88488,     0.88589,     0.88689,     0.88789,\n",
              "           0.88889,     0.88989,     0.89089,     0.89189,     0.89289,     0.89389,     0.89489,      0.8959,      0.8969,      0.8979,      0.8989,      0.8999,      0.9009,      0.9019,      0.9029,      0.9039,      0.9049,     0.90591,     0.90691,     0.90791,     0.90891,     0.90991,     0.91091,     0.91191,\n",
              "           0.91291,     0.91391,     0.91491,     0.91592,     0.91692,     0.91792,     0.91892,     0.91992,     0.92092,     0.92192,     0.92292,     0.92392,     0.92492,     0.92593,     0.92693,     0.92793,     0.92893,     0.92993,     0.93093,     0.93193,     0.93293,     0.93393,     0.93493,     0.93594,\n",
              "           0.93694,     0.93794,     0.93894,     0.93994,     0.94094,     0.94194,     0.94294,     0.94394,     0.94494,     0.94595,     0.94695,     0.94795,     0.94895,     0.94995,     0.95095,     0.95195,     0.95295,     0.95395,     0.95495,     0.95596,     0.95696,     0.95796,     0.95896,     0.95996,\n",
              "           0.96096,     0.96196,     0.96296,     0.96396,     0.96496,     0.96597,     0.96697,     0.96797,     0.96897,     0.96997,     0.97097,     0.97197,     0.97297,     0.97397,     0.97497,     0.97598,     0.97698,     0.97798,     0.97898,     0.97998,     0.98098,     0.98198,     0.98298,     0.98398,\n",
              "           0.98498,     0.98599,     0.98699,     0.98799,     0.98899,     0.98999,     0.99099,     0.99199,     0.99299,     0.99399,     0.99499,       0.996,       0.997,       0.998,       0.999,           1]), array([[          1,           1,           1, ...,           0,           0,           0],\n",
              "       [          1,           1,           1, ...,           0,           0,           0],\n",
              "       [          1,           1,           1, ...,           0,           0,           0],\n",
              "       [          1,           1,           1, ...,           0,           0,           0],\n",
              "       [      0.995,       0.995,       0.995, ...,           0,           0,           0]]), 'Confidence', 'Recall']]\n",
              "fitness: 0.9870838430084246\n",
              "keys: ['metrics/precision(B)', 'metrics/recall(B)', 'metrics/mAP50(B)', 'metrics/mAP50-95(B)']\n",
              "maps: array([    0.96722,      0.9877,     0.99371,     0.98843,     0.99405])\n",
              "names: {0: 'Capillaria philippinensis', 1: 'Enterobius vermicularis', 2: 'Hymenolepis diminuta', 3: 'Hymenolepis nana', 4: 'Paragonimus spp'}\n",
              "plot: True\n",
              "results_dict: {'metrics/precision(B)': 0.999, 'metrics/recall(B)': 0.999, 'metrics/mAP50(B)': 0.9948499999999999, 'metrics/mAP50-95(B)': 0.9862209366760272, 'fitness': 0.9870838430084246}\n",
              "save_dir: PosixPath('runs/detect/train8')\n",
              "speed: {'preprocess': 0.10102272033691406, 'inference': 5.3944761753082275, 'loss': 0.00014972686767578125, 'postprocess': 0.3170037269592285}\n",
              "task: 'detect'"
            ]
          },
          "execution_count": 2,
          "metadata": {},
          "output_type": "execute_result"
        }
      ],
      "source": [
        "yolo_model.train(**config)"
      ]
    },
    {
      "cell_type": "markdown",
      "metadata": {
        "id": "Ivo291W34OZq"
      },
      "source": [
        "### Inference on test set!"
      ]
    },
    {
      "cell_type": "code",
      "execution_count": 6,
      "metadata": {},
      "outputs": [],
      "source": [
        "# train8 l-50\n",
        "bestModel = YOLO('runs/detect/train8/weights/best.pt')"
      ]
    },
    {
      "cell_type": "code",
      "execution_count": 7,
      "metadata": {
        "id": "qHsvTee43hBu"
      },
      "outputs": [
        {
          "name": "stdout",
          "output_type": "stream",
          "text": [
            "\n",
            "image 1/1 /home/andre/Desktop/CU_submission/chulacv2023/Lab9/student/test/data/Hymenolepis nana_0727.jpg: 480x800 1 Hymenolepis nana, 65.6ms\n",
            "Speed: 1.2ms preprocess, 65.6ms inference, 0.5ms postprocess per image at shape (1, 3, 480, 800)\n",
            "ultralytics.engine.results.Boxes object with attributes:\n",
            "\n",
            "cls: tensor([3.], device='cuda:0')\n",
            "conf: tensor([0.9612], device='cuda:0')\n",
            "data: tensor([[8.3348e+02, 4.6920e+02, 9.7402e+02, 5.8330e+02, 9.6122e-01, 3.0000e+00]], device='cuda:0')\n",
            "id: None\n",
            "is_track: False\n",
            "orig_shape: (1080, 1920)\n",
            "shape: torch.Size([1, 6])\n",
            "xywh: tensor([[903.7510, 526.2502, 140.5444, 114.1053]], device='cuda:0')\n",
            "xywhn: tensor([[0.4707, 0.4873, 0.0732, 0.1057]], device='cuda:0')\n",
            "xyxy: tensor([[833.4788, 469.1975, 974.0233, 583.3029]], device='cuda:0')\n",
            "xyxyn: tensor([[0.4341, 0.4344, 0.5073, 0.5401]], device='cuda:0')\n"
          ]
        }
      ],
      "source": [
        "a = bestModel('./test/data/Hymenolepis nana_0727.jpg')\n",
        "print(a[0].boxes)"
      ]
    },
    {
      "cell_type": "markdown",
      "metadata": {
        "id": "Lc0oiTJIawrv"
      },
      "source": [
        "### Submit Results"
      ]
    },
    {
      "cell_type": "markdown",
      "metadata": {
        "id": "8VPHLrjTfcMU"
      },
      "source": [
        "The results must follows this templates\n",
        "\n",
        "{“annotations”: [\n",
        "{“id”: int,\n",
        "“file_name”: str,\n",
        "“category_id”: int,\n",
        "“bbox”: [x,y,width,height]}\n",
        "]}"
      ]
    },
    {
      "cell_type": "markdown",
      "metadata": {
        "id": "Ki1uqfKIpKaB"
      },
      "source": [
        "\n",
        "\n",
        "```\n",
        "\"categories\": [\n",
        "        {\n",
        "            \"id\": 0,\n",
        "            \"name\": \"Capillaria philippinensis\",\n",
        "        },\n",
        "        {\n",
        "            \"id\": 1,\n",
        "            \"name\": \"Enterobius vermicularis\",\n",
        "        },\n",
        "        {\n",
        "            \"id\": 2,\n",
        "            \"name\": \"Hymenolepis diminuta\",\n",
        "        },\n",
        "        {\n",
        "            \"id\": 3,\n",
        "            \"name\": \"Hymenolepis nana\",\n",
        "        },\n",
        "        {\n",
        "            \"id\": 4,\n",
        "            \"name\": \"Paragonimus spp\",\n",
        "        }\n",
        "    ]\n",
        "```\n",
        "\n"
      ]
    },
    {
      "cell_type": "code",
      "execution_count": null,
      "metadata": {
        "id": "HjflKm1xoub_"
      },
      "outputs": [],
      "source": [
        "## Sample annotations\n",
        "annotations = dict()\n",
        "annotations['annotations'] = list()\n",
        "annotations['annotations'] += [{\"id\":2, \"file_name\":\"Hymenolepis nana_0002.jpg\",\"category_id\":3,\"bbox\":[549.0,459.0,178.0,151.0]}]\n",
        "annotations['annotations'] += [{\"id\":1, \"file_name\":\"Hymenolepis nana_0052.jpg\",\"category_id\":3,\"bbox\":[539.0,364.0,218.0,215.0]}]"
      ]
    },
    {
      "cell_type": "code",
      "execution_count": 22,
      "metadata": {
        "id": "eAceq9Op6KT0"
      },
      "outputs": [
        {
          "name": "stdout",
          "output_type": "stream",
          "text": [
            "\n",
            "image 1/1 /home/andre/Desktop/CU_submission/chulacv2023/Lab9/student/test/data/Hymenolepis nana_0002.jpg: 608x800 1 Hymenolepis nana, 9.5ms\n",
            "Speed: 13.3ms preprocess, 9.5ms inference, 0.5ms postprocess per image at shape (1, 3, 608, 800)\n",
            "\n",
            "image 1/1 /home/andre/Desktop/CU_submission/chulacv2023/Lab9/student/test/data/Paragonimus spp_0677.jpg: 608x800 1 Paragonimus spp, 9.2ms\n",
            "Speed: 1.4ms preprocess, 9.2ms inference, 0.5ms postprocess per image at shape (1, 3, 608, 800)\n",
            "\n",
            "image 1/1 /home/andre/Desktop/CU_submission/chulacv2023/Lab9/student/test/data/Capillaria philippinensis_0177.jpg: 800x608 1 Capillaria philippinensis, 8.5ms\n",
            "Speed: 1.7ms preprocess, 8.5ms inference, 0.5ms postprocess per image at shape (1, 3, 800, 608)\n",
            "\n",
            "image 1/1 /home/andre/Desktop/CU_submission/chulacv2023/Lab9/student/test/data/Capillaria philippinensis_0152.jpg: 800x608 1 Capillaria philippinensis, 11.0ms\n",
            "Speed: 1.6ms preprocess, 11.0ms inference, 0.9ms postprocess per image at shape (1, 3, 800, 608)\n",
            "\n",
            "image 1/1 /home/andre/Desktop/CU_submission/chulacv2023/Lab9/student/test/data/Capillaria philippinensis_0077.jpg: 800x608 1 Capillaria philippinensis, 9.2ms\n",
            "Speed: 1.7ms preprocess, 9.2ms inference, 0.5ms postprocess per image at shape (1, 3, 800, 608)\n",
            "\n",
            "image 1/1 /home/andre/Desktop/CU_submission/chulacv2023/Lab9/student/test/data/Capillaria philippinensis_0977.jpg: 800x608 1 Capillaria philippinensis, 9.3ms\n",
            "Speed: 1.7ms preprocess, 9.3ms inference, 0.9ms postprocess per image at shape (1, 3, 800, 608)\n",
            "\n",
            "image 1/1 /home/andre/Desktop/CU_submission/chulacv2023/Lab9/student/test/data/Hymenolepis diminuta_0327.jpg: 480x800 1 Hymenolepis diminuta, 8.8ms\n",
            "Speed: 1.2ms preprocess, 8.8ms inference, 0.5ms postprocess per image at shape (1, 3, 480, 800)\n",
            "\n",
            "image 1/1 /home/andre/Desktop/CU_submission/chulacv2023/Lab9/student/test/data/Capillaria philippinensis_0327.jpg: 608x800 1 Capillaria philippinensis, 10.4ms\n",
            "Speed: 1.4ms preprocess, 10.4ms inference, 0.9ms postprocess per image at shape (1, 3, 608, 800)\n",
            "\n",
            "image 1/1 /home/andre/Desktop/CU_submission/chulacv2023/Lab9/student/test/data/Enterobius vermicularis_0677.jpg: 480x800 1 Enterobius vermicularis, 9.2ms\n",
            "Speed: 1.1ms preprocess, 9.2ms inference, 0.9ms postprocess per image at shape (1, 3, 480, 800)\n",
            "\n",
            "image 1/1 /home/andre/Desktop/CU_submission/chulacv2023/Lab9/student/test/data/Enterobius vermicularis_0702.jpg: 480x800 1 Enterobius vermicularis, 8.7ms\n",
            "Speed: 1.2ms preprocess, 8.7ms inference, 1.1ms postprocess per image at shape (1, 3, 480, 800)\n",
            "\n",
            "image 1/1 /home/andre/Desktop/CU_submission/chulacv2023/Lab9/student/test/data/Paragonimus spp_0527.jpg: 608x800 1 Paragonimus spp, 9.7ms\n",
            "Speed: 1.3ms preprocess, 9.7ms inference, 0.5ms postprocess per image at shape (1, 3, 608, 800)\n",
            "\n",
            "image 1/1 /home/andre/Desktop/CU_submission/chulacv2023/Lab9/student/test/data/Enterobius vermicularis_0352.jpg: 800x608 1 Enterobius vermicularis, 9.8ms\n",
            "Speed: 1.8ms preprocess, 9.8ms inference, 0.5ms postprocess per image at shape (1, 3, 800, 608)\n",
            "\n",
            "image 1/1 /home/andre/Desktop/CU_submission/chulacv2023/Lab9/student/test/data/Hymenolepis nana_0227.jpg: 608x800 1 Hymenolepis nana, 10.5ms\n",
            "Speed: 1.3ms preprocess, 10.5ms inference, 0.5ms postprocess per image at shape (1, 3, 608, 800)\n",
            "\n",
            "image 1/1 /home/andre/Desktop/CU_submission/chulacv2023/Lab9/student/test/data/Paragonimus spp_0577.jpg: 608x800 1 Paragonimus spp, 9.7ms\n",
            "Speed: 1.5ms preprocess, 9.7ms inference, 0.6ms postprocess per image at shape (1, 3, 608, 800)\n",
            "\n",
            "image 1/1 /home/andre/Desktop/CU_submission/chulacv2023/Lab9/student/test/data/Hymenolepis nana_0402.jpg: 800x608 1 Hymenolepis nana, 10.3ms\n",
            "Speed: 1.8ms preprocess, 10.3ms inference, 0.5ms postprocess per image at shape (1, 3, 800, 608)\n",
            "\n",
            "image 1/1 /home/andre/Desktop/CU_submission/chulacv2023/Lab9/student/test/data/Capillaria philippinensis_0377.jpg: 608x800 1 Capillaria philippinensis, 9.5ms\n",
            "Speed: 1.3ms preprocess, 9.5ms inference, 0.5ms postprocess per image at shape (1, 3, 608, 800)\n",
            "\n",
            "image 1/1 /home/andre/Desktop/CU_submission/chulacv2023/Lab9/student/test/data/Hymenolepis diminuta_0802.jpg: 608x800 1 Hymenolepis diminuta, 9.1ms\n",
            "Speed: 1.3ms preprocess, 9.1ms inference, 1.1ms postprocess per image at shape (1, 3, 608, 800)\n",
            "\n",
            "image 1/1 /home/andre/Desktop/CU_submission/chulacv2023/Lab9/student/test/data/Hymenolepis nana_0577.jpg: 480x800 1 Hymenolepis nana, 8.9ms\n",
            "Speed: 1.1ms preprocess, 8.9ms inference, 0.5ms postprocess per image at shape (1, 3, 480, 800)\n",
            "\n",
            "image 1/1 /home/andre/Desktop/CU_submission/chulacv2023/Lab9/student/test/data/Hymenolepis nana_0827.jpg: 800x608 1 Hymenolepis nana, 9.5ms\n",
            "Speed: 1.7ms preprocess, 9.5ms inference, 0.6ms postprocess per image at shape (1, 3, 800, 608)\n",
            "\n",
            "image 1/1 /home/andre/Desktop/CU_submission/chulacv2023/Lab9/student/test/data/Hymenolepis diminuta_0852.jpg: 608x800 1 Hymenolepis diminuta, 10.0ms\n",
            "Speed: 1.4ms preprocess, 10.0ms inference, 0.6ms postprocess per image at shape (1, 3, 608, 800)\n",
            "\n",
            "image 1/1 /home/andre/Desktop/CU_submission/chulacv2023/Lab9/student/test/data/Paragonimus spp_0702.jpg: 608x800 1 Paragonimus spp, 9.2ms\n",
            "Speed: 1.3ms preprocess, 9.2ms inference, 1.0ms postprocess per image at shape (1, 3, 608, 800)\n",
            "\n",
            "image 1/1 /home/andre/Desktop/CU_submission/chulacv2023/Lab9/student/test/data/Paragonimus spp_0927.jpg: 800x608 1 Paragonimus spp, 9.4ms\n",
            "Speed: 2.0ms preprocess, 9.4ms inference, 0.5ms postprocess per image at shape (1, 3, 800, 608)\n",
            "\n",
            "image 1/1 /home/andre/Desktop/CU_submission/chulacv2023/Lab9/student/test/data/Hymenolepis nana_0127.jpg: 608x800 1 Hymenolepis nana, 10.0ms\n",
            "Speed: 1.7ms preprocess, 10.0ms inference, 0.9ms postprocess per image at shape (1, 3, 608, 800)\n",
            "\n",
            "image 1/1 /home/andre/Desktop/CU_submission/chulacv2023/Lab9/student/test/data/Hymenolepis nana_0602.jpg: 480x800 1 Hymenolepis nana, 9.4ms\n",
            "Speed: 1.1ms preprocess, 9.4ms inference, 0.5ms postprocess per image at shape (1, 3, 480, 800)\n",
            "\n",
            "image 1/1 /home/andre/Desktop/CU_submission/chulacv2023/Lab9/student/test/data/Hymenolepis nana_0352.jpg: 800x608 1 Hymenolepis nana, 9.8ms\n",
            "Speed: 1.9ms preprocess, 9.8ms inference, 0.5ms postprocess per image at shape (1, 3, 800, 608)\n",
            "\n",
            "image 1/1 /home/andre/Desktop/CU_submission/chulacv2023/Lab9/student/test/data/Paragonimus spp_0552.jpg: 608x800 1 Paragonimus spp, 10.0ms\n",
            "Speed: 1.4ms preprocess, 10.0ms inference, 0.8ms postprocess per image at shape (1, 3, 608, 800)\n",
            "\n",
            "image 1/1 /home/andre/Desktop/CU_submission/chulacv2023/Lab9/student/test/data/Paragonimus spp_0227.jpg: 480x800 1 Paragonimus spp, 9.2ms\n",
            "Speed: 1.2ms preprocess, 9.2ms inference, 0.9ms postprocess per image at shape (1, 3, 480, 800)\n",
            "\n",
            "image 1/1 /home/andre/Desktop/CU_submission/chulacv2023/Lab9/student/test/data/Hymenolepis diminuta_0127.jpg: 800x608 1 Hymenolepis diminuta, 9.3ms\n",
            "Speed: 1.8ms preprocess, 9.3ms inference, 0.5ms postprocess per image at shape (1, 3, 800, 608)\n",
            "\n",
            "image 1/1 /home/andre/Desktop/CU_submission/chulacv2023/Lab9/student/test/data/Hymenolepis nana_0302.jpg: 800x608 1 Hymenolepis nana, 9.0ms\n",
            "Speed: 2.0ms preprocess, 9.0ms inference, 1.1ms postprocess per image at shape (1, 3, 800, 608)\n",
            "\n",
            "image 1/1 /home/andre/Desktop/CU_submission/chulacv2023/Lab9/student/test/data/Capillaria philippinensis_0852.jpg: 800x608 1 Capillaria philippinensis, 8.9ms\n",
            "Speed: 1.7ms preprocess, 8.9ms inference, 0.5ms postprocess per image at shape (1, 3, 800, 608)\n",
            "\n",
            "image 1/1 /home/andre/Desktop/CU_submission/chulacv2023/Lab9/student/test/data/Hymenolepis diminuta_0777.jpg: 608x800 1 Hymenolepis diminuta, 9.6ms\n",
            "Speed: 1.3ms preprocess, 9.6ms inference, 0.5ms postprocess per image at shape (1, 3, 608, 800)\n",
            "\n",
            "image 1/1 /home/andre/Desktop/CU_submission/chulacv2023/Lab9/student/test/data/Hymenolepis diminuta_0577.jpg: 800x608 1 Hymenolepis diminuta, 9.8ms\n",
            "Speed: 1.8ms preprocess, 9.8ms inference, 0.5ms postprocess per image at shape (1, 3, 800, 608)\n",
            "\n",
            "image 1/1 /home/andre/Desktop/CU_submission/chulacv2023/Lab9/student/test/data/Enterobius vermicularis_0852.jpg: 800x608 1 Enterobius vermicularis, 8.9ms\n",
            "Speed: 1.7ms preprocess, 8.9ms inference, 0.9ms postprocess per image at shape (1, 3, 800, 608)\n",
            "\n",
            "image 1/1 /home/andre/Desktop/CU_submission/chulacv2023/Lab9/student/test/data/Hymenolepis nana_0677.jpg: 480x800 1 Hymenolepis nana, 9.3ms\n",
            "Speed: 1.1ms preprocess, 9.3ms inference, 0.6ms postprocess per image at shape (1, 3, 480, 800)\n",
            "\n",
            "image 1/1 /home/andre/Desktop/CU_submission/chulacv2023/Lab9/student/test/data/Hymenolepis diminuta_0102.jpg: 800x608 1 Hymenolepis diminuta, 8.1ms\n",
            "Speed: 1.8ms preprocess, 8.1ms inference, 0.5ms postprocess per image at shape (1, 3, 800, 608)\n",
            "\n",
            "image 1/1 /home/andre/Desktop/CU_submission/chulacv2023/Lab9/student/test/data/Paragonimus spp_0102.jpg: 480x800 1 Paragonimus spp, 7.7ms\n",
            "Speed: 1.0ms preprocess, 7.7ms inference, 0.4ms postprocess per image at shape (1, 3, 480, 800)\n",
            "\n",
            "image 1/1 /home/andre/Desktop/CU_submission/chulacv2023/Lab9/student/test/data/Hymenolepis nana_0952.jpg: 800x608 1 Hymenolepis nana, 9.2ms\n",
            "Speed: 1.8ms preprocess, 9.2ms inference, 0.5ms postprocess per image at shape (1, 3, 800, 608)\n",
            "\n",
            "image 1/1 /home/andre/Desktop/CU_submission/chulacv2023/Lab9/student/test/data/Hymenolepis diminuta_0477.jpg: 480x800 1 Hymenolepis diminuta, 8.9ms\n",
            "Speed: 2.8ms preprocess, 8.9ms inference, 0.5ms postprocess per image at shape (1, 3, 480, 800)\n",
            "\n",
            "image 1/1 /home/andre/Desktop/CU_submission/chulacv2023/Lab9/student/test/data/Hymenolepis diminuta_0427.jpg: 480x800 1 Hymenolepis diminuta, 8.3ms\n",
            "Speed: 1.1ms preprocess, 8.3ms inference, 0.5ms postprocess per image at shape (1, 3, 480, 800)\n",
            "\n",
            "image 1/1 /home/andre/Desktop/CU_submission/chulacv2023/Lab9/student/test/data/Paragonimus spp_0127.jpg: 480x800 1 Paragonimus spp, 8.1ms\n",
            "Speed: 1.1ms preprocess, 8.1ms inference, 0.8ms postprocess per image at shape (1, 3, 480, 800)\n",
            "\n",
            "image 1/1 /home/andre/Desktop/CU_submission/chulacv2023/Lab9/student/test/data/Capillaria philippinensis_0002.jpg: 800x608 1 Enterobius vermicularis, 9.6ms\n",
            "Speed: 1.7ms preprocess, 9.6ms inference, 0.5ms postprocess per image at shape (1, 3, 800, 608)\n",
            "\n",
            "image 1/1 /home/andre/Desktop/CU_submission/chulacv2023/Lab9/student/test/data/Hymenolepis nana_0477.jpg: 800x608 1 Hymenolepis nana, 9.0ms\n",
            "Speed: 1.9ms preprocess, 9.0ms inference, 1.2ms postprocess per image at shape (1, 3, 800, 608)\n",
            "\n",
            "image 1/1 /home/andre/Desktop/CU_submission/chulacv2023/Lab9/student/test/data/Hymenolepis nana_0202.jpg: 608x800 1 Hymenolepis nana, 9.9ms\n",
            "Speed: 1.3ms preprocess, 9.9ms inference, 0.5ms postprocess per image at shape (1, 3, 608, 800)\n",
            "\n",
            "image 1/1 /home/andre/Desktop/CU_submission/chulacv2023/Lab9/student/test/data/Paragonimus spp_0177.jpg: 480x800 1 Paragonimus spp, 8.7ms\n",
            "Speed: 1.2ms preprocess, 8.7ms inference, 0.5ms postprocess per image at shape (1, 3, 480, 800)\n",
            "\n",
            "image 1/1 /home/andre/Desktop/CU_submission/chulacv2023/Lab9/student/test/data/Hymenolepis diminuta_0627.jpg: 800x608 1 Hymenolepis diminuta, 9.6ms\n",
            "Speed: 1.9ms preprocess, 9.6ms inference, 0.5ms postprocess per image at shape (1, 3, 800, 608)\n",
            "\n",
            "image 1/1 /home/andre/Desktop/CU_submission/chulacv2023/Lab9/student/test/data/Hymenolepis nana_0902.jpg: 800x608 1 Hymenolepis nana, 8.9ms\n",
            "Speed: 1.8ms preprocess, 8.9ms inference, 0.9ms postprocess per image at shape (1, 3, 800, 608)\n",
            "\n",
            "image 1/1 /home/andre/Desktop/CU_submission/chulacv2023/Lab9/student/test/data/Paragonimus spp_0402.jpg: 800x608 1 Paragonimus spp, 8.9ms\n",
            "Speed: 1.8ms preprocess, 8.9ms inference, 1.0ms postprocess per image at shape (1, 3, 800, 608)\n",
            "\n",
            "image 1/1 /home/andre/Desktop/CU_submission/chulacv2023/Lab9/student/test/data/Enterobius vermicularis_0777.jpg: 800x608 1 Enterobius vermicularis, 8.8ms\n",
            "Speed: 1.7ms preprocess, 8.8ms inference, 1.2ms postprocess per image at shape (1, 3, 800, 608)\n",
            "\n",
            "image 1/1 /home/andre/Desktop/CU_submission/chulacv2023/Lab9/student/test/data/Hymenolepis diminuta_0402.jpg: 480x800 1 Hymenolepis diminuta, 8.9ms\n",
            "Speed: 1.1ms preprocess, 8.9ms inference, 0.5ms postprocess per image at shape (1, 3, 480, 800)\n",
            "\n",
            "image 1/1 /home/andre/Desktop/CU_submission/chulacv2023/Lab9/student/test/data/Capillaria philippinensis_0427.jpg: 608x800 1 Capillaria philippinensis, 10.0ms\n",
            "Speed: 1.4ms preprocess, 10.0ms inference, 0.6ms postprocess per image at shape (1, 3, 608, 800)\n",
            "\n",
            "image 1/1 /home/andre/Desktop/CU_submission/chulacv2023/Lab9/student/test/data/Enterobius vermicularis_0627.jpg: 480x800 1 Enterobius vermicularis, 9.2ms\n",
            "Speed: 1.2ms preprocess, 9.2ms inference, 0.5ms postprocess per image at shape (1, 3, 480, 800)\n",
            "\n",
            "image 1/1 /home/andre/Desktop/CU_submission/chulacv2023/Lab9/student/test/data/Capillaria philippinensis_0727.jpg: 480x800 1 Capillaria philippinensis, 8.5ms\n",
            "Speed: 1.1ms preprocess, 8.5ms inference, 0.5ms postprocess per image at shape (1, 3, 480, 800)\n",
            "\n",
            "image 1/1 /home/andre/Desktop/CU_submission/chulacv2023/Lab9/student/test/data/Enterobius vermicularis_0727.jpg: 480x800 1 Enterobius vermicularis, 8.3ms\n",
            "Speed: 1.1ms preprocess, 8.3ms inference, 0.5ms postprocess per image at shape (1, 3, 480, 800)\n",
            "\n",
            "image 1/1 /home/andre/Desktop/CU_submission/chulacv2023/Lab9/student/test/data/Hymenolepis nana_0877.jpg: 800x608 1 Hymenolepis nana, 9.5ms\n",
            "Speed: 2.0ms preprocess, 9.5ms inference, 0.5ms postprocess per image at shape (1, 3, 800, 608)\n",
            "\n",
            "image 1/1 /home/andre/Desktop/CU_submission/chulacv2023/Lab9/student/test/data/Hymenolepis diminuta_0077.jpg: 800x608 1 Hymenolepis diminuta, 8.7ms\n",
            "Speed: 1.8ms preprocess, 8.7ms inference, 1.0ms postprocess per image at shape (1, 3, 800, 608)\n",
            "\n",
            "image 1/1 /home/andre/Desktop/CU_submission/chulacv2023/Lab9/student/test/data/Capillaria philippinensis_0527.jpg: 480x800 1 Capillaria philippinensis, 9.2ms\n",
            "Speed: 1.1ms preprocess, 9.2ms inference, 0.5ms postprocess per image at shape (1, 3, 480, 800)\n",
            "\n",
            "image 1/1 /home/andre/Desktop/CU_submission/chulacv2023/Lab9/student/test/data/Hymenolepis nana_0502.jpg: 800x608 1 Hymenolepis nana, 9.0ms\n",
            "Speed: 1.7ms preprocess, 9.0ms inference, 1.0ms postprocess per image at shape (1, 3, 800, 608)\n",
            "\n",
            "image 1/1 /home/andre/Desktop/CU_submission/chulacv2023/Lab9/student/test/data/Hymenolepis nana_0927.jpg: 800x608 1 Hymenolepis nana, 8.5ms\n",
            "Speed: 1.8ms preprocess, 8.5ms inference, 0.5ms postprocess per image at shape (1, 3, 800, 608)\n",
            "\n",
            "image 1/1 /home/andre/Desktop/CU_submission/chulacv2023/Lab9/student/test/data/Capillaria philippinensis_0702.jpg: 480x800 1 Capillaria philippinensis, 8.8ms\n",
            "Speed: 1.1ms preprocess, 8.8ms inference, 1.2ms postprocess per image at shape (1, 3, 480, 800)\n",
            "\n",
            "image 1/1 /home/andre/Desktop/CU_submission/chulacv2023/Lab9/student/test/data/Hymenolepis diminuta_0677.jpg: 800x608 1 Hymenolepis diminuta, 9.7ms\n",
            "Speed: 1.8ms preprocess, 9.7ms inference, 0.6ms postprocess per image at shape (1, 3, 800, 608)\n",
            "\n",
            "image 1/1 /home/andre/Desktop/CU_submission/chulacv2023/Lab9/student/test/data/Capillaria philippinensis_0277.jpg: 608x800 1 Capillaria philippinensis, 10.3ms\n",
            "Speed: 1.3ms preprocess, 10.3ms inference, 0.9ms postprocess per image at shape (1, 3, 608, 800)\n",
            "\n",
            "image 1/1 /home/andre/Desktop/CU_submission/chulacv2023/Lab9/student/test/data/Paragonimus spp_0252.jpg: 800x608 1 Paragonimus spp, 9.9ms\n",
            "Speed: 1.8ms preprocess, 9.9ms inference, 0.5ms postprocess per image at shape (1, 3, 800, 608)\n",
            "\n",
            "image 1/1 /home/andre/Desktop/CU_submission/chulacv2023/Lab9/student/test/data/Hymenolepis nana_0702.jpg: 480x800 1 Hymenolepis nana, 8.9ms\n",
            "Speed: 1.2ms preprocess, 8.9ms inference, 1.0ms postprocess per image at shape (1, 3, 480, 800)\n",
            "\n",
            "image 1/1 /home/andre/Desktop/CU_submission/chulacv2023/Lab9/student/test/data/Paragonimus spp_0902.jpg: 800x608 1 Paragonimus spp, 9.7ms\n",
            "Speed: 1.9ms preprocess, 9.7ms inference, 0.5ms postprocess per image at shape (1, 3, 800, 608)\n",
            "\n",
            "image 1/1 /home/andre/Desktop/CU_submission/chulacv2023/Lab9/student/test/data/Hymenolepis diminuta_0227.jpg: 800x608 1 Hymenolepis diminuta, 8.7ms\n",
            "Speed: 1.8ms preprocess, 8.7ms inference, 0.9ms postprocess per image at shape (1, 3, 800, 608)\n",
            "\n",
            "image 1/1 /home/andre/Desktop/CU_submission/chulacv2023/Lab9/student/test/data/Paragonimus spp_0602.jpg: 608x800 1 Paragonimus spp, 9.9ms\n",
            "Speed: 1.3ms preprocess, 9.9ms inference, 0.5ms postprocess per image at shape (1, 3, 608, 800)\n",
            "\n",
            "image 1/1 /home/andre/Desktop/CU_submission/chulacv2023/Lab9/student/test/data/Paragonimus spp_0002.jpg: 480x800 1 Paragonimus spp, 9.2ms\n",
            "Speed: 1.1ms preprocess, 9.2ms inference, 0.8ms postprocess per image at shape (1, 3, 480, 800)\n",
            "\n",
            "image 1/1 /home/andre/Desktop/CU_submission/chulacv2023/Lab9/student/test/data/Paragonimus spp_0327.jpg: 800x608 1 Paragonimus spp, 10.0ms\n",
            "Speed: 1.9ms preprocess, 10.0ms inference, 0.7ms postprocess per image at shape (1, 3, 800, 608)\n",
            "\n",
            "image 1/1 /home/andre/Desktop/CU_submission/chulacv2023/Lab9/student/test/data/Paragonimus spp_0152.jpg: 480x800 1 Paragonimus spp, 8.6ms\n",
            "Speed: 1.2ms preprocess, 8.6ms inference, 1.0ms postprocess per image at shape (1, 3, 480, 800)\n",
            "\n",
            "image 1/1 /home/andre/Desktop/CU_submission/chulacv2023/Lab9/student/test/data/Hymenolepis diminuta_0902.jpg: 608x800 1 Hymenolepis diminuta, 9.6ms\n",
            "Speed: 1.4ms preprocess, 9.6ms inference, 0.6ms postprocess per image at shape (1, 3, 608, 800)\n",
            "\n",
            "image 1/1 /home/andre/Desktop/CU_submission/chulacv2023/Lab9/student/test/data/Hymenolepis nana_0727.jpg: 480x800 1 Hymenolepis nana, 9.3ms\n",
            "Speed: 1.2ms preprocess, 9.3ms inference, 0.5ms postprocess per image at shape (1, 3, 480, 800)\n",
            "\n",
            "image 1/1 /home/andre/Desktop/CU_submission/chulacv2023/Lab9/student/test/data/Capillaria philippinensis_0752.jpg: 800x608 1 Capillaria philippinensis, 9.7ms\n",
            "Speed: 1.9ms preprocess, 9.7ms inference, 0.5ms postprocess per image at shape (1, 3, 800, 608)\n",
            "\n",
            "image 1/1 /home/andre/Desktop/CU_submission/chulacv2023/Lab9/student/test/data/Hymenolepis diminuta_0877.jpg: 608x800 1 Hymenolepis diminuta, 10.2ms\n",
            "Speed: 1.3ms preprocess, 10.2ms inference, 0.8ms postprocess per image at shape (1, 3, 608, 800)\n",
            "\n",
            "image 1/1 /home/andre/Desktop/CU_submission/chulacv2023/Lab9/student/test/data/Capillaria philippinensis_0827.jpg: 800x608 1 Capillaria philippinensis, 9.6ms\n",
            "Speed: 1.8ms preprocess, 9.6ms inference, 0.6ms postprocess per image at shape (1, 3, 800, 608)\n",
            "\n",
            "image 1/1 /home/andre/Desktop/CU_submission/chulacv2023/Lab9/student/test/data/Capillaria philippinensis_0127.jpg: 800x608 1 Capillaria philippinensis, 8.7ms\n",
            "Speed: 1.8ms preprocess, 8.7ms inference, 1.0ms postprocess per image at shape (1, 3, 800, 608)\n",
            "\n",
            "image 1/1 /home/andre/Desktop/CU_submission/chulacv2023/Lab9/student/test/data/Enterobius vermicularis_0577.jpg: 480x800 1 Enterobius vermicularis, 8.8ms\n",
            "Speed: 1.1ms preprocess, 8.8ms inference, 0.5ms postprocess per image at shape (1, 3, 480, 800)\n",
            "\n",
            "image 1/1 /home/andre/Desktop/CU_submission/chulacv2023/Lab9/student/test/data/Paragonimus spp_0477.jpg: 800x608 1 Paragonimus spp, 9.4ms\n",
            "Speed: 1.8ms preprocess, 9.4ms inference, 0.6ms postprocess per image at shape (1, 3, 800, 608)\n",
            "\n",
            "image 1/1 /home/andre/Desktop/CU_submission/chulacv2023/Lab9/student/test/data/Hymenolepis nana_0252.jpg: 800x608 1 Hymenolepis nana, 8.7ms\n",
            "Speed: 3.1ms preprocess, 8.7ms inference, 0.8ms postprocess per image at shape (1, 3, 800, 608)\n",
            "\n",
            "image 1/1 /home/andre/Desktop/CU_submission/chulacv2023/Lab9/student/test/data/Hymenolepis diminuta_0502.jpg: 480x800 1 Hymenolepis diminuta, 8.5ms\n",
            "Speed: 1.1ms preprocess, 8.5ms inference, 0.5ms postprocess per image at shape (1, 3, 480, 800)\n",
            "\n",
            "image 1/1 /home/andre/Desktop/CU_submission/chulacv2023/Lab9/student/test/data/Capillaria philippinensis_0677.jpg: 480x800 1 Capillaria philippinensis, 7.9ms\n",
            "Speed: 1.1ms preprocess, 7.9ms inference, 0.5ms postprocess per image at shape (1, 3, 480, 800)\n",
            "\n",
            "image 1/1 /home/andre/Desktop/CU_submission/chulacv2023/Lab9/student/test/data/Capillaria philippinensis_0552.jpg: 480x800 1 Capillaria philippinensis, 8.2ms\n",
            "Speed: 1.2ms preprocess, 8.2ms inference, 1.0ms postprocess per image at shape (1, 3, 480, 800)\n",
            "\n",
            "image 1/1 /home/andre/Desktop/CU_submission/chulacv2023/Lab9/student/test/data/Hymenolepis nana_0102.jpg: 608x800 1 Hymenolepis nana, 9.6ms\n",
            "Speed: 1.5ms preprocess, 9.6ms inference, 0.5ms postprocess per image at shape (1, 3, 608, 800)\n",
            "\n",
            "image 1/1 /home/andre/Desktop/CU_submission/chulacv2023/Lab9/student/test/data/Enterobius vermicularis_0977.jpg: 800x608 1 Enterobius vermicularis, 9.3ms\n",
            "Speed: 1.8ms preprocess, 9.3ms inference, 0.5ms postprocess per image at shape (1, 3, 800, 608)\n",
            "\n",
            "image 1/1 /home/andre/Desktop/CU_submission/chulacv2023/Lab9/student/test/data/Hymenolepis diminuta_0527.jpg: 800x608 1 Hymenolepis diminuta, 8.5ms\n",
            "Speed: 1.7ms preprocess, 8.5ms inference, 0.5ms postprocess per image at shape (1, 3, 800, 608)\n",
            "\n",
            "image 1/1 /home/andre/Desktop/CU_submission/chulacv2023/Lab9/student/test/data/Paragonimus spp_0777.jpg: 800x608 1 Paragonimus spp, 8.5ms\n",
            "Speed: 1.7ms preprocess, 8.5ms inference, 0.8ms postprocess per image at shape (1, 3, 800, 608)\n",
            "\n",
            "image 1/1 /home/andre/Desktop/CU_submission/chulacv2023/Lab9/student/test/data/Hymenolepis nana_0527.jpg: 480x800 1 Hymenolepis nana, 9.0ms\n",
            "Speed: 1.2ms preprocess, 9.0ms inference, 0.5ms postprocess per image at shape (1, 3, 480, 800)\n",
            "\n",
            "image 1/1 /home/andre/Desktop/CU_submission/chulacv2023/Lab9/student/test/data/Hymenolepis nana_0377.jpg: 800x608 1 Hymenolepis nana, 9.0ms\n",
            "Speed: 1.7ms preprocess, 9.0ms inference, 0.5ms postprocess per image at shape (1, 3, 800, 608)\n",
            "\n",
            "image 1/1 /home/andre/Desktop/CU_submission/chulacv2023/Lab9/student/test/data/Hymenolepis diminuta_0352.jpg: 480x800 1 Hymenolepis diminuta, 8.3ms\n",
            "Speed: 1.1ms preprocess, 8.3ms inference, 0.5ms postprocess per image at shape (1, 3, 480, 800)\n",
            "\n",
            "image 1/1 /home/andre/Desktop/CU_submission/chulacv2023/Lab9/student/test/data/Capillaria philippinensis_0102.jpg: 800x608 1 Capillaria philippinensis, 9.2ms\n",
            "Speed: 1.7ms preprocess, 9.2ms inference, 0.5ms postprocess per image at shape (1, 3, 800, 608)\n",
            "\n",
            "image 1/1 /home/andre/Desktop/CU_submission/chulacv2023/Lab9/student/test/data/Enterobius vermicularis_0227.jpg: 608x800 1 Enterobius vermicularis, 9.8ms\n",
            "Speed: 1.4ms preprocess, 9.8ms inference, 0.5ms postprocess per image at shape (1, 3, 608, 800)\n",
            "\n",
            "image 1/1 /home/andre/Desktop/CU_submission/chulacv2023/Lab9/student/test/data/Paragonimus spp_0627.jpg: 608x800 1 Paragonimus spp, 8.9ms\n",
            "Speed: 1.4ms preprocess, 8.9ms inference, 0.9ms postprocess per image at shape (1, 3, 608, 800)\n",
            "\n",
            "image 1/1 /home/andre/Desktop/CU_submission/chulacv2023/Lab9/student/test/data/Paragonimus spp_0202.jpg: 480x800 1 Paragonimus spp, 9.1ms\n",
            "Speed: 1.2ms preprocess, 9.1ms inference, 0.5ms postprocess per image at shape (1, 3, 480, 800)\n",
            "\n",
            "image 1/1 /home/andre/Desktop/CU_submission/chulacv2023/Lab9/student/test/data/Capillaria philippinensis_0027.jpg: 800x608 1 Capillaria philippinensis, 9.2ms\n",
            "Speed: 1.6ms preprocess, 9.2ms inference, 0.6ms postprocess per image at shape (1, 3, 800, 608)\n",
            "\n",
            "image 1/1 /home/andre/Desktop/CU_submission/chulacv2023/Lab9/student/test/data/Hymenolepis diminuta_0027.jpg: 800x608 1 Hymenolepis diminuta, 7.5ms\n",
            "Speed: 1.7ms preprocess, 7.5ms inference, 0.5ms postprocess per image at shape (1, 3, 800, 608)\n",
            "\n",
            "image 1/1 /home/andre/Desktop/CU_submission/chulacv2023/Lab9/student/test/data/Capillaria philippinensis_0052.jpg: 800x608 1 Capillaria philippinensis, 8.3ms\n",
            "Speed: 1.7ms preprocess, 8.3ms inference, 0.5ms postprocess per image at shape (1, 3, 800, 608)\n",
            "\n",
            "image 1/1 /home/andre/Desktop/CU_submission/chulacv2023/Lab9/student/test/data/Capillaria philippinensis_0402.jpg: 608x800 1 Capillaria philippinensis, 9.0ms\n",
            "Speed: 1.3ms preprocess, 9.0ms inference, 0.9ms postprocess per image at shape (1, 3, 608, 800)\n",
            "\n",
            "image 1/1 /home/andre/Desktop/CU_submission/chulacv2023/Lab9/student/test/data/Hymenolepis nana_0052.jpg: 608x800 1 Hymenolepis nana, 8.7ms\n",
            "Speed: 1.3ms preprocess, 8.7ms inference, 0.9ms postprocess per image at shape (1, 3, 608, 800)\n",
            "\n",
            "image 1/1 /home/andre/Desktop/CU_submission/chulacv2023/Lab9/student/test/data/Hymenolepis diminuta_0727.jpg: 800x608 1 Hymenolepis diminuta, 9.2ms\n",
            "Speed: 1.8ms preprocess, 9.2ms inference, 0.8ms postprocess per image at shape (1, 3, 800, 608)\n",
            "\n",
            "image 1/1 /home/andre/Desktop/CU_submission/chulacv2023/Lab9/student/test/data/Capillaria philippinensis_0252.jpg: 608x800 1 Capillaria philippinensis, 9.8ms\n",
            "Speed: 1.2ms preprocess, 9.8ms inference, 0.5ms postprocess per image at shape (1, 3, 608, 800)\n",
            "\n",
            "image 1/1 /home/andre/Desktop/CU_submission/chulacv2023/Lab9/student/test/data/Capillaria philippinensis_0652.jpg: 480x800 1 Capillaria philippinensis, 8.8ms\n",
            "Speed: 1.1ms preprocess, 8.8ms inference, 0.5ms postprocess per image at shape (1, 3, 480, 800)\n",
            "\n",
            "image 1/1 /home/andre/Desktop/CU_submission/chulacv2023/Lab9/student/test/data/Enterobius vermicularis_0002.jpg: 608x800 1 Enterobius vermicularis, 9.7ms\n",
            "Speed: 1.4ms preprocess, 9.7ms inference, 0.5ms postprocess per image at shape (1, 3, 608, 800)\n",
            "\n",
            "image 1/1 /home/andre/Desktop/CU_submission/chulacv2023/Lab9/student/test/data/Hymenolepis diminuta_0952.jpg: 608x800 1 Hymenolepis diminuta, 8.9ms\n",
            "Speed: 1.3ms preprocess, 8.9ms inference, 0.8ms postprocess per image at shape (1, 3, 608, 800)\n",
            "\n",
            "image 1/1 /home/andre/Desktop/CU_submission/chulacv2023/Lab9/student/test/data/Enterobius vermicularis_0052.jpg: 608x800 1 Enterobius vermicularis, 8.7ms\n",
            "Speed: 1.3ms preprocess, 8.7ms inference, 0.9ms postprocess per image at shape (1, 3, 608, 800)\n",
            "\n",
            "image 1/1 /home/andre/Desktop/CU_submission/chulacv2023/Lab9/student/test/data/Hymenolepis diminuta_0302.jpg: 480x800 1 Hymenolepis diminuta, 8.8ms\n",
            "Speed: 1.1ms preprocess, 8.8ms inference, 0.5ms postprocess per image at shape (1, 3, 480, 800)\n",
            "\n",
            "image 1/1 /home/andre/Desktop/CU_submission/chulacv2023/Lab9/student/test/data/Hymenolepis nana_0327.jpg: 800x608 1 Hymenolepis nana, 9.2ms\n",
            "Speed: 1.7ms preprocess, 9.2ms inference, 0.5ms postprocess per image at shape (1, 3, 800, 608)\n",
            "\n",
            "image 1/1 /home/andre/Desktop/CU_submission/chulacv2023/Lab9/student/test/data/Paragonimus spp_0977.jpg: 800x608 1 Paragonimus spp, 8.5ms\n",
            "Speed: 1.8ms preprocess, 8.5ms inference, 0.8ms postprocess per image at shape (1, 3, 800, 608)\n",
            "\n",
            "image 1/1 /home/andre/Desktop/CU_submission/chulacv2023/Lab9/student/test/data/Enterobius vermicularis_0527.jpg: 480x800 1 Enterobius vermicularis, 8.5ms\n",
            "Speed: 1.1ms preprocess, 8.5ms inference, 0.5ms postprocess per image at shape (1, 3, 480, 800)\n",
            "\n",
            "image 1/1 /home/andre/Desktop/CU_submission/chulacv2023/Lab9/student/test/data/Hymenolepis nana_0777.jpg: 800x608 1 Hymenolepis nana, 9.3ms\n",
            "Speed: 1.7ms preprocess, 9.3ms inference, 0.5ms postprocess per image at shape (1, 3, 800, 608)\n",
            "\n",
            "image 1/1 /home/andre/Desktop/CU_submission/chulacv2023/Lab9/student/test/data/Capillaria philippinensis_0502.jpg: 480x800 1 Capillaria philippinensis, 8.9ms\n",
            "Speed: 1.1ms preprocess, 8.9ms inference, 0.6ms postprocess per image at shape (1, 3, 480, 800)\n",
            "\n",
            "image 1/1 /home/andre/Desktop/CU_submission/chulacv2023/Lab9/student/test/data/Enterobius vermicularis_0152.jpg: 608x800 1 Enterobius vermicularis, 9.6ms\n",
            "Speed: 1.3ms preprocess, 9.6ms inference, 0.5ms postprocess per image at shape (1, 3, 608, 800)\n",
            "\n",
            "image 1/1 /home/andre/Desktop/CU_submission/chulacv2023/Lab9/student/test/data/Enterobius vermicularis_0802.jpg: 800x608 1 Enterobius vermicularis, 9.3ms\n",
            "Speed: 1.7ms preprocess, 9.3ms inference, 0.5ms postprocess per image at shape (1, 3, 800, 608)\n",
            "\n",
            "image 1/1 /home/andre/Desktop/CU_submission/chulacv2023/Lab9/student/test/data/Enterobius vermicularis_0477.jpg: 800x608 1 Enterobius vermicularis, 8.5ms\n",
            "Speed: 1.7ms preprocess, 8.5ms inference, 0.8ms postprocess per image at shape (1, 3, 800, 608)\n",
            "\n",
            "image 1/1 /home/andre/Desktop/CU_submission/chulacv2023/Lab9/student/test/data/Enterobius vermicularis_0602.jpg: 480x800 1 Enterobius vermicularis, 8.4ms\n",
            "Speed: 1.2ms preprocess, 8.4ms inference, 0.5ms postprocess per image at shape (1, 3, 480, 800)\n",
            "\n",
            "image 1/1 /home/andre/Desktop/CU_submission/chulacv2023/Lab9/student/test/data/Paragonimus spp_0752.jpg: 608x800 1 Paragonimus spp, 9.6ms\n",
            "Speed: 1.4ms preprocess, 9.6ms inference, 0.5ms postprocess per image at shape (1, 3, 608, 800)\n",
            "\n",
            "image 1/1 /home/andre/Desktop/CU_submission/chulacv2023/Lab9/student/test/data/Paragonimus spp_0427.jpg: 800x608 1 Paragonimus spp, 8.5ms\n",
            "Speed: 1.8ms preprocess, 8.5ms inference, 0.5ms postprocess per image at shape (1, 3, 800, 608)\n",
            "\n",
            "image 1/1 /home/andre/Desktop/CU_submission/chulacv2023/Lab9/student/test/data/Paragonimus spp_0452.jpg: 800x608 1 Paragonimus spp, 8.1ms\n",
            "Speed: 1.8ms preprocess, 8.1ms inference, 0.5ms postprocess per image at shape (1, 3, 800, 608)\n",
            "\n",
            "image 1/1 /home/andre/Desktop/CU_submission/chulacv2023/Lab9/student/test/data/Capillaria philippinensis_0577.jpg: 480x800 1 Capillaria philippinensis, 8.8ms\n",
            "Speed: 1.1ms preprocess, 8.8ms inference, 0.5ms postprocess per image at shape (1, 3, 480, 800)\n",
            "\n",
            "image 1/1 /home/andre/Desktop/CU_submission/chulacv2023/Lab9/student/test/data/Hymenolepis diminuta_0552.jpg: 800x608 1 Hymenolepis diminuta, 9.2ms\n",
            "Speed: 1.7ms preprocess, 9.2ms inference, 0.5ms postprocess per image at shape (1, 3, 800, 608)\n",
            "\n",
            "image 1/1 /home/andre/Desktop/CU_submission/chulacv2023/Lab9/student/test/data/Enterobius vermicularis_0452.jpg: 800x608 1 Enterobius vermicularis, 8.4ms\n",
            "Speed: 1.6ms preprocess, 8.4ms inference, 0.9ms postprocess per image at shape (1, 3, 800, 608)\n",
            "\n",
            "image 1/1 /home/andre/Desktop/CU_submission/chulacv2023/Lab9/student/test/data/Enterobius vermicularis_0877.jpg: 800x608 1 Enterobius vermicularis, 8.6ms\n",
            "Speed: 1.9ms preprocess, 8.6ms inference, 0.8ms postprocess per image at shape (1, 3, 800, 608)\n",
            "\n",
            "image 1/1 /home/andre/Desktop/CU_submission/chulacv2023/Lab9/student/test/data/Capillaria philippinensis_0802.jpg: 800x608 1 Capillaria philippinensis, 8.6ms\n",
            "Speed: 1.7ms preprocess, 8.6ms inference, 0.9ms postprocess per image at shape (1, 3, 800, 608)\n",
            "\n",
            "image 1/1 /home/andre/Desktop/CU_submission/chulacv2023/Lab9/student/test/data/Hymenolepis diminuta_0827.jpg: 608x800 1 Hymenolepis diminuta, 9.0ms\n",
            "Speed: 1.3ms preprocess, 9.0ms inference, 0.8ms postprocess per image at shape (1, 3, 608, 800)\n",
            "\n",
            "image 1/1 /home/andre/Desktop/CU_submission/chulacv2023/Lab9/student/test/data/Enterobius vermicularis_0077.jpg: 608x800 1 Enterobius vermicularis, 8.8ms\n",
            "Speed: 1.4ms preprocess, 8.8ms inference, 0.5ms postprocess per image at shape (1, 3, 608, 800)\n",
            "\n",
            "image 1/1 /home/andre/Desktop/CU_submission/chulacv2023/Lab9/student/test/data/Hymenolepis nana_0977.jpg: 800x608 1 Hymenolepis nana, 9.2ms\n",
            "Speed: 1.8ms preprocess, 9.2ms inference, 0.5ms postprocess per image at shape (1, 3, 800, 608)\n",
            "\n",
            "image 1/1 /home/andre/Desktop/CU_submission/chulacv2023/Lab9/student/test/data/Enterobius vermicularis_0202.jpg: 608x800 1 Enterobius vermicularis, 8.0ms\n",
            "Speed: 1.3ms preprocess, 8.0ms inference, 0.5ms postprocess per image at shape (1, 3, 608, 800)\n",
            "\n",
            "image 1/1 /home/andre/Desktop/CU_submission/chulacv2023/Lab9/student/test/data/Capillaria philippinensis_0452.jpg: 608x800 1 Capillaria philippinensis, 7.7ms\n",
            "Speed: 1.3ms preprocess, 7.7ms inference, 0.5ms postprocess per image at shape (1, 3, 608, 800)\n",
            "\n",
            "image 1/1 /home/andre/Desktop/CU_submission/chulacv2023/Lab9/student/test/data/Paragonimus spp_0802.jpg: 800x608 1 Paragonimus spp, 9.1ms\n",
            "Speed: 1.8ms preprocess, 9.1ms inference, 0.5ms postprocess per image at shape (1, 3, 800, 608)\n",
            "\n",
            "image 1/1 /home/andre/Desktop/CU_submission/chulacv2023/Lab9/student/test/data/Enterobius vermicularis_0402.jpg: 800x608 1 Enterobius vermicularis, 8.5ms\n",
            "Speed: 1.8ms preprocess, 8.5ms inference, 0.8ms postprocess per image at shape (1, 3, 800, 608)\n",
            "\n",
            "image 1/1 /home/andre/Desktop/CU_submission/chulacv2023/Lab9/student/test/data/Paragonimus spp_0652.jpg: 608x800 1 Paragonimus spp, 9.2ms\n",
            "Speed: 1.4ms preprocess, 9.2ms inference, 0.5ms postprocess per image at shape (1, 3, 608, 800)\n",
            "\n",
            "image 1/1 /home/andre/Desktop/CU_submission/chulacv2023/Lab9/student/test/data/Paragonimus spp_0352.jpg: 800x608 1 Paragonimus spp, 10.6ms\n",
            "Speed: 1.8ms preprocess, 10.6ms inference, 0.6ms postprocess per image at shape (1, 3, 800, 608)\n",
            "\n",
            "image 1/1 /home/andre/Desktop/CU_submission/chulacv2023/Lab9/student/test/data/Hymenolepis diminuta_0152.jpg: 800x608 1 Hymenolepis diminuta, 8.5ms\n",
            "Speed: 1.8ms preprocess, 8.5ms inference, 0.5ms postprocess per image at shape (1, 3, 800, 608)\n",
            "\n",
            "image 1/1 /home/andre/Desktop/CU_submission/chulacv2023/Lab9/student/test/data/Hymenolepis nana_0427.jpg: 800x608 1 Hymenolepis nana, 8.5ms\n",
            "Speed: 1.7ms preprocess, 8.5ms inference, 0.8ms postprocess per image at shape (1, 3, 800, 608)\n",
            "\n",
            "image 1/1 /home/andre/Desktop/CU_submission/chulacv2023/Lab9/student/test/data/Enterobius vermicularis_0102.jpg: 608x800 1 Enterobius vermicularis, 9.2ms\n",
            "Speed: 1.3ms preprocess, 9.2ms inference, 0.5ms postprocess per image at shape (1, 3, 608, 800)\n",
            "\n",
            "image 1/1 /home/andre/Desktop/CU_submission/chulacv2023/Lab9/student/test/data/Enterobius vermicularis_0927.jpg: 800x608 1 Enterobius vermicularis, 9.2ms\n",
            "Speed: 1.8ms preprocess, 9.2ms inference, 0.5ms postprocess per image at shape (1, 3, 800, 608)\n",
            "\n",
            "image 1/1 /home/andre/Desktop/CU_submission/chulacv2023/Lab9/student/test/data/Hymenolepis nana_0452.jpg: 800x608 1 Hymenolepis nana, 8.4ms\n",
            "Speed: 1.9ms preprocess, 8.4ms inference, 0.8ms postprocess per image at shape (1, 3, 800, 608)\n",
            "\n",
            "image 1/1 /home/andre/Desktop/CU_submission/chulacv2023/Lab9/student/test/data/Paragonimus spp_0952.jpg: 800x608 1 Paragonimus spp, 9.7ms\n",
            "Speed: 1.8ms preprocess, 9.7ms inference, 1.0ms postprocess per image at shape (1, 3, 800, 608)\n",
            "\n",
            "image 1/1 /home/andre/Desktop/CU_submission/chulacv2023/Lab9/student/test/data/Capillaria philippinensis_0877.jpg: 800x608 1 Capillaria philippinensis, 8.1ms\n",
            "Speed: 1.7ms preprocess, 8.1ms inference, 0.8ms postprocess per image at shape (1, 3, 800, 608)\n",
            "\n",
            "image 1/1 /home/andre/Desktop/CU_submission/chulacv2023/Lab9/student/test/data/Capillaria philippinensis_0902.jpg: 800x608 1 Capillaria philippinensis, 8.5ms\n",
            "Speed: 1.7ms preprocess, 8.5ms inference, 0.5ms postprocess per image at shape (1, 3, 800, 608)\n",
            "\n",
            "image 1/1 /home/andre/Desktop/CU_submission/chulacv2023/Lab9/student/test/data/Enterobius vermicularis_0652.jpg: 480x800 1 Enterobius vermicularis, 8.2ms\n",
            "Speed: 1.1ms preprocess, 8.2ms inference, 0.5ms postprocess per image at shape (1, 3, 480, 800)\n",
            "\n",
            "image 1/1 /home/andre/Desktop/CU_submission/chulacv2023/Lab9/student/test/data/Hymenolepis nana_0852.jpg: 800x608 1 Hymenolepis nana, 9.3ms\n",
            "Speed: 1.7ms preprocess, 9.3ms inference, 0.5ms postprocess per image at shape (1, 3, 800, 608)\n",
            "\n",
            "image 1/1 /home/andre/Desktop/CU_submission/chulacv2023/Lab9/student/test/data/Hymenolepis diminuta_0602.jpg: 800x608 1 Hymenolepis diminuta, 8.3ms\n",
            "Speed: 1.8ms preprocess, 8.3ms inference, 0.9ms postprocess per image at shape (1, 3, 800, 608)\n",
            "\n",
            "image 1/1 /home/andre/Desktop/CU_submission/chulacv2023/Lab9/student/test/data/Paragonimus spp_0077.jpg: 480x800 1 Paragonimus spp, 8.8ms\n",
            "Speed: 1.1ms preprocess, 8.8ms inference, 0.5ms postprocess per image at shape (1, 3, 480, 800)\n",
            "\n",
            "image 1/1 /home/andre/Desktop/CU_submission/chulacv2023/Lab9/student/test/data/Hymenolepis nana_0077.jpg: 608x800 1 Hymenolepis nana, 9.7ms\n",
            "Speed: 1.4ms preprocess, 9.7ms inference, 0.5ms postprocess per image at shape (1, 3, 608, 800)\n",
            "\n",
            "image 1/1 /home/andre/Desktop/CU_submission/chulacv2023/Lab9/student/test/data/Enterobius vermicularis_0902.jpg: 800x608 1 Enterobius vermicularis, 9.5ms\n",
            "Speed: 1.7ms preprocess, 9.5ms inference, 0.5ms postprocess per image at shape (1, 3, 800, 608)\n",
            "\n",
            "image 1/1 /home/andre/Desktop/CU_submission/chulacv2023/Lab9/student/test/data/Hymenolepis nana_0552.jpg: 480x800 1 Hymenolepis nana, 8.9ms\n",
            "Speed: 1.2ms preprocess, 8.9ms inference, 0.5ms postprocess per image at shape (1, 3, 480, 800)\n",
            "\n",
            "image 1/1 /home/andre/Desktop/CU_submission/chulacv2023/Lab9/student/test/data/Capillaria philippinensis_0627.jpg: 480x800 1 Capillaria philippinensis, 8.1ms\n",
            "Speed: 1.1ms preprocess, 8.1ms inference, 0.8ms postprocess per image at shape (1, 3, 480, 800)\n",
            "\n",
            "image 1/1 /home/andre/Desktop/CU_submission/chulacv2023/Lab9/student/test/data/Enterobius vermicularis_0027.jpg: 608x800 1 Enterobius vermicularis, 9.2ms\n",
            "Speed: 1.3ms preprocess, 9.2ms inference, 0.7ms postprocess per image at shape (1, 3, 608, 800)\n",
            "\n",
            "image 1/1 /home/andre/Desktop/CU_submission/chulacv2023/Lab9/student/test/data/Enterobius vermicularis_0952.jpg: 800x608 1 Enterobius vermicularis, 8.8ms\n",
            "Speed: 1.6ms preprocess, 8.8ms inference, 0.5ms postprocess per image at shape (1, 3, 800, 608)\n",
            "\n",
            "image 1/1 /home/andre/Desktop/CU_submission/chulacv2023/Lab9/student/test/data/Capillaria philippinensis_0302.jpg: 608x800 1 Capillaria philippinensis, 8.7ms\n",
            "Speed: 1.2ms preprocess, 8.7ms inference, 0.5ms postprocess per image at shape (1, 3, 608, 800)\n",
            "\n",
            "image 1/1 /home/andre/Desktop/CU_submission/chulacv2023/Lab9/student/test/data/Hymenolepis diminuta_0652.jpg: 800x608 1 Hymenolepis diminuta, 9.1ms\n",
            "Speed: 1.7ms preprocess, 9.1ms inference, 0.8ms postprocess per image at shape (1, 3, 800, 608)\n",
            "\n",
            "image 1/1 /home/andre/Desktop/CU_submission/chulacv2023/Lab9/student/test/data/Hymenolepis nana_0027.jpg: 608x800 1 Hymenolepis nana, 8.9ms\n",
            "Speed: 1.2ms preprocess, 8.9ms inference, 0.9ms postprocess per image at shape (1, 3, 608, 800)\n",
            "\n",
            "image 1/1 /home/andre/Desktop/CU_submission/chulacv2023/Lab9/student/test/data/Enterobius vermicularis_0827.jpg: 800x608 1 Enterobius vermicularis, 8.6ms\n",
            "Speed: 1.7ms preprocess, 8.6ms inference, 0.5ms postprocess per image at shape (1, 3, 800, 608)\n",
            "\n",
            "image 1/1 /home/andre/Desktop/CU_submission/chulacv2023/Lab9/student/test/data/Paragonimus spp_0852.jpg: 800x608 1 Paragonimus spp, 8.7ms\n",
            "Speed: 1.8ms preprocess, 8.7ms inference, 1.0ms postprocess per image at shape (1, 3, 800, 608)\n",
            "\n",
            "image 1/1 /home/andre/Desktop/CU_submission/chulacv2023/Lab9/student/test/data/Paragonimus spp_0052.jpg: 480x800 1 Paragonimus spp, 8.6ms\n",
            "Speed: 1.2ms preprocess, 8.6ms inference, 0.5ms postprocess per image at shape (1, 3, 480, 800)\n",
            "\n",
            "image 1/1 /home/andre/Desktop/CU_submission/chulacv2023/Lab9/student/test/data/Paragonimus spp_0877.jpg: 800x608 1 Paragonimus spp, 9.6ms\n",
            "Speed: 1.8ms preprocess, 9.6ms inference, 1.1ms postprocess per image at shape (1, 3, 800, 608)\n",
            "\n",
            "image 1/1 /home/andre/Desktop/CU_submission/chulacv2023/Lab9/student/test/data/Hymenolepis nana_0627.jpg: 480x800 1 Hymenolepis nana, 8.5ms\n",
            "Speed: 1.1ms preprocess, 8.5ms inference, 0.5ms postprocess per image at shape (1, 3, 480, 800)\n",
            "\n",
            "image 1/1 /home/andre/Desktop/CU_submission/chulacv2023/Lab9/student/test/data/Hymenolepis diminuta_0002.jpg: 800x608 1 Hymenolepis diminuta, 10.1ms\n",
            "Speed: 1.8ms preprocess, 10.1ms inference, 0.8ms postprocess per image at shape (1, 3, 800, 608)\n",
            "\n",
            "image 1/1 /home/andre/Desktop/CU_submission/chulacv2023/Lab9/student/test/data/Hymenolepis diminuta_0702.jpg: 800x608 1 Hymenolepis diminuta, 9.1ms\n",
            "Speed: 1.7ms preprocess, 9.1ms inference, 1.0ms postprocess per image at shape (1, 3, 800, 608)\n",
            "\n",
            "image 1/1 /home/andre/Desktop/CU_submission/chulacv2023/Lab9/student/test/data/Paragonimus spp_0827.jpg: 800x608 1 Paragonimus spp, 8.7ms\n",
            "Speed: 1.7ms preprocess, 8.7ms inference, 2.2ms postprocess per image at shape (1, 3, 800, 608)\n",
            "\n",
            "image 1/1 /home/andre/Desktop/CU_submission/chulacv2023/Lab9/student/test/data/Hymenolepis diminuta_0177.jpg: 800x608 1 Hymenolepis diminuta, 9.3ms\n",
            "Speed: 1.7ms preprocess, 9.3ms inference, 0.9ms postprocess per image at shape (1, 3, 800, 608)\n",
            "\n",
            "image 1/1 /home/andre/Desktop/CU_submission/chulacv2023/Lab9/student/test/data/Hymenolepis nana_0802.jpg: 800x608 1 Hymenolepis nana, 9.3ms\n",
            "Speed: 1.7ms preprocess, 9.3ms inference, 1.1ms postprocess per image at shape (1, 3, 800, 608)\n",
            "\n",
            "image 1/1 /home/andre/Desktop/CU_submission/chulacv2023/Lab9/student/test/data/Hymenolepis diminuta_0252.jpg: 800x608 1 Hymenolepis diminuta, 9.5ms\n",
            "Speed: 1.9ms preprocess, 9.5ms inference, 0.9ms postprocess per image at shape (1, 3, 800, 608)\n",
            "\n",
            "image 1/1 /home/andre/Desktop/CU_submission/chulacv2023/Lab9/student/test/data/Hymenolepis diminuta_0977.jpg: 608x800 1 Hymenolepis diminuta, 10.4ms\n",
            "Speed: 1.6ms preprocess, 10.4ms inference, 0.6ms postprocess per image at shape (1, 3, 608, 800)\n",
            "\n",
            "image 1/1 /home/andre/Desktop/CU_submission/chulacv2023/Lab9/student/test/data/Enterobius vermicularis_0752.jpg: 800x608 1 Enterobius vermicularis, 10.2ms\n",
            "Speed: 1.7ms preprocess, 10.2ms inference, 0.9ms postprocess per image at shape (1, 3, 800, 608)\n",
            "\n",
            "image 1/1 /home/andre/Desktop/CU_submission/chulacv2023/Lab9/student/test/data/Hymenolepis diminuta_0452.jpg: 480x800 1 Hymenolepis diminuta, 10.1ms\n",
            "Speed: 1.2ms preprocess, 10.1ms inference, 0.5ms postprocess per image at shape (1, 3, 480, 800)\n",
            "\n",
            "image 1/1 /home/andre/Desktop/CU_submission/chulacv2023/Lab9/student/test/data/Enterobius vermicularis_0502.jpg: 480x800 1 Enterobius vermicularis, 8.9ms\n",
            "Speed: 1.2ms preprocess, 8.9ms inference, 1.1ms postprocess per image at shape (1, 3, 480, 800)\n",
            "\n",
            "image 1/1 /home/andre/Desktop/CU_submission/chulacv2023/Lab9/student/test/data/Capillaria philippinensis_0927.jpg: 800x608 1 Capillaria philippinensis, 10.2ms\n",
            "Speed: 1.7ms preprocess, 10.2ms inference, 0.9ms postprocess per image at shape (1, 3, 800, 608)\n",
            "\n",
            "image 1/1 /home/andre/Desktop/CU_submission/chulacv2023/Lab9/student/test/data/Paragonimus spp_0502.jpg: 608x800 1 Paragonimus spp, 10.0ms\n",
            "Speed: 1.5ms preprocess, 10.0ms inference, 0.5ms postprocess per image at shape (1, 3, 608, 800)\n",
            "\n",
            "image 1/1 /home/andre/Desktop/CU_submission/chulacv2023/Lab9/student/test/data/Enterobius vermicularis_0302.jpg: 800x608 1 Enterobius vermicularis, 10.5ms\n",
            "Speed: 1.7ms preprocess, 10.5ms inference, 0.5ms postprocess per image at shape (1, 3, 800, 608)\n",
            "\n",
            "image 1/1 /home/andre/Desktop/CU_submission/chulacv2023/Lab9/student/test/data/Hymenolepis nana_0652.jpg: 480x800 1 Hymenolepis nana, 9.8ms\n",
            "Speed: 1.3ms preprocess, 9.8ms inference, 0.8ms postprocess per image at shape (1, 3, 480, 800)\n",
            "\n",
            "image 1/1 /home/andre/Desktop/CU_submission/chulacv2023/Lab9/student/test/data/Capillaria philippinensis_0227.jpg: 800x608 1 Capillaria philippinensis, 9.5ms\n",
            "Speed: 1.7ms preprocess, 9.5ms inference, 0.5ms postprocess per image at shape (1, 3, 800, 608)\n",
            "\n",
            "image 1/1 /home/andre/Desktop/CU_submission/chulacv2023/Lab9/student/test/data/Capillaria philippinensis_0202.jpg: 800x608 1 Capillaria philippinensis, 8.6ms\n",
            "Speed: 1.7ms preprocess, 8.6ms inference, 0.7ms postprocess per image at shape (1, 3, 800, 608)\n",
            "\n",
            "image 1/1 /home/andre/Desktop/CU_submission/chulacv2023/Lab9/student/test/data/Enterobius vermicularis_0377.jpg: 800x608 1 Enterobius vermicularis, 8.7ms\n",
            "Speed: 1.8ms preprocess, 8.7ms inference, 0.5ms postprocess per image at shape (1, 3, 800, 608)\n",
            "\n",
            "image 1/1 /home/andre/Desktop/CU_submission/chulacv2023/Lab9/student/test/data/Capillaria philippinensis_0952.jpg: 800x608 1 Capillaria philippinensis, 8.7ms\n",
            "Speed: 1.8ms preprocess, 8.7ms inference, 0.9ms postprocess per image at shape (1, 3, 800, 608)\n",
            "\n",
            "image 1/1 /home/andre/Desktop/CU_submission/chulacv2023/Lab9/student/test/data/Hymenolepis nana_0752.jpg: 480x800 1 Hymenolepis nana, 10.5ms\n",
            "Speed: 1.2ms preprocess, 10.5ms inference, 0.5ms postprocess per image at shape (1, 3, 480, 800)\n",
            "\n",
            "image 1/1 /home/andre/Desktop/CU_submission/chulacv2023/Lab9/student/test/data/Capillaria philippinensis_0477.jpg: 608x800 1 Capillaria philippinensis, 9.7ms\n",
            "Speed: 1.4ms preprocess, 9.7ms inference, 0.5ms postprocess per image at shape (1, 3, 608, 800)\n",
            "\n",
            "image 1/1 /home/andre/Desktop/CU_submission/chulacv2023/Lab9/student/test/data/Enterobius vermicularis_0127.jpg: 608x800 1 Enterobius vermicularis, 9.2ms\n",
            "Speed: 1.3ms preprocess, 9.2ms inference, 1.1ms postprocess per image at shape (1, 3, 608, 800)\n",
            "\n",
            "image 1/1 /home/andre/Desktop/CU_submission/chulacv2023/Lab9/student/test/data/Hymenolepis nana_0177.jpg: 608x800 1 Hymenolepis nana, 9.0ms\n",
            "Speed: 1.4ms preprocess, 9.0ms inference, 0.6ms postprocess per image at shape (1, 3, 608, 800)\n",
            "\n",
            "image 1/1 /home/andre/Desktop/CU_submission/chulacv2023/Lab9/student/test/data/Enterobius vermicularis_0177.jpg: 608x800 1 Enterobius vermicularis, 9.0ms\n",
            "Speed: 1.3ms preprocess, 9.0ms inference, 0.8ms postprocess per image at shape (1, 3, 608, 800)\n",
            "\n",
            "image 1/1 /home/andre/Desktop/CU_submission/chulacv2023/Lab9/student/test/data/Hymenolepis nana_0277.jpg: 800x608 1 Hymenolepis nana, 8.0ms\n",
            "Speed: 1.8ms preprocess, 8.0ms inference, 0.5ms postprocess per image at shape (1, 3, 800, 608)\n",
            "\n",
            "image 1/1 /home/andre/Desktop/CU_submission/chulacv2023/Lab9/student/test/data/Enterobius vermicularis_0552.jpg: 480x800 1 Enterobius vermicularis, 7.5ms\n",
            "Speed: 1.0ms preprocess, 7.5ms inference, 0.4ms postprocess per image at shape (1, 3, 480, 800)\n",
            "\n",
            "image 1/1 /home/andre/Desktop/CU_submission/chulacv2023/Lab9/student/test/data/Enterobius vermicularis_0427.jpg: 800x608 1 Enterobius vermicularis, 9.1ms\n",
            "Speed: 1.6ms preprocess, 9.1ms inference, 0.5ms postprocess per image at shape (1, 3, 800, 608)\n",
            "\n",
            "image 1/1 /home/andre/Desktop/CU_submission/chulacv2023/Lab9/student/test/data/Hymenolepis diminuta_0377.jpg: 480x800 1 Hymenolepis diminuta, 8.4ms\n",
            "Speed: 1.1ms preprocess, 8.4ms inference, 0.5ms postprocess per image at shape (1, 3, 480, 800)\n",
            "\n",
            "image 1/1 /home/andre/Desktop/CU_submission/chulacv2023/Lab9/student/test/data/Capillaria philippinensis_0777.jpg: 800x608 1 Capillaria philippinensis, 8.7ms\n",
            "Speed: 1.6ms preprocess, 8.7ms inference, 0.6ms postprocess per image at shape (1, 3, 800, 608)\n",
            "\n",
            "image 1/1 /home/andre/Desktop/CU_submission/chulacv2023/Lab9/student/test/data/Hymenolepis diminuta_0752.jpg: 800x608 1 Hymenolepis diminuta, 8.6ms\n",
            "Speed: 1.8ms preprocess, 8.6ms inference, 0.8ms postprocess per image at shape (1, 3, 800, 608)\n",
            "\n",
            "image 1/1 /home/andre/Desktop/CU_submission/chulacv2023/Lab9/student/test/data/Paragonimus spp_0727.jpg: 608x800 1 Paragonimus spp, 9.1ms\n",
            "Speed: 1.3ms preprocess, 9.1ms inference, 1.0ms postprocess per image at shape (1, 3, 608, 800)\n",
            "\n",
            "image 1/1 /home/andre/Desktop/CU_submission/chulacv2023/Lab9/student/test/data/Enterobius vermicularis_0252.jpg: 800x608 1 Enterobius vermicularis, 9.0ms\n",
            "Speed: 1.6ms preprocess, 9.0ms inference, 0.5ms postprocess per image at shape (1, 3, 800, 608)\n",
            "\n",
            "image 1/1 /home/andre/Desktop/CU_submission/chulacv2023/Lab9/student/test/data/Enterobius vermicularis_0327.jpg: 800x608 1 Enterobius vermicularis, 8.7ms\n",
            "Speed: 1.6ms preprocess, 8.7ms inference, 0.5ms postprocess per image at shape (1, 3, 800, 608)\n",
            "\n",
            "image 1/1 /home/andre/Desktop/CU_submission/chulacv2023/Lab9/student/test/data/Capillaria philippinensis_0352.jpg: 608x800 1 Capillaria philippinensis, 9.7ms\n",
            "Speed: 1.4ms preprocess, 9.7ms inference, 0.5ms postprocess per image at shape (1, 3, 608, 800)\n",
            "\n",
            "image 1/1 /home/andre/Desktop/CU_submission/chulacv2023/Lab9/student/test/data/Paragonimus spp_0277.jpg: 800x608 1 Paragonimus spp, 9.4ms\n",
            "Speed: 1.8ms preprocess, 9.4ms inference, 0.6ms postprocess per image at shape (1, 3, 800, 608)\n",
            "\n",
            "image 1/1 /home/andre/Desktop/CU_submission/chulacv2023/Lab9/student/test/data/Paragonimus spp_0302.jpg: 800x608 1 Paragonimus spp, 8.7ms\n",
            "Speed: 1.9ms preprocess, 8.7ms inference, 0.9ms postprocess per image at shape (1, 3, 800, 608)\n",
            "\n",
            "image 1/1 /home/andre/Desktop/CU_submission/chulacv2023/Lab9/student/test/data/Hymenolepis nana_0152.jpg: 608x800 1 Hymenolepis nana, 9.7ms\n",
            "Speed: 1.5ms preprocess, 9.7ms inference, 0.5ms postprocess per image at shape (1, 3, 608, 800)\n",
            "\n",
            "image 1/1 /home/andre/Desktop/CU_submission/chulacv2023/Lab9/student/test/data/Enterobius vermicularis_0277.jpg: 800x608 1 Enterobius vermicularis, 9.1ms\n",
            "Speed: 1.7ms preprocess, 9.1ms inference, 0.8ms postprocess per image at shape (1, 3, 800, 608)\n",
            "\n",
            "image 1/1 /home/andre/Desktop/CU_submission/chulacv2023/Lab9/student/test/data/Capillaria philippinensis_0602.jpg: 480x800 1 Capillaria philippinensis, 9.2ms\n",
            "Speed: 1.3ms preprocess, 9.2ms inference, 0.5ms postprocess per image at shape (1, 3, 480, 800)\n",
            "\n",
            "image 1/1 /home/andre/Desktop/CU_submission/chulacv2023/Lab9/student/test/data/Hymenolepis diminuta_0202.jpg: 800x608 1 Hymenolepis diminuta, 9.4ms\n",
            "Speed: 1.7ms preprocess, 9.4ms inference, 0.5ms postprocess per image at shape (1, 3, 800, 608)\n",
            "\n",
            "image 1/1 /home/andre/Desktop/CU_submission/chulacv2023/Lab9/student/test/data/Hymenolepis diminuta_0277.jpg: 480x800 1 Hymenolepis diminuta, 8.5ms\n",
            "Speed: 1.1ms preprocess, 8.5ms inference, 0.9ms postprocess per image at shape (1, 3, 480, 800)\n",
            "\n",
            "image 1/1 /home/andre/Desktop/CU_submission/chulacv2023/Lab9/student/test/data/Paragonimus spp_0377.jpg: 800x608 1 Paragonimus spp, 8.7ms\n",
            "Speed: 1.7ms preprocess, 8.7ms inference, 0.5ms postprocess per image at shape (1, 3, 800, 608)\n",
            "\n",
            "image 1/1 /home/andre/Desktop/CU_submission/chulacv2023/Lab9/student/test/data/Paragonimus spp_0027.jpg: 480x800 1 Paragonimus spp, 8.5ms\n",
            "Speed: 1.1ms preprocess, 8.5ms inference, 0.5ms postprocess per image at shape (1, 3, 480, 800)\n",
            "\n",
            "image 1/1 /home/andre/Desktop/CU_submission/chulacv2023/Lab9/student/test/data/Hymenolepis diminuta_0052.jpg: 800x608 1 Hymenolepis diminuta, 9.4ms\n",
            "Speed: 1.7ms preprocess, 9.4ms inference, 0.5ms postprocess per image at shape (1, 3, 800, 608)\n",
            "\n",
            "image 1/1 /home/andre/Desktop/CU_submission/chulacv2023/Lab9/student/test/data/Hymenolepis diminuta_0927.jpg: 608x800 1 Hymenolepis diminuta, 9.8ms\n",
            "Speed: 1.4ms preprocess, 9.8ms inference, 0.8ms postprocess per image at shape (1, 3, 608, 800)\n"
          ]
        }
      ],
      "source": [
        "# from mmdet.core import  bbox2result\n",
        "import os\n",
        "import numpy as np\n",
        "\n",
        "image_dir = './test/data'\n",
        "\n",
        "annotations = dict()\n",
        "annotations['annotations'] = list()\n",
        "id = 0\n",
        "for filename in os.listdir(image_dir):\n",
        "    if filename.endswith('.jpg'):\n",
        "        image_path = os.path.join(image_dir, filename)\n",
        "\n",
        "        # print(image_path)\n",
        "\n",
        "        ### run model\n",
        "        result = bestModel(image_path, max_det=1)[0]\n",
        "        cat_id = list(result.boxes.cls.cpu().numpy().astype(np.double))[0]\n",
        "        bbox = list(result.boxes.xywh.cpu().numpy().astype(np.double)[0])\n",
        "\n",
        "        coco_result = [{\"id\": id, \"file_name\": filename,\"category_id\": cat_id,\"bbox\":bbox}]\n",
        "        id+=1\n",
        "\n",
        "        annotations['annotations']+=coco_result\n",
        "        # break"
      ]
    },
    {
      "cell_type": "code",
      "execution_count": 23,
      "metadata": {},
      "outputs": [
        {
          "name": "stdout",
          "output_type": "stream",
          "text": [
            "{'annotations': [{'id': 0, 'file_name': 'Hymenolepis nana_0002.jpg', 'category_id': 3.0, 'bbox': [636.3017578125, 535.2891235351562, 182.45428466796875, 153.3541259765625]}, {'id': 1, 'file_name': 'Paragonimus spp_0677.jpg', 'category_id': 4.0, 'bbox': [644.3177490234375, 451.8797912597656, 183.83441162109375, 282.96209716796875]}, {'id': 2, 'file_name': 'Capillaria philippinensis_0177.jpg', 'category_id': 0.0, 'bbox': [974.1278076171875, 1792.0689697265625, 106.08575439453125, 140.234130859375]}, {'id': 3, 'file_name': 'Capillaria philippinensis_0152.jpg', 'category_id': 0.0, 'bbox': [996.0335693359375, 1925.1484375, 117.89739990234375, 175.4512939453125]}, {'id': 4, 'file_name': 'Capillaria philippinensis_0077.jpg', 'category_id': 0.0, 'bbox': [1127.265380859375, 1748.67431640625, 188.0906982421875, 96.3665771484375]}, {'id': 5, 'file_name': 'Capillaria philippinensis_0977.jpg', 'category_id': 0.0, 'bbox': [1024.34228515625, 1845.08154296875, 144.83978271484375, 124.5133056640625]}, {'id': 6, 'file_name': 'Hymenolepis diminuta_0327.jpg', 'category_id': 2.0, 'bbox': [930.84326171875, 515.7401733398438, 183.3221435546875, 185.00466918945312]}, {'id': 7, 'file_name': 'Capillaria philippinensis_0327.jpg', 'category_id': 0.0, 'bbox': [622.9574584960938, 506.1673889160156, 187.5341796875, 92.49444580078125]}, {'id': 8, 'file_name': 'Enterobius vermicularis_0677.jpg', 'category_id': 1.0, 'bbox': [946.9857788085938, 444.4366149902344, 106.3468017578125, 168.93353271484375]}, {'id': 9, 'file_name': 'Enterobius vermicularis_0702.jpg', 'category_id': 1.0, 'bbox': [1022.6737060546875, 535.1314697265625, 164.31451416015625, 95.06863403320312]}, {'id': 10, 'file_name': 'Paragonimus spp_0527.jpg', 'category_id': 4.0, 'bbox': [644.1434326171875, 509.22283935546875, 307.08905029296875, 177.28903198242188]}, {'id': 11, 'file_name': 'Enterobius vermicularis_0352.jpg', 'category_id': 1.0, 'bbox': [1172.2919921875, 1729.69189453125, 225.2735595703125, 134.9993896484375]}, {'id': 12, 'file_name': 'Hymenolepis nana_0227.jpg', 'category_id': 3.0, 'bbox': [639.660888671875, 498.68914794921875, 165.79742431640625, 188.48825073242188]}, {'id': 13, 'file_name': 'Paragonimus spp_0577.jpg', 'category_id': 4.0, 'bbox': [651.2005004882812, 553.1389770507812, 188.8218994140625, 292.1324462890625]}, {'id': 14, 'file_name': 'Hymenolepis nana_0402.jpg', 'category_id': 3.0, 'bbox': [1433.6259765625, 2221.760498046875, 266.4088134765625, 211.58447265625]}, {'id': 15, 'file_name': 'Capillaria philippinensis_0377.jpg', 'category_id': 0.0, 'bbox': [732.79150390625, 429.84588623046875, 196.02252197265625, 135.29696655273438]}, {'id': 16, 'file_name': 'Hymenolepis diminuta_0802.jpg', 'category_id': 2.0, 'bbox': [649.8411254882812, 467.9977722167969, 268.3916015625, 263.85736083984375]}, {'id': 17, 'file_name': 'Hymenolepis nana_0577.jpg', 'category_id': 3.0, 'bbox': [963.6214599609375, 525.9248046875, 139.630126953125, 117.65573120117188]}, {'id': 18, 'file_name': 'Hymenolepis nana_0827.jpg', 'category_id': 3.0, 'bbox': [1530.08837890625, 2116.541015625, 227.9757080078125, 202.062744140625]}, {'id': 19, 'file_name': 'Hymenolepis diminuta_0852.jpg', 'category_id': 2.0, 'bbox': [652.4462890625, 470.89764404296875, 279.48126220703125, 251.04769897460938]}, {'id': 20, 'file_name': 'Paragonimus spp_0702.jpg', 'category_id': 4.0, 'bbox': [672.5882568359375, 454.84820556640625, 194.76153564453125, 303.1474609375]}, {'id': 21, 'file_name': 'Paragonimus spp_0927.jpg', 'category_id': 4.0, 'bbox': [1512.2740478515625, 1828.79638671875, 232.9560546875, 354.0987548828125]}, {'id': 22, 'file_name': 'Hymenolepis nana_0127.jpg', 'category_id': 3.0, 'bbox': [690.2711791992188, 444.6646728515625, 183.126953125, 164.66372680664062]}, {'id': 23, 'file_name': 'Hymenolepis nana_0602.jpg', 'category_id': 3.0, 'bbox': [952.2030029296875, 531.1467895507812, 147.06121826171875, 122.5452880859375]}, {'id': 24, 'file_name': 'Hymenolepis nana_0352.jpg', 'category_id': 3.0, 'bbox': [1586.950927734375, 2254.02197265625, 235.1806640625, 313.209716796875]}, {'id': 25, 'file_name': 'Paragonimus spp_0552.jpg', 'category_id': 4.0, 'bbox': [630.3907470703125, 483.88458251953125, 295.0146789550781, 213.62460327148438]}, {'id': 26, 'file_name': 'Paragonimus spp_0227.jpg', 'category_id': 4.0, 'bbox': [948.385009765625, 528.3571166992188, 154.82061767578125, 232.75692749023438]}, {'id': 27, 'file_name': 'Hymenolepis diminuta_0127.jpg', 'category_id': 2.0, 'bbox': [1496.84375, 2040.2744140625, 334.6258544921875, 337.3216552734375]}, {'id': 28, 'file_name': 'Hymenolepis nana_0302.jpg', 'category_id': 3.0, 'bbox': [1488.25244140625, 2106.812744140625, 202.8895263671875, 213.4219970703125]}, {'id': 29, 'file_name': 'Capillaria philippinensis_0852.jpg', 'category_id': 0.0, 'bbox': [1484.462646484375, 1950.236572265625, 133.7210693359375, 174.9588623046875]}, {'id': 30, 'file_name': 'Hymenolepis diminuta_0777.jpg', 'category_id': 2.0, 'bbox': [666.40283203125, 486.01678466796875, 279.23638916015625, 274.078125]}, {'id': 31, 'file_name': 'Hymenolepis diminuta_0577.jpg', 'category_id': 2.0, 'bbox': [1526.99609375, 1878.358154296875, 407.6488037109375, 391.33447265625]}, {'id': 32, 'file_name': 'Enterobius vermicularis_0852.jpg', 'category_id': 1.0, 'bbox': [1342.520263671875, 1740.8663330078125, 108.4674072265625, 230.29541015625]}, {'id': 33, 'file_name': 'Hymenolepis nana_0677.jpg', 'category_id': 3.0, 'bbox': [970.369140625, 542.4359130859375, 125.69842529296875, 123.615966796875]}, {'id': 34, 'file_name': 'Hymenolepis diminuta_0102.jpg', 'category_id': 2.0, 'bbox': [1436.82470703125, 2126.41455078125, 320.5389404296875, 293.6151123046875]}, {'id': 35, 'file_name': 'Paragonimus spp_0102.jpg', 'category_id': 4.0, 'bbox': [933.4921875, 532.5082397460938, 178.31048583984375, 117.34573364257812]}, {'id': 36, 'file_name': 'Hymenolepis nana_0952.jpg', 'category_id': 3.0, 'bbox': [1526.935791015625, 2179.735107421875, 205.2003173828125, 239.6240234375]}, {'id': 37, 'file_name': 'Hymenolepis diminuta_0477.jpg', 'category_id': 2.0, 'bbox': [961.5997314453125, 550.5782470703125, 188.055908203125, 204.45718383789062]}, {'id': 38, 'file_name': 'Hymenolepis diminuta_0427.jpg', 'category_id': 2.0, 'bbox': [897.2691650390625, 533.5966186523438, 205.35296630859375, 189.84817504882812]}, {'id': 39, 'file_name': 'Paragonimus spp_0127.jpg', 'category_id': 4.0, 'bbox': [916.4146118164062, 527.5859985351562, 243.1429443359375, 158.26498413085938]}, {'id': 40, 'file_name': 'Capillaria philippinensis_0002.jpg', 'category_id': 1.0, 'bbox': [1168.5771484375, 1699.81103515625, 166.4881591796875, 108.27978515625]}, {'id': 41, 'file_name': 'Hymenolepis nana_0477.jpg', 'category_id': 3.0, 'bbox': [1389.450439453125, 2199.655517578125, 198.9923095703125, 204.2412109375]}, {'id': 42, 'file_name': 'Hymenolepis nana_0202.jpg', 'category_id': 3.0, 'bbox': [614.4378051757812, 530.5540161132812, 201.8153076171875, 190.3961181640625]}, {'id': 43, 'file_name': 'Paragonimus spp_0177.jpg', 'category_id': 4.0, 'bbox': [914.2487182617188, 547.6792602539062, 200.24560546875, 218.60671997070312]}, {'id': 44, 'file_name': 'Hymenolepis diminuta_0627.jpg', 'category_id': 2.0, 'bbox': [1533.37451171875, 1935.417724609375, 348.7933349609375, 351.7137451171875]}, {'id': 45, 'file_name': 'Hymenolepis nana_0902.jpg', 'category_id': 3.0, 'bbox': [1568.386474609375, 2078.1181640625, 216.3773193359375, 265.565673828125]}, {'id': 46, 'file_name': 'Paragonimus spp_0402.jpg', 'category_id': 4.0, 'bbox': [1597.302490234375, 2028.6357421875, 314.0423583984375, 369.1990966796875]}, {'id': 47, 'file_name': 'Enterobius vermicularis_0777.jpg', 'category_id': 1.0, 'bbox': [1279.331298828125, 1665.552734375, 207.8038330078125, 128.3917236328125]}, {'id': 48, 'file_name': 'Hymenolepis diminuta_0402.jpg', 'category_id': 2.0, 'bbox': [1020.359375, 508.59857177734375, 187.35443115234375, 185.54055786132812]}, {'id': 49, 'file_name': 'Capillaria philippinensis_0427.jpg', 'category_id': 0.0, 'bbox': [597.7259521484375, 455.259521484375, 110.11383056640625, 138.87966918945312]}, {'id': 50, 'file_name': 'Enterobius vermicularis_0627.jpg', 'category_id': 1.0, 'bbox': [986.97802734375, 507.8394775390625, 100.57171630859375, 167.80374145507812]}, {'id': 51, 'file_name': 'Capillaria philippinensis_0727.jpg', 'category_id': 0.0, 'bbox': [925.3765869140625, 533.0498046875, 106.18597412109375, 92.96380615234375]}, {'id': 52, 'file_name': 'Enterobius vermicularis_0727.jpg', 'category_id': 1.0, 'bbox': [925.4537353515625, 540.7577514648438, 92.09881591796875, 163.85073852539062]}, {'id': 53, 'file_name': 'Hymenolepis nana_0877.jpg', 'category_id': 3.0, 'bbox': [1624.388916015625, 1934.705078125, 224.3304443359375, 244.8121337890625]}, {'id': 54, 'file_name': 'Hymenolepis diminuta_0077.jpg', 'category_id': 2.0, 'bbox': [1501.749267578125, 1918.3521728515625, 322.483154296875, 333.597900390625]}, {'id': 55, 'file_name': 'Capillaria philippinensis_0527.jpg', 'category_id': 0.0, 'bbox': [928.967041015625, 544.2315673828125, 59.11712646484375, 109.29904174804688]}, {'id': 56, 'file_name': 'Hymenolepis nana_0502.jpg', 'category_id': 3.0, 'bbox': [1537.7908935546875, 1931.9700927734375, 195.29541015625, 236.736083984375]}, {'id': 57, 'file_name': 'Hymenolepis nana_0927.jpg', 'category_id': 3.0, 'bbox': [1495.9794921875, 2124.1416015625, 221.0955810546875, 208.767578125]}, {'id': 58, 'file_name': 'Capillaria philippinensis_0702.jpg', 'category_id': 0.0, 'bbox': [918.58447265625, 523.11279296875, 113.11907958984375, 96.31948852539062]}, {'id': 59, 'file_name': 'Hymenolepis diminuta_0677.jpg', 'category_id': 2.0, 'bbox': [1553.8377685546875, 1825.1739501953125, 315.888916015625, 341.32470703125]}, {'id': 60, 'file_name': 'Capillaria philippinensis_0277.jpg', 'category_id': 0.0, 'bbox': [653.328125, 588.026611328125, 136.56268310546875, 151.66607666015625]}, {'id': 61, 'file_name': 'Paragonimus spp_0252.jpg', 'category_id': 4.0, 'bbox': [1480.390869140625, 2170.150634765625, 249.7962646484375, 433.0511474609375]}, {'id': 62, 'file_name': 'Hymenolepis nana_0702.jpg', 'category_id': 3.0, 'bbox': [910.5573120117188, 509.855224609375, 131.8218994140625, 137.31637573242188]}, {'id': 63, 'file_name': 'Paragonimus spp_0902.jpg', 'category_id': 4.0, 'bbox': [1500.4271240234375, 1859.807373046875, 279.873779296875, 476.115234375]}, {'id': 64, 'file_name': 'Hymenolepis diminuta_0227.jpg', 'category_id': 2.0, 'bbox': [1635.22509765625, 2282.58642578125, 330.1400146484375, 324.953369140625]}, {'id': 65, 'file_name': 'Paragonimus spp_0602.jpg', 'category_id': 4.0, 'bbox': [676.78515625, 511.0328369140625, 322.22540283203125, 215.03738403320312]}, {'id': 66, 'file_name': 'Paragonimus spp_0002.jpg', 'category_id': 4.0, 'bbox': [931.6090087890625, 551.2905883789062, 236.24676513671875, 131.05990600585938]}, {'id': 67, 'file_name': 'Paragonimus spp_0327.jpg', 'category_id': 4.0, 'bbox': [1507.748779296875, 1956.263427734375, 271.4093017578125, 450.7481689453125]}, {'id': 68, 'file_name': 'Paragonimus spp_0152.jpg', 'category_id': 4.0, 'bbox': [931.940673828125, 535.818115234375, 218.23828125, 128.91958618164062]}, {'id': 69, 'file_name': 'Hymenolepis diminuta_0902.jpg', 'category_id': 2.0, 'bbox': [683.0903930664062, 460.59356689453125, 270.411376953125, 282.2344970703125]}, {'id': 70, 'file_name': 'Hymenolepis nana_0727.jpg', 'category_id': 3.0, 'bbox': [903.7510375976562, 526.2501831054688, 140.54443359375, 114.10531616210938]}, {'id': 71, 'file_name': 'Capillaria philippinensis_0752.jpg', 'category_id': 0.0, 'bbox': [1317.282470703125, 1820.916015625, 142.6199951171875, 100.8245849609375]}, {'id': 72, 'file_name': 'Hymenolepis diminuta_0877.jpg', 'category_id': 2.0, 'bbox': [649.2930297851562, 475.2015686035156, 279.5055847167969, 279.54461669921875]}, {'id': 73, 'file_name': 'Capillaria philippinensis_0827.jpg', 'category_id': 0.0, 'bbox': [1342.0877685546875, 1771.8037109375, 184.087646484375, 90.5758056640625]}, {'id': 74, 'file_name': 'Capillaria philippinensis_0127.jpg', 'category_id': 0.0, 'bbox': [1446.7958984375, 1802.043701171875, 189.510986328125, 140.7174072265625]}, {'id': 75, 'file_name': 'Enterobius vermicularis_0577.jpg', 'category_id': 1.0, 'bbox': [952.651123046875, 551.8005981445312, 137.080810546875, 129.69735717773438]}, {'id': 76, 'file_name': 'Paragonimus spp_0477.jpg', 'category_id': 4.0, 'bbox': [1576.13427734375, 2051.343505859375, 274.9346923828125, 408.20947265625]}, {'id': 77, 'file_name': 'Hymenolepis nana_0252.jpg', 'category_id': 3.0, 'bbox': [1456.16259765625, 1818.869384765625, 200.995849609375, 189.7998046875]}, {'id': 78, 'file_name': 'Hymenolepis diminuta_0502.jpg', 'category_id': 2.0, 'bbox': [902.791259765625, 539.8226318359375, 198.97467041015625, 196.43234252929688]}, {'id': 79, 'file_name': 'Capillaria philippinensis_0677.jpg', 'category_id': 0.0, 'bbox': [954.3722534179688, 522.6920166015625, 99.830810546875, 97.27935791015625]}, {'id': 80, 'file_name': 'Capillaria philippinensis_0552.jpg', 'category_id': 0.0, 'bbox': [1080.91943359375, 611.8441162109375, 64.494873046875, 117.09552001953125]}, {'id': 81, 'file_name': 'Hymenolepis nana_0102.jpg', 'category_id': 3.0, 'bbox': [612.8363037109375, 547.3170166015625, 187.94964599609375, 199.86526489257812]}, {'id': 82, 'file_name': 'Enterobius vermicularis_0977.jpg', 'category_id': 1.0, 'bbox': [1272.33935546875, 1798.5438232421875, 110.5811767578125, 226.500244140625]}, {'id': 83, 'file_name': 'Hymenolepis diminuta_0527.jpg', 'category_id': 2.0, 'bbox': [1545.54833984375, 1851.0791015625, 353.5306396484375, 343.8680419921875]}, {'id': 84, 'file_name': 'Paragonimus spp_0777.jpg', 'category_id': 4.0, 'bbox': [1584.7320556640625, 1973.6455078125, 379.901123046875, 222.9237060546875]}, {'id': 85, 'file_name': 'Hymenolepis nana_0527.jpg', 'category_id': 3.0, 'bbox': [893.298583984375, 504.00347900390625, 116.3428955078125, 131.31240844726562]}, {'id': 86, 'file_name': 'Hymenolepis nana_0377.jpg', 'category_id': 3.0, 'bbox': [1495.46728515625, 2134.80126953125, 208.04052734375, 216.840087890625]}, {'id': 87, 'file_name': 'Hymenolepis diminuta_0352.jpg', 'category_id': 2.0, 'bbox': [934.5542602539062, 497.7216796875, 207.8822021484375, 211.69839477539062]}, {'id': 88, 'file_name': 'Capillaria philippinensis_0102.jpg', 'category_id': 0.0, 'bbox': [1030.0687255859375, 1828.0694580078125, 148.24822998046875, 108.713623046875]}, {'id': 89, 'file_name': 'Enterobius vermicularis_0227.jpg', 'category_id': 1.0, 'bbox': [630.5709228515625, 490.44879150390625, 229.06121826171875, 132.4771728515625]}, {'id': 90, 'file_name': 'Paragonimus spp_0627.jpg', 'category_id': 4.0, 'bbox': [659.6878051757812, 529.7982788085938, 338.5162353515625, 226.06973266601562]}, {'id': 91, 'file_name': 'Paragonimus spp_0202.jpg', 'category_id': 4.0, 'bbox': [942.2789306640625, 521.8892211914062, 131.12579345703125, 205.20193481445312]}, {'id': 92, 'file_name': 'Capillaria philippinensis_0027.jpg', 'category_id': 0.0, 'bbox': [1237.924560546875, 1820.6513671875, 138.0018310546875, 151.4464111328125]}, {'id': 93, 'file_name': 'Hymenolepis diminuta_0027.jpg', 'category_id': 2.0, 'bbox': [1448.24169921875, 1876.06298828125, 315.43994140625, 335.6632080078125]}, {'id': 94, 'file_name': 'Capillaria philippinensis_0052.jpg', 'category_id': 0.0, 'bbox': [1286.702880859375, 1677.692626953125, 88.7498779296875, 170.5235595703125]}, {'id': 95, 'file_name': 'Capillaria philippinensis_0402.jpg', 'category_id': 0.0, 'bbox': [615.0315551757812, 590.0554809570312, 116.774658203125, 165.75857543945312]}, {'id': 96, 'file_name': 'Hymenolepis nana_0052.jpg', 'category_id': 3.0, 'bbox': [648.837158203125, 472.14105224609375, 217.37713623046875, 216.73873901367188]}, {'id': 97, 'file_name': 'Hymenolepis diminuta_0727.jpg', 'category_id': 2.0, 'bbox': [1570.5244140625, 2002.0811767578125, 323.1617431640625, 317.893310546875]}, {'id': 98, 'file_name': 'Capillaria philippinensis_0252.jpg', 'category_id': 0.0, 'bbox': [705.9412841796875, 464.7720947265625, 169.19195556640625, 111.61013793945312]}, {'id': 99, 'file_name': 'Capillaria philippinensis_0652.jpg', 'category_id': 0.0, 'bbox': [1016.0572509765625, 578.8656005859375, 91.37615966796875, 123.67022705078125]}, {'id': 100, 'file_name': 'Enterobius vermicularis_0002.jpg', 'category_id': 1.0, 'bbox': [717.2324829101562, 531.4978637695312, 236.593505859375, 131.52517700195312]}, {'id': 101, 'file_name': 'Hymenolepis diminuta_0952.jpg', 'category_id': 2.0, 'bbox': [658.051025390625, 464.5804748535156, 264.15936279296875, 256.83660888671875]}, {'id': 102, 'file_name': 'Enterobius vermicularis_0052.jpg', 'category_id': 1.0, 'bbox': [605.5196533203125, 369.7197265625, 221.45635986328125, 165.69775390625]}, {'id': 103, 'file_name': 'Hymenolepis diminuta_0302.jpg', 'category_id': 2.0, 'bbox': [929.8528442382812, 533.71826171875, 188.6737060546875, 189.09109497070312]}, {'id': 104, 'file_name': 'Hymenolepis nana_0327.jpg', 'category_id': 3.0, 'bbox': [1453.7607421875, 2213.86962890625, 239.5396728515625, 210.680908203125]}, {'id': 105, 'file_name': 'Paragonimus spp_0977.jpg', 'category_id': 4.0, 'bbox': [1534.155517578125, 1850.205078125, 337.11083984375, 364.435302734375]}, {'id': 106, 'file_name': 'Enterobius vermicularis_0527.jpg', 'category_id': 1.0, 'bbox': [931.0131225585938, 513.7042236328125, 159.0416259765625, 99.43923950195312]}, {'id': 107, 'file_name': 'Hymenolepis nana_0777.jpg', 'category_id': 3.0, 'bbox': [1472.34375, 2193.90625, 213.6475830078125, 210.976318359375]}, {'id': 108, 'file_name': 'Capillaria philippinensis_0502.jpg', 'category_id': 0.0, 'bbox': [972.9111328125, 559.080078125, 104.14251708984375, 78.34893798828125]}, {'id': 109, 'file_name': 'Enterobius vermicularis_0152.jpg', 'category_id': 1.0, 'bbox': [589.31982421875, 382.8810119628906, 178.58383178710938, 196.64990234375]}, {'id': 110, 'file_name': 'Enterobius vermicularis_0802.jpg', 'category_id': 1.0, 'bbox': [1290.521484375, 1630.096923828125, 235.44189453125, 112.36376953125]}, {'id': 111, 'file_name': 'Enterobius vermicularis_0477.jpg', 'category_id': 1.0, 'bbox': [1187.043212890625, 1784.675048828125, 222.1632080078125, 131.5191650390625]}, {'id': 112, 'file_name': 'Enterobius vermicularis_0602.jpg', 'category_id': 1.0, 'bbox': [1009.2220458984375, 552.2774658203125, 83.09332275390625, 171.99624633789062]}, {'id': 113, 'file_name': 'Paragonimus spp_0752.jpg', 'category_id': 4.0, 'bbox': [667.1235961914062, 502.43206787109375, 302.8631591796875, 259.6084289550781]}, {'id': 114, 'file_name': 'Paragonimus spp_0427.jpg', 'category_id': 4.0, 'bbox': [1504.5504150390625, 1921.07666015625, 340.77587890625, 374.330078125]}, {'id': 115, 'file_name': 'Paragonimus spp_0452.jpg', 'category_id': 4.0, 'bbox': [1598.520751953125, 1993.931884765625, 229.8902587890625, 354.6693115234375]}, {'id': 116, 'file_name': 'Capillaria philippinensis_0577.jpg', 'category_id': 0.0, 'bbox': [983.31103515625, 548.5855712890625, 131.09173583984375, 68.62969970703125]}, {'id': 117, 'file_name': 'Hymenolepis diminuta_0552.jpg', 'category_id': 2.0, 'bbox': [1489.509033203125, 1816.1337890625, 338.579833984375, 353.2442626953125]}, {'id': 118, 'file_name': 'Enterobius vermicularis_0452.jpg', 'category_id': 1.0, 'bbox': [1266.970458984375, 1510.9947509765625, 146.3822021484375, 223.191162109375]}, {'id': 119, 'file_name': 'Enterobius vermicularis_0877.jpg', 'category_id': 1.0, 'bbox': [1348.587158203125, 1867.82470703125, 141.169189453125, 221.9847412109375]}, {'id': 120, 'file_name': 'Capillaria philippinensis_0802.jpg', 'category_id': 0.0, 'bbox': [1374.6048583984375, 1858.71240234375, 91.309326171875, 166.49462890625]}, {'id': 121, 'file_name': 'Hymenolepis diminuta_0827.jpg', 'category_id': 2.0, 'bbox': [663.3057861328125, 472.947021484375, 272.0185546875, 276.3045349121094]}, {'id': 122, 'file_name': 'Enterobius vermicularis_0077.jpg', 'category_id': 1.0, 'bbox': [665.1866455078125, 400.7220458984375, 253.5836181640625, 119.30850219726562]}, {'id': 123, 'file_name': 'Hymenolepis nana_0977.jpg', 'category_id': 3.0, 'bbox': [1629.6904296875, 2036.1427001953125, 204.4925537109375, 215.309814453125]}, {'id': 124, 'file_name': 'Enterobius vermicularis_0202.jpg', 'category_id': 1.0, 'bbox': [751.4964599609375, 374.0581359863281, 151.82696533203125, 236.99916076660156]}, {'id': 125, 'file_name': 'Capillaria philippinensis_0452.jpg', 'category_id': 0.0, 'bbox': [551.7662963867188, 514.896240234375, 139.27987670898438, 150.97637939453125]}, {'id': 126, 'file_name': 'Paragonimus spp_0802.jpg', 'category_id': 4.0, 'bbox': [1512.460205078125, 2020.5604248046875, 293.6815185546875, 336.332275390625]}, {'id': 127, 'file_name': 'Enterobius vermicularis_0402.jpg', 'category_id': 1.0, 'bbox': [1293.5126953125, 1954.848388671875, 157.0103759765625, 217.8653564453125]}, {'id': 128, 'file_name': 'Paragonimus spp_0652.jpg', 'category_id': 4.0, 'bbox': [664.626953125, 463.80450439453125, 302.92547607421875, 203.23458862304688]}, {'id': 129, 'file_name': 'Paragonimus spp_0352.jpg', 'category_id': 4.0, 'bbox': [1563.03466796875, 2033.576904296875, 317.5279541015625, 208.09326171875]}, {'id': 130, 'file_name': 'Hymenolepis diminuta_0152.jpg', 'category_id': 2.0, 'bbox': [1578.6104736328125, 2079.225341796875, 294.6640625, 292.3297119140625]}, {'id': 131, 'file_name': 'Hymenolepis nana_0427.jpg', 'category_id': 3.0, 'bbox': [1429.3687744140625, 2147.34375, 251.80224609375, 204.1588134765625]}, {'id': 132, 'file_name': 'Enterobius vermicularis_0102.jpg', 'category_id': 1.0, 'bbox': [619.6072387695312, 427.516845703125, 232.794921875, 134.20831298828125]}, {'id': 133, 'file_name': 'Enterobius vermicularis_0927.jpg', 'category_id': 1.0, 'bbox': [1105.161376953125, 1635.5595703125, 149.7529296875, 243.7342529296875]}, {'id': 134, 'file_name': 'Hymenolepis nana_0452.jpg', 'category_id': 3.0, 'bbox': [1455.295166015625, 2085.48193359375, 236.5123291015625, 241.009521484375]}, {'id': 135, 'file_name': 'Paragonimus spp_0952.jpg', 'category_id': 4.0, 'bbox': [1541.216552734375, 1838.740234375, 238.935546875, 384.536865234375]}, {'id': 136, 'file_name': 'Capillaria philippinensis_0877.jpg', 'category_id': 0.0, 'bbox': [1180.1026611328125, 1896.031005859375, 172.509521484375, 97.790771484375]}, {'id': 137, 'file_name': 'Capillaria philippinensis_0902.jpg', 'category_id': 0.0, 'bbox': [1354.9580078125, 1902.953369140625, 119.8868408203125, 175.0816650390625]}, {'id': 138, 'file_name': 'Enterobius vermicularis_0652.jpg', 'category_id': 1.0, 'bbox': [1062.99658203125, 573.24560546875, 145.13177490234375, 126.59780883789062]}, {'id': 139, 'file_name': 'Hymenolepis nana_0852.jpg', 'category_id': 3.0, 'bbox': [1560.816162109375, 2173.864013671875, 221.1866455078125, 206.6201171875]}, {'id': 140, 'file_name': 'Hymenolepis diminuta_0602.jpg', 'category_id': 2.0, 'bbox': [1540.5865478515625, 2028.375, 334.14111328125, 315.2950439453125]}, {'id': 141, 'file_name': 'Paragonimus spp_0077.jpg', 'category_id': 4.0, 'bbox': [921.3968505859375, 534.2908325195312, 156.7667236328125, 259.5906677246094]}, {'id': 142, 'file_name': 'Hymenolepis nana_0077.jpg', 'category_id': 3.0, 'bbox': [551.7308349609375, 507.9754943847656, 156.93124389648438, 191.08380126953125]}, {'id': 143, 'file_name': 'Enterobius vermicularis_0902.jpg', 'category_id': 1.0, 'bbox': [1367.568359375, 2009.3033447265625, 211.7760009765625, 177.762451171875]}, {'id': 144, 'file_name': 'Hymenolepis nana_0552.jpg', 'category_id': 3.0, 'bbox': [913.8974609375, 574.2088623046875, 130.9605712890625, 108.96490478515625]}, {'id': 145, 'file_name': 'Capillaria philippinensis_0627.jpg', 'category_id': 0.0, 'bbox': [855.4783935546875, 504.74542236328125, 114.41864013671875, 64.23593139648438]}, {'id': 146, 'file_name': 'Enterobius vermicularis_0027.jpg', 'category_id': 1.0, 'bbox': [570.552001953125, 382.94189453125, 225.80307006835938, 165.45303344726562]}, {'id': 147, 'file_name': 'Enterobius vermicularis_0952.jpg', 'category_id': 1.0, 'bbox': [1392.6336669921875, 1700.3935546875, 222.587158203125, 131.7291259765625]}, {'id': 148, 'file_name': 'Capillaria philippinensis_0302.jpg', 'category_id': 0.0, 'bbox': [631.1231079101562, 411.0736083984375, 97.0821533203125, 176.20614624023438]}, {'id': 149, 'file_name': 'Hymenolepis diminuta_0652.jpg', 'category_id': 2.0, 'bbox': [1523.379638671875, 1905.31591796875, 345.3919677734375, 349.4520263671875]}, {'id': 150, 'file_name': 'Hymenolepis nana_0027.jpg', 'category_id': 3.0, 'bbox': [589.562255859375, 454.44158935546875, 178.03204345703125, 168.90090942382812]}, {'id': 151, 'file_name': 'Enterobius vermicularis_0827.jpg', 'category_id': 1.0, 'bbox': [1262.095947265625, 1697.66650390625, 191.885986328125, 159.2332763671875]}, {'id': 152, 'file_name': 'Paragonimus spp_0852.jpg', 'category_id': 4.0, 'bbox': [1549.03271484375, 1891.251708984375, 401.3892822265625, 263.4599609375]}, {'id': 153, 'file_name': 'Paragonimus spp_0052.jpg', 'category_id': 4.0, 'bbox': [926.368896484375, 575.3634643554688, 233.329833984375, 140.3087158203125]}, {'id': 154, 'file_name': 'Paragonimus spp_0877.jpg', 'category_id': 4.0, 'bbox': [1533.371337890625, 1945.095703125, 407.3201904296875, 296.3670654296875]}, {'id': 155, 'file_name': 'Hymenolepis nana_0627.jpg', 'category_id': 3.0, 'bbox': [924.9217529296875, 551.8489379882812, 120.73065185546875, 124.70364379882812]}, {'id': 156, 'file_name': 'Hymenolepis diminuta_0002.jpg', 'category_id': 2.0, 'bbox': [1473.8133544921875, 2289.16796875, 343.843994140625, 316.617919921875]}, {'id': 157, 'file_name': 'Hymenolepis diminuta_0702.jpg', 'category_id': 2.0, 'bbox': [1533.085693359375, 1989.41845703125, 350.9056396484375, 337.4149169921875]}, {'id': 158, 'file_name': 'Paragonimus spp_0827.jpg', 'category_id': 4.0, 'bbox': [1503.287353515625, 1952.8465576171875, 394.4716796875, 288.947509765625]}, {'id': 159, 'file_name': 'Hymenolepis diminuta_0177.jpg', 'category_id': 2.0, 'bbox': [1517.408447265625, 2178.568359375, 316.5443115234375, 311.2052001953125]}, {'id': 160, 'file_name': 'Hymenolepis nana_0802.jpg', 'category_id': 3.0, 'bbox': [1436.94384765625, 2188.18994140625, 215.546142578125, 199.26025390625]}, {'id': 161, 'file_name': 'Hymenolepis diminuta_0252.jpg', 'category_id': 2.0, 'bbox': [1374.4833984375, 2161.180908203125, 367.496826171875, 352.5889892578125]}, {'id': 162, 'file_name': 'Hymenolepis diminuta_0977.jpg', 'category_id': 2.0, 'bbox': [671.6500244140625, 499.50201416015625, 266.9674072265625, 260.28466796875]}, {'id': 163, 'file_name': 'Enterobius vermicularis_0752.jpg', 'category_id': 1.0, 'bbox': [1292.15380859375, 1689.488037109375, 227.81591796875, 113.546142578125]}, {'id': 164, 'file_name': 'Hymenolepis diminuta_0452.jpg', 'category_id': 2.0, 'bbox': [936.022216796875, 529.2395629882812, 195.367919921875, 189.821044921875]}, {'id': 165, 'file_name': 'Enterobius vermicularis_0502.jpg', 'category_id': 1.0, 'bbox': [948.11962890625, 503.9041748046875, 162.07220458984375, 91.32498168945312]}, {'id': 166, 'file_name': 'Capillaria philippinensis_0927.jpg', 'category_id': 0.0, 'bbox': [1266.787841796875, 1809.2501220703125, 151.8228759765625, 127.2265625]}, {'id': 167, 'file_name': 'Paragonimus spp_0502.jpg', 'category_id': 4.0, 'bbox': [658.860595703125, 468.86358642578125, 337.2110290527344, 235.87326049804688]}, {'id': 168, 'file_name': 'Enterobius vermicularis_0302.jpg', 'category_id': 1.0, 'bbox': [1240.2630615234375, 1682.8751220703125, 203.290283203125, 167.295166015625]}, {'id': 169, 'file_name': 'Hymenolepis nana_0652.jpg', 'category_id': 3.0, 'bbox': [952.9066772460938, 503.70672607421875, 141.2979736328125, 119.88882446289062]}, {'id': 170, 'file_name': 'Capillaria philippinensis_0227.jpg', 'category_id': 0.0, 'bbox': [1271.29052734375, 1942.1142578125, 137.534912109375, 147.6380615234375]}, {'id': 171, 'file_name': 'Capillaria philippinensis_0202.jpg', 'category_id': 0.0, 'bbox': [1183.265380859375, 1816.4954833984375, 132.308837890625, 145.962646484375]}, {'id': 172, 'file_name': 'Enterobius vermicularis_0377.jpg', 'category_id': 1.0, 'bbox': [1170.6788330078125, 1695.3450927734375, 192.031982421875, 180.21875]}, {'id': 173, 'file_name': 'Capillaria philippinensis_0952.jpg', 'category_id': 0.0, 'bbox': [1164.99951171875, 1838.6436767578125, 153.6328125, 122.891845703125]}, {'id': 174, 'file_name': 'Hymenolepis nana_0752.jpg', 'category_id': 3.0, 'bbox': [867.9417724609375, 496.7215881347656, 133.65936279296875, 127.52069091796875]}, {'id': 175, 'file_name': 'Capillaria philippinensis_0477.jpg', 'category_id': 0.0, 'bbox': [750.0645751953125, 588.255126953125, 130.2845458984375, 138.6312255859375]}, {'id': 176, 'file_name': 'Enterobius vermicularis_0127.jpg', 'category_id': 1.0, 'bbox': [689.4737548828125, 454.0924072265625, 196.53826904296875, 178.88320922851562]}, {'id': 177, 'file_name': 'Hymenolepis nana_0177.jpg', 'category_id': 3.0, 'bbox': [604.4098510742188, 462.7822265625, 196.48336791992188, 166.0777587890625]}, {'id': 178, 'file_name': 'Enterobius vermicularis_0177.jpg', 'category_id': 1.0, 'bbox': [758.8211669921875, 399.94635009765625, 226.9034423828125, 145.00576782226562]}, {'id': 179, 'file_name': 'Hymenolepis nana_0277.jpg', 'category_id': 3.0, 'bbox': [1475.026611328125, 2253.7939453125, 247.3450927734375, 215.59765625]}, {'id': 180, 'file_name': 'Enterobius vermicularis_0552.jpg', 'category_id': 1.0, 'bbox': [1008.8814086914062, 525.6893920898438, 179.8104248046875, 81.4364013671875]}, {'id': 181, 'file_name': 'Enterobius vermicularis_0427.jpg', 'category_id': 1.0, 'bbox': [1433.3746337890625, 1681.89697265625, 233.424560546875, 153.3770751953125]}, {'id': 182, 'file_name': 'Hymenolepis diminuta_0377.jpg', 'category_id': 2.0, 'bbox': [934.0498046875, 505.71270751953125, 193.88848876953125, 204.13009643554688]}, {'id': 183, 'file_name': 'Capillaria philippinensis_0777.jpg', 'category_id': 0.0, 'bbox': [1097.7847900390625, 1910.861083984375, 83.00927734375, 152.0731201171875]}, {'id': 184, 'file_name': 'Hymenolepis diminuta_0752.jpg', 'category_id': 2.0, 'bbox': [1593.8350830078125, 1837.430908203125, 323.652587890625, 334.7232666015625]}, {'id': 185, 'file_name': 'Paragonimus spp_0727.jpg', 'category_id': 4.0, 'bbox': [651.5298461914062, 482.43145751953125, 268.192138671875, 288.8464660644531]}, {'id': 186, 'file_name': 'Enterobius vermicularis_0252.jpg', 'category_id': 1.0, 'bbox': [1239.4696044921875, 1636.107666015625, 224.60595703125, 127.0601806640625]}, {'id': 187, 'file_name': 'Enterobius vermicularis_0327.jpg', 'category_id': 1.0, 'bbox': [1185.985107421875, 1818.2314453125, 245.5780029296875, 111.8927001953125]}, {'id': 188, 'file_name': 'Capillaria philippinensis_0352.jpg', 'category_id': 0.0, 'bbox': [598.1260986328125, 470.79840087890625, 147.08819580078125, 112.81808471679688]}, {'id': 189, 'file_name': 'Paragonimus spp_0277.jpg', 'category_id': 4.0, 'bbox': [1543.704345703125, 2027.18115234375, 324.2667236328125, 309.1666259765625]}, {'id': 190, 'file_name': 'Paragonimus spp_0302.jpg', 'category_id': 4.0, 'bbox': [1567.722412109375, 2095.997314453125, 410.497314453125, 247.0140380859375]}, {'id': 191, 'file_name': 'Hymenolepis nana_0152.jpg', 'category_id': 3.0, 'bbox': [607.8236083984375, 498.27203369140625, 154.86651611328125, 182.66329956054688]}, {'id': 192, 'file_name': 'Enterobius vermicularis_0277.jpg', 'category_id': 1.0, 'bbox': [1144.17333984375, 1760.776611328125, 210.2918701171875, 162.5311279296875]}, {'id': 193, 'file_name': 'Capillaria philippinensis_0602.jpg', 'category_id': 0.0, 'bbox': [1054.5775146484375, 560.2801513671875, 98.883056640625, 121.87548828125]}, {'id': 194, 'file_name': 'Hymenolepis diminuta_0202.jpg', 'category_id': 2.0, 'bbox': [1500.166015625, 2290.5595703125, 339.3023681640625, 353.072998046875]}, {'id': 195, 'file_name': 'Hymenolepis diminuta_0277.jpg', 'category_id': 2.0, 'bbox': [907.7557983398438, 491.25909423828125, 180.568359375, 183.93795776367188]}, {'id': 196, 'file_name': 'Paragonimus spp_0377.jpg', 'category_id': 4.0, 'bbox': [1528.572265625, 2055.606689453125, 426.94873046875, 275.0386962890625]}, {'id': 197, 'file_name': 'Paragonimus spp_0027.jpg', 'category_id': 4.0, 'bbox': [931.401123046875, 553.69140625, 184.32904052734375, 176.99200439453125]}, {'id': 198, 'file_name': 'Hymenolepis diminuta_0052.jpg', 'category_id': 2.0, 'bbox': [1492.0087890625, 2034.277587890625, 323.5758056640625, 340.9222412109375]}, {'id': 199, 'file_name': 'Hymenolepis diminuta_0927.jpg', 'category_id': 2.0, 'bbox': [679.445068359375, 486.92486572265625, 273.17138671875, 261.6838073730469]}]}\n"
          ]
        }
      ],
      "source": [
        "print(annotations)"
      ]
    },
    {
      "cell_type": "code",
      "execution_count": 25,
      "metadata": {
        "colab": {
          "base_uri": "https://localhost:8080/"
        },
        "id": "T84tJLpVL2zo",
        "outputId": "3349ffb0-8530-4d59-f867-24929eeb8477"
      },
      "outputs": [
        {
          "name": "stdout",
          "output_type": "stream",
          "text": [
            "{\"F1Score\":0.0,\"mAP0.5\":0.0,\"mAP0.5:0.95\":0.0,\"mAP0.75\":0.0,\"mIoU\":0.14239087387293523,\"status\":\"SUCCESS\"}\n",
            "\n"
          ]
        }
      ],
      "source": [
        "import requests\n",
        "import json\n",
        "sendDict = { 'studentID':'6432085221', 'results':  annotations }\n",
        "# sendDict = json.dumps(sendDict)\n",
        "response = requests.post('https://www.piclab.ai/classes/cv2023/lab9/scoreboard/submitLab9',headers={'Content-Type': 'application/json' }, json=sendDict)\n",
        "print(response.text)"
      ]
    },
    {
      "cell_type": "code",
      "execution_count": null,
      "metadata": {
        "id": "XJGI-EPWqL55"
      },
      "outputs": [],
      "source": []
    }
  ],
  "metadata": {
    "accelerator": "GPU",
    "colab": {
      "gpuType": "T4",
      "provenance": []
    },
    "kernelspec": {
      "display_name": "Python 3",
      "name": "python3"
    },
    "language_info": {
      "codemirror_mode": {
        "name": "ipython",
        "version": 3
      },
      "file_extension": ".py",
      "mimetype": "text/x-python",
      "name": "python",
      "nbconvert_exporter": "python",
      "pygments_lexer": "ipython3",
      "version": "3.11.8"
    }
  },
  "nbformat": 4,
  "nbformat_minor": 0
}
