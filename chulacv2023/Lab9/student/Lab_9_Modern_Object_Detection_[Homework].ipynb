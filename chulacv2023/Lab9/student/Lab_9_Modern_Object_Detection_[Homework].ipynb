{
  "cells": [
    {
      "cell_type": "markdown",
      "metadata": {
        "id": "r7GTSH1NwhxT"
      },
      "source": [
        "# **2110433 - Computer Vision (2023/2)**\n",
        "#**Lab 9 - Modern Object Detection [Homework]** <br>\n",
        "In this lab, we will learn how to use MMDetection to perform object detection in the provided real world dataset using PyTorch. This notebook includes both coding and written questions. Please hand in this notebook file with all outputs and your answer.\n",
        "\n",
        "**Collaboration is encouraged in this course.** You must turn in your own write ups of all problems. If you collaborate with others, you must put the names and ids of the students you worked with in below block.\n",
        "\n",
        "Collaboration List:\n",
        "- ...\n",
        "- ...\n"
      ]
    },
    {
      "cell_type": "markdown",
      "metadata": {
        "id": "ACywHh_DxHJE"
      },
      "source": [
        "# Assignment 1 : Parasite Detection\n",
        "![alt text](https://icip2022challenge.piclab.ai/wp-content/uploads/2022/01/parasite_egg_11_with_size.png)\n",
        "\n",
        "In this assignment you have to replace YOUR_STUDENT_ID_WITH21 variable with your student id (in integer). There will be 2 sets of data: train and test\n",
        "\n",
        "By using the knowledge from the lab and lecture, you have to train object detection model and tested on unknown label dataset!\n",
        "\n",
        "\n",
        "\n",
        "Scoreboard URL : https://www.piclab.ai/classes/cv2023/lab9/scoreboard"
      ]
    },
    {
      "cell_type": "markdown",
      "metadata": {
        "id": "jVfTXKTpyBBe"
      },
      "source": [
        "### Hints\n",
        "- The parasite dataset was created using COCO dataset format\n",
        "- If you use MMDetection, the dataset is ready to use\n",
        "- If you want to use Ultralytics, you have to format to YOLO dataset format (use Fiftyone!)\n"
      ]
    },
    {
      "cell_type": "markdown",
      "metadata": {
        "id": "ByvSDpMOxwjy"
      },
      "source": [
        "## GPU Status Check"
      ]
    },
    {
      "cell_type": "code",
      "execution_count": 1,
      "metadata": {
        "id": "Bxk4HiuDxw3X"
      },
      "outputs": [
        {
          "name": "stdout",
          "output_type": "stream",
          "text": [
            "Sun Mar 31 18:50:16 2024       \n",
            "+---------------------------------------------------------------------------------------+\n",
            "| NVIDIA-SMI 545.23.08              Driver Version: 545.23.08    CUDA Version: 12.3     |\n",
            "|-----------------------------------------+----------------------+----------------------+\n",
            "| GPU  Name                 Persistence-M | Bus-Id        Disp.A | Volatile Uncorr. ECC |\n",
            "| Fan  Temp   Perf          Pwr:Usage/Cap |         Memory-Usage | GPU-Util  Compute M. |\n",
            "|                                         |                      |               MIG M. |\n",
            "|=========================================+======================+======================|\n",
            "|   0  NVIDIA GeForce RTX 4080        On  | 00000000:01:00.0  On |                  N/A |\n",
            "| 65%   44C    P8              26W / 340W |    668MiB / 16376MiB |     17%      Default |\n",
            "|                                         |                      |                  N/A |\n",
            "+-----------------------------------------+----------------------+----------------------+\n",
            "                                                                                         \n",
            "+---------------------------------------------------------------------------------------+\n",
            "| Processes:                                                                            |\n",
            "|  GPU   GI   CI        PID   Type   Process name                            GPU Memory |\n",
            "|        ID   ID                                                             Usage      |\n",
            "|=======================================================================================|\n",
            "|    0   N/A  N/A      1257      G   /usr/lib/xorg/Xorg                          217MiB |\n",
            "|    0   N/A  N/A      1497      G   /usr/bin/gnome-shell                         86MiB |\n",
            "|    0   N/A  N/A      4301      G   ...seed-version=20240329-165146.919000       69MiB |\n",
            "|    0   N/A  N/A      5523      G   ...sion,SpareRendererForSitePerProcess      239MiB |\n",
            "|    0   N/A  N/A      6299      G   ...yOnDemand --variations-seed-version       31MiB |\n",
            "|    0   N/A  N/A     55770      G   gnome-control-center                          3MiB |\n",
            "+---------------------------------------------------------------------------------------+\n"
          ]
        }
      ],
      "source": [
        "!nvidia-smi"
      ]
    },
    {
      "cell_type": "markdown",
      "metadata": {
        "id": "yp12w8JUxzmm"
      },
      "source": [
        "## Download and inspect parasite dataset"
      ]
    },
    {
      "cell_type": "code",
      "execution_count": 2,
      "metadata": {
        "colab": {
          "base_uri": "https://localhost:8080/"
        },
        "id": "G2e5Wv2LxyH5",
        "outputId": "40c14eb1-8a85-4527-a943-f518c3123ea7"
      },
      "outputs": [],
      "source": [
        "# !pip install --upgrade gdown\n",
        "# !gdown https://drive.google.com/uc?id=1RVluBzZvJ8mWwA5AuB2PklbaoK60uPMF\n",
        "# !gdown https://drive.google.com/uc?id=1kvBxmC1o0vE2ef2CJqhLaj9V4TD72oW3\n",
        "# !unzip parasite_train.zip\n",
        "# !unzip parasite_test.zip"
      ]
    },
    {
      "cell_type": "markdown",
      "metadata": {
        "id": "S_FOCV1fxqhD"
      },
      "source": [
        "## Your model description goes here: ###\n",
        "WRITE HERE"
      ]
    },
    {
      "cell_type": "markdown",
      "metadata": {
        "id": "QEh232Sr2TwM"
      },
      "source": [
        "### Dataset Exploration\n",
        "We will use pycocotools to explore this dataset."
      ]
    },
    {
      "cell_type": "code",
      "execution_count": 3,
      "metadata": {
        "id": "nTaQtHqO2WHS"
      },
      "outputs": [],
      "source": [
        "from pycocotools.coco import COCO\n",
        "import numpy as np\n",
        "import cv2\n",
        "import matplotlib.pyplot as plt"
      ]
    },
    {
      "cell_type": "code",
      "execution_count": 4,
      "metadata": {
        "colab": {
          "base_uri": "https://localhost:8080/"
        },
        "id": "qZi0oVt12X4L",
        "outputId": "2b6f4bda-2d30-4c61-87e6-736072408d8d"
      },
      "outputs": [
        {
          "name": "stdout",
          "output_type": "stream",
          "text": [
            "loading annotations into memory...\n",
            "Done (t=0.00s)\n",
            "creating index...\n",
            "index created!\n"
          ]
        }
      ],
      "source": [
        "trainLabelFile='./parasite_train/labels.json'\n",
        "# initialize COCO api for instance annotations\n",
        "trainCOCOBinding = COCO(trainLabelFile)"
      ]
    },
    {
      "cell_type": "code",
      "execution_count": 5,
      "metadata": {
        "colab": {
          "base_uri": "https://localhost:8080/",
          "height": 527
        },
        "id": "TvbPIRCA2dTN",
        "outputId": "7f13b180-f11f-434a-a220-7873d0524336"
      },
      "outputs": [
        {
          "name": "stdout",
          "output_type": "stream",
          "text": [
            "COCO categories: \n",
            "Capillaria philippinensis, Enterobius vermicularis, Hymenolepis diminuta, Hymenolepis nana, Paragonimus spp\n",
            "\n",
            "['Capillaria philippinensis', 'Enterobius vermicularis', 'Hymenolepis diminuta', 'Hymenolepis nana', 'Paragonimus spp']\n",
            "[601, 602, 603, 604, 605, 606, 607, 608, 609, 610, 611, 612, 613, 614, 615, 616, 617, 618, 619, 620, 621, 622, 623, 624, 625, 626, 627, 628, 629, 630, 631, 632, 633, 634, 635, 636, 637, 638, 639, 640, 641, 642, 643, 644, 645, 646, 647, 648, 649, 650, 651, 652, 653, 654, 655, 656, 657, 658, 659, 660, 661, 662, 663, 664, 665, 666, 667, 668, 669, 670, 671, 672, 673, 674, 675, 676, 677, 678, 679, 680, 681, 682, 683, 684, 685, 686, 687, 688, 689, 690, 691, 692, 693, 694, 695, 696, 697, 698, 699, 700, 701, 702, 703, 704, 705, 706, 707, 708, 709, 710, 711, 712, 713, 714, 715, 716, 717, 718, 719, 720, 721, 722, 723, 724, 725, 726, 727, 728, 729, 730, 731, 732, 733, 734, 735, 736, 737, 738, 739, 740, 741, 742, 743, 744, 745, 746, 747, 748, 749, 750, 751, 752, 753, 754, 755, 756, 757, 758, 759, 760, 761, 762, 763, 764, 765, 766, 767, 768, 769, 770, 771, 772, 773, 774, 775, 776, 777, 778, 779, 780, 781, 782, 783, 784, 785, 786, 787, 788, 789, 790, 791, 792, 793, 794, 795, 796, 797, 798, 799, 800]\n",
            "Image Data >> {'id': 104, 'file_name': 'Hymenolepis nana_0516.jpg', 'height': 1080, 'width': 1920, 'license': None, 'coco_url': None}\n",
            "Box Data [{'id': 104, 'image_id': 104, 'category_id': 3, 'bbox': [856.0, 499.0, 104.0, 101.0], 'area': 10504.0, 'iscrowd': 0}]\n"
          ]
        },
        {
          "data": {
            "image/png": "[encoded data removed]",
            "text/plain": [
              "<Figure size 640x480 with 1 Axes>"
            ]
          },
          "metadata": {},
          "output_type": "display_data"
        }
      ],
      "source": [
        "#display COCO categories and supercategories\n",
        "cats = trainCOCOBinding.loadCats(trainCOCOBinding.getCatIds())\n",
        "nms=[cat['name'] for cat in cats]\n",
        "print('COCO categories: \\n{}\\n'.format(', '.join(nms)))\n",
        "print(nms)\n",
        "\n",
        "# get all images containing given categories, select one at random\n",
        "catIds = trainCOCOBinding.getCatIds(catNms=['Hymenolepis diminuta',]);\n",
        "imgIds = trainCOCOBinding.getImgIds(catIds=catIds );\n",
        "print([id for id in imgIds])\n",
        "\n",
        "randomImgId = np.random.randint(0,len(imgIds))\n",
        "sampleImageData = trainCOCOBinding.loadImgs(randomImgId)[0]\n",
        "\n",
        "print('Image Data >>', sampleImageData)\n",
        "\n",
        "sampleImage = cv2.imread('parasite_train/data/'+sampleImageData['file_name'])\n",
        "\n",
        "annIds = trainCOCOBinding.getAnnIds(imgIds=randomImgId, iscrowd=None)\n",
        "boxes = trainCOCOBinding.loadAnns(annIds)\n",
        "print('Box Data', boxes)\n",
        "\n",
        "for box in boxes:\n",
        "  x,y,w,h = box['bbox']\n",
        "  cv2.rectangle(sampleImage, (int(x), int(y)), (int(x+w), int(y+h)), (0,255,0), 5)\n",
        "\n",
        "sampleImage = cv2.cvtColor(sampleImage, cv2.COLOR_BGR2RGB)\n",
        "\n",
        "plt.imshow(sampleImage)\n",
        "plt.show()"
      ]
    },
    {
      "cell_type": "markdown",
      "metadata": {
        "id": "-u2iS_Ws3ekp"
      },
      "source": [
        "### Training"
      ]
    },
    {
      "cell_type": "code",
      "execution_count": 6,
      "metadata": {
        "id": "HqqYBTEd3bLg"
      },
      "outputs": [
        {
          "name": "stdout",
          "output_type": "stream",
          "text": [
            "Transferred 595/595 items from pretrained weights\n"
          ]
        }
      ],
      "source": [
        "from ultralytics import YOLO\n",
        "import torch\n",
        "\n",
        "torch.cuda.empty_cache()\n",
        "\n",
        "yolo_model = YOLO('yolov8l.yaml').load('yolov8l.pt')\n",
        "# yolo_model = YOLO('./runs/detect/train11/weights/best.pt').load('./runs/detect/train11/weights/best.pt')\n",
        "yolo_model = yolo_model.cuda()\n",
        "config = {\n",
        "    'data' : 'dataset.yaml',\n",
        "    'epochs' : 150,\n",
        "    'batch' : 8,\n",
        "    'device' : 0,\n",
        "    'workers' : 20,\n",
        "    'verbose' : True,\n",
        "    # 'max_det' : 1,\n",
        "    'imgsz' : 1152\n",
        "}"
      ]
    },
    {
      "cell_type": "code",
      "execution_count": 7,
      "metadata": {},
      "outputs": [
        {
          "name": "stdout",
          "output_type": "stream",
          "text": [
            "New https://pypi.org/project/ultralytics/8.1.38 available 😃 Update with 'pip install -U ultralytics'\n",
            "Ultralytics YOLOv8.1.37 🚀 Python-3.11.8 torch-2.1.0+cu121 CUDA:0 (NVIDIA GeForce RTX 4080, 16071MiB)\n",
            "\u001b[34m\u001b[1mengine/trainer: \u001b[0mtask=detect, mode=train, model=yolov8l.yaml, data=dataset.yaml, epochs=150, time=None, patience=100, batch=8, imgsz=1152, save=True, save_period=-1, cache=False, device=0, workers=20, project=None, name=train12, exist_ok=False, pretrained=True, optimizer=auto, verbose=True, seed=0, deterministic=True, single_cls=False, rect=False, cos_lr=False, close_mosaic=10, resume=False, amp=True, fraction=1.0, profile=False, freeze=None, multi_scale=False, overlap_mask=True, mask_ratio=4, dropout=0.0, val=True, split=val, save_json=False, save_hybrid=False, conf=None, iou=0.7, max_det=300, half=False, dnn=False, plots=True, source=None, vid_stride=1, stream_buffer=False, visualize=False, augment=False, agnostic_nms=False, classes=None, retina_masks=False, embed=None, show=False, save_frames=False, save_txt=False, save_conf=False, save_crop=False, show_labels=True, show_conf=True, show_boxes=True, line_width=None, format=torchscript, keras=False, optimize=False, int8=False, dynamic=False, simplify=False, opset=None, workspace=4, nms=False, lr0=0.01, lrf=0.01, momentum=0.937, weight_decay=0.0005, warmup_epochs=3.0, warmup_momentum=0.8, warmup_bias_lr=0.1, box=7.5, cls=0.5, dfl=1.5, pose=12.0, kobj=1.0, label_smoothing=0.0, nbs=64, hsv_h=0.015, hsv_s=0.7, hsv_v=0.4, degrees=0.0, translate=0.1, scale=0.5, shear=0.0, perspective=0.0, flipud=0.0, fliplr=0.5, bgr=0.0, mosaic=1.0, mixup=0.0, copy_paste=0.0, auto_augment=randaugment, erasing=0.4, crop_fraction=1.0, cfg=None, tracker=botsort.yaml, save_dir=runs/detect/train12\n",
            "Overriding model.yaml nc=80 with nc=5\n",
            "\n",
            "                   from  n    params  module                                       arguments                     \n",
            "  0                  -1  1      1856  ultralytics.nn.modules.conv.Conv             [3, 64, 3, 2]                 \n",
            "  1                  -1  1     73984  ultralytics.nn.modules.conv.Conv             [64, 128, 3, 2]               \n",
            "  2                  -1  3    279808  ultralytics.nn.modules.block.C2f             [128, 128, 3, True]           \n",
            "  3                  -1  1    295424  ultralytics.nn.modules.conv.Conv             [128, 256, 3, 2]              \n",
            "  4                  -1  6   2101248  ultralytics.nn.modules.block.C2f             [256, 256, 6, True]           \n",
            "  5                  -1  1   1180672  ultralytics.nn.modules.conv.Conv             [256, 512, 3, 2]              \n",
            "  6                  -1  6   8396800  ultralytics.nn.modules.block.C2f             [512, 512, 6, True]           \n",
            "  7                  -1  1   2360320  ultralytics.nn.modules.conv.Conv             [512, 512, 3, 2]              \n",
            "  8                  -1  3   4461568  ultralytics.nn.modules.block.C2f             [512, 512, 3, True]           \n",
            "  9                  -1  1    656896  ultralytics.nn.modules.block.SPPF            [512, 512, 5]                 \n",
            " 10                  -1  1         0  torch.nn.modules.upsampling.Upsample         [None, 2, 'nearest']          \n",
            " 11             [-1, 6]  1         0  ultralytics.nn.modules.conv.Concat           [1]                           \n",
            " 12                  -1  3   4723712  ultralytics.nn.modules.block.C2f             [1024, 512, 3]                \n",
            " 13                  -1  1         0  torch.nn.modules.upsampling.Upsample         [None, 2, 'nearest']          \n",
            " 14             [-1, 4]  1         0  ultralytics.nn.modules.conv.Concat           [1]                           \n",
            " 15                  -1  3   1247744  ultralytics.nn.modules.block.C2f             [768, 256, 3]                 \n",
            " 16                  -1  1    590336  ultralytics.nn.modules.conv.Conv             [256, 256, 3, 2]              \n",
            " 17            [-1, 12]  1         0  ultralytics.nn.modules.conv.Concat           [1]                           \n",
            " 18                  -1  3   4592640  ultralytics.nn.modules.block.C2f             [768, 512, 3]                 \n",
            " 19                  -1  1   2360320  ultralytics.nn.modules.conv.Conv             [512, 512, 3, 2]              \n",
            " 20             [-1, 9]  1         0  ultralytics.nn.modules.conv.Concat           [1]                           \n",
            " 21                  -1  3   4723712  ultralytics.nn.modules.block.C2f             [1024, 512, 3]                \n",
            " 22        [15, 18, 21]  1   5586655  ultralytics.nn.modules.head.Detect           [5, [256, 512, 512]]          \n",
            "YOLOv8l summary: 365 layers, 43633695 parameters, 43633679 gradients, 165.4 GFLOPs\n",
            "\n",
            "Transferred 589/595 items from pretrained weights\n",
            "\u001b[34m\u001b[1mTensorBoard: \u001b[0mStart with 'tensorboard --logdir runs/detect/train12', view at http://localhost:6006/\n",
            "Freezing layer 'model.22.dfl.conv.weight'\n",
            "\u001b[34m\u001b[1mAMP: \u001b[0mrunning Automatic Mixed Precision (AMP) checks with YOLOv8n...\n",
            "\u001b[34m\u001b[1mAMP: \u001b[0mchecks passed ✅\n"
          ]
        },
        {
          "name": "stderr",
          "output_type": "stream",
          "text": [
            "\u001b[34m\u001b[1mtrain: \u001b[0mScanning /home/andre/Desktop/CU_submission/chulacv2023/Lab9/student/train/labels/val.cache... 1000 images, 0 backgrounds, 0 corrupt: 100%|██████████| 1000/1000 [00:00<?, ?it/s]\n",
            "\u001b[34m\u001b[1mval: \u001b[0mScanning /home/andre/Desktop/CU_submission/chulacv2023/Lab9/student/train/labels/val.cache... 1000 images, 0 backgrounds, 0 corrupt: 100%|██████████| 1000/1000 [00:00<?, ?it/s]\n"
          ]
        },
        {
          "name": "stdout",
          "output_type": "stream",
          "text": [
            "Plotting labels to runs/detect/train12/labels.jpg... \n",
            "\u001b[34m\u001b[1moptimizer:\u001b[0m 'optimizer=auto' found, ignoring 'lr0=0.01' and 'momentum=0.937' and determining best 'optimizer', 'lr0' and 'momentum' automatically... \n",
            "\u001b[34m\u001b[1moptimizer:\u001b[0m AdamW(lr=0.001111, momentum=0.9) with parameter groups 97 weight(decay=0.0), 104 weight(decay=0.0005), 103 bias(decay=0.0)\n",
            "\u001b[34m\u001b[1mTensorBoard: \u001b[0mmodel graph visualization added ✅\n",
            "Image sizes 1152 train, 1152 val\n",
            "Using 20 dataloader workers\n",
            "Logging results to \u001b[1mruns/detect/train12\u001b[0m\n",
            "Starting training for 150 epochs...\n",
            "\n",
            "      Epoch    GPU_mem   box_loss   cls_loss   dfl_loss  Instances       Size\n"
          ]
        },
        {
          "name": "stderr",
          "output_type": "stream",
          "text": [
            "      1/150      15.4G     0.5618      2.679     0.9569         10       1152: 100%|██████████| 125/125 [00:49<00:00,  2.51it/s]\n",
            "                 Class     Images  Instances      Box(P          R      mAP50  mAP50-95): 100%|██████████| 63/63 [00:13<00:00,  4.79it/s]"
          ]
        },
        {
          "name": "stdout",
          "output_type": "stream",
          "text": [
            "                   all       1000       1000      0.722       0.58      0.707      0.596\n"
          ]
        },
        {
          "name": "stderr",
          "output_type": "stream",
          "text": [
            "\n"
          ]
        },
        {
          "name": "stdout",
          "output_type": "stream",
          "text": [
            "\n",
            "      Epoch    GPU_mem   box_loss   cls_loss   dfl_loss  Instances       Size\n"
          ]
        },
        {
          "name": "stderr",
          "output_type": "stream",
          "text": [
            "      2/150      15.7G     0.6633      1.611      1.031         16       1152: 100%|██████████| 125/125 [00:48<00:00,  2.59it/s]\n",
            "                 Class     Images  Instances      Box(P          R      mAP50  mAP50-95): 100%|██████████| 63/63 [00:13<00:00,  4.75it/s]"
          ]
        },
        {
          "name": "stdout",
          "output_type": "stream",
          "text": [
            "                   all       1000       1000      0.316      0.275      0.198      0.159\n"
          ]
        },
        {
          "name": "stderr",
          "output_type": "stream",
          "text": [
            "\n"
          ]
        },
        {
          "name": "stdout",
          "output_type": "stream",
          "text": [
            "\n",
            "      Epoch    GPU_mem   box_loss   cls_loss   dfl_loss  Instances       Size\n"
          ]
        },
        {
          "name": "stderr",
          "output_type": "stream",
          "text": [
            "      3/150      15.7G     0.6754      1.363      1.034         13       1152: 100%|██████████| 125/125 [00:47<00:00,  2.62it/s]\n",
            "                 Class     Images  Instances      Box(P          R      mAP50  mAP50-95): 100%|██████████| 63/63 [00:12<00:00,  5.21it/s]"
          ]
        },
        {
          "name": "stdout",
          "output_type": "stream",
          "text": [
            "                   all       1000       1000      0.754        0.5      0.584      0.501\n"
          ]
        },
        {
          "name": "stderr",
          "output_type": "stream",
          "text": [
            "\n"
          ]
        },
        {
          "name": "stdout",
          "output_type": "stream",
          "text": [
            "\n",
            "      Epoch    GPU_mem   box_loss   cls_loss   dfl_loss  Instances       Size\n"
          ]
        },
        {
          "name": "stderr",
          "output_type": "stream",
          "text": [
            "      4/150      15.7G     0.6543      1.149      1.024         12       1152: 100%|██████████| 125/125 [00:45<00:00,  2.74it/s]\n",
            "                 Class     Images  Instances      Box(P          R      mAP50  mAP50-95): 100%|██████████| 63/63 [00:11<00:00,  5.30it/s]"
          ]
        },
        {
          "name": "stdout",
          "output_type": "stream",
          "text": [
            "                   all       1000       1000      0.769      0.784      0.875      0.756\n"
          ]
        },
        {
          "name": "stderr",
          "output_type": "stream",
          "text": [
            "\n"
          ]
        },
        {
          "name": "stdout",
          "output_type": "stream",
          "text": [
            "\n",
            "      Epoch    GPU_mem   box_loss   cls_loss   dfl_loss  Instances       Size\n"
          ]
        },
        {
          "name": "stderr",
          "output_type": "stream",
          "text": [
            "      5/150      15.8G      0.628     0.9837      1.012         13       1152: 100%|██████████| 125/125 [00:45<00:00,  2.74it/s]\n",
            "                 Class     Images  Instances      Box(P          R      mAP50  mAP50-95): 100%|██████████| 63/63 [00:11<00:00,  5.28it/s]"
          ]
        },
        {
          "name": "stdout",
          "output_type": "stream",
          "text": [
            "                   all       1000       1000      0.851      0.788      0.871       0.77\n"
          ]
        },
        {
          "name": "stderr",
          "output_type": "stream",
          "text": [
            "\n"
          ]
        },
        {
          "name": "stdout",
          "output_type": "stream",
          "text": [
            "\n",
            "      Epoch    GPU_mem   box_loss   cls_loss   dfl_loss  Instances       Size\n"
          ]
        },
        {
          "name": "stderr",
          "output_type": "stream",
          "text": [
            "      6/150      15.7G     0.5915     0.8201     0.9931         22       1152: 100%|██████████| 125/125 [00:46<00:00,  2.71it/s]\n",
            "                 Class     Images  Instances      Box(P          R      mAP50  mAP50-95): 100%|██████████| 63/63 [00:11<00:00,  5.30it/s]"
          ]
        },
        {
          "name": "stdout",
          "output_type": "stream",
          "text": [
            "                   all       1000       1000      0.833      0.792      0.872      0.771\n"
          ]
        },
        {
          "name": "stderr",
          "output_type": "stream",
          "text": [
            "\n"
          ]
        },
        {
          "name": "stdout",
          "output_type": "stream",
          "text": [
            "\n",
            "      Epoch    GPU_mem   box_loss   cls_loss   dfl_loss  Instances       Size\n"
          ]
        },
        {
          "name": "stderr",
          "output_type": "stream",
          "text": [
            "      7/150      15.7G     0.5565     0.7454     0.9501         15       1152: 100%|██████████| 125/125 [00:45<00:00,  2.73it/s]\n",
            "                 Class     Images  Instances      Box(P          R      mAP50  mAP50-95): 100%|██████████| 63/63 [00:11<00:00,  5.30it/s]"
          ]
        },
        {
          "name": "stdout",
          "output_type": "stream",
          "text": [
            "                   all       1000       1000      0.779      0.715      0.777      0.687\n"
          ]
        },
        {
          "name": "stderr",
          "output_type": "stream",
          "text": [
            "\n"
          ]
        },
        {
          "name": "stdout",
          "output_type": "stream",
          "text": [
            "\n",
            "      Epoch    GPU_mem   box_loss   cls_loss   dfl_loss  Instances       Size\n"
          ]
        },
        {
          "name": "stderr",
          "output_type": "stream",
          "text": [
            "      8/150      15.7G     0.5825     0.7796     0.9813         17       1152: 100%|██████████| 125/125 [00:45<00:00,  2.73it/s]\n",
            "                 Class     Images  Instances      Box(P          R      mAP50  mAP50-95): 100%|██████████| 63/63 [00:11<00:00,  5.32it/s]"
          ]
        },
        {
          "name": "stdout",
          "output_type": "stream",
          "text": [
            "                   all       1000       1000      0.909      0.859       0.93      0.837\n"
          ]
        },
        {
          "name": "stderr",
          "output_type": "stream",
          "text": [
            "\n"
          ]
        },
        {
          "name": "stdout",
          "output_type": "stream",
          "text": [
            "\n",
            "      Epoch    GPU_mem   box_loss   cls_loss   dfl_loss  Instances       Size\n"
          ]
        },
        {
          "name": "stderr",
          "output_type": "stream",
          "text": [
            "      9/150      15.7G     0.5485     0.7045     0.9714         13       1152: 100%|██████████| 125/125 [00:45<00:00,  2.73it/s]\n",
            "                 Class     Images  Instances      Box(P          R      mAP50  mAP50-95): 100%|██████████| 63/63 [00:11<00:00,  5.28it/s]"
          ]
        },
        {
          "name": "stdout",
          "output_type": "stream",
          "text": [
            "                   all       1000       1000      0.813      0.737       0.84      0.749\n"
          ]
        },
        {
          "name": "stderr",
          "output_type": "stream",
          "text": [
            "\n"
          ]
        },
        {
          "name": "stdout",
          "output_type": "stream",
          "text": [
            "\n",
            "      Epoch    GPU_mem   box_loss   cls_loss   dfl_loss  Instances       Size\n"
          ]
        },
        {
          "name": "stderr",
          "output_type": "stream",
          "text": [
            "     10/150      15.7G     0.5177     0.6625     0.9421         19       1152: 100%|██████████| 125/125 [00:45<00:00,  2.74it/s]\n",
            "                 Class     Images  Instances      Box(P          R      mAP50  mAP50-95): 100%|██████████| 63/63 [00:11<00:00,  5.31it/s]"
          ]
        },
        {
          "name": "stdout",
          "output_type": "stream",
          "text": [
            "                   all       1000       1000      0.853      0.884      0.937      0.855\n"
          ]
        },
        {
          "name": "stderr",
          "output_type": "stream",
          "text": [
            "\n"
          ]
        },
        {
          "name": "stdout",
          "output_type": "stream",
          "text": [
            "\n",
            "      Epoch    GPU_mem   box_loss   cls_loss   dfl_loss  Instances       Size\n"
          ]
        },
        {
          "name": "stderr",
          "output_type": "stream",
          "text": [
            "     11/150      15.7G     0.5057     0.6292     0.9388         11       1152: 100%|██████████| 125/125 [00:45<00:00,  2.74it/s]\n",
            "                 Class     Images  Instances      Box(P          R      mAP50  mAP50-95): 100%|██████████| 63/63 [00:11<00:00,  5.30it/s]"
          ]
        },
        {
          "name": "stdout",
          "output_type": "stream",
          "text": [
            "                   all       1000       1000      0.855      0.741      0.867      0.786\n"
          ]
        },
        {
          "name": "stderr",
          "output_type": "stream",
          "text": [
            "\n"
          ]
        },
        {
          "name": "stdout",
          "output_type": "stream",
          "text": [
            "\n",
            "      Epoch    GPU_mem   box_loss   cls_loss   dfl_loss  Instances       Size\n"
          ]
        },
        {
          "name": "stderr",
          "output_type": "stream",
          "text": [
            "     12/150      15.7G     0.4946     0.6053     0.9333         15       1152: 100%|██████████| 125/125 [00:45<00:00,  2.74it/s]\n",
            "                 Class     Images  Instances      Box(P          R      mAP50  mAP50-95): 100%|██████████| 63/63 [00:11<00:00,  5.32it/s]"
          ]
        },
        {
          "name": "stdout",
          "output_type": "stream",
          "text": [
            "                   all       1000       1000      0.916      0.872      0.948      0.871\n"
          ]
        },
        {
          "name": "stderr",
          "output_type": "stream",
          "text": [
            "\n"
          ]
        },
        {
          "name": "stdout",
          "output_type": "stream",
          "text": [
            "\n",
            "      Epoch    GPU_mem   box_loss   cls_loss   dfl_loss  Instances       Size\n"
          ]
        },
        {
          "name": "stderr",
          "output_type": "stream",
          "text": [
            "     13/150      15.7G     0.4733     0.5801      0.927         13       1152: 100%|██████████| 125/125 [00:45<00:00,  2.72it/s]\n",
            "                 Class     Images  Instances      Box(P          R      mAP50  mAP50-95): 100%|██████████| 63/63 [00:11<00:00,  5.30it/s]"
          ]
        },
        {
          "name": "stdout",
          "output_type": "stream",
          "text": [
            "                   all       1000       1000      0.872        0.9      0.938      0.865\n"
          ]
        },
        {
          "name": "stderr",
          "output_type": "stream",
          "text": [
            "\n"
          ]
        },
        {
          "name": "stdout",
          "output_type": "stream",
          "text": [
            "\n",
            "      Epoch    GPU_mem   box_loss   cls_loss   dfl_loss  Instances       Size\n"
          ]
        },
        {
          "name": "stderr",
          "output_type": "stream",
          "text": [
            "     14/150      15.7G     0.4764     0.5396     0.9231         19       1152: 100%|██████████| 125/125 [00:45<00:00,  2.72it/s]\n",
            "                 Class     Images  Instances      Box(P          R      mAP50  mAP50-95): 100%|██████████| 63/63 [00:11<00:00,  5.28it/s]"
          ]
        },
        {
          "name": "stdout",
          "output_type": "stream",
          "text": [
            "                   all       1000       1000      0.898       0.92      0.961      0.894\n"
          ]
        },
        {
          "name": "stderr",
          "output_type": "stream",
          "text": [
            "\n"
          ]
        },
        {
          "name": "stdout",
          "output_type": "stream",
          "text": [
            "\n",
            "      Epoch    GPU_mem   box_loss   cls_loss   dfl_loss  Instances       Size\n"
          ]
        },
        {
          "name": "stderr",
          "output_type": "stream",
          "text": [
            "     15/150      15.8G     0.4474     0.4878     0.9206         19       1152: 100%|██████████| 125/125 [00:45<00:00,  2.73it/s]\n",
            "                 Class     Images  Instances      Box(P          R      mAP50  mAP50-95): 100%|██████████| 63/63 [00:11<00:00,  5.32it/s]"
          ]
        },
        {
          "name": "stdout",
          "output_type": "stream",
          "text": [
            "                   all       1000       1000      0.935      0.952       0.98      0.921\n"
          ]
        },
        {
          "name": "stderr",
          "output_type": "stream",
          "text": [
            "\n"
          ]
        },
        {
          "name": "stdout",
          "output_type": "stream",
          "text": [
            "\n",
            "      Epoch    GPU_mem   box_loss   cls_loss   dfl_loss  Instances       Size\n"
          ]
        },
        {
          "name": "stderr",
          "output_type": "stream",
          "text": [
            "     16/150      15.8G     0.4735     0.5114      0.926         19       1152: 100%|██████████| 125/125 [00:46<00:00,  2.72it/s]\n",
            "                 Class     Images  Instances      Box(P          R      mAP50  mAP50-95): 100%|██████████| 63/63 [00:11<00:00,  5.33it/s]"
          ]
        },
        {
          "name": "stdout",
          "output_type": "stream",
          "text": [
            "                   all       1000       1000       0.94      0.931      0.978      0.916\n"
          ]
        },
        {
          "name": "stderr",
          "output_type": "stream",
          "text": [
            "\n"
          ]
        },
        {
          "name": "stdout",
          "output_type": "stream",
          "text": [
            "\n",
            "      Epoch    GPU_mem   box_loss   cls_loss   dfl_loss  Instances       Size\n"
          ]
        },
        {
          "name": "stderr",
          "output_type": "stream",
          "text": [
            "     17/150      15.7G     0.4276     0.4822     0.8991         12       1152: 100%|██████████| 125/125 [00:45<00:00,  2.75it/s]\n",
            "                 Class     Images  Instances      Box(P          R      mAP50  mAP50-95): 100%|██████████| 63/63 [00:11<00:00,  5.34it/s]"
          ]
        },
        {
          "name": "stdout",
          "output_type": "stream",
          "text": [
            "                   all       1000       1000      0.928      0.953      0.981      0.923\n"
          ]
        },
        {
          "name": "stderr",
          "output_type": "stream",
          "text": [
            "\n"
          ]
        },
        {
          "name": "stdout",
          "output_type": "stream",
          "text": [
            "\n",
            "      Epoch    GPU_mem   box_loss   cls_loss   dfl_loss  Instances       Size\n"
          ]
        },
        {
          "name": "stderr",
          "output_type": "stream",
          "text": [
            "     18/150      15.7G     0.4267     0.4495     0.9039         10       1152: 100%|██████████| 125/125 [00:45<00:00,  2.73it/s]\n",
            "                 Class     Images  Instances      Box(P          R      mAP50  mAP50-95): 100%|██████████| 63/63 [00:11<00:00,  5.34it/s]"
          ]
        },
        {
          "name": "stdout",
          "output_type": "stream",
          "text": [
            "                   all       1000       1000      0.945      0.967      0.984      0.928\n"
          ]
        },
        {
          "name": "stderr",
          "output_type": "stream",
          "text": [
            "\n"
          ]
        },
        {
          "name": "stdout",
          "output_type": "stream",
          "text": [
            "\n",
            "      Epoch    GPU_mem   box_loss   cls_loss   dfl_loss  Instances       Size\n"
          ]
        },
        {
          "name": "stderr",
          "output_type": "stream",
          "text": [
            "     19/150      15.7G     0.4481     0.4504     0.9131         14       1152: 100%|██████████| 125/125 [00:45<00:00,  2.74it/s]\n",
            "                 Class     Images  Instances      Box(P          R      mAP50  mAP50-95): 100%|██████████| 63/63 [00:11<00:00,  5.33it/s]"
          ]
        },
        {
          "name": "stdout",
          "output_type": "stream",
          "text": [
            "                   all       1000       1000      0.858      0.884      0.957      0.906\n"
          ]
        },
        {
          "name": "stderr",
          "output_type": "stream",
          "text": [
            "\n"
          ]
        },
        {
          "name": "stdout",
          "output_type": "stream",
          "text": [
            "\n",
            "      Epoch    GPU_mem   box_loss   cls_loss   dfl_loss  Instances       Size\n"
          ]
        },
        {
          "name": "stderr",
          "output_type": "stream",
          "text": [
            "     20/150      15.7G     0.4294     0.4345     0.9184         11       1152: 100%|██████████| 125/125 [00:45<00:00,  2.74it/s]\n",
            "                 Class     Images  Instances      Box(P          R      mAP50  mAP50-95): 100%|██████████| 63/63 [00:11<00:00,  5.32it/s]"
          ]
        },
        {
          "name": "stdout",
          "output_type": "stream",
          "text": [
            "                   all       1000       1000      0.933      0.951      0.975      0.923\n"
          ]
        },
        {
          "name": "stderr",
          "output_type": "stream",
          "text": [
            "\n"
          ]
        },
        {
          "name": "stdout",
          "output_type": "stream",
          "text": [
            "\n",
            "      Epoch    GPU_mem   box_loss   cls_loss   dfl_loss  Instances       Size\n"
          ]
        },
        {
          "name": "stderr",
          "output_type": "stream",
          "text": [
            "     21/150      15.6G     0.4183     0.4478     0.9018         15       1152: 100%|██████████| 125/125 [00:45<00:00,  2.73it/s]\n",
            "                 Class     Images  Instances      Box(P          R      mAP50  mAP50-95): 100%|██████████| 63/63 [00:11<00:00,  5.27it/s]"
          ]
        },
        {
          "name": "stdout",
          "output_type": "stream",
          "text": [
            "                   all       1000       1000      0.927       0.95       0.98      0.923\n"
          ]
        },
        {
          "name": "stderr",
          "output_type": "stream",
          "text": [
            "\n"
          ]
        },
        {
          "name": "stdout",
          "output_type": "stream",
          "text": [
            "\n",
            "      Epoch    GPU_mem   box_loss   cls_loss   dfl_loss  Instances       Size\n"
          ]
        },
        {
          "name": "stderr",
          "output_type": "stream",
          "text": [
            "     22/150      15.6G     0.4092     0.4288     0.8926         13       1152: 100%|██████████| 125/125 [00:45<00:00,  2.73it/s]\n",
            "                 Class     Images  Instances      Box(P          R      mAP50  mAP50-95): 100%|██████████| 63/63 [00:11<00:00,  5.29it/s]"
          ]
        },
        {
          "name": "stdout",
          "output_type": "stream",
          "text": [
            "                   all       1000       1000      0.944      0.927      0.981       0.94\n"
          ]
        },
        {
          "name": "stderr",
          "output_type": "stream",
          "text": [
            "\n"
          ]
        },
        {
          "name": "stdout",
          "output_type": "stream",
          "text": [
            "\n",
            "      Epoch    GPU_mem   box_loss   cls_loss   dfl_loss  Instances       Size\n"
          ]
        },
        {
          "name": "stderr",
          "output_type": "stream",
          "text": [
            "     23/150      15.6G       0.42     0.4523     0.9129         21       1152: 100%|██████████| 125/125 [00:45<00:00,  2.74it/s]\n",
            "                 Class     Images  Instances      Box(P          R      mAP50  mAP50-95): 100%|██████████| 63/63 [00:11<00:00,  5.31it/s]"
          ]
        },
        {
          "name": "stdout",
          "output_type": "stream",
          "text": [
            "                   all       1000       1000       0.97      0.972      0.989      0.947\n"
          ]
        },
        {
          "name": "stderr",
          "output_type": "stream",
          "text": [
            "\n"
          ]
        },
        {
          "name": "stdout",
          "output_type": "stream",
          "text": [
            "\n",
            "      Epoch    GPU_mem   box_loss   cls_loss   dfl_loss  Instances       Size\n"
          ]
        },
        {
          "name": "stderr",
          "output_type": "stream",
          "text": [
            "     24/150      15.6G     0.4048     0.4128        0.9         13       1152: 100%|██████████| 125/125 [00:45<00:00,  2.74it/s]\n",
            "                 Class     Images  Instances      Box(P          R      mAP50  mAP50-95): 100%|██████████| 63/63 [00:11<00:00,  5.29it/s]"
          ]
        },
        {
          "name": "stdout",
          "output_type": "stream",
          "text": [
            "                   all       1000       1000      0.978      0.984      0.992      0.945\n"
          ]
        },
        {
          "name": "stderr",
          "output_type": "stream",
          "text": [
            "\n"
          ]
        },
        {
          "name": "stdout",
          "output_type": "stream",
          "text": [
            "\n",
            "      Epoch    GPU_mem   box_loss   cls_loss   dfl_loss  Instances       Size\n"
          ]
        },
        {
          "name": "stderr",
          "output_type": "stream",
          "text": [
            "     25/150      15.7G     0.4055     0.4031     0.8953         12       1152: 100%|██████████| 125/125 [00:45<00:00,  2.74it/s]\n",
            "                 Class     Images  Instances      Box(P          R      mAP50  mAP50-95): 100%|██████████| 63/63 [00:11<00:00,  5.27it/s]"
          ]
        },
        {
          "name": "stdout",
          "output_type": "stream",
          "text": [
            "                   all       1000       1000      0.953      0.959      0.986      0.939\n"
          ]
        },
        {
          "name": "stderr",
          "output_type": "stream",
          "text": [
            "\n"
          ]
        },
        {
          "name": "stdout",
          "output_type": "stream",
          "text": [
            "\n",
            "      Epoch    GPU_mem   box_loss   cls_loss   dfl_loss  Instances       Size\n"
          ]
        },
        {
          "name": "stderr",
          "output_type": "stream",
          "text": [
            "     26/150      15.7G      0.401     0.3678     0.8941         13       1152: 100%|██████████| 125/125 [00:45<00:00,  2.73it/s]\n",
            "                 Class     Images  Instances      Box(P          R      mAP50  mAP50-95): 100%|██████████| 63/63 [00:11<00:00,  5.34it/s]"
          ]
        },
        {
          "name": "stdout",
          "output_type": "stream",
          "text": [
            "                   all       1000       1000       0.95       0.96      0.985      0.946\n"
          ]
        },
        {
          "name": "stderr",
          "output_type": "stream",
          "text": [
            "\n"
          ]
        },
        {
          "name": "stdout",
          "output_type": "stream",
          "text": [
            "\n",
            "      Epoch    GPU_mem   box_loss   cls_loss   dfl_loss  Instances       Size\n"
          ]
        },
        {
          "name": "stderr",
          "output_type": "stream",
          "text": [
            "     27/150      15.7G     0.4143     0.3997     0.8997         16       1152: 100%|██████████| 125/125 [00:45<00:00,  2.73it/s]\n",
            "                 Class     Images  Instances      Box(P          R      mAP50  mAP50-95): 100%|██████████| 63/63 [00:11<00:00,  5.29it/s]"
          ]
        },
        {
          "name": "stdout",
          "output_type": "stream",
          "text": [
            "                   all       1000       1000       0.91      0.913      0.972      0.922\n"
          ]
        },
        {
          "name": "stderr",
          "output_type": "stream",
          "text": [
            "\n"
          ]
        },
        {
          "name": "stdout",
          "output_type": "stream",
          "text": [
            "\n",
            "      Epoch    GPU_mem   box_loss   cls_loss   dfl_loss  Instances       Size\n"
          ]
        },
        {
          "name": "stderr",
          "output_type": "stream",
          "text": [
            "     28/150      15.7G     0.3855     0.3787     0.8781         16       1152: 100%|██████████| 125/125 [00:45<00:00,  2.74it/s]\n",
            "                 Class     Images  Instances      Box(P          R      mAP50  mAP50-95): 100%|██████████| 63/63 [00:11<00:00,  5.30it/s]"
          ]
        },
        {
          "name": "stdout",
          "output_type": "stream",
          "text": [
            "                   all       1000       1000      0.967      0.975      0.987      0.954\n"
          ]
        },
        {
          "name": "stderr",
          "output_type": "stream",
          "text": [
            "\n"
          ]
        },
        {
          "name": "stdout",
          "output_type": "stream",
          "text": [
            "\n",
            "      Epoch    GPU_mem   box_loss   cls_loss   dfl_loss  Instances       Size\n"
          ]
        },
        {
          "name": "stderr",
          "output_type": "stream",
          "text": [
            "     29/150      15.6G     0.3959     0.3807     0.8968         17       1152: 100%|██████████| 125/125 [00:45<00:00,  2.74it/s]\n",
            "                 Class     Images  Instances      Box(P          R      mAP50  mAP50-95): 100%|██████████| 63/63 [00:11<00:00,  5.29it/s]"
          ]
        },
        {
          "name": "stdout",
          "output_type": "stream",
          "text": [
            "                   all       1000       1000       0.96      0.968      0.984      0.946\n"
          ]
        },
        {
          "name": "stderr",
          "output_type": "stream",
          "text": [
            "\n"
          ]
        },
        {
          "name": "stdout",
          "output_type": "stream",
          "text": [
            "\n",
            "      Epoch    GPU_mem   box_loss   cls_loss   dfl_loss  Instances       Size\n"
          ]
        },
        {
          "name": "stderr",
          "output_type": "stream",
          "text": [
            "     30/150      15.6G     0.3965     0.3794     0.8871         23       1152: 100%|██████████| 125/125 [00:45<00:00,  2.72it/s]\n",
            "                 Class     Images  Instances      Box(P          R      mAP50  mAP50-95): 100%|██████████| 63/63 [00:11<00:00,  5.34it/s]"
          ]
        },
        {
          "name": "stdout",
          "output_type": "stream",
          "text": [
            "                   all       1000       1000      0.963      0.956      0.987      0.957\n"
          ]
        },
        {
          "name": "stderr",
          "output_type": "stream",
          "text": [
            "\n"
          ]
        },
        {
          "name": "stdout",
          "output_type": "stream",
          "text": [
            "\n",
            "      Epoch    GPU_mem   box_loss   cls_loss   dfl_loss  Instances       Size\n"
          ]
        },
        {
          "name": "stderr",
          "output_type": "stream",
          "text": [
            "     31/150      15.7G     0.3796     0.3542       0.88         15       1152: 100%|██████████| 125/125 [00:45<00:00,  2.74it/s]\n",
            "                 Class     Images  Instances      Box(P          R      mAP50  mAP50-95): 100%|██████████| 63/63 [00:11<00:00,  5.29it/s]"
          ]
        },
        {
          "name": "stdout",
          "output_type": "stream",
          "text": [
            "                   all       1000       1000      0.981      0.981      0.992       0.96\n"
          ]
        },
        {
          "name": "stderr",
          "output_type": "stream",
          "text": [
            "\n"
          ]
        },
        {
          "name": "stdout",
          "output_type": "stream",
          "text": [
            "\n",
            "      Epoch    GPU_mem   box_loss   cls_loss   dfl_loss  Instances       Size\n"
          ]
        },
        {
          "name": "stderr",
          "output_type": "stream",
          "text": [
            "     32/150      15.7G     0.3811     0.3531     0.8847         23       1152: 100%|██████████| 125/125 [00:45<00:00,  2.74it/s]\n",
            "                 Class     Images  Instances      Box(P          R      mAP50  mAP50-95): 100%|██████████| 63/63 [00:11<00:00,  5.33it/s]"
          ]
        },
        {
          "name": "stdout",
          "output_type": "stream",
          "text": [
            "                   all       1000       1000      0.979      0.992      0.993      0.959\n"
          ]
        },
        {
          "name": "stderr",
          "output_type": "stream",
          "text": [
            "\n"
          ]
        },
        {
          "name": "stdout",
          "output_type": "stream",
          "text": [
            "\n",
            "      Epoch    GPU_mem   box_loss   cls_loss   dfl_loss  Instances       Size\n"
          ]
        },
        {
          "name": "stderr",
          "output_type": "stream",
          "text": [
            "     33/150      15.7G     0.3814     0.3509     0.8749         16       1152: 100%|██████████| 125/125 [00:45<00:00,  2.75it/s]\n",
            "                 Class     Images  Instances      Box(P          R      mAP50  mAP50-95): 100%|██████████| 63/63 [00:11<00:00,  5.31it/s]"
          ]
        },
        {
          "name": "stdout",
          "output_type": "stream",
          "text": [
            "                   all       1000       1000      0.973      0.985      0.989      0.957\n"
          ]
        },
        {
          "name": "stderr",
          "output_type": "stream",
          "text": [
            "\n"
          ]
        },
        {
          "name": "stdout",
          "output_type": "stream",
          "text": [
            "\n",
            "      Epoch    GPU_mem   box_loss   cls_loss   dfl_loss  Instances       Size\n"
          ]
        },
        {
          "name": "stderr",
          "output_type": "stream",
          "text": [
            "     34/150      15.7G     0.3628     0.3279     0.8843         19       1152: 100%|██████████| 125/125 [00:45<00:00,  2.75it/s]\n",
            "                 Class     Images  Instances      Box(P          R      mAP50  mAP50-95): 100%|██████████| 63/63 [00:11<00:00,  5.29it/s]"
          ]
        },
        {
          "name": "stdout",
          "output_type": "stream",
          "text": [
            "                   all       1000       1000      0.982      0.996      0.993      0.965\n"
          ]
        },
        {
          "name": "stderr",
          "output_type": "stream",
          "text": [
            "\n"
          ]
        },
        {
          "name": "stdout",
          "output_type": "stream",
          "text": [
            "\n",
            "      Epoch    GPU_mem   box_loss   cls_loss   dfl_loss  Instances       Size\n"
          ]
        },
        {
          "name": "stderr",
          "output_type": "stream",
          "text": [
            "     35/150      15.7G     0.3624     0.3298     0.8773          9       1152: 100%|██████████| 125/125 [00:45<00:00,  2.74it/s]\n",
            "                 Class     Images  Instances      Box(P          R      mAP50  mAP50-95): 100%|██████████| 63/63 [00:11<00:00,  5.33it/s]"
          ]
        },
        {
          "name": "stdout",
          "output_type": "stream",
          "text": [
            "                   all       1000       1000      0.985      0.984      0.992      0.959\n"
          ]
        },
        {
          "name": "stderr",
          "output_type": "stream",
          "text": [
            "\n"
          ]
        },
        {
          "name": "stdout",
          "output_type": "stream",
          "text": [
            "\n",
            "      Epoch    GPU_mem   box_loss   cls_loss   dfl_loss  Instances       Size\n"
          ]
        },
        {
          "name": "stderr",
          "output_type": "stream",
          "text": [
            "     36/150      15.7G     0.3701     0.3332     0.8751         14       1152: 100%|██████████| 125/125 [00:45<00:00,  2.74it/s]\n",
            "                 Class     Images  Instances      Box(P          R      mAP50  mAP50-95): 100%|██████████| 63/63 [00:11<00:00,  5.34it/s]"
          ]
        },
        {
          "name": "stdout",
          "output_type": "stream",
          "text": [
            "                   all       1000       1000      0.948      0.958      0.982      0.947\n"
          ]
        },
        {
          "name": "stderr",
          "output_type": "stream",
          "text": [
            "\n"
          ]
        },
        {
          "name": "stdout",
          "output_type": "stream",
          "text": [
            "\n",
            "      Epoch    GPU_mem   box_loss   cls_loss   dfl_loss  Instances       Size\n"
          ]
        },
        {
          "name": "stderr",
          "output_type": "stream",
          "text": [
            "     37/150      15.6G     0.3714     0.3462     0.8834         15       1152: 100%|██████████| 125/125 [00:45<00:00,  2.73it/s]\n",
            "                 Class     Images  Instances      Box(P          R      mAP50  mAP50-95): 100%|██████████| 63/63 [00:11<00:00,  5.34it/s]"
          ]
        },
        {
          "name": "stdout",
          "output_type": "stream",
          "text": [
            "                   all       1000       1000      0.984      0.977      0.993      0.969\n"
          ]
        },
        {
          "name": "stderr",
          "output_type": "stream",
          "text": [
            "\n"
          ]
        },
        {
          "name": "stdout",
          "output_type": "stream",
          "text": [
            "\n",
            "      Epoch    GPU_mem   box_loss   cls_loss   dfl_loss  Instances       Size\n"
          ]
        },
        {
          "name": "stderr",
          "output_type": "stream",
          "text": [
            "     38/150      15.7G     0.3639     0.3178     0.8685         15       1152: 100%|██████████| 125/125 [00:45<00:00,  2.74it/s]\n",
            "                 Class     Images  Instances      Box(P          R      mAP50  mAP50-95): 100%|██████████| 63/63 [00:11<00:00,  5.28it/s]"
          ]
        },
        {
          "name": "stdout",
          "output_type": "stream",
          "text": [
            "                   all       1000       1000      0.934       0.92      0.968       0.94\n"
          ]
        },
        {
          "name": "stderr",
          "output_type": "stream",
          "text": [
            "\n"
          ]
        },
        {
          "name": "stdout",
          "output_type": "stream",
          "text": [
            "\n",
            "      Epoch    GPU_mem   box_loss   cls_loss   dfl_loss  Instances       Size\n"
          ]
        },
        {
          "name": "stderr",
          "output_type": "stream",
          "text": [
            "     39/150      15.6G     0.3624     0.3174     0.8757          8       1152: 100%|██████████| 125/125 [00:45<00:00,  2.72it/s]\n",
            "                 Class     Images  Instances      Box(P          R      mAP50  mAP50-95): 100%|██████████| 63/63 [00:11<00:00,  5.34it/s]"
          ]
        },
        {
          "name": "stdout",
          "output_type": "stream",
          "text": [
            "                   all       1000       1000      0.979      0.991      0.994      0.965\n"
          ]
        },
        {
          "name": "stderr",
          "output_type": "stream",
          "text": [
            "\n"
          ]
        },
        {
          "name": "stdout",
          "output_type": "stream",
          "text": [
            "\n",
            "      Epoch    GPU_mem   box_loss   cls_loss   dfl_loss  Instances       Size\n"
          ]
        },
        {
          "name": "stderr",
          "output_type": "stream",
          "text": [
            "     40/150      15.8G     0.3586     0.3073     0.8812         15       1152: 100%|██████████| 125/125 [00:45<00:00,  2.72it/s]\n",
            "                 Class     Images  Instances      Box(P          R      mAP50  mAP50-95): 100%|██████████| 63/63 [00:11<00:00,  5.32it/s]"
          ]
        },
        {
          "name": "stdout",
          "output_type": "stream",
          "text": [
            "                   all       1000       1000      0.974      0.986      0.991      0.968\n"
          ]
        },
        {
          "name": "stderr",
          "output_type": "stream",
          "text": [
            "\n"
          ]
        },
        {
          "name": "stdout",
          "output_type": "stream",
          "text": [
            "\n",
            "      Epoch    GPU_mem   box_loss   cls_loss   dfl_loss  Instances       Size\n"
          ]
        },
        {
          "name": "stderr",
          "output_type": "stream",
          "text": [
            "     41/150      15.7G     0.3496      0.326     0.8676         16       1152: 100%|██████████| 125/125 [00:45<00:00,  2.74it/s]\n",
            "                 Class     Images  Instances      Box(P          R      mAP50  mAP50-95): 100%|██████████| 63/63 [00:11<00:00,  5.33it/s]"
          ]
        },
        {
          "name": "stdout",
          "output_type": "stream",
          "text": [
            "                   all       1000       1000      0.944      0.963      0.983      0.957\n"
          ]
        },
        {
          "name": "stderr",
          "output_type": "stream",
          "text": [
            "\n"
          ]
        },
        {
          "name": "stdout",
          "output_type": "stream",
          "text": [
            "\n",
            "      Epoch    GPU_mem   box_loss   cls_loss   dfl_loss  Instances       Size\n"
          ]
        },
        {
          "name": "stderr",
          "output_type": "stream",
          "text": [
            "     42/150      15.7G     0.3553     0.3307     0.8764         18       1152: 100%|██████████| 125/125 [00:45<00:00,  2.74it/s]\n",
            "                 Class     Images  Instances      Box(P          R      mAP50  mAP50-95): 100%|██████████| 63/63 [00:11<00:00,  5.28it/s]"
          ]
        },
        {
          "name": "stdout",
          "output_type": "stream",
          "text": [
            "                   all       1000       1000      0.985      0.995      0.992      0.969\n"
          ]
        },
        {
          "name": "stderr",
          "output_type": "stream",
          "text": [
            "\n"
          ]
        },
        {
          "name": "stdout",
          "output_type": "stream",
          "text": [
            "\n",
            "      Epoch    GPU_mem   box_loss   cls_loss   dfl_loss  Instances       Size\n"
          ]
        },
        {
          "name": "stderr",
          "output_type": "stream",
          "text": [
            "     43/150      15.7G     0.3512     0.3266     0.8698         10       1152: 100%|██████████| 125/125 [00:45<00:00,  2.74it/s]\n",
            "                 Class     Images  Instances      Box(P          R      mAP50  mAP50-95): 100%|██████████| 63/63 [00:11<00:00,  5.33it/s]"
          ]
        },
        {
          "name": "stdout",
          "output_type": "stream",
          "text": [
            "                   all       1000       1000      0.983      0.989      0.992      0.969\n"
          ]
        },
        {
          "name": "stderr",
          "output_type": "stream",
          "text": [
            "\n"
          ]
        },
        {
          "name": "stdout",
          "output_type": "stream",
          "text": [
            "\n",
            "      Epoch    GPU_mem   box_loss   cls_loss   dfl_loss  Instances       Size\n"
          ]
        },
        {
          "name": "stderr",
          "output_type": "stream",
          "text": [
            "     44/150      15.7G     0.3515     0.3082     0.8735         17       1152: 100%|██████████| 125/125 [00:45<00:00,  2.74it/s]\n",
            "                 Class     Images  Instances      Box(P          R      mAP50  mAP50-95): 100%|██████████| 63/63 [00:11<00:00,  5.29it/s]"
          ]
        },
        {
          "name": "stdout",
          "output_type": "stream",
          "text": [
            "                   all       1000       1000       0.99      0.997      0.993      0.971\n"
          ]
        },
        {
          "name": "stderr",
          "output_type": "stream",
          "text": [
            "\n"
          ]
        },
        {
          "name": "stdout",
          "output_type": "stream",
          "text": [
            "\n",
            "      Epoch    GPU_mem   box_loss   cls_loss   dfl_loss  Instances       Size\n"
          ]
        },
        {
          "name": "stderr",
          "output_type": "stream",
          "text": [
            "     45/150      15.7G     0.3366     0.2948     0.8687         10       1152: 100%|██████████| 125/125 [00:45<00:00,  2.74it/s]\n",
            "                 Class     Images  Instances      Box(P          R      mAP50  mAP50-95): 100%|██████████| 63/63 [00:11<00:00,  5.37it/s]"
          ]
        },
        {
          "name": "stdout",
          "output_type": "stream",
          "text": [
            "                   all       1000       1000      0.991      0.996      0.994      0.972\n"
          ]
        },
        {
          "name": "stderr",
          "output_type": "stream",
          "text": [
            "\n"
          ]
        },
        {
          "name": "stdout",
          "output_type": "stream",
          "text": [
            "\n",
            "      Epoch    GPU_mem   box_loss   cls_loss   dfl_loss  Instances       Size\n"
          ]
        },
        {
          "name": "stderr",
          "output_type": "stream",
          "text": [
            "     46/150      15.7G     0.3474     0.2945     0.8602          9       1152: 100%|██████████| 125/125 [00:45<00:00,  2.75it/s]\n",
            "                 Class     Images  Instances      Box(P          R      mAP50  mAP50-95): 100%|██████████| 63/63 [00:11<00:00,  5.29it/s]"
          ]
        },
        {
          "name": "stdout",
          "output_type": "stream",
          "text": [
            "                   all       1000       1000      0.989      0.992      0.993      0.974\n"
          ]
        },
        {
          "name": "stderr",
          "output_type": "stream",
          "text": [
            "\n"
          ]
        },
        {
          "name": "stdout",
          "output_type": "stream",
          "text": [
            "\n",
            "      Epoch    GPU_mem   box_loss   cls_loss   dfl_loss  Instances       Size\n"
          ]
        },
        {
          "name": "stderr",
          "output_type": "stream",
          "text": [
            "     47/150      15.7G     0.3416     0.3003     0.8643         16       1152: 100%|██████████| 125/125 [00:45<00:00,  2.74it/s]\n",
            "                 Class     Images  Instances      Box(P          R      mAP50  mAP50-95): 100%|██████████| 63/63 [00:11<00:00,  5.34it/s]"
          ]
        },
        {
          "name": "stdout",
          "output_type": "stream",
          "text": [
            "                   all       1000       1000      0.991      0.995      0.993       0.97\n"
          ]
        },
        {
          "name": "stderr",
          "output_type": "stream",
          "text": [
            "\n"
          ]
        },
        {
          "name": "stdout",
          "output_type": "stream",
          "text": [
            "\n",
            "      Epoch    GPU_mem   box_loss   cls_loss   dfl_loss  Instances       Size\n"
          ]
        },
        {
          "name": "stderr",
          "output_type": "stream",
          "text": [
            "     48/150      15.8G     0.3417      0.285     0.8614          9       1152: 100%|██████████| 125/125 [00:45<00:00,  2.73it/s]\n",
            "                 Class     Images  Instances      Box(P          R      mAP50  mAP50-95): 100%|██████████| 63/63 [00:11<00:00,  5.34it/s]"
          ]
        },
        {
          "name": "stdout",
          "output_type": "stream",
          "text": [
            "                   all       1000       1000       0.99      0.997      0.993      0.971\n"
          ]
        },
        {
          "name": "stderr",
          "output_type": "stream",
          "text": [
            "\n"
          ]
        },
        {
          "name": "stdout",
          "output_type": "stream",
          "text": [
            "\n",
            "      Epoch    GPU_mem   box_loss   cls_loss   dfl_loss  Instances       Size\n"
          ]
        },
        {
          "name": "stderr",
          "output_type": "stream",
          "text": [
            "     49/150      15.7G     0.3441      0.293      0.877         10       1152: 100%|██████████| 125/125 [00:45<00:00,  2.74it/s]\n",
            "                 Class     Images  Instances      Box(P          R      mAP50  mAP50-95): 100%|██████████| 63/63 [00:11<00:00,  5.31it/s]"
          ]
        },
        {
          "name": "stdout",
          "output_type": "stream",
          "text": [
            "                   all       1000       1000      0.991      0.998      0.995      0.972\n"
          ]
        },
        {
          "name": "stderr",
          "output_type": "stream",
          "text": [
            "\n"
          ]
        },
        {
          "name": "stdout",
          "output_type": "stream",
          "text": [
            "\n",
            "      Epoch    GPU_mem   box_loss   cls_loss   dfl_loss  Instances       Size\n"
          ]
        },
        {
          "name": "stderr",
          "output_type": "stream",
          "text": [
            "     50/150      15.7G     0.3378     0.2898     0.8675         17       1152: 100%|██████████| 125/125 [00:45<00:00,  2.74it/s]\n",
            "                 Class     Images  Instances      Box(P          R      mAP50  mAP50-95): 100%|██████████| 63/63 [00:11<00:00,  5.31it/s]"
          ]
        },
        {
          "name": "stdout",
          "output_type": "stream",
          "text": [
            "                   all       1000       1000      0.987      0.989      0.993      0.976\n"
          ]
        },
        {
          "name": "stderr",
          "output_type": "stream",
          "text": [
            "\n"
          ]
        },
        {
          "name": "stdout",
          "output_type": "stream",
          "text": [
            "\n",
            "      Epoch    GPU_mem   box_loss   cls_loss   dfl_loss  Instances       Size\n"
          ]
        },
        {
          "name": "stderr",
          "output_type": "stream",
          "text": [
            "     51/150      15.7G     0.3421     0.2963     0.8713         14       1152: 100%|██████████| 125/125 [00:45<00:00,  2.74it/s]\n",
            "                 Class     Images  Instances      Box(P          R      mAP50  mAP50-95): 100%|██████████| 63/63 [00:11<00:00,  5.32it/s]"
          ]
        },
        {
          "name": "stdout",
          "output_type": "stream",
          "text": [
            "                   all       1000       1000      0.979      0.989      0.992      0.973\n"
          ]
        },
        {
          "name": "stderr",
          "output_type": "stream",
          "text": [
            "\n"
          ]
        },
        {
          "name": "stdout",
          "output_type": "stream",
          "text": [
            "\n",
            "      Epoch    GPU_mem   box_loss   cls_loss   dfl_loss  Instances       Size\n"
          ]
        },
        {
          "name": "stderr",
          "output_type": "stream",
          "text": [
            "     52/150      15.7G      0.337     0.2972     0.8709         15       1152: 100%|██████████| 125/125 [00:45<00:00,  2.73it/s]\n",
            "                 Class     Images  Instances      Box(P          R      mAP50  mAP50-95): 100%|██████████| 63/63 [00:11<00:00,  5.30it/s]"
          ]
        },
        {
          "name": "stdout",
          "output_type": "stream",
          "text": [
            "                   all       1000       1000       0.95      0.967      0.988      0.962\n"
          ]
        },
        {
          "name": "stderr",
          "output_type": "stream",
          "text": [
            "\n"
          ]
        },
        {
          "name": "stdout",
          "output_type": "stream",
          "text": [
            "\n",
            "      Epoch    GPU_mem   box_loss   cls_loss   dfl_loss  Instances       Size\n"
          ]
        },
        {
          "name": "stderr",
          "output_type": "stream",
          "text": [
            "     53/150      15.6G     0.3322      0.277     0.8595         12       1152: 100%|██████████| 125/125 [00:45<00:00,  2.72it/s]\n",
            "                 Class     Images  Instances      Box(P          R      mAP50  mAP50-95): 100%|██████████| 63/63 [00:11<00:00,  5.29it/s]"
          ]
        },
        {
          "name": "stdout",
          "output_type": "stream",
          "text": [
            "                   all       1000       1000      0.988      0.988      0.994      0.976\n"
          ]
        },
        {
          "name": "stderr",
          "output_type": "stream",
          "text": [
            "\n"
          ]
        },
        {
          "name": "stdout",
          "output_type": "stream",
          "text": [
            "\n",
            "      Epoch    GPU_mem   box_loss   cls_loss   dfl_loss  Instances       Size\n"
          ]
        },
        {
          "name": "stderr",
          "output_type": "stream",
          "text": [
            "     54/150      15.7G     0.3394     0.2803     0.8701         16       1152: 100%|██████████| 125/125 [00:45<00:00,  2.74it/s]\n",
            "                 Class     Images  Instances      Box(P          R      mAP50  mAP50-95): 100%|██████████| 63/63 [00:11<00:00,  5.30it/s]"
          ]
        },
        {
          "name": "stdout",
          "output_type": "stream",
          "text": [
            "                   all       1000       1000      0.982      0.989      0.993      0.977\n"
          ]
        },
        {
          "name": "stderr",
          "output_type": "stream",
          "text": [
            "\n"
          ]
        },
        {
          "name": "stdout",
          "output_type": "stream",
          "text": [
            "\n",
            "      Epoch    GPU_mem   box_loss   cls_loss   dfl_loss  Instances       Size\n"
          ]
        },
        {
          "name": "stderr",
          "output_type": "stream",
          "text": [
            "     55/150      15.7G     0.3355     0.2872     0.8681         12       1152: 100%|██████████| 125/125 [00:45<00:00,  2.75it/s]\n",
            "                 Class     Images  Instances      Box(P          R      mAP50  mAP50-95): 100%|██████████| 63/63 [00:11<00:00,  5.29it/s]"
          ]
        },
        {
          "name": "stdout",
          "output_type": "stream",
          "text": [
            "                   all       1000       1000      0.982      0.992      0.993      0.977\n"
          ]
        },
        {
          "name": "stderr",
          "output_type": "stream",
          "text": [
            "\n"
          ]
        },
        {
          "name": "stdout",
          "output_type": "stream",
          "text": [
            "\n",
            "      Epoch    GPU_mem   box_loss   cls_loss   dfl_loss  Instances       Size\n"
          ]
        },
        {
          "name": "stderr",
          "output_type": "stream",
          "text": [
            "     56/150      15.7G     0.3333     0.2853     0.8675         12       1152: 100%|██████████| 125/125 [00:46<00:00,  2.69it/s]\n",
            "                 Class     Images  Instances      Box(P          R      mAP50  mAP50-95): 100%|██████████| 63/63 [00:12<00:00,  5.02it/s]"
          ]
        },
        {
          "name": "stdout",
          "output_type": "stream",
          "text": [
            "                   all       1000       1000      0.989      0.997      0.991      0.972\n"
          ]
        },
        {
          "name": "stderr",
          "output_type": "stream",
          "text": [
            "\n"
          ]
        },
        {
          "name": "stdout",
          "output_type": "stream",
          "text": [
            "\n",
            "      Epoch    GPU_mem   box_loss   cls_loss   dfl_loss  Instances       Size\n"
          ]
        },
        {
          "name": "stderr",
          "output_type": "stream",
          "text": [
            "     57/150      15.7G     0.3275     0.2759     0.8645         19       1152: 100%|██████████| 125/125 [00:46<00:00,  2.69it/s]\n",
            "                 Class     Images  Instances      Box(P          R      mAP50  mAP50-95): 100%|██████████| 63/63 [00:12<00:00,  5.00it/s]"
          ]
        },
        {
          "name": "stdout",
          "output_type": "stream",
          "text": [
            "                   all       1000       1000      0.987      0.987      0.993      0.974\n"
          ]
        },
        {
          "name": "stderr",
          "output_type": "stream",
          "text": [
            "\n"
          ]
        },
        {
          "name": "stdout",
          "output_type": "stream",
          "text": [
            "\n",
            "      Epoch    GPU_mem   box_loss   cls_loss   dfl_loss  Instances       Size\n"
          ]
        },
        {
          "name": "stderr",
          "output_type": "stream",
          "text": [
            "     58/150      15.7G     0.3307     0.2658     0.8646         11       1152: 100%|██████████| 125/125 [00:46<00:00,  2.69it/s]\n",
            "                 Class     Images  Instances      Box(P          R      mAP50  mAP50-95): 100%|██████████| 63/63 [00:12<00:00,  5.03it/s]"
          ]
        },
        {
          "name": "stdout",
          "output_type": "stream",
          "text": [
            "                   all       1000       1000      0.993      0.997      0.994      0.979\n"
          ]
        },
        {
          "name": "stderr",
          "output_type": "stream",
          "text": [
            "\n"
          ]
        },
        {
          "name": "stdout",
          "output_type": "stream",
          "text": [
            "\n",
            "      Epoch    GPU_mem   box_loss   cls_loss   dfl_loss  Instances       Size\n"
          ]
        },
        {
          "name": "stderr",
          "output_type": "stream",
          "text": [
            "     59/150      15.7G     0.3326      0.273      0.862         18       1152: 100%|██████████| 125/125 [00:46<00:00,  2.69it/s]\n",
            "                 Class     Images  Instances      Box(P          R      mAP50  mAP50-95): 100%|██████████| 63/63 [00:12<00:00,  5.00it/s]"
          ]
        },
        {
          "name": "stdout",
          "output_type": "stream",
          "text": [
            "                   all       1000       1000      0.992      0.998      0.995      0.977\n"
          ]
        },
        {
          "name": "stderr",
          "output_type": "stream",
          "text": [
            "\n"
          ]
        },
        {
          "name": "stdout",
          "output_type": "stream",
          "text": [
            "\n",
            "      Epoch    GPU_mem   box_loss   cls_loss   dfl_loss  Instances       Size\n"
          ]
        },
        {
          "name": "stderr",
          "output_type": "stream",
          "text": [
            "     60/150      15.7G     0.3296      0.282     0.8693         15       1152: 100%|██████████| 125/125 [00:46<00:00,  2.70it/s]\n",
            "                 Class     Images  Instances      Box(P          R      mAP50  mAP50-95): 100%|██████████| 63/63 [00:12<00:00,  5.00it/s]"
          ]
        },
        {
          "name": "stdout",
          "output_type": "stream",
          "text": [
            "                   all       1000       1000       0.99      0.994      0.993      0.977\n"
          ]
        },
        {
          "name": "stderr",
          "output_type": "stream",
          "text": [
            "\n"
          ]
        },
        {
          "name": "stdout",
          "output_type": "stream",
          "text": [
            "\n",
            "      Epoch    GPU_mem   box_loss   cls_loss   dfl_loss  Instances       Size\n"
          ]
        },
        {
          "name": "stderr",
          "output_type": "stream",
          "text": [
            "     61/150      15.6G     0.3221     0.2639      0.866         19       1152: 100%|██████████| 125/125 [00:46<00:00,  2.69it/s]\n",
            "                 Class     Images  Instances      Box(P          R      mAP50  mAP50-95): 100%|██████████| 63/63 [00:12<00:00,  5.02it/s]"
          ]
        },
        {
          "name": "stdout",
          "output_type": "stream",
          "text": [
            "                   all       1000       1000       0.97       0.97      0.983      0.967\n"
          ]
        },
        {
          "name": "stderr",
          "output_type": "stream",
          "text": [
            "\n"
          ]
        },
        {
          "name": "stdout",
          "output_type": "stream",
          "text": [
            "\n",
            "      Epoch    GPU_mem   box_loss   cls_loss   dfl_loss  Instances       Size\n"
          ]
        },
        {
          "name": "stderr",
          "output_type": "stream",
          "text": [
            "     62/150      15.6G     0.3324     0.2787     0.8636         19       1152: 100%|██████████| 125/125 [00:46<00:00,  2.69it/s]\n",
            "                 Class     Images  Instances      Box(P          R      mAP50  mAP50-95): 100%|██████████| 63/63 [00:12<00:00,  5.05it/s]"
          ]
        },
        {
          "name": "stdout",
          "output_type": "stream",
          "text": [
            "                   all       1000       1000      0.994      0.996      0.995      0.977\n"
          ]
        },
        {
          "name": "stderr",
          "output_type": "stream",
          "text": [
            "\n"
          ]
        },
        {
          "name": "stdout",
          "output_type": "stream",
          "text": [
            "\n",
            "      Epoch    GPU_mem   box_loss   cls_loss   dfl_loss  Instances       Size\n"
          ]
        },
        {
          "name": "stderr",
          "output_type": "stream",
          "text": [
            "     63/150      15.6G     0.3209     0.2513     0.8596         11       1152: 100%|██████████| 125/125 [00:46<00:00,  2.70it/s]\n",
            "                 Class     Images  Instances      Box(P          R      mAP50  mAP50-95): 100%|██████████| 63/63 [00:12<00:00,  5.03it/s]"
          ]
        },
        {
          "name": "stdout",
          "output_type": "stream",
          "text": [
            "                   all       1000       1000      0.994      0.999      0.995      0.982\n"
          ]
        },
        {
          "name": "stderr",
          "output_type": "stream",
          "text": [
            "\n"
          ]
        },
        {
          "name": "stdout",
          "output_type": "stream",
          "text": [
            "\n",
            "      Epoch    GPU_mem   box_loss   cls_loss   dfl_loss  Instances       Size\n"
          ]
        },
        {
          "name": "stderr",
          "output_type": "stream",
          "text": [
            "     64/150      15.6G     0.3245     0.2537     0.8605         18       1152: 100%|██████████| 125/125 [00:46<00:00,  2.70it/s]\n",
            "                 Class     Images  Instances      Box(P          R      mAP50  mAP50-95): 100%|██████████| 63/63 [00:12<00:00,  5.03it/s]"
          ]
        },
        {
          "name": "stdout",
          "output_type": "stream",
          "text": [
            "                   all       1000       1000      0.993      0.998      0.995      0.979\n"
          ]
        },
        {
          "name": "stderr",
          "output_type": "stream",
          "text": [
            "\n"
          ]
        },
        {
          "name": "stdout",
          "output_type": "stream",
          "text": [
            "\n",
            "      Epoch    GPU_mem   box_loss   cls_loss   dfl_loss  Instances       Size\n"
          ]
        },
        {
          "name": "stderr",
          "output_type": "stream",
          "text": [
            "     65/150      15.6G     0.3199     0.2478     0.8536         11       1152: 100%|██████████| 125/125 [00:46<00:00,  2.68it/s]\n",
            "                 Class     Images  Instances      Box(P          R      mAP50  mAP50-95): 100%|██████████| 63/63 [00:12<00:00,  4.99it/s]"
          ]
        },
        {
          "name": "stdout",
          "output_type": "stream",
          "text": [
            "                   all       1000       1000       0.99      0.998      0.994      0.981\n"
          ]
        },
        {
          "name": "stderr",
          "output_type": "stream",
          "text": [
            "\n"
          ]
        },
        {
          "name": "stdout",
          "output_type": "stream",
          "text": [
            "\n",
            "      Epoch    GPU_mem   box_loss   cls_loss   dfl_loss  Instances       Size\n"
          ]
        },
        {
          "name": "stderr",
          "output_type": "stream",
          "text": [
            "     66/150      15.7G     0.3146      0.245     0.8616         21       1152: 100%|██████████| 125/125 [00:46<00:00,  2.70it/s]\n",
            "                 Class     Images  Instances      Box(P          R      mAP50  mAP50-95): 100%|██████████| 63/63 [00:12<00:00,  5.06it/s]"
          ]
        },
        {
          "name": "stdout",
          "output_type": "stream",
          "text": [
            "                   all       1000       1000      0.995      0.999      0.994      0.983\n"
          ]
        },
        {
          "name": "stderr",
          "output_type": "stream",
          "text": [
            "\n"
          ]
        },
        {
          "name": "stdout",
          "output_type": "stream",
          "text": [
            "\n",
            "      Epoch    GPU_mem   box_loss   cls_loss   dfl_loss  Instances       Size\n"
          ]
        },
        {
          "name": "stderr",
          "output_type": "stream",
          "text": [
            "     67/150      15.7G     0.3091     0.2537     0.8455         17       1152: 100%|██████████| 125/125 [00:46<00:00,  2.69it/s]\n",
            "                 Class     Images  Instances      Box(P          R      mAP50  mAP50-95): 100%|██████████| 63/63 [00:12<00:00,  4.99it/s]"
          ]
        },
        {
          "name": "stdout",
          "output_type": "stream",
          "text": [
            "                   all       1000       1000      0.989      0.997      0.994      0.981\n"
          ]
        },
        {
          "name": "stderr",
          "output_type": "stream",
          "text": [
            "\n"
          ]
        },
        {
          "name": "stdout",
          "output_type": "stream",
          "text": [
            "\n",
            "      Epoch    GPU_mem   box_loss   cls_loss   dfl_loss  Instances       Size\n"
          ]
        },
        {
          "name": "stderr",
          "output_type": "stream",
          "text": [
            "     68/150      15.7G     0.3058     0.2483     0.8454         16       1152: 100%|██████████| 125/125 [00:46<00:00,  2.71it/s]\n",
            "                 Class     Images  Instances      Box(P          R      mAP50  mAP50-95): 100%|██████████| 63/63 [00:12<00:00,  5.03it/s]"
          ]
        },
        {
          "name": "stdout",
          "output_type": "stream",
          "text": [
            "                   all       1000       1000      0.994      0.996      0.994      0.981\n"
          ]
        },
        {
          "name": "stderr",
          "output_type": "stream",
          "text": [
            "\n"
          ]
        },
        {
          "name": "stdout",
          "output_type": "stream",
          "text": [
            "\n",
            "      Epoch    GPU_mem   box_loss   cls_loss   dfl_loss  Instances       Size\n"
          ]
        },
        {
          "name": "stderr",
          "output_type": "stream",
          "text": [
            "     69/150      15.7G       0.31     0.2412     0.8474          9       1152: 100%|██████████| 125/125 [00:46<00:00,  2.68it/s]\n",
            "                 Class     Images  Instances      Box(P          R      mAP50  mAP50-95): 100%|██████████| 63/63 [00:12<00:00,  5.06it/s]"
          ]
        },
        {
          "name": "stdout",
          "output_type": "stream",
          "text": [
            "                   all       1000       1000      0.989      0.995      0.994       0.98\n"
          ]
        },
        {
          "name": "stderr",
          "output_type": "stream",
          "text": [
            "\n"
          ]
        },
        {
          "name": "stdout",
          "output_type": "stream",
          "text": [
            "\n",
            "      Epoch    GPU_mem   box_loss   cls_loss   dfl_loss  Instances       Size\n"
          ]
        },
        {
          "name": "stderr",
          "output_type": "stream",
          "text": [
            "     70/150      15.6G     0.3025     0.2428     0.8402         14       1152: 100%|██████████| 125/125 [00:46<00:00,  2.69it/s]\n",
            "                 Class     Images  Instances      Box(P          R      mAP50  mAP50-95): 100%|██████████| 63/63 [00:12<00:00,  5.00it/s]"
          ]
        },
        {
          "name": "stdout",
          "output_type": "stream",
          "text": [
            "                   all       1000       1000      0.989      0.995      0.993      0.982\n"
          ]
        },
        {
          "name": "stderr",
          "output_type": "stream",
          "text": [
            "\n"
          ]
        },
        {
          "name": "stdout",
          "output_type": "stream",
          "text": [
            "\n",
            "      Epoch    GPU_mem   box_loss   cls_loss   dfl_loss  Instances       Size\n"
          ]
        },
        {
          "name": "stderr",
          "output_type": "stream",
          "text": [
            "     71/150      15.7G     0.3088     0.2393      0.854          9       1152: 100%|██████████| 125/125 [00:46<00:00,  2.70it/s]\n",
            "                 Class     Images  Instances      Box(P          R      mAP50  mAP50-95): 100%|██████████| 63/63 [00:12<00:00,  5.02it/s]"
          ]
        },
        {
          "name": "stdout",
          "output_type": "stream",
          "text": [
            "                   all       1000       1000       0.98      0.977      0.992      0.981\n"
          ]
        },
        {
          "name": "stderr",
          "output_type": "stream",
          "text": [
            "\n"
          ]
        },
        {
          "name": "stdout",
          "output_type": "stream",
          "text": [
            "\n",
            "      Epoch    GPU_mem   box_loss   cls_loss   dfl_loss  Instances       Size\n"
          ]
        },
        {
          "name": "stderr",
          "output_type": "stream",
          "text": [
            "     72/150      15.6G     0.2979     0.2363     0.8435         16       1152: 100%|██████████| 125/125 [00:46<00:00,  2.68it/s]\n",
            "                 Class     Images  Instances      Box(P          R      mAP50  mAP50-95): 100%|██████████| 63/63 [00:12<00:00,  5.01it/s]"
          ]
        },
        {
          "name": "stdout",
          "output_type": "stream",
          "text": [
            "                   all       1000       1000      0.991      0.998      0.994      0.982\n"
          ]
        },
        {
          "name": "stderr",
          "output_type": "stream",
          "text": [
            "\n"
          ]
        },
        {
          "name": "stdout",
          "output_type": "stream",
          "text": [
            "\n",
            "      Epoch    GPU_mem   box_loss   cls_loss   dfl_loss  Instances       Size\n"
          ]
        },
        {
          "name": "stderr",
          "output_type": "stream",
          "text": [
            "     73/150      15.7G     0.3036     0.2405     0.8535         11       1152: 100%|██████████| 125/125 [00:46<00:00,  2.70it/s]\n",
            "                 Class     Images  Instances      Box(P          R      mAP50  mAP50-95): 100%|██████████| 63/63 [00:12<00:00,  5.04it/s]"
          ]
        },
        {
          "name": "stdout",
          "output_type": "stream",
          "text": [
            "                   all       1000       1000      0.996      0.996      0.995      0.984\n"
          ]
        },
        {
          "name": "stderr",
          "output_type": "stream",
          "text": [
            "\n"
          ]
        },
        {
          "name": "stdout",
          "output_type": "stream",
          "text": [
            "\n",
            "      Epoch    GPU_mem   box_loss   cls_loss   dfl_loss  Instances       Size\n"
          ]
        },
        {
          "name": "stderr",
          "output_type": "stream",
          "text": [
            "     74/150      15.7G     0.3069     0.2389     0.8546         19       1152: 100%|██████████| 125/125 [00:46<00:00,  2.69it/s]\n",
            "                 Class     Images  Instances      Box(P          R      mAP50  mAP50-95): 100%|██████████| 63/63 [00:12<00:00,  5.03it/s]"
          ]
        },
        {
          "name": "stdout",
          "output_type": "stream",
          "text": [
            "                   all       1000       1000      0.993      0.998      0.995      0.983\n"
          ]
        },
        {
          "name": "stderr",
          "output_type": "stream",
          "text": [
            "\n"
          ]
        },
        {
          "name": "stdout",
          "output_type": "stream",
          "text": [
            "\n",
            "      Epoch    GPU_mem   box_loss   cls_loss   dfl_loss  Instances       Size\n"
          ]
        },
        {
          "name": "stderr",
          "output_type": "stream",
          "text": [
            "     75/150      15.7G     0.2953     0.2316     0.8433         13       1152: 100%|██████████| 125/125 [00:46<00:00,  2.69it/s]\n",
            "                 Class     Images  Instances      Box(P          R      mAP50  mAP50-95): 100%|██████████| 63/63 [00:12<00:00,  5.02it/s]"
          ]
        },
        {
          "name": "stdout",
          "output_type": "stream",
          "text": [
            "                   all       1000       1000      0.997      0.998      0.995      0.986\n"
          ]
        },
        {
          "name": "stderr",
          "output_type": "stream",
          "text": [
            "\n"
          ]
        },
        {
          "name": "stdout",
          "output_type": "stream",
          "text": [
            "\n",
            "      Epoch    GPU_mem   box_loss   cls_loss   dfl_loss  Instances       Size\n"
          ]
        },
        {
          "name": "stderr",
          "output_type": "stream",
          "text": [
            "     76/150      15.7G     0.2853     0.2335     0.8393         14       1152: 100%|██████████| 125/125 [00:46<00:00,  2.70it/s]\n",
            "                 Class     Images  Instances      Box(P          R      mAP50  mAP50-95): 100%|██████████| 63/63 [00:12<00:00,  5.02it/s]"
          ]
        },
        {
          "name": "stdout",
          "output_type": "stream",
          "text": [
            "                   all       1000       1000      0.994      0.995      0.995      0.982\n"
          ]
        },
        {
          "name": "stderr",
          "output_type": "stream",
          "text": [
            "\n"
          ]
        },
        {
          "name": "stdout",
          "output_type": "stream",
          "text": [
            "\n",
            "      Epoch    GPU_mem   box_loss   cls_loss   dfl_loss  Instances       Size\n"
          ]
        },
        {
          "name": "stderr",
          "output_type": "stream",
          "text": [
            "     77/150      15.6G     0.2983     0.2356     0.8506         13       1152: 100%|██████████| 125/125 [00:46<00:00,  2.69it/s]\n",
            "                 Class     Images  Instances      Box(P          R      mAP50  mAP50-95): 100%|██████████| 63/63 [00:12<00:00,  5.01it/s]"
          ]
        },
        {
          "name": "stdout",
          "output_type": "stream",
          "text": [
            "                   all       1000       1000      0.994      0.996      0.995      0.985\n"
          ]
        },
        {
          "name": "stderr",
          "output_type": "stream",
          "text": [
            "\n"
          ]
        },
        {
          "name": "stdout",
          "output_type": "stream",
          "text": [
            "\n",
            "      Epoch    GPU_mem   box_loss   cls_loss   dfl_loss  Instances       Size\n"
          ]
        },
        {
          "name": "stderr",
          "output_type": "stream",
          "text": [
            "     78/150      15.7G     0.2975     0.2357     0.8518         21       1152: 100%|██████████| 125/125 [00:46<00:00,  2.69it/s]\n",
            "                 Class     Images  Instances      Box(P          R      mAP50  mAP50-95): 100%|██████████| 63/63 [00:12<00:00,  5.04it/s]"
          ]
        },
        {
          "name": "stdout",
          "output_type": "stream",
          "text": [
            "                   all       1000       1000      0.994      0.998      0.995      0.985\n"
          ]
        },
        {
          "name": "stderr",
          "output_type": "stream",
          "text": [
            "\n"
          ]
        },
        {
          "name": "stdout",
          "output_type": "stream",
          "text": [
            "\n",
            "      Epoch    GPU_mem   box_loss   cls_loss   dfl_loss  Instances       Size\n"
          ]
        },
        {
          "name": "stderr",
          "output_type": "stream",
          "text": [
            "     79/150      15.7G     0.2997     0.2318     0.8467         14       1152: 100%|██████████| 125/125 [00:46<00:00,  2.70it/s]\n",
            "                 Class     Images  Instances      Box(P          R      mAP50  mAP50-95): 100%|██████████| 63/63 [00:12<00:00,  5.00it/s]"
          ]
        },
        {
          "name": "stdout",
          "output_type": "stream",
          "text": [
            "                   all       1000       1000      0.993          1      0.995      0.984\n"
          ]
        },
        {
          "name": "stderr",
          "output_type": "stream",
          "text": [
            "\n"
          ]
        },
        {
          "name": "stdout",
          "output_type": "stream",
          "text": [
            "\n",
            "      Epoch    GPU_mem   box_loss   cls_loss   dfl_loss  Instances       Size\n"
          ]
        },
        {
          "name": "stderr",
          "output_type": "stream",
          "text": [
            "     80/150      15.6G     0.2994     0.2288     0.8488         14       1152: 100%|██████████| 125/125 [00:46<00:00,  2.71it/s]\n",
            "                 Class     Images  Instances      Box(P          R      mAP50  mAP50-95): 100%|██████████| 63/63 [00:12<00:00,  5.01it/s]"
          ]
        },
        {
          "name": "stdout",
          "output_type": "stream",
          "text": [
            "                   all       1000       1000      0.995      0.995      0.995      0.985\n"
          ]
        },
        {
          "name": "stderr",
          "output_type": "stream",
          "text": [
            "\n"
          ]
        },
        {
          "name": "stdout",
          "output_type": "stream",
          "text": [
            "\n",
            "      Epoch    GPU_mem   box_loss   cls_loss   dfl_loss  Instances       Size\n"
          ]
        },
        {
          "name": "stderr",
          "output_type": "stream",
          "text": [
            "     81/150      15.7G     0.2871     0.2286     0.8381         10       1152: 100%|██████████| 125/125 [00:46<00:00,  2.70it/s]\n",
            "                 Class     Images  Instances      Box(P          R      mAP50  mAP50-95): 100%|██████████| 63/63 [00:12<00:00,  5.00it/s]"
          ]
        },
        {
          "name": "stdout",
          "output_type": "stream",
          "text": [
            "                   all       1000       1000      0.996          1      0.995      0.987\n"
          ]
        },
        {
          "name": "stderr",
          "output_type": "stream",
          "text": [
            "\n"
          ]
        },
        {
          "name": "stdout",
          "output_type": "stream",
          "text": [
            "\n",
            "      Epoch    GPU_mem   box_loss   cls_loss   dfl_loss  Instances       Size\n"
          ]
        },
        {
          "name": "stderr",
          "output_type": "stream",
          "text": [
            "     82/150      15.7G     0.2957     0.2208      0.845         18       1152: 100%|██████████| 125/125 [00:46<00:00,  2.70it/s]\n",
            "                 Class     Images  Instances      Box(P          R      mAP50  mAP50-95): 100%|██████████| 63/63 [00:12<00:00,  5.03it/s]"
          ]
        },
        {
          "name": "stdout",
          "output_type": "stream",
          "text": [
            "                   all       1000       1000      0.993      0.997      0.995      0.987\n"
          ]
        },
        {
          "name": "stderr",
          "output_type": "stream",
          "text": [
            "\n"
          ]
        },
        {
          "name": "stdout",
          "output_type": "stream",
          "text": [
            "\n",
            "      Epoch    GPU_mem   box_loss   cls_loss   dfl_loss  Instances       Size\n"
          ]
        },
        {
          "name": "stderr",
          "output_type": "stream",
          "text": [
            "     83/150      15.7G     0.2955     0.2285     0.8471         15       1152: 100%|██████████| 125/125 [00:46<00:00,  2.70it/s]\n",
            "                 Class     Images  Instances      Box(P          R      mAP50  mAP50-95): 100%|██████████| 63/63 [00:12<00:00,  5.04it/s]"
          ]
        },
        {
          "name": "stdout",
          "output_type": "stream",
          "text": [
            "                   all       1000       1000      0.994          1      0.995      0.988\n"
          ]
        },
        {
          "name": "stderr",
          "output_type": "stream",
          "text": [
            "\n"
          ]
        },
        {
          "name": "stdout",
          "output_type": "stream",
          "text": [
            "\n",
            "      Epoch    GPU_mem   box_loss   cls_loss   dfl_loss  Instances       Size\n"
          ]
        },
        {
          "name": "stderr",
          "output_type": "stream",
          "text": [
            "     84/150      15.7G     0.2933     0.2212     0.8452         16       1152: 100%|██████████| 125/125 [00:46<00:00,  2.69it/s]\n",
            "                 Class     Images  Instances      Box(P          R      mAP50  mAP50-95): 100%|██████████| 63/63 [00:12<00:00,  4.98it/s]"
          ]
        },
        {
          "name": "stdout",
          "output_type": "stream",
          "text": [
            "                   all       1000       1000      0.996          1      0.995      0.986\n"
          ]
        },
        {
          "name": "stderr",
          "output_type": "stream",
          "text": [
            "\n"
          ]
        },
        {
          "name": "stdout",
          "output_type": "stream",
          "text": [
            "\n",
            "      Epoch    GPU_mem   box_loss   cls_loss   dfl_loss  Instances       Size\n"
          ]
        },
        {
          "name": "stderr",
          "output_type": "stream",
          "text": [
            "     85/150      15.6G     0.2906     0.2213     0.8425         13       1152: 100%|██████████| 125/125 [00:46<00:00,  2.69it/s]\n",
            "                 Class     Images  Instances      Box(P          R      mAP50  mAP50-95): 100%|██████████| 63/63 [00:12<00:00,  5.01it/s]"
          ]
        },
        {
          "name": "stdout",
          "output_type": "stream",
          "text": [
            "                   all       1000       1000      0.994      0.998      0.994      0.986\n"
          ]
        },
        {
          "name": "stderr",
          "output_type": "stream",
          "text": [
            "\n"
          ]
        },
        {
          "name": "stdout",
          "output_type": "stream",
          "text": [
            "\n",
            "      Epoch    GPU_mem   box_loss   cls_loss   dfl_loss  Instances       Size\n"
          ]
        },
        {
          "name": "stderr",
          "output_type": "stream",
          "text": [
            "     86/150      15.8G     0.2888     0.2217     0.8411         12       1152: 100%|██████████| 125/125 [00:46<00:00,  2.70it/s]\n",
            "                 Class     Images  Instances      Box(P          R      mAP50  mAP50-95): 100%|██████████| 63/63 [00:12<00:00,  5.06it/s]"
          ]
        },
        {
          "name": "stdout",
          "output_type": "stream",
          "text": [
            "                   all       1000       1000      0.994      0.998      0.994      0.987\n"
          ]
        },
        {
          "name": "stderr",
          "output_type": "stream",
          "text": [
            "\n"
          ]
        },
        {
          "name": "stdout",
          "output_type": "stream",
          "text": [
            "\n",
            "      Epoch    GPU_mem   box_loss   cls_loss   dfl_loss  Instances       Size\n"
          ]
        },
        {
          "name": "stderr",
          "output_type": "stream",
          "text": [
            "     87/150      15.7G     0.2909     0.2159     0.8446         10       1152: 100%|██████████| 125/125 [00:46<00:00,  2.69it/s]\n",
            "                 Class     Images  Instances      Box(P          R      mAP50  mAP50-95): 100%|██████████| 63/63 [00:12<00:00,  5.03it/s]"
          ]
        },
        {
          "name": "stdout",
          "output_type": "stream",
          "text": [
            "                   all       1000       1000      0.991      0.999      0.995      0.985\n"
          ]
        },
        {
          "name": "stderr",
          "output_type": "stream",
          "text": [
            "\n"
          ]
        },
        {
          "name": "stdout",
          "output_type": "stream",
          "text": [
            "\n",
            "      Epoch    GPU_mem   box_loss   cls_loss   dfl_loss  Instances       Size\n"
          ]
        },
        {
          "name": "stderr",
          "output_type": "stream",
          "text": [
            "     88/150      15.7G     0.2803     0.2101     0.8416         13       1152: 100%|██████████| 125/125 [00:46<00:00,  2.69it/s]\n",
            "                 Class     Images  Instances      Box(P          R      mAP50  mAP50-95): 100%|██████████| 63/63 [00:12<00:00,  5.03it/s]"
          ]
        },
        {
          "name": "stdout",
          "output_type": "stream",
          "text": [
            "                   all       1000       1000      0.994      0.997      0.995      0.987\n"
          ]
        },
        {
          "name": "stderr",
          "output_type": "stream",
          "text": [
            "\n"
          ]
        },
        {
          "name": "stdout",
          "output_type": "stream",
          "text": [
            "\n",
            "      Epoch    GPU_mem   box_loss   cls_loss   dfl_loss  Instances       Size\n"
          ]
        },
        {
          "name": "stderr",
          "output_type": "stream",
          "text": [
            "     89/150      15.7G     0.2802     0.2179     0.8477         12       1152: 100%|██████████| 125/125 [00:46<00:00,  2.70it/s]\n",
            "                 Class     Images  Instances      Box(P          R      mAP50  mAP50-95): 100%|██████████| 63/63 [00:12<00:00,  5.02it/s]"
          ]
        },
        {
          "name": "stdout",
          "output_type": "stream",
          "text": [
            "                   all       1000       1000      0.997      0.996      0.995      0.986\n"
          ]
        },
        {
          "name": "stderr",
          "output_type": "stream",
          "text": [
            "\n"
          ]
        },
        {
          "name": "stdout",
          "output_type": "stream",
          "text": [
            "\n",
            "      Epoch    GPU_mem   box_loss   cls_loss   dfl_loss  Instances       Size\n"
          ]
        },
        {
          "name": "stderr",
          "output_type": "stream",
          "text": [
            "     90/150      15.7G     0.2792     0.2135     0.8414         29       1152: 100%|██████████| 125/125 [00:46<00:00,  2.71it/s]\n",
            "                 Class     Images  Instances      Box(P          R      mAP50  mAP50-95): 100%|██████████| 63/63 [00:12<00:00,  5.02it/s]"
          ]
        },
        {
          "name": "stdout",
          "output_type": "stream",
          "text": [
            "                   all       1000       1000      0.996          1      0.995      0.986\n"
          ]
        },
        {
          "name": "stderr",
          "output_type": "stream",
          "text": [
            "\n"
          ]
        },
        {
          "name": "stdout",
          "output_type": "stream",
          "text": [
            "\n",
            "      Epoch    GPU_mem   box_loss   cls_loss   dfl_loss  Instances       Size\n"
          ]
        },
        {
          "name": "stderr",
          "output_type": "stream",
          "text": [
            "     91/150      15.7G     0.2793     0.2113     0.8361         14       1152: 100%|██████████| 125/125 [00:46<00:00,  2.70it/s]\n",
            "                 Class     Images  Instances      Box(P          R      mAP50  mAP50-95): 100%|██████████| 63/63 [00:12<00:00,  5.00it/s]"
          ]
        },
        {
          "name": "stdout",
          "output_type": "stream",
          "text": [
            "                   all       1000       1000      0.998      0.999      0.995      0.987\n"
          ]
        },
        {
          "name": "stderr",
          "output_type": "stream",
          "text": [
            "\n"
          ]
        },
        {
          "name": "stdout",
          "output_type": "stream",
          "text": [
            "\n",
            "      Epoch    GPU_mem   box_loss   cls_loss   dfl_loss  Instances       Size\n"
          ]
        },
        {
          "name": "stderr",
          "output_type": "stream",
          "text": [
            "     92/150      15.7G     0.2822     0.2108     0.8445         15       1152: 100%|██████████| 125/125 [00:46<00:00,  2.70it/s]\n",
            "                 Class     Images  Instances      Box(P          R      mAP50  mAP50-95): 100%|██████████| 63/63 [00:12<00:00,  5.00it/s]"
          ]
        },
        {
          "name": "stdout",
          "output_type": "stream",
          "text": [
            "                   all       1000       1000      0.996      0.998      0.995      0.988\n"
          ]
        },
        {
          "name": "stderr",
          "output_type": "stream",
          "text": [
            "\n"
          ]
        },
        {
          "name": "stdout",
          "output_type": "stream",
          "text": [
            "\n",
            "      Epoch    GPU_mem   box_loss   cls_loss   dfl_loss  Instances       Size\n"
          ]
        },
        {
          "name": "stderr",
          "output_type": "stream",
          "text": [
            "     93/150      15.6G     0.2727     0.2084     0.8386         17       1152: 100%|██████████| 125/125 [00:46<00:00,  2.69it/s]\n",
            "                 Class     Images  Instances      Box(P          R      mAP50  mAP50-95): 100%|██████████| 63/63 [00:12<00:00,  5.03it/s]"
          ]
        },
        {
          "name": "stdout",
          "output_type": "stream",
          "text": [
            "                   all       1000       1000      0.996          1      0.995      0.987\n"
          ]
        },
        {
          "name": "stderr",
          "output_type": "stream",
          "text": [
            "\n"
          ]
        },
        {
          "name": "stdout",
          "output_type": "stream",
          "text": [
            "\n",
            "      Epoch    GPU_mem   box_loss   cls_loss   dfl_loss  Instances       Size\n"
          ]
        },
        {
          "name": "stderr",
          "output_type": "stream",
          "text": [
            "     94/150      15.7G     0.2696     0.2009     0.8399          9       1152: 100%|██████████| 125/125 [00:46<00:00,  2.69it/s]\n",
            "                 Class     Images  Instances      Box(P          R      mAP50  mAP50-95): 100%|██████████| 63/63 [00:12<00:00,  5.00it/s]"
          ]
        },
        {
          "name": "stdout",
          "output_type": "stream",
          "text": [
            "                   all       1000       1000      0.994      0.997      0.995      0.988\n"
          ]
        },
        {
          "name": "stderr",
          "output_type": "stream",
          "text": [
            "\n"
          ]
        },
        {
          "name": "stdout",
          "output_type": "stream",
          "text": [
            "\n",
            "      Epoch    GPU_mem   box_loss   cls_loss   dfl_loss  Instances       Size\n"
          ]
        },
        {
          "name": "stderr",
          "output_type": "stream",
          "text": [
            "     95/150      15.7G     0.2729     0.2093     0.8291         10       1152: 100%|██████████| 125/125 [00:46<00:00,  2.70it/s]\n",
            "                 Class     Images  Instances      Box(P          R      mAP50  mAP50-95): 100%|██████████| 63/63 [00:12<00:00,  4.99it/s]"
          ]
        },
        {
          "name": "stdout",
          "output_type": "stream",
          "text": [
            "                   all       1000       1000      0.996          1      0.995      0.989\n"
          ]
        },
        {
          "name": "stderr",
          "output_type": "stream",
          "text": [
            "\n"
          ]
        },
        {
          "name": "stdout",
          "output_type": "stream",
          "text": [
            "\n",
            "      Epoch    GPU_mem   box_loss   cls_loss   dfl_loss  Instances       Size\n"
          ]
        },
        {
          "name": "stderr",
          "output_type": "stream",
          "text": [
            "     96/150      15.7G     0.2731      0.202     0.8362         12       1152: 100%|██████████| 125/125 [00:46<00:00,  2.68it/s]\n",
            "                 Class     Images  Instances      Box(P          R      mAP50  mAP50-95): 100%|██████████| 63/63 [00:12<00:00,  5.04it/s]"
          ]
        },
        {
          "name": "stdout",
          "output_type": "stream",
          "text": [
            "                   all       1000       1000      0.997          1      0.995      0.989\n"
          ]
        },
        {
          "name": "stderr",
          "output_type": "stream",
          "text": [
            "\n"
          ]
        },
        {
          "name": "stdout",
          "output_type": "stream",
          "text": [
            "\n",
            "      Epoch    GPU_mem   box_loss   cls_loss   dfl_loss  Instances       Size\n"
          ]
        },
        {
          "name": "stderr",
          "output_type": "stream",
          "text": [
            "     97/150      15.7G     0.2745     0.2078     0.8344         16       1152: 100%|██████████| 125/125 [00:46<00:00,  2.69it/s]\n",
            "                 Class     Images  Instances      Box(P          R      mAP50  mAP50-95): 100%|██████████| 63/63 [00:12<00:00,  5.01it/s]"
          ]
        },
        {
          "name": "stdout",
          "output_type": "stream",
          "text": [
            "                   all       1000       1000      0.996          1      0.994      0.987\n"
          ]
        },
        {
          "name": "stderr",
          "output_type": "stream",
          "text": [
            "\n"
          ]
        },
        {
          "name": "stdout",
          "output_type": "stream",
          "text": [
            "\n",
            "      Epoch    GPU_mem   box_loss   cls_loss   dfl_loss  Instances       Size\n"
          ]
        },
        {
          "name": "stderr",
          "output_type": "stream",
          "text": [
            "     98/150      15.7G     0.2755     0.2102     0.8445         10       1152: 100%|██████████| 125/125 [00:46<00:00,  2.71it/s]\n",
            "                 Class     Images  Instances      Box(P          R      mAP50  mAP50-95): 100%|██████████| 63/63 [00:12<00:00,  5.00it/s]"
          ]
        },
        {
          "name": "stdout",
          "output_type": "stream",
          "text": [
            "                   all       1000       1000      0.997          1      0.994      0.989\n"
          ]
        },
        {
          "name": "stderr",
          "output_type": "stream",
          "text": [
            "\n"
          ]
        },
        {
          "name": "stdout",
          "output_type": "stream",
          "text": [
            "\n",
            "      Epoch    GPU_mem   box_loss   cls_loss   dfl_loss  Instances       Size\n"
          ]
        },
        {
          "name": "stderr",
          "output_type": "stream",
          "text": [
            "     99/150      15.7G     0.2691     0.2057     0.8329         10       1152: 100%|██████████| 125/125 [00:46<00:00,  2.69it/s]\n",
            "                 Class     Images  Instances      Box(P          R      mAP50  mAP50-95): 100%|██████████| 63/63 [00:12<00:00,  5.02it/s]"
          ]
        },
        {
          "name": "stdout",
          "output_type": "stream",
          "text": [
            "                   all       1000       1000      0.998      0.999      0.995      0.989\n"
          ]
        },
        {
          "name": "stderr",
          "output_type": "stream",
          "text": [
            "\n"
          ]
        },
        {
          "name": "stdout",
          "output_type": "stream",
          "text": [
            "\n",
            "      Epoch    GPU_mem   box_loss   cls_loss   dfl_loss  Instances       Size\n"
          ]
        },
        {
          "name": "stderr",
          "output_type": "stream",
          "text": [
            "    100/150      15.7G     0.2599      0.197     0.8347         10       1152: 100%|██████████| 125/125 [00:46<00:00,  2.69it/s]\n",
            "                 Class     Images  Instances      Box(P          R      mAP50  mAP50-95): 100%|██████████| 63/63 [00:12<00:00,  5.04it/s]"
          ]
        },
        {
          "name": "stdout",
          "output_type": "stream",
          "text": [
            "                   all       1000       1000      0.996      0.999      0.995      0.989\n"
          ]
        },
        {
          "name": "stderr",
          "output_type": "stream",
          "text": [
            "\n"
          ]
        },
        {
          "name": "stdout",
          "output_type": "stream",
          "text": [
            "\n",
            "      Epoch    GPU_mem   box_loss   cls_loss   dfl_loss  Instances       Size\n"
          ]
        },
        {
          "name": "stderr",
          "output_type": "stream",
          "text": [
            "    101/150      15.6G     0.2666      0.205     0.8418         15       1152: 100%|██████████| 125/125 [00:46<00:00,  2.69it/s]\n",
            "                 Class     Images  Instances      Box(P          R      mAP50  mAP50-95): 100%|██████████| 63/63 [00:12<00:00,  5.04it/s]"
          ]
        },
        {
          "name": "stdout",
          "output_type": "stream",
          "text": [
            "                   all       1000       1000      0.998          1      0.995       0.99\n"
          ]
        },
        {
          "name": "stderr",
          "output_type": "stream",
          "text": [
            "\n"
          ]
        },
        {
          "name": "stdout",
          "output_type": "stream",
          "text": [
            "\n",
            "      Epoch    GPU_mem   box_loss   cls_loss   dfl_loss  Instances       Size\n"
          ]
        },
        {
          "name": "stderr",
          "output_type": "stream",
          "text": [
            "    102/150      15.7G     0.2655     0.1957     0.8362         20       1152: 100%|██████████| 125/125 [00:46<00:00,  2.68it/s]\n",
            "                 Class     Images  Instances      Box(P          R      mAP50  mAP50-95): 100%|██████████| 63/63 [00:12<00:00,  5.00it/s]"
          ]
        },
        {
          "name": "stdout",
          "output_type": "stream",
          "text": [
            "                   all       1000       1000      0.997          1      0.995      0.988\n"
          ]
        },
        {
          "name": "stderr",
          "output_type": "stream",
          "text": [
            "\n"
          ]
        },
        {
          "name": "stdout",
          "output_type": "stream",
          "text": [
            "\n",
            "      Epoch    GPU_mem   box_loss   cls_loss   dfl_loss  Instances       Size\n"
          ]
        },
        {
          "name": "stderr",
          "output_type": "stream",
          "text": [
            "    103/150      15.8G     0.2589      0.191     0.8278         23       1152: 100%|██████████| 125/125 [00:46<00:00,  2.70it/s]\n",
            "                 Class     Images  Instances      Box(P          R      mAP50  mAP50-95): 100%|██████████| 63/63 [00:12<00:00,  5.02it/s]"
          ]
        },
        {
          "name": "stdout",
          "output_type": "stream",
          "text": [
            "                   all       1000       1000      0.996      0.999      0.995      0.991\n"
          ]
        },
        {
          "name": "stderr",
          "output_type": "stream",
          "text": [
            "\n"
          ]
        },
        {
          "name": "stdout",
          "output_type": "stream",
          "text": [
            "\n",
            "      Epoch    GPU_mem   box_loss   cls_loss   dfl_loss  Instances       Size\n"
          ]
        },
        {
          "name": "stderr",
          "output_type": "stream",
          "text": [
            "    104/150      15.6G     0.2734     0.2084     0.8409         19       1152: 100%|██████████| 125/125 [00:46<00:00,  2.68it/s]\n",
            "                 Class     Images  Instances      Box(P          R      mAP50  mAP50-95): 100%|██████████| 63/63 [00:12<00:00,  5.03it/s]"
          ]
        },
        {
          "name": "stdout",
          "output_type": "stream",
          "text": [
            "                   all       1000       1000      0.997          1      0.995      0.989\n"
          ]
        },
        {
          "name": "stderr",
          "output_type": "stream",
          "text": [
            "\n"
          ]
        },
        {
          "name": "stdout",
          "output_type": "stream",
          "text": [
            "\n",
            "      Epoch    GPU_mem   box_loss   cls_loss   dfl_loss  Instances       Size\n"
          ]
        },
        {
          "name": "stderr",
          "output_type": "stream",
          "text": [
            "    105/150      15.7G     0.2549     0.1976     0.8412         14       1152: 100%|██████████| 125/125 [00:46<00:00,  2.69it/s]\n",
            "                 Class     Images  Instances      Box(P          R      mAP50  mAP50-95): 100%|██████████| 63/63 [00:12<00:00,  5.04it/s]"
          ]
        },
        {
          "name": "stdout",
          "output_type": "stream",
          "text": [
            "                   all       1000       1000      0.998          1      0.995       0.99\n"
          ]
        },
        {
          "name": "stderr",
          "output_type": "stream",
          "text": [
            "\n"
          ]
        },
        {
          "name": "stdout",
          "output_type": "stream",
          "text": [
            "\n",
            "      Epoch    GPU_mem   box_loss   cls_loss   dfl_loss  Instances       Size\n"
          ]
        },
        {
          "name": "stderr",
          "output_type": "stream",
          "text": [
            "    106/150      15.7G     0.2523     0.1872     0.8288         14       1152: 100%|██████████| 125/125 [00:46<00:00,  2.70it/s]\n",
            "                 Class     Images  Instances      Box(P          R      mAP50  mAP50-95): 100%|██████████| 63/63 [00:12<00:00,  5.00it/s]"
          ]
        },
        {
          "name": "stdout",
          "output_type": "stream",
          "text": [
            "                   all       1000       1000      0.996      0.999      0.995      0.989\n"
          ]
        },
        {
          "name": "stderr",
          "output_type": "stream",
          "text": [
            "\n"
          ]
        },
        {
          "name": "stdout",
          "output_type": "stream",
          "text": [
            "\n",
            "      Epoch    GPU_mem   box_loss   cls_loss   dfl_loss  Instances       Size\n"
          ]
        },
        {
          "name": "stderr",
          "output_type": "stream",
          "text": [
            "    107/150      15.7G     0.2551     0.1866     0.8235         13       1152: 100%|██████████| 125/125 [00:46<00:00,  2.70it/s]\n",
            "                 Class     Images  Instances      Box(P          R      mAP50  mAP50-95): 100%|██████████| 63/63 [00:12<00:00,  4.99it/s]"
          ]
        },
        {
          "name": "stdout",
          "output_type": "stream",
          "text": [
            "                   all       1000       1000      0.994      0.999      0.995      0.989\n"
          ]
        },
        {
          "name": "stderr",
          "output_type": "stream",
          "text": [
            "\n"
          ]
        },
        {
          "name": "stdout",
          "output_type": "stream",
          "text": [
            "\n",
            "      Epoch    GPU_mem   box_loss   cls_loss   dfl_loss  Instances       Size\n"
          ]
        },
        {
          "name": "stderr",
          "output_type": "stream",
          "text": [
            "    108/150      15.7G     0.2595     0.1974     0.8301         14       1152: 100%|██████████| 125/125 [00:46<00:00,  2.70it/s]\n",
            "                 Class     Images  Instances      Box(P          R      mAP50  mAP50-95): 100%|██████████| 63/63 [00:12<00:00,  5.03it/s]"
          ]
        },
        {
          "name": "stdout",
          "output_type": "stream",
          "text": [
            "                   all       1000       1000      0.997          1      0.995      0.991\n"
          ]
        },
        {
          "name": "stderr",
          "output_type": "stream",
          "text": [
            "\n"
          ]
        },
        {
          "name": "stdout",
          "output_type": "stream",
          "text": [
            "\n",
            "      Epoch    GPU_mem   box_loss   cls_loss   dfl_loss  Instances       Size\n"
          ]
        },
        {
          "name": "stderr",
          "output_type": "stream",
          "text": [
            "    109/150      15.7G     0.2528     0.1858     0.8244         14       1152: 100%|██████████| 125/125 [00:46<00:00,  2.69it/s]\n",
            "                 Class     Images  Instances      Box(P          R      mAP50  mAP50-95): 100%|██████████| 63/63 [00:12<00:00,  4.99it/s]"
          ]
        },
        {
          "name": "stdout",
          "output_type": "stream",
          "text": [
            "                   all       1000       1000      0.997          1      0.995      0.991\n"
          ]
        },
        {
          "name": "stderr",
          "output_type": "stream",
          "text": [
            "\n"
          ]
        },
        {
          "name": "stdout",
          "output_type": "stream",
          "text": [
            "\n",
            "      Epoch    GPU_mem   box_loss   cls_loss   dfl_loss  Instances       Size\n"
          ]
        },
        {
          "name": "stderr",
          "output_type": "stream",
          "text": [
            "    110/150      15.8G     0.2525     0.1824      0.827         12       1152: 100%|██████████| 125/125 [00:46<00:00,  2.70it/s]\n",
            "                 Class     Images  Instances      Box(P          R      mAP50  mAP50-95): 100%|██████████| 63/63 [00:12<00:00,  5.04it/s]"
          ]
        },
        {
          "name": "stdout",
          "output_type": "stream",
          "text": [
            "                   all       1000       1000      0.997          1      0.995       0.99\n"
          ]
        },
        {
          "name": "stderr",
          "output_type": "stream",
          "text": [
            "\n"
          ]
        },
        {
          "name": "stdout",
          "output_type": "stream",
          "text": [
            "\n",
            "      Epoch    GPU_mem   box_loss   cls_loss   dfl_loss  Instances       Size\n"
          ]
        },
        {
          "name": "stderr",
          "output_type": "stream",
          "text": [
            "    111/150      15.6G     0.2495     0.1828     0.8302         13       1152: 100%|██████████| 125/125 [00:46<00:00,  2.69it/s]\n",
            "                 Class     Images  Instances      Box(P          R      mAP50  mAP50-95): 100%|██████████| 63/63 [00:12<00:00,  5.01it/s]"
          ]
        },
        {
          "name": "stdout",
          "output_type": "stream",
          "text": [
            "                   all       1000       1000      0.998          1      0.995      0.991\n"
          ]
        },
        {
          "name": "stderr",
          "output_type": "stream",
          "text": [
            "\n"
          ]
        },
        {
          "name": "stdout",
          "output_type": "stream",
          "text": [
            "\n",
            "      Epoch    GPU_mem   box_loss   cls_loss   dfl_loss  Instances       Size\n"
          ]
        },
        {
          "name": "stderr",
          "output_type": "stream",
          "text": [
            "    112/150      15.7G     0.2559      0.189      0.827         18       1152: 100%|██████████| 125/125 [00:46<00:00,  2.69it/s]\n",
            "                 Class     Images  Instances      Box(P          R      mAP50  mAP50-95): 100%|██████████| 63/63 [00:12<00:00,  4.99it/s]"
          ]
        },
        {
          "name": "stdout",
          "output_type": "stream",
          "text": [
            "                   all       1000       1000      0.996          1      0.995      0.991\n"
          ]
        },
        {
          "name": "stderr",
          "output_type": "stream",
          "text": [
            "\n"
          ]
        },
        {
          "name": "stdout",
          "output_type": "stream",
          "text": [
            "\n",
            "      Epoch    GPU_mem   box_loss   cls_loss   dfl_loss  Instances       Size\n"
          ]
        },
        {
          "name": "stderr",
          "output_type": "stream",
          "text": [
            "    113/150      15.7G     0.2557     0.1818     0.8292         21       1152: 100%|██████████| 125/125 [00:46<00:00,  2.69it/s]\n",
            "                 Class     Images  Instances      Box(P          R      mAP50  mAP50-95): 100%|██████████| 63/63 [00:12<00:00,  5.00it/s]"
          ]
        },
        {
          "name": "stdout",
          "output_type": "stream",
          "text": [
            "                   all       1000       1000      0.994      0.998      0.994      0.991\n"
          ]
        },
        {
          "name": "stderr",
          "output_type": "stream",
          "text": [
            "\n"
          ]
        },
        {
          "name": "stdout",
          "output_type": "stream",
          "text": [
            "\n",
            "      Epoch    GPU_mem   box_loss   cls_loss   dfl_loss  Instances       Size\n"
          ]
        },
        {
          "name": "stderr",
          "output_type": "stream",
          "text": [
            "    114/150      15.7G     0.2545     0.1835     0.8353         14       1152: 100%|██████████| 125/125 [00:46<00:00,  2.70it/s]\n",
            "                 Class     Images  Instances      Box(P          R      mAP50  mAP50-95): 100%|██████████| 63/63 [00:12<00:00,  5.03it/s]"
          ]
        },
        {
          "name": "stdout",
          "output_type": "stream",
          "text": [
            "                   all       1000       1000      0.996      0.999      0.995      0.992\n"
          ]
        },
        {
          "name": "stderr",
          "output_type": "stream",
          "text": [
            "\n"
          ]
        },
        {
          "name": "stdout",
          "output_type": "stream",
          "text": [
            "\n",
            "      Epoch    GPU_mem   box_loss   cls_loss   dfl_loss  Instances       Size\n"
          ]
        },
        {
          "name": "stderr",
          "output_type": "stream",
          "text": [
            "    115/150      15.7G     0.2441     0.1776     0.8277         11       1152: 100%|██████████| 125/125 [00:46<00:00,  2.69it/s]\n",
            "                 Class     Images  Instances      Box(P          R      mAP50  mAP50-95): 100%|██████████| 63/63 [00:12<00:00,  5.02it/s]"
          ]
        },
        {
          "name": "stdout",
          "output_type": "stream",
          "text": [
            "                   all       1000       1000      0.998          1      0.995      0.991\n"
          ]
        },
        {
          "name": "stderr",
          "output_type": "stream",
          "text": [
            "\n"
          ]
        },
        {
          "name": "stdout",
          "output_type": "stream",
          "text": [
            "\n",
            "      Epoch    GPU_mem   box_loss   cls_loss   dfl_loss  Instances       Size\n"
          ]
        },
        {
          "name": "stderr",
          "output_type": "stream",
          "text": [
            "    116/150      15.7G     0.2466     0.1796     0.8276         11       1152: 100%|██████████| 125/125 [00:46<00:00,  2.70it/s]\n",
            "                 Class     Images  Instances      Box(P          R      mAP50  mAP50-95): 100%|██████████| 63/63 [00:12<00:00,  5.05it/s]"
          ]
        },
        {
          "name": "stdout",
          "output_type": "stream",
          "text": [
            "                   all       1000       1000      0.998          1      0.995      0.991\n"
          ]
        },
        {
          "name": "stderr",
          "output_type": "stream",
          "text": [
            "\n"
          ]
        },
        {
          "name": "stdout",
          "output_type": "stream",
          "text": [
            "\n",
            "      Epoch    GPU_mem   box_loss   cls_loss   dfl_loss  Instances       Size\n"
          ]
        },
        {
          "name": "stderr",
          "output_type": "stream",
          "text": [
            "    117/150      15.6G     0.2465      0.184      0.832         17       1152: 100%|██████████| 125/125 [00:46<00:00,  2.69it/s]\n",
            "                 Class     Images  Instances      Box(P          R      mAP50  mAP50-95): 100%|██████████| 63/63 [00:12<00:00,  4.98it/s]"
          ]
        },
        {
          "name": "stdout",
          "output_type": "stream",
          "text": [
            "                   all       1000       1000      0.998          1      0.995      0.992\n"
          ]
        },
        {
          "name": "stderr",
          "output_type": "stream",
          "text": [
            "\n"
          ]
        },
        {
          "name": "stdout",
          "output_type": "stream",
          "text": [
            "\n",
            "      Epoch    GPU_mem   box_loss   cls_loss   dfl_loss  Instances       Size\n"
          ]
        },
        {
          "name": "stderr",
          "output_type": "stream",
          "text": [
            "    118/150      15.6G     0.2448     0.1822     0.8194         12       1152: 100%|██████████| 125/125 [00:46<00:00,  2.68it/s]\n",
            "                 Class     Images  Instances      Box(P          R      mAP50  mAP50-95): 100%|██████████| 63/63 [00:12<00:00,  5.00it/s]"
          ]
        },
        {
          "name": "stdout",
          "output_type": "stream",
          "text": [
            "                   all       1000       1000      0.998          1      0.995      0.992\n"
          ]
        },
        {
          "name": "stderr",
          "output_type": "stream",
          "text": [
            "\n"
          ]
        },
        {
          "name": "stdout",
          "output_type": "stream",
          "text": [
            "\n",
            "      Epoch    GPU_mem   box_loss   cls_loss   dfl_loss  Instances       Size\n"
          ]
        },
        {
          "name": "stderr",
          "output_type": "stream",
          "text": [
            "    119/150      15.8G     0.2505     0.1851     0.8294         15       1152: 100%|██████████| 125/125 [00:46<00:00,  2.70it/s]\n",
            "                 Class     Images  Instances      Box(P          R      mAP50  mAP50-95): 100%|██████████| 63/63 [00:12<00:00,  5.02it/s]"
          ]
        },
        {
          "name": "stdout",
          "output_type": "stream",
          "text": [
            "                   all       1000       1000      0.998          1      0.995      0.992\n"
          ]
        },
        {
          "name": "stderr",
          "output_type": "stream",
          "text": [
            "\n"
          ]
        },
        {
          "name": "stdout",
          "output_type": "stream",
          "text": [
            "\n",
            "      Epoch    GPU_mem   box_loss   cls_loss   dfl_loss  Instances       Size\n"
          ]
        },
        {
          "name": "stderr",
          "output_type": "stream",
          "text": [
            "    120/150      15.6G     0.2518     0.1867      0.823         16       1152: 100%|██████████| 125/125 [00:46<00:00,  2.68it/s]\n",
            "                 Class     Images  Instances      Box(P          R      mAP50  mAP50-95): 100%|██████████| 63/63 [00:12<00:00,  5.00it/s]"
          ]
        },
        {
          "name": "stdout",
          "output_type": "stream",
          "text": [
            "                   all       1000       1000      0.998          1      0.995      0.992\n"
          ]
        },
        {
          "name": "stderr",
          "output_type": "stream",
          "text": [
            "\n"
          ]
        },
        {
          "name": "stdout",
          "output_type": "stream",
          "text": [
            "\n",
            "      Epoch    GPU_mem   box_loss   cls_loss   dfl_loss  Instances       Size\n"
          ]
        },
        {
          "name": "stderr",
          "output_type": "stream",
          "text": [
            "    121/150      15.7G     0.2402     0.1764     0.8279         18       1152: 100%|██████████| 125/125 [00:46<00:00,  2.69it/s]\n",
            "                 Class     Images  Instances      Box(P          R      mAP50  mAP50-95): 100%|██████████| 63/63 [00:12<00:00,  4.98it/s]"
          ]
        },
        {
          "name": "stdout",
          "output_type": "stream",
          "text": [
            "                   all       1000       1000      0.998          1      0.995      0.992\n"
          ]
        },
        {
          "name": "stderr",
          "output_type": "stream",
          "text": [
            "\n"
          ]
        },
        {
          "name": "stdout",
          "output_type": "stream",
          "text": [
            "\n",
            "      Epoch    GPU_mem   box_loss   cls_loss   dfl_loss  Instances       Size\n"
          ]
        },
        {
          "name": "stderr",
          "output_type": "stream",
          "text": [
            "    122/150      15.7G     0.2477     0.1795     0.8321          8       1152: 100%|██████████| 125/125 [00:46<00:00,  2.70it/s]\n",
            "                 Class     Images  Instances      Box(P          R      mAP50  mAP50-95): 100%|██████████| 63/63 [00:12<00:00,  5.05it/s]"
          ]
        },
        {
          "name": "stdout",
          "output_type": "stream",
          "text": [
            "                   all       1000       1000      0.997          1      0.995      0.993\n"
          ]
        },
        {
          "name": "stderr",
          "output_type": "stream",
          "text": [
            "\n"
          ]
        },
        {
          "name": "stdout",
          "output_type": "stream",
          "text": [
            "\n",
            "      Epoch    GPU_mem   box_loss   cls_loss   dfl_loss  Instances       Size\n"
          ]
        },
        {
          "name": "stderr",
          "output_type": "stream",
          "text": [
            "    123/150      15.7G     0.2343     0.1708     0.8194         21       1152: 100%|██████████| 125/125 [00:46<00:00,  2.70it/s]\n",
            "                 Class     Images  Instances      Box(P          R      mAP50  mAP50-95): 100%|██████████| 63/63 [00:12<00:00,  5.01it/s]"
          ]
        },
        {
          "name": "stdout",
          "output_type": "stream",
          "text": [
            "                   all       1000       1000      0.997          1      0.995      0.992\n"
          ]
        },
        {
          "name": "stderr",
          "output_type": "stream",
          "text": [
            "\n"
          ]
        },
        {
          "name": "stdout",
          "output_type": "stream",
          "text": [
            "\n",
            "      Epoch    GPU_mem   box_loss   cls_loss   dfl_loss  Instances       Size\n"
          ]
        },
        {
          "name": "stderr",
          "output_type": "stream",
          "text": [
            "    124/150      15.7G     0.2386     0.1791     0.8243         15       1152: 100%|██████████| 125/125 [00:46<00:00,  2.69it/s]\n",
            "                 Class     Images  Instances      Box(P          R      mAP50  mAP50-95): 100%|██████████| 63/63 [00:12<00:00,  5.04it/s]"
          ]
        },
        {
          "name": "stdout",
          "output_type": "stream",
          "text": [
            "                   all       1000       1000      0.998          1      0.995      0.991\n"
          ]
        },
        {
          "name": "stderr",
          "output_type": "stream",
          "text": [
            "\n"
          ]
        },
        {
          "name": "stdout",
          "output_type": "stream",
          "text": [
            "\n",
            "      Epoch    GPU_mem   box_loss   cls_loss   dfl_loss  Instances       Size\n"
          ]
        },
        {
          "name": "stderr",
          "output_type": "stream",
          "text": [
            "    125/150      15.6G     0.2423     0.1688     0.8243         15       1152: 100%|██████████| 125/125 [00:46<00:00,  2.69it/s]\n",
            "                 Class     Images  Instances      Box(P          R      mAP50  mAP50-95): 100%|██████████| 63/63 [00:12<00:00,  4.97it/s]"
          ]
        },
        {
          "name": "stdout",
          "output_type": "stream",
          "text": [
            "                   all       1000       1000      0.997          1      0.995      0.992\n"
          ]
        },
        {
          "name": "stderr",
          "output_type": "stream",
          "text": [
            "\n"
          ]
        },
        {
          "name": "stdout",
          "output_type": "stream",
          "text": [
            "\n",
            "      Epoch    GPU_mem   box_loss   cls_loss   dfl_loss  Instances       Size\n"
          ]
        },
        {
          "name": "stderr",
          "output_type": "stream",
          "text": [
            "    126/150      15.7G     0.2431     0.1786     0.8197         12       1152: 100%|██████████| 125/125 [00:45<00:00,  2.75it/s]\n",
            "                 Class     Images  Instances      Box(P          R      mAP50  mAP50-95): 100%|██████████| 63/63 [00:11<00:00,  5.36it/s]"
          ]
        },
        {
          "name": "stdout",
          "output_type": "stream",
          "text": [
            "                   all       1000       1000      0.998          1      0.995      0.992\n"
          ]
        },
        {
          "name": "stderr",
          "output_type": "stream",
          "text": [
            "\n"
          ]
        },
        {
          "name": "stdout",
          "output_type": "stream",
          "text": [
            "\n",
            "      Epoch    GPU_mem   box_loss   cls_loss   dfl_loss  Instances       Size\n"
          ]
        },
        {
          "name": "stderr",
          "output_type": "stream",
          "text": [
            "    127/150      15.7G     0.2347     0.1671       0.82         10       1152: 100%|██████████| 125/125 [00:45<00:00,  2.74it/s]\n",
            "                 Class     Images  Instances      Box(P          R      mAP50  mAP50-95): 100%|██████████| 63/63 [00:11<00:00,  5.26it/s]"
          ]
        },
        {
          "name": "stdout",
          "output_type": "stream",
          "text": [
            "                   all       1000       1000      0.998          1      0.995      0.992\n"
          ]
        },
        {
          "name": "stderr",
          "output_type": "stream",
          "text": [
            "\n"
          ]
        },
        {
          "name": "stdout",
          "output_type": "stream",
          "text": [
            "\n",
            "      Epoch    GPU_mem   box_loss   cls_loss   dfl_loss  Instances       Size\n"
          ]
        },
        {
          "name": "stderr",
          "output_type": "stream",
          "text": [
            "    128/150      15.6G     0.2327     0.1631     0.8169         12       1152: 100%|██████████| 125/125 [00:46<00:00,  2.71it/s]\n",
            "                 Class     Images  Instances      Box(P          R      mAP50  mAP50-95): 100%|██████████| 63/63 [00:11<00:00,  5.36it/s]"
          ]
        },
        {
          "name": "stdout",
          "output_type": "stream",
          "text": [
            "                   all       1000       1000      0.998          1      0.995      0.993\n"
          ]
        },
        {
          "name": "stderr",
          "output_type": "stream",
          "text": [
            "\n"
          ]
        },
        {
          "name": "stdout",
          "output_type": "stream",
          "text": [
            "\n",
            "      Epoch    GPU_mem   box_loss   cls_loss   dfl_loss  Instances       Size\n"
          ]
        },
        {
          "name": "stderr",
          "output_type": "stream",
          "text": [
            "    129/150      15.7G      0.243     0.1684       0.83         19       1152: 100%|██████████| 125/125 [00:45<00:00,  2.74it/s]\n",
            "                 Class     Images  Instances      Box(P          R      mAP50  mAP50-95): 100%|██████████| 63/63 [00:11<00:00,  5.33it/s]"
          ]
        },
        {
          "name": "stdout",
          "output_type": "stream",
          "text": [
            "                   all       1000       1000      0.998          1      0.995      0.992\n"
          ]
        },
        {
          "name": "stderr",
          "output_type": "stream",
          "text": [
            "\n"
          ]
        },
        {
          "name": "stdout",
          "output_type": "stream",
          "text": [
            "\n",
            "      Epoch    GPU_mem   box_loss   cls_loss   dfl_loss  Instances       Size\n"
          ]
        },
        {
          "name": "stderr",
          "output_type": "stream",
          "text": [
            "    130/150      15.7G     0.2337     0.1613     0.8277         19       1152: 100%|██████████| 125/125 [00:45<00:00,  2.74it/s]\n",
            "                 Class     Images  Instances      Box(P          R      mAP50  mAP50-95): 100%|██████████| 63/63 [00:11<00:00,  5.33it/s]"
          ]
        },
        {
          "name": "stdout",
          "output_type": "stream",
          "text": [
            "                   all       1000       1000      0.998          1      0.995      0.993\n"
          ]
        },
        {
          "name": "stderr",
          "output_type": "stream",
          "text": [
            "\n"
          ]
        },
        {
          "name": "stdout",
          "output_type": "stream",
          "text": [
            "\n",
            "      Epoch    GPU_mem   box_loss   cls_loss   dfl_loss  Instances       Size\n"
          ]
        },
        {
          "name": "stderr",
          "output_type": "stream",
          "text": [
            "    131/150      15.7G     0.2335      0.167     0.8211         16       1152: 100%|██████████| 125/125 [00:45<00:00,  2.74it/s]\n",
            "                 Class     Images  Instances      Box(P          R      mAP50  mAP50-95): 100%|██████████| 63/63 [00:11<00:00,  5.34it/s]"
          ]
        },
        {
          "name": "stdout",
          "output_type": "stream",
          "text": [
            "                   all       1000       1000      0.998          1      0.995      0.993\n"
          ]
        },
        {
          "name": "stderr",
          "output_type": "stream",
          "text": [
            "\n"
          ]
        },
        {
          "name": "stdout",
          "output_type": "stream",
          "text": [
            "\n",
            "      Epoch    GPU_mem   box_loss   cls_loss   dfl_loss  Instances       Size\n"
          ]
        },
        {
          "name": "stderr",
          "output_type": "stream",
          "text": [
            "    132/150      15.7G      0.229      0.166     0.8169         15       1152: 100%|██████████| 125/125 [00:45<00:00,  2.74it/s]\n",
            "                 Class     Images  Instances      Box(P          R      mAP50  mAP50-95): 100%|██████████| 63/63 [00:11<00:00,  5.30it/s]"
          ]
        },
        {
          "name": "stdout",
          "output_type": "stream",
          "text": [
            "                   all       1000       1000      0.999          1      0.995      0.993\n"
          ]
        },
        {
          "name": "stderr",
          "output_type": "stream",
          "text": [
            "\n"
          ]
        },
        {
          "name": "stdout",
          "output_type": "stream",
          "text": [
            "\n",
            "      Epoch    GPU_mem   box_loss   cls_loss   dfl_loss  Instances       Size\n"
          ]
        },
        {
          "name": "stderr",
          "output_type": "stream",
          "text": [
            "    133/150      15.6G     0.2289     0.1563     0.8195         18       1152: 100%|██████████| 125/125 [00:45<00:00,  2.73it/s]\n",
            "                 Class     Images  Instances      Box(P          R      mAP50  mAP50-95): 100%|██████████| 63/63 [00:11<00:00,  5.26it/s]"
          ]
        },
        {
          "name": "stdout",
          "output_type": "stream",
          "text": [
            "                   all       1000       1000      0.998          1      0.995      0.992\n"
          ]
        },
        {
          "name": "stderr",
          "output_type": "stream",
          "text": [
            "\n"
          ]
        },
        {
          "name": "stdout",
          "output_type": "stream",
          "text": [
            "\n",
            "      Epoch    GPU_mem   box_loss   cls_loss   dfl_loss  Instances       Size\n"
          ]
        },
        {
          "name": "stderr",
          "output_type": "stream",
          "text": [
            "    134/150      15.7G     0.2249     0.1594      0.814         12       1152: 100%|██████████| 125/125 [00:45<00:00,  2.73it/s]\n",
            "                 Class     Images  Instances      Box(P          R      mAP50  mAP50-95): 100%|██████████| 63/63 [00:11<00:00,  5.33it/s]"
          ]
        },
        {
          "name": "stdout",
          "output_type": "stream",
          "text": [
            "                   all       1000       1000      0.998          1      0.995      0.993\n"
          ]
        },
        {
          "name": "stderr",
          "output_type": "stream",
          "text": [
            "\n"
          ]
        },
        {
          "name": "stdout",
          "output_type": "stream",
          "text": [
            "\n",
            "      Epoch    GPU_mem   box_loss   cls_loss   dfl_loss  Instances       Size\n"
          ]
        },
        {
          "name": "stderr",
          "output_type": "stream",
          "text": [
            "    135/150      15.7G     0.2212     0.1577     0.8201         17       1152: 100%|██████████| 125/125 [00:45<00:00,  2.74it/s]\n",
            "                 Class     Images  Instances      Box(P          R      mAP50  mAP50-95): 100%|██████████| 63/63 [00:11<00:00,  5.37it/s]"
          ]
        },
        {
          "name": "stdout",
          "output_type": "stream",
          "text": [
            "                   all       1000       1000      0.998          1      0.995      0.993\n"
          ]
        },
        {
          "name": "stderr",
          "output_type": "stream",
          "text": [
            "\n"
          ]
        },
        {
          "name": "stdout",
          "output_type": "stream",
          "text": [
            "\n",
            "      Epoch    GPU_mem   box_loss   cls_loss   dfl_loss  Instances       Size\n"
          ]
        },
        {
          "name": "stderr",
          "output_type": "stream",
          "text": [
            "    136/150      15.8G     0.2198      0.155     0.8112         10       1152: 100%|██████████| 125/125 [00:45<00:00,  2.74it/s]\n",
            "                 Class     Images  Instances      Box(P          R      mAP50  mAP50-95): 100%|██████████| 63/63 [00:11<00:00,  5.37it/s]"
          ]
        },
        {
          "name": "stdout",
          "output_type": "stream",
          "text": [
            "                   all       1000       1000      0.998          1      0.995      0.993\n"
          ]
        },
        {
          "name": "stderr",
          "output_type": "stream",
          "text": [
            "\n"
          ]
        },
        {
          "name": "stdout",
          "output_type": "stream",
          "text": [
            "\n",
            "      Epoch    GPU_mem   box_loss   cls_loss   dfl_loss  Instances       Size\n"
          ]
        },
        {
          "name": "stderr",
          "output_type": "stream",
          "text": [
            "    137/150      15.7G     0.2212     0.1534     0.8125         17       1152: 100%|██████████| 125/125 [00:45<00:00,  2.73it/s]\n",
            "                 Class     Images  Instances      Box(P          R      mAP50  mAP50-95): 100%|██████████| 63/63 [00:11<00:00,  5.29it/s]"
          ]
        },
        {
          "name": "stdout",
          "output_type": "stream",
          "text": [
            "                   all       1000       1000      0.999          1      0.995      0.994\n"
          ]
        },
        {
          "name": "stderr",
          "output_type": "stream",
          "text": [
            "\n"
          ]
        },
        {
          "name": "stdout",
          "output_type": "stream",
          "text": [
            "\n",
            "      Epoch    GPU_mem   box_loss   cls_loss   dfl_loss  Instances       Size\n"
          ]
        },
        {
          "name": "stderr",
          "output_type": "stream",
          "text": [
            "    138/150      15.7G     0.2163       0.15     0.8152         11       1152: 100%|██████████| 125/125 [00:46<00:00,  2.68it/s]\n",
            "                 Class     Images  Instances      Box(P          R      mAP50  mAP50-95): 100%|██████████| 63/63 [00:11<00:00,  5.36it/s]"
          ]
        },
        {
          "name": "stdout",
          "output_type": "stream",
          "text": [
            "                   all       1000       1000      0.999          1      0.995      0.994\n"
          ]
        },
        {
          "name": "stderr",
          "output_type": "stream",
          "text": [
            "\n"
          ]
        },
        {
          "name": "stdout",
          "output_type": "stream",
          "text": [
            "\n",
            "      Epoch    GPU_mem   box_loss   cls_loss   dfl_loss  Instances       Size\n"
          ]
        },
        {
          "name": "stderr",
          "output_type": "stream",
          "text": [
            "    139/150      15.7G     0.2248     0.1566     0.8196         14       1152: 100%|██████████| 125/125 [00:46<00:00,  2.68it/s]\n",
            "                 Class     Images  Instances      Box(P          R      mAP50  mAP50-95): 100%|██████████| 63/63 [00:12<00:00,  5.13it/s]"
          ]
        },
        {
          "name": "stdout",
          "output_type": "stream",
          "text": [
            "                   all       1000       1000      0.998          1      0.995      0.993\n"
          ]
        },
        {
          "name": "stderr",
          "output_type": "stream",
          "text": [
            "\n"
          ]
        },
        {
          "name": "stdout",
          "output_type": "stream",
          "text": [
            "\n",
            "      Epoch    GPU_mem   box_loss   cls_loss   dfl_loss  Instances       Size\n"
          ]
        },
        {
          "name": "stderr",
          "output_type": "stream",
          "text": [
            "    140/150      15.7G       0.22     0.1509      0.825         18       1152: 100%|██████████| 125/125 [00:46<00:00,  2.69it/s]\n",
            "                 Class     Images  Instances      Box(P          R      mAP50  mAP50-95): 100%|██████████| 63/63 [00:11<00:00,  5.40it/s]"
          ]
        },
        {
          "name": "stdout",
          "output_type": "stream",
          "text": [
            "                   all       1000       1000      0.998          1      0.995      0.993\n"
          ]
        },
        {
          "name": "stderr",
          "output_type": "stream",
          "text": [
            "\n"
          ]
        },
        {
          "name": "stdout",
          "output_type": "stream",
          "text": [
            "Closing dataloader mosaic\n",
            "\n",
            "      Epoch    GPU_mem   box_loss   cls_loss   dfl_loss  Instances       Size\n"
          ]
        },
        {
          "name": "stderr",
          "output_type": "stream",
          "text": [
            "    141/150      15.7G      0.183     0.1296     0.7879          8       1152: 100%|██████████| 125/125 [00:44<00:00,  2.78it/s]\n",
            "                 Class     Images  Instances      Box(P          R      mAP50  mAP50-95): 100%|██████████| 63/63 [00:11<00:00,  5.29it/s]"
          ]
        },
        {
          "name": "stdout",
          "output_type": "stream",
          "text": [
            "                   all       1000       1000      0.998          1      0.995      0.993\n"
          ]
        },
        {
          "name": "stderr",
          "output_type": "stream",
          "text": [
            "\n"
          ]
        },
        {
          "name": "stdout",
          "output_type": "stream",
          "text": [
            "\n",
            "      Epoch    GPU_mem   box_loss   cls_loss   dfl_loss  Instances       Size\n"
          ]
        },
        {
          "name": "stderr",
          "output_type": "stream",
          "text": [
            "    142/150      15.7G     0.1812       0.13     0.7785          8       1152: 100%|██████████| 125/125 [00:45<00:00,  2.75it/s]\n",
            "                 Class     Images  Instances      Box(P          R      mAP50  mAP50-95): 100%|██████████| 63/63 [00:11<00:00,  5.29it/s]"
          ]
        },
        {
          "name": "stdout",
          "output_type": "stream",
          "text": [
            "                   all       1000       1000      0.999          1      0.995      0.993\n"
          ]
        },
        {
          "name": "stderr",
          "output_type": "stream",
          "text": [
            "\n"
          ]
        },
        {
          "name": "stdout",
          "output_type": "stream",
          "text": [
            "\n",
            "      Epoch    GPU_mem   box_loss   cls_loss   dfl_loss  Instances       Size\n"
          ]
        },
        {
          "name": "stderr",
          "output_type": "stream",
          "text": [
            "    143/150      15.7G     0.1816     0.1286     0.7857          8       1152: 100%|██████████| 125/125 [00:45<00:00,  2.72it/s]\n",
            "                 Class     Images  Instances      Box(P          R      mAP50  mAP50-95): 100%|██████████| 63/63 [00:11<00:00,  5.42it/s]"
          ]
        },
        {
          "name": "stdout",
          "output_type": "stream",
          "text": [
            "                   all       1000       1000      0.999          1      0.995      0.994\n"
          ]
        },
        {
          "name": "stderr",
          "output_type": "stream",
          "text": [
            "\n"
          ]
        },
        {
          "name": "stdout",
          "output_type": "stream",
          "text": [
            "\n",
            "      Epoch    GPU_mem   box_loss   cls_loss   dfl_loss  Instances       Size\n"
          ]
        },
        {
          "name": "stderr",
          "output_type": "stream",
          "text": [
            "    144/150      15.7G     0.1833     0.1261     0.7879          8       1152: 100%|██████████| 125/125 [00:44<00:00,  2.81it/s]\n",
            "                 Class     Images  Instances      Box(P          R      mAP50  mAP50-95): 100%|██████████| 63/63 [00:11<00:00,  5.48it/s]"
          ]
        },
        {
          "name": "stdout",
          "output_type": "stream",
          "text": [
            "                   all       1000       1000      0.999          1      0.995      0.993\n"
          ]
        },
        {
          "name": "stderr",
          "output_type": "stream",
          "text": [
            "\n"
          ]
        },
        {
          "name": "stdout",
          "output_type": "stream",
          "text": [
            "\n",
            "      Epoch    GPU_mem   box_loss   cls_loss   dfl_loss  Instances       Size\n"
          ]
        },
        {
          "name": "stderr",
          "output_type": "stream",
          "text": [
            "    145/150      15.7G     0.1755     0.1255     0.7879          8       1152: 100%|██████████| 125/125 [00:44<00:00,  2.79it/s]\n",
            "                 Class     Images  Instances      Box(P          R      mAP50  mAP50-95): 100%|██████████| 63/63 [00:11<00:00,  5.35it/s]"
          ]
        },
        {
          "name": "stdout",
          "output_type": "stream",
          "text": [
            "                   all       1000       1000      0.999          1      0.995      0.994\n"
          ]
        },
        {
          "name": "stderr",
          "output_type": "stream",
          "text": [
            "\n"
          ]
        },
        {
          "name": "stdout",
          "output_type": "stream",
          "text": [
            "\n",
            "      Epoch    GPU_mem   box_loss   cls_loss   dfl_loss  Instances       Size\n"
          ]
        },
        {
          "name": "stderr",
          "output_type": "stream",
          "text": [
            "    146/150      15.7G     0.1764     0.1217      0.782          8       1152: 100%|██████████| 125/125 [00:46<00:00,  2.70it/s]\n",
            "                 Class     Images  Instances      Box(P          R      mAP50  mAP50-95): 100%|██████████| 63/63 [00:11<00:00,  5.35it/s]"
          ]
        },
        {
          "name": "stdout",
          "output_type": "stream",
          "text": [
            "                   all       1000       1000      0.999          1      0.995      0.994\n"
          ]
        },
        {
          "name": "stderr",
          "output_type": "stream",
          "text": [
            "\n"
          ]
        },
        {
          "name": "stdout",
          "output_type": "stream",
          "text": [
            "\n",
            "      Epoch    GPU_mem   box_loss   cls_loss   dfl_loss  Instances       Size\n"
          ]
        },
        {
          "name": "stderr",
          "output_type": "stream",
          "text": [
            "    147/150      15.7G     0.1743     0.1218     0.7862          8       1152: 100%|██████████| 125/125 [00:47<00:00,  2.61it/s]\n",
            "                 Class     Images  Instances      Box(P          R      mAP50  mAP50-95): 100%|██████████| 63/63 [00:11<00:00,  5.32it/s]"
          ]
        },
        {
          "name": "stdout",
          "output_type": "stream",
          "text": [
            "                   all       1000       1000      0.999          1      0.995      0.994\n"
          ]
        },
        {
          "name": "stderr",
          "output_type": "stream",
          "text": [
            "\n"
          ]
        },
        {
          "name": "stdout",
          "output_type": "stream",
          "text": [
            "\n",
            "      Epoch    GPU_mem   box_loss   cls_loss   dfl_loss  Instances       Size\n"
          ]
        },
        {
          "name": "stderr",
          "output_type": "stream",
          "text": [
            "    148/150      15.7G     0.1738     0.1224     0.7801          8       1152: 100%|██████████| 125/125 [00:46<00:00,  2.69it/s]\n",
            "                 Class     Images  Instances      Box(P          R      mAP50  mAP50-95): 100%|██████████| 63/63 [00:11<00:00,  5.40it/s]"
          ]
        },
        {
          "name": "stdout",
          "output_type": "stream",
          "text": [
            "                   all       1000       1000      0.999          1      0.995      0.994\n"
          ]
        },
        {
          "name": "stderr",
          "output_type": "stream",
          "text": [
            "\n"
          ]
        },
        {
          "name": "stdout",
          "output_type": "stream",
          "text": [
            "\n",
            "      Epoch    GPU_mem   box_loss   cls_loss   dfl_loss  Instances       Size\n"
          ]
        },
        {
          "name": "stderr",
          "output_type": "stream",
          "text": [
            "    149/150      15.7G     0.1712     0.1197     0.7857          8       1152: 100%|██████████| 125/125 [00:46<00:00,  2.71it/s]\n",
            "                 Class     Images  Instances      Box(P          R      mAP50  mAP50-95): 100%|██████████| 63/63 [00:12<00:00,  5.03it/s]"
          ]
        },
        {
          "name": "stdout",
          "output_type": "stream",
          "text": [
            "                   all       1000       1000      0.999          1      0.995      0.993\n"
          ]
        },
        {
          "name": "stderr",
          "output_type": "stream",
          "text": [
            "\n"
          ]
        },
        {
          "name": "stdout",
          "output_type": "stream",
          "text": [
            "\n",
            "      Epoch    GPU_mem   box_loss   cls_loss   dfl_loss  Instances       Size\n"
          ]
        },
        {
          "name": "stderr",
          "output_type": "stream",
          "text": [
            "    150/150      15.7G     0.1717     0.1196       0.78          8       1152: 100%|██████████| 125/125 [00:48<00:00,  2.58it/s]\n",
            "                 Class     Images  Instances      Box(P          R      mAP50  mAP50-95): 100%|██████████| 63/63 [00:11<00:00,  5.32it/s]"
          ]
        },
        {
          "name": "stdout",
          "output_type": "stream",
          "text": [
            "                   all       1000       1000      0.999          1      0.995      0.994\n"
          ]
        },
        {
          "name": "stderr",
          "output_type": "stream",
          "text": [
            "\n"
          ]
        },
        {
          "name": "stdout",
          "output_type": "stream",
          "text": [
            "\n",
            "150 epochs completed in 2.474 hours.\n",
            "Optimizer stripped from runs/detect/train12/weights/last.pt, 87.7MB\n",
            "Optimizer stripped from runs/detect/train12/weights/best.pt, 87.7MB\n",
            "\n",
            "Validating runs/detect/train12/weights/best.pt...\n",
            "Ultralytics YOLOv8.1.37 🚀 Python-3.11.8 torch-2.1.0+cu121 CUDA:0 (NVIDIA GeForce RTX 4080, 16071MiB)\n",
            "YOLOv8l summary (fused): 268 layers, 43610463 parameters, 0 gradients, 164.8 GFLOPs\n"
          ]
        },
        {
          "name": "stderr",
          "output_type": "stream",
          "text": [
            "                 Class     Images  Instances      Box(P          R      mAP50  mAP50-95): 100%|██████████| 63/63 [00:11<00:00,  5.41it/s]\n"
          ]
        },
        {
          "name": "stdout",
          "output_type": "stream",
          "text": [
            "                   all       1000       1000      0.999          1      0.995      0.994\n",
            "Capillaria philippinensis       1000        200          1          1      0.995      0.992\n",
            "Enterobius vermicularis       1000        200      0.999          1      0.995      0.994\n",
            "  Hymenolepis diminuta       1000        200          1          1      0.995      0.995\n",
            "      Hymenolepis nana       1000        200          1          1      0.995      0.995\n",
            "       Paragonimus spp       1000        200      0.995          1      0.995      0.995\n",
            "Speed: 0.2ms preprocess, 10.1ms inference, 0.0ms loss, 0.3ms postprocess per image\n",
            "Results saved to \u001b[1mruns/detect/train12\u001b[0m\n"
          ]
        },
        {
          "data": {
            "text/plain": [
              "ultralytics.utils.metrics.DetMetrics object with attributes:\n",
              "\n",
              "ap_class_index: array([0, 1, 2, 3, 4])\n",
              "box: ultralytics.utils.metrics.Metric object\n",
              "confusion_matrix: <ultralytics.utils.metrics.ConfusionMatrix object at 0x76bac8141650>\n",
              "curves: ['Precision-Recall(B)', 'F1-Confidence(B)', 'Precision-Confidence(B)', 'Recall-Confidence(B)']\n",
              "curves_results: [[array([          0,    0.001001,    0.002002,    0.003003,    0.004004,    0.005005,    0.006006,    0.007007,    0.008008,    0.009009,     0.01001,    0.011011,    0.012012,    0.013013,    0.014014,    0.015015,    0.016016,    0.017017,    0.018018,    0.019019,     0.02002,    0.021021,    0.022022,    0.023023,\n",
              "          0.024024,    0.025025,    0.026026,    0.027027,    0.028028,    0.029029,     0.03003,    0.031031,    0.032032,    0.033033,    0.034034,    0.035035,    0.036036,    0.037037,    0.038038,    0.039039,     0.04004,    0.041041,    0.042042,    0.043043,    0.044044,    0.045045,    0.046046,    0.047047,\n",
              "          0.048048,    0.049049,     0.05005,    0.051051,    0.052052,    0.053053,    0.054054,    0.055055,    0.056056,    0.057057,    0.058058,    0.059059,     0.06006,    0.061061,    0.062062,    0.063063,    0.064064,    0.065065,    0.066066,    0.067067,    0.068068,    0.069069,     0.07007,    0.071071,\n",
              "          0.072072,    0.073073,    0.074074,    0.075075,    0.076076,    0.077077,    0.078078,    0.079079,     0.08008,    0.081081,    0.082082,    0.083083,    0.084084,    0.085085,    0.086086,    0.087087,    0.088088,    0.089089,     0.09009,    0.091091,    0.092092,    0.093093,    0.094094,    0.095095,\n",
              "          0.096096,    0.097097,    0.098098,    0.099099,      0.1001,      0.1011,      0.1021,      0.1031,      0.1041,     0.10511,     0.10611,     0.10711,     0.10811,     0.10911,     0.11011,     0.11111,     0.11211,     0.11311,     0.11411,     0.11512,     0.11612,     0.11712,     0.11812,     0.11912,\n",
              "           0.12012,     0.12112,     0.12212,     0.12312,     0.12412,     0.12513,     0.12613,     0.12713,     0.12813,     0.12913,     0.13013,     0.13113,     0.13213,     0.13313,     0.13413,     0.13514,     0.13614,     0.13714,     0.13814,     0.13914,     0.14014,     0.14114,     0.14214,     0.14314,\n",
              "           0.14414,     0.14515,     0.14615,     0.14715,     0.14815,     0.14915,     0.15015,     0.15115,     0.15215,     0.15315,     0.15415,     0.15516,     0.15616,     0.15716,     0.15816,     0.15916,     0.16016,     0.16116,     0.16216,     0.16316,     0.16416,     0.16517,     0.16617,     0.16717,\n",
              "           0.16817,     0.16917,     0.17017,     0.17117,     0.17217,     0.17317,     0.17417,     0.17518,     0.17618,     0.17718,     0.17818,     0.17918,     0.18018,     0.18118,     0.18218,     0.18318,     0.18418,     0.18519,     0.18619,     0.18719,     0.18819,     0.18919,     0.19019,     0.19119,\n",
              "           0.19219,     0.19319,     0.19419,      0.1952,      0.1962,      0.1972,      0.1982,      0.1992,      0.2002,      0.2012,      0.2022,      0.2032,      0.2042,     0.20521,     0.20621,     0.20721,     0.20821,     0.20921,     0.21021,     0.21121,     0.21221,     0.21321,     0.21421,     0.21522,\n",
              "           0.21622,     0.21722,     0.21822,     0.21922,     0.22022,     0.22122,     0.22222,     0.22322,     0.22422,     0.22523,     0.22623,     0.22723,     0.22823,     0.22923,     0.23023,     0.23123,     0.23223,     0.23323,     0.23423,     0.23524,     0.23624,     0.23724,     0.23824,     0.23924,\n",
              "           0.24024,     0.24124,     0.24224,     0.24324,     0.24424,     0.24525,     0.24625,     0.24725,     0.24825,     0.24925,     0.25025,     0.25125,     0.25225,     0.25325,     0.25425,     0.25526,     0.25626,     0.25726,     0.25826,     0.25926,     0.26026,     0.26126,     0.26226,     0.26326,\n",
              "           0.26426,     0.26527,     0.26627,     0.26727,     0.26827,     0.26927,     0.27027,     0.27127,     0.27227,     0.27327,     0.27427,     0.27528,     0.27628,     0.27728,     0.27828,     0.27928,     0.28028,     0.28128,     0.28228,     0.28328,     0.28428,     0.28529,     0.28629,     0.28729,\n",
              "           0.28829,     0.28929,     0.29029,     0.29129,     0.29229,     0.29329,     0.29429,      0.2953,      0.2963,      0.2973,      0.2983,      0.2993,      0.3003,      0.3013,      0.3023,      0.3033,      0.3043,     0.30531,     0.30631,     0.30731,     0.30831,     0.30931,     0.31031,     0.31131,\n",
              "           0.31231,     0.31331,     0.31431,     0.31532,     0.31632,     0.31732,     0.31832,     0.31932,     0.32032,     0.32132,     0.32232,     0.32332,     0.32432,     0.32533,     0.32633,     0.32733,     0.32833,     0.32933,     0.33033,     0.33133,     0.33233,     0.33333,     0.33433,     0.33534,\n",
              "           0.33634,     0.33734,     0.33834,     0.33934,     0.34034,     0.34134,     0.34234,     0.34334,     0.34434,     0.34535,     0.34635,     0.34735,     0.34835,     0.34935,     0.35035,     0.35135,     0.35235,     0.35335,     0.35435,     0.35536,     0.35636,     0.35736,     0.35836,     0.35936,\n",
              "           0.36036,     0.36136,     0.36236,     0.36336,     0.36436,     0.36537,     0.36637,     0.36737,     0.36837,     0.36937,     0.37037,     0.37137,     0.37237,     0.37337,     0.37437,     0.37538,     0.37638,     0.37738,     0.37838,     0.37938,     0.38038,     0.38138,     0.38238,     0.38338,\n",
              "           0.38438,     0.38539,     0.38639,     0.38739,     0.38839,     0.38939,     0.39039,     0.39139,     0.39239,     0.39339,     0.39439,      0.3954,      0.3964,      0.3974,      0.3984,      0.3994,      0.4004,      0.4014,      0.4024,      0.4034,      0.4044,     0.40541,     0.40641,     0.40741,\n",
              "           0.40841,     0.40941,     0.41041,     0.41141,     0.41241,     0.41341,     0.41441,     0.41542,     0.41642,     0.41742,     0.41842,     0.41942,     0.42042,     0.42142,     0.42242,     0.42342,     0.42442,     0.42543,     0.42643,     0.42743,     0.42843,     0.42943,     0.43043,     0.43143,\n",
              "           0.43243,     0.43343,     0.43443,     0.43544,     0.43644,     0.43744,     0.43844,     0.43944,     0.44044,     0.44144,     0.44244,     0.44344,     0.44444,     0.44545,     0.44645,     0.44745,     0.44845,     0.44945,     0.45045,     0.45145,     0.45245,     0.45345,     0.45445,     0.45546,\n",
              "           0.45646,     0.45746,     0.45846,     0.45946,     0.46046,     0.46146,     0.46246,     0.46346,     0.46446,     0.46547,     0.46647,     0.46747,     0.46847,     0.46947,     0.47047,     0.47147,     0.47247,     0.47347,     0.47447,     0.47548,     0.47648,     0.47748,     0.47848,     0.47948,\n",
              "           0.48048,     0.48148,     0.48248,     0.48348,     0.48448,     0.48549,     0.48649,     0.48749,     0.48849,     0.48949,     0.49049,     0.49149,     0.49249,     0.49349,     0.49449,      0.4955,      0.4965,      0.4975,      0.4985,      0.4995,      0.5005,      0.5015,      0.5025,      0.5035,\n",
              "            0.5045,     0.50551,     0.50651,     0.50751,     0.50851,     0.50951,     0.51051,     0.51151,     0.51251,     0.51351,     0.51451,     0.51552,     0.51652,     0.51752,     0.51852,     0.51952,     0.52052,     0.52152,     0.52252,     0.52352,     0.52452,     0.52553,     0.52653,     0.52753,\n",
              "           0.52853,     0.52953,     0.53053,     0.53153,     0.53253,     0.53353,     0.53453,     0.53554,     0.53654,     0.53754,     0.53854,     0.53954,     0.54054,     0.54154,     0.54254,     0.54354,     0.54454,     0.54555,     0.54655,     0.54755,     0.54855,     0.54955,     0.55055,     0.55155,\n",
              "           0.55255,     0.55355,     0.55455,     0.55556,     0.55656,     0.55756,     0.55856,     0.55956,     0.56056,     0.56156,     0.56256,     0.56356,     0.56456,     0.56557,     0.56657,     0.56757,     0.56857,     0.56957,     0.57057,     0.57157,     0.57257,     0.57357,     0.57457,     0.57558,\n",
              "           0.57658,     0.57758,     0.57858,     0.57958,     0.58058,     0.58158,     0.58258,     0.58358,     0.58458,     0.58559,     0.58659,     0.58759,     0.58859,     0.58959,     0.59059,     0.59159,     0.59259,     0.59359,     0.59459,      0.5956,      0.5966,      0.5976,      0.5986,      0.5996,\n",
              "            0.6006,      0.6016,      0.6026,      0.6036,      0.6046,     0.60561,     0.60661,     0.60761,     0.60861,     0.60961,     0.61061,     0.61161,     0.61261,     0.61361,     0.61461,     0.61562,     0.61662,     0.61762,     0.61862,     0.61962,     0.62062,     0.62162,     0.62262,     0.62362,\n",
              "           0.62462,     0.62563,     0.62663,     0.62763,     0.62863,     0.62963,     0.63063,     0.63163,     0.63263,     0.63363,     0.63463,     0.63564,     0.63664,     0.63764,     0.63864,     0.63964,     0.64064,     0.64164,     0.64264,     0.64364,     0.64464,     0.64565,     0.64665,     0.64765,\n",
              "           0.64865,     0.64965,     0.65065,     0.65165,     0.65265,     0.65365,     0.65465,     0.65566,     0.65666,     0.65766,     0.65866,     0.65966,     0.66066,     0.66166,     0.66266,     0.66366,     0.66466,     0.66567,     0.66667,     0.66767,     0.66867,     0.66967,     0.67067,     0.67167,\n",
              "           0.67267,     0.67367,     0.67467,     0.67568,     0.67668,     0.67768,     0.67868,     0.67968,     0.68068,     0.68168,     0.68268,     0.68368,     0.68468,     0.68569,     0.68669,     0.68769,     0.68869,     0.68969,     0.69069,     0.69169,     0.69269,     0.69369,     0.69469,      0.6957,\n",
              "            0.6967,      0.6977,      0.6987,      0.6997,      0.7007,      0.7017,      0.7027,      0.7037,      0.7047,     0.70571,     0.70671,     0.70771,     0.70871,     0.70971,     0.71071,     0.71171,     0.71271,     0.71371,     0.71471,     0.71572,     0.71672,     0.71772,     0.71872,     0.71972,\n",
              "           0.72072,     0.72172,     0.72272,     0.72372,     0.72472,     0.72573,     0.72673,     0.72773,     0.72873,     0.72973,     0.73073,     0.73173,     0.73273,     0.73373,     0.73473,     0.73574,     0.73674,     0.73774,     0.73874,     0.73974,     0.74074,     0.74174,     0.74274,     0.74374,\n",
              "           0.74474,     0.74575,     0.74675,     0.74775,     0.74875,     0.74975,     0.75075,     0.75175,     0.75275,     0.75375,     0.75475,     0.75576,     0.75676,     0.75776,     0.75876,     0.75976,     0.76076,     0.76176,     0.76276,     0.76376,     0.76476,     0.76577,     0.76677,     0.76777,\n",
              "           0.76877,     0.76977,     0.77077,     0.77177,     0.77277,     0.77377,     0.77477,     0.77578,     0.77678,     0.77778,     0.77878,     0.77978,     0.78078,     0.78178,     0.78278,     0.78378,     0.78478,     0.78579,     0.78679,     0.78779,     0.78879,     0.78979,     0.79079,     0.79179,\n",
              "           0.79279,     0.79379,     0.79479,      0.7958,      0.7968,      0.7978,      0.7988,      0.7998,      0.8008,      0.8018,      0.8028,      0.8038,      0.8048,     0.80581,     0.80681,     0.80781,     0.80881,     0.80981,     0.81081,     0.81181,     0.81281,     0.81381,     0.81481,     0.81582,\n",
              "           0.81682,     0.81782,     0.81882,     0.81982,     0.82082,     0.82182,     0.82282,     0.82382,     0.82482,     0.82583,     0.82683,     0.82783,     0.82883,     0.82983,     0.83083,     0.83183,     0.83283,     0.83383,     0.83483,     0.83584,     0.83684,     0.83784,     0.83884,     0.83984,\n",
              "           0.84084,     0.84184,     0.84284,     0.84384,     0.84484,     0.84585,     0.84685,     0.84785,     0.84885,     0.84985,     0.85085,     0.85185,     0.85285,     0.85385,     0.85485,     0.85586,     0.85686,     0.85786,     0.85886,     0.85986,     0.86086,     0.86186,     0.86286,     0.86386,\n",
              "           0.86486,     0.86587,     0.86687,     0.86787,     0.86887,     0.86987,     0.87087,     0.87187,     0.87287,     0.87387,     0.87487,     0.87588,     0.87688,     0.87788,     0.87888,     0.87988,     0.88088,     0.88188,     0.88288,     0.88388,     0.88488,     0.88589,     0.88689,     0.88789,\n",
              "           0.88889,     0.88989,     0.89089,     0.89189,     0.89289,     0.89389,     0.89489,      0.8959,      0.8969,      0.8979,      0.8989,      0.8999,      0.9009,      0.9019,      0.9029,      0.9039,      0.9049,     0.90591,     0.90691,     0.90791,     0.90891,     0.90991,     0.91091,     0.91191,\n",
              "           0.91291,     0.91391,     0.91491,     0.91592,     0.91692,     0.91792,     0.91892,     0.91992,     0.92092,     0.92192,     0.92292,     0.92392,     0.92492,     0.92593,     0.92693,     0.92793,     0.92893,     0.92993,     0.93093,     0.93193,     0.93293,     0.93393,     0.93493,     0.93594,\n",
              "           0.93694,     0.93794,     0.93894,     0.93994,     0.94094,     0.94194,     0.94294,     0.94394,     0.94494,     0.94595,     0.94695,     0.94795,     0.94895,     0.94995,     0.95095,     0.95195,     0.95295,     0.95395,     0.95495,     0.95596,     0.95696,     0.95796,     0.95896,     0.95996,\n",
              "           0.96096,     0.96196,     0.96296,     0.96396,     0.96496,     0.96597,     0.96697,     0.96797,     0.96897,     0.96997,     0.97097,     0.97197,     0.97297,     0.97397,     0.97497,     0.97598,     0.97698,     0.97798,     0.97898,     0.97998,     0.98098,     0.98198,     0.98298,     0.98398,\n",
              "           0.98498,     0.98599,     0.98699,     0.98799,     0.98899,     0.98999,     0.99099,     0.99199,     0.99299,     0.99399,     0.99499,       0.996,       0.997,       0.998,       0.999,           1]), array([[          1,           1,           1, ...,           1,           1,           0],\n",
              "       [          1,           1,           1, ...,           1,           1,           0],\n",
              "       [          1,           1,           1, ...,           1,           1,           0],\n",
              "       [          1,           1,           1, ...,           1,           1,           0],\n",
              "       [          1,           1,           1, ...,           1,           1,           0]]), 'Recall', 'Precision'], [array([          0,    0.001001,    0.002002,    0.003003,    0.004004,    0.005005,    0.006006,    0.007007,    0.008008,    0.009009,     0.01001,    0.011011,    0.012012,    0.013013,    0.014014,    0.015015,    0.016016,    0.017017,    0.018018,    0.019019,     0.02002,    0.021021,    0.022022,    0.023023,\n",
              "          0.024024,    0.025025,    0.026026,    0.027027,    0.028028,    0.029029,     0.03003,    0.031031,    0.032032,    0.033033,    0.034034,    0.035035,    0.036036,    0.037037,    0.038038,    0.039039,     0.04004,    0.041041,    0.042042,    0.043043,    0.044044,    0.045045,    0.046046,    0.047047,\n",
              "          0.048048,    0.049049,     0.05005,    0.051051,    0.052052,    0.053053,    0.054054,    0.055055,    0.056056,    0.057057,    0.058058,    0.059059,     0.06006,    0.061061,    0.062062,    0.063063,    0.064064,    0.065065,    0.066066,    0.067067,    0.068068,    0.069069,     0.07007,    0.071071,\n",
              "          0.072072,    0.073073,    0.074074,    0.075075,    0.076076,    0.077077,    0.078078,    0.079079,     0.08008,    0.081081,    0.082082,    0.083083,    0.084084,    0.085085,    0.086086,    0.087087,    0.088088,    0.089089,     0.09009,    0.091091,    0.092092,    0.093093,    0.094094,    0.095095,\n",
              "          0.096096,    0.097097,    0.098098,    0.099099,      0.1001,      0.1011,      0.1021,      0.1031,      0.1041,     0.10511,     0.10611,     0.10711,     0.10811,     0.10911,     0.11011,     0.11111,     0.11211,     0.11311,     0.11411,     0.11512,     0.11612,     0.11712,     0.11812,     0.11912,\n",
              "           0.12012,     0.12112,     0.12212,     0.12312,     0.12412,     0.12513,     0.12613,     0.12713,     0.12813,     0.12913,     0.13013,     0.13113,     0.13213,     0.13313,     0.13413,     0.13514,     0.13614,     0.13714,     0.13814,     0.13914,     0.14014,     0.14114,     0.14214,     0.14314,\n",
              "           0.14414,     0.14515,     0.14615,     0.14715,     0.14815,     0.14915,     0.15015,     0.15115,     0.15215,     0.15315,     0.15415,     0.15516,     0.15616,     0.15716,     0.15816,     0.15916,     0.16016,     0.16116,     0.16216,     0.16316,     0.16416,     0.16517,     0.16617,     0.16717,\n",
              "           0.16817,     0.16917,     0.17017,     0.17117,     0.17217,     0.17317,     0.17417,     0.17518,     0.17618,     0.17718,     0.17818,     0.17918,     0.18018,     0.18118,     0.18218,     0.18318,     0.18418,     0.18519,     0.18619,     0.18719,     0.18819,     0.18919,     0.19019,     0.19119,\n",
              "           0.19219,     0.19319,     0.19419,      0.1952,      0.1962,      0.1972,      0.1982,      0.1992,      0.2002,      0.2012,      0.2022,      0.2032,      0.2042,     0.20521,     0.20621,     0.20721,     0.20821,     0.20921,     0.21021,     0.21121,     0.21221,     0.21321,     0.21421,     0.21522,\n",
              "           0.21622,     0.21722,     0.21822,     0.21922,     0.22022,     0.22122,     0.22222,     0.22322,     0.22422,     0.22523,     0.22623,     0.22723,     0.22823,     0.22923,     0.23023,     0.23123,     0.23223,     0.23323,     0.23423,     0.23524,     0.23624,     0.23724,     0.23824,     0.23924,\n",
              "           0.24024,     0.24124,     0.24224,     0.24324,     0.24424,     0.24525,     0.24625,     0.24725,     0.24825,     0.24925,     0.25025,     0.25125,     0.25225,     0.25325,     0.25425,     0.25526,     0.25626,     0.25726,     0.25826,     0.25926,     0.26026,     0.26126,     0.26226,     0.26326,\n",
              "           0.26426,     0.26527,     0.26627,     0.26727,     0.26827,     0.26927,     0.27027,     0.27127,     0.27227,     0.27327,     0.27427,     0.27528,     0.27628,     0.27728,     0.27828,     0.27928,     0.28028,     0.28128,     0.28228,     0.28328,     0.28428,     0.28529,     0.28629,     0.28729,\n",
              "           0.28829,     0.28929,     0.29029,     0.29129,     0.29229,     0.29329,     0.29429,      0.2953,      0.2963,      0.2973,      0.2983,      0.2993,      0.3003,      0.3013,      0.3023,      0.3033,      0.3043,     0.30531,     0.30631,     0.30731,     0.30831,     0.30931,     0.31031,     0.31131,\n",
              "           0.31231,     0.31331,     0.31431,     0.31532,     0.31632,     0.31732,     0.31832,     0.31932,     0.32032,     0.32132,     0.32232,     0.32332,     0.32432,     0.32533,     0.32633,     0.32733,     0.32833,     0.32933,     0.33033,     0.33133,     0.33233,     0.33333,     0.33433,     0.33534,\n",
              "           0.33634,     0.33734,     0.33834,     0.33934,     0.34034,     0.34134,     0.34234,     0.34334,     0.34434,     0.34535,     0.34635,     0.34735,     0.34835,     0.34935,     0.35035,     0.35135,     0.35235,     0.35335,     0.35435,     0.35536,     0.35636,     0.35736,     0.35836,     0.35936,\n",
              "           0.36036,     0.36136,     0.36236,     0.36336,     0.36436,     0.36537,     0.36637,     0.36737,     0.36837,     0.36937,     0.37037,     0.37137,     0.37237,     0.37337,     0.37437,     0.37538,     0.37638,     0.37738,     0.37838,     0.37938,     0.38038,     0.38138,     0.38238,     0.38338,\n",
              "           0.38438,     0.38539,     0.38639,     0.38739,     0.38839,     0.38939,     0.39039,     0.39139,     0.39239,     0.39339,     0.39439,      0.3954,      0.3964,      0.3974,      0.3984,      0.3994,      0.4004,      0.4014,      0.4024,      0.4034,      0.4044,     0.40541,     0.40641,     0.40741,\n",
              "           0.40841,     0.40941,     0.41041,     0.41141,     0.41241,     0.41341,     0.41441,     0.41542,     0.41642,     0.41742,     0.41842,     0.41942,     0.42042,     0.42142,     0.42242,     0.42342,     0.42442,     0.42543,     0.42643,     0.42743,     0.42843,     0.42943,     0.43043,     0.43143,\n",
              "           0.43243,     0.43343,     0.43443,     0.43544,     0.43644,     0.43744,     0.43844,     0.43944,     0.44044,     0.44144,     0.44244,     0.44344,     0.44444,     0.44545,     0.44645,     0.44745,     0.44845,     0.44945,     0.45045,     0.45145,     0.45245,     0.45345,     0.45445,     0.45546,\n",
              "           0.45646,     0.45746,     0.45846,     0.45946,     0.46046,     0.46146,     0.46246,     0.46346,     0.46446,     0.46547,     0.46647,     0.46747,     0.46847,     0.46947,     0.47047,     0.47147,     0.47247,     0.47347,     0.47447,     0.47548,     0.47648,     0.47748,     0.47848,     0.47948,\n",
              "           0.48048,     0.48148,     0.48248,     0.48348,     0.48448,     0.48549,     0.48649,     0.48749,     0.48849,     0.48949,     0.49049,     0.49149,     0.49249,     0.49349,     0.49449,      0.4955,      0.4965,      0.4975,      0.4985,      0.4995,      0.5005,      0.5015,      0.5025,      0.5035,\n",
              "            0.5045,     0.50551,     0.50651,     0.50751,     0.50851,     0.50951,     0.51051,     0.51151,     0.51251,     0.51351,     0.51451,     0.51552,     0.51652,     0.51752,     0.51852,     0.51952,     0.52052,     0.52152,     0.52252,     0.52352,     0.52452,     0.52553,     0.52653,     0.52753,\n",
              "           0.52853,     0.52953,     0.53053,     0.53153,     0.53253,     0.53353,     0.53453,     0.53554,     0.53654,     0.53754,     0.53854,     0.53954,     0.54054,     0.54154,     0.54254,     0.54354,     0.54454,     0.54555,     0.54655,     0.54755,     0.54855,     0.54955,     0.55055,     0.55155,\n",
              "           0.55255,     0.55355,     0.55455,     0.55556,     0.55656,     0.55756,     0.55856,     0.55956,     0.56056,     0.56156,     0.56256,     0.56356,     0.56456,     0.56557,     0.56657,     0.56757,     0.56857,     0.56957,     0.57057,     0.57157,     0.57257,     0.57357,     0.57457,     0.57558,\n",
              "           0.57658,     0.57758,     0.57858,     0.57958,     0.58058,     0.58158,     0.58258,     0.58358,     0.58458,     0.58559,     0.58659,     0.58759,     0.58859,     0.58959,     0.59059,     0.59159,     0.59259,     0.59359,     0.59459,      0.5956,      0.5966,      0.5976,      0.5986,      0.5996,\n",
              "            0.6006,      0.6016,      0.6026,      0.6036,      0.6046,     0.60561,     0.60661,     0.60761,     0.60861,     0.60961,     0.61061,     0.61161,     0.61261,     0.61361,     0.61461,     0.61562,     0.61662,     0.61762,     0.61862,     0.61962,     0.62062,     0.62162,     0.62262,     0.62362,\n",
              "           0.62462,     0.62563,     0.62663,     0.62763,     0.62863,     0.62963,     0.63063,     0.63163,     0.63263,     0.63363,     0.63463,     0.63564,     0.63664,     0.63764,     0.63864,     0.63964,     0.64064,     0.64164,     0.64264,     0.64364,     0.64464,     0.64565,     0.64665,     0.64765,\n",
              "           0.64865,     0.64965,     0.65065,     0.65165,     0.65265,     0.65365,     0.65465,     0.65566,     0.65666,     0.65766,     0.65866,     0.65966,     0.66066,     0.66166,     0.66266,     0.66366,     0.66466,     0.66567,     0.66667,     0.66767,     0.66867,     0.66967,     0.67067,     0.67167,\n",
              "           0.67267,     0.67367,     0.67467,     0.67568,     0.67668,     0.67768,     0.67868,     0.67968,     0.68068,     0.68168,     0.68268,     0.68368,     0.68468,     0.68569,     0.68669,     0.68769,     0.68869,     0.68969,     0.69069,     0.69169,     0.69269,     0.69369,     0.69469,      0.6957,\n",
              "            0.6967,      0.6977,      0.6987,      0.6997,      0.7007,      0.7017,      0.7027,      0.7037,      0.7047,     0.70571,     0.70671,     0.70771,     0.70871,     0.70971,     0.71071,     0.71171,     0.71271,     0.71371,     0.71471,     0.71572,     0.71672,     0.71772,     0.71872,     0.71972,\n",
              "           0.72072,     0.72172,     0.72272,     0.72372,     0.72472,     0.72573,     0.72673,     0.72773,     0.72873,     0.72973,     0.73073,     0.73173,     0.73273,     0.73373,     0.73473,     0.73574,     0.73674,     0.73774,     0.73874,     0.73974,     0.74074,     0.74174,     0.74274,     0.74374,\n",
              "           0.74474,     0.74575,     0.74675,     0.74775,     0.74875,     0.74975,     0.75075,     0.75175,     0.75275,     0.75375,     0.75475,     0.75576,     0.75676,     0.75776,     0.75876,     0.75976,     0.76076,     0.76176,     0.76276,     0.76376,     0.76476,     0.76577,     0.76677,     0.76777,\n",
              "           0.76877,     0.76977,     0.77077,     0.77177,     0.77277,     0.77377,     0.77477,     0.77578,     0.77678,     0.77778,     0.77878,     0.77978,     0.78078,     0.78178,     0.78278,     0.78378,     0.78478,     0.78579,     0.78679,     0.78779,     0.78879,     0.78979,     0.79079,     0.79179,\n",
              "           0.79279,     0.79379,     0.79479,      0.7958,      0.7968,      0.7978,      0.7988,      0.7998,      0.8008,      0.8018,      0.8028,      0.8038,      0.8048,     0.80581,     0.80681,     0.80781,     0.80881,     0.80981,     0.81081,     0.81181,     0.81281,     0.81381,     0.81481,     0.81582,\n",
              "           0.81682,     0.81782,     0.81882,     0.81982,     0.82082,     0.82182,     0.82282,     0.82382,     0.82482,     0.82583,     0.82683,     0.82783,     0.82883,     0.82983,     0.83083,     0.83183,     0.83283,     0.83383,     0.83483,     0.83584,     0.83684,     0.83784,     0.83884,     0.83984,\n",
              "           0.84084,     0.84184,     0.84284,     0.84384,     0.84484,     0.84585,     0.84685,     0.84785,     0.84885,     0.84985,     0.85085,     0.85185,     0.85285,     0.85385,     0.85485,     0.85586,     0.85686,     0.85786,     0.85886,     0.85986,     0.86086,     0.86186,     0.86286,     0.86386,\n",
              "           0.86486,     0.86587,     0.86687,     0.86787,     0.86887,     0.86987,     0.87087,     0.87187,     0.87287,     0.87387,     0.87487,     0.87588,     0.87688,     0.87788,     0.87888,     0.87988,     0.88088,     0.88188,     0.88288,     0.88388,     0.88488,     0.88589,     0.88689,     0.88789,\n",
              "           0.88889,     0.88989,     0.89089,     0.89189,     0.89289,     0.89389,     0.89489,      0.8959,      0.8969,      0.8979,      0.8989,      0.8999,      0.9009,      0.9019,      0.9029,      0.9039,      0.9049,     0.90591,     0.90691,     0.90791,     0.90891,     0.90991,     0.91091,     0.91191,\n",
              "           0.91291,     0.91391,     0.91491,     0.91592,     0.91692,     0.91792,     0.91892,     0.91992,     0.92092,     0.92192,     0.92292,     0.92392,     0.92492,     0.92593,     0.92693,     0.92793,     0.92893,     0.92993,     0.93093,     0.93193,     0.93293,     0.93393,     0.93493,     0.93594,\n",
              "           0.93694,     0.93794,     0.93894,     0.93994,     0.94094,     0.94194,     0.94294,     0.94394,     0.94494,     0.94595,     0.94695,     0.94795,     0.94895,     0.94995,     0.95095,     0.95195,     0.95295,     0.95395,     0.95495,     0.95596,     0.95696,     0.95796,     0.95896,     0.95996,\n",
              "           0.96096,     0.96196,     0.96296,     0.96396,     0.96496,     0.96597,     0.96697,     0.96797,     0.96897,     0.96997,     0.97097,     0.97197,     0.97297,     0.97397,     0.97497,     0.97598,     0.97698,     0.97798,     0.97898,     0.97998,     0.98098,     0.98198,     0.98298,     0.98398,\n",
              "           0.98498,     0.98599,     0.98699,     0.98799,     0.98899,     0.98999,     0.99099,     0.99199,     0.99299,     0.99399,     0.99499,       0.996,       0.997,       0.998,       0.999,           1]), array([[    0.93023,     0.93023,     0.95906, ...,           0,           0,           0],\n",
              "       [    0.96618,     0.96618,     0.98227, ...,           0,           0,           0],\n",
              "       [     0.9828,      0.9828,     0.99038, ...,           0,           0,           0],\n",
              "       [      0.978,       0.978,     0.98294, ...,           0,           0,           0],\n",
              "       [    0.96154,     0.96154,     0.97363, ...,           0,           0,           0]]), 'Confidence', 'F1'], [array([          0,    0.001001,    0.002002,    0.003003,    0.004004,    0.005005,    0.006006,    0.007007,    0.008008,    0.009009,     0.01001,    0.011011,    0.012012,    0.013013,    0.014014,    0.015015,    0.016016,    0.017017,    0.018018,    0.019019,     0.02002,    0.021021,    0.022022,    0.023023,\n",
              "          0.024024,    0.025025,    0.026026,    0.027027,    0.028028,    0.029029,     0.03003,    0.031031,    0.032032,    0.033033,    0.034034,    0.035035,    0.036036,    0.037037,    0.038038,    0.039039,     0.04004,    0.041041,    0.042042,    0.043043,    0.044044,    0.045045,    0.046046,    0.047047,\n",
              "          0.048048,    0.049049,     0.05005,    0.051051,    0.052052,    0.053053,    0.054054,    0.055055,    0.056056,    0.057057,    0.058058,    0.059059,     0.06006,    0.061061,    0.062062,    0.063063,    0.064064,    0.065065,    0.066066,    0.067067,    0.068068,    0.069069,     0.07007,    0.071071,\n",
              "          0.072072,    0.073073,    0.074074,    0.075075,    0.076076,    0.077077,    0.078078,    0.079079,     0.08008,    0.081081,    0.082082,    0.083083,    0.084084,    0.085085,    0.086086,    0.087087,    0.088088,    0.089089,     0.09009,    0.091091,    0.092092,    0.093093,    0.094094,    0.095095,\n",
              "          0.096096,    0.097097,    0.098098,    0.099099,      0.1001,      0.1011,      0.1021,      0.1031,      0.1041,     0.10511,     0.10611,     0.10711,     0.10811,     0.10911,     0.11011,     0.11111,     0.11211,     0.11311,     0.11411,     0.11512,     0.11612,     0.11712,     0.11812,     0.11912,\n",
              "           0.12012,     0.12112,     0.12212,     0.12312,     0.12412,     0.12513,     0.12613,     0.12713,     0.12813,     0.12913,     0.13013,     0.13113,     0.13213,     0.13313,     0.13413,     0.13514,     0.13614,     0.13714,     0.13814,     0.13914,     0.14014,     0.14114,     0.14214,     0.14314,\n",
              "           0.14414,     0.14515,     0.14615,     0.14715,     0.14815,     0.14915,     0.15015,     0.15115,     0.15215,     0.15315,     0.15415,     0.15516,     0.15616,     0.15716,     0.15816,     0.15916,     0.16016,     0.16116,     0.16216,     0.16316,     0.16416,     0.16517,     0.16617,     0.16717,\n",
              "           0.16817,     0.16917,     0.17017,     0.17117,     0.17217,     0.17317,     0.17417,     0.17518,     0.17618,     0.17718,     0.17818,     0.17918,     0.18018,     0.18118,     0.18218,     0.18318,     0.18418,     0.18519,     0.18619,     0.18719,     0.18819,     0.18919,     0.19019,     0.19119,\n",
              "           0.19219,     0.19319,     0.19419,      0.1952,      0.1962,      0.1972,      0.1982,      0.1992,      0.2002,      0.2012,      0.2022,      0.2032,      0.2042,     0.20521,     0.20621,     0.20721,     0.20821,     0.20921,     0.21021,     0.21121,     0.21221,     0.21321,     0.21421,     0.21522,\n",
              "           0.21622,     0.21722,     0.21822,     0.21922,     0.22022,     0.22122,     0.22222,     0.22322,     0.22422,     0.22523,     0.22623,     0.22723,     0.22823,     0.22923,     0.23023,     0.23123,     0.23223,     0.23323,     0.23423,     0.23524,     0.23624,     0.23724,     0.23824,     0.23924,\n",
              "           0.24024,     0.24124,     0.24224,     0.24324,     0.24424,     0.24525,     0.24625,     0.24725,     0.24825,     0.24925,     0.25025,     0.25125,     0.25225,     0.25325,     0.25425,     0.25526,     0.25626,     0.25726,     0.25826,     0.25926,     0.26026,     0.26126,     0.26226,     0.26326,\n",
              "           0.26426,     0.26527,     0.26627,     0.26727,     0.26827,     0.26927,     0.27027,     0.27127,     0.27227,     0.27327,     0.27427,     0.27528,     0.27628,     0.27728,     0.27828,     0.27928,     0.28028,     0.28128,     0.28228,     0.28328,     0.28428,     0.28529,     0.28629,     0.28729,\n",
              "           0.28829,     0.28929,     0.29029,     0.29129,     0.29229,     0.29329,     0.29429,      0.2953,      0.2963,      0.2973,      0.2983,      0.2993,      0.3003,      0.3013,      0.3023,      0.3033,      0.3043,     0.30531,     0.30631,     0.30731,     0.30831,     0.30931,     0.31031,     0.31131,\n",
              "           0.31231,     0.31331,     0.31431,     0.31532,     0.31632,     0.31732,     0.31832,     0.31932,     0.32032,     0.32132,     0.32232,     0.32332,     0.32432,     0.32533,     0.32633,     0.32733,     0.32833,     0.32933,     0.33033,     0.33133,     0.33233,     0.33333,     0.33433,     0.33534,\n",
              "           0.33634,     0.33734,     0.33834,     0.33934,     0.34034,     0.34134,     0.34234,     0.34334,     0.34434,     0.34535,     0.34635,     0.34735,     0.34835,     0.34935,     0.35035,     0.35135,     0.35235,     0.35335,     0.35435,     0.35536,     0.35636,     0.35736,     0.35836,     0.35936,\n",
              "           0.36036,     0.36136,     0.36236,     0.36336,     0.36436,     0.36537,     0.36637,     0.36737,     0.36837,     0.36937,     0.37037,     0.37137,     0.37237,     0.37337,     0.37437,     0.37538,     0.37638,     0.37738,     0.37838,     0.37938,     0.38038,     0.38138,     0.38238,     0.38338,\n",
              "           0.38438,     0.38539,     0.38639,     0.38739,     0.38839,     0.38939,     0.39039,     0.39139,     0.39239,     0.39339,     0.39439,      0.3954,      0.3964,      0.3974,      0.3984,      0.3994,      0.4004,      0.4014,      0.4024,      0.4034,      0.4044,     0.40541,     0.40641,     0.40741,\n",
              "           0.40841,     0.40941,     0.41041,     0.41141,     0.41241,     0.41341,     0.41441,     0.41542,     0.41642,     0.41742,     0.41842,     0.41942,     0.42042,     0.42142,     0.42242,     0.42342,     0.42442,     0.42543,     0.42643,     0.42743,     0.42843,     0.42943,     0.43043,     0.43143,\n",
              "           0.43243,     0.43343,     0.43443,     0.43544,     0.43644,     0.43744,     0.43844,     0.43944,     0.44044,     0.44144,     0.44244,     0.44344,     0.44444,     0.44545,     0.44645,     0.44745,     0.44845,     0.44945,     0.45045,     0.45145,     0.45245,     0.45345,     0.45445,     0.45546,\n",
              "           0.45646,     0.45746,     0.45846,     0.45946,     0.46046,     0.46146,     0.46246,     0.46346,     0.46446,     0.46547,     0.46647,     0.46747,     0.46847,     0.46947,     0.47047,     0.47147,     0.47247,     0.47347,     0.47447,     0.47548,     0.47648,     0.47748,     0.47848,     0.47948,\n",
              "           0.48048,     0.48148,     0.48248,     0.48348,     0.48448,     0.48549,     0.48649,     0.48749,     0.48849,     0.48949,     0.49049,     0.49149,     0.49249,     0.49349,     0.49449,      0.4955,      0.4965,      0.4975,      0.4985,      0.4995,      0.5005,      0.5015,      0.5025,      0.5035,\n",
              "            0.5045,     0.50551,     0.50651,     0.50751,     0.50851,     0.50951,     0.51051,     0.51151,     0.51251,     0.51351,     0.51451,     0.51552,     0.51652,     0.51752,     0.51852,     0.51952,     0.52052,     0.52152,     0.52252,     0.52352,     0.52452,     0.52553,     0.52653,     0.52753,\n",
              "           0.52853,     0.52953,     0.53053,     0.53153,     0.53253,     0.53353,     0.53453,     0.53554,     0.53654,     0.53754,     0.53854,     0.53954,     0.54054,     0.54154,     0.54254,     0.54354,     0.54454,     0.54555,     0.54655,     0.54755,     0.54855,     0.54955,     0.55055,     0.55155,\n",
              "           0.55255,     0.55355,     0.55455,     0.55556,     0.55656,     0.55756,     0.55856,     0.55956,     0.56056,     0.56156,     0.56256,     0.56356,     0.56456,     0.56557,     0.56657,     0.56757,     0.56857,     0.56957,     0.57057,     0.57157,     0.57257,     0.57357,     0.57457,     0.57558,\n",
              "           0.57658,     0.57758,     0.57858,     0.57958,     0.58058,     0.58158,     0.58258,     0.58358,     0.58458,     0.58559,     0.58659,     0.58759,     0.58859,     0.58959,     0.59059,     0.59159,     0.59259,     0.59359,     0.59459,      0.5956,      0.5966,      0.5976,      0.5986,      0.5996,\n",
              "            0.6006,      0.6016,      0.6026,      0.6036,      0.6046,     0.60561,     0.60661,     0.60761,     0.60861,     0.60961,     0.61061,     0.61161,     0.61261,     0.61361,     0.61461,     0.61562,     0.61662,     0.61762,     0.61862,     0.61962,     0.62062,     0.62162,     0.62262,     0.62362,\n",
              "           0.62462,     0.62563,     0.62663,     0.62763,     0.62863,     0.62963,     0.63063,     0.63163,     0.63263,     0.63363,     0.63463,     0.63564,     0.63664,     0.63764,     0.63864,     0.63964,     0.64064,     0.64164,     0.64264,     0.64364,     0.64464,     0.64565,     0.64665,     0.64765,\n",
              "           0.64865,     0.64965,     0.65065,     0.65165,     0.65265,     0.65365,     0.65465,     0.65566,     0.65666,     0.65766,     0.65866,     0.65966,     0.66066,     0.66166,     0.66266,     0.66366,     0.66466,     0.66567,     0.66667,     0.66767,     0.66867,     0.66967,     0.67067,     0.67167,\n",
              "           0.67267,     0.67367,     0.67467,     0.67568,     0.67668,     0.67768,     0.67868,     0.67968,     0.68068,     0.68168,     0.68268,     0.68368,     0.68468,     0.68569,     0.68669,     0.68769,     0.68869,     0.68969,     0.69069,     0.69169,     0.69269,     0.69369,     0.69469,      0.6957,\n",
              "            0.6967,      0.6977,      0.6987,      0.6997,      0.7007,      0.7017,      0.7027,      0.7037,      0.7047,     0.70571,     0.70671,     0.70771,     0.70871,     0.70971,     0.71071,     0.71171,     0.71271,     0.71371,     0.71471,     0.71572,     0.71672,     0.71772,     0.71872,     0.71972,\n",
              "           0.72072,     0.72172,     0.72272,     0.72372,     0.72472,     0.72573,     0.72673,     0.72773,     0.72873,     0.72973,     0.73073,     0.73173,     0.73273,     0.73373,     0.73473,     0.73574,     0.73674,     0.73774,     0.73874,     0.73974,     0.74074,     0.74174,     0.74274,     0.74374,\n",
              "           0.74474,     0.74575,     0.74675,     0.74775,     0.74875,     0.74975,     0.75075,     0.75175,     0.75275,     0.75375,     0.75475,     0.75576,     0.75676,     0.75776,     0.75876,     0.75976,     0.76076,     0.76176,     0.76276,     0.76376,     0.76476,     0.76577,     0.76677,     0.76777,\n",
              "           0.76877,     0.76977,     0.77077,     0.77177,     0.77277,     0.77377,     0.77477,     0.77578,     0.77678,     0.77778,     0.77878,     0.77978,     0.78078,     0.78178,     0.78278,     0.78378,     0.78478,     0.78579,     0.78679,     0.78779,     0.78879,     0.78979,     0.79079,     0.79179,\n",
              "           0.79279,     0.79379,     0.79479,      0.7958,      0.7968,      0.7978,      0.7988,      0.7998,      0.8008,      0.8018,      0.8028,      0.8038,      0.8048,     0.80581,     0.80681,     0.80781,     0.80881,     0.80981,     0.81081,     0.81181,     0.81281,     0.81381,     0.81481,     0.81582,\n",
              "           0.81682,     0.81782,     0.81882,     0.81982,     0.82082,     0.82182,     0.82282,     0.82382,     0.82482,     0.82583,     0.82683,     0.82783,     0.82883,     0.82983,     0.83083,     0.83183,     0.83283,     0.83383,     0.83483,     0.83584,     0.83684,     0.83784,     0.83884,     0.83984,\n",
              "           0.84084,     0.84184,     0.84284,     0.84384,     0.84484,     0.84585,     0.84685,     0.84785,     0.84885,     0.84985,     0.85085,     0.85185,     0.85285,     0.85385,     0.85485,     0.85586,     0.85686,     0.85786,     0.85886,     0.85986,     0.86086,     0.86186,     0.86286,     0.86386,\n",
              "           0.86486,     0.86587,     0.86687,     0.86787,     0.86887,     0.86987,     0.87087,     0.87187,     0.87287,     0.87387,     0.87487,     0.87588,     0.87688,     0.87788,     0.87888,     0.87988,     0.88088,     0.88188,     0.88288,     0.88388,     0.88488,     0.88589,     0.88689,     0.88789,\n",
              "           0.88889,     0.88989,     0.89089,     0.89189,     0.89289,     0.89389,     0.89489,      0.8959,      0.8969,      0.8979,      0.8989,      0.8999,      0.9009,      0.9019,      0.9029,      0.9039,      0.9049,     0.90591,     0.90691,     0.90791,     0.90891,     0.90991,     0.91091,     0.91191,\n",
              "           0.91291,     0.91391,     0.91491,     0.91592,     0.91692,     0.91792,     0.91892,     0.91992,     0.92092,     0.92192,     0.92292,     0.92392,     0.92492,     0.92593,     0.92693,     0.92793,     0.92893,     0.92993,     0.93093,     0.93193,     0.93293,     0.93393,     0.93493,     0.93594,\n",
              "           0.93694,     0.93794,     0.93894,     0.93994,     0.94094,     0.94194,     0.94294,     0.94394,     0.94494,     0.94595,     0.94695,     0.94795,     0.94895,     0.94995,     0.95095,     0.95195,     0.95295,     0.95395,     0.95495,     0.95596,     0.95696,     0.95796,     0.95896,     0.95996,\n",
              "           0.96096,     0.96196,     0.96296,     0.96396,     0.96496,     0.96597,     0.96697,     0.96797,     0.96897,     0.96997,     0.97097,     0.97197,     0.97297,     0.97397,     0.97497,     0.97598,     0.97698,     0.97798,     0.97898,     0.97998,     0.98098,     0.98198,     0.98298,     0.98398,\n",
              "           0.98498,     0.98599,     0.98699,     0.98799,     0.98899,     0.98999,     0.99099,     0.99199,     0.99299,     0.99399,     0.99499,       0.996,       0.997,       0.998,       0.999,           1]), array([[    0.86957,     0.86957,     0.92133, ...,           1,           1,           1],\n",
              "       [    0.93458,     0.93458,     0.96516, ...,           1,           1,           1],\n",
              "       [    0.96618,     0.96618,     0.98095, ...,           1,           1,           1],\n",
              "       [    0.95694,     0.95694,     0.96645, ...,           1,           1,           1],\n",
              "       [    0.92593,     0.92593,     0.94861, ...,           1,           1,           1]]), 'Confidence', 'Precision'], [array([          0,    0.001001,    0.002002,    0.003003,    0.004004,    0.005005,    0.006006,    0.007007,    0.008008,    0.009009,     0.01001,    0.011011,    0.012012,    0.013013,    0.014014,    0.015015,    0.016016,    0.017017,    0.018018,    0.019019,     0.02002,    0.021021,    0.022022,    0.023023,\n",
              "          0.024024,    0.025025,    0.026026,    0.027027,    0.028028,    0.029029,     0.03003,    0.031031,    0.032032,    0.033033,    0.034034,    0.035035,    0.036036,    0.037037,    0.038038,    0.039039,     0.04004,    0.041041,    0.042042,    0.043043,    0.044044,    0.045045,    0.046046,    0.047047,\n",
              "          0.048048,    0.049049,     0.05005,    0.051051,    0.052052,    0.053053,    0.054054,    0.055055,    0.056056,    0.057057,    0.058058,    0.059059,     0.06006,    0.061061,    0.062062,    0.063063,    0.064064,    0.065065,    0.066066,    0.067067,    0.068068,    0.069069,     0.07007,    0.071071,\n",
              "          0.072072,    0.073073,    0.074074,    0.075075,    0.076076,    0.077077,    0.078078,    0.079079,     0.08008,    0.081081,    0.082082,    0.083083,    0.084084,    0.085085,    0.086086,    0.087087,    0.088088,    0.089089,     0.09009,    0.091091,    0.092092,    0.093093,    0.094094,    0.095095,\n",
              "          0.096096,    0.097097,    0.098098,    0.099099,      0.1001,      0.1011,      0.1021,      0.1031,      0.1041,     0.10511,     0.10611,     0.10711,     0.10811,     0.10911,     0.11011,     0.11111,     0.11211,     0.11311,     0.11411,     0.11512,     0.11612,     0.11712,     0.11812,     0.11912,\n",
              "           0.12012,     0.12112,     0.12212,     0.12312,     0.12412,     0.12513,     0.12613,     0.12713,     0.12813,     0.12913,     0.13013,     0.13113,     0.13213,     0.13313,     0.13413,     0.13514,     0.13614,     0.13714,     0.13814,     0.13914,     0.14014,     0.14114,     0.14214,     0.14314,\n",
              "           0.14414,     0.14515,     0.14615,     0.14715,     0.14815,     0.14915,     0.15015,     0.15115,     0.15215,     0.15315,     0.15415,     0.15516,     0.15616,     0.15716,     0.15816,     0.15916,     0.16016,     0.16116,     0.16216,     0.16316,     0.16416,     0.16517,     0.16617,     0.16717,\n",
              "           0.16817,     0.16917,     0.17017,     0.17117,     0.17217,     0.17317,     0.17417,     0.17518,     0.17618,     0.17718,     0.17818,     0.17918,     0.18018,     0.18118,     0.18218,     0.18318,     0.18418,     0.18519,     0.18619,     0.18719,     0.18819,     0.18919,     0.19019,     0.19119,\n",
              "           0.19219,     0.19319,     0.19419,      0.1952,      0.1962,      0.1972,      0.1982,      0.1992,      0.2002,      0.2012,      0.2022,      0.2032,      0.2042,     0.20521,     0.20621,     0.20721,     0.20821,     0.20921,     0.21021,     0.21121,     0.21221,     0.21321,     0.21421,     0.21522,\n",
              "           0.21622,     0.21722,     0.21822,     0.21922,     0.22022,     0.22122,     0.22222,     0.22322,     0.22422,     0.22523,     0.22623,     0.22723,     0.22823,     0.22923,     0.23023,     0.23123,     0.23223,     0.23323,     0.23423,     0.23524,     0.23624,     0.23724,     0.23824,     0.23924,\n",
              "           0.24024,     0.24124,     0.24224,     0.24324,     0.24424,     0.24525,     0.24625,     0.24725,     0.24825,     0.24925,     0.25025,     0.25125,     0.25225,     0.25325,     0.25425,     0.25526,     0.25626,     0.25726,     0.25826,     0.25926,     0.26026,     0.26126,     0.26226,     0.26326,\n",
              "           0.26426,     0.26527,     0.26627,     0.26727,     0.26827,     0.26927,     0.27027,     0.27127,     0.27227,     0.27327,     0.27427,     0.27528,     0.27628,     0.27728,     0.27828,     0.27928,     0.28028,     0.28128,     0.28228,     0.28328,     0.28428,     0.28529,     0.28629,     0.28729,\n",
              "           0.28829,     0.28929,     0.29029,     0.29129,     0.29229,     0.29329,     0.29429,      0.2953,      0.2963,      0.2973,      0.2983,      0.2993,      0.3003,      0.3013,      0.3023,      0.3033,      0.3043,     0.30531,     0.30631,     0.30731,     0.30831,     0.30931,     0.31031,     0.31131,\n",
              "           0.31231,     0.31331,     0.31431,     0.31532,     0.31632,     0.31732,     0.31832,     0.31932,     0.32032,     0.32132,     0.32232,     0.32332,     0.32432,     0.32533,     0.32633,     0.32733,     0.32833,     0.32933,     0.33033,     0.33133,     0.33233,     0.33333,     0.33433,     0.33534,\n",
              "           0.33634,     0.33734,     0.33834,     0.33934,     0.34034,     0.34134,     0.34234,     0.34334,     0.34434,     0.34535,     0.34635,     0.34735,     0.34835,     0.34935,     0.35035,     0.35135,     0.35235,     0.35335,     0.35435,     0.35536,     0.35636,     0.35736,     0.35836,     0.35936,\n",
              "           0.36036,     0.36136,     0.36236,     0.36336,     0.36436,     0.36537,     0.36637,     0.36737,     0.36837,     0.36937,     0.37037,     0.37137,     0.37237,     0.37337,     0.37437,     0.37538,     0.37638,     0.37738,     0.37838,     0.37938,     0.38038,     0.38138,     0.38238,     0.38338,\n",
              "           0.38438,     0.38539,     0.38639,     0.38739,     0.38839,     0.38939,     0.39039,     0.39139,     0.39239,     0.39339,     0.39439,      0.3954,      0.3964,      0.3974,      0.3984,      0.3994,      0.4004,      0.4014,      0.4024,      0.4034,      0.4044,     0.40541,     0.40641,     0.40741,\n",
              "           0.40841,     0.40941,     0.41041,     0.41141,     0.41241,     0.41341,     0.41441,     0.41542,     0.41642,     0.41742,     0.41842,     0.41942,     0.42042,     0.42142,     0.42242,     0.42342,     0.42442,     0.42543,     0.42643,     0.42743,     0.42843,     0.42943,     0.43043,     0.43143,\n",
              "           0.43243,     0.43343,     0.43443,     0.43544,     0.43644,     0.43744,     0.43844,     0.43944,     0.44044,     0.44144,     0.44244,     0.44344,     0.44444,     0.44545,     0.44645,     0.44745,     0.44845,     0.44945,     0.45045,     0.45145,     0.45245,     0.45345,     0.45445,     0.45546,\n",
              "           0.45646,     0.45746,     0.45846,     0.45946,     0.46046,     0.46146,     0.46246,     0.46346,     0.46446,     0.46547,     0.46647,     0.46747,     0.46847,     0.46947,     0.47047,     0.47147,     0.47247,     0.47347,     0.47447,     0.47548,     0.47648,     0.47748,     0.47848,     0.47948,\n",
              "           0.48048,     0.48148,     0.48248,     0.48348,     0.48448,     0.48549,     0.48649,     0.48749,     0.48849,     0.48949,     0.49049,     0.49149,     0.49249,     0.49349,     0.49449,      0.4955,      0.4965,      0.4975,      0.4985,      0.4995,      0.5005,      0.5015,      0.5025,      0.5035,\n",
              "            0.5045,     0.50551,     0.50651,     0.50751,     0.50851,     0.50951,     0.51051,     0.51151,     0.51251,     0.51351,     0.51451,     0.51552,     0.51652,     0.51752,     0.51852,     0.51952,     0.52052,     0.52152,     0.52252,     0.52352,     0.52452,     0.52553,     0.52653,     0.52753,\n",
              "           0.52853,     0.52953,     0.53053,     0.53153,     0.53253,     0.53353,     0.53453,     0.53554,     0.53654,     0.53754,     0.53854,     0.53954,     0.54054,     0.54154,     0.54254,     0.54354,     0.54454,     0.54555,     0.54655,     0.54755,     0.54855,     0.54955,     0.55055,     0.55155,\n",
              "           0.55255,     0.55355,     0.55455,     0.55556,     0.55656,     0.55756,     0.55856,     0.55956,     0.56056,     0.56156,     0.56256,     0.56356,     0.56456,     0.56557,     0.56657,     0.56757,     0.56857,     0.56957,     0.57057,     0.57157,     0.57257,     0.57357,     0.57457,     0.57558,\n",
              "           0.57658,     0.57758,     0.57858,     0.57958,     0.58058,     0.58158,     0.58258,     0.58358,     0.58458,     0.58559,     0.58659,     0.58759,     0.58859,     0.58959,     0.59059,     0.59159,     0.59259,     0.59359,     0.59459,      0.5956,      0.5966,      0.5976,      0.5986,      0.5996,\n",
              "            0.6006,      0.6016,      0.6026,      0.6036,      0.6046,     0.60561,     0.60661,     0.60761,     0.60861,     0.60961,     0.61061,     0.61161,     0.61261,     0.61361,     0.61461,     0.61562,     0.61662,     0.61762,     0.61862,     0.61962,     0.62062,     0.62162,     0.62262,     0.62362,\n",
              "           0.62462,     0.62563,     0.62663,     0.62763,     0.62863,     0.62963,     0.63063,     0.63163,     0.63263,     0.63363,     0.63463,     0.63564,     0.63664,     0.63764,     0.63864,     0.63964,     0.64064,     0.64164,     0.64264,     0.64364,     0.64464,     0.64565,     0.64665,     0.64765,\n",
              "           0.64865,     0.64965,     0.65065,     0.65165,     0.65265,     0.65365,     0.65465,     0.65566,     0.65666,     0.65766,     0.65866,     0.65966,     0.66066,     0.66166,     0.66266,     0.66366,     0.66466,     0.66567,     0.66667,     0.66767,     0.66867,     0.66967,     0.67067,     0.67167,\n",
              "           0.67267,     0.67367,     0.67467,     0.67568,     0.67668,     0.67768,     0.67868,     0.67968,     0.68068,     0.68168,     0.68268,     0.68368,     0.68468,     0.68569,     0.68669,     0.68769,     0.68869,     0.68969,     0.69069,     0.69169,     0.69269,     0.69369,     0.69469,      0.6957,\n",
              "            0.6967,      0.6977,      0.6987,      0.6997,      0.7007,      0.7017,      0.7027,      0.7037,      0.7047,     0.70571,     0.70671,     0.70771,     0.70871,     0.70971,     0.71071,     0.71171,     0.71271,     0.71371,     0.71471,     0.71572,     0.71672,     0.71772,     0.71872,     0.71972,\n",
              "           0.72072,     0.72172,     0.72272,     0.72372,     0.72472,     0.72573,     0.72673,     0.72773,     0.72873,     0.72973,     0.73073,     0.73173,     0.73273,     0.73373,     0.73473,     0.73574,     0.73674,     0.73774,     0.73874,     0.73974,     0.74074,     0.74174,     0.74274,     0.74374,\n",
              "           0.74474,     0.74575,     0.74675,     0.74775,     0.74875,     0.74975,     0.75075,     0.75175,     0.75275,     0.75375,     0.75475,     0.75576,     0.75676,     0.75776,     0.75876,     0.75976,     0.76076,     0.76176,     0.76276,     0.76376,     0.76476,     0.76577,     0.76677,     0.76777,\n",
              "           0.76877,     0.76977,     0.77077,     0.77177,     0.77277,     0.77377,     0.77477,     0.77578,     0.77678,     0.77778,     0.77878,     0.77978,     0.78078,     0.78178,     0.78278,     0.78378,     0.78478,     0.78579,     0.78679,     0.78779,     0.78879,     0.78979,     0.79079,     0.79179,\n",
              "           0.79279,     0.79379,     0.79479,      0.7958,      0.7968,      0.7978,      0.7988,      0.7998,      0.8008,      0.8018,      0.8028,      0.8038,      0.8048,     0.80581,     0.80681,     0.80781,     0.80881,     0.80981,     0.81081,     0.81181,     0.81281,     0.81381,     0.81481,     0.81582,\n",
              "           0.81682,     0.81782,     0.81882,     0.81982,     0.82082,     0.82182,     0.82282,     0.82382,     0.82482,     0.82583,     0.82683,     0.82783,     0.82883,     0.82983,     0.83083,     0.83183,     0.83283,     0.83383,     0.83483,     0.83584,     0.83684,     0.83784,     0.83884,     0.83984,\n",
              "           0.84084,     0.84184,     0.84284,     0.84384,     0.84484,     0.84585,     0.84685,     0.84785,     0.84885,     0.84985,     0.85085,     0.85185,     0.85285,     0.85385,     0.85485,     0.85586,     0.85686,     0.85786,     0.85886,     0.85986,     0.86086,     0.86186,     0.86286,     0.86386,\n",
              "           0.86486,     0.86587,     0.86687,     0.86787,     0.86887,     0.86987,     0.87087,     0.87187,     0.87287,     0.87387,     0.87487,     0.87588,     0.87688,     0.87788,     0.87888,     0.87988,     0.88088,     0.88188,     0.88288,     0.88388,     0.88488,     0.88589,     0.88689,     0.88789,\n",
              "           0.88889,     0.88989,     0.89089,     0.89189,     0.89289,     0.89389,     0.89489,      0.8959,      0.8969,      0.8979,      0.8989,      0.8999,      0.9009,      0.9019,      0.9029,      0.9039,      0.9049,     0.90591,     0.90691,     0.90791,     0.90891,     0.90991,     0.91091,     0.91191,\n",
              "           0.91291,     0.91391,     0.91491,     0.91592,     0.91692,     0.91792,     0.91892,     0.91992,     0.92092,     0.92192,     0.92292,     0.92392,     0.92492,     0.92593,     0.92693,     0.92793,     0.92893,     0.92993,     0.93093,     0.93193,     0.93293,     0.93393,     0.93493,     0.93594,\n",
              "           0.93694,     0.93794,     0.93894,     0.93994,     0.94094,     0.94194,     0.94294,     0.94394,     0.94494,     0.94595,     0.94695,     0.94795,     0.94895,     0.94995,     0.95095,     0.95195,     0.95295,     0.95395,     0.95495,     0.95596,     0.95696,     0.95796,     0.95896,     0.95996,\n",
              "           0.96096,     0.96196,     0.96296,     0.96396,     0.96496,     0.96597,     0.96697,     0.96797,     0.96897,     0.96997,     0.97097,     0.97197,     0.97297,     0.97397,     0.97497,     0.97598,     0.97698,     0.97798,     0.97898,     0.97998,     0.98098,     0.98198,     0.98298,     0.98398,\n",
              "           0.98498,     0.98599,     0.98699,     0.98799,     0.98899,     0.98999,     0.99099,     0.99199,     0.99299,     0.99399,     0.99499,       0.996,       0.997,       0.998,       0.999,           1]), array([[          1,           1,           1, ...,           0,           0,           0],\n",
              "       [          1,           1,           1, ...,           0,           0,           0],\n",
              "       [          1,           1,           1, ...,           0,           0,           0],\n",
              "       [          1,           1,           1, ...,           0,           0,           0],\n",
              "       [          1,           1,           1, ...,           0,           0,           0]]), 'Confidence', 'Recall']]\n",
              "fitness: 0.9941446386208008\n",
              "keys: ['metrics/precision(B)', 'metrics/recall(B)', 'metrics/mAP50(B)', 'metrics/mAP50-95(B)']\n",
              "maps: array([    0.99202,     0.99382,     0.99471,      0.9947,       0.995])\n",
              "names: {0: 'Capillaria philippinensis', 1: 'Enterobius vermicularis', 2: 'Hymenolepis diminuta', 3: 'Hymenolepis nana', 4: 'Paragonimus spp'}\n",
              "plot: True\n",
              "results_dict: {'metrics/precision(B)': 0.9985305828019817, 'metrics/recall(B)': 1.0, 'metrics/mAP50(B)': 0.9949999999999999, 'metrics/mAP50-95(B)': 0.9940495984675565, 'fitness': 0.9941446386208008}\n",
              "save_dir: PosixPath('runs/detect/train12')\n",
              "speed: {'preprocess': 0.19327282905578613, 'inference': 10.104565382003784, 'loss': 0.0003223419189453125, 'postprocess': 0.31772899627685547}\n",
              "task: 'detect'"
            ]
          },
          "execution_count": 7,
          "metadata": {},
          "output_type": "execute_result"
        }
      ],
      "source": [
        "yolo_model.train(**config)"
      ]
    },
    {
      "cell_type": "markdown",
      "metadata": {
        "id": "Ivo291W34OZq"
      },
      "source": [
        "### Inference on test set!"
      ]
    },
    {
      "cell_type": "code",
      "execution_count": 8,
      "metadata": {},
      "outputs": [],
      "source": [
        "# train8 l-e50-s800-b16\n",
        "# train9 l-e50-s512/b32 failed\n",
        "# train11 l-e50-s1152-b8\n",
        "# train12 l-e150-s1152-b8\n",
        "\n",
        "bestModel = YOLO('runs/detect/train12/weights/best.pt')"
      ]
    },
    {
      "cell_type": "code",
      "execution_count": 9,
      "metadata": {},
      "outputs": [],
      "source": [
        "def convertXcYcWH(xc, yc, w, h):\n",
        "    xmin = xc - w/2\n",
        "    ymin = yc - h/2\n",
        "    return xmin, ymin, w, h"
      ]
    },
    {
      "cell_type": "code",
      "execution_count": 10,
      "metadata": {
        "id": "qHsvTee43hBu"
      },
      "outputs": [
        {
          "name": "stdout",
          "output_type": "stream",
          "text": [
            "\n",
            "image 1/1 /home/andre/Desktop/CU_submission/chulacv2023/Lab9/student/test/data/Hymenolepis nana_0727.jpg: 672x1152 1 Hymenolepis nana, 63.9ms\n",
            "Speed: 2.5ms preprocess, 63.9ms inference, 0.7ms postprocess per image at shape (1, 3, 672, 1152)\n",
            "tensor([[903.5660, 526.6166, 139.9738, 114.6496]], device='cuda:0')\n"
          ]
        },
        {
          "data": {
            "image/png": "[encoded data removed]",
            "text/plain": [
              "<Figure size 640x480 with 1 Axes>"
            ]
          },
          "metadata": {},
          "output_type": "display_data"
        }
      ],
      "source": [
        "a = bestModel('./test/data/Hymenolepis nana_0727.jpg')\n",
        "print(a[0].boxes.xywh)\n",
        "xywh = a[0].boxes.xywh[0]\n",
        "imgg = cv2.imread('./test/data/Hymenolepis nana_0727.jpg')\n",
        "x,y,w,h = convertXcYcWH(*a[0].boxes.xywh[0])\n",
        "cv2.rectangle(imgg, (int(x), int(y)), (int(x+w), int(y+h)), (0,255,0), 5)\n",
        "imgg = cv2.cvtColor(imgg, cv2.COLOR_BGR2RGB)\n",
        "plt.imshow(imgg)\n",
        "plt.show()\n"
      ]
    },
    {
      "cell_type": "markdown",
      "metadata": {
        "id": "Lc0oiTJIawrv"
      },
      "source": [
        "### Submit Results"
      ]
    },
    {
      "cell_type": "markdown",
      "metadata": {
        "id": "8VPHLrjTfcMU"
      },
      "source": [
        "The results must follows this templates\n",
        "\n",
        "{“annotations”: [\n",
        "{“id”: int,\n",
        "“file_name”: str,\n",
        "“category_id”: int,\n",
        "“bbox”: [x,y,width,height]}\n",
        "]}"
      ]
    },
    {
      "cell_type": "markdown",
      "metadata": {
        "id": "Ki1uqfKIpKaB"
      },
      "source": [
        "\n",
        "\n",
        "```\n",
        "\"categories\": [\n",
        "        {\n",
        "            \"id\": 0,\n",
        "            \"name\": \"Capillaria philippinensis\",\n",
        "        },\n",
        "        {\n",
        "            \"id\": 1,\n",
        "            \"name\": \"Enterobius vermicularis\",\n",
        "        },\n",
        "        {\n",
        "            \"id\": 2,\n",
        "            \"name\": \"Hymenolepis diminuta\",\n",
        "        },\n",
        "        {\n",
        "            \"id\": 3,\n",
        "            \"name\": \"Hymenolepis nana\",\n",
        "        },\n",
        "        {\n",
        "            \"id\": 4,\n",
        "            \"name\": \"Paragonimus spp\",\n",
        "        }\n",
        "    ]\n",
        "```\n",
        "\n"
      ]
    },
    {
      "cell_type": "code",
      "execution_count": 11,
      "metadata": {
        "id": "HjflKm1xoub_"
      },
      "outputs": [],
      "source": [
        "## Sample annotations\n",
        "annotations = dict()\n",
        "annotations['annotations'] = list()\n",
        "annotations['annotations'] += [{\"id\":2, \"file_name\":\"Hymenolepis nana_0002.jpg\",\"category_id\":3,\"bbox\":[549.0,459.0,178.0,151.0]}]\n",
        "annotations['annotations'] += [{\"id\":1, \"file_name\":\"Hymenolepis nana_0052.jpg\",\"category_id\":3,\"bbox\":[539.0,364.0,218.0,215.0]}]\n",
        "\n",
        "reserved = dict()"
      ]
    },
    {
      "cell_type": "code",
      "execution_count": 21,
      "metadata": {},
      "outputs": [
        {
          "name": "stdout",
          "output_type": "stream",
          "text": [
            "dict_keys(['annotations'])\n",
            "{'id': 71, 'file_name': 'Capillaria philippinensis_0752.jpg', 'category_id': 0.0, 'bbox': [1246.9608154296875, 1770.2435913085938, 141.427978515625, 102.5748291015625]}\n"
          ]
        }
      ],
      "source": [
        "print(reserved.keys())\n",
        "\n",
        "for i in reserved['annotations']:\n",
        "    if i['file_name'].split()[1] == 'philippinensis_0752.jpg':\n",
        "        print(i)\n",
        "\n",
        "def findByFilename(filename):\n",
        "    for i in reserved['annotations']:\n",
        "        if i['file_name'] == filename:\n",
        "            return i"
      ]
    },
    {
      "cell_type": "code",
      "execution_count": 23,
      "metadata": {
        "id": "eAceq9Op6KT0"
      },
      "outputs": [
        {
          "name": "stdout",
          "output_type": "stream",
          "text": [
            "\n",
            "image 1/1 /home/andre/Desktop/CU_submission/chulacv2023/Lab9/student/test/data/Hymenolepis nana_0002.jpg: 864x1152 1 Hymenolepis nana, 17.3ms\n",
            "Speed: 11.0ms preprocess, 17.3ms inference, 0.8ms postprocess per image at shape (1, 3, 864, 1152)\n",
            "\n",
            "image 1/1 /home/andre/Desktop/CU_submission/chulacv2023/Lab9/student/test/data/Paragonimus spp_0677.jpg: 864x1152 1 Paragonimus spp, 17.7ms\n",
            "Speed: 2.3ms preprocess, 17.7ms inference, 0.8ms postprocess per image at shape (1, 3, 864, 1152)\n",
            "\n",
            "image 1/1 /home/andre/Desktop/CU_submission/chulacv2023/Lab9/student/test/data/Capillaria philippinensis_0177.jpg: 1152x864 1 Capillaria philippinensis, 17.4ms\n",
            "Speed: 2.9ms preprocess, 17.4ms inference, 0.5ms postprocess per image at shape (1, 3, 1152, 864)\n",
            "\n",
            "image 1/1 /home/andre/Desktop/CU_submission/chulacv2023/Lab9/student/test/data/Capillaria philippinensis_0152.jpg: 1152x864 1 Capillaria philippinensis, 17.6ms\n",
            "Speed: 3.0ms preprocess, 17.6ms inference, 0.9ms postprocess per image at shape (1, 3, 1152, 864)\n",
            "\n",
            "image 1/1 /home/andre/Desktop/CU_submission/chulacv2023/Lab9/student/test/data/Capillaria philippinensis_0077.jpg: 1152x864 1 Capillaria philippinensis, 17.2ms\n",
            "Speed: 3.1ms preprocess, 17.2ms inference, 0.9ms postprocess per image at shape (1, 3, 1152, 864)\n",
            "\n",
            "image 1/1 /home/andre/Desktop/CU_submission/chulacv2023/Lab9/student/test/data/Capillaria philippinensis_0977.jpg: 1152x864 1 Capillaria philippinensis, 17.6ms\n",
            "Speed: 3.1ms preprocess, 17.6ms inference, 0.6ms postprocess per image at shape (1, 3, 1152, 864)\n",
            "\n",
            "image 1/1 /home/andre/Desktop/CU_submission/chulacv2023/Lab9/student/test/data/Hymenolepis diminuta_0327.jpg: 672x1152 1 Hymenolepis diminuta, 16.4ms\n",
            "Speed: 2.0ms preprocess, 16.4ms inference, 0.5ms postprocess per image at shape (1, 3, 672, 1152)\n",
            "\n",
            "image 1/1 /home/andre/Desktop/CU_submission/chulacv2023/Lab9/student/test/data/Capillaria philippinensis_0327.jpg: 864x1152 1 Capillaria philippinensis, 18.3ms\n",
            "Speed: 2.4ms preprocess, 18.3ms inference, 0.5ms postprocess per image at shape (1, 3, 864, 1152)\n",
            "\n",
            "image 1/1 /home/andre/Desktop/CU_submission/chulacv2023/Lab9/student/test/data/Enterobius vermicularis_0677.jpg: 672x1152 1 Enterobius vermicularis, 16.1ms\n",
            "Speed: 2.1ms preprocess, 16.1ms inference, 0.6ms postprocess per image at shape (1, 3, 672, 1152)\n",
            "\n",
            "image 1/1 /home/andre/Desktop/CU_submission/chulacv2023/Lab9/student/test/data/Enterobius vermicularis_0702.jpg: 672x1152 1 Enterobius vermicularis, 15.5ms\n",
            "Speed: 2.0ms preprocess, 15.5ms inference, 1.1ms postprocess per image at shape (1, 3, 672, 1152)\n",
            "\n",
            "image 1/1 /home/andre/Desktop/CU_submission/chulacv2023/Lab9/student/test/data/Paragonimus spp_0527.jpg: 864x1152 1 Paragonimus spp, 18.1ms\n",
            "Speed: 2.2ms preprocess, 18.1ms inference, 0.7ms postprocess per image at shape (1, 3, 864, 1152)\n",
            "\n",
            "image 1/1 /home/andre/Desktop/CU_submission/chulacv2023/Lab9/student/test/data/Enterobius vermicularis_0352.jpg: 1152x864 1 Enterobius vermicularis, 16.6ms\n",
            "Speed: 2.9ms preprocess, 16.6ms inference, 0.9ms postprocess per image at shape (1, 3, 1152, 864)\n",
            "\n",
            "image 1/1 /home/andre/Desktop/CU_submission/chulacv2023/Lab9/student/test/data/Hymenolepis nana_0227.jpg: 864x1152 1 Hymenolepis nana, 15.8ms\n",
            "Speed: 2.3ms preprocess, 15.8ms inference, 0.9ms postprocess per image at shape (1, 3, 864, 1152)\n",
            "\n",
            "image 1/1 /home/andre/Desktop/CU_submission/chulacv2023/Lab9/student/test/data/Paragonimus spp_0577.jpg: 864x1152 1 Paragonimus spp, 16.1ms\n",
            "Speed: 2.2ms preprocess, 16.1ms inference, 0.7ms postprocess per image at shape (1, 3, 864, 1152)\n",
            "\n",
            "image 1/1 /home/andre/Desktop/CU_submission/chulacv2023/Lab9/student/test/data/Hymenolepis nana_0402.jpg: 1152x864 1 Hymenolepis nana, 16.5ms\n",
            "Speed: 3.5ms preprocess, 16.5ms inference, 0.5ms postprocess per image at shape (1, 3, 1152, 864)\n",
            "\n",
            "image 1/1 /home/andre/Desktop/CU_submission/chulacv2023/Lab9/student/test/data/Capillaria philippinensis_0377.jpg: 864x1152 1 Capillaria philippinensis, 16.5ms\n",
            "Speed: 2.3ms preprocess, 16.5ms inference, 0.5ms postprocess per image at shape (1, 3, 864, 1152)\n",
            "\n",
            "image 1/1 /home/andre/Desktop/CU_submission/chulacv2023/Lab9/student/test/data/Hymenolepis diminuta_0802.jpg: 864x1152 1 Hymenolepis diminuta, 15.7ms\n",
            "Speed: 2.4ms preprocess, 15.7ms inference, 0.7ms postprocess per image at shape (1, 3, 864, 1152)\n",
            "\n",
            "image 1/1 /home/andre/Desktop/CU_submission/chulacv2023/Lab9/student/test/data/Hymenolepis nana_0577.jpg: 672x1152 1 Hymenolepis nana, 14.5ms\n",
            "Speed: 2.0ms preprocess, 14.5ms inference, 0.5ms postprocess per image at shape (1, 3, 672, 1152)\n",
            "\n",
            "image 1/1 /home/andre/Desktop/CU_submission/chulacv2023/Lab9/student/test/data/Hymenolepis nana_0827.jpg: 1152x864 1 Hymenolepis nana, 16.6ms\n",
            "Speed: 3.0ms preprocess, 16.6ms inference, 0.8ms postprocess per image at shape (1, 3, 1152, 864)\n",
            "\n",
            "image 1/1 /home/andre/Desktop/CU_submission/chulacv2023/Lab9/student/test/data/Hymenolepis diminuta_0852.jpg: 864x1152 1 Hymenolepis diminuta, 16.5ms\n",
            "Speed: 2.4ms preprocess, 16.5ms inference, 0.5ms postprocess per image at shape (1, 3, 864, 1152)\n",
            "\n",
            "image 1/1 /home/andre/Desktop/CU_submission/chulacv2023/Lab9/student/test/data/Paragonimus spp_0702.jpg: 864x1152 1 Paragonimus spp, 16.0ms\n",
            "Speed: 2.3ms preprocess, 16.0ms inference, 1.0ms postprocess per image at shape (1, 3, 864, 1152)\n",
            "\n",
            "image 1/1 /home/andre/Desktop/CU_submission/chulacv2023/Lab9/student/test/data/Paragonimus spp_0927.jpg: 1152x864 1 Paragonimus spp, 16.2ms\n",
            "Speed: 3.2ms preprocess, 16.2ms inference, 0.5ms postprocess per image at shape (1, 3, 1152, 864)\n",
            "\n",
            "image 1/1 /home/andre/Desktop/CU_submission/chulacv2023/Lab9/student/test/data/Hymenolepis nana_0127.jpg: 864x1152 1 Hymenolepis nana, 16.5ms\n",
            "Speed: 2.3ms preprocess, 16.5ms inference, 0.5ms postprocess per image at shape (1, 3, 864, 1152)\n",
            "\n",
            "image 1/1 /home/andre/Desktop/CU_submission/chulacv2023/Lab9/student/test/data/Hymenolepis nana_0602.jpg: 672x1152 1 Hymenolepis nana, 14.7ms\n",
            "Speed: 2.3ms preprocess, 14.7ms inference, 0.5ms postprocess per image at shape (1, 3, 672, 1152)\n",
            "\n",
            "image 1/1 /home/andre/Desktop/CU_submission/chulacv2023/Lab9/student/test/data/Hymenolepis nana_0352.jpg: 1152x864 1 Hymenolepis nana, 16.6ms\n",
            "Speed: 3.2ms preprocess, 16.6ms inference, 0.5ms postprocess per image at shape (1, 3, 1152, 864)\n",
            "\n",
            "image 1/1 /home/andre/Desktop/CU_submission/chulacv2023/Lab9/student/test/data/Paragonimus spp_0552.jpg: 864x1152 1 Paragonimus spp, 15.9ms\n",
            "Speed: 2.5ms preprocess, 15.9ms inference, 1.1ms postprocess per image at shape (1, 3, 864, 1152)\n",
            "\n",
            "image 1/1 /home/andre/Desktop/CU_submission/chulacv2023/Lab9/student/test/data/Paragonimus spp_0227.jpg: 672x1152 1 Paragonimus spp, 14.6ms\n",
            "Speed: 2.3ms preprocess, 14.6ms inference, 0.5ms postprocess per image at shape (1, 3, 672, 1152)\n",
            "\n",
            "image 1/1 /home/andre/Desktop/CU_submission/chulacv2023/Lab9/student/test/data/Hymenolepis diminuta_0127.jpg: 1152x864 1 Hymenolepis diminuta, 16.5ms\n",
            "Speed: 3.2ms preprocess, 16.5ms inference, 0.6ms postprocess per image at shape (1, 3, 1152, 864)\n",
            "\n",
            "image 1/1 /home/andre/Desktop/CU_submission/chulacv2023/Lab9/student/test/data/Hymenolepis nana_0302.jpg: 1152x864 1 Hymenolepis nana, 16.1ms\n",
            "Speed: 3.3ms preprocess, 16.1ms inference, 0.6ms postprocess per image at shape (1, 3, 1152, 864)\n",
            "\n",
            "image 1/1 /home/andre/Desktop/CU_submission/chulacv2023/Lab9/student/test/data/Capillaria philippinensis_0852.jpg: 1152x864 1 Capillaria philippinensis, 15.9ms\n",
            "Speed: 3.0ms preprocess, 15.9ms inference, 0.8ms postprocess per image at shape (1, 3, 1152, 864)\n",
            "\n",
            "image 1/1 /home/andre/Desktop/CU_submission/chulacv2023/Lab9/student/test/data/Hymenolepis diminuta_0777.jpg: 864x1152 1 Hymenolepis diminuta, 16.4ms\n",
            "Speed: 2.8ms preprocess, 16.4ms inference, 1.0ms postprocess per image at shape (1, 3, 864, 1152)\n",
            "\n",
            "image 1/1 /home/andre/Desktop/CU_submission/chulacv2023/Lab9/student/test/data/Hymenolepis diminuta_0577.jpg: 1152x864 1 Hymenolepis diminuta, 16.5ms\n",
            "Speed: 3.1ms preprocess, 16.5ms inference, 0.5ms postprocess per image at shape (1, 3, 1152, 864)\n",
            "\n",
            "image 1/1 /home/andre/Desktop/CU_submission/chulacv2023/Lab9/student/test/data/Enterobius vermicularis_0852.jpg: 1152x864 1 Enterobius vermicularis, 16.1ms\n",
            "Speed: 2.9ms preprocess, 16.1ms inference, 0.6ms postprocess per image at shape (1, 3, 1152, 864)\n",
            "\n",
            "image 1/1 /home/andre/Desktop/CU_submission/chulacv2023/Lab9/student/test/data/Hymenolepis nana_0677.jpg: 672x1152 1 Hymenolepis nana, 15.0ms\n",
            "Speed: 2.1ms preprocess, 15.0ms inference, 0.5ms postprocess per image at shape (1, 3, 672, 1152)\n",
            "\n",
            "image 1/1 /home/andre/Desktop/CU_submission/chulacv2023/Lab9/student/test/data/Hymenolepis diminuta_0102.jpg: 1152x864 1 Hymenolepis diminuta, 16.6ms\n",
            "Speed: 3.2ms preprocess, 16.6ms inference, 0.6ms postprocess per image at shape (1, 3, 1152, 864)\n",
            "\n",
            "image 1/1 /home/andre/Desktop/CU_submission/chulacv2023/Lab9/student/test/data/Paragonimus spp_0102.jpg: 672x1152 1 Paragonimus spp, 14.6ms\n",
            "Speed: 2.2ms preprocess, 14.6ms inference, 0.5ms postprocess per image at shape (1, 3, 672, 1152)\n",
            "\n",
            "image 1/1 /home/andre/Desktop/CU_submission/chulacv2023/Lab9/student/test/data/Hymenolepis nana_0952.jpg: 1152x864 1 Hymenolepis nana, 17.0ms\n",
            "Speed: 3.0ms preprocess, 17.0ms inference, 0.6ms postprocess per image at shape (1, 3, 1152, 864)\n",
            "\n",
            "image 1/1 /home/andre/Desktop/CU_submission/chulacv2023/Lab9/student/test/data/Hymenolepis diminuta_0477.jpg: 672x1152 1 Hymenolepis diminuta, 14.7ms\n",
            "Speed: 2.1ms preprocess, 14.7ms inference, 0.5ms postprocess per image at shape (1, 3, 672, 1152)\n",
            "\n",
            "image 1/1 /home/andre/Desktop/CU_submission/chulacv2023/Lab9/student/test/data/Hymenolepis diminuta_0427.jpg: 672x1152 1 Hymenolepis diminuta, 13.9ms\n",
            "Speed: 2.2ms preprocess, 13.9ms inference, 1.0ms postprocess per image at shape (1, 3, 672, 1152)\n",
            "\n",
            "image 1/1 /home/andre/Desktop/CU_submission/chulacv2023/Lab9/student/test/data/Paragonimus spp_0127.jpg: 672x1152 1 Paragonimus spp, 14.0ms\n",
            "Speed: 2.5ms preprocess, 14.0ms inference, 0.6ms postprocess per image at shape (1, 3, 672, 1152)\n",
            "\n",
            "image 1/1 /home/andre/Desktop/CU_submission/chulacv2023/Lab9/student/test/data/Capillaria philippinensis_0002.jpg: 1152x864 1 Capillaria philippinensis, 16.5ms\n",
            "Speed: 2.9ms preprocess, 16.5ms inference, 0.5ms postprocess per image at shape (1, 3, 1152, 864)\n",
            "\n",
            "image 1/1 /home/andre/Desktop/CU_submission/chulacv2023/Lab9/student/test/data/Hymenolepis nana_0477.jpg: 1152x864 1 Hymenolepis nana, 15.8ms\n",
            "Speed: 3.0ms preprocess, 15.8ms inference, 0.8ms postprocess per image at shape (1, 3, 1152, 864)\n",
            "\n",
            "image 1/1 /home/andre/Desktop/CU_submission/chulacv2023/Lab9/student/test/data/Hymenolepis nana_0202.jpg: 864x1152 1 Hymenolepis nana, 17.3ms\n",
            "Speed: 2.2ms preprocess, 17.3ms inference, 0.5ms postprocess per image at shape (1, 3, 864, 1152)\n",
            "\n",
            "image 1/1 /home/andre/Desktop/CU_submission/chulacv2023/Lab9/student/test/data/Paragonimus spp_0177.jpg: 672x1152 1 Paragonimus spp, 14.6ms\n",
            "Speed: 2.0ms preprocess, 14.6ms inference, 0.5ms postprocess per image at shape (1, 3, 672, 1152)\n",
            "\n",
            "image 1/1 /home/andre/Desktop/CU_submission/chulacv2023/Lab9/student/test/data/Hymenolepis diminuta_0627.jpg: 1152x864 1 Hymenolepis diminuta, 16.6ms\n",
            "Speed: 3.3ms preprocess, 16.6ms inference, 0.8ms postprocess per image at shape (1, 3, 1152, 864)\n",
            "\n",
            "image 1/1 /home/andre/Desktop/CU_submission/chulacv2023/Lab9/student/test/data/Hymenolepis nana_0902.jpg: 1152x864 1 Hymenolepis nana, 15.8ms\n",
            "Speed: 3.0ms preprocess, 15.8ms inference, 0.9ms postprocess per image at shape (1, 3, 1152, 864)\n",
            "\n",
            "image 1/1 /home/andre/Desktop/CU_submission/chulacv2023/Lab9/student/test/data/Paragonimus spp_0402.jpg: 1152x864 1 Paragonimus spp, 16.1ms\n",
            "Speed: 3.6ms preprocess, 16.1ms inference, 0.5ms postprocess per image at shape (1, 3, 1152, 864)\n",
            "\n",
            "image 1/1 /home/andre/Desktop/CU_submission/chulacv2023/Lab9/student/test/data/Enterobius vermicularis_0777.jpg: 1152x864 1 Enterobius vermicularis, 16.1ms\n",
            "Speed: 3.3ms preprocess, 16.1ms inference, 0.5ms postprocess per image at shape (1, 3, 1152, 864)\n",
            "\n",
            "image 1/1 /home/andre/Desktop/CU_submission/chulacv2023/Lab9/student/test/data/Hymenolepis diminuta_0402.jpg: 672x1152 1 Hymenolepis diminuta, 14.6ms\n",
            "Speed: 2.4ms preprocess, 14.6ms inference, 0.5ms postprocess per image at shape (1, 3, 672, 1152)\n",
            "\n",
            "image 1/1 /home/andre/Desktop/CU_submission/chulacv2023/Lab9/student/test/data/Capillaria philippinensis_0427.jpg: 864x1152 1 Capillaria philippinensis, 16.5ms\n",
            "Speed: 2.2ms preprocess, 16.5ms inference, 0.5ms postprocess per image at shape (1, 3, 864, 1152)\n",
            "\n",
            "image 1/1 /home/andre/Desktop/CU_submission/chulacv2023/Lab9/student/test/data/Enterobius vermicularis_0627.jpg: 672x1152 1 Enterobius vermicularis, 14.7ms\n",
            "Speed: 2.1ms preprocess, 14.7ms inference, 0.5ms postprocess per image at shape (1, 3, 672, 1152)\n",
            "\n",
            "image 1/1 /home/andre/Desktop/CU_submission/chulacv2023/Lab9/student/test/data/Capillaria philippinensis_0727.jpg: 672x1152 1 Capillaria philippinensis, 14.1ms\n",
            "Speed: 2.2ms preprocess, 14.1ms inference, 0.6ms postprocess per image at shape (1, 3, 672, 1152)\n",
            "\n",
            "image 1/1 /home/andre/Desktop/CU_submission/chulacv2023/Lab9/student/test/data/Enterobius vermicularis_0727.jpg: 672x1152 1 Enterobius vermicularis, 13.8ms\n",
            "Speed: 2.0ms preprocess, 13.8ms inference, 0.9ms postprocess per image at shape (1, 3, 672, 1152)\n",
            "\n",
            "image 1/1 /home/andre/Desktop/CU_submission/chulacv2023/Lab9/student/test/data/Hymenolepis nana_0877.jpg: 1152x864 1 Hymenolepis nana, 16.6ms\n",
            "Speed: 3.0ms preprocess, 16.6ms inference, 0.9ms postprocess per image at shape (1, 3, 1152, 864)\n",
            "\n",
            "image 1/1 /home/andre/Desktop/CU_submission/chulacv2023/Lab9/student/test/data/Hymenolepis diminuta_0077.jpg: 1152x864 1 Hymenolepis diminuta, 16.1ms\n",
            "Speed: 3.1ms preprocess, 16.1ms inference, 0.7ms postprocess per image at shape (1, 3, 1152, 864)\n",
            "\n",
            "image 1/1 /home/andre/Desktop/CU_submission/chulacv2023/Lab9/student/test/data/Capillaria philippinensis_0527.jpg: 672x1152 1 Capillaria philippinensis, 14.4ms\n",
            "Speed: 2.3ms preprocess, 14.4ms inference, 0.5ms postprocess per image at shape (1, 3, 672, 1152)\n",
            "\n",
            "image 1/1 /home/andre/Desktop/CU_submission/chulacv2023/Lab9/student/test/data/Hymenolepis nana_0502.jpg: 1152x864 1 Hymenolepis nana, 16.8ms\n",
            "Speed: 3.0ms preprocess, 16.8ms inference, 0.5ms postprocess per image at shape (1, 3, 1152, 864)\n",
            "\n",
            "image 1/1 /home/andre/Desktop/CU_submission/chulacv2023/Lab9/student/test/data/Hymenolepis nana_0927.jpg: 1152x864 1 Hymenolepis nana, 15.7ms\n",
            "Speed: 3.0ms preprocess, 15.7ms inference, 0.9ms postprocess per image at shape (1, 3, 1152, 864)\n",
            "\n",
            "image 1/1 /home/andre/Desktop/CU_submission/chulacv2023/Lab9/student/test/data/Capillaria philippinensis_0702.jpg: 672x1152 1 Capillaria philippinensis, 14.6ms\n",
            "Speed: 2.0ms preprocess, 14.6ms inference, 0.5ms postprocess per image at shape (1, 3, 672, 1152)\n",
            "\n",
            "image 1/1 /home/andre/Desktop/CU_submission/chulacv2023/Lab9/student/test/data/Hymenolepis diminuta_0677.jpg: 1152x864 1 Hymenolepis diminuta, 16.6ms\n",
            "Speed: 3.3ms preprocess, 16.6ms inference, 0.5ms postprocess per image at shape (1, 3, 1152, 864)\n",
            "\n",
            "image 1/1 /home/andre/Desktop/CU_submission/chulacv2023/Lab9/student/test/data/Capillaria philippinensis_0277.jpg: 864x1152 1 Capillaria philippinensis, 17.4ms\n",
            "Speed: 2.3ms preprocess, 17.4ms inference, 0.5ms postprocess per image at shape (1, 3, 864, 1152)\n",
            "\n",
            "image 1/1 /home/andre/Desktop/CU_submission/chulacv2023/Lab9/student/test/data/Paragonimus spp_0252.jpg: 1152x864 1 Paragonimus spp, 16.7ms\n",
            "Speed: 3.3ms preprocess, 16.7ms inference, 0.5ms postprocess per image at shape (1, 3, 1152, 864)\n",
            "\n",
            "image 1/1 /home/andre/Desktop/CU_submission/chulacv2023/Lab9/student/test/data/Hymenolepis nana_0702.jpg: 672x1152 1 Hymenolepis nana, 14.6ms\n",
            "Speed: 2.0ms preprocess, 14.6ms inference, 0.5ms postprocess per image at shape (1, 3, 672, 1152)\n",
            "\n",
            "image 1/1 /home/andre/Desktop/CU_submission/chulacv2023/Lab9/student/test/data/Paragonimus spp_0902.jpg: 1152x864 1 Paragonimus spp, 14.2ms\n",
            "Speed: 3.0ms preprocess, 14.2ms inference, 0.5ms postprocess per image at shape (1, 3, 1152, 864)\n",
            "\n",
            "image 1/1 /home/andre/Desktop/CU_submission/chulacv2023/Lab9/student/test/data/Hymenolepis diminuta_0227.jpg: 1152x864 1 Hymenolepis diminuta, 16.1ms\n",
            "Speed: 3.0ms preprocess, 16.1ms inference, 0.8ms postprocess per image at shape (1, 3, 1152, 864)\n",
            "\n",
            "image 1/1 /home/andre/Desktop/CU_submission/chulacv2023/Lab9/student/test/data/Paragonimus spp_0602.jpg: 864x1152 1 Paragonimus spp, 16.5ms\n",
            "Speed: 2.4ms preprocess, 16.5ms inference, 0.5ms postprocess per image at shape (1, 3, 864, 1152)\n",
            "\n",
            "image 1/1 /home/andre/Desktop/CU_submission/chulacv2023/Lab9/student/test/data/Paragonimus spp_0002.jpg: 672x1152 1 Paragonimus spp, 14.6ms\n",
            "Speed: 2.0ms preprocess, 14.6ms inference, 0.6ms postprocess per image at shape (1, 3, 672, 1152)\n",
            "\n",
            "image 1/1 /home/andre/Desktop/CU_submission/chulacv2023/Lab9/student/test/data/Paragonimus spp_0327.jpg: 1152x864 1 Paragonimus spp, 16.6ms\n",
            "Speed: 3.2ms preprocess, 16.6ms inference, 0.5ms postprocess per image at shape (1, 3, 1152, 864)\n",
            "\n",
            "image 1/1 /home/andre/Desktop/CU_submission/chulacv2023/Lab9/student/test/data/Paragonimus spp_0152.jpg: 672x1152 1 Paragonimus spp, 15.0ms\n",
            "Speed: 2.9ms preprocess, 15.0ms inference, 0.5ms postprocess per image at shape (1, 3, 672, 1152)\n",
            "\n",
            "image 1/1 /home/andre/Desktop/CU_submission/chulacv2023/Lab9/student/test/data/Hymenolepis diminuta_0902.jpg: 864x1152 1 Hymenolepis diminuta, 16.5ms\n",
            "Speed: 2.3ms preprocess, 16.5ms inference, 0.5ms postprocess per image at shape (1, 3, 864, 1152)\n",
            "\n",
            "image 1/1 /home/andre/Desktop/CU_submission/chulacv2023/Lab9/student/test/data/Hymenolepis nana_0727.jpg: 672x1152 1 Hymenolepis nana, 15.1ms\n",
            "Speed: 2.2ms preprocess, 15.1ms inference, 0.5ms postprocess per image at shape (1, 3, 672, 1152)\n",
            "\n",
            "image 1/1 /home/andre/Desktop/CU_submission/chulacv2023/Lab9/student/test/data/Capillaria philippinensis_0752.jpg: 1152x864 (no detections), 16.6ms\n",
            "Speed: 3.0ms preprocess, 16.6ms inference, 0.2ms postprocess per image at shape (1, 3, 1152, 864)\n",
            "\n",
            "image 1/1 /home/andre/Desktop/CU_submission/chulacv2023/Lab9/student/test/data/Hymenolepis diminuta_0877.jpg: 864x1152 1 Hymenolepis diminuta, 17.2ms\n",
            "Speed: 2.4ms preprocess, 17.2ms inference, 0.5ms postprocess per image at shape (1, 3, 864, 1152)\n",
            "\n",
            "image 1/1 /home/andre/Desktop/CU_submission/chulacv2023/Lab9/student/test/data/Capillaria philippinensis_0827.jpg: 1152x864 1 Capillaria philippinensis, 16.7ms\n",
            "Speed: 3.1ms preprocess, 16.7ms inference, 0.5ms postprocess per image at shape (1, 3, 1152, 864)\n",
            "\n",
            "image 1/1 /home/andre/Desktop/CU_submission/chulacv2023/Lab9/student/test/data/Capillaria philippinensis_0127.jpg: 1152x864 1 Capillaria philippinensis, 16.1ms\n",
            "Speed: 3.0ms preprocess, 16.1ms inference, 1.3ms postprocess per image at shape (1, 3, 1152, 864)\n",
            "\n",
            "image 1/1 /home/andre/Desktop/CU_submission/chulacv2023/Lab9/student/test/data/Enterobius vermicularis_0577.jpg: 672x1152 1 Enterobius vermicularis, 14.9ms\n",
            "Speed: 2.3ms preprocess, 14.9ms inference, 0.5ms postprocess per image at shape (1, 3, 672, 1152)\n",
            "\n",
            "image 1/1 /home/andre/Desktop/CU_submission/chulacv2023/Lab9/student/test/data/Paragonimus spp_0477.jpg: 1152x864 1 Paragonimus spp, 16.5ms\n",
            "Speed: 3.0ms preprocess, 16.5ms inference, 0.7ms postprocess per image at shape (1, 3, 1152, 864)\n",
            "\n",
            "image 1/1 /home/andre/Desktop/CU_submission/chulacv2023/Lab9/student/test/data/Hymenolepis nana_0252.jpg: 1152x864 1 Hymenolepis nana, 15.9ms\n",
            "Speed: 3.2ms preprocess, 15.9ms inference, 1.0ms postprocess per image at shape (1, 3, 1152, 864)\n",
            "\n",
            "image 1/1 /home/andre/Desktop/CU_submission/chulacv2023/Lab9/student/test/data/Hymenolepis diminuta_0502.jpg: 672x1152 1 Hymenolepis diminuta, 15.4ms\n",
            "Speed: 2.0ms preprocess, 15.4ms inference, 0.5ms postprocess per image at shape (1, 3, 672, 1152)\n",
            "\n",
            "image 1/1 /home/andre/Desktop/CU_submission/chulacv2023/Lab9/student/test/data/Capillaria philippinensis_0677.jpg: 672x1152 1 Capillaria philippinensis, 14.2ms\n",
            "Speed: 2.0ms preprocess, 14.2ms inference, 1.1ms postprocess per image at shape (1, 3, 672, 1152)\n",
            "\n",
            "image 1/1 /home/andre/Desktop/CU_submission/chulacv2023/Lab9/student/test/data/Capillaria philippinensis_0552.jpg: 672x1152 1 Capillaria philippinensis, 13.9ms\n",
            "Speed: 2.1ms preprocess, 13.9ms inference, 1.1ms postprocess per image at shape (1, 3, 672, 1152)\n",
            "\n",
            "image 1/1 /home/andre/Desktop/CU_submission/chulacv2023/Lab9/student/test/data/Hymenolepis nana_0102.jpg: 864x1152 1 Hymenolepis nana, 16.6ms\n",
            "Speed: 2.5ms preprocess, 16.6ms inference, 0.5ms postprocess per image at shape (1, 3, 864, 1152)\n",
            "\n",
            "image 1/1 /home/andre/Desktop/CU_submission/chulacv2023/Lab9/student/test/data/Enterobius vermicularis_0977.jpg: 1152x864 1 Enterobius vermicularis, 16.7ms\n",
            "Speed: 3.2ms preprocess, 16.7ms inference, 0.5ms postprocess per image at shape (1, 3, 1152, 864)\n",
            "\n",
            "image 1/1 /home/andre/Desktop/CU_submission/chulacv2023/Lab9/student/test/data/Hymenolepis diminuta_0527.jpg: 1152x864 1 Hymenolepis diminuta, 16.1ms\n",
            "Speed: 3.2ms preprocess, 16.1ms inference, 0.6ms postprocess per image at shape (1, 3, 1152, 864)\n",
            "\n",
            "image 1/1 /home/andre/Desktop/CU_submission/chulacv2023/Lab9/student/test/data/Paragonimus spp_0777.jpg: 1152x864 1 Paragonimus spp, 15.4ms\n",
            "Speed: 3.1ms preprocess, 15.4ms inference, 0.8ms postprocess per image at shape (1, 3, 1152, 864)\n",
            "\n",
            "image 1/1 /home/andre/Desktop/CU_submission/chulacv2023/Lab9/student/test/data/Hymenolepis nana_0527.jpg: 672x1152 1 Hymenolepis nana, 14.5ms\n",
            "Speed: 2.0ms preprocess, 14.5ms inference, 0.6ms postprocess per image at shape (1, 3, 672, 1152)\n",
            "\n",
            "image 1/1 /home/andre/Desktop/CU_submission/chulacv2023/Lab9/student/test/data/Hymenolepis nana_0377.jpg: 1152x864 1 Hymenolepis nana, 16.5ms\n",
            "Speed: 3.3ms preprocess, 16.5ms inference, 0.5ms postprocess per image at shape (1, 3, 1152, 864)\n",
            "\n",
            "image 1/1 /home/andre/Desktop/CU_submission/chulacv2023/Lab9/student/test/data/Hymenolepis diminuta_0352.jpg: 672x1152 1 Hymenolepis diminuta, 14.5ms\n",
            "Speed: 2.1ms preprocess, 14.5ms inference, 0.5ms postprocess per image at shape (1, 3, 672, 1152)\n",
            "\n",
            "image 1/1 /home/andre/Desktop/CU_submission/chulacv2023/Lab9/student/test/data/Capillaria philippinensis_0102.jpg: 1152x864 1 Capillaria philippinensis, 16.4ms\n",
            "Speed: 2.9ms preprocess, 16.4ms inference, 0.5ms postprocess per image at shape (1, 3, 1152, 864)\n",
            "\n",
            "image 1/1 /home/andre/Desktop/CU_submission/chulacv2023/Lab9/student/test/data/Enterobius vermicularis_0227.jpg: 864x1152 1 Enterobius vermicularis, 16.6ms\n",
            "Speed: 2.2ms preprocess, 16.6ms inference, 0.5ms postprocess per image at shape (1, 3, 864, 1152)\n",
            "\n",
            "image 1/1 /home/andre/Desktop/CU_submission/chulacv2023/Lab9/student/test/data/Paragonimus spp_0627.jpg: 864x1152 1 Paragonimus spp, 15.8ms\n",
            "Speed: 2.6ms preprocess, 15.8ms inference, 1.2ms postprocess per image at shape (1, 3, 864, 1152)\n",
            "\n",
            "image 1/1 /home/andre/Desktop/CU_submission/chulacv2023/Lab9/student/test/data/Paragonimus spp_0202.jpg: 672x1152 1 Paragonimus spp, 14.9ms\n",
            "Speed: 2.1ms preprocess, 14.9ms inference, 0.5ms postprocess per image at shape (1, 3, 672, 1152)\n",
            "\n",
            "image 1/1 /home/andre/Desktop/CU_submission/chulacv2023/Lab9/student/test/data/Capillaria philippinensis_0027.jpg: 1152x864 1 Capillaria philippinensis, 16.5ms\n",
            "Speed: 2.9ms preprocess, 16.5ms inference, 0.5ms postprocess per image at shape (1, 3, 1152, 864)\n",
            "\n",
            "image 1/1 /home/andre/Desktop/CU_submission/chulacv2023/Lab9/student/test/data/Hymenolepis diminuta_0027.jpg: 1152x864 1 Hymenolepis diminuta, 15.8ms\n",
            "Speed: 3.2ms preprocess, 15.8ms inference, 0.8ms postprocess per image at shape (1, 3, 1152, 864)\n",
            "\n",
            "image 1/1 /home/andre/Desktop/CU_submission/chulacv2023/Lab9/student/test/data/Capillaria philippinensis_0052.jpg: 1152x864 1 Capillaria philippinensis, 15.8ms\n",
            "Speed: 2.9ms preprocess, 15.8ms inference, 0.8ms postprocess per image at shape (1, 3, 1152, 864)\n",
            "\n",
            "image 1/1 /home/andre/Desktop/CU_submission/chulacv2023/Lab9/student/test/data/Capillaria philippinensis_0402.jpg: 864x1152 1 Capillaria philippinensis, 16.6ms\n",
            "Speed: 2.3ms preprocess, 16.6ms inference, 0.8ms postprocess per image at shape (1, 3, 864, 1152)\n",
            "\n",
            "image 1/1 /home/andre/Desktop/CU_submission/chulacv2023/Lab9/student/test/data/Hymenolepis nana_0052.jpg: 864x1152 1 Hymenolepis nana, 15.4ms\n",
            "Speed: 2.4ms preprocess, 15.4ms inference, 1.0ms postprocess per image at shape (1, 3, 864, 1152)\n",
            "\n",
            "image 1/1 /home/andre/Desktop/CU_submission/chulacv2023/Lab9/student/test/data/Hymenolepis diminuta_0727.jpg: 1152x864 1 Hymenolepis diminuta, 16.6ms\n",
            "Speed: 3.2ms preprocess, 16.6ms inference, 0.5ms postprocess per image at shape (1, 3, 1152, 864)\n",
            "\n",
            "image 1/1 /home/andre/Desktop/CU_submission/chulacv2023/Lab9/student/test/data/Capillaria philippinensis_0252.jpg: 864x1152 1 Capillaria philippinensis, 16.6ms\n",
            "Speed: 2.4ms preprocess, 16.6ms inference, 0.5ms postprocess per image at shape (1, 3, 864, 1152)\n",
            "\n",
            "image 1/1 /home/andre/Desktop/CU_submission/chulacv2023/Lab9/student/test/data/Capillaria philippinensis_0652.jpg: 672x1152 1 Capillaria philippinensis, 14.9ms\n",
            "Speed: 2.2ms preprocess, 14.9ms inference, 0.5ms postprocess per image at shape (1, 3, 672, 1152)\n",
            "\n",
            "image 1/1 /home/andre/Desktop/CU_submission/chulacv2023/Lab9/student/test/data/Enterobius vermicularis_0002.jpg: 864x1152 1 Enterobius vermicularis, 16.5ms\n",
            "Speed: 2.4ms preprocess, 16.5ms inference, 0.5ms postprocess per image at shape (1, 3, 864, 1152)\n",
            "\n",
            "image 1/1 /home/andre/Desktop/CU_submission/chulacv2023/Lab9/student/test/data/Hymenolepis diminuta_0952.jpg: 864x1152 1 Hymenolepis diminuta, 16.0ms\n",
            "Speed: 2.4ms preprocess, 16.0ms inference, 1.0ms postprocess per image at shape (1, 3, 864, 1152)\n",
            "\n",
            "image 1/1 /home/andre/Desktop/CU_submission/chulacv2023/Lab9/student/test/data/Enterobius vermicularis_0052.jpg: 864x1152 1 Enterobius vermicularis, 16.1ms\n",
            "Speed: 2.4ms preprocess, 16.1ms inference, 0.6ms postprocess per image at shape (1, 3, 864, 1152)\n",
            "\n",
            "image 1/1 /home/andre/Desktop/CU_submission/chulacv2023/Lab9/student/test/data/Hymenolepis diminuta_0302.jpg: 672x1152 1 Hymenolepis diminuta, 14.4ms\n",
            "Speed: 2.4ms preprocess, 14.4ms inference, 0.5ms postprocess per image at shape (1, 3, 672, 1152)\n",
            "\n",
            "image 1/1 /home/andre/Desktop/CU_submission/chulacv2023/Lab9/student/test/data/Hymenolepis nana_0327.jpg: 1152x864 1 Hymenolepis nana, 16.6ms\n",
            "Speed: 3.0ms preprocess, 16.6ms inference, 0.5ms postprocess per image at shape (1, 3, 1152, 864)\n",
            "\n",
            "image 1/1 /home/andre/Desktop/CU_submission/chulacv2023/Lab9/student/test/data/Paragonimus spp_0977.jpg: 1152x864 1 Paragonimus spp, 15.8ms\n",
            "Speed: 3.0ms preprocess, 15.8ms inference, 0.8ms postprocess per image at shape (1, 3, 1152, 864)\n",
            "\n",
            "image 1/1 /home/andre/Desktop/CU_submission/chulacv2023/Lab9/student/test/data/Enterobius vermicularis_0527.jpg: 672x1152 1 Enterobius vermicularis, 14.6ms\n",
            "Speed: 2.0ms preprocess, 14.6ms inference, 0.5ms postprocess per image at shape (1, 3, 672, 1152)\n",
            "\n",
            "image 1/1 /home/andre/Desktop/CU_submission/chulacv2023/Lab9/student/test/data/Hymenolepis nana_0777.jpg: 1152x864 1 Hymenolepis nana, 16.4ms\n",
            "Speed: 3.1ms preprocess, 16.4ms inference, 0.5ms postprocess per image at shape (1, 3, 1152, 864)\n",
            "\n",
            "image 1/1 /home/andre/Desktop/CU_submission/chulacv2023/Lab9/student/test/data/Capillaria philippinensis_0502.jpg: 672x1152 1 Capillaria philippinensis, 15.3ms\n",
            "Speed: 2.2ms preprocess, 15.3ms inference, 0.5ms postprocess per image at shape (1, 3, 672, 1152)\n",
            "\n",
            "image 1/1 /home/andre/Desktop/CU_submission/chulacv2023/Lab9/student/test/data/Enterobius vermicularis_0152.jpg: 864x1152 1 Enterobius vermicularis, 16.8ms\n",
            "Speed: 2.2ms preprocess, 16.8ms inference, 0.5ms postprocess per image at shape (1, 3, 864, 1152)\n",
            "\n",
            "image 1/1 /home/andre/Desktop/CU_submission/chulacv2023/Lab9/student/test/data/Enterobius vermicularis_0802.jpg: 1152x864 1 Enterobius vermicularis, 16.3ms\n",
            "Speed: 3.1ms preprocess, 16.3ms inference, 0.9ms postprocess per image at shape (1, 3, 1152, 864)\n",
            "\n",
            "image 1/1 /home/andre/Desktop/CU_submission/chulacv2023/Lab9/student/test/data/Enterobius vermicularis_0477.jpg: 1152x864 1 Enterobius vermicularis, 15.7ms\n",
            "Speed: 3.1ms preprocess, 15.7ms inference, 0.8ms postprocess per image at shape (1, 3, 1152, 864)\n",
            "\n",
            "image 1/1 /home/andre/Desktop/CU_submission/chulacv2023/Lab9/student/test/data/Enterobius vermicularis_0602.jpg: 672x1152 1 Enterobius vermicularis, 15.1ms\n",
            "Speed: 2.3ms preprocess, 15.1ms inference, 0.5ms postprocess per image at shape (1, 3, 672, 1152)\n",
            "\n",
            "image 1/1 /home/andre/Desktop/CU_submission/chulacv2023/Lab9/student/test/data/Paragonimus spp_0752.jpg: 864x1152 1 Paragonimus spp, 16.6ms\n",
            "Speed: 2.3ms preprocess, 16.6ms inference, 0.5ms postprocess per image at shape (1, 3, 864, 1152)\n",
            "\n",
            "image 1/1 /home/andre/Desktop/CU_submission/chulacv2023/Lab9/student/test/data/Paragonimus spp_0427.jpg: 1152x864 1 Paragonimus spp, 16.5ms\n",
            "Speed: 3.3ms preprocess, 16.5ms inference, 0.6ms postprocess per image at shape (1, 3, 1152, 864)\n",
            "\n",
            "image 1/1 /home/andre/Desktop/CU_submission/chulacv2023/Lab9/student/test/data/Paragonimus spp_0452.jpg: 1152x864 1 Paragonimus spp, 16.0ms\n",
            "Speed: 3.2ms preprocess, 16.0ms inference, 0.7ms postprocess per image at shape (1, 3, 1152, 864)\n",
            "\n",
            "image 1/1 /home/andre/Desktop/CU_submission/chulacv2023/Lab9/student/test/data/Capillaria philippinensis_0577.jpg: 672x1152 1 Capillaria philippinensis, 14.7ms\n",
            "Speed: 2.0ms preprocess, 14.7ms inference, 0.5ms postprocess per image at shape (1, 3, 672, 1152)\n",
            "\n",
            "image 1/1 /home/andre/Desktop/CU_submission/chulacv2023/Lab9/student/test/data/Hymenolepis diminuta_0552.jpg: 1152x864 1 Hymenolepis diminuta, 16.2ms\n",
            "Speed: 3.2ms preprocess, 16.2ms inference, 0.6ms postprocess per image at shape (1, 3, 1152, 864)\n",
            "\n",
            "image 1/1 /home/andre/Desktop/CU_submission/chulacv2023/Lab9/student/test/data/Enterobius vermicularis_0452.jpg: 1152x864 1 Enterobius vermicularis, 16.3ms\n",
            "Speed: 3.1ms preprocess, 16.3ms inference, 0.6ms postprocess per image at shape (1, 3, 1152, 864)\n",
            "\n",
            "image 1/1 /home/andre/Desktop/CU_submission/chulacv2023/Lab9/student/test/data/Enterobius vermicularis_0877.jpg: 1152x864 1 Enterobius vermicularis, 15.9ms\n",
            "Speed: 3.2ms preprocess, 15.9ms inference, 0.8ms postprocess per image at shape (1, 3, 1152, 864)\n",
            "\n",
            "image 1/1 /home/andre/Desktop/CU_submission/chulacv2023/Lab9/student/test/data/Capillaria philippinensis_0802.jpg: 1152x864 1 Capillaria philippinensis, 15.6ms\n",
            "Speed: 3.1ms preprocess, 15.6ms inference, 0.9ms postprocess per image at shape (1, 3, 1152, 864)\n",
            "\n",
            "image 1/1 /home/andre/Desktop/CU_submission/chulacv2023/Lab9/student/test/data/Hymenolepis diminuta_0827.jpg: 864x1152 1 Hymenolepis diminuta, 16.7ms\n",
            "Speed: 2.2ms preprocess, 16.7ms inference, 0.5ms postprocess per image at shape (1, 3, 864, 1152)\n",
            "\n",
            "image 1/1 /home/andre/Desktop/CU_submission/chulacv2023/Lab9/student/test/data/Enterobius vermicularis_0077.jpg: 864x1152 1 Enterobius vermicularis, 15.8ms\n",
            "Speed: 2.3ms preprocess, 15.8ms inference, 0.8ms postprocess per image at shape (1, 3, 864, 1152)\n",
            "\n",
            "image 1/1 /home/andre/Desktop/CU_submission/chulacv2023/Lab9/student/test/data/Hymenolepis nana_0977.jpg: 1152x864 1 Hymenolepis nana, 16.6ms\n",
            "Speed: 3.2ms preprocess, 16.6ms inference, 0.6ms postprocess per image at shape (1, 3, 1152, 864)\n",
            "\n",
            "image 1/1 /home/andre/Desktop/CU_submission/chulacv2023/Lab9/student/test/data/Enterobius vermicularis_0202.jpg: 864x1152 1 Enterobius vermicularis, 16.6ms\n",
            "Speed: 2.2ms preprocess, 16.6ms inference, 0.5ms postprocess per image at shape (1, 3, 864, 1152)\n",
            "\n",
            "image 1/1 /home/andre/Desktop/CU_submission/chulacv2023/Lab9/student/test/data/Capillaria philippinensis_0452.jpg: 864x1152 1 Capillaria philippinensis, 15.8ms\n",
            "Speed: 2.5ms preprocess, 15.8ms inference, 1.1ms postprocess per image at shape (1, 3, 864, 1152)\n",
            "\n",
            "image 1/1 /home/andre/Desktop/CU_submission/chulacv2023/Lab9/student/test/data/Paragonimus spp_0802.jpg: 1152x864 1 Paragonimus spp, 16.4ms\n",
            "Speed: 3.2ms preprocess, 16.4ms inference, 1.0ms postprocess per image at shape (1, 3, 1152, 864)\n",
            "\n",
            "image 1/1 /home/andre/Desktop/CU_submission/chulacv2023/Lab9/student/test/data/Enterobius vermicularis_0402.jpg: 1152x864 1 Enterobius vermicularis, 15.8ms\n",
            "Speed: 3.1ms preprocess, 15.8ms inference, 0.9ms postprocess per image at shape (1, 3, 1152, 864)\n",
            "\n",
            "image 1/1 /home/andre/Desktop/CU_submission/chulacv2023/Lab9/student/test/data/Paragonimus spp_0652.jpg: 864x1152 1 Paragonimus spp, 56.0ms\n",
            "Speed: 2.3ms preprocess, 56.0ms inference, 0.6ms postprocess per image at shape (1, 3, 864, 1152)\n",
            "\n",
            "image 1/1 /home/andre/Desktop/CU_submission/chulacv2023/Lab9/student/test/data/Paragonimus spp_0352.jpg: 1152x864 1 Paragonimus spp, 16.6ms\n",
            "Speed: 3.1ms preprocess, 16.6ms inference, 0.9ms postprocess per image at shape (1, 3, 1152, 864)\n",
            "\n",
            "image 1/1 /home/andre/Desktop/CU_submission/chulacv2023/Lab9/student/test/data/Hymenolepis diminuta_0152.jpg: 1152x864 1 Hymenolepis diminuta, 15.8ms\n",
            "Speed: 3.0ms preprocess, 15.8ms inference, 0.8ms postprocess per image at shape (1, 3, 1152, 864)\n",
            "\n",
            "image 1/1 /home/andre/Desktop/CU_submission/chulacv2023/Lab9/student/test/data/Hymenolepis nana_0427.jpg: 1152x864 1 Hymenolepis nana, 15.9ms\n",
            "Speed: 3.2ms preprocess, 15.9ms inference, 1.1ms postprocess per image at shape (1, 3, 1152, 864)\n",
            "\n",
            "image 1/1 /home/andre/Desktop/CU_submission/chulacv2023/Lab9/student/test/data/Enterobius vermicularis_0102.jpg: 864x1152 1 Enterobius vermicularis, 16.5ms\n",
            "Speed: 2.4ms preprocess, 16.5ms inference, 0.5ms postprocess per image at shape (1, 3, 864, 1152)\n",
            "\n",
            "image 1/1 /home/andre/Desktop/CU_submission/chulacv2023/Lab9/student/test/data/Enterobius vermicularis_0927.jpg: 1152x864 1 Enterobius vermicularis, 16.4ms\n",
            "Speed: 3.1ms preprocess, 16.4ms inference, 0.9ms postprocess per image at shape (1, 3, 1152, 864)\n",
            "\n",
            "image 1/1 /home/andre/Desktop/CU_submission/chulacv2023/Lab9/student/test/data/Hymenolepis nana_0452.jpg: 1152x864 1 Hymenolepis nana, 16.2ms\n",
            "Speed: 3.1ms preprocess, 16.2ms inference, 0.6ms postprocess per image at shape (1, 3, 1152, 864)\n",
            "\n",
            "image 1/1 /home/andre/Desktop/CU_submission/chulacv2023/Lab9/student/test/data/Paragonimus spp_0952.jpg: 1152x864 1 Paragonimus spp, 16.0ms\n",
            "Speed: 3.1ms preprocess, 16.0ms inference, 0.8ms postprocess per image at shape (1, 3, 1152, 864)\n",
            "\n",
            "image 1/1 /home/andre/Desktop/CU_submission/chulacv2023/Lab9/student/test/data/Capillaria philippinensis_0877.jpg: 1152x864 1 Capillaria philippinensis, 15.8ms\n",
            "Speed: 3.1ms preprocess, 15.8ms inference, 0.9ms postprocess per image at shape (1, 3, 1152, 864)\n",
            "\n",
            "image 1/1 /home/andre/Desktop/CU_submission/chulacv2023/Lab9/student/test/data/Capillaria philippinensis_0902.jpg: 1152x864 1 Capillaria philippinensis, 15.8ms\n",
            "Speed: 2.9ms preprocess, 15.8ms inference, 0.8ms postprocess per image at shape (1, 3, 1152, 864)\n",
            "\n",
            "image 1/1 /home/andre/Desktop/CU_submission/chulacv2023/Lab9/student/test/data/Enterobius vermicularis_0652.jpg: 672x1152 1 Enterobius vermicularis, 15.3ms\n",
            "Speed: 2.0ms preprocess, 15.3ms inference, 0.5ms postprocess per image at shape (1, 3, 672, 1152)\n",
            "\n",
            "image 1/1 /home/andre/Desktop/CU_submission/chulacv2023/Lab9/student/test/data/Hymenolepis nana_0852.jpg: 1152x864 1 Hymenolepis nana, 16.5ms\n",
            "Speed: 3.0ms preprocess, 16.5ms inference, 0.5ms postprocess per image at shape (1, 3, 1152, 864)\n",
            "\n",
            "image 1/1 /home/andre/Desktop/CU_submission/chulacv2023/Lab9/student/test/data/Hymenolepis diminuta_0602.jpg: 1152x864 1 Hymenolepis diminuta, 16.1ms\n",
            "Speed: 3.2ms preprocess, 16.1ms inference, 1.1ms postprocess per image at shape (1, 3, 1152, 864)\n",
            "\n",
            "image 1/1 /home/andre/Desktop/CU_submission/chulacv2023/Lab9/student/test/data/Paragonimus spp_0077.jpg: 672x1152 1 Paragonimus spp, 14.2ms\n",
            "Speed: 2.3ms preprocess, 14.2ms inference, 0.5ms postprocess per image at shape (1, 3, 672, 1152)\n",
            "\n",
            "image 1/1 /home/andre/Desktop/CU_submission/chulacv2023/Lab9/student/test/data/Hymenolepis nana_0077.jpg: 864x1152 1 Hymenolepis nana, 16.7ms\n",
            "Speed: 2.3ms preprocess, 16.7ms inference, 0.5ms postprocess per image at shape (1, 3, 864, 1152)\n",
            "\n",
            "image 1/1 /home/andre/Desktop/CU_submission/chulacv2023/Lab9/student/test/data/Enterobius vermicularis_0902.jpg: 1152x864 1 Enterobius vermicularis, 16.6ms\n",
            "Speed: 2.9ms preprocess, 16.6ms inference, 0.6ms postprocess per image at shape (1, 3, 1152, 864)\n",
            "\n",
            "image 1/1 /home/andre/Desktop/CU_submission/chulacv2023/Lab9/student/test/data/Hymenolepis nana_0552.jpg: 672x1152 1 Hymenolepis nana, 14.5ms\n",
            "Speed: 2.2ms preprocess, 14.5ms inference, 0.8ms postprocess per image at shape (1, 3, 672, 1152)\n",
            "\n",
            "image 1/1 /home/andre/Desktop/CU_submission/chulacv2023/Lab9/student/test/data/Capillaria philippinensis_0627.jpg: 672x1152 1 Capillaria philippinensis, 13.8ms\n",
            "Speed: 2.0ms preprocess, 13.8ms inference, 0.9ms postprocess per image at shape (1, 3, 672, 1152)\n",
            "\n",
            "image 1/1 /home/andre/Desktop/CU_submission/chulacv2023/Lab9/student/test/data/Enterobius vermicularis_0027.jpg: 864x1152 1 Enterobius vermicularis, 16.5ms\n",
            "Speed: 2.2ms preprocess, 16.5ms inference, 0.5ms postprocess per image at shape (1, 3, 864, 1152)\n",
            "\n",
            "image 1/1 /home/andre/Desktop/CU_submission/chulacv2023/Lab9/student/test/data/Enterobius vermicularis_0952.jpg: 1152x864 1 Enterobius vermicularis, 16.5ms\n",
            "Speed: 3.1ms preprocess, 16.5ms inference, 0.5ms postprocess per image at shape (1, 3, 1152, 864)\n",
            "\n",
            "image 1/1 /home/andre/Desktop/CU_submission/chulacv2023/Lab9/student/test/data/Capillaria philippinensis_0302.jpg: 864x1152 1 Capillaria philippinensis, 16.4ms\n",
            "Speed: 2.2ms preprocess, 16.4ms inference, 0.5ms postprocess per image at shape (1, 3, 864, 1152)\n",
            "\n",
            "image 1/1 /home/andre/Desktop/CU_submission/chulacv2023/Lab9/student/test/data/Hymenolepis diminuta_0652.jpg: 1152x864 1 Hymenolepis diminuta, 17.1ms\n",
            "Speed: 3.1ms preprocess, 17.1ms inference, 0.5ms postprocess per image at shape (1, 3, 1152, 864)\n",
            "\n",
            "image 1/1 /home/andre/Desktop/CU_submission/chulacv2023/Lab9/student/test/data/Hymenolepis nana_0027.jpg: 864x1152 1 Hymenolepis nana, 16.5ms\n",
            "Speed: 2.4ms preprocess, 16.5ms inference, 0.6ms postprocess per image at shape (1, 3, 864, 1152)\n",
            "\n",
            "image 1/1 /home/andre/Desktop/CU_submission/chulacv2023/Lab9/student/test/data/Enterobius vermicularis_0827.jpg: 1152x864 1 Enterobius vermicularis, 16.2ms\n",
            "Speed: 3.0ms preprocess, 16.2ms inference, 0.5ms postprocess per image at shape (1, 3, 1152, 864)\n",
            "\n",
            "image 1/1 /home/andre/Desktop/CU_submission/chulacv2023/Lab9/student/test/data/Paragonimus spp_0852.jpg: 1152x864 1 Paragonimus spp, 15.8ms\n",
            "Speed: 3.0ms preprocess, 15.8ms inference, 0.8ms postprocess per image at shape (1, 3, 1152, 864)\n",
            "\n",
            "image 1/1 /home/andre/Desktop/CU_submission/chulacv2023/Lab9/student/test/data/Paragonimus spp_0052.jpg: 672x1152 1 Paragonimus spp, 14.7ms\n",
            "Speed: 2.0ms preprocess, 14.7ms inference, 0.5ms postprocess per image at shape (1, 3, 672, 1152)\n",
            "\n",
            "image 1/1 /home/andre/Desktop/CU_submission/chulacv2023/Lab9/student/test/data/Paragonimus spp_0877.jpg: 1152x864 1 Paragonimus spp, 16.2ms\n",
            "Speed: 3.2ms preprocess, 16.2ms inference, 0.9ms postprocess per image at shape (1, 3, 1152, 864)\n",
            "\n",
            "image 1/1 /home/andre/Desktop/CU_submission/chulacv2023/Lab9/student/test/data/Hymenolepis nana_0627.jpg: 672x1152 1 Hymenolepis nana, 15.1ms\n",
            "Speed: 1.9ms preprocess, 15.1ms inference, 0.6ms postprocess per image at shape (1, 3, 672, 1152)\n",
            "\n",
            "image 1/1 /home/andre/Desktop/CU_submission/chulacv2023/Lab9/student/test/data/Hymenolepis diminuta_0002.jpg: 1152x864 1 Hymenolepis diminuta, 16.6ms\n",
            "Speed: 3.0ms preprocess, 16.6ms inference, 0.5ms postprocess per image at shape (1, 3, 1152, 864)\n",
            "\n",
            "image 1/1 /home/andre/Desktop/CU_submission/chulacv2023/Lab9/student/test/data/Hymenolepis diminuta_0702.jpg: 1152x864 1 Hymenolepis diminuta, 16.2ms\n",
            "Speed: 3.1ms preprocess, 16.2ms inference, 1.1ms postprocess per image at shape (1, 3, 1152, 864)\n",
            "\n",
            "image 1/1 /home/andre/Desktop/CU_submission/chulacv2023/Lab9/student/test/data/Paragonimus spp_0827.jpg: 1152x864 1 Paragonimus spp, 16.0ms\n",
            "Speed: 3.1ms preprocess, 16.0ms inference, 0.8ms postprocess per image at shape (1, 3, 1152, 864)\n",
            "\n",
            "image 1/1 /home/andre/Desktop/CU_submission/chulacv2023/Lab9/student/test/data/Hymenolepis diminuta_0177.jpg: 1152x864 1 Hymenolepis diminuta, 16.3ms\n",
            "Speed: 3.0ms preprocess, 16.3ms inference, 1.1ms postprocess per image at shape (1, 3, 1152, 864)\n",
            "\n",
            "image 1/1 /home/andre/Desktop/CU_submission/chulacv2023/Lab9/student/test/data/Hymenolepis nana_0802.jpg: 1152x864 1 Hymenolepis nana, 15.8ms\n",
            "Speed: 3.0ms preprocess, 15.8ms inference, 0.8ms postprocess per image at shape (1, 3, 1152, 864)\n",
            "\n",
            "image 1/1 /home/andre/Desktop/CU_submission/chulacv2023/Lab9/student/test/data/Hymenolepis diminuta_0252.jpg: 1152x864 1 Hymenolepis diminuta, 15.7ms\n",
            "Speed: 3.1ms preprocess, 15.7ms inference, 0.8ms postprocess per image at shape (1, 3, 1152, 864)\n",
            "\n",
            "image 1/1 /home/andre/Desktop/CU_submission/chulacv2023/Lab9/student/test/data/Hymenolepis diminuta_0977.jpg: 864x1152 1 Hymenolepis diminuta, 17.4ms\n",
            "Speed: 2.2ms preprocess, 17.4ms inference, 0.5ms postprocess per image at shape (1, 3, 864, 1152)\n",
            "\n",
            "image 1/1 /home/andre/Desktop/CU_submission/chulacv2023/Lab9/student/test/data/Enterobius vermicularis_0752.jpg: 1152x864 1 Enterobius vermicularis, 16.6ms\n",
            "Speed: 2.9ms preprocess, 16.6ms inference, 0.5ms postprocess per image at shape (1, 3, 1152, 864)\n",
            "\n",
            "image 1/1 /home/andre/Desktop/CU_submission/chulacv2023/Lab9/student/test/data/Hymenolepis diminuta_0452.jpg: 672x1152 1 Hymenolepis diminuta, 14.8ms\n",
            "Speed: 2.1ms preprocess, 14.8ms inference, 0.5ms postprocess per image at shape (1, 3, 672, 1152)\n",
            "\n",
            "image 1/1 /home/andre/Desktop/CU_submission/chulacv2023/Lab9/student/test/data/Enterobius vermicularis_0502.jpg: 672x1152 1 Enterobius vermicularis, 13.8ms\n",
            "Speed: 2.0ms preprocess, 13.8ms inference, 1.0ms postprocess per image at shape (1, 3, 672, 1152)\n",
            "\n",
            "image 1/1 /home/andre/Desktop/CU_submission/chulacv2023/Lab9/student/test/data/Capillaria philippinensis_0927.jpg: 1152x864 1 Capillaria philippinensis, 16.5ms\n",
            "Speed: 3.1ms preprocess, 16.5ms inference, 0.5ms postprocess per image at shape (1, 3, 1152, 864)\n",
            "\n",
            "image 1/1 /home/andre/Desktop/CU_submission/chulacv2023/Lab9/student/test/data/Paragonimus spp_0502.jpg: 864x1152 1 Paragonimus spp, 16.5ms\n",
            "Speed: 2.4ms preprocess, 16.5ms inference, 0.9ms postprocess per image at shape (1, 3, 864, 1152)\n",
            "\n",
            "image 1/1 /home/andre/Desktop/CU_submission/chulacv2023/Lab9/student/test/data/Enterobius vermicularis_0302.jpg: 1152x864 1 Enterobius vermicularis, 16.5ms\n",
            "Speed: 3.0ms preprocess, 16.5ms inference, 0.5ms postprocess per image at shape (1, 3, 1152, 864)\n",
            "\n",
            "image 1/1 /home/andre/Desktop/CU_submission/chulacv2023/Lab9/student/test/data/Hymenolepis nana_0652.jpg: 672x1152 1 Hymenolepis nana, 14.5ms\n",
            "Speed: 3.6ms preprocess, 14.5ms inference, 0.5ms postprocess per image at shape (1, 3, 672, 1152)\n",
            "\n",
            "image 1/1 /home/andre/Desktop/CU_submission/chulacv2023/Lab9/student/test/data/Capillaria philippinensis_0227.jpg: 1152x864 1 Capillaria philippinensis, 16.6ms\n",
            "Speed: 3.1ms preprocess, 16.6ms inference, 0.5ms postprocess per image at shape (1, 3, 1152, 864)\n",
            "\n",
            "image 1/1 /home/andre/Desktop/CU_submission/chulacv2023/Lab9/student/test/data/Capillaria philippinensis_0202.jpg: 1152x864 1 Capillaria philippinensis, 15.8ms\n",
            "Speed: 2.9ms preprocess, 15.8ms inference, 0.9ms postprocess per image at shape (1, 3, 1152, 864)\n",
            "\n",
            "image 1/1 /home/andre/Desktop/CU_submission/chulacv2023/Lab9/student/test/data/Enterobius vermicularis_0377.jpg: 1152x864 1 Enterobius vermicularis, 16.2ms\n",
            "Speed: 2.9ms preprocess, 16.2ms inference, 0.6ms postprocess per image at shape (1, 3, 1152, 864)\n",
            "\n",
            "image 1/1 /home/andre/Desktop/CU_submission/chulacv2023/Lab9/student/test/data/Capillaria philippinensis_0952.jpg: 1152x864 1 Capillaria philippinensis, 16.2ms\n",
            "Speed: 3.0ms preprocess, 16.2ms inference, 0.6ms postprocess per image at shape (1, 3, 1152, 864)\n",
            "\n",
            "image 1/1 /home/andre/Desktop/CU_submission/chulacv2023/Lab9/student/test/data/Hymenolepis nana_0752.jpg: 672x1152 1 Hymenolepis nana, 15.0ms\n",
            "Speed: 2.1ms preprocess, 15.0ms inference, 0.5ms postprocess per image at shape (1, 3, 672, 1152)\n",
            "\n",
            "image 1/1 /home/andre/Desktop/CU_submission/chulacv2023/Lab9/student/test/data/Capillaria philippinensis_0477.jpg: 864x1152 1 Capillaria philippinensis, 16.9ms\n",
            "Speed: 2.4ms preprocess, 16.9ms inference, 0.5ms postprocess per image at shape (1, 3, 864, 1152)\n",
            "\n",
            "image 1/1 /home/andre/Desktop/CU_submission/chulacv2023/Lab9/student/test/data/Enterobius vermicularis_0127.jpg: 864x1152 1 Enterobius vermicularis, 15.8ms\n",
            "Speed: 2.3ms preprocess, 15.8ms inference, 0.8ms postprocess per image at shape (1, 3, 864, 1152)\n",
            "\n",
            "image 1/1 /home/andre/Desktop/CU_submission/chulacv2023/Lab9/student/test/data/Hymenolepis nana_0177.jpg: 864x1152 1 Hymenolepis nana, 15.7ms\n",
            "Speed: 2.2ms preprocess, 15.7ms inference, 0.9ms postprocess per image at shape (1, 3, 864, 1152)\n",
            "\n",
            "image 1/1 /home/andre/Desktop/CU_submission/chulacv2023/Lab9/student/test/data/Enterobius vermicularis_0177.jpg: 864x1152 1 Enterobius vermicularis, 15.8ms\n",
            "Speed: 2.5ms preprocess, 15.8ms inference, 1.0ms postprocess per image at shape (1, 3, 864, 1152)\n",
            "\n",
            "image 1/1 /home/andre/Desktop/CU_submission/chulacv2023/Lab9/student/test/data/Hymenolepis nana_0277.jpg: 1152x864 1 Hymenolepis nana, 16.7ms\n",
            "Speed: 3.2ms preprocess, 16.7ms inference, 0.5ms postprocess per image at shape (1, 3, 1152, 864)\n",
            "\n",
            "image 1/1 /home/andre/Desktop/CU_submission/chulacv2023/Lab9/student/test/data/Enterobius vermicularis_0552.jpg: 672x1152 1 Enterobius vermicularis, 14.7ms\n",
            "Speed: 2.0ms preprocess, 14.7ms inference, 0.5ms postprocess per image at shape (1, 3, 672, 1152)\n",
            "\n",
            "image 1/1 /home/andre/Desktop/CU_submission/chulacv2023/Lab9/student/test/data/Enterobius vermicularis_0427.jpg: 1152x864 1 Enterobius vermicularis, 16.5ms\n",
            "Speed: 3.1ms preprocess, 16.5ms inference, 0.5ms postprocess per image at shape (1, 3, 1152, 864)\n",
            "\n",
            "image 1/1 /home/andre/Desktop/CU_submission/chulacv2023/Lab9/student/test/data/Hymenolepis diminuta_0377.jpg: 672x1152 1 Hymenolepis diminuta, 14.6ms\n",
            "Speed: 2.1ms preprocess, 14.6ms inference, 0.5ms postprocess per image at shape (1, 3, 672, 1152)\n",
            "\n",
            "image 1/1 /home/andre/Desktop/CU_submission/chulacv2023/Lab9/student/test/data/Capillaria philippinensis_0777.jpg: 1152x864 1 Capillaria philippinensis, 16.6ms\n",
            "Speed: 3.1ms preprocess, 16.6ms inference, 0.6ms postprocess per image at shape (1, 3, 1152, 864)\n",
            "\n",
            "image 1/1 /home/andre/Desktop/CU_submission/chulacv2023/Lab9/student/test/data/Hymenolepis diminuta_0752.jpg: 1152x864 1 Hymenolepis diminuta, 16.0ms\n",
            "Speed: 3.3ms preprocess, 16.0ms inference, 1.0ms postprocess per image at shape (1, 3, 1152, 864)\n",
            "\n",
            "image 1/1 /home/andre/Desktop/CU_submission/chulacv2023/Lab9/student/test/data/Paragonimus spp_0727.jpg: 864x1152 1 Paragonimus spp, 16.5ms\n",
            "Speed: 2.4ms preprocess, 16.5ms inference, 0.6ms postprocess per image at shape (1, 3, 864, 1152)\n",
            "\n",
            "image 1/1 /home/andre/Desktop/CU_submission/chulacv2023/Lab9/student/test/data/Enterobius vermicularis_0252.jpg: 1152x864 1 Enterobius vermicularis, 16.6ms\n",
            "Speed: 3.0ms preprocess, 16.6ms inference, 0.5ms postprocess per image at shape (1, 3, 1152, 864)\n",
            "\n",
            "image 1/1 /home/andre/Desktop/CU_submission/chulacv2023/Lab9/student/test/data/Enterobius vermicularis_0327.jpg: 1152x864 1 Enterobius vermicularis, 15.5ms\n",
            "Speed: 5.1ms preprocess, 15.5ms inference, 0.8ms postprocess per image at shape (1, 3, 1152, 864)\n",
            "\n",
            "image 1/1 /home/andre/Desktop/CU_submission/chulacv2023/Lab9/student/test/data/Capillaria philippinensis_0352.jpg: 864x1152 1 Capillaria philippinensis, 16.6ms\n",
            "Speed: 2.3ms preprocess, 16.6ms inference, 0.6ms postprocess per image at shape (1, 3, 864, 1152)\n",
            "\n",
            "image 1/1 /home/andre/Desktop/CU_submission/chulacv2023/Lab9/student/test/data/Paragonimus spp_0277.jpg: 1152x864 1 Paragonimus spp, 16.7ms\n",
            "Speed: 3.1ms preprocess, 16.7ms inference, 0.5ms postprocess per image at shape (1, 3, 1152, 864)\n",
            "\n",
            "image 1/1 /home/andre/Desktop/CU_submission/chulacv2023/Lab9/student/test/data/Paragonimus spp_0302.jpg: 1152x864 1 Paragonimus spp, 15.7ms\n",
            "Speed: 3.2ms preprocess, 15.7ms inference, 0.8ms postprocess per image at shape (1, 3, 1152, 864)\n",
            "\n",
            "image 1/1 /home/andre/Desktop/CU_submission/chulacv2023/Lab9/student/test/data/Hymenolepis nana_0152.jpg: 864x1152 1 Hymenolepis nana, 16.6ms\n",
            "Speed: 2.2ms preprocess, 16.6ms inference, 0.5ms postprocess per image at shape (1, 3, 864, 1152)\n",
            "\n",
            "image 1/1 /home/andre/Desktop/CU_submission/chulacv2023/Lab9/student/test/data/Enterobius vermicularis_0277.jpg: 1152x864 1 Enterobius vermicularis, 16.6ms\n",
            "Speed: 3.1ms preprocess, 16.6ms inference, 0.5ms postprocess per image at shape (1, 3, 1152, 864)\n",
            "\n",
            "image 1/1 /home/andre/Desktop/CU_submission/chulacv2023/Lab9/student/test/data/Capillaria philippinensis_0602.jpg: 672x1152 1 Capillaria philippinensis, 14.5ms\n",
            "Speed: 2.3ms preprocess, 14.5ms inference, 0.5ms postprocess per image at shape (1, 3, 672, 1152)\n",
            "\n",
            "image 1/1 /home/andre/Desktop/CU_submission/chulacv2023/Lab9/student/test/data/Hymenolepis diminuta_0202.jpg: 1152x864 1 Hymenolepis diminuta, 16.6ms\n",
            "Speed: 3.0ms preprocess, 16.6ms inference, 0.5ms postprocess per image at shape (1, 3, 1152, 864)\n",
            "\n",
            "image 1/1 /home/andre/Desktop/CU_submission/chulacv2023/Lab9/student/test/data/Hymenolepis diminuta_0277.jpg: 672x1152 1 Hymenolepis diminuta, 14.8ms\n",
            "Speed: 3.7ms preprocess, 14.8ms inference, 1.0ms postprocess per image at shape (1, 3, 672, 1152)\n",
            "\n",
            "image 1/1 /home/andre/Desktop/CU_submission/chulacv2023/Lab9/student/test/data/Paragonimus spp_0377.jpg: 1152x864 1 Paragonimus spp, 16.6ms\n",
            "Speed: 3.2ms preprocess, 16.6ms inference, 0.5ms postprocess per image at shape (1, 3, 1152, 864)\n",
            "\n",
            "image 1/1 /home/andre/Desktop/CU_submission/chulacv2023/Lab9/student/test/data/Paragonimus spp_0027.jpg: 672x1152 1 Paragonimus spp, 14.2ms\n",
            "Speed: 2.2ms preprocess, 14.2ms inference, 0.5ms postprocess per image at shape (1, 3, 672, 1152)\n",
            "\n",
            "image 1/1 /home/andre/Desktop/CU_submission/chulacv2023/Lab9/student/test/data/Hymenolepis diminuta_0052.jpg: 1152x864 1 Hymenolepis diminuta, 16.5ms\n",
            "Speed: 3.0ms preprocess, 16.5ms inference, 0.5ms postprocess per image at shape (1, 3, 1152, 864)\n",
            "\n",
            "image 1/1 /home/andre/Desktop/CU_submission/chulacv2023/Lab9/student/test/data/Hymenolepis diminuta_0927.jpg: 864x1152 1 Hymenolepis diminuta, 16.6ms\n",
            "Speed: 2.4ms preprocess, 16.6ms inference, 0.7ms postprocess per image at shape (1, 3, 864, 1152)\n"
          ]
        }
      ],
      "source": [
        "# from mmdet.core import  bbox2result\n",
        "import os\n",
        "import numpy as np\n",
        "\n",
        "image_dir = './test/data'\n",
        "\n",
        "annotations = dict()\n",
        "annotations['annotations'] = list()\n",
        "id = 0\n",
        "for filename in os.listdir(image_dir):\n",
        "    if filename.endswith('.jpg'):\n",
        "        image_path = os.path.join(image_dir, filename)\n",
        "\n",
        "        # print(image_path)\n",
        "\n",
        "        ### run model\n",
        "        result = bestModel(image_path, max_det=1)[0]\n",
        "        if len(result.boxes) > 0:\n",
        "            cat_id = list(result.boxes.cls.cpu().numpy().astype(np.double))[0]\n",
        "            # bbox = list(result.boxes.xywh.cpu().numpy().astype(np.double)[0])\n",
        "            bbox = list(convertXcYcWH(*result.boxes.xywh.cpu().numpy().astype(np.double)[0]))\n",
        "        else:\n",
        "            aaa = findByFilename(filename)\n",
        "            cat_id = aaa['category_id']\n",
        "            bbox = aaa['bbox']\n",
        "            # print(filename)\n",
        "            # print(cat_id)\n",
        "            # print(bbox)\n",
        "            # break\n",
        "        coco_result = [{\"id\": id, \"file_name\": filename,\"category_id\": cat_id,\"bbox\":bbox}]\n",
        "        id+=1\n",
        "\n",
        "        annotations['annotations']+=coco_result\n",
        "        # break"
      ]
    },
    {
      "cell_type": "code",
      "execution_count": 24,
      "metadata": {},
      "outputs": [
        {
          "name": "stdout",
          "output_type": "stream",
          "text": [
            "{'annotations': [{'id': 0, 'file_name': 'Hymenolepis nana_0002.jpg', 'category_id': 3.0, 'bbox': [543.904052734375, 456.68531799316406, 183.2794189453125, 155.22775268554688]}, {'id': 1, 'file_name': 'Paragonimus spp_0677.jpg', 'category_id': 4.0, 'bbox': [552.4470825195312, 309.66650390625, 184.008544921875, 282.17083740234375]}, {'id': 2, 'file_name': 'Capillaria philippinensis_0177.jpg', 'category_id': 0.0, 'bbox': [921.6106872558594, 1721.7953491210938, 105.06500244140625, 137.9395751953125]}, {'id': 3, 'file_name': 'Capillaria philippinensis_0152.jpg', 'category_id': 0.0, 'bbox': [937.1592712402344, 1838.0429077148438, 117.01177978515625, 176.7506103515625]}, {'id': 4, 'file_name': 'Capillaria philippinensis_0077.jpg', 'category_id': 0.0, 'bbox': [1034.9384765625, 1699.78125, 184.946533203125, 97.0927734375]}, {'id': 5, 'file_name': 'Capillaria philippinensis_0977.jpg', 'category_id': 0.0, 'bbox': [953.5587463378906, 1782.837890625, 143.69964599609375, 124.29736328125]}, {'id': 6, 'file_name': 'Hymenolepis diminuta_0327.jpg', 'category_id': 2.0, 'bbox': [839.11376953125, 422.7497100830078, 183.701171875, 185.19113159179688]}, {'id': 7, 'file_name': 'Capillaria philippinensis_0327.jpg', 'category_id': 0.0, 'bbox': [529.3991088867188, 458.608642578125, 186.28271484375, 94.44378662109375]}, {'id': 8, 'file_name': 'Enterobius vermicularis_0677.jpg', 'category_id': 1.0, 'bbox': [892.68310546875, 359.56805419921875, 107.645263671875, 168.96380615234375]}, {'id': 9, 'file_name': 'Enterobius vermicularis_0702.jpg', 'category_id': 1.0, 'bbox': [939.7334289550781, 487.449951171875, 164.53656005859375, 96.4066162109375]}, {'id': 10, 'file_name': 'Paragonimus spp_0527.jpg', 'category_id': 4.0, 'bbox': [496.3721618652344, 417.82830810546875, 300.49908447265625, 179.71417236328125]}, {'id': 11, 'file_name': 'Enterobius vermicularis_0352.jpg', 'category_id': 1.0, 'bbox': [1056.350341796875, 1664.6731567382812, 228.36962890625, 131.4871826171875]}, {'id': 12, 'file_name': 'Hymenolepis nana_0227.jpg', 'category_id': 3.0, 'bbox': [556.8543701171875, 402.6964111328125, 165.7486572265625, 191.3782958984375]}, {'id': 13, 'file_name': 'Paragonimus spp_0577.jpg', 'category_id': 4.0, 'bbox': [557.9027404785156, 405.4564514160156, 186.82318115234375, 295.22113037109375]}, {'id': 14, 'file_name': 'Hymenolepis nana_0402.jpg', 'category_id': 3.0, 'bbox': [1300.4389038085938, 2116.2789306640625, 268.7457275390625, 213.697021484375]}, {'id': 15, 'file_name': 'Capillaria philippinensis_0377.jpg', 'category_id': 0.0, 'bbox': [636.3559875488281, 363.7850036621094, 193.91546630859375, 134.90460205078125]}, {'id': 16, 'file_name': 'Hymenolepis diminuta_0802.jpg', 'category_id': 2.0, 'bbox': [517.1494750976562, 334.69720458984375, 264.8853759765625, 265.538818359375]}, {'id': 17, 'file_name': 'Hymenolepis nana_0577.jpg', 'category_id': 3.0, 'bbox': [892.714599609375, 467.3748779296875, 140.5574951171875, 117.973388671875]}, {'id': 18, 'file_name': 'Hymenolepis nana_0827.jpg', 'category_id': 3.0, 'bbox': [1416.3793334960938, 2017.37841796875, 227.2598876953125, 200.794921875]}, {'id': 19, 'file_name': 'Hymenolepis diminuta_0852.jpg', 'category_id': 2.0, 'bbox': [513.0095520019531, 346.26080322265625, 277.65667724609375, 249.77960205078125]}, {'id': 20, 'file_name': 'Paragonimus spp_0702.jpg', 'category_id': 4.0, 'bbox': [575.8286437988281, 301.138916015625, 194.77459716796875, 304.8154296875]}, {'id': 21, 'file_name': 'Paragonimus spp_0927.jpg', 'category_id': 4.0, 'bbox': [1394.591552734375, 1653.1830444335938, 232.1494140625, 356.0821533203125]}, {'id': 22, 'file_name': 'Hymenolepis nana_0127.jpg', 'category_id': 3.0, 'bbox': [573.6061401367188, 362.0133972167969, 208.2276611328125, 309.33941650390625]}, {'id': 23, 'file_name': 'Hymenolepis nana_0602.jpg', 'category_id': 3.0, 'bbox': [878.5501403808594, 469.75054931640625, 146.12017822265625, 122.7257080078125]}, {'id': 24, 'file_name': 'Hymenolepis nana_0352.jpg', 'category_id': 3.0, 'bbox': [1494.9907836914062, 2197.32275390625, 214.8367919921875, 214.07763671875]}, {'id': 25, 'file_name': 'Paragonimus spp_0552.jpg', 'category_id': 4.0, 'bbox': [479.2248840332031, 377.70367431640625, 296.41033935546875, 211.253173828125]}, {'id': 26, 'file_name': 'Paragonimus spp_0227.jpg', 'category_id': 4.0, 'bbox': [870.9661865234375, 410.46588134765625, 154.1175537109375, 234.5306396484375]}, {'id': 27, 'file_name': 'Hymenolepis diminuta_0127.jpg', 'category_id': 2.0, 'bbox': [1329.29345703125, 1871.092529296875, 334.832275390625, 338.47119140625]}, {'id': 28, 'file_name': 'Hymenolepis nana_0302.jpg', 'category_id': 3.0, 'bbox': [1387.8197021484375, 2003.7891235351562, 198.292236328125, 209.0325927734375]}, {'id': 29, 'file_name': 'Capillaria philippinensis_0852.jpg', 'category_id': 0.0, 'bbox': [1417.1978759765625, 1864.2122802734375, 133.90478515625, 171.233642578125]}, {'id': 30, 'file_name': 'Hymenolepis diminuta_0777.jpg', 'category_id': 2.0, 'bbox': [528.1742553710938, 349.3265380859375, 277.630615234375, 270.39971923828125]}, {'id': 31, 'file_name': 'Hymenolepis diminuta_0577.jpg', 'category_id': 2.0, 'bbox': [1327.55859375, 1684.9804077148438, 403.486328125, 395.1627197265625]}, {'id': 32, 'file_name': 'Enterobius vermicularis_0852.jpg', 'category_id': 1.0, 'bbox': [1290.9910278320312, 1624.7755737304688, 105.1903076171875, 232.5616455078125]}, {'id': 33, 'file_name': 'Hymenolepis nana_0677.jpg', 'category_id': 3.0, 'bbox': [907.2218933105469, 479.9148254394531, 126.17535400390625, 123.10565185546875]}, {'id': 34, 'file_name': 'Hymenolepis diminuta_0102.jpg', 'category_id': 2.0, 'bbox': [1276.7037353515625, 1983.391845703125, 319.919921875, 289.1904296875]}, {'id': 35, 'file_name': 'Paragonimus spp_0102.jpg', 'category_id': 4.0, 'bbox': [844.7525939941406, 473.4474182128906, 177.32904052734375, 117.59197998046875]}, {'id': 36, 'file_name': 'Hymenolepis nana_0952.jpg', 'category_id': 3.0, 'bbox': [1423.0743408203125, 2059.7542724609375, 206.519287109375, 241.648681640625]}, {'id': 37, 'file_name': 'Hymenolepis diminuta_0477.jpg', 'category_id': 2.0, 'bbox': [867.409423828125, 448.4731140136719, 188.907470703125, 204.13311767578125]}, {'id': 38, 'file_name': 'Hymenolepis diminuta_0427.jpg', 'category_id': 2.0, 'bbox': [794.8630676269531, 438.08489990234375, 205.42156982421875, 190.753173828125]}, {'id': 39, 'file_name': 'Paragonimus spp_0127.jpg', 'category_id': 4.0, 'bbox': [793.1239929199219, 448.05955505371094, 244.28448486328125, 158.34194946289062]}, {'id': 40, 'file_name': 'Capillaria philippinensis_0002.jpg', 'category_id': 0.0, 'bbox': [1082.8439331054688, 1644.42919921875, 162.4625244140625, 109.870849609375]}, {'id': 41, 'file_name': 'Hymenolepis nana_0477.jpg', 'category_id': 3.0, 'bbox': [1288.2564697265625, 2095.5118408203125, 201.7109375, 205.726318359375]}, {'id': 42, 'file_name': 'Hymenolepis nana_0202.jpg', 'category_id': 3.0, 'bbox': [513.3298034667969, 436.51136779785156, 201.08160400390625, 189.79074096679688]}, {'id': 43, 'file_name': 'Paragonimus spp_0177.jpg', 'category_id': 4.0, 'bbox': [815.0721435546875, 440.16412353515625, 199.1829833984375, 217.296875]}, {'id': 44, 'file_name': 'Hymenolepis diminuta_0627.jpg', 'category_id': 2.0, 'bbox': [1356.8848876953125, 1763.2686157226562, 350.400146484375, 344.2166748046875]}, {'id': 45, 'file_name': 'Hymenolepis nana_0902.jpg', 'category_id': 3.0, 'bbox': [1459.2196044921875, 1949.2058715820312, 216.7744140625, 259.5955810546875]}, {'id': 46, 'file_name': 'Paragonimus spp_0402.jpg', 'category_id': 4.0, 'bbox': [1441.460205078125, 1845.471435546875, 312.22607421875, 365.99951171875]}, {'id': 47, 'file_name': 'Enterobius vermicularis_0777.jpg', 'category_id': 1.0, 'bbox': [1177.0136108398438, 1601.5789794921875, 206.8443603515625, 131.09912109375]}, {'id': 48, 'file_name': 'Hymenolepis diminuta_0402.jpg', 'category_id': 2.0, 'bbox': [923.641357421875, 416.23329162597656, 190.86865234375, 185.51657104492188]}, {'id': 49, 'file_name': 'Capillaria philippinensis_0427.jpg', 'category_id': 0.0, 'bbox': [541.7953491210938, 387.6048583984375, 108.484130859375, 136.27252197265625]}, {'id': 50, 'file_name': 'Enterobius vermicularis_0627.jpg', 'category_id': 1.0, 'bbox': [936.1830749511719, 424.90631103515625, 99.98468017578125, 166.62921142578125]}, {'id': 51, 'file_name': 'Capillaria philippinensis_0727.jpg', 'category_id': 0.0, 'bbox': [872.4214172363281, 487.6226806640625, 104.89886474609375, 91.820068359375]}, {'id': 52, 'file_name': 'Enterobius vermicularis_0727.jpg', 'category_id': 1.0, 'bbox': [880.7333984375, 458.9138488769531, 89.7652587890625, 163.80267333984375]}, {'id': 53, 'file_name': 'Hymenolepis nana_0877.jpg', 'category_id': 3.0, 'bbox': [1512.2095336914062, 1810.84033203125, 223.0150146484375, 246.009521484375]}, {'id': 54, 'file_name': 'Hymenolepis diminuta_0077.jpg', 'category_id': 2.0, 'bbox': [1344.5265502929688, 1751.6982421875, 316.8594970703125, 332.117431640625]}, {'id': 55, 'file_name': 'Capillaria philippinensis_0527.jpg', 'category_id': 0.0, 'bbox': [900.175048828125, 488.946533203125, 58.040771484375, 112.1829833984375]}, {'id': 56, 'file_name': 'Hymenolepis nana_0502.jpg', 'category_id': 3.0, 'bbox': [1441.3692626953125, 1815.0595703125, 194.10986328125, 240.91552734375]}, {'id': 57, 'file_name': 'Hymenolepis nana_0927.jpg', 'category_id': 3.0, 'bbox': [1386.0918579101562, 2019.7471313476562, 222.8553466796875, 204.5970458984375]}, {'id': 58, 'file_name': 'Capillaria philippinensis_0702.jpg', 'category_id': 0.0, 'bbox': [862.4318237304688, 475.0387878417969, 111.751708984375, 95.33648681640625]}, {'id': 59, 'file_name': 'Hymenolepis diminuta_0677.jpg', 'category_id': 2.0, 'bbox': [1396.9417724609375, 1656.712646484375, 315.24951171875, 337.453857421875]}, {'id': 60, 'file_name': 'Capillaria philippinensis_0277.jpg', 'category_id': 0.0, 'bbox': [583.8031921386719, 510.25196838378906, 137.00274658203125, 154.23617553710938]}, {'id': 61, 'file_name': 'Paragonimus spp_0252.jpg', 'category_id': 4.0, 'bbox': [1356.14013671875, 1956.456298828125, 248.215576171875, 428.810546875]}, {'id': 62, 'file_name': 'Hymenolepis nana_0702.jpg', 'category_id': 3.0, 'bbox': [844.9545288085938, 441.11314392089844, 131.5262451171875, 138.27005004882812]}, {'id': 63, 'file_name': 'Paragonimus spp_0902.jpg', 'category_id': 4.0, 'bbox': [1359.2531127929688, 1622.0556640625, 279.8345947265625, 475.89794921875]}, {'id': 64, 'file_name': 'Hymenolepis diminuta_0227.jpg', 'category_id': 2.0, 'bbox': [1474.0230712890625, 2117.703125, 324.339599609375, 326.423828125]}, {'id': 65, 'file_name': 'Paragonimus spp_0602.jpg', 'category_id': 4.0, 'bbox': [516.0402526855469, 401.52984619140625, 320.87725830078125, 215.15911865234375]}, {'id': 66, 'file_name': 'Paragonimus spp_0002.jpg', 'category_id': 4.0, 'bbox': [813.441162109375, 485.96409606933594, 236.1756591796875, 131.95596313476562]}, {'id': 67, 'file_name': 'Paragonimus spp_0327.jpg', 'category_id': 4.0, 'bbox': [1373.4473876953125, 1731.64794921875, 270.257568359375, 452.397705078125]}, {'id': 68, 'file_name': 'Paragonimus spp_0152.jpg', 'category_id': 4.0, 'bbox': [823.3697509765625, 469.90760803222656, 217.482666015625, 131.44613647460938]}, {'id': 69, 'file_name': 'Hymenolepis diminuta_0902.jpg', 'category_id': 2.0, 'bbox': [547.6411743164062, 319.71856689453125, 270.861083984375, 280.9326171875]}, {'id': 70, 'file_name': 'Hymenolepis nana_0727.jpg', 'category_id': 3.0, 'bbox': [833.5791625976562, 469.2917938232422, 139.9737548828125, 114.64956665039062]}, {'id': 71, 'file_name': 'Capillaria philippinensis_0752.jpg', 'category_id': 0.0, 'bbox': [1246.9608154296875, 1770.2435913085938, 141.427978515625, 102.5748291015625]}, {'id': 72, 'file_name': 'Hymenolepis diminuta_0877.jpg', 'category_id': 2.0, 'bbox': [508.5811004638672, 333.16082763671875, 279.2699279785156, 279.888671875]}, {'id': 73, 'file_name': 'Capillaria philippinensis_0827.jpg', 'category_id': 0.0, 'bbox': [1251.7223510742188, 1726.3245239257812, 183.1661376953125, 90.1942138671875]}, {'id': 74, 'file_name': 'Capillaria philippinensis_0127.jpg', 'category_id': 0.0, 'bbox': [1353.517578125, 1732.0203247070312, 187.881591796875, 139.2801513671875]}, {'id': 75, 'file_name': 'Enterobius vermicularis_0577.jpg', 'category_id': 1.0, 'bbox': [883.3614196777344, 486.4966278076172, 137.74493408203125, 131.00076293945312]}, {'id': 76, 'file_name': 'Paragonimus spp_0477.jpg', 'category_id': 4.0, 'bbox': [1441.0841674804688, 1847.3977661132812, 270.2169189453125, 408.9271240234375]}, {'id': 77, 'file_name': 'Hymenolepis nana_0252.jpg', 'category_id': 3.0, 'bbox': [1358.9007568359375, 1729.40625, 196.227294921875, 182.548095703125]}, {'id': 78, 'file_name': 'Hymenolepis diminuta_0502.jpg', 'category_id': 2.0, 'bbox': [802.9275512695312, 442.3479309082031, 199.6453857421875, 198.45843505859375]}, {'id': 79, 'file_name': 'Capillaria philippinensis_0677.jpg', 'category_id': 0.0, 'bbox': [903.3236694335938, 474.58839416503906, 99.9942626953125, 96.20968627929688]}, {'id': 80, 'file_name': 'Capillaria philippinensis_0552.jpg', 'category_id': 0.0, 'bbox': [1048.8323974609375, 552.4766540527344, 63.777587890625, 117.54498291015625]}, {'id': 81, 'file_name': 'Hymenolepis nana_0102.jpg', 'category_id': 3.0, 'bbox': [518.6776123046875, 446.6701965332031, 187.449951171875, 203.35491943359375]}, {'id': 82, 'file_name': 'Enterobius vermicularis_0977.jpg', 'category_id': 1.0, 'bbox': [1216.1444702148438, 1685.5521240234375, 111.1148681640625, 224.92138671875]}, {'id': 83, 'file_name': 'Hymenolepis diminuta_0527.jpg', 'category_id': 2.0, 'bbox': [1365.05908203125, 1679.0986938476562, 356.47314453125, 345.2835693359375]}, {'id': 84, 'file_name': 'Paragonimus spp_0777.jpg', 'category_id': 4.0, 'bbox': [1399.8136596679688, 1865.739990234375, 373.6309814453125, 219.465576171875]}, {'id': 85, 'file_name': 'Hymenolepis nana_0527.jpg', 'category_id': 3.0, 'bbox': [833.0291748046875, 437.88612365722656, 118.6407470703125, 132.85226440429688]}, {'id': 86, 'file_name': 'Hymenolepis nana_0377.jpg', 'category_id': 3.0, 'bbox': [1384.2216796875, 2026.681640625, 214.76611328125, 214.69287109375]}, {'id': 87, 'file_name': 'Hymenolepis diminuta_0352.jpg', 'category_id': 2.0, 'bbox': [828.1238098144531, 393.37939453125, 209.58441162109375, 210.529296875]}, {'id': 88, 'file_name': 'Capillaria philippinensis_0102.jpg', 'category_id': 0.0, 'bbox': [954.6410522460938, 1772.7129516601562, 146.2076416015625, 109.3406982421875]}, {'id': 89, 'file_name': 'Enterobius vermicularis_0227.jpg', 'category_id': 1.0, 'bbox': [515.0219116210938, 426.3832550048828, 229.8275146484375, 132.67172241210938]}, {'id': 90, 'file_name': 'Paragonimus spp_0627.jpg', 'category_id': 4.0, 'bbox': [486.82472229003906, 416.24005126953125, 339.5602722167969, 226.5682373046875]}, {'id': 91, 'file_name': 'Paragonimus spp_0202.jpg', 'category_id': 4.0, 'bbox': [876.2418212890625, 420.7165222167969, 131.6658935546875, 204.77813720703125]}, {'id': 92, 'file_name': 'Capillaria philippinensis_0027.jpg', 'category_id': 0.0, 'bbox': [1169.4618530273438, 1745.385986328125, 136.8013916015625, 149.607421875]}, {'id': 93, 'file_name': 'Hymenolepis diminuta_0027.jpg', 'category_id': 2.0, 'bbox': [1289.1944580078125, 1708.7280883789062, 316.324951171875, 335.3651123046875]}, {'id': 94, 'file_name': 'Capillaria philippinensis_0052.jpg', 'category_id': 0.0, 'bbox': [1242.5352783203125, 1592.6902465820312, 90.43798828125, 170.6966552734375]}, {'id': 95, 'file_name': 'Capillaria philippinensis_0402.jpg', 'category_id': 0.0, 'bbox': [556.4988403320312, 506.1829071044922, 116.9012451171875, 168.73941040039062]}, {'id': 96, 'file_name': 'Hymenolepis nana_0052.jpg', 'category_id': 3.0, 'bbox': [538.7507629394531, 363.89453125, 218.93157958984375, 214.7462158203125]}, {'id': 97, 'file_name': 'Hymenolepis diminuta_0727.jpg', 'category_id': 2.0, 'bbox': [1408.3715209960938, 1838.0194702148438, 320.5841064453125, 322.9420166015625]}, {'id': 98, 'file_name': 'Capillaria philippinensis_0252.jpg', 'category_id': 0.0, 'bbox': [619.439697265625, 407.6795654296875, 172.753662109375, 111.88818359375]}, {'id': 99, 'file_name': 'Capillaria philippinensis_0652.jpg', 'category_id': 0.0, 'bbox': [970.2005615234375, 516.3047485351562, 90.7864990234375, 125.3040771484375]}, {'id': 100, 'file_name': 'Enterobius vermicularis_0002.jpg', 'category_id': 1.0, 'bbox': [598.9507141113281, 460.746826171875, 236.04876708984375, 135.6756591796875]}, {'id': 101, 'file_name': 'Hymenolepis diminuta_0952.jpg', 'category_id': 2.0, 'bbox': [526.3283996582031, 337.07154846191406, 264.11175537109375, 254.69113159179688]}, {'id': 102, 'file_name': 'Enterobius vermicularis_0052.jpg', 'category_id': 1.0, 'bbox': [492.14373779296875, 286.66925048828125, 226.0245361328125, 167.22088623046875]}, {'id': 103, 'file_name': 'Hymenolepis diminuta_0302.jpg', 'category_id': 2.0, 'bbox': [834.7846374511719, 439.1776580810547, 189.30914306640625, 189.32852172851562]}, {'id': 104, 'file_name': 'Hymenolepis nana_0327.jpg', 'category_id': 3.0, 'bbox': [1335.5641479492188, 2108.3502197265625, 236.7237548828125, 207.978271484375]}, {'id': 105, 'file_name': 'Paragonimus spp_0977.jpg', 'category_id': 4.0, 'bbox': [1362.557373046875, 1668.9273071289062, 336.381103515625, 361.0882568359375]}, {'id': 106, 'file_name': 'Enterobius vermicularis_0527.jpg', 'category_id': 1.0, 'bbox': [851.2600708007812, 464.82684326171875, 157.125244140625, 100.3851318359375]}, {'id': 107, 'file_name': 'Hymenolepis nana_0777.jpg', 'category_id': 3.0, 'bbox': [1363.2623291015625, 2089.6605224609375, 214.39501953125, 209.828369140625]}, {'id': 108, 'file_name': 'Capillaria philippinensis_0502.jpg', 'category_id': 0.0, 'bbox': [921.044921875, 519.4103088378906, 104.2789306640625, 78.84979248046875]}, {'id': 109, 'file_name': 'Enterobius vermicularis_0152.jpg', 'category_id': 1.0, 'bbox': [500.8136749267578, 284.5007019042969, 179.20370483398438, 197.49542236328125]}, {'id': 110, 'file_name': 'Enterobius vermicularis_0802.jpg', 'category_id': 1.0, 'bbox': [1171.4732055664062, 1573.515380859375, 235.3739013671875, 113.96044921875]}, {'id': 111, 'file_name': 'Enterobius vermicularis_0477.jpg', 'category_id': 1.0, 'bbox': [1075.647216796875, 1719.9208374023438, 226.103515625, 130.2462158203125]}, {'id': 112, 'file_name': 'Enterobius vermicularis_0602.jpg', 'category_id': 1.0, 'bbox': [968.5650634765625, 466.4683837890625, 81.783203125, 174.639892578125]}, {'id': 113, 'file_name': 'Paragonimus spp_0752.jpg', 'category_id': 4.0, 'bbox': [517.1349182128906, 372.72975158691406, 301.51751708984375, 260.7063903808594]}, {'id': 114, 'file_name': 'Paragonimus spp_0427.jpg', 'category_id': 4.0, 'bbox': [1332.9318237304688, 1734.1572265625, 342.9068603515625, 372.68701171875]}, {'id': 115, 'file_name': 'Paragonimus spp_0452.jpg', 'category_id': 4.0, 'bbox': [1484.9002075195312, 1817.8859252929688, 227.2098388671875, 355.3472900390625]}, {'id': 116, 'file_name': 'Capillaria philippinensis_0577.jpg', 'category_id': 0.0, 'bbox': [918.4512939453125, 514.5630187988281, 129.854736328125, 67.99212646484375]}, {'id': 117, 'file_name': 'Hymenolepis diminuta_0552.jpg', 'category_id': 2.0, 'bbox': [1321.4580078125, 1641.0176391601562, 335.54541015625, 349.0633544921875]}, {'id': 118, 'file_name': 'Enterobius vermicularis_0452.jpg', 'category_id': 1.0, 'bbox': [1196.9134521484375, 1398.2000732421875, 143.55517578125, 224.36669921875]}, {'id': 119, 'file_name': 'Enterobius vermicularis_0877.jpg', 'category_id': 1.0, 'bbox': [1275.2434692382812, 1754.6702880859375, 145.4656982421875, 222.5556640625]}, {'id': 120, 'file_name': 'Capillaria philippinensis_0802.jpg', 'category_id': 0.0, 'bbox': [1330.4656372070312, 1775.050048828125, 90.8524169921875, 164.86181640625]}, {'id': 121, 'file_name': 'Hymenolepis diminuta_0827.jpg', 'category_id': 2.0, 'bbox': [529.5579528808594, 332.7845001220703, 270.04791259765625, 276.2909851074219]}, {'id': 122, 'file_name': 'Enterobius vermicularis_0077.jpg', 'category_id': 1.0, 'bbox': [538.8883361816406, 340.2165832519531, 252.29412841796875, 121.80279541015625]}, {'id': 123, 'file_name': 'Hymenolepis nana_0977.jpg', 'category_id': 3.0, 'bbox': [1527.7044067382812, 1926.7258911132812, 206.2073974609375, 217.5169677734375]}, {'id': 124, 'file_name': 'Enterobius vermicularis_0202.jpg', 'category_id': 1.0, 'bbox': [675.60595703125, 255.60556030273438, 151.30615234375, 238.34539794921875]}, {'id': 125, 'file_name': 'Capillaria philippinensis_0452.jpg', 'category_id': 0.0, 'bbox': [483.26966857910156, 437.3208312988281, 137.96383666992188, 156.40692138671875]}, {'id': 126, 'file_name': 'Paragonimus spp_0802.jpg', 'category_id': 4.0, 'bbox': [1366.17333984375, 1852.9006958007812, 293.96923828125, 338.1878662109375]}, {'id': 127, 'file_name': 'Enterobius vermicularis_0402.jpg', 'category_id': 1.0, 'bbox': [1215.3515625, 1845.146240234375, 158.944091796875, 214.69677734375]}, {'id': 128, 'file_name': 'Paragonimus spp_0652.jpg', 'category_id': 4.0, 'bbox': [513.0014038085938, 364.06678771972656, 302.645751953125, 200.60031127929688]}, {'id': 129, 'file_name': 'Paragonimus spp_0352.jpg', 'category_id': 4.0, 'bbox': [1405.5921630859375, 1931.0581665039062, 314.844482421875, 206.7947998046875]}, {'id': 130, 'file_name': 'Hymenolepis diminuta_0152.jpg', 'category_id': 2.0, 'bbox': [1446.7033081054688, 1933.0116577148438, 279.5035400390625, 294.6236572265625]}, {'id': 131, 'file_name': 'Hymenolepis nana_0427.jpg', 'category_id': 3.0, 'bbox': [1300.7568359375, 2046.222412109375, 251.964111328125, 206.2119140625]}, {'id': 132, 'file_name': 'Enterobius vermicularis_0102.jpg', 'category_id': 1.0, 'bbox': [504.8836212158203, 359.8457336425781, 231.68551635742188, 134.41229248046875]}, {'id': 133, 'file_name': 'Enterobius vermicularis_0927.jpg', 'category_id': 1.0, 'bbox': [1030.5200805664062, 1513.0054321289062, 151.0765380859375, 244.5936279296875]}, {'id': 134, 'file_name': 'Hymenolepis nana_0452.jpg', 'category_id': 3.0, 'bbox': [1336.39306640625, 1962.9782104492188, 236.71728515625, 245.4102783203125]}, {'id': 135, 'file_name': 'Paragonimus spp_0952.jpg', 'category_id': 4.0, 'bbox': [1421.6754150390625, 1650.6258544921875, 238.770263671875, 378.178955078125]}, {'id': 136, 'file_name': 'Capillaria philippinensis_0877.jpg', 'category_id': 0.0, 'bbox': [1093.6964721679688, 1848.0119018554688, 173.1256103515625, 97.4947509765625]}, {'id': 137, 'file_name': 'Capillaria philippinensis_0902.jpg', 'category_id': 0.0, 'bbox': [1295.4114379882812, 1814.2271118164062, 118.8060302734375, 174.7327880859375]}, {'id': 138, 'file_name': 'Enterobius vermicularis_0652.jpg', 'category_id': 1.0, 'bbox': [990.3993225097656, 509.4179992675781, 144.75579833984375, 126.76898193359375]}, {'id': 139, 'file_name': 'Hymenolepis nana_0852.jpg', 'category_id': 3.0, 'bbox': [1450.8324584960938, 2070.457763671875, 222.9771728515625, 206.8134765625]}, {'id': 140, 'file_name': 'Hymenolepis diminuta_0602.jpg', 'category_id': 2.0, 'bbox': [1373.63427734375, 1871.521484375, 331.571044921875, 314.53759765625]}, {'id': 141, 'file_name': 'Paragonimus spp_0077.jpg', 'category_id': 4.0, 'bbox': [843.9665832519531, 404.99237060546875, 154.00164794921875, 258.0078125]}, {'id': 142, 'file_name': 'Hymenolepis nana_0077.jpg', 'category_id': 3.0, 'bbox': [472.9065704345703, 411.24365234375, 159.16647338867188, 192.62060546875]}, {'id': 143, 'file_name': 'Enterobius vermicularis_0902.jpg', 'category_id': 1.0, 'bbox': [1259.1148681640625, 1920.6111450195312, 214.177978515625, 180.7259521484375]}, {'id': 144, 'file_name': 'Hymenolepis nana_0552.jpg', 'category_id': 3.0, 'bbox': [848.3767700195312, 518.863525390625, 130.3948974609375, 111.580810546875]}, {'id': 145, 'file_name': 'Capillaria philippinensis_0627.jpg', 'category_id': 0.0, 'bbox': [798.4324645996094, 473.3185577392578, 113.99371337890625, 64.15829467773438]}, {'id': 146, 'file_name': 'Enterobius vermicularis_0027.jpg', 'category_id': 1.0, 'bbox': [454.3193054199219, 302.2859649658203, 228.87506103515625, 164.50033569335938]}, {'id': 147, 'file_name': 'Enterobius vermicularis_0952.jpg', 'category_id': 1.0, 'bbox': [1282.2456665039062, 1635.0859985351562, 220.8436279296875, 132.6160888671875]}, {'id': 148, 'file_name': 'Capillaria philippinensis_0302.jpg', 'category_id': 0.0, 'bbox': [583.6935729980469, 323.34474182128906, 96.80499267578125, 176.30587768554688]}, {'id': 149, 'file_name': 'Hymenolepis diminuta_0652.jpg', 'category_id': 2.0, 'bbox': [1348.4276733398438, 1730.6909790039062, 346.4478759765625, 346.8314208984375]}, {'id': 150, 'file_name': 'Hymenolepis nana_0027.jpg', 'category_id': 3.0, 'bbox': [499.6859588623047, 367.85882568359375, 178.48330688476562, 171.13446044921875]}, {'id': 151, 'file_name': 'Enterobius vermicularis_0827.jpg', 'category_id': 1.0, 'bbox': [1168.0112915039062, 1618.0943603515625, 187.9490966796875, 159.021240234375]}, {'id': 152, 'file_name': 'Paragonimus spp_0852.jpg', 'category_id': 4.0, 'bbox': [1349.173828125, 1762.8472290039062, 401.104248046875, 260.6444091796875]}, {'id': 153, 'file_name': 'Paragonimus spp_0052.jpg', 'category_id': 4.0, 'bbox': [808.133056640625, 503.89697265625, 234.862060546875, 142.1142578125]}, {'id': 154, 'file_name': 'Paragonimus spp_0877.jpg', 'category_id': 4.0, 'bbox': [1324.924072265625, 1797.3588256835938, 409.375, 295.1646728515625]}, {'id': 155, 'file_name': 'Hymenolepis nana_0627.jpg', 'category_id': 3.0, 'bbox': [865.0354614257812, 489.80995178222656, 120.2740478515625, 124.19577026367188]}, {'id': 156, 'file_name': 'Hymenolepis diminuta_0002.jpg', 'category_id': 2.0, 'bbox': [1295.6424560546875, 2130.1380615234375, 349.220458984375, 316.703369140625]}, {'id': 157, 'file_name': 'Hymenolepis diminuta_0702.jpg', 'category_id': 2.0, 'bbox': [1356.6982421875, 1822.2023315429688, 351.64990234375, 335.1793212890625]}, {'id': 158, 'file_name': 'Paragonimus spp_0827.jpg', 'category_id': 4.0, 'bbox': [1307.0823364257812, 1809.900146484375, 401.5882568359375, 289.805419921875]}, {'id': 159, 'file_name': 'Hymenolepis diminuta_0177.jpg', 'category_id': 2.0, 'bbox': [1359.5984497070312, 2021.715087890625, 312.7694091796875, 313.9541015625]}, {'id': 160, 'file_name': 'Hymenolepis nana_0802.jpg', 'category_id': 3.0, 'bbox': [1321.356201171875, 2090.7740478515625, 224.2578125, 199.924560546875]}, {'id': 161, 'file_name': 'Hymenolepis diminuta_0252.jpg', 'category_id': 2.0, 'bbox': [1190.2044677734375, 1985.7633056640625, 367.990478515625, 352.948974609375]}, {'id': 162, 'file_name': 'Hymenolepis diminuta_0977.jpg', 'category_id': 2.0, 'bbox': [542.58056640625, 368.766357421875, 261.543701171875, 260.670166015625]}, {'id': 163, 'file_name': 'Enterobius vermicularis_0752.jpg', 'category_id': 1.0, 'bbox': [1177.9166870117188, 1633.0759887695312, 225.5704345703125, 116.4163818359375]}, {'id': 164, 'file_name': 'Hymenolepis diminuta_0452.jpg', 'category_id': 2.0, 'bbox': [838.7132873535156, 434.9175109863281, 195.44354248046875, 189.40106201171875]}, {'id': 165, 'file_name': 'Enterobius vermicularis_0502.jpg', 'category_id': 1.0, 'bbox': [866.5128173828125, 458.4503173828125, 162.8421630859375, 90.14605712890625]}, {'id': 166, 'file_name': 'Capillaria philippinensis_0927.jpg', 'category_id': 0.0, 'bbox': [1192.4885864257812, 1746.6111450195312, 148.8104248046875, 126.6395263671875]}, {'id': 167, 'file_name': 'Paragonimus spp_0502.jpg', 'category_id': 4.0, 'bbox': [489.47813415527344, 351.2508087158203, 336.9715881347656, 233.47860717773438]}, {'id': 168, 'file_name': 'Enterobius vermicularis_0302.jpg', 'category_id': 1.0, 'bbox': [1137.8317260742188, 1598.5657958984375, 204.1964111328125, 168.795654296875]}, {'id': 169, 'file_name': 'Hymenolepis nana_0652.jpg', 'category_id': 3.0, 'bbox': [881.3797607421875, 444.0709228515625, 141.3240966796875, 120.29339599609375]}, {'id': 170, 'file_name': 'Capillaria philippinensis_0227.jpg', 'category_id': 0.0, 'bbox': [1201.6099853515625, 1868.4093627929688, 138.286865234375, 148.6324462890625]}, {'id': 171, 'file_name': 'Capillaria philippinensis_0202.jpg', 'category_id': 0.0, 'bbox': [1117.4832763671875, 1744.0311279296875, 134.876953125, 147.409423828125]}, {'id': 172, 'file_name': 'Enterobius vermicularis_0377.jpg', 'category_id': 1.0, 'bbox': [1078.157470703125, 1605.356201171875, 189.450439453125, 175.16162109375]}, {'id': 173, 'file_name': 'Capillaria philippinensis_0952.jpg', 'category_id': 0.0, 'bbox': [1089.0967407226562, 1776.6172485351562, 150.5833740234375, 122.6302490234375]}, {'id': 174, 'file_name': 'Hymenolepis nana_0752.jpg', 'category_id': 3.0, 'bbox': [801.0608215332031, 432.77301025390625, 133.61370849609375, 128.9776611328125]}, {'id': 175, 'file_name': 'Capillaria philippinensis_0477.jpg', 'category_id': 0.0, 'bbox': [684.449951171875, 517.9791564941406, 130.0850830078125, 140.07025146484375]}, {'id': 176, 'file_name': 'Enterobius vermicularis_0127.jpg', 'category_id': 1.0, 'bbox': [589.5926208496094, 362.52984619140625, 198.42803955078125, 182.26806640625]}, {'id': 177, 'file_name': 'Hymenolepis nana_0177.jpg', 'category_id': 3.0, 'bbox': [505.7291564941406, 380.21112060546875, 196.23211669921875, 164.79327392578125]}, {'id': 178, 'file_name': 'Enterobius vermicularis_0177.jpg', 'category_id': 1.0, 'bbox': [641.999267578125, 325.9309997558594, 231.7857666015625, 149.0185546875]}, {'id': 179, 'file_name': 'Hymenolepis nana_0277.jpg', 'category_id': 3.0, 'bbox': [1362.1079711914062, 2147.2412109375, 236.3328857421875, 214.50830078125]}, {'id': 180, 'file_name': 'Enterobius vermicularis_0552.jpg', 'category_id': 1.0, 'bbox': [919.0554504394531, 484.4833679199219, 178.70111083984375, 82.79620361328125]}, {'id': 181, 'file_name': 'Enterobius vermicularis_0427.jpg', 'category_id': 1.0, 'bbox': [1317.7855834960938, 1610.916259765625, 232.1773681640625, 148.163818359375]}, {'id': 182, 'file_name': 'Hymenolepis diminuta_0377.jpg', 'category_id': 2.0, 'bbox': [836.3666076660156, 405.2142333984375, 194.12615966796875, 204.0948486328125]}, {'id': 183, 'file_name': 'Capillaria philippinensis_0777.jpg', 'category_id': 0.0, 'bbox': [1056.5704956054688, 1834.9478149414062, 81.4630126953125, 150.5740966796875]}, {'id': 184, 'file_name': 'Hymenolepis diminuta_0752.jpg', 'category_id': 2.0, 'bbox': [1430.138427734375, 1672.3699340820312, 325.569091796875, 333.7586669921875]}, {'id': 185, 'file_name': 'Paragonimus spp_0727.jpg', 'category_id': 4.0, 'bbox': [513.4205322265625, 337.92156982421875, 272.3760986328125, 285.9105224609375]}, {'id': 186, 'file_name': 'Enterobius vermicularis_0252.jpg', 'category_id': 1.0, 'bbox': [1129.5653686523438, 1567.870361328125, 221.3663330078125, 132.334228515625]}, {'id': 187, 'file_name': 'Enterobius vermicularis_0327.jpg', 'category_id': 1.0, 'bbox': [1062.0026245117188, 1761.864990234375, 246.2686767578125, 114.28857421875]}, {'id': 188, 'file_name': 'Capillaria philippinensis_0352.jpg', 'category_id': 0.0, 'bbox': [525.4002075195312, 413.3333282470703, 145.7342529296875, 113.49923706054688]}, {'id': 189, 'file_name': 'Paragonimus spp_0277.jpg', 'category_id': 4.0, 'bbox': [1377.0848999023438, 1873.5127563476562, 327.0924072265625, 312.4949951171875]}, {'id': 190, 'file_name': 'Paragonimus spp_0302.jpg', 'category_id': 4.0, 'bbox': [1358.3165893554688, 1972.9078979492188, 413.8228759765625, 249.8927001953125]}, {'id': 191, 'file_name': 'Hymenolepis nana_0152.jpg', 'category_id': 3.0, 'bbox': [529.8728637695312, 405.9669647216797, 155.767333984375, 183.85879516601562]}, {'id': 192, 'file_name': 'Enterobius vermicularis_0277.jpg', 'category_id': 1.0, 'bbox': [1037.7903442382812, 1678.9696655273438, 208.9300537109375, 159.3922119140625]}, {'id': 193, 'file_name': 'Capillaria philippinensis_0602.jpg', 'category_id': 0.0, 'bbox': [1005.6177368164062, 499.3888854980469, 97.9324951171875, 122.92706298828125]}, {'id': 194, 'file_name': 'Hymenolepis diminuta_0202.jpg', 'category_id': 2.0, 'bbox': [1329.8408813476562, 2113.2586669921875, 340.0975341796875, 356.783447265625]}, {'id': 195, 'file_name': 'Hymenolepis diminuta_0277.jpg', 'category_id': 2.0, 'bbox': [816.4674377441406, 398.56475830078125, 181.64959716796875, 185.27679443359375]}, {'id': 196, 'file_name': 'Paragonimus spp_0377.jpg', 'category_id': 4.0, 'bbox': [1314.3680419921875, 1919.701171875, 424.537353515625, 271.8232421875]}, {'id': 197, 'file_name': 'Paragonimus spp_0027.jpg', 'category_id': 4.0, 'bbox': [838.0155944824219, 465.29443359375, 185.95782470703125, 176.8165283203125]}, {'id': 198, 'file_name': 'Hymenolepis diminuta_0052.jpg', 'category_id': 2.0, 'bbox': [1329.7063598632812, 1863.0764770507812, 323.6976318359375, 342.5623779296875]}, {'id': 199, 'file_name': 'Hymenolepis diminuta_0927.jpg', 'category_id': 2.0, 'bbox': [543.7998657226562, 355.16319274902344, 271.251220703125, 262.2352600097656]}]}\n"
          ]
        }
      ],
      "source": [
        "print(annotations)"
      ]
    },
    {
      "cell_type": "code",
      "execution_count": 25,
      "metadata": {
        "colab": {
          "base_uri": "https://localhost:8080/"
        },
        "id": "T84tJLpVL2zo",
        "outputId": "3349ffb0-8530-4d59-f867-24929eeb8477"
      },
      "outputs": [
        {
          "name": "stdout",
          "output_type": "stream",
          "text": [
            "{\"F1Score\":1.0,\"mAP0.5\":1.0,\"mAP0.5:0.95\":0.9717542553238074,\"mAP0.75\":0.9898514851485148,\"mIoU\":0.9687762873272675,\"status\":\"SUCCESS\"}\n",
            "\n"
          ]
        }
      ],
      "source": [
        "import requests\n",
        "import json\n",
        "sendDict = { 'studentID':'6432085221', 'results':  annotations }\n",
        "# sendDict = json.dumps(sendDict)\n",
        "response = requests.post('https://www.piclab.ai/classes/cv2023/lab9/scoreboard/submitLab9',headers={'Content-Type': 'application/json' }, json=sendDict)\n",
        "print(response.text)"
      ]
    },
    {
      "cell_type": "code",
      "execution_count": null,
      "metadata": {
        "id": "XJGI-EPWqL55"
      },
      "outputs": [],
      "source": []
    },
    {
      "cell_type": "code",
      "execution_count": 15,
      "metadata": {},
      "outputs": [],
      "source": [
        "reserved = {'annotations': [{'id': 0, 'file_name': 'Hymenolepis nana_0002.jpg', 'category_id': 3.0, 'bbox': [546.0891418457031, 458.96087646484375, 180.49505615234375, 152.04150390625]}, {'id': 1, 'file_name': 'Paragonimus spp_0677.jpg', 'category_id': 4.0, 'bbox': [551.1797790527344, 310.40721130371094, 185.44586181640625, 282.6562805175781]}, {'id': 2, 'file_name': 'Capillaria philippinensis_0177.jpg', 'category_id': 0.0, 'bbox': [922.1138916015625, 1722.66552734375, 105.544189453125, 137.830322265625]}, {'id': 3, 'file_name': 'Capillaria philippinensis_0152.jpg', 'category_id': 0.0, 'bbox': [936.3570251464844, 1838.002197265625, 116.89312744140625, 177.332275390625]}, {'id': 4, 'file_name': 'Capillaria philippinensis_0077.jpg', 'category_id': 0.0, 'bbox': [1035.1621704101562, 1701.1893310546875, 184.4217529296875, 94.20703125]}, {'id': 5, 'file_name': 'Capillaria philippinensis_0977.jpg', 'category_id': 0.0, 'bbox': [951.8955078125, 1783.0130004882812, 143.906982421875, 124.3055419921875]}, {'id': 6, 'file_name': 'Hymenolepis diminuta_0327.jpg', 'category_id': 2.0, 'bbox': [839.2748718261719, 423.3209533691406, 183.22637939453125, 183.85638427734375]}, {'id': 7, 'file_name': 'Capillaria philippinensis_0327.jpg', 'category_id': 0.0, 'bbox': [529.5424194335938, 458.9888153076172, 187.199951171875, 93.86880493164062]}, {'id': 8, 'file_name': 'Enterobius vermicularis_0677.jpg', 'category_id': 1.0, 'bbox': [893.8963928222656, 359.0933380126953, 107.15106201171875, 169.64083862304688]}, {'id': 9, 'file_name': 'Enterobius vermicularis_0702.jpg', 'category_id': 1.0, 'bbox': [939.916748046875, 488.6636657714844, 164.3265380859375, 94.89703369140625]}, {'id': 10, 'file_name': 'Paragonimus spp_0527.jpg', 'category_id': 4.0, 'bbox': [493.00584411621094, 421.15765380859375, 302.6332092285156, 176.36236572265625]}, {'id': 11, 'file_name': 'Enterobius vermicularis_0352.jpg', 'category_id': 1.0, 'bbox': [1056.498046875, 1663.3316040039062, 226.6005859375, 133.6810302734375]}, {'id': 12, 'file_name': 'Hymenolepis nana_0227.jpg', 'category_id': 3.0, 'bbox': [556.9277954101562, 402.4100341796875, 166.097412109375, 191.34356689453125]}, {'id': 13, 'file_name': 'Paragonimus spp_0577.jpg', 'category_id': 4.0, 'bbox': [557.5933837890625, 403.47251892089844, 187.9072265625, 298.9761047363281]}, {'id': 14, 'file_name': 'Hymenolepis nana_0402.jpg', 'category_id': 3.0, 'bbox': [1300.970703125, 2113.6627197265625, 267.8115234375, 216.819091796875]}, {'id': 15, 'file_name': 'Capillaria philippinensis_0377.jpg', 'category_id': 0.0, 'bbox': [634.4541320800781, 363.09368896484375, 195.39617919921875, 135.66656494140625]}, {'id': 16, 'file_name': 'Hymenolepis diminuta_0802.jpg', 'category_id': 2.0, 'bbox': [520.0672607421875, 333.57952880859375, 261.1396484375, 266.71484375]}, {'id': 17, 'file_name': 'Hymenolepis nana_0577.jpg', 'category_id': 3.0, 'bbox': [893.9351501464844, 467.1191864013672, 140.07891845703125, 119.19253540039062]}, {'id': 18, 'file_name': 'Hymenolepis nana_0827.jpg', 'category_id': 3.0, 'bbox': [1415.7517700195312, 2018.0244750976562, 229.9373779296875, 201.3773193359375]}, {'id': 19, 'file_name': 'Hymenolepis diminuta_0852.jpg', 'category_id': 2.0, 'bbox': [512.3702392578125, 346.17384338378906, 275.30029296875, 250.15158081054688]}, {'id': 20, 'file_name': 'Paragonimus spp_0702.jpg', 'category_id': 4.0, 'bbox': [575.0511779785156, 303.58714294433594, 196.12982177734375, 302.5536193847656]}, {'id': 21, 'file_name': 'Paragonimus spp_0927.jpg', 'category_id': 4.0, 'bbox': [1394.6345825195312, 1651.6276245117188, 234.4432373046875, 359.4151611328125]}, {'id': 22, 'file_name': 'Hymenolepis nana_0127.jpg', 'category_id': 3.0, 'bbox': [569.3583374023438, 361.55267333984375, 212.87451171875, 184.49005126953125]}, {'id': 23, 'file_name': 'Hymenolepis nana_0602.jpg', 'category_id': 3.0, 'bbox': [878.5988464355469, 469.5168151855469, 145.75762939453125, 122.95758056640625]}, {'id': 24, 'file_name': 'Hymenolepis nana_0352.jpg', 'category_id': 3.0, 'bbox': [1471.7089233398438, 2098.004638671875, 236.0181884765625, 316.41845703125]}, {'id': 25, 'file_name': 'Paragonimus spp_0552.jpg', 'category_id': 4.0, 'bbox': [484.1437072753906, 376.19970703125, 293.93231201171875, 212.760009765625]}, {'id': 26, 'file_name': 'Paragonimus spp_0227.jpg', 'category_id': 4.0, 'bbox': [870.4836120605469, 411.6326904296875, 154.93853759765625, 232.878173828125]}, {'id': 27, 'file_name': 'Hymenolepis diminuta_0127.jpg', 'category_id': 2.0, 'bbox': [1326.41357421875, 1870.0508422851562, 336.517578125, 338.7933349609375]}, {'id': 28, 'file_name': 'Hymenolepis nana_0302.jpg', 'category_id': 3.0, 'bbox': [1388.0989990234375, 2002.2493286132812, 199.33544921875, 214.0740966796875]}, {'id': 29, 'file_name': 'Capillaria philippinensis_0852.jpg', 'category_id': 0.0, 'bbox': [1419.4801025390625, 1864.0645141601562, 130.88818359375, 170.4295654296875]}, {'id': 30, 'file_name': 'Hymenolepis diminuta_0777.jpg', 'category_id': 2.0, 'bbox': [526.6186218261719, 349.4169921875, 278.20928955078125, 273.46875]}, {'id': 31, 'file_name': 'Hymenolepis diminuta_0577.jpg', 'category_id': 2.0, 'bbox': [1324.2900390625, 1685.26416015625, 408.33544921875, 394.3935546875]}, {'id': 32, 'file_name': 'Enterobius vermicularis_0852.jpg', 'category_id': 1.0, 'bbox': [1289.862548828125, 1624.7709350585938, 106.212646484375, 230.0699462890625]}, {'id': 33, 'file_name': 'Hymenolepis nana_0677.jpg', 'category_id': 3.0, 'bbox': [907.86474609375, 479.88258361816406, 125.862060546875, 124.97885131835938]}, {'id': 34, 'file_name': 'Hymenolepis diminuta_0102.jpg', 'category_id': 2.0, 'bbox': [1274.2266235351562, 1989.2080688476562, 321.8162841796875, 282.8402099609375]}, {'id': 35, 'file_name': 'Paragonimus spp_0102.jpg', 'category_id': 4.0, 'bbox': [843.9745178222656, 474.43634033203125, 178.90545654296875, 116.86572265625]}, {'id': 36, 'file_name': 'Hymenolepis nana_0952.jpg', 'category_id': 3.0, 'bbox': [1424.7809448242188, 2061.239013671875, 202.3878173828125, 240.62109375]}, {'id': 37, 'file_name': 'Hymenolepis diminuta_0477.jpg', 'category_id': 2.0, 'bbox': [867.8211975097656, 448.9434814453125, 188.02239990234375, 202.64208984375]}, {'id': 38, 'file_name': 'Hymenolepis diminuta_0427.jpg', 'category_id': 2.0, 'bbox': [794.691650390625, 437.79205322265625, 205.3839111328125, 190.8795166015625]}, {'id': 39, 'file_name': 'Paragonimus spp_0127.jpg', 'category_id': 4.0, 'bbox': [792.9606628417969, 448.2692565917969, 245.32012939453125, 158.34576416015625]}, {'id': 40, 'file_name': 'Capillaria philippinensis_0002.jpg', 'category_id': 1.0, 'bbox': [1087.3340454101562, 1646.8729248046875, 161.7967529296875, 105.3994140625]}, {'id': 41, 'file_name': 'Hymenolepis nana_0477.jpg', 'category_id': 3.0, 'bbox': [1290.0924682617188, 2097.2337646484375, 198.8858642578125, 204.180908203125]}, {'id': 42, 'file_name': 'Hymenolepis nana_0202.jpg', 'category_id': 3.0, 'bbox': [513.0841979980469, 436.6383819580078, 201.42657470703125, 189.67123413085938]}, {'id': 43, 'file_name': 'Paragonimus spp_0177.jpg', 'category_id': 4.0, 'bbox': [815.2755126953125, 441.03431701660156, 198.56884765625, 207.80477905273438]}, {'id': 44, 'file_name': 'Hymenolepis diminuta_0627.jpg', 'category_id': 2.0, 'bbox': [1359.659912109375, 1761.14990234375, 344.75390625, 346.31982421875]}, {'id': 45, 'file_name': 'Hymenolepis nana_0902.jpg', 'category_id': 3.0, 'bbox': [1461.1098022460938, 1948.6431274414062, 215.7618408203125, 259.1624755859375]}, {'id': 46, 'file_name': 'Paragonimus spp_0402.jpg', 'category_id': 4.0, 'bbox': [1441.006591796875, 1843.517822265625, 314.854248046875, 368.85009765625]}, {'id': 47, 'file_name': 'Enterobius vermicularis_0777.jpg', 'category_id': 1.0, 'bbox': [1177.769775390625, 1601.4920043945312, 208.5341796875, 128.3446044921875]}, {'id': 48, 'file_name': 'Hymenolepis diminuta_0402.jpg', 'category_id': 2.0, 'bbox': [922.8560485839844, 415.8765411376953, 190.82745361328125, 184.20223999023438]}, {'id': 49, 'file_name': 'Capillaria philippinensis_0427.jpg', 'category_id': 0.0, 'bbox': [542.9360656738281, 386.02687072753906, 108.66278076171875, 138.68905639648438]}, {'id': 50, 'file_name': 'Enterobius vermicularis_0627.jpg', 'category_id': 1.0, 'bbox': [936.6473388671875, 423.5605926513672, 101.0052490234375, 167.86233520507812]}, {'id': 51, 'file_name': 'Capillaria philippinensis_0727.jpg', 'category_id': 0.0, 'bbox': [871.877197265625, 487.8733673095703, 105.1937255859375, 92.15890502929688]}, {'id': 52, 'file_name': 'Enterobius vermicularis_0727.jpg', 'category_id': 1.0, 'bbox': [879.8685607910156, 458.9759979248047, 91.13934326171875, 164.56582641601562]}, {'id': 53, 'file_name': 'Hymenolepis nana_0877.jpg', 'category_id': 3.0, 'bbox': [1515.1010131835938, 1811.2682495117188, 220.3140869140625, 245.5323486328125]}, {'id': 54, 'file_name': 'Hymenolepis diminuta_0077.jpg', 'category_id': 2.0, 'bbox': [1341.197998046875, 1752.30517578125, 320.518798828125, 331.69091796875]}, {'id': 55, 'file_name': 'Capillaria philippinensis_0527.jpg', 'category_id': 0.0, 'bbox': [900.2872314453125, 489.7550811767578, 58.7276611328125, 110.37838745117188]}, {'id': 56, 'file_name': 'Hymenolepis nana_0502.jpg', 'category_id': 3.0, 'bbox': [1442.1072387695312, 1815.7924194335938, 192.6170654296875, 238.1119384765625]}, {'id': 57, 'file_name': 'Hymenolepis nana_0927.jpg', 'category_id': 3.0, 'bbox': [1385.3865356445312, 2021.803955078125, 222.3670654296875, 205.95361328125]}, {'id': 58, 'file_name': 'Capillaria philippinensis_0702.jpg', 'category_id': 0.0, 'bbox': [862.7560729980469, 474.9522247314453, 112.21783447265625, 95.37167358398438]}, {'id': 59, 'file_name': 'Hymenolepis diminuta_0677.jpg', 'category_id': 2.0, 'bbox': [1395.9722290039062, 1655.1817016601562, 317.1658935546875, 339.7982177734375]}, {'id': 60, 'file_name': 'Capillaria philippinensis_0277.jpg', 'category_id': 0.0, 'bbox': [583.7029418945312, 511.33631896972656, 137.18505859375, 152.38034057617188]}, {'id': 61, 'file_name': 'Paragonimus spp_0252.jpg', 'category_id': 4.0, 'bbox': [1359.5227661132812, 1952.4850463867188, 245.6326904296875, 435.0357666015625]}, {'id': 62, 'file_name': 'Hymenolepis nana_0702.jpg', 'category_id': 3.0, 'bbox': [844.8235778808594, 441.40411376953125, 131.36187744140625, 138.16119384765625]}, {'id': 63, 'file_name': 'Paragonimus spp_0902.jpg', 'category_id': 4.0, 'bbox': [1362.6879272460938, 1621.518798828125, 277.3741455078125, 476.839111328125]}, {'id': 64, 'file_name': 'Hymenolepis diminuta_0227.jpg', 'category_id': 2.0, 'bbox': [1473.9769897460938, 2120.4569091796875, 325.4014892578125, 323.303955078125]}, {'id': 65, 'file_name': 'Paragonimus spp_0602.jpg', 'category_id': 4.0, 'bbox': [511.0288848876953, 402.44195556640625, 325.7045593261719, 216.15789794921875]}, {'id': 66, 'file_name': 'Paragonimus spp_0002.jpg', 'category_id': 4.0, 'bbox': [813.1583557128906, 485.2406921386719, 236.49041748046875, 132.65728759765625]}, {'id': 67, 'file_name': 'Paragonimus spp_0327.jpg', 'category_id': 4.0, 'bbox': [1374.2221069335938, 1727.6959838867188, 270.2105712890625, 457.6778564453125]}, {'id': 68, 'file_name': 'Paragonimus spp_0152.jpg', 'category_id': 4.0, 'bbox': [823.69140625, 469.9235382080078, 218.1068115234375, 130.74398803710938]}, {'id': 69, 'file_name': 'Hymenolepis diminuta_0902.jpg', 'category_id': 2.0, 'bbox': [550.3973693847656, 318.8168182373047, 267.95574951171875, 284.4416809082031]}, {'id': 70, 'file_name': 'Hymenolepis nana_0727.jpg', 'category_id': 3.0, 'bbox': [832.7526550292969, 468.61572265625, 140.86798095703125, 115.721923828125]}, {'id': 71, 'file_name': 'Capillaria philippinensis_0752.jpg', 'category_id': 0.0, 'bbox': [1246.9608154296875, 1770.2435913085938, 141.427978515625, 102.5748291015625]}, {'id': 72, 'file_name': 'Hymenolepis diminuta_0877.jpg', 'category_id': 2.0, 'bbox': [507.5729675292969, 333.48960876464844, 278.63970947265625, 279.9756164550781]}, {'id': 73, 'file_name': 'Capillaria philippinensis_0827.jpg', 'category_id': 0.0, 'bbox': [1252.8590698242188, 1726.9920654296875, 181.0631103515625, 91.56689453125]}, {'id': 74, 'file_name': 'Capillaria philippinensis_0127.jpg', 'category_id': 0.0, 'bbox': [1354.3771362304688, 1732.6959838867188, 187.8048095703125, 138.6143798828125]}, {'id': 75, 'file_name': 'Enterobius vermicularis_0577.jpg', 'category_id': 1.0, 'bbox': [883.4775390625, 485.78038024902344, 138.118896484375, 131.17495727539062]}, {'id': 76, 'file_name': 'Paragonimus spp_0477.jpg', 'category_id': 4.0, 'bbox': [1439.1564331054688, 1844.7930908203125, 273.6309814453125, 410.609130859375]}, {'id': 77, 'file_name': 'Hymenolepis nana_0252.jpg', 'category_id': 3.0, 'bbox': [1342.9187622070312, 1726.589111328125, 210.9505615234375, 185.58203125]}, {'id': 78, 'file_name': 'Hymenolepis diminuta_0502.jpg', 'category_id': 2.0, 'bbox': [803.5484313964844, 442.4177551269531, 198.73614501953125, 195.39349365234375]}, {'id': 79, 'file_name': 'Capillaria philippinensis_0677.jpg', 'category_id': 0.0, 'bbox': [903.7168273925781, 474.3452453613281, 99.16912841796875, 96.49310302734375]}, {'id': 80, 'file_name': 'Capillaria philippinensis_0552.jpg', 'category_id': 0.0, 'bbox': [1049.280029296875, 552.4392395019531, 65.679931640625, 117.43914794921875]}, {'id': 81, 'file_name': 'Hymenolepis nana_0102.jpg', 'category_id': 3.0, 'bbox': [517.603271484375, 447.44569396972656, 189.638671875, 202.66427612304688]}, {'id': 82, 'file_name': 'Enterobius vermicularis_0977.jpg', 'category_id': 1.0, 'bbox': [1217.3896484375, 1684.372314453125, 109.99462890625, 227.62890625]}, {'id': 83, 'file_name': 'Hymenolepis diminuta_0527.jpg', 'category_id': 2.0, 'bbox': [1366.9402465820312, 1678.9522094726562, 352.9427490234375, 344.6859130859375]}, {'id': 84, 'file_name': 'Paragonimus spp_0777.jpg', 'category_id': 4.0, 'bbox': [1402.9718627929688, 1864.47021484375, 370.4063720703125, 220.121337890625]}, {'id': 85, 'file_name': 'Hymenolepis nana_0527.jpg', 'category_id': 3.0, 'bbox': [836.1768493652344, 438.61962890625, 115.16387939453125, 132.04083251953125]}, {'id': 86, 'file_name': 'Hymenolepis nana_0377.jpg', 'category_id': 3.0, 'bbox': [1385.1964111328125, 2015.1031494140625, 214.68994140625, 227.789794921875]}, {'id': 87, 'file_name': 'Hymenolepis diminuta_0352.jpg', 'category_id': 2.0, 'bbox': [831.1199035644531, 393.44012451171875, 207.27215576171875, 209.74688720703125]}, {'id': 88, 'file_name': 'Capillaria philippinensis_0102.jpg', 'category_id': 0.0, 'bbox': [956.3392944335938, 1773.9985961914062, 143.5816650390625, 107.7752685546875]}, {'id': 89, 'file_name': 'Enterobius vermicularis_0227.jpg', 'category_id': 1.0, 'bbox': [513.9091796875, 425.4466094970703, 230.77734375, 130.51132202148438]}, {'id': 90, 'file_name': 'Paragonimus spp_0627.jpg', 'category_id': 4.0, 'bbox': [482.2071075439453, 416.4603271484375, 347.5469665527344, 229.126953125]}, {'id': 91, 'file_name': 'Paragonimus spp_0202.jpg', 'category_id': 4.0, 'bbox': [877.1669006347656, 420.75042724609375, 130.67791748046875, 204.0714111328125]}, {'id': 92, 'file_name': 'Capillaria philippinensis_0027.jpg', 'category_id': 0.0, 'bbox': [1169.2915649414062, 1744.5179443359375, 138.0867919921875, 153.58544921875]}, {'id': 93, 'file_name': 'Hymenolepis diminuta_0027.jpg', 'category_id': 2.0, 'bbox': [1288.3596801757812, 1707.4710693359375, 317.2142333984375, 336.646728515625]}, {'id': 94, 'file_name': 'Capillaria philippinensis_0052.jpg', 'category_id': 0.0, 'bbox': [1244.171875, 1592.7216796875, 87.14794921875, 170.015869140625]}, {'id': 95, 'file_name': 'Capillaria philippinensis_0402.jpg', 'category_id': 0.0, 'bbox': [557.0763244628906, 506.00978088378906, 115.20648193359375, 167.11996459960938]}, {'id': 96, 'file_name': 'Hymenolepis nana_0052.jpg', 'category_id': 3.0, 'bbox': [540.2160949707031, 364.5954132080078, 216.92889404296875, 214.60055541992188]}, {'id': 97, 'file_name': 'Hymenolepis diminuta_0727.jpg', 'category_id': 2.0, 'bbox': [1413.4879760742188, 1840.8053588867188, 318.5133056640625, 319.2808837890625]}, {'id': 98, 'file_name': 'Capillaria philippinensis_0252.jpg', 'category_id': 0.0, 'bbox': [621.552734375, 407.21112060546875, 169.8958740234375, 112.77154541015625]}, {'id': 99, 'file_name': 'Capillaria philippinensis_0652.jpg', 'category_id': 0.0, 'bbox': [970.7887878417969, 516.3014831542969, 90.57818603515625, 124.41192626953125]}, {'id': 100, 'file_name': 'Enterobius vermicularis_0002.jpg', 'category_id': 1.0, 'bbox': [598.2869567871094, 463.56224060058594, 235.77203369140625, 134.20681762695312]}, {'id': 101, 'file_name': 'Hymenolepis diminuta_0952.jpg', 'category_id': 2.0, 'bbox': [526.5888671875, 335.1417694091797, 262.39404296875, 255.90603637695312]}, {'id': 102, 'file_name': 'Enterobius vermicularis_0052.jpg', 'category_id': 1.0, 'bbox': [491.8432312011719, 284.8827362060547, 224.66094970703125, 168.39065551757812]}, {'id': 103, 'file_name': 'Hymenolepis diminuta_0302.jpg', 'category_id': 2.0, 'bbox': [834.8202514648438, 439.1637878417969, 189.0115966796875, 189.00469970703125]}, {'id': 104, 'file_name': 'Hymenolepis nana_0327.jpg', 'category_id': 3.0, 'bbox': [1336.6574096679688, 2109.720703125, 236.2486572265625, 207.2666015625]}, {'id': 105, 'file_name': 'Paragonimus spp_0977.jpg', 'category_id': 4.0, 'bbox': [1366.0807495117188, 1667.6762084960938, 332.8355712890625, 363.6129150390625]}, {'id': 106, 'file_name': 'Enterobius vermicularis_0527.jpg', 'category_id': 1.0, 'bbox': [851.3395080566406, 463.8682861328125, 156.66546630859375, 100.9893798828125]}, {'id': 107, 'file_name': 'Hymenolepis nana_0777.jpg', 'category_id': 3.0, 'bbox': [1365.3342895507812, 2090.8050537109375, 211.1541748046875, 207.711181640625]}, {'id': 108, 'file_name': 'Capillaria philippinensis_0502.jpg', 'category_id': 0.0, 'bbox': [921.366943359375, 518.7104187011719, 104.7073974609375, 79.75567626953125]}, {'id': 109, 'file_name': 'Enterobius vermicularis_0152.jpg', 'category_id': 1.0, 'bbox': [499.9256591796875, 282.9827880859375, 180.080078125, 196.06915283203125]}, {'id': 110, 'file_name': 'Enterobius vermicularis_0802.jpg', 'category_id': 1.0, 'bbox': [1171.90625, 1574.3770141601562, 236.258544921875, 113.3201904296875]}, {'id': 111, 'file_name': 'Enterobius vermicularis_0477.jpg', 'category_id': 1.0, 'bbox': [1074.8538818359375, 1717.1728515625, 226.375732421875, 133.123779296875]}, {'id': 112, 'file_name': 'Enterobius vermicularis_0602.jpg', 'category_id': 1.0, 'bbox': [966.9356384277344, 465.9687805175781, 83.73614501953125, 173.08978271484375]}, {'id': 113, 'file_name': 'Paragonimus spp_0752.jpg', 'category_id': 4.0, 'bbox': [518.2637939453125, 371.0529022216797, 303.08837890625, 265.4856262207031]}, {'id': 114, 'file_name': 'Paragonimus spp_0427.jpg', 'category_id': 4.0, 'bbox': [1331.9462890625, 1733.5957641601562, 341.129150390625, 372.2376708984375]}, {'id': 115, 'file_name': 'Paragonimus spp_0452.jpg', 'category_id': 4.0, 'bbox': [1484.7203369140625, 1818.5455932617188, 228.29443359375, 354.3082275390625]}, {'id': 116, 'file_name': 'Capillaria philippinensis_0577.jpg', 'category_id': 0.0, 'bbox': [918.671142578125, 513.7661743164062, 129.5487060546875, 69.8441162109375]}, {'id': 117, 'file_name': 'Hymenolepis diminuta_0552.jpg', 'category_id': 2.0, 'bbox': [1320.30908203125, 1641.1431884765625, 339.303466796875, 349.21630859375]}, {'id': 118, 'file_name': 'Enterobius vermicularis_0452.jpg', 'category_id': 1.0, 'bbox': [1197.7816162109375, 1397.18212890625, 141.715087890625, 225.694091796875]}, {'id': 119, 'file_name': 'Enterobius vermicularis_0877.jpg', 'category_id': 1.0, 'bbox': [1274.6144409179688, 1757.2120971679688, 146.4918212890625, 219.7711181640625]}, {'id': 120, 'file_name': 'Capillaria philippinensis_0802.jpg', 'category_id': 0.0, 'bbox': [1331.9449462890625, 1775.9025268554688, 88.075439453125, 164.3756103515625]}, {'id': 121, 'file_name': 'Hymenolepis diminuta_0827.jpg', 'category_id': 2.0, 'bbox': [528.9661865234375, 332.77833557128906, 271.375732421875, 278.0894470214844]}, {'id': 122, 'file_name': 'Enterobius vermicularis_0077.jpg', 'category_id': 1.0, 'bbox': [539.8402404785156, 339.9803924560547, 249.89398193359375, 120.92056274414062]}, {'id': 123, 'file_name': 'Hymenolepis nana_0977.jpg', 'category_id': 3.0, 'bbox': [1528.087158203125, 1927.857666015625, 206.1875, 214.68359375]}, {'id': 124, 'file_name': 'Enterobius vermicularis_0202.jpg', 'category_id': 1.0, 'bbox': [674.8751525878906, 255.97344207763672, 151.69989013671875, 236.2296905517578]}, {'id': 125, 'file_name': 'Capillaria philippinensis_0452.jpg', 'category_id': 0.0, 'bbox': [484.36219787597656, 437.54364013671875, 137.30258178710938, 150.7977294921875]}, {'id': 126, 'file_name': 'Paragonimus spp_0802.jpg', 'category_id': 4.0, 'bbox': [1366.6458740234375, 1851.999755859375, 294.006591796875, 338.872802734375]}, {'id': 127, 'file_name': 'Enterobius vermicularis_0402.jpg', 'category_id': 1.0, 'bbox': [1215.957763671875, 1844.1859741210938, 157.9873046875, 216.2139892578125]}, {'id': 128, 'file_name': 'Paragonimus spp_0652.jpg', 'category_id': 4.0, 'bbox': [515.6825866699219, 363.92408752441406, 302.14190673828125, 201.12985229492188]}, {'id': 129, 'file_name': 'Paragonimus spp_0352.jpg', 'category_id': 4.0, 'bbox': [1405.7918701171875, 1931.357666015625, 314.904541015625, 204.56884765625]}, {'id': 130, 'file_name': 'Hymenolepis diminuta_0152.jpg', 'category_id': 2.0, 'bbox': [1436.8235473632812, 1933.4025268554688, 290.6068115234375, 293.6993408203125]}, {'id': 131, 'file_name': 'Hymenolepis nana_0427.jpg', 'category_id': 3.0, 'bbox': [1298.783203125, 2047.6614990234375, 253.768310546875, 204.338134765625]}, {'id': 132, 'file_name': 'Enterobius vermicularis_0102.jpg', 'category_id': 1.0, 'bbox': [504.1807556152344, 360.4705352783203, 231.82061767578125, 134.34408569335938]}, {'id': 133, 'file_name': 'Enterobius vermicularis_0927.jpg', 'category_id': 1.0, 'bbox': [1030.0210571289062, 1513.8447265625, 152.3919677734375, 244.6015625]}, {'id': 134, 'file_name': 'Hymenolepis nana_0452.jpg', 'category_id': 3.0, 'bbox': [1337.95849609375, 1961.8699951171875, 234.247802734375, 247.398681640625]}, {'id': 135, 'file_name': 'Paragonimus spp_0952.jpg', 'category_id': 4.0, 'bbox': [1422.5521240234375, 1649.566162109375, 236.637451171875, 380.343994140625]}, {'id': 136, 'file_name': 'Capillaria philippinensis_0877.jpg', 'category_id': 0.0, 'bbox': [1094.6103515625, 1847.2000732421875, 172.545166015625, 99.41162109375]}, {'id': 137, 'file_name': 'Capillaria philippinensis_0902.jpg', 'category_id': 0.0, 'bbox': [1295.9906005859375, 1814.174072265625, 117.985107421875, 174.301513671875]}, {'id': 138, 'file_name': 'Enterobius vermicularis_0652.jpg', 'category_id': 1.0, 'bbox': [988.4271545410156, 509.3906707763672, 147.04241943359375, 126.82351684570312]}, {'id': 139, 'file_name': 'Hymenolepis nana_0852.jpg', 'category_id': 3.0, 'bbox': [1452.365478515625, 2070.2630615234375, 222.16455078125, 204.550048828125]}, {'id': 140, 'file_name': 'Hymenolepis diminuta_0602.jpg', 'category_id': 2.0, 'bbox': [1381.21435546875, 1869.816162109375, 322.41650390625, 315.979248046875]}, {'id': 141, 'file_name': 'Paragonimus spp_0077.jpg', 'category_id': 4.0, 'bbox': [843.1130981445312, 403.4092712402344, 156.1407470703125, 259.87628173828125]}, {'id': 142, 'file_name': 'Hymenolepis nana_0077.jpg', 'category_id': 3.0, 'bbox': [472.1403503417969, 409.87652587890625, 159.63897705078125, 193.0738525390625]}, {'id': 143, 'file_name': 'Enterobius vermicularis_0902.jpg', 'category_id': 1.0, 'bbox': [1259.8878173828125, 1920.489501953125, 214.1259765625, 179.5458984375]}, {'id': 144, 'file_name': 'Hymenolepis nana_0552.jpg', 'category_id': 3.0, 'bbox': [848.92919921875, 518.5942077636719, 130.0032958984375, 112.27154541015625]}, {'id': 145, 'file_name': 'Capillaria philippinensis_0627.jpg', 'category_id': 0.0, 'bbox': [798.5204162597656, 472.4585723876953, 113.67694091796875, 65.64718627929688]}, {'id': 146, 'file_name': 'Enterobius vermicularis_0027.jpg', 'category_id': 1.0, 'bbox': [454.7096710205078, 301.22674560546875, 228.06845092773438, 164.02642822265625]}, {'id': 147, 'file_name': 'Enterobius vermicularis_0952.jpg', 'category_id': 1.0, 'bbox': [1272.4923095703125, 1634.6541748046875, 229.853759765625, 133.70751953125]}, {'id': 148, 'file_name': 'Capillaria philippinensis_0302.jpg', 'category_id': 0.0, 'bbox': [582.6686096191406, 322.8803405761719, 97.53387451171875, 176.37872314453125]}, {'id': 149, 'file_name': 'Hymenolepis diminuta_0652.jpg', 'category_id': 2.0, 'bbox': [1350.5263671875, 1731.091064453125, 344.06494140625, 347.731201171875]}, {'id': 150, 'file_name': 'Hymenolepis nana_0027.jpg', 'category_id': 3.0, 'bbox': [500.17152404785156, 368.61354064941406, 178.46908569335938, 168.84347534179688]}, {'id': 151, 'file_name': 'Enterobius vermicularis_0827.jpg', 'category_id': 1.0, 'bbox': [1166.6232299804688, 1617.469970703125, 190.4342041015625, 159.636474609375]}, {'id': 152, 'file_name': 'Paragonimus spp_0852.jpg', 'category_id': 4.0, 'bbox': [1351.3633422851562, 1761.2930297851562, 400.2962646484375, 263.1668701171875]}, {'id': 153, 'file_name': 'Paragonimus spp_0052.jpg', 'category_id': 4.0, 'bbox': [811.000732421875, 504.1040802001953, 231.86279296875, 141.76657104492188]}, {'id': 154, 'file_name': 'Paragonimus spp_0877.jpg', 'category_id': 4.0, 'bbox': [1323.970458984375, 1795.05810546875, 409.5400390625, 298.59619140625]}, {'id': 155, 'file_name': 'Hymenolepis nana_0627.jpg', 'category_id': 3.0, 'bbox': [864.3189086914062, 488.82606506347656, 121.46240234375, 125.18307495117188]}, {'id': 156, 'file_name': 'Hymenolepis diminuta_0002.jpg', 'category_id': 2.0, 'bbox': [1300.9736938476562, 2131.042724609375, 344.4979248046875, 315.333984375]}, {'id': 157, 'file_name': 'Hymenolepis diminuta_0702.jpg', 'category_id': 2.0, 'bbox': [1358.18212890625, 1820.43310546875, 348.796875, 336.287109375]}, {'id': 158, 'file_name': 'Paragonimus spp_0827.jpg', 'category_id': 4.0, 'bbox': [1308.176025390625, 1811.265625, 393.5341796875, 288.2861328125]}, {'id': 159, 'file_name': 'Hymenolepis diminuta_0177.jpg', 'category_id': 2.0, 'bbox': [1359.7529296875, 2022.6340942382812, 311.986572265625, 313.8763427734375]}, {'id': 160, 'file_name': 'Hymenolepis nana_0802.jpg', 'category_id': 3.0, 'bbox': [1332.200439453125, 2091.6072998046875, 213.361083984375, 202.527587890625]}, {'id': 161, 'file_name': 'Hymenolepis diminuta_0252.jpg', 'category_id': 2.0, 'bbox': [1193.3191528320312, 1984.3540649414062, 362.7869873046875, 354.8929443359375]}, {'id': 162, 'file_name': 'Hymenolepis diminuta_0977.jpg', 'category_id': 2.0, 'bbox': [536.9329223632812, 367.11134338378906, 264.7618408203125, 262.1540222167969]}, {'id': 163, 'file_name': 'Enterobius vermicularis_0752.jpg', 'category_id': 1.0, 'bbox': [1176.1466674804688, 1633.4536743164062, 228.7374267578125, 115.3870849609375]}, {'id': 164, 'file_name': 'Hymenolepis diminuta_0452.jpg', 'category_id': 2.0, 'bbox': [838.668212890625, 433.6301727294922, 194.759033203125, 190.11697387695312]}, {'id': 165, 'file_name': 'Enterobius vermicularis_0502.jpg', 'category_id': 1.0, 'bbox': [867.2438049316406, 458.12835693359375, 161.90228271484375, 89.48992919921875]}, {'id': 166, 'file_name': 'Capillaria philippinensis_0927.jpg', 'category_id': 0.0, 'bbox': [1192.6373901367188, 1746.5306396484375, 148.8829345703125, 127.093994140625]}, {'id': 167, 'file_name': 'Paragonimus spp_0502.jpg', 'category_id': 4.0, 'bbox': [485.5169372558594, 350.47999572753906, 340.20855712890625, 235.27999877929688]}, {'id': 168, 'file_name': 'Enterobius vermicularis_0302.jpg', 'category_id': 1.0, 'bbox': [1135.6954345703125, 1599.15966796875, 206.645263671875, 167.41357421875]}, {'id': 169, 'file_name': 'Hymenolepis nana_0652.jpg', 'category_id': 3.0, 'bbox': [881.8323669433594, 443.9240264892578, 141.02642822265625, 120.50717163085938]}, {'id': 170, 'file_name': 'Capillaria philippinensis_0227.jpg', 'category_id': 0.0, 'bbox': [1202.9440307617188, 1867.3253173828125, 135.9293212890625, 147.889892578125]}, {'id': 171, 'file_name': 'Capillaria philippinensis_0202.jpg', 'category_id': 0.0, 'bbox': [1116.2234497070312, 1744.619384765625, 136.0169677734375, 150.25390625]}, {'id': 172, 'file_name': 'Enterobius vermicularis_0377.jpg', 'category_id': 1.0, 'bbox': [1076.8567504882812, 1603.1810302734375, 185.8939208984375, 179.209716796875]}, {'id': 173, 'file_name': 'Capillaria philippinensis_0952.jpg', 'category_id': 0.0, 'bbox': [1089.7714233398438, 1778.3013305664062, 151.9537353515625, 121.8626708984375]}, {'id': 174, 'file_name': 'Hymenolepis nana_0752.jpg', 'category_id': 3.0, 'bbox': [801.2457580566406, 432.486572265625, 134.42523193359375, 128.725341796875]}, {'id': 175, 'file_name': 'Capillaria philippinensis_0477.jpg', 'category_id': 0.0, 'bbox': [684.3358154296875, 519.0194702148438, 129.0926513671875, 139.21875]}, {'id': 176, 'file_name': 'Enterobius vermicularis_0127.jpg', 'category_id': 1.0, 'bbox': [589.2544860839844, 364.2354736328125, 198.00860595703125, 179.61932373046875]}, {'id': 177, 'file_name': 'Hymenolepis nana_0177.jpg', 'category_id': 3.0, 'bbox': [506.01438903808594, 379.3455810546875, 196.22366333007812, 167.05023193359375]}, {'id': 178, 'file_name': 'Enterobius vermicularis_0177.jpg', 'category_id': 1.0, 'bbox': [642.2536010742188, 327.5466766357422, 231.2144775390625, 147.74417114257812]}, {'id': 179, 'file_name': 'Hymenolepis nana_0277.jpg', 'category_id': 3.0, 'bbox': [1368.490234375, 2148.696044921875, 229.7353515625, 212.8671875]}, {'id': 180, 'file_name': 'Enterobius vermicularis_0552.jpg', 'category_id': 1.0, 'bbox': [919.52001953125, 484.8625183105469, 177.79443359375, 82.41241455078125]}, {'id': 181, 'file_name': 'Enterobius vermicularis_0427.jpg', 'category_id': 1.0, 'bbox': [1316.625732421875, 1610.8527221679688, 233.783935546875, 148.9727783203125]}, {'id': 182, 'file_name': 'Hymenolepis diminuta_0377.jpg', 'category_id': 2.0, 'bbox': [836.7783203125, 402.61004638671875, 194.2626953125, 206.67095947265625]}, {'id': 183, 'file_name': 'Capillaria philippinensis_0777.jpg', 'category_id': 0.0, 'bbox': [1056.8900756835938, 1833.6759033203125, 80.1510009765625, 151.69677734375]}, {'id': 184, 'file_name': 'Hymenolepis diminuta_0752.jpg', 'category_id': 2.0, 'bbox': [1431.10400390625, 1672.7252807617188, 326.2861328125, 333.4317626953125]}, {'id': 185, 'file_name': 'Paragonimus spp_0727.jpg', 'category_id': 4.0, 'bbox': [518.4685974121094, 337.31761169433594, 266.78717041015625, 290.4386291503906]}, {'id': 186, 'file_name': 'Enterobius vermicularis_0252.jpg', 'category_id': 1.0, 'bbox': [1129.4960327148438, 1570.8667602539062, 221.2022705078125, 130.8333740234375]}, {'id': 187, 'file_name': 'Enterobius vermicularis_0327.jpg', 'category_id': 1.0, 'bbox': [1063.071044921875, 1758.58544921875, 244.828369140625, 118.954345703125]}, {'id': 188, 'file_name': 'Capillaria philippinensis_0352.jpg', 'category_id': 0.0, 'bbox': [525.3389587402344, 414.0751953125, 145.51348876953125, 111.3399658203125]}, {'id': 189, 'file_name': 'Paragonimus spp_0277.jpg', 'category_id': 4.0, 'bbox': [1377.2520751953125, 1873.1589965820312, 326.687744140625, 314.3240966796875]}, {'id': 190, 'file_name': 'Paragonimus spp_0302.jpg', 'category_id': 4.0, 'bbox': [1359.8234252929688, 1972.31005859375, 414.9747314453125, 248.0927734375]}, {'id': 191, 'file_name': 'Hymenolepis nana_0152.jpg', 'category_id': 3.0, 'bbox': [530.6758728027344, 405.00563049316406, 154.85601806640625, 186.22775268554688]}, {'id': 192, 'file_name': 'Enterobius vermicularis_0277.jpg', 'category_id': 1.0, 'bbox': [1038.5955810546875, 1680.071533203125, 209.9755859375, 158.374755859375]}, {'id': 193, 'file_name': 'Capillaria philippinensis_0602.jpg', 'category_id': 0.0, 'bbox': [1005.5221557617188, 498.11134338378906, 99.6358642578125, 124.13034057617188]}, {'id': 194, 'file_name': 'Hymenolepis diminuta_0202.jpg', 'category_id': 2.0, 'bbox': [1330.2007446289062, 2112.0526123046875, 339.2244873046875, 358.726806640625]}, {'id': 195, 'file_name': 'Hymenolepis diminuta_0277.jpg', 'category_id': 2.0, 'bbox': [816.6551818847656, 398.31166076660156, 181.10638427734375, 184.88583374023438]}, {'id': 196, 'file_name': 'Paragonimus spp_0377.jpg', 'category_id': 4.0, 'bbox': [1313.38671875, 1916.4425659179688, 424.76416015625, 275.2901611328125]}, {'id': 197, 'file_name': 'Paragonimus spp_0027.jpg', 'category_id': 4.0, 'bbox': [838.7292175292969, 464.24720764160156, 184.58502197265625, 179.77743530273438]}, {'id': 198, 'file_name': 'Hymenolepis diminuta_0052.jpg', 'category_id': 2.0, 'bbox': [1327.2196044921875, 1864.9718627929688, 325.201171875, 339.6461181640625]}, {'id': 199, 'file_name': 'Hymenolepis diminuta_0927.jpg', 'category_id': 2.0, 'bbox': [542.3879699707031, 356.61036682128906, 273.81512451171875, 261.6940612792969]}]}\n"
      ]
    }
  ],
  "metadata": {
    "accelerator": "GPU",
    "colab": {
      "gpuType": "T4",
      "provenance": []
    },
    "kernelspec": {
      "display_name": "Python 3",
      "name": "python3"
    },
    "language_info": {
      "codemirror_mode": {
        "name": "ipython",
        "version": 3
      },
      "file_extension": ".py",
      "mimetype": "text/x-python",
      "name": "python",
      "nbconvert_exporter": "python",
      "pygments_lexer": "ipython3",
      "version": "3.11.8"
    }
  },
  "nbformat": 4,
  "nbformat_minor": 0
}
