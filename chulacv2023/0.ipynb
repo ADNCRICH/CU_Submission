{
 "cells": [
  {
   "cell_type": "code",
   "execution_count": 1,
   "metadata": {},
   "outputs": [],
   "source": [
    "import numpy as np\n",
    "import timeit"
   ]
  },
  {
   "cell_type": "code",
   "execution_count": 2,
   "metadata": {},
   "outputs": [
    {
     "name": "stdout",
     "output_type": "stream",
     "text": [
      "[[ 2  6]\n",
      " [ 8 10]]\n",
      "[False False  True False False False  True False  True False  True]\n",
      "[ 2  6  8 10 11 12]\n",
      "[2 6]\n"
     ]
    }
   ],
   "source": [
    "a1 = np.array([0, 0, 1, 1, 1, 1, 0, 0, 1, 1])\n",
    "# a1 = np.zeros(10)\n",
    "idx_pairs = np.where(np.diff(np.hstack(([False],a1==1,[False]))))[0].reshape(-1,2)\n",
    "k = np.diff(np.hstack(([False],a1==1,[False])))\n",
    "kk = np.where(np.diff(np.hstack(([False],a1==1,[False],[True],[False]))))[0]\n",
    "start_longest_seq = idx_pairs[np.diff(idx_pairs,axis=1).argmax()]\n",
    "print(idx_pairs)\n",
    "print(k)\n",
    "print(kk)\n",
    "print(start_longest_seq)"
   ]
  },
  {
   "cell_type": "code",
   "execution_count": 3,
   "metadata": {},
   "outputs": [
    {
     "name": "stdout",
     "output_type": "stream",
     "text": [
      "(100, 10000)\n"
     ]
    }
   ],
   "source": [
    "arr = np.array([[0, 0, 1, 1, 0, 0, 1, 1, 1, 1]*1000 for i in range(100)])\n",
    "print(arr.shape)"
   ]
  },
  {
   "cell_type": "code",
   "execution_count": 4,
   "metadata": {},
   "outputs": [
    {
     "name": "stdout",
     "output_type": "stream",
     "text": [
      "Time:  0.004708399996161461\n"
     ]
    }
   ],
   "source": [
    "# arr = np.array([[0, 0, 1, 1, 0, 0, 1, 1, 1, 1],[0, 0, 1, 1, 1, 1, 1, 1, 1, 1],[0, 0, 1, 1, 1, 1, 1, 1, 1, 1],[0, 0, 1, 1, 1, 1, 1, 1, 1, 1], [0,0,0,0,0,0,0,0,0,0]])\n",
    "start = timeit.default_timer()\n",
    "# arr = np.concatenate([arr, np.array([[0, 0, 0, 0, 1, 1, 1, 0, 0, 0],[0, 0, 0, 0, 1, 1, 1, 0, 0, 0]])])\n",
    "a1 = np.array(arr) == 1\n",
    "d = np.diff(np.concatenate([np.repeat(np.array([False])[np.newaxis, :], a1.shape[0], axis=0), a1, np.repeat(np.array([False, True, False])[np.newaxis, :], a1.shape[0], axis=0)], axis=1))\n",
    "\n",
    "a = np.full((a1.shape[0], 2), np.nan)\n",
    "for i in range(a1.shape[0]):\n",
    "    aa = np.where(d[i])[0]\n",
    "    aa = aa[~(aa > a1.shape[1])].reshape(-1, 2)\n",
    "    if aa.size == 0:\n",
    "        continue\n",
    "    aa2 = np.diff(aa, axis=1).reshape(-1).argmax()\n",
    "    a[i] = aa[aa2]\n",
    "uni = np.unique(a[~np.isnan(a).any(axis=1)], axis=0, return_counts=True)\n",
    "ans = uni[0][uni[1] > 1]\n",
    "ch = 0\n",
    "key = 0\n",
    "for i in range(a.shape[0]-1,-1,-1):\n",
    "    if a[i] in ans:\n",
    "        if ch == 0:\n",
    "            key = i\n",
    "            ch = 1\n",
    "        elif a[i][0] != a[key][0] or a[i][1] != a[key][1]:\n",
    "            continue\n",
    "        arr[i] = np.zeros(arr.shape[1])\n",
    "    # print(i)\n",
    "stop = timeit.default_timer()\n",
    "print('Time: ', stop - start)\n",
    "# a1 = np.zeros(10)\n",
    "# idx_pairs = np.where(np.diff(np.hstack(([False],a1==1,[False]))))[0].reshape(-1,2)\n",
    "# k = np.diff(np.hstack(([False],a1==1,[False])))\n",
    "# kk = np.where(np.diff(np.hstack(([False],a1==1,[False],[True],[False]))))[0]\n",
    "# kk = kk[~kk>=a1.shape[1]]\n",
    "# start_longest_seq = idx_pairs[np.diff(idx_pairs,axis=1).argmax()]\n",
    "# print(idx_pairs)\n",
    "# print(k)\n",
    "# print(kk)\n",
    "# print(start_longest_seq)"
   ]
  },
  {
   "cell_type": "code",
   "execution_count": 5,
   "metadata": {},
   "outputs": [
    {
     "name": "stdout",
     "output_type": "stream",
     "text": [
      "Time:  0.15099579998059198\n"
     ]
    }
   ],
   "source": [
    "start = timeit.default_timer()\n",
    "a = arr\n",
    "ans = []\n",
    "for i in range(len(a)):\n",
    "    aa = []\n",
    "    ch = 0\n",
    "    a[i] = a[i] + [0]\n",
    "    for j in range(len(a[i])):\n",
    "        if a[i][j] == 1:\n",
    "            if ch == 0:\n",
    "                ch = 1\n",
    "                aa.append(j)\n",
    "        else:\n",
    "            if ch == 1:\n",
    "                ch = 0\n",
    "                aa.append(j)\n",
    "    ans.append(aa)\n",
    "\n",
    "stop = timeit.default_timer()\n",
    "print('Time: ', stop - start)\n"
   ]
  }
 ],
 "metadata": {
  "kernelspec": {
   "display_name": "Python 3",
   "language": "python",
   "name": "python3"
  },
  "language_info": {
   "codemirror_mode": {
    "name": "ipython",
    "version": 3
   },
   "file_extension": ".py",
   "mimetype": "text/x-python",
   "name": "python",
   "nbconvert_exporter": "python",
   "pygments_lexer": "ipython3",
   "version": "3.11.4"
  }
 },
 "nbformat": 4,
 "nbformat_minor": 2
}
